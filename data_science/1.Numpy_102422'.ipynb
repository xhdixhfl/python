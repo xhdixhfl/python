{
 "cells": [
  {
   "cell_type": "markdown",
   "id": "6be7f903",
   "metadata": {},
   "source": [
    "# 넘파이(Numpy) 배열 프로그래밍\n",
    "\n"
   ]
  },
  {
   "cell_type": "markdown",
   "id": "7693e779",
   "metadata": {},
   "source": [
    "## 넘파이 배열\n",
    "- Array(배열)): 동일한 자료형을 순서대로 저장하여 처리하는 자료구조\n",
    "- 파이썬  자료형 : List[ ], Tuple( ), set{ }, Dict{key:value}\n",
    "- 넘파이 자료구조: 다차원 배열 자료구조 클래스 ndarray\n",
    "벡터 행렬, 다양한 통계분석등에 이용함 넘파이는 반복문 없이 반복처리가 가능해서 속도가 엄청 빠른 벡터화 연산을 수행할 수 있게 해줌"
   ]
  },
  {
   "cell_type": "code",
   "execution_count": 5,
   "id": "c2623722",
   "metadata": {},
   "outputs": [
    {
     "name": "stdout",
     "output_type": "stream",
     "text": [
      "[1, 4, 9, 16, 25]\n"
     ]
    }
   ],
   "source": [
    "# 파이썬 리스트\n",
    "a = [1,2,3,4,5]\n",
    "b = [1,2,3,4,5]\n",
    "c = [] # 비어 있는 리스트 객체\n",
    "# for 개별변수 in 집합변수\n",
    "for i in range(len(a)):  # range(5) : 01,2,3,4\n",
    "    c.append(a[i]*b[i])\n",
    "    \n",
    "print(c)"
   ]
  },
  {
   "cell_type": "code",
   "execution_count": 2,
   "id": "9fbb92d8",
   "metadata": {},
   "outputs": [
    {
     "ename": "TypeError",
     "evalue": "can't multiply sequence by non-int of type 'list'",
     "output_type": "error",
     "traceback": [
      "\u001b[1;31m---------------------------------------------------------------------------\u001b[0m",
      "\u001b[1;31mTypeError\u001b[0m                                 Traceback (most recent call last)",
      "\u001b[1;32m~\\AppData\\Local\\Temp/ipykernel_7900/1584373622.py\u001b[0m in \u001b[0;36m<module>\u001b[1;34m\u001b[0m\n\u001b[1;32m----> 1\u001b[1;33m \u001b[0mc\u001b[0m \u001b[1;33m=\u001b[0m \u001b[0ma\u001b[0m \u001b[1;33m*\u001b[0m \u001b[0mb\u001b[0m\u001b[1;33m\u001b[0m\u001b[1;33m\u001b[0m\u001b[0m\n\u001b[0m\u001b[0;32m      2\u001b[0m \u001b[0mc\u001b[0m\u001b[1;33m\u001b[0m\u001b[1;33m\u001b[0m\u001b[0m\n",
      "\u001b[1;31mTypeError\u001b[0m: can't multiply sequence by non-int of type 'list'"
     ]
    }
   ],
   "source": [
    "# 파이썬의 경우 실행 에러, 파이썬은 배열연산 지원 X\n",
    "c = a * b\n",
    "c"
   ]
  },
  {
   "cell_type": "markdown",
   "id": "f5313df5",
   "metadata": {},
   "source": [
    "# 넘파이 패키지 import"
   ]
  },
  {
   "cell_type": "code",
   "execution_count": 4,
   "id": "6e02936f",
   "metadata": {},
   "outputs": [],
   "source": [
    "# 넘파이는 기본 패키지가 아니라서 임폴트 해줘야함\n",
    "import numpy as np"
   ]
  },
  {
   "cell_type": "code",
   "execution_count": 4,
   "id": "d4a029bb",
   "metadata": {},
   "outputs": [
    {
     "data": {
      "text/plain": [
       "'1.20.3'"
      ]
     },
     "execution_count": 4,
     "metadata": {},
     "output_type": "execute_result"
    }
   ],
   "source": [
    "# 넘파이 라이브러리의 버전확인\n",
    "## 버전에 따라 지원안해주는 것도 있기 때문에 확인해보기\n",
    "np.__version__"
   ]
  },
  {
   "cell_type": "code",
   "execution_count": 5,
   "id": "0ee1aa8c",
   "metadata": {},
   "outputs": [
    {
     "data": {
      "text/plain": [
       "array([ 1,  4,  9, 16, 25])"
      ]
     },
     "execution_count": 5,
     "metadata": {},
     "output_type": "execute_result"
    }
   ],
   "source": [
    "x = np.array(a)\n",
    "y = np.array(b)\n",
    "x * y"
   ]
  },
  {
   "cell_type": "markdown",
   "id": "e21d65a1",
   "metadata": {},
   "source": []
  },
  {
   "cell_type": "markdown",
   "id": "6b59eba8",
   "metadata": {},
   "source": [
    "## 파이썬 1차원 배열(list)로 Numpy 배열 생성하는 방법"
   ]
  },
  {
   "cell_type": "code",
   "execution_count": 80,
   "id": "0d014c02",
   "metadata": {},
   "outputs": [],
   "source": [
    "arr = [1,2,3]\n",
    "a= np.array(arr)\n",
    "# np.array([1,2,3,])"
   ]
  },
  {
   "cell_type": "code",
   "execution_count": 81,
   "id": "433c3cdd",
   "metadata": {},
   "outputs": [
    {
     "name": "stdout",
     "output_type": "stream",
     "text": [
      "type: <class 'numpy.ndarray'>\n",
      "shape: (3,), dimension: 1, dtype: int32\n",
      "Array's Data: \n",
      " [1 2 3]\n"
     ]
    }
   ],
   "source": [
    "pprint(a)"
   ]
  },
  {
   "cell_type": "code",
   "execution_count": 79,
   "id": "b9cc12b0",
   "metadata": {},
   "outputs": [],
   "source": [
    "from makeFunctions import * "
   ]
  },
  {
   "cell_type": "markdown",
   "id": "4e3c5f52",
   "metadata": {},
   "source": [
    "## 파이썬 2차원 배열로 Numpy 배열 생성, 원소 데이터 타입 지정"
   ]
  },
  {
   "cell_type": "code",
   "execution_count": 10,
   "id": "215bf22e",
   "metadata": {},
   "outputs": [],
   "source": [
    "arr = [[1,2,3], [4,5,6]]\n",
    "arr2 = [(1,2,3), (4,5,6)]\n",
    "b = np.array(arr, dtype = float)"
   ]
  },
  {
   "cell_type": "code",
   "execution_count": 13,
   "id": "2aa2d287",
   "metadata": {},
   "outputs": [
    {
     "name": "stdout",
     "output_type": "stream",
     "text": [
      "type: <class 'numpy.ndarray'>\n",
      "shape: (2, 3), dimension: 2, dtype: float64\n",
      "Array's Data: \n",
      " [[1. 2. 3.]\n",
      " [4. 5. 6.]]\n"
     ]
    }
   ],
   "source": [
    "pprint(b)"
   ]
  },
  {
   "cell_type": "markdown",
   "id": "e10acc2b",
   "metadata": {},
   "source": [
    "## 파이썬 3차원 배열로 Numpy 배열 생성, 원소 데이터 타입 지정"
   ]
  },
  {
   "cell_type": "code",
   "execution_count": 14,
   "id": "a868e18d",
   "metadata": {},
   "outputs": [],
   "source": [
    "arr = np.array([[[1,2,3], [4,5,6]],[[3,2,1],[4,5,6]]], dtype=float)"
   ]
  },
  {
   "cell_type": "code",
   "execution_count": 15,
   "id": "df4eee89",
   "metadata": {},
   "outputs": [
    {
     "name": "stdout",
     "output_type": "stream",
     "text": [
      "type: <class 'numpy.ndarray'>\n",
      "shape: (2, 2, 3), dimension: 3, dtype: float64\n",
      "Array's Data: \n",
      " [[[1. 2. 3.]\n",
      "  [4. 5. 6.]]\n",
      "\n",
      " [[3. 2. 1.]\n",
      "  [4. 5. 6.]]]\n"
     ]
    }
   ],
   "source": [
    "pprint(arr)\n",
    "# shape(page,row,col) - 차원 tuple로 값이 담김"
   ]
  },
  {
   "cell_type": "markdown",
   "id": "fd0e7562",
   "metadata": {},
   "source": [
    "# 기본 함수"
   ]
  },
  {
   "cell_type": "markdown",
   "id": "33faccc7",
   "metadata": {},
   "source": [
    "### np.zeros(shape, dtype = float, order = 'C')\n",
    "- 지정된 shape의 배열을 생성하고, 모든 요소를 0으로 초기화"
   ]
  },
  {
   "cell_type": "code",
   "execution_count": 16,
   "id": "a5f7aa4d",
   "metadata": {},
   "outputs": [
    {
     "name": "stdout",
     "output_type": "stream",
     "text": [
      "type: <class 'numpy.ndarray'>\n",
      "shape: (3, 4), dimension: 2, dtype: float64\n",
      "Array's Data: \n",
      " [[0. 0. 0. 0.]\n",
      " [0. 0. 0. 0.]\n",
      " [0. 0. 0. 0.]]\n"
     ]
    }
   ],
   "source": [
    "a = np.zeros((3,4))\n",
    "pprint(a)"
   ]
  },
  {
   "cell_type": "markdown",
   "id": "5adaca3d",
   "metadata": {},
   "source": [
    "### np.ones(shape,dtype=None, order='C')\n",
    "- 지정된 shape의 배열을 생성하고, 모든 요소를 1로 초기화하는 함수"
   ]
  },
  {
   "cell_type": "code",
   "execution_count": 17,
   "id": "0657247f",
   "metadata": {},
   "outputs": [
    {
     "name": "stdout",
     "output_type": "stream",
     "text": [
      "type: <class 'numpy.ndarray'>\n",
      "shape: (2, 3, 4), dimension: 3, dtype: int16\n",
      "Array's Data: \n",
      " [[[1 1 1 1]\n",
      "  [1 1 1 1]\n",
      "  [1 1 1 1]]\n",
      "\n",
      " [[1 1 1 1]\n",
      "  [1 1 1 1]\n",
      "  [1 1 1 1]]]\n"
     ]
    }
   ],
   "source": [
    "a = np.ones((2,3,4), dtype = np.int16)\n",
    "pprint(a)"
   ]
  },
  {
   "cell_type": "markdown",
   "id": "7e5053e4",
   "metadata": {},
   "source": [
    "### np.full(shape, fill_value, dtype=None, order='C')\n",
    "- 지정된 shape의 배열을 생성하고, 모든 요소를 fill_value값으로 초기화하는 함수"
   ]
  },
  {
   "cell_type": "code",
   "execution_count": 18,
   "id": "a2210623",
   "metadata": {},
   "outputs": [
    {
     "name": "stdout",
     "output_type": "stream",
     "text": [
      "type: <class 'numpy.ndarray'>\n",
      "shape: (2, 2), dimension: 2, dtype: int32\n",
      "Array's Data: \n",
      " [[7 7]\n",
      " [7 7]]\n"
     ]
    }
   ],
   "source": [
    "a = np.full((2,2), 7)\n",
    "pprint(a)"
   ]
  },
  {
   "cell_type": "markdown",
   "id": "7d983e60",
   "metadata": {},
   "source": [
    "### np.eye(N, M=None, k=0, dtype=float)\n",
    "- (N, N): Shape의 단위행렬을 생성(대각선으로 같은 값을 가지는 행렬)\n",
    "- k = 숫자가 시작되는 위치 defalt=0 0,0부터 위치가 시작"
   ]
  },
  {
   "cell_type": "code",
   "execution_count": 19,
   "id": "f85e77da",
   "metadata": {},
   "outputs": [
    {
     "data": {
      "text/plain": [
       "array([[1., 0., 0., 0.],\n",
       "       [0., 1., 0., 0.],\n",
       "       [0., 0., 1., 0.],\n",
       "       [0., 0., 0., 1.]])"
      ]
     },
     "execution_count": 19,
     "metadata": {},
     "output_type": "execute_result"
    }
   ],
   "source": [
    "np.eye(4)"
   ]
  },
  {
   "cell_type": "markdown",
   "id": "32d908dc",
   "metadata": {},
   "source": [
    "### np.empty(shape, dtype=float, order='C')\n",
    "- 지정된 shape의 배열 생성\n",
    "- 요소의 초기화과정이 없고, 기존 메모리값을 그대로 사용\n",
    "- 배영 생성비용이 가장 저렵하고 빠름.(메모리를 재사용)"
   ]
  },
  {
   "cell_type": "code",
   "execution_count": 20,
   "id": "a66b4537",
   "metadata": {},
   "outputs": [
    {
     "name": "stdout",
     "output_type": "stream",
     "text": [
      "type: <class 'numpy.ndarray'>\n",
      "shape: (4, 2), dimension: 2, dtype: float64\n",
      "Array's Data: \n",
      " [[0.00000000e+000 0.00000000e+000]\n",
      " [0.00000000e+000 0.00000000e+000]\n",
      " [0.00000000e+000 7.60861095e-321]\n",
      " [1.11261027e-306 2.22522596e-306]]\n"
     ]
    }
   ],
   "source": [
    "a = np.empty((4,2))\n",
    "pprint(a)"
   ]
  },
  {
   "cell_type": "markdown",
   "id": "cdbecc55",
   "metadata": {},
   "source": [
    "### like 함수, ~처럼, ~와 같은\n",
    "- 지정된 배열과 shape이 같은 배열을 만드는 함수\n",
    "- np.zeros_like(기존에 만든 배열)\n",
    "- np.ones_like(기존에 만든 배열)\n",
    "- np.full_like(기존에 만든 배열)\n",
    "- np.empty_like(기존에 만든 배열)"
   ]
  },
  {
   "cell_type": "code",
   "execution_count": 21,
   "id": "87d6d2ae",
   "metadata": {},
   "outputs": [
    {
     "name": "stdout",
     "output_type": "stream",
     "text": [
      "type: <class 'numpy.ndarray'>\n",
      "shape: (2, 3), dimension: 2, dtype: int32\n",
      "Array's Data: \n",
      " [[1 1 1]\n",
      " [1 1 1]]\n"
     ]
    }
   ],
   "source": [
    "a = np.array([[1,2,3],[4,5,6]])\n",
    "b = np.ones_like(a) # a의 shape을 가져오겠당\n",
    "pprint(b)"
   ]
  },
  {
   "cell_type": "markdown",
   "id": "aae7ea36",
   "metadata": {},
   "source": [
    "### 난수 발생\n",
    "- 난수(random number): 파이썬 이용하여 무작위로 섞거나 임의의 수\n",
    "- 시드(seed): 0이거나 0보다 큰 정수를 취한다."
   ]
  },
  {
   "cell_type": "code",
   "execution_count": 37,
   "id": "392c70a3",
   "metadata": {},
   "outputs": [],
   "source": [
    "# seed 설정\n",
    "np.random.seed(0)"
   ]
  },
  {
   "cell_type": "code",
   "execution_count": 38,
   "id": "5392f317",
   "metadata": {},
   "outputs": [
    {
     "data": {
      "text/plain": [
       "array([0.5488135 , 0.71518937, 0.60276338, 0.54488318, 0.4236548 ])"
      ]
     },
     "execution_count": 38,
     "metadata": {},
     "output_type": "execute_result"
    }
   ],
   "source": [
    "# rand: 0~1 사이의 난수를 발생시키는 함수\n",
    "np.random.rand(5)"
   ]
  },
  {
   "cell_type": "code",
   "execution_count": 39,
   "id": "6844957a",
   "metadata": {},
   "outputs": [
    {
     "data": {
      "text/plain": [
       "array([0.64589411, 0.43758721, 0.891773  , 0.96366276, 0.38344152,\n",
       "       0.79172504, 0.52889492, 0.56804456, 0.92559664, 0.07103606])"
      ]
     },
     "execution_count": 39,
     "metadata": {},
     "output_type": "execute_result"
    }
   ],
   "source": [
    "np.random.rand(10)"
   ]
  },
  {
   "cell_type": "code",
   "execution_count": 40,
   "id": "ae4bc2d1",
   "metadata": {},
   "outputs": [
    {
     "data": {
      "text/plain": [
       "array([0.0871293 , 0.0202184 , 0.83261985, 0.77815675, 0.87001215,\n",
       "       0.97861834, 0.79915856, 0.46147936, 0.78052918, 0.11827443])"
      ]
     },
     "execution_count": 40,
     "metadata": {},
     "output_type": "execute_result"
    }
   ],
   "source": [
    "np.random.rand(10)\n",
    "# 이렇게 해도 예측할 수 없는 숫자들이 생성됨"
   ]
  },
  {
   "cell_type": "code",
   "execution_count": 33,
   "id": "57db11a2",
   "metadata": {},
   "outputs": [],
   "source": [
    "np.random.seed(0) \n",
    "# 랜덤수를 제안하는 설정으로 실행후 난수를 만들게 되면 \n",
    "# 앞서 만들어진 랜덤수와 같은 난수가 생성된다."
   ]
  },
  {
   "cell_type": "code",
   "execution_count": 35,
   "id": "cdf00258",
   "metadata": {},
   "outputs": [
    {
     "data": {
      "text/plain": [
       "array([0.5488135 , 0.71518937, 0.60276338, 0.54488318, 0.4236548 ])"
      ]
     },
     "execution_count": 35,
     "metadata": {},
     "output_type": "execute_result"
    }
   ],
   "source": [
    "np.random.rand(5)"
   ]
  },
  {
   "cell_type": "code",
   "execution_count": 36,
   "id": "0213f356",
   "metadata": {},
   "outputs": [
    {
     "data": {
      "text/plain": [
       "array([0.64589411, 0.43758721, 0.891773  , 0.96366276, 0.38344152,\n",
       "       0.79172504, 0.52889492, 0.56804456, 0.92559664, 0.07103606])"
      ]
     },
     "execution_count": 36,
     "metadata": {},
     "output_type": "execute_result"
    }
   ],
   "source": [
    "np.random.rand(10)"
   ]
  },
  {
   "cell_type": "markdown",
   "id": "0e04e706",
   "metadata": {},
   "source": [
    "#### 데이터의 순서 변경: shuffle"
   ]
  },
  {
   "cell_type": "code",
   "execution_count": 44,
   "id": "a5261d67",
   "metadata": {},
   "outputs": [
    {
     "data": {
      "text/plain": [
       "array([0, 1, 2, 3, 4, 5, 6, 7, 8, 9])"
      ]
     },
     "execution_count": 44,
     "metadata": {},
     "output_type": "execute_result"
    }
   ],
   "source": [
    "x = np.arange(10) # python의 range함수와 비슷\n",
    "x"
   ]
  },
  {
   "cell_type": "code",
   "execution_count": 45,
   "id": "55226d34",
   "metadata": {},
   "outputs": [
    {
     "data": {
      "text/plain": [
       "array([3, 6, 4, 5, 2, 9, 7, 8, 1, 0])"
      ]
     },
     "execution_count": 45,
     "metadata": {},
     "output_type": "execute_result"
    }
   ],
   "source": [
    "np.random.shuffle(x)\n",
    "x"
   ]
  },
  {
   "cell_type": "markdown",
   "id": "b5189fc9",
   "metadata": {},
   "source": [
    "#### 데이터의 샘플링: choice\n",
    "- np.random.choice(data, size=None, replace=True, p=None)\n",
    "- data: 원본데이터, arange(data)\n",
    "- size: 샘플 수\n",
    "- replace: True, 한 번 선택한 데이터를 다시 선택 가능\n",
    "- p: 각 데이터가 선택될수 있는 확률\n",
    "- 셔플과 유사하게 사용될 수 있다."
   ]
  },
  {
   "cell_type": "code",
   "execution_count": 46,
   "id": "18ef6b37",
   "metadata": {},
   "outputs": [
    {
     "data": {
      "text/plain": [
       "array([1, 4, 0, 3, 2])"
      ]
     },
     "execution_count": 46,
     "metadata": {},
     "output_type": "execute_result"
    }
   ],
   "source": [
    "np.random.choice(5, 5, replace = False)# 셔플과 명령이 같다"
   ]
  },
  {
   "cell_type": "code",
   "execution_count": 47,
   "id": "c55eb934",
   "metadata": {},
   "outputs": [
    {
     "data": {
      "text/plain": [
       "array([2, 1, 3])"
      ]
     },
     "execution_count": 47,
     "metadata": {},
     "output_type": "execute_result"
    }
   ],
   "source": [
    "np.random.choice(5,3, replace=False)"
   ]
  },
  {
   "cell_type": "code",
   "execution_count": 48,
   "id": "3ccf256c",
   "metadata": {},
   "outputs": [
    {
     "data": {
      "text/plain": [
       "array([0, 4, 1, 4, 1, 2, 2, 0, 1, 1])"
      ]
     },
     "execution_count": 48,
     "metadata": {},
     "output_type": "execute_result"
    }
   ],
   "source": [
    "np.random.choice(5,10)"
   ]
  },
  {
   "cell_type": "code",
   "execution_count": 50,
   "id": "b21374ae",
   "metadata": {},
   "outputs": [
    {
     "data": {
      "text/plain": [
       "array([0, 3, 3, 2, 2, 3, 3, 2, 0, 3])"
      ]
     },
     "execution_count": 50,
     "metadata": {},
     "output_type": "execute_result"
    }
   ],
   "source": [
    "np.random.choice(5,10, p=[0.1,0,0.3,0.6,0]) \n",
    "# p는 데이터의 수와 동일해야함. 리스트에 담아야함 // shape만 튜플로..."
   ]
  },
  {
   "cell_type": "markdown",
   "id": "784735a0",
   "metadata": {},
   "source": [
    "#### 난수 생성\n",
    "- rand: 0 ~ 1사이의 균일 분포\n",
    "- randn: 표준 정규 분포\n",
    "- randint: 균일 분포의 정수 난수\n",
    "- randint(low, high=None, size)"
   ]
  },
  {
   "cell_type": "code",
   "execution_count": 52,
   "id": "02870857",
   "metadata": {},
   "outputs": [
    {
     "data": {
      "text/plain": [
       "array([6, 4, 4, 3, 4, 4, 8, 4, 3, 7])"
      ]
     },
     "execution_count": 52,
     "metadata": {},
     "output_type": "execute_result"
    }
   ],
   "source": [
    "np.random.randint(10, size=10)"
   ]
  },
  {
   "cell_type": "code",
   "execution_count": 54,
   "id": "91fd382d",
   "metadata": {},
   "outputs": [
    {
     "data": {
      "text/plain": [
       "array([11, 12, 14, 12, 10, 13, 12, 10, 17, 15])"
      ]
     },
     "execution_count": 54,
     "metadata": {},
     "output_type": "execute_result"
    }
   ],
   "source": [
    "np.random.randint(10, 20, size=10) # 10보다 크거나 같고 20 보다 작은"
   ]
  },
  {
   "cell_type": "code",
   "execution_count": 55,
   "id": "24c2b922",
   "metadata": {},
   "outputs": [
    {
     "data": {
      "text/plain": [
       "array([[19, 10, 12, 17, 12],\n",
       "       [19, 12, 13, 13, 12],\n",
       "       [13, 14, 11, 12, 19]])"
      ]
     },
     "execution_count": 55,
     "metadata": {},
     "output_type": "execute_result"
    }
   ],
   "source": [
    "np.random.randint(10, 20, size=(3,5)) # size에 shape이 들어가기도 함."
   ]
  },
  {
   "cell_type": "markdown",
   "id": "a87b89ca",
   "metadata": {},
   "source": [
    "#### 정수데이터 카운팅\n",
    "- np.unique(data, return_counts=False)\n",
    "- return_counts옵션을 이용하면 중복값의 개수를 알려줌"
   ]
  },
  {
   "cell_type": "code",
   "execution_count": 56,
   "id": "595ac1ef",
   "metadata": {},
   "outputs": [
    {
     "data": {
      "text/plain": [
       "array([ 2, 11, 34])"
      ]
     },
     "execution_count": 56,
     "metadata": {},
     "output_type": "execute_result"
    }
   ],
   "source": [
    "np.unique([11,11,2,2,34,34])"
   ]
  },
  {
   "cell_type": "code",
   "execution_count": 61,
   "id": "9f6dd522",
   "metadata": {},
   "outputs": [],
   "source": [
    "a = np.array(['a','b','b','c','a'])\n",
    "index, count = np.unique(a, return_counts = True) # a의 중복값을 제거하고 제거한 값과 개수를 각각의 변수에 담음"
   ]
  },
  {
   "cell_type": "code",
   "execution_count": 59,
   "id": "4218e9c2",
   "metadata": {},
   "outputs": [
    {
     "data": {
      "text/plain": [
       "array(['a', 'b', 'c'], dtype='<U1')"
      ]
     },
     "execution_count": 59,
     "metadata": {},
     "output_type": "execute_result"
    }
   ],
   "source": [
    "index"
   ]
  },
  {
   "cell_type": "code",
   "execution_count": 60,
   "id": "7aa0294a",
   "metadata": {},
   "outputs": [
    {
     "data": {
      "text/plain": [
       "array([2, 2, 1], dtype=int64)"
      ]
     },
     "execution_count": 60,
     "metadata": {},
     "output_type": "execute_result"
    }
   ],
   "source": [
    "count"
   ]
  },
  {
   "cell_type": "markdown",
   "id": "666589d8",
   "metadata": {},
   "source": [
    "#### 데이터 생성 함수\n",
    "- Numpy는 주어진 조건으로 데이터를 생성한 후, 배열을 만드는 데이터 생성함수를 제공\n",
    "- np.linspace(start, stop, num=50, endpoint=True, retstep=False, dtype=None)\n",
    "- np.arange(start, stop, step) 전부 생략시 마지막 값.\n",
    "- np.logspace(start, stop, num=50): 로그값으로 만들어 내는거"
   ]
  },
  {
   "cell_type": "code",
   "execution_count": 63,
   "id": "818e4284",
   "metadata": {},
   "outputs": [
    {
     "name": "stdout",
     "output_type": "stream",
     "text": [
      "type: <class 'numpy.ndarray'>\n",
      "shape: (5,), dimension: 1, dtype: float64\n",
      "Array's Data: \n",
      " [0.   0.25 0.5  0.75 1.  ]\n"
     ]
    }
   ],
   "source": [
    "a = np.linspace(0,1,5) # 0 ~ 1 사이의 수 5개를 만듬\n",
    "pprint(a)"
   ]
  },
  {
   "cell_type": "code",
   "execution_count": 65,
   "id": "14c1a22e",
   "metadata": {},
   "outputs": [
    {
     "data": {
      "image/png": "[encoded data removed]",
      "text/plain": [
       "<Figure size 432x288 with 1 Axes>"
      ]
     },
     "metadata": {
      "needs_background": "light"
     },
     "output_type": "display_data"
    }
   ],
   "source": [
    "import matplotlib.pyplot as plt\n",
    "plt.plot(a, 'o')\n",
    "plt.show()"
   ]
  },
  {
   "cell_type": "code",
   "execution_count": 67,
   "id": "3069b464",
   "metadata": {},
   "outputs": [
    {
     "name": "stdout",
     "output_type": "stream",
     "text": [
      "type: <class 'numpy.ndarray'>\n",
      "shape: (5,), dimension: 1, dtype: float64\n",
      "Array's Data: \n",
      " [0.   0.25 0.5  0.75 1.  ]\n"
     ]
    }
   ],
   "source": [
    "np.arange(0,10,2, np.float64)\n",
    "pprint(a)"
   ]
  },
  {
   "cell_type": "code",
   "execution_count": 68,
   "id": "e18ff4f6",
   "metadata": {},
   "outputs": [
    {
     "name": "stdout",
     "output_type": "stream",
     "text": [
      "type: <class 'numpy.ndarray'>\n",
      "shape: (20,), dimension: 1, dtype: float64\n",
      "Array's Data: \n",
      " [ 1.25892541  1.40400425  1.565802    1.74624535  1.94748304  2.1719114\n",
      "  2.42220294  2.70133812  3.0126409   3.35981829  3.74700446  4.17881006\n",
      "  4.66037703  5.19743987  5.79639395  6.46437163  7.2093272   8.04013161\n",
      "  8.9666781  10.        ]\n"
     ]
    }
   ],
   "source": [
    "a=np.logspace(0.1,1,20)\n",
    "pprint(a)"
   ]
  },
  {
   "cell_type": "code",
   "execution_count": 69,
   "id": "db948990",
   "metadata": {},
   "outputs": [
    {
     "data": {
      "image/png": "[encoded data removed]",
      "text/plain": [
       "<Figure size 432x288 with 1 Axes>"
      ]
     },
     "metadata": {
      "needs_background": "light"
     },
     "output_type": "display_data"
    }
   ],
   "source": [
    "plt.plot(a, 'o')\n",
    "plt.show()"
   ]
  },
  {
   "cell_type": "markdown",
   "id": "2a04110e",
   "metadata": {},
   "source": [
    "#### 난수 기반 배열 생성\n",
    "- np.random.normal(loc = 0.0, scale = 1.0, size)\n",
    "- R에서는 mean으로 사용했지만, loc가 평균을 뜻함, scale(표준편차)\n",
    "- np.random.random()\n",
    "- np.random.rand()\n",
    "- np.random.randn()\n",
    "- np.random.randint()"
   ]
  },
  {
   "cell_type": "code",
   "execution_count": 71,
   "id": "acc8048c",
   "metadata": {},
   "outputs": [
    {
     "name": "stdout",
     "output_type": "stream",
     "text": [
      "type: <class 'numpy.ndarray'>\n",
      "shape: (2, 3), dimension: 2, dtype: float64\n",
      "Array's Data: \n",
      " [[-0.41611148 -1.07089699  0.22113881]\n",
      " [-1.12305712 -1.05075796  1.01207905]]\n"
     ]
    }
   ],
   "source": [
    "mean = 0\n",
    "std = 1\n",
    "a = np.random.normal(mean, std, (2,3))\n",
    "\n",
    "pprint(a) "
   ]
  },
  {
   "cell_type": "code",
   "execution_count": 72,
   "id": "d9856008",
   "metadata": {},
   "outputs": [
    {
     "data": {
      "image/png": "[encoded data removed]",
      "text/plain": [
       "<Figure size 432x288 with 1 Axes>"
      ]
     },
     "metadata": {
      "needs_background": "light"
     },
     "output_type": "display_data"
    }
   ],
   "source": [
    "data = np.random.normal(0,1,10000)\n",
    "plt.hist(data, bins = 100) # bins = 막대구간\n",
    "plt.show() # 정규 본포의 형태를 뜀"
   ]
  },
  {
   "cell_type": "code",
   "execution_count": 74,
   "id": "005e2b75",
   "metadata": {},
   "outputs": [
    {
     "data": {
      "image/png": "[encoded data removed]",
      "text/plain": [
       "<Figure size 432x288 with 1 Axes>"
      ]
     },
     "metadata": {
      "needs_background": "light"
     },
     "output_type": "display_data"
    }
   ],
   "source": [
    "data = np.random.rand(10000)\n",
    "plt.hist(data, bins=10) # hist 자체가 빈도표를 그리는 거\n",
    "plt.show()"
   ]
  },
  {
   "cell_type": "code",
   "execution_count": 75,
   "id": "e5ed0e70",
   "metadata": {},
   "outputs": [
    {
     "data": {
      "image/png": "[encoded data removed]",
      "text/plain": [
       "<Figure size 432x288 with 1 Axes>"
      ]
     },
     "metadata": {
      "needs_background": "light"
     },
     "output_type": "display_data"
    }
   ],
   "source": [
    "data = np.random.randn(10000)\n",
    "plt.hist(data, bins=10)\n",
    "plt.show()"
   ]
  },
  {
   "cell_type": "code",
   "execution_count": 76,
   "id": "34433070",
   "metadata": {},
   "outputs": [
    {
     "data": {
      "image/png": "[encoded data removed]",
      "text/plain": [
       "<Figure size 432x288 with 1 Axes>"
      ]
     },
     "metadata": {
      "needs_background": "light"
     },
     "output_type": "display_data"
    }
   ],
   "source": [
    "data = np.random.randint(-100,100,10000) # 범위 내에서 균등하게 추출\n",
    "plt.hist(data, bins=10)\n",
    "plt.show()"
   ]
  },
  {
   "cell_type": "code",
   "execution_count": 77,
   "id": "0a31a64c",
   "metadata": {},
   "outputs": [
    {
     "data": {
      "image/png": "[encoded data removed]",
      "text/plain": [
       "<Figure size 432x288 with 1 Axes>"
      ]
     },
     "metadata": {
      "needs_background": "light"
     },
     "output_type": "display_data"
    }
   ],
   "source": [
    "data = np.random.random(100000)\n",
    "plt.hist(data, bins=10)\n",
    "plt.show()"
   ]
  },
  {
   "cell_type": "markdown",
   "id": "d8d6922c",
   "metadata": {},
   "source": [
    "# Numpy 입출력"
   ]
  },
  {
   "cell_type": "markdown",
   "id": "a058919f",
   "metadata": {},
   "source": [
    "## 바이너리(Binary)\n",
    "- np.save(): Numpy배열 객체 1개를 파일에저장(확장자 :npy)\n",
    "- np.savez(): Numpy배열 객체 복수개를 파일에 저장(확장자 :npz)\n",
    "- np.load(): Numpy 배열 저장 파일로 부터 객체 로딩\n"
   ]
  },
  {
   "cell_type": "code",
   "execution_count": 5,
   "id": "8f2295d0",
   "metadata": {},
   "outputs": [
    {
     "name": "stdout",
     "output_type": "stream",
     "text": [
      "type: <class 'numpy.ndarray'>\n",
      "shape: (2, 3), dimension: 2, dtype: int32\n",
      "Array's Data: \n",
      " [[1 6 6]\n",
      " [4 1 4]]\n",
      "type: <class 'numpy.ndarray'>\n",
      "shape: (2, 3), dimension: 2, dtype: int32\n",
      "Array's Data: \n",
      " [[5 3 2]\n",
      " [4 0 9]]\n"
     ]
    }
   ],
   "source": [
    "a = np.random.randint(0,10,(2,3))\n",
    "b = np.random.randint(0,10,(2,3))\n",
    "\n",
    "pprint(a)\n",
    "pprint(b)"
   ]
  },
  {
   "cell_type": "code",
   "execution_count": 2,
   "id": "85f5f86a",
   "metadata": {},
   "outputs": [],
   "source": [
    "from makeFunctions import *"
   ]
  },
  {
   "cell_type": "markdown",
   "id": "7b9c00f3",
   "metadata": {},
   "source": [
    "## 텍스트(Text)\n",
    "- np.loadtxt(): 텍스트 파일로 부터 배열로딩\n",
    "- np.savetxt(): 텍스트 파일에 Numpy 배열 객체 저장\n",
    "\n",
    "### 1개 배열파일에 저장"
   ]
  },
  {
   "cell_type": "code",
   "execution_count": 6,
   "id": "bcf936d2",
   "metadata": {},
   "outputs": [],
   "source": [
    "## 바이너리 부분임\n",
    "np.save('my_array1',a) # 경로를 안적으면 현재 위치"
   ]
  },
  {
   "cell_type": "code",
   "execution_count": 10,
   "id": "134b52b0",
   "metadata": {},
   "outputs": [
    {
     "name": "stdout",
     "output_type": "stream",
     "text": [
      " C 드라이브의 볼륨에는 이름이 없습니다.\n",
      " 볼륨 일련 번호: 584C-163F\n",
      "\n",
      " C:\\k_digital\\Sourcce\\Data Sicence with python 디렉터리\n",
      "\n",
      "2022-10-24  오후 12:21    <DIR>          .\n",
      "2022-10-24  오후 12:21    <DIR>          ..\n",
      "2022-10-24  오전 09:24    <DIR>          .ipynb_checkpoints\n",
      "2022-10-24  오후 12:20            71,279 1.Numpy.ipynb\n",
      "2022-10-24  오전 10:24               179 makeFunctions.py\n",
      "2022-10-24  오후 12:18               152 my_array1.npy\n",
      "2022-10-24  오후 12:21               554 my_array2.npz\n",
      "2022-10-24  오전 11:59    <DIR>          __pycache__\n",
      "               4개 파일              72,164 바이트\n",
      "               4개 디렉터리  172,945,072,128 바이트 남음\n"
     ]
    }
   ],
   "source": [
    "# 주피터 안에서 command 명령( ! )\n",
    "!dir"
   ]
  },
  {
   "cell_type": "code",
   "execution_count": 11,
   "id": "1b905518",
   "metadata": {},
   "outputs": [],
   "source": [
    "np.savez('my_array2', a, b)"
   ]
  },
  {
   "cell_type": "code",
   "execution_count": 12,
   "id": "79448666",
   "metadata": {},
   "outputs": [
    {
     "data": {
      "text/plain": [
       "array([[1, 6, 6],\n",
       "       [4, 1, 4]])"
      ]
     },
     "execution_count": 12,
     "metadata": {},
     "output_type": "execute_result"
    }
   ],
   "source": [
    "np.load('my_array1.npy')"
   ]
  },
  {
   "cell_type": "code",
   "execution_count": 13,
   "id": "00a98fa1",
   "metadata": {},
   "outputs": [
    {
     "data": {
      "text/plain": [
       "<numpy.lib.npyio.NpzFile at 0x1ce4c4d7160>"
      ]
     },
     "execution_count": 13,
     "metadata": {},
     "output_type": "execute_result"
    }
   ],
   "source": [
    "np.load('my_array2.npz') # 값이 주소로 출력됨"
   ]
  },
  {
   "cell_type": "code",
   "execution_count": 14,
   "id": "9f4036c6",
   "metadata": {},
   "outputs": [
    {
     "data": {
      "text/plain": [
       "['arr_0', 'arr_1']"
      ]
     },
     "execution_count": 14,
     "metadata": {},
     "output_type": "execute_result"
    }
   ],
   "source": [
    "x = np.load('my_array2.npz') # 변수에 담고\n",
    "x.files # 파일의 위치를 보면 배열의 인덱스를 알려줘서"
   ]
  },
  {
   "cell_type": "code",
   "execution_count": 16,
   "id": "2bd79476",
   "metadata": {},
   "outputs": [
    {
     "data": {
      "text/plain": [
       "array([[1, 6, 6],\n",
       "       [4, 1, 4]])"
      ]
     },
     "execution_count": 16,
     "metadata": {},
     "output_type": "execute_result"
    }
   ],
   "source": [
    "x['arr_0'] # 해당값을 인덱스로 담으면 값을 출력할 수 있음"
   ]
  },
  {
   "cell_type": "markdown",
   "id": "ccf042fa",
   "metadata": {},
   "source": [
    "# Numpy 데이터 타입"
   ]
  },
  {
   "cell_type": "code",
   "execution_count": null,
   "id": "88fe9945",
   "metadata": {},
   "outputs": [],
   "source": []
  },
  {
   "cell_type": "markdown",
   "id": "53035d33",
   "metadata": {},
   "source": [
    "# inspecting: 배열상태검사"
   ]
  },
  {
   "cell_type": "code",
   "execution_count": 17,
   "id": "a16d7489",
   "metadata": {},
   "outputs": [],
   "source": [
    "arr = np.random.random((5,2,3)) # 실수값으로 저장"
   ]
  },
  {
   "cell_type": "code",
   "execution_count": 18,
   "id": "8a5404b1",
   "metadata": {},
   "outputs": [
    {
     "data": {
      "text/plain": [
       "numpy.ndarray"
      ]
     },
     "execution_count": 18,
     "metadata": {},
     "output_type": "execute_result"
    }
   ],
   "source": [
    "# 배열 타입: class() in R\n",
    "type(arr)"
   ]
  },
  {
   "cell_type": "code",
   "execution_count": 19,
   "id": "ef17accc",
   "metadata": {},
   "outputs": [
    {
     "data": {
      "text/plain": [
       "(5, 2, 3)"
      ]
     },
     "execution_count": 19,
     "metadata": {},
     "output_type": "execute_result"
    }
   ],
   "source": [
    "# 배열의 shape확인, 함수가 아니라 변수이기 때문에 사용주의\n",
    "arr.shape"
   ]
  },
  {
   "cell_type": "code",
   "execution_count": 20,
   "id": "fedeee8b",
   "metadata": {},
   "outputs": [
    {
     "data": {
      "text/plain": [
       "5"
      ]
     },
     "execution_count": 20,
     "metadata": {},
     "output_type": "execute_result"
    }
   ],
   "source": [
    "# 배열의 길이: len()\n",
    "len(arr) # 실제 저장위치는 맨 뒤 5면 2행 3열 짜리니깐 5값이 나오고 면의 길이를 물으면 2(행열크기)"
   ]
  },
  {
   "cell_type": "code",
   "execution_count": 21,
   "id": "bc605d0a",
   "metadata": {},
   "outputs": [
    {
     "data": {
      "text/plain": [
       "3"
      ]
     },
     "execution_count": 21,
     "metadata": {},
     "output_type": "execute_result"
    }
   ],
   "source": [
    "# 배열의 차원 수, 변수(속성)\n",
    "arr.ndim"
   ]
  },
  {
   "cell_type": "code",
   "execution_count": 22,
   "id": "473e0b03",
   "metadata": {},
   "outputs": [
    {
     "data": {
      "text/plain": [
       "30"
      ]
     },
     "execution_count": 22,
     "metadata": {},
     "output_type": "execute_result"
    }
   ],
   "source": [
    "# 배열의 요소 수: shape(k,m,n) = k * m * n\n",
    "arr.size"
   ]
  },
  {
   "cell_type": "code",
   "execution_count": 23,
   "id": "e4ad413b",
   "metadata": {},
   "outputs": [
    {
     "data": {
      "text/plain": [
       "dtype('float64')"
      ]
     },
     "execution_count": 23,
     "metadata": {},
     "output_type": "execute_result"
    }
   ],
   "source": [
    "# 배열의 데이터 타입, 변수\n",
    "arr.dtype"
   ]
  },
  {
   "cell_type": "code",
   "execution_count": 24,
   "id": "3a9503e8",
   "metadata": {},
   "outputs": [
    {
     "data": {
      "text/plain": [
       "'float64'"
      ]
     },
     "execution_count": 24,
     "metadata": {},
     "output_type": "execute_result"
    }
   ],
   "source": [
    "arr.dtype.name  # 값만 읽고싶을 때"
   ]
  },
  {
   "cell_type": "code",
   "execution_count": 26,
   "id": "464b584a",
   "metadata": {},
   "outputs": [
    {
     "data": {
      "text/plain": [
       "array([[[0, 0, 0],\n",
       "        [0, 0, 0]],\n",
       "\n",
       "       [[0, 0, 0],\n",
       "        [0, 0, 0]],\n",
       "\n",
       "       [[0, 0, 0],\n",
       "        [0, 0, 0]],\n",
       "\n",
       "       [[0, 0, 0],\n",
       "        [0, 0, 0]],\n",
       "\n",
       "       [[0, 0, 0],\n",
       "        [0, 0, 0]]], dtype=int64)"
      ]
     },
     "execution_count": 26,
     "metadata": {},
     "output_type": "execute_result"
    }
   ],
   "source": [
    "arr.astype(np.int64) # 64가 비트임?"
   ]
  },
  {
   "cell_type": "code",
   "execution_count": 27,
   "id": "8799005d",
   "metadata": {},
   "outputs": [
    {
     "data": {
      "text/plain": [
       "array([[[0.05776303, 0.30509191, 0.66872323],\n",
       "        [0.27660789, 0.32719674, 0.76009424]],\n",
       "\n",
       "       [[0.33901631, 0.73475368, 0.91286413],\n",
       "        [0.04796011, 0.97085097, 0.93637481]],\n",
       "\n",
       "       [[0.40442095, 0.12399038, 0.77901216],\n",
       "        [0.50667192, 0.35667415, 0.54376739]],\n",
       "\n",
       "       [[0.2311609 , 0.03942819, 0.84344662],\n",
       "        [0.38767958, 0.73646411, 0.28948974]],\n",
       "\n",
       "       [[0.16153446, 0.8723292 , 0.97002601],\n",
       "        [0.28711068, 0.27324586, 0.23821939]]])"
      ]
     },
     "execution_count": 27,
     "metadata": {},
     "output_type": "execute_result"
    }
   ],
   "source": [
    "arr.astype(np.float64)"
   ]
  },
  {
   "cell_type": "markdown",
   "id": "45a10474",
   "metadata": {},
   "source": [
    "# 도움말"
   ]
  },
  {
   "cell_type": "code",
   "execution_count": 28,
   "id": "4ed28843",
   "metadata": {},
   "outputs": [
    {
     "name": "stdout",
     "output_type": "stream",
     "text": [
      "Data-type of the array's elements.\n",
      "\n",
      "Parameters\n",
      "----------\n",
      "None\n",
      "\n",
      "Returns\n",
      "-------\n",
      "d : numpy dtype object\n",
      "\n",
      "See Also\n",
      "--------\n",
      "numpy.dtype\n",
      "\n",
      "Examples\n",
      "--------\n",
      ">>> x\n",
      "array([[0, 1],\n",
      "       [2, 3]])\n",
      ">>> x.dtype\n",
      "dtype('int32')\n",
      ">>> type(x.dtype)\n",
      "<type 'numpy.dtype'>\n"
     ]
    }
   ],
   "source": [
    "np.info(np.ndarray.dtype)"
   ]
  },
  {
   "cell_type": "markdown",
   "id": "26b68f77",
   "metadata": {},
   "source": [
    "# 배열 연산"
   ]
  },
  {
   "cell_type": "code",
   "execution_count": 29,
   "id": "1f51cd81",
   "metadata": {},
   "outputs": [
    {
     "name": "stdout",
     "output_type": "stream",
     "text": [
      "type: <class 'numpy.ndarray'>\n",
      "shape: (3, 3), dimension: 2, dtype: int32\n",
      "Array's Data: \n",
      " [[1 2 3]\n",
      " [4 5 6]\n",
      " [7 8 9]]\n"
     ]
    }
   ],
   "source": [
    "# arange(1,10): 1부터 10미만의 범위에서 1씩 증가하는 배열생성\n",
    "a = np.arange(1,10).reshape(3,3)\n",
    "pprint(a)"
   ]
  },
  {
   "cell_type": "code",
   "execution_count": 30,
   "id": "71b27f1a",
   "metadata": {},
   "outputs": [
    {
     "name": "stdout",
     "output_type": "stream",
     "text": [
      "[[9 8 7]\n",
      " [6 5 4]\n",
      " [3 2 1]]\n"
     ]
    }
   ],
   "source": [
    "b = np.arange(9,0,-1).reshape(3,3)\n",
    "print(b)"
   ]
  },
  {
   "cell_type": "code",
   "execution_count": 31,
   "id": "58c5f13c",
   "metadata": {
    "scrolled": true
   },
   "outputs": [
    {
     "data": {
      "text/plain": [
       "array([[10, 10, 10],\n",
       "       [10, 10, 10],\n",
       "       [10, 10, 10]])"
      ]
     },
     "execution_count": 31,
     "metadata": {},
     "output_type": "execute_result"
    }
   ],
   "source": [
    "# 2항 연산\n",
    "a + b"
   ]
  },
  {
   "cell_type": "code",
   "execution_count": 33,
   "id": "dc500ca3",
   "metadata": {},
   "outputs": [
    {
     "data": {
      "text/plain": [
       "array([[10, 10, 10],\n",
       "       [10, 10, 10],\n",
       "       [10, 10, 10]])"
      ]
     },
     "execution_count": 33,
     "metadata": {},
     "output_type": "execute_result"
    }
   ],
   "source": [
    "np.add(a,b)"
   ]
  },
  {
   "cell_type": "code",
   "execution_count": 32,
   "id": "3d28cb9b",
   "metadata": {},
   "outputs": [
    {
     "data": {
      "text/plain": [
       "array([[-8, -6, -4],\n",
       "       [-2,  0,  2],\n",
       "       [ 4,  6,  8]])"
      ]
     },
     "execution_count": 32,
     "metadata": {},
     "output_type": "execute_result"
    }
   ],
   "source": [
    "a - b"
   ]
  },
  {
   "cell_type": "code",
   "execution_count": 35,
   "id": "52cfd932",
   "metadata": {},
   "outputs": [
    {
     "data": {
      "text/plain": [
       "array([[-8, -6, -4],\n",
       "       [-2,  0,  2],\n",
       "       [ 4,  6,  8]])"
      ]
     },
     "execution_count": 35,
     "metadata": {},
     "output_type": "execute_result"
    }
   ],
   "source": [
    "np.subtract(a,b)"
   ]
  },
  {
   "cell_type": "code",
   "execution_count": 36,
   "id": "647d1bcb",
   "metadata": {},
   "outputs": [
    {
     "data": {
      "text/plain": [
       "array([[0.11111111, 0.25      , 0.42857143],\n",
       "       [0.66666667, 1.        , 1.5       ],\n",
       "       [2.33333333, 4.        , 9.        ]])"
      ]
     },
     "execution_count": 36,
     "metadata": {},
     "output_type": "execute_result"
    }
   ],
   "source": [
    "a / b"
   ]
  },
  {
   "cell_type": "code",
   "execution_count": 37,
   "id": "05f1b5a0",
   "metadata": {},
   "outputs": [
    {
     "data": {
      "text/plain": [
       "array([[0.11111111, 0.25      , 0.42857143],\n",
       "       [0.66666667, 1.        , 1.5       ],\n",
       "       [2.33333333, 4.        , 9.        ]])"
      ]
     },
     "execution_count": 37,
     "metadata": {},
     "output_type": "execute_result"
    }
   ],
   "source": [
    "np.divide(a,b)"
   ]
  },
  {
   "cell_type": "code",
   "execution_count": 38,
   "id": "1b4d34fd",
   "metadata": {},
   "outputs": [
    {
     "data": {
      "text/plain": [
       "array([[ 9, 16, 21],\n",
       "       [24, 25, 24],\n",
       "       [21, 16,  9]])"
      ]
     },
     "execution_count": 38,
     "metadata": {},
     "output_type": "execute_result"
    }
   ],
   "source": [
    "a * b"
   ]
  },
  {
   "cell_type": "code",
   "execution_count": 39,
   "id": "9e5a05b5",
   "metadata": {},
   "outputs": [
    {
     "data": {
      "text/plain": [
       "array([[ 9, 16, 21],\n",
       "       [24, 25, 24],\n",
       "       [21, 16,  9]])"
      ]
     },
     "execution_count": 39,
     "metadata": {},
     "output_type": "execute_result"
    }
   ],
   "source": [
    "np.multiply(a,b)"
   ]
  },
  {
   "cell_type": "code",
   "execution_count": 40,
   "id": "3a4ded4b",
   "metadata": {},
   "outputs": [
    {
     "data": {
      "text/plain": [
       "array([[8.10308393e+03, 2.98095799e+03, 1.09663316e+03],\n",
       "       [4.03428793e+02, 1.48413159e+02, 5.45981500e+01],\n",
       "       [2.00855369e+01, 7.38905610e+00, 2.71828183e+00]])"
      ]
     },
     "execution_count": 40,
     "metadata": {},
     "output_type": "execute_result"
    }
   ],
   "source": [
    "# 지수 연산\n",
    "np.exp(b)"
   ]
  },
  {
   "cell_type": "code",
   "execution_count": 41,
   "id": "4530b45f",
   "metadata": {},
   "outputs": [
    {
     "data": {
      "text/plain": [
       "array([[1.        , 1.41421356, 1.73205081],\n",
       "       [2.        , 2.23606798, 2.44948974],\n",
       "       [2.64575131, 2.82842712, 3.        ]])"
      ]
     },
     "execution_count": 41,
     "metadata": {},
     "output_type": "execute_result"
    }
   ],
   "source": [
    "# 제곱근\n",
    "np.sqrt(a)"
   ]
  },
  {
   "cell_type": "code",
   "execution_count": 42,
   "id": "69b4349c",
   "metadata": {},
   "outputs": [
    {
     "data": {
      "text/plain": [
       "array([[ 1.55740772, -2.18503986, -0.14254654],\n",
       "       [ 1.15782128, -3.38051501, -0.29100619],\n",
       "       [ 0.87144798, -6.79971146, -0.45231566]])"
      ]
     },
     "execution_count": 42,
     "metadata": {},
     "output_type": "execute_result"
    }
   ],
   "source": [
    "# sin, cos, tan\n",
    "np.sin(a)\n",
    "np.cos(a)\n",
    "np.tan(a) # 마지막 값만 출력됨, print함수 안써서"
   ]
  },
  {
   "cell_type": "code",
   "execution_count": 43,
   "id": "b51cd466",
   "metadata": {},
   "outputs": [
    {
     "data": {
      "text/plain": [
       "array([[0.        , 0.69314718, 1.09861229],\n",
       "       [1.38629436, 1.60943791, 1.79175947],\n",
       "       [1.94591015, 2.07944154, 2.19722458]])"
      ]
     },
     "execution_count": 43,
     "metadata": {},
     "output_type": "execute_result"
    }
   ],
   "source": [
    "np.log(a)"
   ]
  },
  {
   "cell_type": "code",
   "execution_count": 44,
   "id": "5a94fd13",
   "metadata": {},
   "outputs": [
    {
     "data": {
      "text/plain": [
       "array([[ 30,  24,  18],\n",
       "       [ 84,  69,  54],\n",
       "       [138, 114,  90]])"
      ]
     },
     "execution_count": 44,
     "metadata": {},
     "output_type": "execute_result"
    }
   ],
   "source": [
    "# 내적 = 행렬 곱\n",
    "np.dot(a,b)"
   ]
  },
  {
   "cell_type": "code",
   "execution_count": 45,
   "id": "8e86abe9",
   "metadata": {},
   "outputs": [
    {
     "data": {
      "text/plain": [
       "array([[False, False, False],\n",
       "       [False,  True, False],\n",
       "       [False, False, False]])"
      ]
     },
     "execution_count": 45,
     "metadata": {},
     "output_type": "execute_result"
    }
   ],
   "source": [
    "# 논리 연산자 T 또는 F로 결과값을 나타냄\n",
    "a == b # T or F"
   ]
  },
  {
   "cell_type": "code",
   "execution_count": 46,
   "id": "2f38b0ea",
   "metadata": {},
   "outputs": [
    {
     "data": {
      "text/plain": [
       "array([[False, False, False],\n",
       "       [False, False,  True],\n",
       "       [ True,  True,  True]])"
      ]
     },
     "execution_count": 46,
     "metadata": {},
     "output_type": "execute_result"
    }
   ],
   "source": [
    "a > b "
   ]
  },
  {
   "cell_type": "code",
   "execution_count": 47,
   "id": "c42bc1bb",
   "metadata": {},
   "outputs": [
    {
     "data": {
      "text/plain": [
       "False"
      ]
     },
     "execution_count": 47,
     "metadata": {},
     "output_type": "execute_result"
    }
   ],
   "source": [
    "# 배열 전체를 비교\n",
    "np.array_equal(a,b)"
   ]
  },
  {
   "cell_type": "markdown",
   "id": "9686e2c4",
   "metadata": {},
   "source": [
    "# 집계함수(Aggregate Function)\n",
    "- axis(축)을 기준으로 계산한다.\n",
    "- axis = None(지정 x), 0(행), 1(열)\n",
    " - None: 전체행렬을 하나의 배열로 간주\n",
    " - 0: 행을 기준으로 각 행의 동일 인덱스 요소를 그룹으로 설정. 즉, 1행의 1열, 2열, 3열.. 열 단위로 그룹지어 연산수행\n",
    " - 1: 열을 기준으로 각 열의 동일 인덱스 요소를 글부으로 설정. 즉 1열의 1행, 2행, 3행.. 행 단위로 그룹지어 연산수행"
   ]
  },
  {
   "cell_type": "code",
   "execution_count": 50,
   "id": "060abf0b",
   "metadata": {},
   "outputs": [
    {
     "name": "stdout",
     "output_type": "stream",
     "text": [
      "type: <class 'numpy.ndarray'>\n",
      "shape: (3, 3), dimension: 2, dtype: int32\n",
      "Array's Data: \n",
      " [[1 2 3]\n",
      " [4 5 6]\n",
      " [7 8 9]]\n"
     ]
    }
   ],
   "source": [
    "a = np.arange(1,10).reshape(3,3)\n",
    "pprint(a)"
   ]
  },
  {
   "cell_type": "code",
   "execution_count": 52,
   "id": "3704a663",
   "metadata": {},
   "outputs": [
    {
     "data": {
      "text/plain": [
       "(45, 45)"
      ]
     },
     "execution_count": 52,
     "metadata": {},
     "output_type": "execute_result"
    }
   ],
   "source": [
    "# axis = None, 1부터 9까지 행렬안의 모든 값을 더함\n",
    "a.sum() , np.sum(a)"
   ]
  },
  {
   "cell_type": "code",
   "execution_count": 53,
   "id": "9a0a8e58",
   "metadata": {},
   "outputs": [
    {
     "data": {
      "text/plain": [
       "(array([12, 15, 18]), array([12, 15, 18]))"
      ]
     },
     "execution_count": 53,
     "metadata": {},
     "output_type": "execute_result"
    }
   ],
   "source": [
    "# axis = 0\n",
    "a.sum(axis=0), np.sum(a, axis=0)"
   ]
  },
  {
   "cell_type": "code",
   "execution_count": 54,
   "id": "020dc184",
   "metadata": {},
   "outputs": [
    {
     "data": {
      "text/plain": [
       "(array([ 6, 15, 24]), array([ 6, 15, 24]))"
      ]
     },
     "execution_count": 54,
     "metadata": {},
     "output_type": "execute_result"
    }
   ],
   "source": [
    "# axis = 1\n",
    "a.sum(axis=1), np.sum(a, axis=1)"
   ]
  },
  {
   "cell_type": "code",
   "execution_count": 58,
   "id": "a1804d28",
   "metadata": {},
   "outputs": [
    {
     "data": {
      "text/plain": [
       "(1, 1)"
      ]
     },
     "execution_count": 58,
     "metadata": {},
     "output_type": "execute_result"
    }
   ],
   "source": [
    "# min\n",
    "a.min(), np.min(a)"
   ]
  },
  {
   "cell_type": "code",
   "execution_count": 60,
   "id": "a19339b2",
   "metadata": {},
   "outputs": [
    {
     "data": {
      "text/plain": [
       "(array([1, 4, 7]), array([1, 4, 7]))"
      ]
     },
     "execution_count": 60,
     "metadata": {},
     "output_type": "execute_result"
    }
   ],
   "source": [
    "a.min(axis=0), np.min(a,axis=0)\n",
    "a.min(axis=1), np.min(a,axis=1)"
   ]
  },
  {
   "cell_type": "code",
   "execution_count": 62,
   "id": "3f9abdc8",
   "metadata": {},
   "outputs": [
    {
     "data": {
      "text/plain": [
       "(9, 9)"
      ]
     },
     "execution_count": 62,
     "metadata": {},
     "output_type": "execute_result"
    }
   ],
   "source": [
    "# max\n",
    "a.max(), np.max(a)"
   ]
  },
  {
   "cell_type": "code",
   "execution_count": 63,
   "id": "14c0b68a",
   "metadata": {},
   "outputs": [
    {
     "data": {
      "text/plain": [
       "(array([3, 6, 9]), array([3, 6, 9]))"
      ]
     },
     "execution_count": 63,
     "metadata": {},
     "output_type": "execute_result"
    }
   ],
   "source": [
    "a.max(axis=0), np.max(a,axis=0)\n",
    "a.max(axis=1), np.max(a,axis=1)"
   ]
  },
  {
   "cell_type": "code",
   "execution_count": 64,
   "id": "4b038b9f",
   "metadata": {},
   "outputs": [
    {
     "data": {
      "text/plain": [
       "(array([ 1,  3,  6, 10, 15, 21, 28, 36, 45], dtype=int32),\n",
       " array([ 1,  3,  6, 10, 15, 21, 28, 36, 45], dtype=int32))"
      ]
     },
     "execution_count": 64,
     "metadata": {},
     "output_type": "execute_result"
    }
   ],
   "source": [
    "# 누적합계: cumsum\n",
    "a.cumsum(), np.cumsum(a)"
   ]
  },
  {
   "cell_type": "code",
   "execution_count": 65,
   "id": "fae549c2",
   "metadata": {},
   "outputs": [
    {
     "data": {
      "text/plain": [
       "(array([[ 1,  2,  3],\n",
       "        [ 5,  7,  9],\n",
       "        [12, 15, 18]], dtype=int32),\n",
       " array([[ 1,  2,  3],\n",
       "        [ 5,  7,  9],\n",
       "        [12, 15, 18]], dtype=int32))"
      ]
     },
     "execution_count": 65,
     "metadata": {},
     "output_type": "execute_result"
    }
   ],
   "source": [
    "a.cumsum(axis=0), np.cumsum(a,axis=0)"
   ]
  },
  {
   "cell_type": "code",
   "execution_count": 66,
   "id": "ba8919ab",
   "metadata": {},
   "outputs": [
    {
     "data": {
      "text/plain": [
       "(array([[ 1,  3,  6],\n",
       "        [ 4,  9, 15],\n",
       "        [ 7, 15, 24]], dtype=int32),\n",
       " array([[ 1,  3,  6],\n",
       "        [ 4,  9, 15],\n",
       "        [ 7, 15, 24]], dtype=int32))"
      ]
     },
     "execution_count": 66,
     "metadata": {},
     "output_type": "execute_result"
    }
   ],
   "source": [
    "a.cumsum(axis=1), np.cumsum(a,axis=1)"
   ]
  },
  {
   "cell_type": "code",
   "execution_count": 67,
   "id": "53d90ac2",
   "metadata": {},
   "outputs": [
    {
     "data": {
      "text/plain": [
       "(5.0, 5.0)"
      ]
     },
     "execution_count": 67,
     "metadata": {},
     "output_type": "execute_result"
    }
   ],
   "source": [
    "# 평균 mean\n",
    "a.mean(), np.mean(a)"
   ]
  },
  {
   "cell_type": "code",
   "execution_count": 69,
   "id": "dd07ee65",
   "metadata": {},
   "outputs": [
    {
     "data": {
      "text/plain": [
       "(array([2., 5., 8.]), array([2., 5., 8.]))"
      ]
     },
     "execution_count": 69,
     "metadata": {},
     "output_type": "execute_result"
    }
   ],
   "source": [
    "a.mean(axis=0), np.mean(a,axis=0)\n",
    "a.mean(axis=1), np.mean(a,axis=1)"
   ]
  },
  {
   "cell_type": "code",
   "execution_count": 70,
   "id": "8cd4176b",
   "metadata": {},
   "outputs": [
    {
     "data": {
      "text/plain": [
       "5.0"
      ]
     },
     "execution_count": 70,
     "metadata": {},
     "output_type": "execute_result"
    }
   ],
   "source": [
    "# median(), 파이썬 함수에는 없어도, 넘파이는 지원함\n",
    "np.median(a)"
   ]
  },
  {
   "cell_type": "code",
   "execution_count": 72,
   "id": "051000ca",
   "metadata": {},
   "outputs": [
    {
     "data": {
      "text/plain": [
       "(array([4., 5., 6.]), array([2., 5., 8.]))"
      ]
     },
     "execution_count": 72,
     "metadata": {},
     "output_type": "execute_result"
    }
   ],
   "source": [
    "np.median(a,axis=0), np.median(a,axis=1)"
   ]
  },
  {
   "cell_type": "code",
   "execution_count": 73,
   "id": "466565d8",
   "metadata": {},
   "outputs": [
    {
     "data": {
      "text/plain": [
       "array([[1., 1., 1.],\n",
       "       [1., 1., 1.],\n",
       "       [1., 1., 1.]])"
      ]
     },
     "execution_count": 73,
     "metadata": {},
     "output_type": "execute_result"
    }
   ],
   "source": [
    "# 상관계수,  corrcoef\n",
    "np.corrcoef(a)"
   ]
  },
  {
   "cell_type": "code",
   "execution_count": 74,
   "id": "96bcdf7f",
   "metadata": {},
   "outputs": [
    {
     "data": {
      "text/plain": [
       "(2.581988897471611, 2.581988897471611)"
      ]
     },
     "execution_count": 74,
     "metadata": {},
     "output_type": "execute_result"
    }
   ],
   "source": [
    "# 표준편차 \n",
    "a.std(), np.std(a)"
   ]
  },
  {
   "cell_type": "markdown",
   "id": "7f0a7bb8",
   "metadata": {},
   "source": [
    "## 브로드캐스팅(Broadcasting)\n",
    "- 일반적으로 벡터나 행렬의 크기가 같아야 연산을 수행할 수 있다\n",
    "- 넘파이에서 서로 다른 크기를 가진 두 배열의 연산을 지원하는 기능을 말한다."
   ]
  },
  {
   "cell_type": "code",
   "execution_count": 77,
   "id": "eb6f6955",
   "metadata": {},
   "outputs": [
    {
     "name": "stdout",
     "output_type": "stream",
     "text": [
      "range(1, 10)\n"
     ]
    }
   ],
   "source": [
    "x = range(1,10)\n",
    "print(x) # 모든 값을 보여주지 않음"
   ]
  },
  {
   "cell_type": "code",
   "execution_count": 80,
   "id": "5646d8ba",
   "metadata": {},
   "outputs": [
    {
     "data": {
      "text/plain": [
       "array([1, 2, 3, 4, 5, 6, 7, 8, 9])"
      ]
     },
     "execution_count": 80,
     "metadata": {},
     "output_type": "execute_result"
    }
   ],
   "source": [
    "y = np.arange(1,10)\n",
    "y"
   ]
  },
  {
   "cell_type": "code",
   "execution_count": 81,
   "id": "b9ab1b3c",
   "metadata": {},
   "outputs": [
    {
     "data": {
      "text/plain": [
       "array([ 4,  5,  6,  7,  8,  9, 10, 11, 12])"
      ]
     },
     "execution_count": 81,
     "metadata": {},
     "output_type": "execute_result"
    }
   ],
   "source": [
    "y + 3"
   ]
  },
  {
   "cell_type": "code",
   "execution_count": 82,
   "id": "31922a6f",
   "metadata": {},
   "outputs": [],
   "source": [
    "z = [1,2,3]"
   ]
  },
  {
   "cell_type": "code",
   "execution_count": 83,
   "id": "3ddd00be",
   "metadata": {},
   "outputs": [
    {
     "ename": "ValueError",
     "evalue": "operands could not be broadcast together with shapes (9,) (3,) ",
     "output_type": "error",
     "traceback": [
      "\u001b[1;31m---------------------------------------------------------------------------\u001b[0m",
      "\u001b[1;31mValueError\u001b[0m                                Traceback (most recent call last)",
      "\u001b[1;32m~\\AppData\\Local\\Temp/ipykernel_14628/885399778.py\u001b[0m in \u001b[0;36m<module>\u001b[1;34m\u001b[0m\n\u001b[1;32m----> 1\u001b[1;33m \u001b[0my\u001b[0m \u001b[1;33m+\u001b[0m \u001b[0mz\u001b[0m\u001b[1;33m\u001b[0m\u001b[1;33m\u001b[0m\u001b[0m\n\u001b[0m",
      "\u001b[1;31mValueError\u001b[0m: operands could not be broadcast together with shapes (9,) (3,) "
     ]
    }
   ],
   "source": [
    "y + z # 파이썬에선 안됨"
   ]
  },
  {
   "cell_type": "code",
   "execution_count": 86,
   "id": "08ea5991",
   "metadata": {},
   "outputs": [
    {
     "name": "stdout",
     "output_type": "stream",
     "text": [
      "type: <class 'numpy.ndarray'>\n",
      "shape: (4, 6), dimension: 2, dtype: int32\n",
      "Array's Data: \n",
      " [[ 1  2  3  4  5  6]\n",
      " [ 7  8  9 10 11 12]\n",
      " [13 14 15 16 17 18]\n",
      " [19 20 21 22 23 24]]\n",
      "type: <class 'numpy.ndarray'>\n",
      "shape: (4, 6), dimension: 2, dtype: int32\n",
      "Array's Data: \n",
      " [[25 26 27 28 29 30]\n",
      " [31 32 33 34 35 36]\n",
      " [37 38 39 40 41 42]\n",
      " [43 44 45 46 47 48]]\n"
     ]
    }
   ],
   "source": [
    "a = np.arange(1,25).reshape(4,6)\n",
    "pprint(a)\n",
    "b = np.arange(25,49).reshape(4,6)\n",
    "pprint(b)"
   ]
  },
  {
   "cell_type": "markdown",
   "id": "e5709008",
   "metadata": {},
   "source": [
    "## shape이 같은 배열의 연산"
   ]
  },
  {
   "cell_type": "code",
   "execution_count": 87,
   "id": "c959e92f",
   "metadata": {},
   "outputs": [
    {
     "data": {
      "text/plain": [
       "array([[26, 28, 30, 32, 34, 36],\n",
       "       [38, 40, 42, 44, 46, 48],\n",
       "       [50, 52, 54, 56, 58, 60],\n",
       "       [62, 64, 66, 68, 70, 72]])"
      ]
     },
     "execution_count": 87,
     "metadata": {},
     "output_type": "execute_result"
    }
   ],
   "source": [
    "a + b"
   ]
  },
  {
   "cell_type": "markdown",
   "id": "d159dcfe",
   "metadata": {},
   "source": [
    "## shape이 다른 배열의 연산\n",
    "- 두 배열을 같은 shape으로 만든 후 연산을 수행"
   ]
  },
  {
   "cell_type": "code",
   "execution_count": 88,
   "id": "10fbd955",
   "metadata": {},
   "outputs": [
    {
     "name": "stdout",
     "output_type": "stream",
     "text": [
      "type: <class 'numpy.ndarray'>\n",
      "shape: (4, 6), dimension: 2, dtype: int32\n",
      "Array's Data: \n",
      " [[ 1  2  3  4  5  6]\n",
      " [ 7  8  9 10 11 12]\n",
      " [13 14 15 16 17 18]\n",
      " [19 20 21 22 23 24]]\n"
     ]
    }
   ],
   "source": [
    "# case 1: 배열과 스칼라 \n",
    "pprint(a)"
   ]
  },
  {
   "cell_type": "code",
   "execution_count": 89,
   "id": "fdd8173a",
   "metadata": {},
   "outputs": [
    {
     "data": {
      "text/plain": [
       "array([[101, 102, 103, 104, 105, 106],\n",
       "       [107, 108, 109, 110, 111, 112],\n",
       "       [113, 114, 115, 116, 117, 118],\n",
       "       [119, 120, 121, 122, 123, 124]])"
      ]
     },
     "execution_count": 89,
     "metadata": {},
     "output_type": "execute_result"
    }
   ],
   "source": [
    "a + 100"
   ]
  },
  {
   "cell_type": "code",
   "execution_count": 90,
   "id": "234b0791",
   "metadata": {},
   "outputs": [
    {
     "name": "stdout",
     "output_type": "stream",
     "text": [
      "type: <class 'numpy.ndarray'>\n",
      "shape: (4, 6), dimension: 2, dtype: int32\n",
      "Array's Data: \n",
      " [[100 100 100 100 100 100]\n",
      " [100 100 100 100 100 100]\n",
      " [100 100 100 100 100 100]\n",
      " [100 100 100 100 100 100]]\n"
     ]
    }
   ],
   "source": [
    "## step1. 스칼라를 배열로 변경\n",
    "new_arr = np.full_like(a,100)\n",
    "pprint(new_arr)"
   ]
  },
  {
   "cell_type": "code",
   "execution_count": 91,
   "id": "bc390a4f",
   "metadata": {},
   "outputs": [
    {
     "data": {
      "text/plain": [
       "array([[101, 102, 103, 104, 105, 106],\n",
       "       [107, 108, 109, 110, 111, 112],\n",
       "       [113, 114, 115, 116, 117, 118],\n",
       "       [119, 120, 121, 122, 123, 124]])"
      ]
     },
     "execution_count": 91,
     "metadata": {},
     "output_type": "execute_result"
    }
   ],
   "source": [
    "## step2. 배열연산\n",
    "a + new_arr"
   ]
  },
  {
   "cell_type": "code",
   "execution_count": 93,
   "id": "ae2d8253",
   "metadata": {},
   "outputs": [
    {
     "name": "stdout",
     "output_type": "stream",
     "text": [
      "type: <class 'numpy.ndarray'>\n",
      "shape: (1, 5), dimension: 2, dtype: int32\n",
      "Array's Data: \n",
      " [[0 1 2 3 4]]\n",
      "type: <class 'numpy.ndarray'>\n",
      "shape: (5, 1), dimension: 2, dtype: int32\n",
      "Array's Data: \n",
      " [[0]\n",
      " [1]\n",
      " [2]\n",
      " [3]\n",
      " [4]]\n"
     ]
    }
   ],
   "source": [
    "# case2. shape이 다른 두 배열의 연산\n",
    "a = np.arange(5).reshape(1,5)\n",
    "pprint(a)\n",
    "b = np.arange(5).reshape(5,1)\n",
    "pprint(b)"
   ]
  },
  {
   "cell_type": "code",
   "execution_count": 94,
   "id": "62cf87d2",
   "metadata": {},
   "outputs": [
    {
     "data": {
      "text/plain": [
       "array([[0, 1, 2, 3, 4],\n",
       "       [1, 2, 3, 4, 5],\n",
       "       [2, 3, 4, 5, 6],\n",
       "       [3, 4, 5, 6, 7],\n",
       "       [4, 5, 6, 7, 8]])"
      ]
     },
     "execution_count": 94,
     "metadata": {},
     "output_type": "execute_result"
    }
   ],
   "source": [
    "a + b"
   ]
  },
  {
   "cell_type": "markdown",
   "id": "acb45471",
   "metadata": {},
   "source": [
    "# 배열복사"
   ]
  },
  {
   "cell_type": "code",
   "execution_count": 97,
   "id": "5f0aa0f0",
   "metadata": {},
   "outputs": [
    {
     "name": "stdout",
     "output_type": "stream",
     "text": [
      "type: <class 'numpy.ndarray'>\n",
      "shape: (3, 3), dimension: 2, dtype: int32\n",
      "Array's Data: \n",
      " [[5 5 1]\n",
      " [2 3 8]\n",
      " [0 4 2]]\n"
     ]
    }
   ],
   "source": [
    "a = np.random.randint(0,9, (3,3)) # 0~ 9사이의 난수 생성\n",
    "pprint(a)"
   ]
  },
  {
   "cell_type": "code",
   "execution_count": 99,
   "id": "fd02e738",
   "metadata": {},
   "outputs": [
    {
     "name": "stdout",
     "output_type": "stream",
     "text": [
      "type: <class 'numpy.ndarray'>\n",
      "shape: (3, 3), dimension: 2, dtype: int32\n",
      "Array's Data: \n",
      " [[0 5 1]\n",
      " [0 3 8]\n",
      " [0 4 2]]\n"
     ]
    }
   ],
   "source": [
    "a1 = np.copy(a) # 값만 복사, 원본에 영향을 미치지 않음\n",
    "a1[:,0] = 0 # R에선 모두 부를때 값을 생략하지만 파이썬은 :\n",
    "pprint(a1)"
   ]
  },
  {
   "cell_type": "code",
   "execution_count": 101,
   "id": "bb829783",
   "metadata": {},
   "outputs": [
    {
     "name": "stdout",
     "output_type": "stream",
     "text": [
      "type: <class 'numpy.ndarray'>\n",
      "shape: (3, 3), dimension: 2, dtype: int32\n",
      "Array's Data: \n",
      " [[5 5 1]\n",
      " [2 3 8]\n",
      " [0 4 2]]\n"
     ]
    }
   ],
   "source": [
    "pprint(a)"
   ]
  },
  {
   "cell_type": "markdown",
   "id": "944235aa",
   "metadata": {},
   "source": [
    "# 배열 정렬\n",
    "- sort(): axis를 기준으로 요소를 정렬하는 함수"
   ]
  },
  {
   "cell_type": "code",
   "execution_count": 107,
   "id": "a2405cb2",
   "metadata": {},
   "outputs": [
    {
     "name": "stdout",
     "output_type": "stream",
     "text": [
      "type: <class 'numpy.ndarray'>\n",
      "shape: (3, 3), dimension: 2, dtype: float64\n",
      "Array's Data: \n",
      " [[0.40056148 0.33608398 0.58244863]\n",
      " [0.55008415 0.13744605 0.62147546]\n",
      " [0.03508433 0.26065992 0.36819997]]\n"
     ]
    }
   ],
   "source": [
    "unsorted_arr = np.random.random((3,3)) \n",
    "pprint(unsorted_arr)"
   ]
  },
  {
   "cell_type": "code",
   "execution_count": 108,
   "id": "81a9f0d4",
   "metadata": {},
   "outputs": [],
   "source": [
    "arr1 = unsorted_arr.copy()\n",
    "arr2 = unsorted_arr.copy()\n",
    "arr3 = unsorted_arr.copy()"
   ]
  },
  {
   "cell_type": "code",
   "execution_count": 109,
   "id": "50e670c1",
   "metadata": {},
   "outputs": [
    {
     "name": "stdout",
     "output_type": "stream",
     "text": [
      "type: <class 'numpy.ndarray'>\n",
      "shape: (3, 3), dimension: 2, dtype: float64\n",
      "Array's Data: \n",
      " [[0.33608398 0.40056148 0.58244863]\n",
      " [0.13744605 0.55008415 0.62147546]\n",
      " [0.03508433 0.26065992 0.36819997]]\n"
     ]
    }
   ],
   "source": [
    "# axis = -1, 거꾸로 \n",
    "arr1.sort()\n",
    "pprint(arr1)"
   ]
  },
  {
   "cell_type": "code",
   "execution_count": 110,
   "id": "2f4a4a44",
   "metadata": {},
   "outputs": [
    {
     "name": "stdout",
     "output_type": "stream",
     "text": [
      "type: <class 'numpy.ndarray'>\n",
      "shape: (3, 3), dimension: 2, dtype: float64\n",
      "Array's Data: \n",
      " [[0.03508433 0.13744605 0.36819997]\n",
      " [0.40056148 0.26065992 0.58244863]\n",
      " [0.55008415 0.33608398 0.62147546]]\n"
     ]
    }
   ],
   "source": [
    "# axis = 0 , 열단위로 연산\n",
    "arr2.sort(axis=0)\n",
    "pprint(arr2)"
   ]
  },
  {
   "cell_type": "code",
   "execution_count": 111,
   "id": "60753d8f",
   "metadata": {},
   "outputs": [
    {
     "name": "stdout",
     "output_type": "stream",
     "text": [
      "type: <class 'numpy.ndarray'>\n",
      "shape: (3, 3), dimension: 2, dtype: float64\n",
      "Array's Data: \n",
      " [[0.33608398 0.40056148 0.58244863]\n",
      " [0.13744605 0.55008415 0.62147546]\n",
      " [0.03508433 0.26065992 0.36819997]]\n"
     ]
    }
   ],
   "source": [
    "# axis = 1, 행단위로 연산 \n",
    "arr3.sort(axis=1)\n",
    "pprint(arr3)"
   ]
  },
  {
   "cell_type": "markdown",
   "id": "8134b295",
   "metadata": {},
   "source": [
    "# 서브셋(subsetting), 슬라이싱(slicing), 인덱싱(indexing)"
   ]
  },
  {
   "cell_type": "code",
   "execution_count": 113,
   "id": "f7a5fb5c",
   "metadata": {},
   "outputs": [
    {
     "name": "stdout",
     "output_type": "stream",
     "text": [
      "type: <class 'numpy.ndarray'>\n",
      "shape: (24,), dimension: 1, dtype: int32\n",
      "Array's Data: \n",
      " [ 0  1  2  3  4  5  6  7  8  9 10 11 12 13 14 15 16 17 18 19 20 21 22 23]\n",
      "type: <class 'numpy.ndarray'>\n",
      "shape: (4, 6), dimension: 2, dtype: int32\n",
      "Array's Data: \n",
      " [[ 0  1  2  3  4  5]\n",
      " [ 6  7  8  9 10 11]\n",
      " [12 13 14 15 16 17]\n",
      " [18 19 20 21 22 23]]\n",
      "type: <class 'numpy.ndarray'>\n",
      "shape: (2, 4, 3), dimension: 3, dtype: int32\n",
      "Array's Data: \n",
      " [[[ 0  1  2]\n",
      "  [ 3  4  5]\n",
      "  [ 6  7  8]\n",
      "  [ 9 10 11]]\n",
      "\n",
      " [[12 13 14]\n",
      "  [15 16 17]\n",
      "  [18 19 20]\n",
      "  [21 22 23]]]\n"
     ]
    }
   ],
   "source": [
    "arr0 = np.arange(24) # 1차원배열\n",
    "pprint(arr0)\n",
    "arr1 = np.arange(24).reshape(4,6) # 2차원배열\n",
    "pprint(arr1)\n",
    "arr2 = np.arange(24).reshape((2,4,3)) # 3차원,튜플로 안묶어도 값 나옴\n",
    "pprint(arr2)"
   ]
  },
  {
   "cell_type": "markdown",
   "id": "6cd3f79b",
   "metadata": {},
   "source": [
    "## 인덱스\n",
    "### 1차원 배열의 요소 참조 및 변경"
   ]
  },
  {
   "cell_type": "code",
   "execution_count": 114,
   "id": "0e6d87c2",
   "metadata": {},
   "outputs": [
    {
     "data": {
      "text/plain": [
       "5"
      ]
     },
     "execution_count": 114,
     "metadata": {},
     "output_type": "execute_result"
    }
   ],
   "source": [
    "arr0[5]"
   ]
  },
  {
   "cell_type": "code",
   "execution_count": 117,
   "id": "8bdc4fd9",
   "metadata": {},
   "outputs": [
    {
     "name": "stdout",
     "output_type": "stream",
     "text": [
      "type: <class 'numpy.ndarray'>\n",
      "shape: (24,), dimension: 1, dtype: int32\n",
      "Array's Data: \n",
      " [    0     1     2     3     4 10000     6     7     8     9    10    11\n",
      "    12    13    14    15    16    17    18    19    20    21    22    23]\n"
     ]
    }
   ],
   "source": [
    "arr0[5] = 10000\n",
    "pprint(arr0)"
   ]
  },
  {
   "cell_type": "markdown",
   "id": "6eb27617",
   "metadata": {},
   "source": [
    "### 2차원 배열의 요소 참조 및 변경"
   ]
  },
  {
   "cell_type": "code",
   "execution_count": 118,
   "id": "cfc9b6d0",
   "metadata": {},
   "outputs": [
    {
     "data": {
      "text/plain": [
       "1"
      ]
     },
     "execution_count": 118,
     "metadata": {},
     "output_type": "execute_result"
    }
   ],
   "source": [
    "# 1행의 2번째 요소 참조\n",
    "## arr1[행, 열]\n",
    "arr1[0,1]"
   ]
  },
  {
   "cell_type": "code",
   "execution_count": 120,
   "id": "86e247b6",
   "metadata": {},
   "outputs": [
    {
     "name": "stdout",
     "output_type": "stream",
     "text": [
      "type: <class 'numpy.ndarray'>\n",
      "shape: (4, 6), dimension: 2, dtype: int32\n",
      "Array's Data: \n",
      " [[     0 100000      2      3      4      5]\n",
      " [     6      7      8      9     10     11]\n",
      " [    12     13     14     15     16     17]\n",
      " [    18     19     20     21     22     23]]\n"
     ]
    }
   ],
   "source": [
    "arr1[0,1] = 100000\n",
    "pprint(arr1)"
   ]
  },
  {
   "cell_type": "markdown",
   "id": "296b85bf",
   "metadata": {},
   "source": [
    "### 3차원 배열의 요소 참조 및 변경"
   ]
  },
  {
   "cell_type": "code",
   "execution_count": 121,
   "id": "30b22741",
   "metadata": {},
   "outputs": [
    {
     "data": {
      "text/plain": [
       "13"
      ]
     },
     "execution_count": 121,
     "metadata": {},
     "output_type": "execute_result"
    }
   ],
   "source": [
    "# 2번쨰 면, 첫번째 행, 두번째 열 참조\n",
    "arr2[1, 0, 1]"
   ]
  },
  {
   "cell_type": "code",
   "execution_count": 122,
   "id": "04e9ca00",
   "metadata": {},
   "outputs": [
    {
     "name": "stdout",
     "output_type": "stream",
     "text": [
      "type: <class 'numpy.ndarray'>\n",
      "shape: (2, 4, 3), dimension: 3, dtype: int32\n",
      "Array's Data: \n",
      " [[[    0     1     2]\n",
      "  [    3     4     5]\n",
      "  [    6     7     8]\n",
      "  [    9    10    11]]\n",
      "\n",
      " [[   12 10000    14]\n",
      "  [   15    16    17]\n",
      "  [   18    19    20]\n",
      "  [   21    22    23]]]\n"
     ]
    }
   ],
   "source": [
    "arr2[1,0,1] = 10000\n",
    "pprint(arr2)"
   ]
  },
  {
   "cell_type": "markdown",
   "id": "7aba9ff6",
   "metadata": {},
   "source": [
    "## 슬라이싱(slicing)\n",
    "- from_index : to_index, 시작위치 : 마지막 위치(원하는 마지막위치 -1)\n",
    "- 음수 인덱스 : -1(반대 방향, 마지막 인덱스를 의미)"
   ]
  },
  {
   "cell_type": "markdown",
   "id": "26608795",
   "metadata": {},
   "source": [
    "### 2차원 배열에서 슬라이싱"
   ]
  },
  {
   "cell_type": "code",
   "execution_count": 124,
   "id": "d3f45f18",
   "metadata": {},
   "outputs": [
    {
     "name": "stdout",
     "output_type": "stream",
     "text": [
      "type: <class 'numpy.ndarray'>\n",
      "shape: (4, 6), dimension: 2, dtype: int32\n",
      "Array's Data: \n",
      " [[ 1  2  3  4  5  6]\n",
      " [ 7  8  9 10 11 12]\n",
      " [13 14 15 16 17 18]\n",
      " [19 20 21 22 23 24]]\n"
     ]
    }
   ],
   "source": [
    "arr1 = np.arange(1,25).reshape(4,6)\n",
    "pprint(arr1)"
   ]
  },
  {
   "cell_type": "code",
   "execution_count": 125,
   "id": "ad5f7d56",
   "metadata": {},
   "outputs": [
    {
     "data": {
      "text/plain": [
       "array([[ 8,  9, 10, 11],\n",
       "       [14, 15, 16, 17]])"
      ]
     },
     "execution_count": 125,
     "metadata": {},
     "output_type": "execute_result"
    }
   ],
   "source": [
    "# 가운데 요소 추출\n",
    "arr1[1:3,1:5]"
   ]
  },
  {
   "cell_type": "code",
   "execution_count": 127,
   "id": "9f06b736",
   "metadata": {},
   "outputs": [
    {
     "data": {
      "text/plain": [
       "array([[ 8,  9, 10, 11],\n",
       "       [14, 15, 16, 17]])"
      ]
     },
     "execution_count": 127,
     "metadata": {},
     "output_type": "execute_result"
    }
   ],
   "source": [
    "arr1[1:-1,1:-1] # 마지막 값을 제외한 값을 불러오는거니깐 위와 동일한 값이 나옴"
   ]
  },
  {
   "cell_type": "code",
   "execution_count": 132,
   "id": "7a1925cb",
   "metadata": {},
   "outputs": [
    {
     "name": "stdout",
     "output_type": "stream",
     "text": [
      "type: <class 'numpy.ndarray'>\n",
      "shape: (4, 2), dimension: 2, dtype: int32\n",
      "Array's Data: \n",
      " [[ 2  3]\n",
      " [ 8  9]\n",
      " [14 15]\n",
      " [20 21]]\n"
     ]
    }
   ],
   "source": [
    "a = arr1[:, 1:3]\n",
    "pprint(a)"
   ]
  },
  {
   "cell_type": "code",
   "execution_count": 133,
   "id": "15e4b7b4",
   "metadata": {},
   "outputs": [
    {
     "name": "stdout",
     "output_type": "stream",
     "text": [
      "type: <class 'numpy.ndarray'>\n",
      "shape: (4, 6), dimension: 2, dtype: int32\n",
      "Array's Data: \n",
      " [[   1 9999 9999    4    5    6]\n",
      " [   7 9999 9999   10   11   12]\n",
      " [  13 9999 9999   16   17   18]\n",
      " [  19 9999 9999   22   23   24]]\n"
     ]
    }
   ],
   "source": [
    "arr1[:, 1:3] = 9999\n",
    "pprint(arr1)"
   ]
  },
  {
   "cell_type": "markdown",
   "id": "841f0357",
   "metadata": {},
   "source": [
    "## 불린인덱스(BooleanIndexing)\n",
    "- 논리값으로 결과를 반환해줌"
   ]
  },
  {
   "cell_type": "code",
   "execution_count": 134,
   "id": "be0ac97c",
   "metadata": {},
   "outputs": [
    {
     "name": "stdout",
     "output_type": "stream",
     "text": [
      "type: <class 'numpy.ndarray'>\n",
      "shape: (4, 6), dimension: 2, dtype: int32\n",
      "Array's Data: \n",
      " [[ 1  2  3  4  5  6]\n",
      " [ 7  8  9 10 11 12]\n",
      " [13 14 15 16 17 18]\n",
      " [19 20 21 22 23 24]]\n"
     ]
    }
   ],
   "source": [
    "arr1 = np.arange(1,25).reshape(4,6)\n",
    "pprint(arr1)"
   ]
  },
  {
   "cell_type": "code",
   "execution_count": 140,
   "id": "99cf8551",
   "metadata": {},
   "outputs": [
    {
     "data": {
      "text/plain": [
       "156"
      ]
     },
     "execution_count": 140,
     "metadata": {},
     "output_type": "execute_result"
    }
   ],
   "source": [
    "# 요소의 값이 짝수인 요소들의 총합은 ?\n",
    "a = arr1[arr1%2==0]\n",
    "a.sum()"
   ]
  },
  {
   "cell_type": "markdown",
   "id": "7b0ad5a8",
   "metadata": {},
   "source": [
    "## 팬시인덱스(Fancy index)\n",
    "- 인덱스를 전달하는 것\n",
    "- 인덱스를 이용하여 작업하는 것"
   ]
  },
  {
   "cell_type": "code",
   "execution_count": 141,
   "id": "8d03c445",
   "metadata": {},
   "outputs": [
    {
     "name": "stdout",
     "output_type": "stream",
     "text": [
      "type: <class 'numpy.ndarray'>\n",
      "shape: (4, 6), dimension: 2, dtype: int32\n",
      "Array's Data: \n",
      " [[ 1  2  3  4  5  6]\n",
      " [ 7  8  9 10 11 12]\n",
      " [13 14 15 16 17 18]\n",
      " [19 20 21 22 23 24]]\n"
     ]
    }
   ],
   "source": [
    "arr = np.arange(1,25).reshape(4,6)\n",
    "pprint(arr)"
   ]
  },
  {
   "cell_type": "code",
   "execution_count": 143,
   "id": "09f31257",
   "metadata": {},
   "outputs": [
    {
     "data": {
      "text/plain": [
       "[1, 8, 15, 22]"
      ]
     },
     "execution_count": 143,
     "metadata": {},
     "output_type": "execute_result"
    }
   ],
   "source": [
    "[arr[0,0],arr[1,1],arr[2,2,],arr[3,3]]\n",
    "###############리스트로 출력되는 거?????"
   ]
  },
  {
   "cell_type": "code",
   "execution_count": 144,
   "id": "3bcf005c",
   "metadata": {},
   "outputs": [
    {
     "data": {
      "text/plain": [
       "array([ 1,  8, 15, 22])"
      ]
     },
     "execution_count": 144,
     "metadata": {},
     "output_type": "execute_result"
    }
   ],
   "source": [
    "arr[[0,1,2,3],[0,1,2,3]]\n",
    "# 값이 array로 출력"
   ]
  },
  {
   "cell_type": "code",
   "execution_count": 145,
   "id": "5bda55be",
   "metadata": {},
   "outputs": [
    {
     "data": {
      "text/plain": [
       "array([[ 2,  3],\n",
       "       [ 8,  9],\n",
       "       [14, 15],\n",
       "       [20, 21]])"
      ]
     },
     "execution_count": 145,
     "metadata": {},
     "output_type": "execute_result"
    }
   ],
   "source": [
    "arr[:,[1,2]]"
   ]
  },
  {
   "cell_type": "markdown",
   "id": "99a54726",
   "metadata": {},
   "source": [
    "# 배열변환\n",
    "- 전치, 배열 shape 변환, 배열 요소의 추가/삭제 , 배열 결합, 분리...\n",
    "\n",
    "## 전치(Transpose): 행렬의 행과 열을 바꾸는 작업, T"
   ]
  },
  {
   "cell_type": "code",
   "execution_count": 147,
   "id": "a68d21e2",
   "metadata": {},
   "outputs": [
    {
     "name": "stdout",
     "output_type": "stream",
     "text": [
      "type: <class 'numpy.ndarray'>\n",
      "shape: (2, 3), dimension: 2, dtype: int32\n",
      "Array's Data: \n",
      " [[9 1 6]\n",
      " [1 2 9]]\n"
     ]
    }
   ],
   "source": [
    "a = np.random.randint(1,10,(2,3)) # defalt = 중복 허용\n",
    "pprint(a)"
   ]
  },
  {
   "cell_type": "code",
   "execution_count": 148,
   "id": "eaa4a2b7",
   "metadata": {},
   "outputs": [
    {
     "name": "stdout",
     "output_type": "stream",
     "text": [
      "type: <class 'numpy.ndarray'>\n",
      "shape: (3, 2), dimension: 2, dtype: int32\n",
      "Array's Data: \n",
      " [[9 1]\n",
      " [1 2]\n",
      " [6 9]]\n"
     ]
    }
   ],
   "source": [
    "pprint(a.T)"
   ]
  },
  {
   "cell_type": "markdown",
   "id": "61f37fa6",
   "metadata": {},
   "source": [
    "## 배열 형태 변경\n",
    "- ravel : 배열의 shape를 1차원 배열로 만드는 메서드(data가 아닌 주소를 가져온거)\n",
    "- reshape : 데이터의 변경없이 지정된 shape으로 변환하는 메서드\n",
    "\n",
    "### ravel"
   ]
  },
  {
   "cell_type": "code",
   "execution_count": 150,
   "id": "93433c2e",
   "metadata": {},
   "outputs": [
    {
     "name": "stdout",
     "output_type": "stream",
     "text": [
      "type: <class 'numpy.ndarray'>\n",
      "shape: (2, 3), dimension: 2, dtype: int32\n",
      "Array's Data: \n",
      " [[4 1 4]\n",
      " [5 6 5]]\n"
     ]
    }
   ],
   "source": [
    "a = np.random.randint(1,10,(2,3)) # defalt = 중복 허용\n",
    "pprint(a)"
   ]
  },
  {
   "cell_type": "code",
   "execution_count": 152,
   "id": "34cb267a",
   "metadata": {},
   "outputs": [
    {
     "data": {
      "text/plain": [
       "array([4, 1, 4, 5, 6, 5])"
      ]
     },
     "execution_count": 152,
     "metadata": {},
     "output_type": "execute_result"
    }
   ],
   "source": [
    "a.ravel() # 변경 값을 view해주는거지 실제 변경되는 건 아님"
   ]
  },
  {
   "cell_type": "code",
   "execution_count": 153,
   "id": "65a78962",
   "metadata": {},
   "outputs": [],
   "source": [
    "b = a.ravel() "
   ]
  },
  {
   "cell_type": "code",
   "execution_count": 154,
   "id": "b5640335",
   "metadata": {},
   "outputs": [
    {
     "name": "stdout",
     "output_type": "stream",
     "text": [
      "type: <class 'numpy.ndarray'>\n",
      "shape: (6,), dimension: 1, dtype: int32\n",
      "Array's Data: \n",
      " [99  1  4  5  6  5]\n"
     ]
    }
   ],
   "source": [
    "b[0] = 99 # 인덱스라는 것은 주소를 불러오는데, 데이터만 부르려면 :을 이용해야함\n",
    "pprint(b)"
   ]
  },
  {
   "cell_type": "code",
   "execution_count": 155,
   "id": "8b212007",
   "metadata": {},
   "outputs": [
    {
     "name": "stdout",
     "output_type": "stream",
     "text": [
      "type: <class 'numpy.ndarray'>\n",
      "shape: (2, 3), dimension: 2, dtype: int32\n",
      "Array's Data: \n",
      " [[99  1  4]\n",
      " [ 5  6  5]]\n"
     ]
    }
   ],
   "source": [
    "pprint(a)"
   ]
  },
  {
   "cell_type": "code",
   "execution_count": 162,
   "id": "5342aa78",
   "metadata": {},
   "outputs": [
    {
     "data": {
      "text/plain": [
       "[1, 2, 3, 4, 5]"
      ]
     },
     "execution_count": 162,
     "metadata": {},
     "output_type": "execute_result"
    }
   ],
   "source": [
    "x = [1,2,3,4,5]\n",
    "x"
   ]
  },
  {
   "cell_type": "code",
   "execution_count": 157,
   "id": "4ba4dde6",
   "metadata": {},
   "outputs": [
    {
     "data": {
      "text/plain": [
       "[1, 2, 3, 4, 5]"
      ]
     },
     "execution_count": 157,
     "metadata": {},
     "output_type": "execute_result"
    }
   ],
   "source": [
    "x1 = x # 주소 같이 씀\n",
    "x1"
   ]
  },
  {
   "cell_type": "code",
   "execution_count": 160,
   "id": "47fddb58",
   "metadata": {},
   "outputs": [
    {
     "name": "stdout",
     "output_type": "stream",
     "text": [
      "[100, 2, 3, 4, 5]\n",
      "[100, 2, 3, 4, 5]\n"
     ]
    }
   ],
   "source": [
    "x1[0]=100\n",
    "print(x1)\n",
    "print(x) # 원본값도 바뀜"
   ]
  },
  {
   "cell_type": "code",
   "execution_count": 163,
   "id": "233a7d24",
   "metadata": {},
   "outputs": [
    {
     "data": {
      "text/plain": [
       "[1, 2, 3, 4, 5]"
      ]
     },
     "execution_count": 163,
     "metadata": {},
     "output_type": "execute_result"
    }
   ],
   "source": [
    "x2 = x[:] # data만 복사\n",
    "x2"
   ]
  },
  {
   "cell_type": "code",
   "execution_count": 164,
   "id": "0cf7384b",
   "metadata": {},
   "outputs": [
    {
     "data": {
      "text/plain": [
       "([100, 2, 3, 4, 5], [1, 2, 3, 4, 5])"
      ]
     },
     "execution_count": 164,
     "metadata": {},
     "output_type": "execute_result"
    }
   ],
   "source": [
    "x2[0] = 100\n",
    "x2, x # 원본 값은 바뀌지 않음."
   ]
  },
  {
   "cell_type": "markdown",
   "id": "6d58460a",
   "metadata": {},
   "source": [
    "### reshape"
   ]
  },
  {
   "cell_type": "code",
   "execution_count": 166,
   "id": "78c684f6",
   "metadata": {},
   "outputs": [
    {
     "name": "stdout",
     "output_type": "stream",
     "text": [
      "type: <class 'numpy.ndarray'>\n",
      "shape: (2, 3), dimension: 2, dtype: int32\n",
      "Array's Data: \n",
      " [[2 7 9]\n",
      " [6 8 8]]\n"
     ]
    }
   ],
   "source": [
    "a = np.random.randint(1,10,(2,3)) # defalt = 중복 허용\n",
    "pprint(a)"
   ]
  },
  {
   "cell_type": "code",
   "execution_count": 167,
   "id": "abfc0db3",
   "metadata": {},
   "outputs": [
    {
     "name": "stdout",
     "output_type": "stream",
     "text": [
      "type: <class 'numpy.ndarray'>\n",
      "shape: (3, 2, 1), dimension: 3, dtype: int32\n",
      "Array's Data: \n",
      " [[[2]\n",
      "  [7]]\n",
      "\n",
      " [[9]\n",
      "  [6]]\n",
      "\n",
      " [[8]\n",
      "  [8]]]\n"
     ]
    }
   ],
   "source": [
    "result = a.reshape((3,2,1))   # 작업하려는 거 끼리 차원의 곱이 같아야함. 2*3 = 3*2*1\n",
    "pprint(result)"
   ]
  },
  {
   "cell_type": "code",
   "execution_count": 168,
   "id": "438dad6c",
   "metadata": {},
   "outputs": [
    {
     "data": {
      "text/plain": [
       "array([1, 2, 3, 4, 5, 6, 7, 8, 9])"
      ]
     },
     "execution_count": 168,
     "metadata": {},
     "output_type": "execute_result"
    }
   ],
   "source": [
    "x = np.array([1,2,3,4,5,6,7,8,9])\n",
    "x"
   ]
  },
  {
   "cell_type": "code",
   "execution_count": 169,
   "id": "202ade35",
   "metadata": {},
   "outputs": [
    {
     "name": "stdout",
     "output_type": "stream",
     "text": [
      "type: <class 'numpy.ndarray'>\n",
      "shape: (3, 3), dimension: 2, dtype: int32\n",
      "Array's Data: \n",
      " [[1 2 3]\n",
      " [4 5 6]\n",
      " [7 8 9]]\n"
     ]
    }
   ],
   "source": [
    "y = x.reshape(3,-1)\n",
    "pprint(y)\n",
    "# 본래 수가 9였는데 열을 무시해서 행값으로 나눔 9/3, 그래서 3행3열이 만들어짐"
   ]
  },
  {
   "cell_type": "code",
   "execution_count": 170,
   "id": "0a8cf12d",
   "metadata": {},
   "outputs": [
    {
     "name": "stdout",
     "output_type": "stream",
     "text": [
      "type: <class 'numpy.ndarray'>\n",
      "shape: (3, 3), dimension: 2, dtype: int32\n",
      "Array's Data: \n",
      " [[1 2 3]\n",
      " [4 5 6]\n",
      " [7 8 9]]\n"
     ]
    }
   ],
   "source": [
    "z = x.reshape(3,-2)\n",
    "pprint(z)"
   ]
  },
  {
   "cell_type": "markdown",
   "id": "07a64dc9",
   "metadata": {},
   "source": [
    "## 요소 추가/삭제\n",
    "- 원본의 값이 바뀌는 것은 아님\n",
    "- 배열의 요소 변경, 추가, 삽입, 삭제\n",
    "- resize, append(맨뒤), insert(원하는 위치), delete\n",
    "- resize와 reshape함수는 배열의 shape을 변경한다는 부분에서 유사하다.\n",
    " - 단, resize는 shape을 변경하는 과정에서 배열의 요소의 수가 증가하거나 감소한다.\n",
    " \n",
    " ### resize"
   ]
  },
  {
   "cell_type": "code",
   "execution_count": 171,
   "id": "6827b6d0",
   "metadata": {},
   "outputs": [
    {
     "name": "stdout",
     "output_type": "stream",
     "text": [
      "type: <class 'numpy.ndarray'>\n",
      "shape: (2, 6), dimension: 2, dtype: int32\n",
      "Array's Data: \n",
      " [[3 8 6 3 4 1]\n",
      " [5 9 9 1 2 1]]\n"
     ]
    }
   ],
   "source": [
    "a = np.random.randint(1,10,(2,6)) # defalt = 중복 허용\n",
    "pprint(a)"
   ]
  },
  {
   "cell_type": "code",
   "execution_count": 172,
   "id": "a1b16f98",
   "metadata": {},
   "outputs": [
    {
     "name": "stdout",
     "output_type": "stream",
     "text": [
      "type: <class 'numpy.ndarray'>\n",
      "shape: (6, 2), dimension: 2, dtype: int32\n",
      "Array's Data: \n",
      " [[3 8]\n",
      " [6 3]\n",
      " [4 1]\n",
      " [5 9]\n",
      " [9 1]\n",
      " [2 1]]\n"
     ]
    }
   ],
   "source": [
    "# shape 변경, 요소 변경 X\n",
    "a.resize((6,2))\n",
    "pprint(a)"
   ]
  },
  {
   "cell_type": "code",
   "execution_count": 173,
   "id": "d2ce40ce",
   "metadata": {},
   "outputs": [
    {
     "name": "stdout",
     "output_type": "stream",
     "text": [
      "type: <class 'numpy.ndarray'>\n",
      "shape: (2, 6), dimension: 2, dtype: int32\n",
      "Array's Data: \n",
      " [[8 5 1 8 7 1]\n",
      " [3 2 3 3 3 2]]\n"
     ]
    }
   ],
   "source": [
    "b = np.random.randint(1,10,(2,6)) # defalt = 중복 허용\n",
    "pprint(b)"
   ]
  },
  {
   "cell_type": "code",
   "execution_count": 175,
   "id": "4fda7d2f",
   "metadata": {},
   "outputs": [
    {
     "name": "stdout",
     "output_type": "stream",
     "text": [
      "type: <class 'numpy.ndarray'>\n",
      "shape: (2, 10), dimension: 2, dtype: int32\n",
      "Array's Data: \n",
      " [[8 5 1 8 7 1 3 2 3 3]\n",
      " [3 2 0 0 0 0 0 0 0 0]]\n"
     ]
    }
   ],
   "source": [
    "# 요소 12 -> 20개로 변경.\n",
    "## 늘어난 요소는 0으로 채워짐\n",
    "b.resize((2,10))\n",
    "pprint(b)"
   ]
  },
  {
   "cell_type": "code",
   "execution_count": 176,
   "id": "8912642c",
   "metadata": {},
   "outputs": [
    {
     "name": "stdout",
     "output_type": "stream",
     "text": [
      "type: <class 'numpy.ndarray'>\n",
      "shape: (2, 6), dimension: 2, dtype: int32\n",
      "Array's Data: \n",
      " [[3 6 5 1 8 4]\n",
      " [4 3 8 9 5 8]]\n"
     ]
    }
   ],
   "source": [
    "c = np.random.randint(1,10,(2,6)) # defalt = 중복 허용\n",
    "pprint(c)"
   ]
  },
  {
   "cell_type": "code",
   "execution_count": 177,
   "id": "661ad6a2",
   "metadata": {},
   "outputs": [
    {
     "name": "stdout",
     "output_type": "stream",
     "text": [
      "type: <class 'numpy.ndarray'>\n",
      "shape: (3, 3), dimension: 2, dtype: int32\n",
      "Array's Data: \n",
      " [[3 6 5]\n",
      " [1 8 4]\n",
      " [4 3 8]]\n"
     ]
    }
   ],
   "source": [
    "# 요소 12 -> 9\n",
    "## 남는 건 삭제\n",
    "c.resize((3,3))\n",
    "pprint(c)"
   ]
  },
  {
   "cell_type": "markdown",
   "id": "2cdbff5e",
   "metadata": {},
   "source": [
    "### append(arr, value, axis = None\n",
    "- 배열의 끝에 추가"
   ]
  },
  {
   "cell_type": "code",
   "execution_count": 178,
   "id": "46158a74",
   "metadata": {},
   "outputs": [
    {
     "name": "stdout",
     "output_type": "stream",
     "text": [
      "type: <class 'numpy.ndarray'>\n",
      "shape: (3, 3), dimension: 2, dtype: int32\n",
      "Array's Data: \n",
      " [[1 2 3]\n",
      " [4 5 6]\n",
      " [7 8 9]]\n",
      "type: <class 'numpy.ndarray'>\n",
      "shape: (3, 3), dimension: 2, dtype: int32\n",
      "Array's Data: \n",
      " [[10 11 12]\n",
      " [13 14 15]\n",
      " [16 17 18]]\n"
     ]
    }
   ],
   "source": [
    "x = np.arange(1,10).reshape(3,3)\n",
    "pprint(x)\n",
    "y = np.arange(10,19).reshape(3,3)\n",
    "pprint(y)"
   ]
  },
  {
   "cell_type": "code",
   "execution_count": 179,
   "id": "86c11746",
   "metadata": {},
   "outputs": [
    {
     "name": "stdout",
     "output_type": "stream",
     "text": [
      "type: <class 'numpy.ndarray'>\n",
      "shape: (18,), dimension: 1, dtype: int32\n",
      "Array's Data: \n",
      " [ 1  2  3  4  5  6  7  8  9 10 11 12 13 14 15 16 17 18]\n"
     ]
    }
   ],
   "source": [
    "# case1. axis 지정없이 추가\n",
    "## axis를 지정하지 않으면, 1차원배열로 변형되어 결합된다.\n",
    "result = np.append(x,y)\n",
    "pprint(result)"
   ]
  },
  {
   "cell_type": "code",
   "execution_count": 180,
   "id": "9b5a51eb",
   "metadata": {},
   "outputs": [
    {
     "name": "stdout",
     "output_type": "stream",
     "text": [
      "type: <class 'numpy.ndarray'>\n",
      "shape: (18,), dimension: 1, dtype: int32\n",
      "Array's Data: \n",
      " [ 1  2  3  4  5  6  7  8  9 10 11 12 13 14 15 16 17 18]\n"
     ]
    }
   ],
   "source": [
    "result = np.append(x,y)\n",
    "pprint(result)"
   ]
  },
  {
   "cell_type": "code",
   "execution_count": 181,
   "id": "0594c637",
   "metadata": {},
   "outputs": [
    {
     "name": "stdout",
     "output_type": "stream",
     "text": [
      "type: <class 'numpy.ndarray'>\n",
      "shape: (3, 3), dimension: 2, dtype: int32\n",
      "Array's Data: \n",
      " [[1 2 3]\n",
      " [4 5 6]\n",
      " [7 8 9]]\n"
     ]
    }
   ],
   "source": [
    "pprint(x)"
   ]
  },
  {
   "cell_type": "code",
   "execution_count": 183,
   "id": "9aeb80c5",
   "metadata": {},
   "outputs": [
    {
     "name": "stdout",
     "output_type": "stream",
     "text": [
      "type: <class 'numpy.ndarray'>\n",
      "shape: (6, 3), dimension: 2, dtype: int32\n",
      "Array's Data: \n",
      " [[ 1  2  3]\n",
      " [ 4  5  6]\n",
      " [ 7  8  9]\n",
      " [10 11 12]\n",
      " [13 14 15]\n",
      " [16 17 18]]\n"
     ]
    }
   ],
   "source": [
    "# case2. axis = 0, 행 기준으로 열작업\n",
    "## 열의 크기가 같아야한다.\n",
    "result = np.append(x, y, axis=0)\n",
    "pprint(result)"
   ]
  },
  {
   "cell_type": "code",
   "execution_count": 184,
   "id": "35b180d3",
   "metadata": {},
   "outputs": [
    {
     "name": "stdout",
     "output_type": "stream",
     "text": [
      "type: <class 'numpy.ndarray'>\n",
      "shape: (3, 6), dimension: 2, dtype: int32\n",
      "Array's Data: \n",
      " [[ 1  2  3 10 11 12]\n",
      " [ 4  5  6 13 14 15]\n",
      " [ 7  8  9 16 17 18]]\n"
     ]
    }
   ],
   "source": [
    "# case3. axis = 1, 열 기준으로 행작업\n",
    "## 행의 크기가 같아야한다.\n",
    "result = np.append(x,y, axis=1)\n",
    "pprint(result)"
   ]
  },
  {
   "cell_type": "markdown",
   "id": "518a6b0b",
   "metadata": {},
   "source": [
    "### insert(arr, obj, value, axis)"
   ]
  },
  {
   "cell_type": "code",
   "execution_count": 185,
   "id": "7bf5e664",
   "metadata": {},
   "outputs": [
    {
     "name": "stdout",
     "output_type": "stream",
     "text": [
      "type: <class 'numpy.ndarray'>\n",
      "shape: (3, 3), dimension: 2, dtype: int32\n",
      "Array's Data: \n",
      " [[1 2 3]\n",
      " [4 5 6]\n",
      " [7 8 9]]\n"
     ]
    }
   ],
   "source": [
    "a = np.arange(1,10).reshape(3,3)\n",
    "pprint(a)"
   ]
  },
  {
   "cell_type": "code",
   "execution_count": 186,
   "id": "87f8a70e",
   "metadata": {},
   "outputs": [
    {
     "data": {
      "text/plain": [
       "array([ 1, 99,  2,  3,  4,  5,  6,  7,  8,  9])"
      ]
     },
     "execution_count": 186,
     "metadata": {},
     "output_type": "execute_result"
    }
   ],
   "source": [
    "# a라는 배열을 1차원 배열로 변환하고 1번 인덱스에 99를 추가\n",
    "## axis값을 생략하면, 1차원 배열이 됨\n",
    "np.insert(a,1,99) # 1번 위치에 99로 추가(변경되는 것이 아니라 새로 생성)"
   ]
  },
  {
   "cell_type": "code",
   "execution_count": 187,
   "id": "be46837b",
   "metadata": {},
   "outputs": [
    {
     "data": {
      "text/plain": [
       "array([[ 1,  2,  3],\n",
       "       [99, 99, 99],\n",
       "       [ 4,  5,  6],\n",
       "       [ 7,  8,  9]])"
      ]
     },
     "execution_count": 187,
     "metadata": {},
     "output_type": "execute_result"
    }
   ],
   "source": [
    "np.insert(a, 1, 99, axis=0)\n",
    "# 행을 기준으로 열작업인데, 1번위차에 99의 값으로 추가?"
   ]
  },
  {
   "cell_type": "code",
   "execution_count": 188,
   "id": "3b16f6f0",
   "metadata": {},
   "outputs": [
    {
     "data": {
      "text/plain": [
       "array([[ 1, 99,  2,  3],\n",
       "       [ 4, 99,  5,  6],\n",
       "       [ 7, 99,  8,  9]])"
      ]
     },
     "execution_count": 188,
     "metadata": {},
     "output_type": "execute_result"
    }
   ],
   "source": [
    "np.insert(a, 1, 99, axis=1)"
   ]
  },
  {
   "cell_type": "markdown",
   "id": "aaa6947d",
   "metadata": {},
   "source": [
    "### delete(arr, obj, axis=None)"
   ]
  },
  {
   "cell_type": "code",
   "execution_count": 189,
   "id": "fd9dd821",
   "metadata": {},
   "outputs": [
    {
     "name": "stdout",
     "output_type": "stream",
     "text": [
      "type: <class 'numpy.ndarray'>\n",
      "shape: (3, 3), dimension: 2, dtype: int32\n",
      "Array's Data: \n",
      " [[1 2 3]\n",
      " [4 5 6]\n",
      " [7 8 9]]\n"
     ]
    }
   ],
   "source": [
    "a = np.arange(1,10).reshape(3,3)\n",
    "pprint(a)"
   ]
  },
  {
   "cell_type": "code",
   "execution_count": 194,
   "id": "a93329ab",
   "metadata": {},
   "outputs": [
    {
     "data": {
      "text/plain": [
       "array([1, 3, 4, 5, 6, 7, 8, 9])"
      ]
     },
     "execution_count": 194,
     "metadata": {},
     "output_type": "execute_result"
    }
   ],
   "source": [
    "# 1차원 배열로 변환하고 1번 인덱스를 삭제\n",
    "## axis 생략시 1차원 배열\n",
    "np.delete(a,1)"
   ]
  },
  {
   "cell_type": "code",
   "execution_count": 191,
   "id": "971ac5b1",
   "metadata": {},
   "outputs": [
    {
     "data": {
      "text/plain": [
       "array([[1, 2, 3],\n",
       "       [7, 8, 9]])"
      ]
     },
     "execution_count": 191,
     "metadata": {},
     "output_type": "execute_result"
    }
   ],
   "source": [
    "np.delete(a,1, axis=0)"
   ]
  },
  {
   "cell_type": "code",
   "execution_count": 192,
   "id": "43cc95ff",
   "metadata": {},
   "outputs": [
    {
     "data": {
      "text/plain": [
       "array([[1, 3],\n",
       "       [4, 6],\n",
       "       [7, 9]])"
      ]
     },
     "execution_count": 192,
     "metadata": {},
     "output_type": "execute_result"
    }
   ],
   "source": [
    "np.delete(a,1, axis=1)"
   ]
  },
  {
   "cell_type": "markdown",
   "id": "be0263ac",
   "metadata": {},
   "source": [
    "## 배열 결합\n",
    "- 결합할 배열을 튜플로 담는다.\n",
    "- np.concatenate((a1,a2), axis = 0 기본값)\n",
    "- np.vstack: 수직 방향으로 배열 결합(axis = 0) a2가 a1밑으로 간다.\n",
    "- np.hstack: 수평 방향으로 배열 결합(axis = 1) a2가 a1오른쪽으로 간다.\n",
    "\n",
    "### np.concatenate"
   ]
  },
  {
   "cell_type": "code",
   "execution_count": 196,
   "id": "b14a6255",
   "metadata": {},
   "outputs": [
    {
     "name": "stdout",
     "output_type": "stream",
     "text": [
      "type: <class 'numpy.ndarray'>\n",
      "shape: (2, 3), dimension: 2, dtype: int32\n",
      "Array's Data: \n",
      " [[1 2 3]\n",
      " [4 5 6]]\n",
      "type: <class 'numpy.ndarray'>\n",
      "shape: (2, 3), dimension: 2, dtype: int32\n",
      "Array's Data: \n",
      " [[ 7  8  9]\n",
      " [10 11 12]]\n"
     ]
    }
   ],
   "source": [
    "a = np.arange(1,7).reshape(2,3)\n",
    "pprint(a)\n",
    "b = np.arange(7,13).reshape(2,3)\n",
    "pprint(b)"
   ]
  },
  {
   "cell_type": "code",
   "execution_count": 197,
   "id": "523b4cc8",
   "metadata": {},
   "outputs": [
    {
     "data": {
      "text/plain": [
       "array([[ 1,  2,  3],\n",
       "       [ 4,  5,  6],\n",
       "       [ 7,  8,  9],\n",
       "       [10, 11, 12]])"
      ]
     },
     "execution_count": 197,
     "metadata": {},
     "output_type": "execute_result"
    }
   ],
   "source": [
    "result = np.concatenate((a,b)) # axis =0\n",
    "result"
   ]
  },
  {
   "cell_type": "code",
   "execution_count": 198,
   "id": "a9e5b458",
   "metadata": {},
   "outputs": [
    {
     "data": {
      "text/plain": [
       "array([[ 1,  2,  3],\n",
       "       [ 4,  5,  6],\n",
       "       [ 7,  8,  9],\n",
       "       [10, 11, 12]])"
      ]
     },
     "execution_count": 198,
     "metadata": {},
     "output_type": "execute_result"
    }
   ],
   "source": [
    "result = np.concatenate((a,b), axis =0)\n",
    "result"
   ]
  },
  {
   "cell_type": "code",
   "execution_count": 199,
   "id": "169bbd72",
   "metadata": {},
   "outputs": [
    {
     "data": {
      "text/plain": [
       "array([[ 1,  2,  3,  7,  8,  9],\n",
       "       [ 4,  5,  6, 10, 11, 12]])"
      ]
     },
     "execution_count": 199,
     "metadata": {},
     "output_type": "execute_result"
    }
   ],
   "source": [
    "result = np.concatenate((a,b), axis =1)\n",
    "result"
   ]
  },
  {
   "cell_type": "markdown",
   "id": "f3081c62",
   "metadata": {},
   "source": [
    "### 수직방향 배열결합 : vstack\n",
    "- np.concatenate((a,b), axis =0)와 동일"
   ]
  },
  {
   "cell_type": "code",
   "execution_count": 202,
   "id": "decfdf9f",
   "metadata": {},
   "outputs": [
    {
     "data": {
      "text/plain": [
       "array([[ 1,  2,  3],\n",
       "       [ 4,  5,  6],\n",
       "       [ 7,  8,  9],\n",
       "       [10, 11, 12]])"
      ]
     },
     "execution_count": 202,
     "metadata": {},
     "output_type": "execute_result"
    }
   ],
   "source": [
    "np.vstack((a,b))"
   ]
  },
  {
   "cell_type": "code",
   "execution_count": 203,
   "id": "a600a417",
   "metadata": {},
   "outputs": [
    {
     "data": {
      "text/plain": [
       "array([[ 1,  2,  3],\n",
       "       [ 4,  5,  6],\n",
       "       [ 7,  8,  9],\n",
       "       [10, 11, 12],\n",
       "       [ 1,  2,  3],\n",
       "       [ 4,  5,  6],\n",
       "       [ 7,  8,  9],\n",
       "       [10, 11, 12]])"
      ]
     },
     "execution_count": 203,
     "metadata": {},
     "output_type": "execute_result"
    }
   ],
   "source": [
    "np.vstack((a,b,a,b)) # 2개 이상도 가능"
   ]
  },
  {
   "cell_type": "markdown",
   "id": "b2715356",
   "metadata": {},
   "source": [
    "### 수평방향 배열결합: hstack\n",
    "- np.concatenate((a,b), axis =1)와 동일"
   ]
  },
  {
   "cell_type": "code",
   "execution_count": 204,
   "id": "4a012410",
   "metadata": {},
   "outputs": [
    {
     "name": "stdout",
     "output_type": "stream",
     "text": [
      "type: <class 'numpy.ndarray'>\n",
      "shape: (2, 3), dimension: 2, dtype: int32\n",
      "Array's Data: \n",
      " [[1 2 3]\n",
      " [4 5 6]]\n",
      "type: <class 'numpy.ndarray'>\n",
      "shape: (2, 3), dimension: 2, dtype: int32\n",
      "Array's Data: \n",
      " [[ 7  8  9]\n",
      " [10 11 12]]\n"
     ]
    }
   ],
   "source": [
    "a = np.arange(1,7).reshape(2,3)\n",
    "pprint(a)\n",
    "b = np.arange(7,13).reshape(2,3)\n",
    "pprint(b)"
   ]
  },
  {
   "cell_type": "code",
   "execution_count": 205,
   "id": "a7428730",
   "metadata": {},
   "outputs": [
    {
     "data": {
      "text/plain": [
       "array([[ 1,  2,  3,  7,  8,  9],\n",
       "       [ 4,  5,  6, 10, 11, 12]])"
      ]
     },
     "execution_count": 205,
     "metadata": {},
     "output_type": "execute_result"
    }
   ],
   "source": [
    "np.hstack((a,b))"
   ]
  },
  {
   "cell_type": "code",
   "execution_count": 206,
   "id": "27951268",
   "metadata": {},
   "outputs": [
    {
     "data": {
      "text/plain": [
       "array([[ 1,  2,  3,  7,  8,  9,  1,  2,  3,  7,  8,  9],\n",
       "       [ 4,  5,  6, 10, 11, 12,  4,  5,  6, 10, 11, 12]])"
      ]
     },
     "execution_count": 206,
     "metadata": {},
     "output_type": "execute_result"
    }
   ],
   "source": [
    "np.hstack((a,b,a,b))"
   ]
  },
  {
   "cell_type": "markdown",
   "id": "60d1c497",
   "metadata": {},
   "source": [
    "## 배열 분리\n",
    "- np.hsplit(): 수평(행)방향으로 분할\n",
    "- np.vsplit(): 수직(열)방향으로 분할\n",
    "\n",
    "### hsplit"
   ]
  },
  {
   "cell_type": "code",
   "execution_count": 207,
   "id": "3ae8c403",
   "metadata": {},
   "outputs": [
    {
     "name": "stdout",
     "output_type": "stream",
     "text": [
      "type: <class 'numpy.ndarray'>\n",
      "shape: (4, 6), dimension: 2, dtype: int32\n",
      "Array's Data: \n",
      " [[ 1  2  3  4  5  6]\n",
      " [ 7  8  9 10 11 12]\n",
      " [13 14 15 16 17 18]\n",
      " [19 20 21 22 23 24]]\n"
     ]
    }
   ],
   "source": [
    "a = np.arange(1,25).reshape(4,6)\n",
    "pprint(a)"
   ]
  },
  {
   "cell_type": "code",
   "execution_count": 208,
   "id": "6dc20513",
   "metadata": {},
   "outputs": [
    {
     "data": {
      "text/plain": [
       "[array([[ 1,  2,  3],\n",
       "        [ 7,  8,  9],\n",
       "        [13, 14, 15],\n",
       "        [19, 20, 21]]),\n",
       " array([[ 4,  5,  6],\n",
       "        [10, 11, 12],\n",
       "        [16, 17, 18],\n",
       "        [22, 23, 24]])]"
      ]
     },
     "execution_count": 208,
     "metadata": {},
     "output_type": "execute_result"
    }
   ],
   "source": [
    "# 수평 방향으로 두구릅으로 배열을 분할되면서 행렬이 늘어나니깐 3차원이 됨\n",
    "result = np.hsplit(a,2)\n",
    "result"
   ]
  },
  {
   "cell_type": "code",
   "execution_count": 209,
   "id": "0420c55e",
   "metadata": {},
   "outputs": [
    {
     "data": {
      "text/plain": [
       "[array([[ 1,  2],\n",
       "        [ 7,  8],\n",
       "        [13, 14],\n",
       "        [19, 20]]),\n",
       " array([[ 3,  4],\n",
       "        [ 9, 10],\n",
       "        [15, 16],\n",
       "        [21, 22]]),\n",
       " array([[ 5,  6],\n",
       "        [11, 12],\n",
       "        [17, 18],\n",
       "        [23, 24]])]"
      ]
     },
     "execution_count": 209,
     "metadata": {},
     "output_type": "execute_result"
    }
   ],
   "source": [
    "result = np.hsplit(a,3)\n",
    "result"
   ]
  },
  {
   "cell_type": "markdown",
   "id": "f484a19d",
   "metadata": {},
   "source": [
    "### 다양한 구간으로 분리"
   ]
  },
  {
   "cell_type": "code",
   "execution_count": 212,
   "id": "d20efafb",
   "metadata": {},
   "outputs": [
    {
     "data": {
      "text/plain": [
       "[array([[ 1],\n",
       "        [ 7],\n",
       "        [13],\n",
       "        [19]]),\n",
       " array([[ 2,  3],\n",
       "        [ 8,  9],\n",
       "        [14, 15],\n",
       "        [20, 21]]),\n",
       " array([[ 4,  5,  6],\n",
       "        [10, 11, 12],\n",
       "        [16, 17, 18],\n",
       "        [22, 23, 24]]),\n",
       " array([], shape=(4, 0), dtype=int32)]"
      ]
     },
     "execution_count": 212,
     "metadata": {},
     "output_type": "execute_result"
    }
   ],
   "source": [
    "# 구간 설정 배열을 이용하여 여러 구간으로 구분\n",
    "## 행단위로 1, 2, 3개의 값으로\n",
    "# a[:,:1] 1칸을 가져오는거\n",
    "# a[:,1:3] 2칸을\n",
    "# a[:,3:6] 3칸을 \n",
    "result = np.hsplit(a, [1,3,6]) # 인덱스를 가져오는 거기 때문에 그 위치를 잘 생각해보고 나눌것\n",
    "result"
   ]
  },
  {
   "cell_type": "code",
   "execution_count": null,
   "id": "e71a1116",
   "metadata": {},
   "outputs": [],
   "source": []
  }
 ],
 "metadata": {
  "kernelspec": {
   "display_name": "Python 3 (ipykernel)",
   "language": "python",
   "name": "python3"
  },
  "language_info": {
   "codemirror_mode": {
    "name": "ipython",
    "version": 3
   },
   "file_extension": ".py",
   "mimetype": "text/x-python",
   "name": "python",
   "nbconvert_exporter": "python",
   "pygments_lexer": "ipython3",
   "version": "3.9.7"
  },
  "toc": {
   "base_numbering": 1,
   "nav_menu": {},
   "number_sections": true,
   "sideBar": true,
   "skip_h1_title": false,
   "title_cell": "Table of Contents",
   "title_sidebar": "Contents",
   "toc_cell": false,
   "toc_position": {
    "height": "calc(100% - 180px)",
    "left": "10px",
    "top": "150px",
    "width": "307.2px"
   },
   "toc_section_display": true,
   "toc_window_display": false
  }
 },
 "nbformat": 4,
 "nbformat_minor": 5
}
