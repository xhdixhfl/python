{
 "cells": [
  {
   "cell_type": "code",
   "execution_count": 2,
   "id": "61f6f93f",
   "metadata": {},
   "outputs": [],
   "source": [
    "import pandas as pd\n",
    "import numpy as np"
   ]
  },
  {
   "cell_type": "markdown",
   "id": "041b0a65",
   "metadata": {},
   "source": [
    "### DatatimeIndex\n",
    "- 시계열 자료 : 인덱스에 날짜나 시간이 오는 데이터\n",
    "- 판다스에서 시계열 자료를 생성하려면 인덱스를 DatetimeIndex 자료형으로 만들어야함.\n",
    "- 주로 사용하는 함수\n",
    " - pd.to_datetime(): 문자열을 날짜/시간형 자료(datetime)로 바꿔주는 함수\n",
    " - pd.date_range(): 기간(시작일과 종료일)이 잡혀있으면 범위 내의 인덱스를 자동 생성하는 함수\n",
    " \n",
    " #### to_datetime()"
   ]
  },
  {
   "cell_type": "code",
   "execution_count": 4,
   "id": "5aeced05",
   "metadata": {},
   "outputs": [
    {
     "name": "stdout",
     "output_type": "stream",
     "text": [
      "<class 'list'>\n"
     ]
    }
   ],
   "source": [
    "# 문자열로 날자자료형을 가진 함수\n",
    "date_str = ['2018, 1, 1','2018, 1, 4','2018, 1, 5','2018, 1, 6']\n",
    "print(type(date_str))"
   ]
  },
  {
   "cell_type": "code",
   "execution_count": 5,
   "id": "3ad55c23",
   "metadata": {},
   "outputs": [
    {
     "data": {
      "text/plain": [
       "DatetimeIndex(['2018-01-01', '2018-01-04', '2018-01-05', '2018-01-06'], dtype='datetime64[ns]', freq=None)"
      ]
     },
     "execution_count": 5,
     "metadata": {},
     "output_type": "execute_result"
    }
   ],
   "source": [
    "## 시계열 자료로 변환\n",
    "idx = pd.to_datetime(date_str)\n",
    "idx # 객체가 바뀐걸 확인할 수 있음. freq 연속된 데이터 입니까?"
   ]
  },
  {
   "cell_type": "code",
   "execution_count": 7,
   "id": "d87ab1bd",
   "metadata": {},
   "outputs": [
    {
     "data": {
      "text/plain": [
       "2018-01-01    1.077950\n",
       "2018-01-04   -0.324325\n",
       "2018-01-05   -0.979690\n",
       "2018-01-06   -0.678520\n",
       "dtype: float64"
      ]
     },
     "execution_count": 7,
     "metadata": {},
     "output_type": "execute_result"
    }
   ],
   "source": [
    "# 시리즈 데이터 생성\n",
    "s = pd.Series(np.random.randn(4), index = idx)\n",
    "s # 시계열 데이터"
   ]
  },
  {
   "cell_type": "markdown",
   "id": "445799fd",
   "metadata": {},
   "source": [
    "#### pd.date_range()"
   ]
  },
  {
   "cell_type": "code",
   "execution_count": 8,
   "id": "3a259ddb",
   "metadata": {},
   "outputs": [
    {
     "data": {
      "text/plain": [
       "DatetimeIndex(['2022-04-02', '2022-04-03', '2022-04-04', '2022-04-05',\n",
       "               '2022-04-06', '2022-04-07', '2022-04-08', '2022-04-09',\n",
       "               '2022-04-10', '2022-04-11', '2022-04-12', '2022-04-13',\n",
       "               '2022-04-14', '2022-04-15', '2022-04-16', '2022-04-17',\n",
       "               '2022-04-18', '2022-04-19', '2022-04-20', '2022-04-21',\n",
       "               '2022-04-22', '2022-04-23', '2022-04-24', '2022-04-25',\n",
       "               '2022-04-26', '2022-04-27', '2022-04-28', '2022-04-29',\n",
       "               '2022-04-30'],\n",
       "              dtype='datetime64[ns]', freq='D')"
      ]
     },
     "execution_count": 8,
     "metadata": {},
     "output_type": "execute_result"
    }
   ],
   "source": [
    "# 시작일과 종료일 설정\n",
    "pd.date_range('2022-4-2','2022-4-30') # freq default = day(D)"
   ]
  },
  {
   "cell_type": "code",
   "execution_count": 9,
   "id": "0f3edd42",
   "metadata": {},
   "outputs": [
    {
     "data": {
      "text/plain": [
       "DatetimeIndex(['2022-10-01', '2022-10-02', '2022-10-03', '2022-10-04',\n",
       "               '2022-10-05', '2022-10-06', '2022-10-07', '2022-10-08',\n",
       "               '2022-10-09', '2022-10-10', '2022-10-11', '2022-10-12',\n",
       "               '2022-10-13', '2022-10-14', '2022-10-15', '2022-10-16',\n",
       "               '2022-10-17', '2022-10-18', '2022-10-19', '2022-10-20',\n",
       "               '2022-10-21', '2022-10-22', '2022-10-23', '2022-10-24',\n",
       "               '2022-10-25', '2022-10-26', '2022-10-27', '2022-10-28',\n",
       "               '2022-10-29', '2022-10-30'],\n",
       "              dtype='datetime64[ns]', freq='D')"
      ]
     },
     "execution_count": 9,
     "metadata": {},
     "output_type": "execute_result"
    }
   ],
   "source": [
    "# 기간 설정\n",
    "pd.date_range(start = '2022-10-1',periods = 30)"
   ]
  },
  {
   "cell_type": "markdown",
   "id": "fcacffa3",
   "metadata": {},
   "source": [
    "#### freq매개변수로 특정 날짜만 생성되도록 설정\n",
    "- s : second, 초\n",
    "- T : minute, 분\n",
    "- H : hour, 시간\n",
    "- D : day, 일\n",
    "- B : weekday, 평일\n",
    "- W : sunday\n",
    "- W-MON : 주(월요일\n",
    "- M : 각 달의 마지막 날\n",
    "- MS : 각 달의 첫날 ...\n",
    "- https://pandas.pydata.org/pandas-docs/stable/user_guide/timeseries.html#dateoffset-objects 참고"
   ]
  },
  {
   "cell_type": "code",
   "execution_count": 10,
   "id": "76fcfa15",
   "metadata": {},
   "outputs": [
    {
     "data": {
      "text/plain": [
       "DatetimeIndex(['2022-10-01', '2022-10-02', '2022-10-03', '2022-10-04',\n",
       "               '2022-10-05', '2022-10-06', '2022-10-07', '2022-10-08',\n",
       "               '2022-10-09', '2022-10-10', '2022-10-11', '2022-10-12',\n",
       "               '2022-10-13', '2022-10-14', '2022-10-15', '2022-10-16',\n",
       "               '2022-10-17', '2022-10-18', '2022-10-19', '2022-10-20',\n",
       "               '2022-10-21', '2022-10-22', '2022-10-23', '2022-10-24',\n",
       "               '2022-10-25', '2022-10-26', '2022-10-27', '2022-10-28',\n",
       "               '2022-10-29', '2022-10-30', '2022-10-31'],\n",
       "              dtype='datetime64[ns]', freq='D')"
      ]
     },
     "execution_count": 10,
     "metadata": {},
     "output_type": "execute_result"
    }
   ],
   "source": [
    "pd.date_range('2022-10-1','2022-10-31', freq='D')"
   ]
  },
  {
   "cell_type": "code",
   "execution_count": 11,
   "id": "9b089b56",
   "metadata": {},
   "outputs": [
    {
     "data": {
      "text/plain": [
       "DatetimeIndex(['2022-10-02', '2022-10-09', '2022-10-16', '2022-10-23',\n",
       "               '2022-10-30', '2022-11-06', '2022-11-13', '2022-11-20',\n",
       "               '2022-11-27', '2022-12-04', '2022-12-11', '2022-12-18',\n",
       "               '2022-12-25'],\n",
       "              dtype='datetime64[ns]', freq='W-SUN')"
      ]
     },
     "execution_count": 11,
     "metadata": {},
     "output_type": "execute_result"
    }
   ],
   "source": [
    "pd.date_range('2022-10-1','2022-12-31', freq='W-SUN')"
   ]
  },
  {
   "cell_type": "code",
   "execution_count": 12,
   "id": "0d1a4902",
   "metadata": {},
   "outputs": [
    {
     "data": {
      "text/plain": [
       "DatetimeIndex(['2022-10-03', '2022-10-10', '2022-10-17', '2022-10-24',\n",
       "               '2022-10-31', '2022-11-07', '2022-11-14', '2022-11-21',\n",
       "               '2022-11-28', '2022-12-05', '2022-12-12', '2022-12-19',\n",
       "               '2022-12-26'],\n",
       "              dtype='datetime64[ns]', freq='W-MON')"
      ]
     },
     "execution_count": 12,
     "metadata": {},
     "output_type": "execute_result"
    }
   ],
   "source": [
    "pd.date_range('2022-10-1','2022-12-31', freq='W-MON')"
   ]
  },
  {
   "cell_type": "markdown",
   "id": "c8de3c01",
   "metadata": {},
   "source": [
    "#### shift\n",
    "- 시계열 데이터의 인덱스에서 날짜단위로 이동을 할 떄 사용하는 함수"
   ]
  },
  {
   "cell_type": "code",
   "execution_count": 15,
   "id": "b1ea916f",
   "metadata": {},
   "outputs": [
    {
     "data": {
      "text/plain": [
       "2018-01-31    3.360361\n",
       "2018-02-28    0.314985\n",
       "2018-03-31    0.272509\n",
       "2018-04-30    0.019621\n",
       "Freq: M, dtype: float64"
      ]
     },
     "execution_count": 15,
     "metadata": {},
     "output_type": "execute_result"
    }
   ],
   "source": [
    "ts = pd.Series(np.random.randn(4), index = pd.date_range('2018-1-1', periods = 4, freq='M'))\n",
    "ts"
   ]
  },
  {
   "cell_type": "code",
   "execution_count": 16,
   "id": "dfc5c9ff",
   "metadata": {},
   "outputs": [
    {
     "data": {
      "text/plain": [
       "2018-01-31         NaN\n",
       "2018-02-28    3.360361\n",
       "2018-03-31    0.314985\n",
       "2018-04-30    0.272509\n",
       "Freq: M, dtype: float64"
      ]
     },
     "execution_count": 16,
     "metadata": {},
     "output_type": "execute_result"
    }
   ],
   "source": [
    "# 날짜는 그대로 값만 옆으로 한칸씩\n",
    "ts.shift(1)\n",
    "## ㄴ없어진 값은 누락값으로"
   ]
  },
  {
   "cell_type": "code",
   "execution_count": 17,
   "id": "4bdc2ef9",
   "metadata": {},
   "outputs": [
    {
     "data": {
      "text/plain": [
       "2018-01-31    0.314985\n",
       "2018-02-28    0.272509\n",
       "2018-03-31    0.019621\n",
       "2018-04-30         NaN\n",
       "Freq: M, dtype: float64"
      ]
     },
     "execution_count": 17,
     "metadata": {},
     "output_type": "execute_result"
    }
   ],
   "source": [
    "# 반대는 -1\n",
    "ts.shift(-1)"
   ]
  },
  {
   "cell_type": "code",
   "execution_count": 18,
   "id": "fa357031",
   "metadata": {},
   "outputs": [
    {
     "data": {
      "text/plain": [
       "2018-02-28    3.360361\n",
       "2018-03-31    0.314985\n",
       "2018-04-30    0.272509\n",
       "2018-05-31    0.019621\n",
       "Freq: M, dtype: float64"
      ]
     },
     "execution_count": 18,
     "metadata": {},
     "output_type": "execute_result"
    }
   ],
   "source": [
    "# 인덱스를 이동하고 싶다면, freq옵션\n",
    "ts.shift(1, freq='M')"
   ]
  },
  {
   "cell_type": "code",
   "execution_count": 19,
   "id": "5b378920",
   "metadata": {},
   "outputs": [
    {
     "data": {
      "text/plain": [
       "2018-02-04    3.360361\n",
       "2018-03-04    0.314985\n",
       "2018-04-01    0.272509\n",
       "2018-05-06    0.019621\n",
       "dtype: float64"
      ]
     },
     "execution_count": 19,
     "metadata": {},
     "output_type": "execute_result"
    }
   ],
   "source": [
    "ts.shift(1, freq='W')"
   ]
  },
  {
   "cell_type": "markdown",
   "id": "1ff27e90",
   "metadata": {},
   "source": [
    "#### resample\n",
    "- 날짜/시간의 간격을 재조정할 때 사용\n",
    "- 업샘플링, 다운샘플링\n",
    " - 모델의 데이터양이 너무 많거나(down-sample) 적을때(up-sample) 데이터의 양을 조정하기 위한 작업 "
   ]
  },
  {
   "cell_type": "code",
   "execution_count": 20,
   "id": "c9d40eb5",
   "metadata": {},
   "outputs": [
    {
     "data": {
      "text/plain": [
       "2018-01-01    0.008317\n",
       "2018-01-02    0.787628\n",
       "2018-01-03   -1.361326\n",
       "2018-01-04   -2.114075\n",
       "2018-01-05    1.440033\n",
       "                ...   \n",
       "2018-04-06    1.041590\n",
       "2018-04-07   -0.231426\n",
       "2018-04-08    0.091264\n",
       "2018-04-09   -1.483658\n",
       "2018-04-10    1.249991\n",
       "Freq: D, Length: 100, dtype: float64"
      ]
     },
     "execution_count": 20,
     "metadata": {},
     "output_type": "execute_result"
    }
   ],
   "source": [
    "ts = pd.Series(np.random.randn(100), index = pd.date_range('2018-1-1', \n",
    "                                                           periods = 100, freq='D'))\n",
    "ts"
   ]
  },
  {
   "cell_type": "markdown",
   "id": "c1a24138",
   "metadata": {},
   "source": [
    "##### Down Sample\n",
    "- 다운 샘플링의 경우는 원본 데이터가 그룹화 되는것.\n",
    "- 그룹을 묶어버리니깐 그 그룹의 대표가 될수있는 대푯값(보통 평균)이 있어야함."
   ]
  },
  {
   "cell_type": "code",
   "execution_count": 21,
   "id": "f622383a",
   "metadata": {},
   "outputs": [
    {
     "data": {
      "text/plain": [
       "2018-01-07   -0.301772\n",
       "2018-01-14    0.286334\n",
       "2018-01-21    0.150420\n",
       "2018-01-28    0.467533\n",
       "2018-02-04   -0.398122\n",
       "2018-02-11    0.100586\n",
       "2018-02-18    0.793809\n",
       "2018-02-25    0.524890\n",
       "2018-03-04    0.509726\n",
       "2018-03-11   -0.011956\n",
       "2018-03-18   -0.285613\n",
       "2018-03-25   -0.364557\n",
       "2018-04-01    0.519268\n",
       "2018-04-08    0.014945\n",
       "2018-04-15   -0.116834\n",
       "Freq: W-SUN, dtype: float64"
      ]
     },
     "execution_count": 21,
     "metadata": {},
     "output_type": "execute_result"
    }
   ],
   "source": [
    "ts.resample('W').mean()"
   ]
  },
  {
   "cell_type": "code",
   "execution_count": 22,
   "id": "e6d0a5b2",
   "metadata": {},
   "outputs": [
    {
     "data": {
      "text/plain": [
       "2018-01-31    0.008317\n",
       "2018-02-28    0.175385\n",
       "2018-03-31   -0.015877\n",
       "2018-04-30    1.222902\n",
       "Freq: M, dtype: float64"
      ]
     },
     "execution_count": 22,
     "metadata": {},
     "output_type": "execute_result"
    }
   ],
   "source": [
    "## 그룹화에 자주 사용되는 first, last 사용\n",
    "# first: 첫번쨰 값\n",
    "ts.resample('M').first()"
   ]
  },
  {
   "cell_type": "code",
   "execution_count": null,
   "id": "b04d8bb7",
   "metadata": {},
   "outputs": [],
   "source": []
  },
  {
   "cell_type": "code",
   "execution_count": null,
   "id": "e01c67a2",
   "metadata": {},
   "outputs": [],
   "source": []
  },
  {
   "cell_type": "code",
   "execution_count": null,
   "id": "99bfe80c",
   "metadata": {},
   "outputs": [],
   "source": []
  },
  {
   "cell_type": "code",
   "execution_count": null,
   "id": "2831ad14",
   "metadata": {},
   "outputs": [],
   "source": []
  }
 ],
 "metadata": {
  "kernelspec": {
   "display_name": "Python 3 (ipykernel)",
   "language": "python",
   "name": "python3"
  },
  "language_info": {
   "codemirror_mode": {
    "name": "ipython",
    "version": 3
   },
   "file_extension": ".py",
   "mimetype": "text/x-python",
   "name": "python",
   "nbconvert_exporter": "python",
   "pygments_lexer": "ipython3",
   "version": "3.9.7"
  },
  "toc": {
   "base_numbering": 1,
   "nav_menu": {},
   "number_sections": true,
   "sideBar": true,
   "skip_h1_title": false,
   "title_cell": "Table of Contents",
   "title_sidebar": "Contents",
   "toc_cell": false,
   "toc_position": {},
   "toc_section_display": true,
   "toc_window_display": false
  }
 },
 "nbformat": 4,
 "nbformat_minor": 5
}
