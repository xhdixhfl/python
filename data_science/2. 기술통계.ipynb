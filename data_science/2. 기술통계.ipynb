{
 "cells": [
  {
   "cell_type": "markdown",
   "id": "e4021f0c",
   "metadata": {},
   "source": [
    "### 데이터 개수: count\n",
    "- len()"
   ]
  },
  {
   "cell_type": "code",
   "execution_count": 1,
   "id": "6d55bb04",
   "metadata": {},
   "outputs": [],
   "source": [
    "import numpy as np"
   ]
  },
  {
   "cell_type": "code",
   "execution_count": 2,
   "id": "c5fc8761",
   "metadata": {},
   "outputs": [],
   "source": [
    "x = np.array([18, 5, 10, 23, 19, -8, 10, 0, 0, 5, 2, 15, 8,\n",
    "              2, 5, 4, 15, -1, 4, -7, -24, 7,  9, -6, 23, -13])\n"
   ]
  },
  {
   "cell_type": "code",
   "execution_count": 3,
   "id": "b7cf6dde",
   "metadata": {},
   "outputs": [
    {
     "data": {
      "text/plain": [
       "26"
      ]
     },
     "execution_count": 3,
     "metadata": {},
     "output_type": "execute_result"
    }
   ],
   "source": [
    "len(x)"
   ]
  },
  {
   "cell_type": "markdown",
   "id": "f02100b2",
   "metadata": {},
   "source": [
    "### 평균: mean, average\n",
    "- np.mean()"
   ]
  },
  {
   "cell_type": "code",
   "execution_count": 4,
   "id": "c071825b",
   "metadata": {},
   "outputs": [
    {
     "data": {
      "text/plain": [
       "4.8076923076923075"
      ]
     },
     "execution_count": 4,
     "metadata": {},
     "output_type": "execute_result"
    }
   ],
   "source": [
    "np.mean(x)"
   ]
  },
  {
   "cell_type": "markdown",
   "id": "65353566",
   "metadata": {},
   "source": [
    "### 분산: variance\n",
    "- var()\n",
    "- 표본 분산\n",
    "- 불편 분산(비편향 분산)\n",
    "- 일반적으로 표본 분산에서는 전체의 개수를 1에 뺀값을 나누지만 불편 분산에서는 전체개수로 나눈다."
   ]
  },
  {
   "cell_type": "code",
   "execution_count": 5,
   "id": "1f5a46a7",
   "metadata": {},
   "outputs": [
    {
     "data": {
      "text/plain": [
       "115.23224852071006"
      ]
     },
     "execution_count": 5,
     "metadata": {},
     "output_type": "execute_result"
    }
   ],
   "source": [
    "np.var(x) # 표본 분산"
   ]
  },
  {
   "cell_type": "code",
   "execution_count": 6,
   "id": "52a93d35",
   "metadata": {},
   "outputs": [
    {
     "data": {
      "text/plain": [
       "119.84153846153846"
      ]
     },
     "execution_count": 6,
     "metadata": {},
     "output_type": "execute_result"
    }
   ],
   "source": [
    "np.var(x, ddof = 1) # 비편향 분산"
   ]
  },
  {
   "cell_type": "markdown",
   "id": "11b27950",
   "metadata": {},
   "source": [
    "### 표준 편차: standard divation\n",
    "- std(), 분산의 양의 제곱근 값"
   ]
  },
  {
   "cell_type": "code",
   "execution_count": 7,
   "id": "3cf1d14e",
   "metadata": {},
   "outputs": [
    {
     "data": {
      "text/plain": [
       "10.734628476137871"
      ]
     },
     "execution_count": 7,
     "metadata": {},
     "output_type": "execute_result"
    }
   ],
   "source": [
    "np.std(x)"
   ]
  },
  {
   "cell_type": "markdown",
   "id": "58253b90",
   "metadata": {},
   "source": [
    "### 최댓값: maximum\n",
    "- max()"
   ]
  },
  {
   "cell_type": "code",
   "execution_count": 8,
   "id": "ba65759a",
   "metadata": {},
   "outputs": [
    {
     "data": {
      "text/plain": [
       "23"
      ]
     },
     "execution_count": 8,
     "metadata": {},
     "output_type": "execute_result"
    }
   ],
   "source": [
    "np.max(x)"
   ]
  },
  {
   "cell_type": "markdown",
   "id": "2a09cf4b",
   "metadata": {},
   "source": [
    "### 최솟값: minimum\n",
    "- min()"
   ]
  },
  {
   "cell_type": "code",
   "execution_count": 9,
   "id": "7203923a",
   "metadata": {},
   "outputs": [
    {
     "data": {
      "text/plain": [
       "-24"
      ]
     },
     "execution_count": 9,
     "metadata": {},
     "output_type": "execute_result"
    }
   ],
   "source": [
    "np.min(x)"
   ]
  },
  {
   "cell_type": "markdown",
   "id": "657de3c1",
   "metadata": {},
   "source": [
    "### 중앙값: median"
   ]
  },
  {
   "cell_type": "code",
   "execution_count": 10,
   "id": "9a272c30",
   "metadata": {},
   "outputs": [
    {
     "data": {
      "text/plain": [
       "5.0"
      ]
     },
     "execution_count": 10,
     "metadata": {},
     "output_type": "execute_result"
    }
   ],
   "source": [
    "np.median(x)"
   ]
  },
  {
   "cell_type": "markdown",
   "id": "31e674c2",
   "metadata": {},
   "source": [
    "### 사분위수: quantile\n",
    "- percentile(), 백분위수"
   ]
  },
  {
   "cell_type": "code",
   "execution_count": 11,
   "id": "60b65ad3",
   "metadata": {},
   "outputs": [
    {
     "data": {
      "text/plain": [
       "-24.0"
      ]
     },
     "execution_count": 11,
     "metadata": {},
     "output_type": "execute_result"
    }
   ],
   "source": [
    "np.percentile(x,0) # 최소값"
   ]
  },
  {
   "cell_type": "code",
   "execution_count": 12,
   "id": "a0ef1908",
   "metadata": {},
   "outputs": [
    {
     "data": {
      "text/plain": [
       "0.0"
      ]
     },
     "execution_count": 12,
     "metadata": {},
     "output_type": "execute_result"
    }
   ],
   "source": [
    "np.percentile(x,25) # 1사분위수..."
   ]
  },
  {
   "cell_type": "code",
   "execution_count": null,
   "id": "afab3441",
   "metadata": {},
   "outputs": [],
   "source": []
  }
 ],
 "metadata": {
  "kernelspec": {
   "display_name": "Python 3 (ipykernel)",
   "language": "python",
   "name": "python3"
  },
  "language_info": {
   "codemirror_mode": {
    "name": "ipython",
    "version": 3
   },
   "file_extension": ".py",
   "mimetype": "text/x-python",
   "name": "python",
   "nbconvert_exporter": "python",
   "pygments_lexer": "ipython3",
   "version": "3.9.7"
  },
  "toc": {
   "base_numbering": 1,
   "nav_menu": {},
   "number_sections": true,
   "sideBar": true,
   "skip_h1_title": false,
   "title_cell": "Table of Contents",
   "title_sidebar": "Contents",
   "toc_cell": false,
   "toc_position": {},
   "toc_section_display": true,
   "toc_window_display": false
  }
 },
 "nbformat": 4,
 "nbformat_minor": 5
}
