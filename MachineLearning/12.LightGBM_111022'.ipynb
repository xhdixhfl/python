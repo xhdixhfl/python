{
 "cells": [
  {
   "cell_type": "markdown",
   "id": "fd44ff70",
   "metadata": {},
   "source": [
    "## LightGBM\n",
    "### LightGBM 장단점\n",
    "  - XGB보다도 학습에 걸리는 시간이 훨씬 적으며 <span style ='color:lime'>메모리 사용량도 상대적으로 적다.</span>\n",
    "  - <u>카테고리형 피처를 자동 변환</u>하고, 예측 성능 역시 큰 차이가 없다.\n",
    "  - <span style ='color:lime'>**데이터의 갯수가 적을 경우 과적합**</span>이 발생하기 쉽다.\n",
    "  - 적은 데이터의 갯수에 대한 기준은 애매하지만 <u>LightGBM의 공식 문서에서 10,000건 이하</u>라고 기술하였다.\n",
    " <br>\n",
    " <br>\n",
    " \n",
    "### 트리 기반 알고리즘 특징\n",
    "  - 기존의 대부분 트리 기반 알고리즘은 트리의 깊이를 효과적으로 줄이기 위한 <span style ='color:lime'>균형 트리 분할(Level Wise) 방식</span>을 사용한다.\n",
    "  - 최대한 균형 잡힌 트리를 유지하면서 분할하기 때문에 <span style ='color:lime'>깊이가 최소화 되며 오버피팅에 보다 강한 구조</sapn>를 가진다.\n",
    "  - 하지만 <u>균형을 맞추기 위한 시간이 오래 걸리는 단점</u>이 있다.\n",
    "<br>\n",
    "<br>\n",
    "\n",
    "### LightGBM 특징\n",
    "  - LightGBM은 일반 GBM 계열의 트리 분할 방법과 다르게 <u>리프 중심 트리 분할(Leaf Wise) 방식을 사용</u>한다.\n",
    "  - 트리의 균형을 맞추지 않고 최대 손실 값(max delta loss)을 가지는 리프 노드를 지속적으로 분할하여 <span style ='color:lime'>깊이가 증가하고 비대칭적인 트리를 생성</span>한다.\n",
    "  - 이렇게 생성된 트리는 학습을 반복할수록 결국은 균형 트리 분할 방식보다 <u>예측 오류 손실을 최소화 할 수 있다는 것이 LightGBM 구현사상</u>이다."
   ]
  },
  {
   "cell_type": "markdown",
   "id": "2f933388",
   "metadata": {},
   "source": [
    "## 필수라이브러리"
   ]
  },
  {
   "cell_type": "code",
   "execution_count": 1,
   "id": "6a6de790",
   "metadata": {},
   "outputs": [],
   "source": [
    "import numpy as np\n",
    "import pandas as pd\n",
    "\n",
    "import matplotlib as mpl\n",
    "import matplotlib.pyplot as plt\n",
    "import seaborn as sns\n",
    "\n",
    "import warnings\n",
    "from IPython.display import Image # 이미지 주소로 불러오는 "
   ]
  },
  {
   "cell_type": "code",
   "execution_count": 2,
   "id": "81345916",
   "metadata": {},
   "outputs": [],
   "source": [
    "# 매직 명령어\n",
    "%matplotlib inline\n",
    "%config InlinedBackend.figure_format = 'retina'\n",
    "\n",
    "mpl.rc('font', family='batang')\n",
    "mpl.rcParams['font.family']='batang'\n",
    "mpl.rc('axes', unicode_minus=False)\n",
    "\n",
    "sns.set_style('dark') # 노트\n",
    "sns.set(color_codes=True)\n",
    "plt.rc('figure', figsize=(10,8))\n",
    "\n",
    "warnings.filterwarnings('ignore')"
   ]
  },
  {
   "cell_type": "markdown",
   "id": "8c637f3f",
   "metadata": {},
   "source": [
    "## 데이터 로딩 및 세트 분리"
   ]
  },
  {
   "cell_type": "code",
   "execution_count": 3,
   "id": "3036e2d3",
   "metadata": {},
   "outputs": [
    {
     "name": "stdout",
     "output_type": "stream",
     "text": [
      "(569, 30) (569,)\n"
     ]
    }
   ],
   "source": [
    "from lightgbm import LGBMClassifier\n",
    "from sklearn.datasets import load_breast_cancer\n",
    "from sklearn.model_selection import train_test_split\n",
    "\n",
    "data, target = load_breast_cancer(True) # 데이터와 타깃값 분리해서 로딩하기\n",
    "\n",
    "print(data.shape, target.shape) # 확인"
   ]
  },
  {
   "cell_type": "code",
   "execution_count": 5,
   "id": "47f10266",
   "metadata": {},
   "outputs": [
    {
     "name": "stdout",
     "output_type": "stream",
     "text": [
      "[1]\tvalid_0's binary_logloss: 0.565079\n",
      "Training until validation scores don't improve for 100 rounds\n",
      "[2]\tvalid_0's binary_logloss: 0.507451\n",
      "[3]\tvalid_0's binary_logloss: 0.458489\n",
      "[4]\tvalid_0's binary_logloss: 0.417481\n",
      "[5]\tvalid_0's binary_logloss: 0.385507\n",
      "[6]\tvalid_0's binary_logloss: 0.355773\n",
      "[7]\tvalid_0's binary_logloss: 0.329587\n",
      "[8]\tvalid_0's binary_logloss: 0.308478\n",
      "[9]\tvalid_0's binary_logloss: 0.285395\n",
      "[10]\tvalid_0's binary_logloss: 0.267055\n",
      "[11]\tvalid_0's binary_logloss: 0.252013\n",
      "[12]\tvalid_0's binary_logloss: 0.237018\n",
      "[13]\tvalid_0's binary_logloss: 0.224756\n",
      "[14]\tvalid_0's binary_logloss: 0.213383\n",
      "[15]\tvalid_0's binary_logloss: 0.203058\n",
      "[16]\tvalid_0's binary_logloss: 0.194015\n",
      "[17]\tvalid_0's binary_logloss: 0.186412\n",
      "[18]\tvalid_0's binary_logloss: 0.179108\n",
      "[19]\tvalid_0's binary_logloss: 0.174004\n",
      "[20]\tvalid_0's binary_logloss: 0.167155\n",
      "[21]\tvalid_0's binary_logloss: 0.162494\n",
      "[22]\tvalid_0's binary_logloss: 0.156886\n",
      "[23]\tvalid_0's binary_logloss: 0.152855\n",
      "[24]\tvalid_0's binary_logloss: 0.151113\n",
      "[25]\tvalid_0's binary_logloss: 0.148395\n",
      "[26]\tvalid_0's binary_logloss: 0.145869\n",
      "[27]\tvalid_0's binary_logloss: 0.143036\n",
      "[28]\tvalid_0's binary_logloss: 0.14033\n",
      "[29]\tvalid_0's binary_logloss: 0.139609\n",
      "[30]\tvalid_0's binary_logloss: 0.136109\n",
      "[31]\tvalid_0's binary_logloss: 0.134867\n",
      "[32]\tvalid_0's binary_logloss: 0.134729\n",
      "[33]\tvalid_0's binary_logloss: 0.1311\n",
      "[34]\tvalid_0's binary_logloss: 0.131143\n",
      "[35]\tvalid_0's binary_logloss: 0.129435\n",
      "[36]\tvalid_0's binary_logloss: 0.128474\n",
      "[37]\tvalid_0's binary_logloss: 0.126683\n",
      "[38]\tvalid_0's binary_logloss: 0.126112\n",
      "[39]\tvalid_0's binary_logloss: 0.122831\n",
      "[40]\tvalid_0's binary_logloss: 0.123162\n",
      "[41]\tvalid_0's binary_logloss: 0.125592\n",
      "[42]\tvalid_0's binary_logloss: 0.128293\n",
      "[43]\tvalid_0's binary_logloss: 0.128123\n",
      "[44]\tvalid_0's binary_logloss: 0.12789\n",
      "[45]\tvalid_0's binary_logloss: 0.122818\n",
      "[46]\tvalid_0's binary_logloss: 0.12496\n",
      "[47]\tvalid_0's binary_logloss: 0.125578\n",
      "[48]\tvalid_0's binary_logloss: 0.127381\n",
      "[49]\tvalid_0's binary_logloss: 0.128349\n",
      "[50]\tvalid_0's binary_logloss: 0.127004\n",
      "[51]\tvalid_0's binary_logloss: 0.130288\n",
      "[52]\tvalid_0's binary_logloss: 0.131362\n",
      "[53]\tvalid_0's binary_logloss: 0.133363\n",
      "[54]\tvalid_0's binary_logloss: 0.1332\n",
      "[55]\tvalid_0's binary_logloss: 0.134543\n",
      "[56]\tvalid_0's binary_logloss: 0.130803\n",
      "[57]\tvalid_0's binary_logloss: 0.130306\n",
      "[58]\tvalid_0's binary_logloss: 0.132514\n",
      "[59]\tvalid_0's binary_logloss: 0.133278\n",
      "[60]\tvalid_0's binary_logloss: 0.134804\n",
      "[61]\tvalid_0's binary_logloss: 0.136888\n",
      "[62]\tvalid_0's binary_logloss: 0.138745\n",
      "[63]\tvalid_0's binary_logloss: 0.140497\n",
      "[64]\tvalid_0's binary_logloss: 0.141368\n",
      "[65]\tvalid_0's binary_logloss: 0.140764\n",
      "[66]\tvalid_0's binary_logloss: 0.14348\n",
      "[67]\tvalid_0's binary_logloss: 0.143418\n",
      "[68]\tvalid_0's binary_logloss: 0.143682\n",
      "[69]\tvalid_0's binary_logloss: 0.145076\n",
      "[70]\tvalid_0's binary_logloss: 0.14686\n",
      "[71]\tvalid_0's binary_logloss: 0.148051\n",
      "[72]\tvalid_0's binary_logloss: 0.147664\n",
      "[73]\tvalid_0's binary_logloss: 0.149478\n",
      "[74]\tvalid_0's binary_logloss: 0.14708\n",
      "[75]\tvalid_0's binary_logloss: 0.14545\n",
      "[76]\tvalid_0's binary_logloss: 0.148767\n",
      "[77]\tvalid_0's binary_logloss: 0.149959\n",
      "[78]\tvalid_0's binary_logloss: 0.146083\n",
      "[79]\tvalid_0's binary_logloss: 0.14638\n",
      "[80]\tvalid_0's binary_logloss: 0.148461\n",
      "[81]\tvalid_0's binary_logloss: 0.15091\n",
      "[82]\tvalid_0's binary_logloss: 0.153011\n",
      "[83]\tvalid_0's binary_logloss: 0.154807\n",
      "[84]\tvalid_0's binary_logloss: 0.156501\n",
      "[85]\tvalid_0's binary_logloss: 0.158586\n",
      "[86]\tvalid_0's binary_logloss: 0.159819\n",
      "[87]\tvalid_0's binary_logloss: 0.161745\n",
      "[88]\tvalid_0's binary_logloss: 0.162829\n",
      "[89]\tvalid_0's binary_logloss: 0.159142\n",
      "[90]\tvalid_0's binary_logloss: 0.156765\n",
      "[91]\tvalid_0's binary_logloss: 0.158625\n",
      "[92]\tvalid_0's binary_logloss: 0.156832\n",
      "[93]\tvalid_0's binary_logloss: 0.154616\n",
      "[94]\tvalid_0's binary_logloss: 0.154263\n",
      "[95]\tvalid_0's binary_logloss: 0.157156\n",
      "[96]\tvalid_0's binary_logloss: 0.158617\n",
      "[97]\tvalid_0's binary_logloss: 0.157495\n",
      "[98]\tvalid_0's binary_logloss: 0.159413\n",
      "[99]\tvalid_0's binary_logloss: 0.15847\n",
      "[100]\tvalid_0's binary_logloss: 0.160746\n",
      "[101]\tvalid_0's binary_logloss: 0.16217\n",
      "[102]\tvalid_0's binary_logloss: 0.165293\n",
      "[103]\tvalid_0's binary_logloss: 0.164749\n",
      "[104]\tvalid_0's binary_logloss: 0.167097\n",
      "[105]\tvalid_0's binary_logloss: 0.167697\n",
      "[106]\tvalid_0's binary_logloss: 0.169462\n",
      "[107]\tvalid_0's binary_logloss: 0.169947\n",
      "[108]\tvalid_0's binary_logloss: 0.171\n",
      "[109]\tvalid_0's binary_logloss: 0.16907\n",
      "[110]\tvalid_0's binary_logloss: 0.169521\n",
      "[111]\tvalid_0's binary_logloss: 0.167719\n",
      "[112]\tvalid_0's binary_logloss: 0.166648\n",
      "[113]\tvalid_0's binary_logloss: 0.169053\n",
      "[114]\tvalid_0's binary_logloss: 0.169613\n",
      "[115]\tvalid_0's binary_logloss: 0.170059\n",
      "[116]\tvalid_0's binary_logloss: 0.1723\n",
      "[117]\tvalid_0's binary_logloss: 0.174733\n",
      "[118]\tvalid_0's binary_logloss: 0.173526\n",
      "[119]\tvalid_0's binary_logloss: 0.1751\n",
      "[120]\tvalid_0's binary_logloss: 0.178254\n",
      "[121]\tvalid_0's binary_logloss: 0.182968\n",
      "[122]\tvalid_0's binary_logloss: 0.179017\n",
      "[123]\tvalid_0's binary_logloss: 0.178326\n",
      "[124]\tvalid_0's binary_logloss: 0.177149\n",
      "[125]\tvalid_0's binary_logloss: 0.179171\n",
      "[126]\tvalid_0's binary_logloss: 0.180948\n",
      "[127]\tvalid_0's binary_logloss: 0.183861\n",
      "[128]\tvalid_0's binary_logloss: 0.187579\n",
      "[129]\tvalid_0's binary_logloss: 0.188122\n",
      "[130]\tvalid_0's binary_logloss: 0.1857\n",
      "[131]\tvalid_0's binary_logloss: 0.187442\n",
      "[132]\tvalid_0's binary_logloss: 0.188578\n",
      "[133]\tvalid_0's binary_logloss: 0.189729\n",
      "[134]\tvalid_0's binary_logloss: 0.187313\n",
      "[135]\tvalid_0's binary_logloss: 0.189279\n",
      "[136]\tvalid_0's binary_logloss: 0.191068\n",
      "[137]\tvalid_0's binary_logloss: 0.192414\n",
      "[138]\tvalid_0's binary_logloss: 0.191255\n",
      "[139]\tvalid_0's binary_logloss: 0.193453\n",
      "[140]\tvalid_0's binary_logloss: 0.196969\n",
      "[141]\tvalid_0's binary_logloss: 0.196378\n",
      "[142]\tvalid_0's binary_logloss: 0.196367\n",
      "[143]\tvalid_0's binary_logloss: 0.19869\n",
      "[144]\tvalid_0's binary_logloss: 0.200352\n",
      "[145]\tvalid_0's binary_logloss: 0.19712\n",
      "Early stopping, best iteration is:\n",
      "[45]\tvalid_0's binary_logloss: 0.122818\n"
     ]
    },
    {
     "data": {
      "text/plain": [
       "LGBMClassifier(n_estimators=4000)"
      ]
     },
     "execution_count": 5,
     "metadata": {},
     "output_type": "execute_result"
    }
   ],
   "source": [
    "X_train, X_test, y_train, y_test = train_test_split(data, target, test_size=0.2,\n",
    "                                                   random_state=156)\n",
    "\n",
    "evals = [(X_test, y_test)] \n",
    "\n",
    "#학습\n",
    "lgbm = LGBMClassifier(n_estimators = 4000)\n",
    "lgbm.fit(X_train, y_train, early_stopping_rounds=100, eval_metric='logloss',\n",
    "        eval_set = evals, verbose = True) # xgboost 속성 참고"
   ]
  },
  {
   "cell_type": "markdown",
   "id": "3ea1e615",
   "metadata": {},
   "source": [
    "### 예측과 평가"
   ]
  },
  {
   "cell_type": "code",
   "execution_count": 6,
   "id": "e480b494",
   "metadata": {},
   "outputs": [],
   "source": [
    "from sklearn.metrics import accuracy_score, precision_score, recall_score\n",
    "from sklearn.metrics import confusion_matrix, f1_score, roc_auc_score\n",
    "\n",
    "predict = lgbm.predict(X_test) # 예측"
   ]
  },
  {
   "cell_type": "code",
   "execution_count": 8,
   "id": "91a92b6f",
   "metadata": {},
   "outputs": [
    {
     "data": {
      "text/plain": [
       "0.956140350877193"
      ]
     },
     "execution_count": 8,
     "metadata": {},
     "output_type": "execute_result"
    }
   ],
   "source": [
    "# 정확도\n",
    "accuracy = accuracy_score(y_test, predict) \n",
    "accuracy"
   ]
  },
  {
   "cell_type": "code",
   "execution_count": 9,
   "id": "702b44aa",
   "metadata": {},
   "outputs": [
    {
     "data": {
      "text/plain": [
       "0.95"
      ]
     },
     "execution_count": 9,
     "metadata": {},
     "output_type": "execute_result"
    }
   ],
   "source": [
    "# 정밀도 \n",
    "preci = precision_score(y_test, predict)\n",
    "preci"
   ]
  },
  {
   "cell_type": "code",
   "execution_count": 10,
   "id": "6120c657",
   "metadata": {},
   "outputs": [
    {
     "data": {
      "text/plain": [
       "0.987012987012987"
      ]
     },
     "execution_count": 10,
     "metadata": {},
     "output_type": "execute_result"
    }
   ],
   "source": [
    "# 재현율\n",
    "recall = recall_score(y_test, predict)\n",
    "recall"
   ]
  },
  {
   "cell_type": "code",
   "execution_count": 11,
   "id": "fbaf7975",
   "metadata": {
    "scrolled": true
   },
   "outputs": [
    {
     "data": {
      "text/plain": [
       "0.9681528662420381"
      ]
     },
     "execution_count": 11,
     "metadata": {},
     "output_type": "execute_result"
    }
   ],
   "source": [
    "# F1\n",
    "f1 = f1_score(y_test, predict)\n",
    "f1"
   ]
  },
  {
   "cell_type": "code",
   "execution_count": null,
   "id": "7549a036",
   "metadata": {},
   "outputs": [],
   "source": [
    "# 예측\n",
    "predict_proba_po = lgbm.predict_proba(X_test)[:,1].reshape(-1,1) # 양성값만"
   ]
  },
  {
   "cell_type": "code",
   "execution_count": null,
   "id": "a2488bde",
   "metadata": {},
   "outputs": [],
   "source": [
    "# auc 커브\n",
    "auc = roc_auc_score(y_test, predict_proba_po)"
   ]
  },
  {
   "cell_type": "code",
   "execution_count": null,
   "id": "587b51ba",
   "metadata": {},
   "outputs": [],
   "source": [
    "# 혼돈 행렬\n",
    "confu = confusion_matrix(y_test, predict_proba_po)"
   ]
  }
 ],
 "metadata": {
  "kernelspec": {
   "display_name": "Python 3 (ipykernel)",
   "language": "python",
   "name": "python3"
  },
  "language_info": {
   "codemirror_mode": {
    "name": "ipython",
    "version": 3
   },
   "file_extension": ".py",
   "mimetype": "text/x-python",
   "name": "python",
   "nbconvert_exporter": "python",
   "pygments_lexer": "ipython3",
   "version": "3.9.7"
  },
  "toc": {
   "base_numbering": 1,
   "nav_menu": {},
   "number_sections": true,
   "sideBar": true,
   "skip_h1_title": false,
   "title_cell": "Table of Contents",
   "title_sidebar": "Contents",
   "toc_cell": false,
   "toc_position": {},
   "toc_section_display": true,
   "toc_window_display": false
  }
 },
 "nbformat": 4,
 "nbformat_minor": 5
}
