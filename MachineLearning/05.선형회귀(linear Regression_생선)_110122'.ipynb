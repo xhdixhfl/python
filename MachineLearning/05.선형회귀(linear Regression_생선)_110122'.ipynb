{
 "cells": [
  {
   "cell_type": "markdown",
   "id": "cf4120af",
   "metadata": {},
   "source": [
    "### k-최근접 이웃의 한계\n",
    "- k- 최근 접이웃은 데이터 범위 내 값이 들어오면 예측력이 떨어진다는 단점이 있다.\n",
    " - 그 점을 보완하기 위해 사용하는 것이 선형회귀\n",
    "- 새로운 데이터 예측력 낮음"
   ]
  },
  {
   "cell_type": "code",
   "execution_count": 1,
   "id": "589415b2",
   "metadata": {},
   "outputs": [],
   "source": [
    "import numpy as np\n",
    "import pandas as pd\n",
    "import matplotlib.pyplot as plt"
   ]
  },
  {
   "cell_type": "code",
   "execution_count": 2,
   "id": "2b5704fe",
   "metadata": {},
   "outputs": [],
   "source": [
    "perch_length = np.array([8.4, 13.7, 15.0, 16.2, 17.4, 18.0, 18.7, 19.0, \n",
    "                         19.6, 20.0, 21.0,21.0, 21.0, 21.3, 22.0, 22.0, \n",
    "                         22.0, 22.0, 22.0, 22.5, 22.5, 22.7,23.0, 23.5, \n",
    "                         24.0, 24.0, 24.6, 25.0, 25.6, 26.5, 27.3, 27.5,\n",
    "                         27.5,27.5, 28.0, 28.7, 30.0, 32.8, 34.5, 35.0,\n",
    "                         36.5, 36.0, 37.0, 37.0,39.0, 39.0, 39.0, 40.0, \n",
    "                         40.0, 40.0, 40.0, 42.0, 43.0, 43.0, 43.5,44.0])\n",
    "\n",
    "perch_weight = np.array([5.9, 32.0, 40.0, 51.5, 70.0, 100.0, 78.0, 80.0,\n",
    "                         85.0, 85.0, 110.0, 115.0, 125.0, 130.0, 120.0,\n",
    "                         120.0, 130.0, 135.0, 110.0, 130.0,150.0, 145.0,\n",
    "                         150.0, 170.0, 225.0, 145.0, 188.0, 180.0, 197.0,\n",
    "                         218.0, 300.0, 260.0, 265.0, 250.0, 250.0, 300.0,\n",
    "                         320.0, 514.0,556.0, 840.0, 685.0, 700.0, 700.0, \n",
    "                         690.0, 900.0, 650.0, 820.0,850.0, 900.0, 1015.0,\n",
    "                         820.0, 1100.0, 1000.0, 1100.0, 1000.0,1000.0])"
   ]
  },
  {
   "cell_type": "code",
   "execution_count": 7,
   "id": "9801d300",
   "metadata": {},
   "outputs": [],
   "source": [
    "from sklearn.model_selection import train_test_split\n",
    "train_input, test_input, train_target, test_target = train_test_split(\n",
    "perch_length, perch_weight, random_state = 42)"
   ]
  },
  {
   "cell_type": "code",
   "execution_count": 8,
   "id": "21f55c49",
   "metadata": {},
   "outputs": [],
   "source": [
    "train_input = train_input.reshape(-1,1)\n",
    "test_input = test_input.reshape(-1,1)"
   ]
  },
  {
   "cell_type": "markdown",
   "id": "7a1839e1",
   "metadata": {},
   "source": [
    "##### k-최근접 이웃 회귀알고리즘"
   ]
  },
  {
   "cell_type": "code",
   "execution_count": 9,
   "id": "45cd1369",
   "metadata": {},
   "outputs": [
    {
     "data": {
      "text/plain": [
       "KNeighborsRegressor(n_neighbors=3)"
      ]
     },
     "execution_count": 9,
     "metadata": {},
     "output_type": "execute_result"
    }
   ],
   "source": [
    "# k-최근접 이웃 회귀알고리즘(이웃수 = 3)\n",
    "from sklearn.neighbors import KNeighborsRegressor\n",
    "knr = KNeighborsRegressor(n_neighbors = 3)\n",
    "# 학습\n",
    "knr.fit(train_input, train_target)"
   ]
  },
  {
   "cell_type": "code",
   "execution_count": 10,
   "id": "511a8bb0",
   "metadata": {},
   "outputs": [
    {
     "data": {
      "text/plain": [
       "array([1033.33333333])"
      ]
     },
     "execution_count": 10,
     "metadata": {},
     "output_type": "execute_result"
    }
   ],
   "source": [
    "# 길이가 50cm인 생선 무게 예측\n",
    "knr.predict([[50]]) # 2차원에 담음"
   ]
  },
  {
   "cell_type": "code",
   "execution_count": 14,
   "id": "51fb8fd3",
   "metadata": {},
   "outputs": [
    {
     "data": {
      "image/png": "[encoded data removed]",
      "text/plain": [
       "<Figure size 432x288 with 1 Axes>"
      ]
     },
     "metadata": {
      "needs_background": "dark"
     },
     "output_type": "display_data"
    }
   ],
   "source": [
    "# 길이가 50cm인 생선의 주변 이웃들 \n",
    "distances, indexs = knr.kneighbors([[50]])\n",
    "\n",
    "# 시각화\n",
    "plt.scatter(train_input, train_target, color = 'b')\n",
    "plt.scatter(train_input[indexs], train_target[indexs], \n",
    "            marker='D', color ='g')\n",
    "plt.scatter(50, 1033, marker ='^', color = 'r')\n",
    "plt.xlabel('length')\n",
    "plt.ylabel('weight')\n",
    "\n",
    "plt.show()\n",
    "## 새로운 데이터의 예측력이 떨어진다."
   ]
  },
  {
   "cell_type": "code",
   "execution_count": 18,
   "id": "b92c03f5",
   "metadata": {},
   "outputs": [
    {
     "data": {
      "image/png": "[encoded data removed]",
      "text/plain": [
       "<Figure size 432x288 with 1 Axes>"
      ]
     },
     "metadata": {
      "needs_background": "dark"
     },
     "output_type": "display_data"
    }
   ],
   "source": [
    "# 길이가 50cm인 생선의 주변 이웃들 \n",
    "distances, indexs = knr.kneighbors([[100]])\n",
    "# 시각화\n",
    "plt.scatter(train_input, train_target, color = 'b')\n",
    "plt.scatter(train_input[indexs], train_target[indexs], \n",
    "            marker='D', color ='y')\n",
    "plt.scatter(100, 1033, marker ='^', color = 'r')\n",
    "plt.xlabel('length')\n",
    "plt.ylabel('weight')\n",
    "\n",
    "plt.show()\n",
    "## 새로운 데이터의 예측력이 떨어진다.\n"
   ]
  },
  {
   "cell_type": "markdown",
   "id": "aa405b32",
   "metadata": {},
   "source": [
    "### LinearRegression 알고리즘\n",
    "- 선형회귀 분석"
   ]
  },
  {
   "cell_type": "markdown",
   "id": "9a31d451",
   "metadata": {},
   "source": [
    "#### 단항 회귀"
   ]
  },
  {
   "cell_type": "code",
   "execution_count": 19,
   "id": "39dae9a1",
   "metadata": {},
   "outputs": [
    {
     "data": {
      "text/plain": [
       "LinearRegression()"
      ]
     },
     "execution_count": 19,
     "metadata": {},
     "output_type": "execute_result"
    }
   ],
   "source": [
    "from sklearn.linear_model import LinearRegression\n",
    "lr = LinearRegression() #인스턴스 객체 생성\n",
    "\n",
    "# 모델 학습\n",
    "lr.fit(train_input, train_target)"
   ]
  },
  {
   "cell_type": "code",
   "execution_count": 20,
   "id": "56652450",
   "metadata": {},
   "outputs": [
    {
     "data": {
      "text/plain": [
       "array([1241.83860323])"
      ]
     },
     "execution_count": 20,
     "metadata": {},
     "output_type": "execute_result"
    }
   ],
   "source": [
    "# 50cm의 무게 예측\n",
    "lr.predict([[50]])"
   ]
  },
  {
   "cell_type": "code",
   "execution_count": null,
   "id": "53b0c967",
   "metadata": {},
   "outputs": [],
   "source": [
    "print(lr.coef_, lr.intercept_)  # 모델 파라미터\n",
    "# 기울기, 상관계수, 가중치 / 절편"
   ]
  },
  {
   "cell_type": "code",
   "execution_count": 23,
   "id": "ac746d00",
   "metadata": {},
   "outputs": [
    {
     "data": {
      "image/png": "[encoded data removed]",
      "text/plain": [
       "<Figure size 432x288 with 1 Axes>"
      ]
     },
     "metadata": {
      "needs_background": "dark"
     },
     "output_type": "display_data"
    }
   ],
   "source": [
    "# 데이터\n",
    "plt.scatter(train_input, train_target, color ='k')\n",
    "# 길이는 15~50 정도 회귀선\n",
    "plt.plot([15,50], [15*lr.coef_ + lr.intercept_, 50*lr.coef_ + lr.intercept_],\n",
    "        color = 'c')\n",
    "# 예측 값\n",
    "plt.scatter(50, 1241.8, marker ='^', color = 'r')\n",
    "plt.xlabel('length')\n",
    "plt.ylabel('weight')\n",
    "plt.show()\n",
    "## 회귀 선 안에 예측값이 있는걸 봐서는 예측력이 좋다는 것을 알수 있음."
   ]
  },
  {
   "cell_type": "code",
   "execution_count": 24,
   "id": "1d75466c",
   "metadata": {},
   "outputs": [
    {
     "name": "stdout",
     "output_type": "stream",
     "text": [
      "0.939846333997604\n",
      "0.8247503123313558\n"
     ]
    }
   ],
   "source": [
    "# 과대 적합, 과소 적합을 알아보기 위한 결정계수\n",
    "print(lr.score(train_input, train_target))\n",
    "print(lr.score(test_input, test_target))"
   ]
  },
  {
   "cell_type": "markdown",
   "id": "0e1f0807",
   "metadata": {},
   "source": [
    "아래쪽으로 내려온다 생각할 떄 무게가 -값을 띌수 있고 데이터의 분포가 직선보단 곡선에 가깝기 때문에 최적의 직선보다 최선의 곡선(다항 회귀)를 찾아야 한다."
   ]
  },
  {
   "cell_type": "markdown",
   "id": "193ff65d",
   "metadata": {},
   "source": [
    "#### 다항 회귀\n",
    "- w = a * x^2 * bx +c"
   ]
  },
  {
   "cell_type": "code",
   "execution_count": 25,
   "id": "29cec629",
   "metadata": {},
   "outputs": [],
   "source": [
    "# 2차 방정식 그래프를 그리기 위해 길이를 제곱한(input**2) 항을 추가하는 작업을 진행해야 한다.\n",
    "train_poly = np.column_stack((train_input**2, train_input))\n",
    "test_poly = np.column_stack((test_input**2, test_input))"
   ]
  },
  {
   "cell_type": "code",
   "execution_count": 26,
   "id": "9fa7d608",
   "metadata": {},
   "outputs": [
    {
     "data": {
      "text/plain": [
       "((42, 2), (14, 2))"
      ]
     },
     "execution_count": 26,
     "metadata": {},
     "output_type": "execute_result"
    }
   ],
   "source": [
    "train_poly.shape, test_poly.shape"
   ]
  },
  {
   "cell_type": "code",
   "execution_count": 28,
   "id": "cfcf58e2",
   "metadata": {},
   "outputs": [
    {
     "data": {
      "text/plain": [
       "LinearRegression()"
      ]
     },
     "execution_count": 28,
     "metadata": {},
     "output_type": "execute_result"
    }
   ],
   "source": [
    "lr = LinearRegression() # instance\n",
    "# 학습\n",
    "lr.fit(train_poly, train_target)"
   ]
  },
  {
   "cell_type": "code",
   "execution_count": 29,
   "id": "d47fd142",
   "metadata": {},
   "outputs": [
    {
     "data": {
      "text/plain": [
       "array([1573.98423528])"
      ]
     },
     "execution_count": 29,
     "metadata": {},
     "output_type": "execute_result"
    }
   ],
   "source": [
    "# 예측\n",
    "lr.predict([[50**2, 50]])"
   ]
  },
  {
   "cell_type": "code",
   "execution_count": 30,
   "id": "2b78b116",
   "metadata": {},
   "outputs": [
    {
     "data": {
      "text/plain": [
       "(array([  1.01433211, -21.55792498]), 116.05021078278259)"
      ]
     },
     "execution_count": 30,
     "metadata": {},
     "output_type": "execute_result"
    }
   ],
   "source": [
    "lr.coef_, lr.intercept_ # 기울기와 절편"
   ]
  },
  {
   "cell_type": "markdown",
   "id": "1cbadd3d",
   "metadata": {},
   "source": [
    "- 무게 = 1.01 * 길이<sup>2</sup> + (-21.6) * 길이 + 116.05"
   ]
  },
  {
   "cell_type": "code",
   "execution_count": 32,
   "id": "7bf392e3",
   "metadata": {},
   "outputs": [
    {
     "data": {
      "image/png": "[encoded data removed]",
      "text/plain": [
       "<Figure size 432x288 with 1 Axes>"
      ]
     },
     "metadata": {
      "needs_background": "dark"
     },
     "output_type": "display_data"
    }
   ],
   "source": [
    "point = np.arange(15,50)\n",
    "plt.scatter(train_input, train_target, color ='k')\n",
    "# 길이는 15~50 정도 회귀선\n",
    "plt.plot(point, 1.01*point**2 - 21.6*point +116.05,\n",
    "        color = 'c')\n",
    "# 예측 값\n",
    "plt.scatter(50, 1574, marker ='^', color = 'r')\n",
    "plt.xlabel('length')\n",
    "plt.ylabel('weight')\n",
    "plt.show()\n",
    "## 회귀 선 안\n"
   ]
  },
  {
   "cell_type": "code",
   "execution_count": 33,
   "id": "c30ddf3a",
   "metadata": {},
   "outputs": [
    {
     "name": "stdout",
     "output_type": "stream",
     "text": [
      "0.9706807451768623\n",
      "0.9775935108325121\n"
     ]
    }
   ],
   "source": [
    "# 결정계수\n",
    "print(lr.score(train_poly, train_target))\n",
    "print(lr.score(test_poly, test_target))\n",
    "## 훈련셋과 테스트셋의 차이가 많이 줄어든것을 확인할 수 있다.\n",
    "### test가 낮다는 것은 과소 적합이 의심될 수 있다."
   ]
  },
  {
   "cell_type": "markdown",
   "id": "a75b3d15",
   "metadata": {},
   "source": [
    "### 다중회귀 (multiple regression)\n",
    "- 여러개의 특성을 이용해서 선형회귀 알고리즘을 표현하는것\n",
    "- 특성공학: 기존의 특성을 사용해 새로운 특성을 뽑아냄"
   ]
  },
  {
   "cell_type": "code",
   "execution_count": 34,
   "id": "e4fc9acd",
   "metadata": {},
   "outputs": [],
   "source": [
    "df= pd.read_csv('https://raw.githubusercontent.com/rickiepark/hg-mldl/master/perch_full.csv')"
   ]
  },
  {
   "cell_type": "code",
   "execution_count": 36,
   "id": "4448ab81",
   "metadata": {},
   "outputs": [
    {
     "data": {
      "text/plain": [
       "array([[ 8.4 ,  2.11,  1.41],\n",
       "       [13.7 ,  3.53,  2.  ],\n",
       "       [15.  ,  3.82,  2.43],\n",
       "       [16.2 ,  4.59,  2.63],\n",
       "       [17.4 ,  4.59,  2.94],\n",
       "       [18.  ,  5.22,  3.32],\n",
       "       [18.7 ,  5.2 ,  3.12],\n",
       "       [19.  ,  5.64,  3.05],\n",
       "       [19.6 ,  5.14,  3.04],\n",
       "       [20.  ,  5.08,  2.77],\n",
       "       [21.  ,  5.69,  3.56],\n",
       "       [21.  ,  5.92,  3.31],\n",
       "       [21.  ,  5.69,  3.67],\n",
       "       [21.3 ,  6.38,  3.53],\n",
       "       [22.  ,  6.11,  3.41],\n",
       "       [22.  ,  5.64,  3.52],\n",
       "       [22.  ,  6.11,  3.52],\n",
       "       [22.  ,  5.88,  3.52],\n",
       "       [22.  ,  5.52,  4.  ],\n",
       "       [22.5 ,  5.86,  3.62],\n",
       "       [22.5 ,  6.79,  3.62],\n",
       "       [22.7 ,  5.95,  3.63],\n",
       "       [23.  ,  5.22,  3.63],\n",
       "       [23.5 ,  6.28,  3.72],\n",
       "       [24.  ,  7.29,  3.72],\n",
       "       [24.  ,  6.38,  3.82],\n",
       "       [24.6 ,  6.73,  4.17],\n",
       "       [25.  ,  6.44,  3.68],\n",
       "       [25.6 ,  6.56,  4.24],\n",
       "       [26.5 ,  7.17,  4.14],\n",
       "       [27.3 ,  8.32,  5.14],\n",
       "       [27.5 ,  7.17,  4.34],\n",
       "       [27.5 ,  7.05,  4.34],\n",
       "       [27.5 ,  7.28,  4.57],\n",
       "       [28.  ,  7.82,  4.2 ],\n",
       "       [28.7 ,  7.59,  4.64],\n",
       "       [30.  ,  7.62,  4.77],\n",
       "       [32.8 , 10.03,  6.02],\n",
       "       [34.5 , 10.26,  6.39],\n",
       "       [35.  , 11.49,  7.8 ],\n",
       "       [36.5 , 10.88,  6.86],\n",
       "       [36.  , 10.61,  6.74],\n",
       "       [37.  , 10.84,  6.26],\n",
       "       [37.  , 10.57,  6.37],\n",
       "       [39.  , 11.14,  7.49],\n",
       "       [39.  , 11.14,  6.  ],\n",
       "       [39.  , 12.43,  7.35],\n",
       "       [40.  , 11.93,  7.11],\n",
       "       [40.  , 11.73,  7.22],\n",
       "       [40.  , 12.38,  7.46],\n",
       "       [40.  , 11.14,  6.63],\n",
       "       [42.  , 12.8 ,  6.87],\n",
       "       [43.  , 11.93,  7.28],\n",
       "       [43.  , 12.51,  7.42],\n",
       "       [43.5 , 12.6 ,  8.14],\n",
       "       [44.  , 12.49,  7.6 ]])"
      ]
     },
     "execution_count": 36,
     "metadata": {},
     "output_type": "execute_result"
    }
   ],
   "source": [
    "# 생선의 길이, 높이, 두께를 이용한 회귀분석\n",
    "raw = df.to_numpy()\n",
    "raw"
   ]
  },
  {
   "cell_type": "code",
   "execution_count": 37,
   "id": "decb735b",
   "metadata": {},
   "outputs": [],
   "source": [
    "# target data\n",
    "weight = np.array([5.9, 32.0, 40.0, 51.5, 70.0, 100.0, 78.0, 80.0, 85.0, 85.0, 110.0,\n",
    "       115.0, 125.0, 130.0, 120.0, 120.0, 130.0, 135.0, 110.0, 130.0,\n",
    "       150.0, 145.0, 150.0, 170.0, 225.0, 145.0, 188.0, 180.0, 197.0,\n",
    "       218.0, 300.0, 260.0, 265.0, 250.0, 250.0, 300.0, 320.0, 514.0,\n",
    "       556.0, 840.0, 685.0, 700.0, 700.0, 690.0, 900.0, 650.0, 820.0,\n",
    "       850.0, 900.0, 1015.0, 820.0, 1100.0, 1000.0, 1100.0, 1000.0,\n",
    "       1000.0])"
   ]
  },
  {
   "cell_type": "code",
   "execution_count": 38,
   "id": "a1f82ca0",
   "metadata": {},
   "outputs": [],
   "source": [
    "from sklearn.model_selection import train_test_split\n",
    "\n",
    "train_input, test_input, train_target, test_target = train_test_split(\n",
    "raw, weight, random_state=42)"
   ]
  },
  {
   "cell_type": "markdown",
   "id": "f943cf1f",
   "metadata": {},
   "source": [
    "##### 사이킷런 변환기 \n",
    "- 타깃없이 입력데이터만 가지고 하는거..."
   ]
  },
  {
   "cell_type": "code",
   "execution_count": 39,
   "id": "ca76c1fa",
   "metadata": {},
   "outputs": [],
   "source": [
    "# 다항식 변환기\n",
    "from sklearn.preprocessing import PolynomialFeatures\n",
    "## 현재 데이터를 다항식 형태로 변경하는 역할 수행"
   ]
  },
  {
   "cell_type": "code",
   "execution_count": 41,
   "id": "a30f195d",
   "metadata": {},
   "outputs": [
    {
     "data": {
      "text/plain": [
       "array([[1., 2., 3., 4., 6., 9.]])"
      ]
     },
     "execution_count": 41,
     "metadata": {},
     "output_type": "execute_result"
    }
   ],
   "source": [
    "poly = PolynomialFeatures()\n",
    "poly.fit([[2,3]])\n",
    "poly.transform([[2,3]])"
   ]
  },
  {
   "cell_type": "markdown",
   "id": "b0d9d789",
   "metadata": {},
   "source": [
    "- 다중회귀 방정식\n",
    " - 무게 = a*길이 + b*높이 + c*두께 +1\n",
    " 선형회귀 방정식의 절편과 ??? 1이라는것과 항상곱해주는 계수 (1*절편??)\n",
    " 선형회귀 방정식의 절편은 값이 1인 특성과 곱해지는 계수"
   ]
  },
  {
   "cell_type": "code",
   "execution_count": 43,
   "id": "6229557a",
   "metadata": {},
   "outputs": [
    {
     "data": {
      "text/plain": [
       "array([[2., 3., 4., 6., 9.]])"
      ]
     },
     "execution_count": 43,
     "metadata": {},
     "output_type": "execute_result"
    }
   ],
   "source": [
    "poly = PolynomialFeatures(include_bias = False) # 절편을 위한 항을 제거하는 \n",
    "poly.fit([[2,3]])\n",
    "poly.transform([[2,3]])"
   ]
  },
  {
   "cell_type": "markdown",
   "id": "514f4000",
   "metadata": {},
   "source": [
    "회귀 분석 시 모델만들어서 훈련할 때 \n",
    "지도학습을 시키잖아(이때 문제랑 정답을 가지고 하지 input, target)\n",
    "fit으로 모델을 만들고predict로 예측을 했잖아 \n",
    "\n",
    "폴리변환기도 유사하게 fit과 transform이 있지만 여기는 input, target이 들어가는게\n",
    "아니라input 값만 갖고 있다는거지, 타깃을 늘리는게 아니라 학습시킬 아이만 늘린다는 \n",
    "거라서 타깃을 받을 필요없다 즉 같은 fit메서드 같지만 여기서는 input만 들어간대..."
   ]
  },
  {
   "cell_type": "code",
   "execution_count": 44,
   "id": "e21773da",
   "metadata": {},
   "outputs": [
    {
     "data": {
      "text/plain": [
       "(42, 9)"
      ]
     },
     "execution_count": 44,
     "metadata": {},
     "output_type": "execute_result"
    }
   ],
   "source": [
    "poly = PolynomialFeatures(include_bias = False) # 절편을 위한 항을 제거하는 \n",
    "poly.fit(train_input)\n",
    "train_poly = poly.transform(train_input)\n",
    "train_poly.shape # 차원수가 9개로 증가한걸 알수 있음"
   ]
  },
  {
   "cell_type": "code",
   "execution_count": 45,
   "id": "7369c63d",
   "metadata": {},
   "outputs": [
    {
     "data": {
      "text/plain": [
       "['x0', 'x1', 'x2', 'x0^2', 'x0 x1', 'x0 x2', 'x1^2', 'x1 x2', 'x2^2']"
      ]
     },
     "execution_count": 45,
     "metadata": {},
     "output_type": "execute_result"
    }
   ],
   "source": [
    "# 컬럼명 추출 (어떻게 그 값이 만들어졌는지 알수 있음)\n",
    "poly.get_feature_names()"
   ]
  },
  {
   "cell_type": "code",
   "execution_count": 46,
   "id": "0cd656cd",
   "metadata": {},
   "outputs": [],
   "source": [
    "# 학습용트레이닝 데이트 말고 평가용 만들기\n",
    "test_poly=poly.transform(test_input)"
   ]
  },
  {
   "cell_type": "markdown",
   "id": "79e01569",
   "metadata": {},
   "source": [
    "### 다중 회귀 모델\n",
    "- 학습시 특성공학으로 만들어진 데이터를 써야한다.\n",
    " - 선형회귀는 특성이 많아지면 능력이 뛰어나짐(결정력이 높아짐)"
   ]
  },
  {
   "cell_type": "code",
   "execution_count": 47,
   "id": "d1a166ee",
   "metadata": {},
   "outputs": [
    {
     "data": {
      "text/plain": [
       "LinearRegression()"
      ]
     },
     "execution_count": 47,
     "metadata": {},
     "output_type": "execute_result"
    }
   ],
   "source": [
    "from sklearn.linear_model import LinearRegression\n",
    "lr = LinearRegression()\n",
    "lr.fit(train_poly, train_target)"
   ]
  },
  {
   "cell_type": "code",
   "execution_count": 48,
   "id": "bcbe49c3",
   "metadata": {},
   "outputs": [
    {
     "data": {
      "text/plain": [
       "0.9903183436982125"
      ]
     },
     "execution_count": 48,
     "metadata": {},
     "output_type": "execute_result"
    }
   ],
   "source": [
    "# 결정계수\n",
    "lr.score(train_poly, train_target)"
   ]
  },
  {
   "cell_type": "code",
   "execution_count": 49,
   "id": "e1a51a76",
   "metadata": {},
   "outputs": [
    {
     "data": {
      "text/plain": [
       "0.9714559911594155"
      ]
     },
     "execution_count": 49,
     "metadata": {},
     "output_type": "execute_result"
    }
   ],
   "source": [
    "lr.score(test_poly, test_target)"
   ]
  },
  {
   "cell_type": "code",
   "execution_count": 50,
   "id": "0cc5b0b9",
   "metadata": {},
   "outputs": [
    {
     "data": {
      "text/plain": [
       "(42, 55)"
      ]
     },
     "execution_count": 50,
     "metadata": {},
     "output_type": "execute_result"
    }
   ],
   "source": [
    "## 아직 과소적합이 의심 될 수 있음\n",
    "# 차수를 늘릴거(특성을 늘림)\n",
    "poly = PolynomialFeatures(degree=5,include_bias = False)  \n",
    "poly.fit(train_input)\n",
    "train_poly = poly.transform(train_input)\n",
    "test_poly = poly.transform(test_input)\n",
    "train_poly.shape"
   ]
  },
  {
   "cell_type": "code",
   "execution_count": 51,
   "id": "85df82df",
   "metadata": {},
   "outputs": [
    {
     "data": {
      "text/plain": [
       "0.9999999999938143"
      ]
     },
     "execution_count": 51,
     "metadata": {},
     "output_type": "execute_result"
    }
   ],
   "source": [
    "# 다시 학습\n",
    "lr.fit(train_poly, train_target)\n",
    "lr.score(train_poly, train_target) # 계수 확인"
   ]
  },
  {
   "cell_type": "code",
   "execution_count": 52,
   "id": "74c565ba",
   "metadata": {},
   "outputs": [
    {
     "data": {
      "text/plain": [
       "-144.40744532797535"
      ]
     },
     "execution_count": 52,
     "metadata": {},
     "output_type": "execute_result"
    }
   ],
   "source": [
    "lr.score(test_poly, test_target)\n",
    "# 특성도 적당히 늘려야함 , 특성의 개수가 늘리면 선형모델은 아주 강력해지지만,\n",
    "# 너무 훈련세트에 과대 적합하게 돼서 좋지 않음 (과대적합 발생)- 특성 수를 줄임"
   ]
  },
  {
   "cell_type": "markdown",
   "id": "db0ed47c",
   "metadata": {},
   "source": [
    "- 해당 사항을 방지하기 위해 모델을 늘리는것 말고도 규제를 통해 정확성을 늘릴수 있다...\n",
    "- 훈련점수는 낮추고 테스트점수를 올리는거\n",
    "- 피쳐 스케일링은 Z-VALUE?? ㅎ 모르겠다~~"
   ]
  },
  {
   "cell_type": "markdown",
   "id": "c00a2c72",
   "metadata": {},
   "source": [
    "### 규제 \n",
    "- : 머신러닝 모델이 훈련세트를 너무 과도하게 학습하지 못하도록 규제하는것\n",
    " - 모델이 훈련세트에 과대적합하지 않도록 만드는 것\n",
    " - 선형 회귀 모델의 경우 특성에 곱해지는 계수(또는 기울기)의 크기를 작게 만드는 일이다.\n",
    "- 릿지 회귀(Ridge Regression): 계수를 제곱한 값을 기준으로 규제를 적용시키는 모델\n",
    "- 라쏘 회귀(Lasso Regression): 계수의 절대값을 기준으로 규제를 적용시키는 모델\n",
    " - 두알고리즘 모두 계수의 크기를 줄이지만, 라쏘는 아예 크기를 0으로 만들수 있기에 일반적으로 릿지를 더 선호 함."
   ]
  },
  {
   "cell_type": "markdown",
   "id": "a672ce1c",
   "metadata": {},
   "source": [
    " 알파를 통해 규제하는 정도를 조정할수 있음\n",
    "- alpha : 릿지와 라쏘모델을 사용할떄 규제의 양을 임의로 조절하는 하이퍼파라미터\n",
    " - alpha 大 -> 규제 강도가 세지므로 계수값을 더 줄이고 조금 더 과소적합이 되도록 유도\n",
    " - alpha 小 -> 계수를 줄이는 역할이 줄어들고 선형회귀모델과 유사해지므로 과대적합이될 가능성이 큼\n",
    "-하이퍼파라미터(Hyperparameter): 머신러닝 모델이 학습할 수 없고, 사람이 알려줘야하는 파라미터"
   ]
  },
  {
   "cell_type": "markdown",
   "id": "71f7854b",
   "metadata": {},
   "source": [
    "#### 스케일링\n",
    "- 차원수가 올라가면서 3제곱, 4제곱... 등 수가 월등히 커지기 때문에 스케일링이 必"
   ]
  },
  {
   "cell_type": "code",
   "execution_count": 53,
   "id": "fabc869c",
   "metadata": {},
   "outputs": [],
   "source": [
    "from sklearn.preprocessing import StandardScaler #스케일링 하는 객체\n",
    "\n",
    "ss = StandardScaler() #인스턴스 생성\n",
    "ss.fit(train_poly) # 특성공학으로 만든 데이터 학숩\n",
    "train_scaled = ss.transform(train_poly) #학습 시킨것을 변환 \n",
    "test_scaled = ss.transform(test_poly)"
   ]
  },
  {
   "cell_type": "markdown",
   "id": "be5846cc",
   "metadata": {},
   "source": [
    "#### 릿지 회귀(Ridge Regression)"
   ]
  },
  {
   "cell_type": "code",
   "execution_count": 55,
   "id": "731df834",
   "metadata": {},
   "outputs": [
    {
     "name": "stdout",
     "output_type": "stream",
     "text": [
      "0.9896101671037343\n"
     ]
    }
   ],
   "source": [
    "from sklearn.linear_model import Ridge\n",
    "ridge = Ridge()\n",
    "ridge.fit(train_scaled, train_target) # 규제 준 것을 학습\n",
    "print(ridge.score(train_scaled, train_target))"
   ]
  },
  {
   "cell_type": "code",
   "execution_count": 37,
   "id": "e07277f6",
   "metadata": {},
   "outputs": [
    {
     "data": {
      "text/plain": [
       "((127, 6), (127,))"
      ]
     },
     "execution_count": 37,
     "metadata": {},
     "output_type": "execute_result"
    }
   ],
   "source": [
    "test_scaled.shape, test_target.shape"
   ]
  },
  {
   "cell_type": "code",
   "execution_count": 57,
   "id": "e0287b27",
   "metadata": {},
   "outputs": [
    {
     "name": "stdout",
     "output_type": "stream",
     "text": [
      "0.9790693977615386\n"
     ]
    }
   ],
   "source": [
    "print(ridge.score(test_scaled, test_target))"
   ]
  },
  {
   "cell_type": "code",
   "execution_count": 27,
   "id": "17eadafa",
   "metadata": {},
   "outputs": [],
   "source": [
    "# 훈련세트와 테스트세트의 점수가 가장 가까운 지점이 최적의 alpha값이 된다.\n",
    "# 알파값을 바꿀때마다 score값을 저장해야함\n",
    "## 값 저장을 위한 리스트 생성\n",
    "train_score = []\n",
    "test_score =[]\n",
    "\n",
    "alpha_list = [0.001,0.01,0.1,1,10,100] \n",
    "# alpha값으로 쓸 값들의 리스트, 모든 값을 넣어볼 수 없으니제한하는거\n",
    "\n",
    "for alpha in alpha_list:\n",
    "    ridge= Ridge(alpha=alpha) # 릿지 모델\n",
    "    ridge.fit(train_scaled, train_target) #릿지 학습\n",
    "    train_score.append(ridge.score(train_scaled, train_target)) # R2 score(결정계수)\n",
    "    test_score.append(ridge.score(test_scaled, test_target))"
   ]
  },
  {
   "cell_type": "code",
   "execution_count": 25,
   "id": "317cdd4d",
   "metadata": {},
   "outputs": [],
   "source": [
    "import matplotlib as mpl\n",
    "mpl.rcParams['font.family'] ='batang'"
   ]
  },
  {
   "cell_type": "code",
   "execution_count": 26,
   "id": "b6437305",
   "metadata": {},
   "outputs": [
    {
     "ename": "NameError",
     "evalue": "name 'alpha_list' is not defined",
     "output_type": "error",
     "traceback": [
      "\u001b[1;31m---------------------------------------------------------------------------\u001b[0m",
      "\u001b[1;31mNameError\u001b[0m                                 Traceback (most recent call last)",
      "\u001b[1;32m~\\AppData\\Local\\Temp/ipykernel_5636/859394421.py\u001b[0m in \u001b[0;36m<module>\u001b[1;34m\u001b[0m\n\u001b[0;32m      1\u001b[0m \u001b[1;31m# 시각화\u001b[0m\u001b[1;33m\u001b[0m\u001b[1;33m\u001b[0m\u001b[0m\n\u001b[1;32m----> 2\u001b[1;33m \u001b[0mplt\u001b[0m\u001b[1;33m.\u001b[0m\u001b[0mplot\u001b[0m\u001b[1;33m(\u001b[0m\u001b[0mnp\u001b[0m\u001b[1;33m.\u001b[0m\u001b[0mlog10\u001b[0m\u001b[1;33m(\u001b[0m\u001b[0malpha_list\u001b[0m\u001b[1;33m)\u001b[0m\u001b[1;33m,\u001b[0m \u001b[0mtrain_score\u001b[0m\u001b[1;33m,\u001b[0m \u001b[0mcolor\u001b[0m\u001b[1;33m=\u001b[0m\u001b[1;34m'm'\u001b[0m\u001b[1;33m)\u001b[0m\u001b[1;33m\u001b[0m\u001b[1;33m\u001b[0m\u001b[0m\n\u001b[0m\u001b[0;32m      3\u001b[0m \u001b[0mplt\u001b[0m\u001b[1;33m.\u001b[0m\u001b[0mplot\u001b[0m\u001b[1;33m(\u001b[0m\u001b[0mnp\u001b[0m\u001b[1;33m.\u001b[0m\u001b[0mlog10\u001b[0m\u001b[1;33m(\u001b[0m\u001b[0malpha_list\u001b[0m\u001b[1;33m)\u001b[0m\u001b[1;33m,\u001b[0m \u001b[0mtest_score\u001b[0m\u001b[1;33m,\u001b[0m \u001b[0mcolor\u001b[0m\u001b[1;33m=\u001b[0m\u001b[1;34m'c'\u001b[0m\u001b[1;33m)\u001b[0m\u001b[1;33m\u001b[0m\u001b[1;33m\u001b[0m\u001b[0m\n\u001b[0;32m      4\u001b[0m \u001b[0mplt\u001b[0m\u001b[1;33m.\u001b[0m\u001b[0mxlabel\u001b[0m\u001b[1;33m(\u001b[0m\u001b[1;34m'alpha'\u001b[0m\u001b[1;33m)\u001b[0m\u001b[1;33m\u001b[0m\u001b[1;33m\u001b[0m\u001b[0m\n\u001b[0;32m      5\u001b[0m \u001b[0mplt\u001b[0m\u001b[1;33m.\u001b[0m\u001b[0mylabel\u001b[0m\u001b[1;33m(\u001b[0m\u001b[1;34m'결정계수(R2)'\u001b[0m\u001b[1;33m)\u001b[0m\u001b[1;33m\u001b[0m\u001b[1;33m\u001b[0m\u001b[0m\n",
      "\u001b[1;31mNameError\u001b[0m: name 'alpha_list' is not defined"
     ]
    }
   ],
   "source": [
    "# 시각화\n",
    "plt.plot(np.log10(alpha_list), train_score, color='m')\n",
    "plt.plot(np.log10(alpha_list), test_score, color='c')\n",
    "plt.xlabel('alpha')\n",
    "plt.ylabel('결정계수(R2)')\n",
    "plt.show()\n",
    "# 두 그래프가 가장 가까울때 alpha값이 최적임."
   ]
  },
  {
   "cell_type": "code",
   "execution_count": null,
   "id": "9a0f65ff",
   "metadata": {},
   "outputs": [],
   "source": [
    "- 적절한 알파값은 두 그래프가 가장 가깝고 테스트(시안)세트의 점수가 가장 높은 지점 -1, 10^-1=0.1\n",
    "-3위치는 과대 적합, 2위치는 과소 적합을 향하는 지점"
   ]
  },
  {
   "cell_type": "code",
   "execution_count": 68,
   "id": "51b4bcaf",
   "metadata": {},
   "outputs": [
    {
     "name": "stdout",
     "output_type": "stream",
     "text": [
      "0.9903815817570368\n",
      "0.9827976465386896\n"
     ]
    }
   ],
   "source": [
    "ridge= Ridge(alpha=0.1) \n",
    "ridge.fit(train_scaled, train_target)\n",
    "print(ridge.score(train_scaled, train_target))\n",
    "print(ridge.score(test_scaled, test_target))\n",
    "# 최적의 모델 "
   ]
  },
  {
   "cell_type": "markdown",
   "id": "d0ff0ca7",
   "metadata": {},
   "source": [
    "##### 라쏘 회귀"
   ]
  },
  {
   "cell_type": "code",
   "execution_count": 65,
   "id": "c07f5e5e",
   "metadata": {},
   "outputs": [
    {
     "name": "stdout",
     "output_type": "stream",
     "text": [
      "0.989789897208096\n",
      "0.9800593698421884\n"
     ]
    }
   ],
   "source": [
    "from sklearn.linear_model import Lasso\n",
    "lasso = Lasso()\n",
    "lasso.fit(train_scaled, train_target) # 규제 준 것을 학습\n",
    "print(lasso.score(train_scaled, train_target))\n",
    "print(lasso.score(test_scaled, test_target))"
   ]
  },
  {
   "cell_type": "code",
   "execution_count": 69,
   "id": "02da15e1",
   "metadata": {},
   "outputs": [
    {
     "name": "stderr",
     "output_type": "stream",
     "text": [
      "C:\\Anaconda3\\lib\\site-packages\\sklearn\\linear_model\\_coordinate_descent.py:530: ConvergenceWarning: Objective did not converge. You might want to increase the number of iterations. Duality gap: 23364.075969939724, tolerance: 518.2793833333334\n",
      "  model = cd_fast.enet_coordinate_descent(\n",
      "C:\\Anaconda3\\lib\\site-packages\\sklearn\\linear_model\\_coordinate_descent.py:530: ConvergenceWarning: Objective did not converge. You might want to increase the number of iterations. Duality gap: 20251.975097475362, tolerance: 518.2793833333334\n",
      "  model = cd_fast.enet_coordinate_descent(\n",
      "C:\\Anaconda3\\lib\\site-packages\\sklearn\\linear_model\\_coordinate_descent.py:530: ConvergenceWarning: Objective did not converge. You might want to increase the number of iterations. Duality gap: 806.2370926335934, tolerance: 518.2793833333334\n",
      "  model = cd_fast.enet_coordinate_descent(\n"
     ]
    }
   ],
   "source": [
    "train_score = []\n",
    "test_score =[]\n",
    "\n",
    "alpha_list = [0.001,0.01,0.1,1,10,100] \n",
    "# alpha값으로 쓸 값들의 리스트, 모든 값을 넣어볼 수 없으니제한하는거\n",
    "\n",
    "for alpha in alpha_list:\n",
    "    lasso= Lasso(alpha=alpha) # 릿지 모델\n",
    "    lasso.fit(train_scaled, train_target) #릿지 학습\n",
    "    train_score.append(lasso.score(train_scaled, train_target)) # R2 score(결정계수)\n",
    "    test_score.append(lasso.score(test_scaled, test_target))"
   ]
  },
  {
   "cell_type": "code",
   "execution_count": 70,
   "id": "d89ff939",
   "metadata": {},
   "outputs": [
    {
     "data": {
      "image/png": "[encoded data removed]",
      "text/plain": [
       "<Figure size 432x288 with 1 Axes>"
      ]
     },
     "metadata": {
      "needs_background": "dark"
     },
     "output_type": "display_data"
    }
   ],
   "source": [
    "# 시각화\n",
    "plt.plot(np.log10(alpha_list), train_score, color='m')\n",
    "plt.plot(np.log10(alpha_list), test_score, color='c')\n",
    "plt.xlabel('alpha')\n",
    "plt.ylabel('결정계수(R2)')\n",
    "plt.title('Lasso')\n",
    "plt.show()\n",
    "## 가장 적합한 알파는 10"
   ]
  },
  {
   "cell_type": "code",
   "execution_count": 71,
   "id": "2350e4e6",
   "metadata": {},
   "outputs": [
    {
     "name": "stdout",
     "output_type": "stream",
     "text": [
      "0.990137631128448\n",
      "0.9819405116249365\n"
     ]
    },
    {
     "name": "stderr",
     "output_type": "stream",
     "text": [
      "C:\\Anaconda3\\lib\\site-packages\\sklearn\\linear_model\\_coordinate_descent.py:530: ConvergenceWarning: Objective did not converge. You might want to increase the number of iterations. Duality gap: 806.2370926335934, tolerance: 518.2793833333334\n",
      "  model = cd_fast.enet_coordinate_descent(\n"
     ]
    }
   ],
   "source": [
    "lasso= Lasso(alpha=0.1) \n",
    "lasso.fit(train_scaled, train_target)\n",
    "print(lasso.score(train_scaled, train_target))\n",
    "print(lasso.score(test_scaled, test_target))\n",
    "# 최적의 모델 "
   ]
  },
  {
   "cell_type": "code",
   "execution_count": 72,
   "id": "382561a7",
   "metadata": {},
   "outputs": [
    {
     "data": {
      "text/plain": [
       "35"
      ]
     },
     "execution_count": 72,
     "metadata": {},
     "output_type": "execute_result"
    }
   ],
   "source": [
    "np.sum(lasso.coef_ == 0)"
   ]
  },
  {
   "cell_type": "markdown",
   "id": "6d8aaeb9",
   "metadata": {},
   "source": [
    "### 실습문제 : 보스턴 집값 예측"
   ]
  },
  {
   "cell_type": "code",
   "execution_count": 3,
   "id": "7b2cdd67",
   "metadata": {},
   "outputs": [
    {
     "data": {
      "text/plain": [
       "['DESCR', 'data', 'feature_names', 'filename', 'target']"
      ]
     },
     "execution_count": 3,
     "metadata": {},
     "output_type": "execute_result"
    }
   ],
   "source": [
    "# 불러오기\n",
    "from sklearn.datasets import load_boston\n",
    "\n",
    "boston = load_boston()\n",
    "dir(boston) #집 값의 종속 변수랑 나머지 변수들"
   ]
  },
  {
   "cell_type": "code",
   "execution_count": 77,
   "id": "4bb3dc85",
   "metadata": {},
   "outputs": [
    {
     "data": {
      "text/plain": [
       "sklearn.utils.Bunch"
      ]
     },
     "execution_count": 77,
     "metadata": {},
     "output_type": "execute_result"
    }
   ],
   "source": [
    "type(boston)"
   ]
  },
  {
   "cell_type": "code",
   "execution_count": 4,
   "id": "b68c06fb",
   "metadata": {},
   "outputs": [
    {
     "data": {
      "text/html": [
       "<div>\n",
       "<style scoped>\n",
       "    .dataframe tbody tr th:only-of-type {\n",
       "        vertical-align: middle;\n",
       "    }\n",
       "\n",
       "    .dataframe tbody tr th {\n",
       "        vertical-align: top;\n",
       "    }\n",
       "\n",
       "    .dataframe thead th {\n",
       "        text-align: right;\n",
       "    }\n",
       "</style>\n",
       "<table border=\"1\" class=\"dataframe\">\n",
       "  <thead>\n",
       "    <tr style=\"text-align: right;\">\n",
       "      <th></th>\n",
       "      <th>CRIM</th>\n",
       "      <th>ZN</th>\n",
       "      <th>INDUS</th>\n",
       "      <th>CHAS</th>\n",
       "      <th>NOX</th>\n",
       "      <th>RM</th>\n",
       "      <th>AGE</th>\n",
       "      <th>DIS</th>\n",
       "      <th>RAD</th>\n",
       "      <th>TAX</th>\n",
       "      <th>PTRATIO</th>\n",
       "      <th>B</th>\n",
       "      <th>LSTAT</th>\n",
       "    </tr>\n",
       "  </thead>\n",
       "  <tbody>\n",
       "    <tr>\n",
       "      <th>0</th>\n",
       "      <td>0.00632</td>\n",
       "      <td>18.0</td>\n",
       "      <td>2.31</td>\n",
       "      <td>0.0</td>\n",
       "      <td>0.538</td>\n",
       "      <td>6.575</td>\n",
       "      <td>65.2</td>\n",
       "      <td>4.0900</td>\n",
       "      <td>1.0</td>\n",
       "      <td>296.0</td>\n",
       "      <td>15.3</td>\n",
       "      <td>396.90</td>\n",
       "      <td>4.98</td>\n",
       "    </tr>\n",
       "    <tr>\n",
       "      <th>1</th>\n",
       "      <td>0.02731</td>\n",
       "      <td>0.0</td>\n",
       "      <td>7.07</td>\n",
       "      <td>0.0</td>\n",
       "      <td>0.469</td>\n",
       "      <td>6.421</td>\n",
       "      <td>78.9</td>\n",
       "      <td>4.9671</td>\n",
       "      <td>2.0</td>\n",
       "      <td>242.0</td>\n",
       "      <td>17.8</td>\n",
       "      <td>396.90</td>\n",
       "      <td>9.14</td>\n",
       "    </tr>\n",
       "    <tr>\n",
       "      <th>2</th>\n",
       "      <td>0.02729</td>\n",
       "      <td>0.0</td>\n",
       "      <td>7.07</td>\n",
       "      <td>0.0</td>\n",
       "      <td>0.469</td>\n",
       "      <td>7.185</td>\n",
       "      <td>61.1</td>\n",
       "      <td>4.9671</td>\n",
       "      <td>2.0</td>\n",
       "      <td>242.0</td>\n",
       "      <td>17.8</td>\n",
       "      <td>392.83</td>\n",
       "      <td>4.03</td>\n",
       "    </tr>\n",
       "    <tr>\n",
       "      <th>3</th>\n",
       "      <td>0.03237</td>\n",
       "      <td>0.0</td>\n",
       "      <td>2.18</td>\n",
       "      <td>0.0</td>\n",
       "      <td>0.458</td>\n",
       "      <td>6.998</td>\n",
       "      <td>45.8</td>\n",
       "      <td>6.0622</td>\n",
       "      <td>3.0</td>\n",
       "      <td>222.0</td>\n",
       "      <td>18.7</td>\n",
       "      <td>394.63</td>\n",
       "      <td>2.94</td>\n",
       "    </tr>\n",
       "    <tr>\n",
       "      <th>4</th>\n",
       "      <td>0.06905</td>\n",
       "      <td>0.0</td>\n",
       "      <td>2.18</td>\n",
       "      <td>0.0</td>\n",
       "      <td>0.458</td>\n",
       "      <td>7.147</td>\n",
       "      <td>54.2</td>\n",
       "      <td>6.0622</td>\n",
       "      <td>3.0</td>\n",
       "      <td>222.0</td>\n",
       "      <td>18.7</td>\n",
       "      <td>396.90</td>\n",
       "      <td>5.33</td>\n",
       "    </tr>\n",
       "    <tr>\n",
       "      <th>...</th>\n",
       "      <td>...</td>\n",
       "      <td>...</td>\n",
       "      <td>...</td>\n",
       "      <td>...</td>\n",
       "      <td>...</td>\n",
       "      <td>...</td>\n",
       "      <td>...</td>\n",
       "      <td>...</td>\n",
       "      <td>...</td>\n",
       "      <td>...</td>\n",
       "      <td>...</td>\n",
       "      <td>...</td>\n",
       "      <td>...</td>\n",
       "    </tr>\n",
       "    <tr>\n",
       "      <th>501</th>\n",
       "      <td>0.06263</td>\n",
       "      <td>0.0</td>\n",
       "      <td>11.93</td>\n",
       "      <td>0.0</td>\n",
       "      <td>0.573</td>\n",
       "      <td>6.593</td>\n",
       "      <td>69.1</td>\n",
       "      <td>2.4786</td>\n",
       "      <td>1.0</td>\n",
       "      <td>273.0</td>\n",
       "      <td>21.0</td>\n",
       "      <td>391.99</td>\n",
       "      <td>9.67</td>\n",
       "    </tr>\n",
       "    <tr>\n",
       "      <th>502</th>\n",
       "      <td>0.04527</td>\n",
       "      <td>0.0</td>\n",
       "      <td>11.93</td>\n",
       "      <td>0.0</td>\n",
       "      <td>0.573</td>\n",
       "      <td>6.120</td>\n",
       "      <td>76.7</td>\n",
       "      <td>2.2875</td>\n",
       "      <td>1.0</td>\n",
       "      <td>273.0</td>\n",
       "      <td>21.0</td>\n",
       "      <td>396.90</td>\n",
       "      <td>9.08</td>\n",
       "    </tr>\n",
       "    <tr>\n",
       "      <th>503</th>\n",
       "      <td>0.06076</td>\n",
       "      <td>0.0</td>\n",
       "      <td>11.93</td>\n",
       "      <td>0.0</td>\n",
       "      <td>0.573</td>\n",
       "      <td>6.976</td>\n",
       "      <td>91.0</td>\n",
       "      <td>2.1675</td>\n",
       "      <td>1.0</td>\n",
       "      <td>273.0</td>\n",
       "      <td>21.0</td>\n",
       "      <td>396.90</td>\n",
       "      <td>5.64</td>\n",
       "    </tr>\n",
       "    <tr>\n",
       "      <th>504</th>\n",
       "      <td>0.10959</td>\n",
       "      <td>0.0</td>\n",
       "      <td>11.93</td>\n",
       "      <td>0.0</td>\n",
       "      <td>0.573</td>\n",
       "      <td>6.794</td>\n",
       "      <td>89.3</td>\n",
       "      <td>2.3889</td>\n",
       "      <td>1.0</td>\n",
       "      <td>273.0</td>\n",
       "      <td>21.0</td>\n",
       "      <td>393.45</td>\n",
       "      <td>6.48</td>\n",
       "    </tr>\n",
       "    <tr>\n",
       "      <th>505</th>\n",
       "      <td>0.04741</td>\n",
       "      <td>0.0</td>\n",
       "      <td>11.93</td>\n",
       "      <td>0.0</td>\n",
       "      <td>0.573</td>\n",
       "      <td>6.030</td>\n",
       "      <td>80.8</td>\n",
       "      <td>2.5050</td>\n",
       "      <td>1.0</td>\n",
       "      <td>273.0</td>\n",
       "      <td>21.0</td>\n",
       "      <td>396.90</td>\n",
       "      <td>7.88</td>\n",
       "    </tr>\n",
       "  </tbody>\n",
       "</table>\n",
       "<p>506 rows × 13 columns</p>\n",
       "</div>"
      ],
      "text/plain": [
       "        CRIM    ZN  INDUS  CHAS    NOX     RM   AGE     DIS  RAD    TAX  \\\n",
       "0    0.00632  18.0   2.31   0.0  0.538  6.575  65.2  4.0900  1.0  296.0   \n",
       "1    0.02731   0.0   7.07   0.0  0.469  6.421  78.9  4.9671  2.0  242.0   \n",
       "2    0.02729   0.0   7.07   0.0  0.469  7.185  61.1  4.9671  2.0  242.0   \n",
       "3    0.03237   0.0   2.18   0.0  0.458  6.998  45.8  6.0622  3.0  222.0   \n",
       "4    0.06905   0.0   2.18   0.0  0.458  7.147  54.2  6.0622  3.0  222.0   \n",
       "..       ...   ...    ...   ...    ...    ...   ...     ...  ...    ...   \n",
       "501  0.06263   0.0  11.93   0.0  0.573  6.593  69.1  2.4786  1.0  273.0   \n",
       "502  0.04527   0.0  11.93   0.0  0.573  6.120  76.7  2.2875  1.0  273.0   \n",
       "503  0.06076   0.0  11.93   0.0  0.573  6.976  91.0  2.1675  1.0  273.0   \n",
       "504  0.10959   0.0  11.93   0.0  0.573  6.794  89.3  2.3889  1.0  273.0   \n",
       "505  0.04741   0.0  11.93   0.0  0.573  6.030  80.8  2.5050  1.0  273.0   \n",
       "\n",
       "     PTRATIO       B  LSTAT  \n",
       "0       15.3  396.90   4.98  \n",
       "1       17.8  396.90   9.14  \n",
       "2       17.8  392.83   4.03  \n",
       "3       18.7  394.63   2.94  \n",
       "4       18.7  396.90   5.33  \n",
       "..       ...     ...    ...  \n",
       "501     21.0  391.99   9.67  \n",
       "502     21.0  396.90   9.08  \n",
       "503     21.0  396.90   5.64  \n",
       "504     21.0  393.45   6.48  \n",
       "505     21.0  396.90   7.88  \n",
       "\n",
       "[506 rows x 13 columns]"
      ]
     },
     "execution_count": 4,
     "metadata": {},
     "output_type": "execute_result"
    }
   ],
   "source": [
    "# dataframe화\n",
    "bostonDF = pd.DataFrame(boston.data, columns = boston.feature_names)\n",
    "bostonDF"
   ]
  },
  {
   "cell_type": "code",
   "execution_count": 5,
   "id": "6fd9f3d2",
   "metadata": {},
   "outputs": [
    {
     "data": {
      "text/plain": [
       "(506, 14)"
      ]
     },
     "execution_count": 5,
     "metadata": {},
     "output_type": "execute_result"
    }
   ],
   "source": [
    "bostonDF['price'] = boston.target\n",
    "bostonDF.shape"
   ]
  },
  {
   "cell_type": "code",
   "execution_count": 7,
   "id": "61dd892f",
   "metadata": {},
   "outputs": [
    {
     "data": {
      "image/png": "[encoded data removed]",
      "text/plain": [
       "<Figure size 720x720 with 1 Axes>"
      ]
     },
     "metadata": {},
     "output_type": "display_data"
    }
   ],
   "source": [
    "# 속성이 너무 많아서 특정 속성을 잡아주기위해 그래프 나타내기\n",
    "import seaborn as sns\n",
    "bostonDF_corr = bostonDF.corr()\n",
    "\n",
    "plt.figure(figsize=(10,10))\n",
    "sns.set(font_scale=0.8)\n",
    "sns.heatmap(bostonDF_corr, annot=True,cbar=False) # annot 차표위 글자\n",
    "plt.show()"
   ]
  },
  {
   "cell_type": "code",
   "execution_count": 9,
   "id": "8c588bcc",
   "metadata": {},
   "outputs": [],
   "source": [
    "data = bostonDF[['TAX','RAD']]"
   ]
  },
  {
   "cell_type": "code",
   "execution_count": 10,
   "id": "78e440eb",
   "metadata": {},
   "outputs": [
    {
     "data": {
      "text/plain": [
       "(506, 2)"
      ]
     },
     "execution_count": 10,
     "metadata": {},
     "output_type": "execute_result"
    }
   ],
   "source": [
    "data.shape"
   ]
  },
  {
   "cell_type": "code",
   "execution_count": 28,
   "id": "e4f4f49f",
   "metadata": {},
   "outputs": [],
   "source": [
    "from sklearn.model_selection import train_test_split\n",
    "# 데이터셋 분리하기\n",
    "train_input, test_input, train_target, test_target = train_test_split(\n",
    "data, boston.target, random_state=42)"
   ]
  },
  {
   "cell_type": "code",
   "execution_count": 29,
   "id": "402f8d42",
   "metadata": {},
   "outputs": [
    {
     "data": {
      "text/plain": [
       "array([[1.0000e+00, 4.0000e+00, 2.8500e+02, 1.6000e+01, 1.1400e+03,\n",
       "        8.1225e+04]])"
      ]
     },
     "execution_count": 29,
     "metadata": {},
     "output_type": "execute_result"
    }
   ],
   "source": [
    "from sklearn.preprocessing import PolynomialFeatures\n",
    "#1. 다항식 변환\n",
    "Bpoly = PolynomialFeatures()\n",
    "Bpoly.fit([[4, 285]])\n",
    "Bpoly.transform([[4, 285]])"
   ]
  },
  {
   "cell_type": "code",
   "execution_count": 30,
   "id": "d4a171f0",
   "metadata": {},
   "outputs": [],
   "source": [
    "train_poly=Bpoly.transform(train_input)"
   ]
  },
  {
   "cell_type": "code",
   "execution_count": 31,
   "id": "d359ed01",
   "metadata": {},
   "outputs": [],
   "source": [
    "test_poly=Bpoly.transform(test_input)"
   ]
  },
  {
   "cell_type": "code",
   "execution_count": 32,
   "id": "cfed5751",
   "metadata": {},
   "outputs": [
    {
     "name": "stdout",
     "output_type": "stream",
     "text": [
      "0.22460527416158205\n",
      "0.2743945750617358\n"
     ]
    }
   ],
   "source": [
    "from sklearn.linear_model import LinearRegression\n",
    "#2. 다중 회귀 모델\n",
    "Blr = LinearRegression()\n",
    "Blr.fit(train_poly, train_target)\n",
    "print(Blr.score(train_poly, train_target))\n",
    "print(Blr.score(test_poly, test_target))"
   ]
  },
  {
   "cell_type": "code",
   "execution_count": 33,
   "id": "ab7a66d0",
   "metadata": {},
   "outputs": [],
   "source": [
    "from sklearn.preprocessing import StandardScaler\n",
    "#3. scaled\n",
    "bss = StandardScaler()\n",
    "bss.fit(train_poly)\n",
    "train_scaled = bss.transform(train_poly)\n",
    "test_scaled = bss.transform(test_poly)"
   ]
  },
  {
   "cell_type": "code",
   "execution_count": 34,
   "id": "c1b20c84",
   "metadata": {},
   "outputs": [
    {
     "name": "stdout",
     "output_type": "stream",
     "text": [
      "0.21825062799257322\n",
      "0.2743195787830809\n"
     ]
    }
   ],
   "source": [
    "from sklearn.linear_model import Ridge\n",
    "#4. ridge\n",
    "Bridge = Ridge() #instance\n",
    "Bridge.fit(train_scaled, train_target)\n",
    "print(Bridge.score(train_scaled, train_target))\n",
    "print(Bridge.score(test_scaled, test_target))"
   ]
  },
  {
   "cell_type": "code",
   "execution_count": 35,
   "id": "314bcf91",
   "metadata": {},
   "outputs": [],
   "source": [
    "#4-1. 알파값 찾기\n",
    "Btrain_score = []\n",
    "Btest_score = []\n",
    "Balpha_list = [0.001,0.01,0.1,1,10,100] \n",
    "\n",
    "for alpha in Balpha_list:\n",
    "    Bridge= Ridge(alpha=alpha) # 릿지 모델\n",
    "    Bridge.fit(train_scaled, train_target) #릿지 학습\n",
    "    Btrain_score.append(Bridge.score(train_scaled, train_target))\n",
    "    Btest_score.append(Bridge.score(test_scaled, test_target))"
   ]
  },
  {
   "cell_type": "code",
   "execution_count": 24,
   "id": "da1fb6d7",
   "metadata": {},
   "outputs": [
    {
     "name": "stderr",
     "output_type": "stream",
     "text": [
      "C:\\Anaconda3\\lib\\site-packages\\matplotlib\\backends\\backend_agg.py:240: RuntimeWarning: Glyph 48372 missing from current font.\n",
      "  font.set_text(s, 0.0, flags=flags)\n",
      "C:\\Anaconda3\\lib\\site-packages\\matplotlib\\backends\\backend_agg.py:240: RuntimeWarning: Glyph 49828 missing from current font.\n",
      "  font.set_text(s, 0.0, flags=flags)\n",
      "C:\\Anaconda3\\lib\\site-packages\\matplotlib\\backends\\backend_agg.py:240: RuntimeWarning: Glyph 53556 missing from current font.\n",
      "  font.set_text(s, 0.0, flags=flags)\n",
      "C:\\Anaconda3\\lib\\site-packages\\matplotlib\\backends\\backend_agg.py:240: RuntimeWarning: Glyph 51665 missing from current font.\n",
      "  font.set_text(s, 0.0, flags=flags)\n",
      "C:\\Anaconda3\\lib\\site-packages\\matplotlib\\backends\\backend_agg.py:240: RuntimeWarning: Glyph 44050 missing from current font.\n",
      "  font.set_text(s, 0.0, flags=flags)\n",
      "C:\\Anaconda3\\lib\\site-packages\\matplotlib\\backends\\backend_agg.py:240: RuntimeWarning: Glyph 44208 missing from current font.\n",
      "  font.set_text(s, 0.0, flags=flags)\n",
      "C:\\Anaconda3\\lib\\site-packages\\matplotlib\\backends\\backend_agg.py:240: RuntimeWarning: Glyph 51221 missing from current font.\n",
      "  font.set_text(s, 0.0, flags=flags)\n",
      "C:\\Anaconda3\\lib\\site-packages\\matplotlib\\backends\\backend_agg.py:240: RuntimeWarning: Glyph 44228 missing from current font.\n",
      "  font.set_text(s, 0.0, flags=flags)\n",
      "C:\\Anaconda3\\lib\\site-packages\\matplotlib\\backends\\backend_agg.py:240: RuntimeWarning: Glyph 49688 missing from current font.\n",
      "  font.set_text(s, 0.0, flags=flags)\n",
      "C:\\Anaconda3\\lib\\site-packages\\matplotlib\\backends\\backend_agg.py:203: RuntimeWarning: Glyph 44208 missing from current font.\n",
      "  font.set_text(s, 0, flags=flags)\n",
      "C:\\Anaconda3\\lib\\site-packages\\matplotlib\\backends\\backend_agg.py:203: RuntimeWarning: Glyph 51221 missing from current font.\n",
      "  font.set_text(s, 0, flags=flags)\n",
      "C:\\Anaconda3\\lib\\site-packages\\matplotlib\\backends\\backend_agg.py:203: RuntimeWarning: Glyph 44228 missing from current font.\n",
      "  font.set_text(s, 0, flags=flags)\n",
      "C:\\Anaconda3\\lib\\site-packages\\matplotlib\\backends\\backend_agg.py:203: RuntimeWarning: Glyph 49688 missing from current font.\n",
      "  font.set_text(s, 0, flags=flags)\n",
      "C:\\Anaconda3\\lib\\site-packages\\matplotlib\\backends\\backend_agg.py:203: RuntimeWarning: Glyph 48372 missing from current font.\n",
      "  font.set_text(s, 0, flags=flags)\n",
      "C:\\Anaconda3\\lib\\site-packages\\matplotlib\\backends\\backend_agg.py:203: RuntimeWarning: Glyph 49828 missing from current font.\n",
      "  font.set_text(s, 0, flags=flags)\n",
      "C:\\Anaconda3\\lib\\site-packages\\matplotlib\\backends\\backend_agg.py:203: RuntimeWarning: Glyph 53556 missing from current font.\n",
      "  font.set_text(s, 0, flags=flags)\n",
      "C:\\Anaconda3\\lib\\site-packages\\matplotlib\\backends\\backend_agg.py:203: RuntimeWarning: Glyph 51665 missing from current font.\n",
      "  font.set_text(s, 0, flags=flags)\n",
      "C:\\Anaconda3\\lib\\site-packages\\matplotlib\\backends\\backend_agg.py:203: RuntimeWarning: Glyph 44050 missing from current font.\n",
      "  font.set_text(s, 0, flags=flags)\n"
     ]
    },
    {
     "data": {
      "image/png": "[encoded data removed]",
      "text/plain": [
       "<Figure size 432x288 with 1 Axes>"
      ]
     },
     "metadata": {},
     "output_type": "display_data"
    }
   ],
   "source": [
    "plt.plot(np.log10(Balpha_list), Btrain_score, color='m')\n",
    "plt.plot(np.log10(Balpha_list), Btest_score, color='c')\n",
    "plt.xlabel('alpha')\n",
    "plt.ylabel('결정계수(R2)')\n",
    "plt.title('보스턴 집값')\n",
    "plt.show()"
   ]
  },
  {
   "cell_type": "code",
   "execution_count": 116,
   "id": "625214dc",
   "metadata": {},
   "outputs": [
    {
     "name": "stdout",
     "output_type": "stream",
     "text": [
      "0.23313044609890343\n",
      "0.27724712547060815\n"
     ]
    }
   ],
   "source": [
    "Bridge = Ridge(alpha=1) #instance\n",
    "Bridge.fit(train_scaled, train_target)\n",
    "print(Bridge.score(train_scaled, train_target))\n",
    "print(Bridge.score(test_scaled, test_target))"
   ]
  },
  {
   "cell_type": "code",
   "execution_count": 117,
   "id": "4107be29",
   "metadata": {},
   "outputs": [
    {
     "name": "stdout",
     "output_type": "stream",
     "text": [
      "0.21118774748127855\n",
      "0.25538977376782734\n"
     ]
    }
   ],
   "source": [
    "Blasso = Lasso()\n",
    "Blasso.fit(train_scaled, train_target)\n",
    "print(Blasso.score(train_scaled, train_target))\n",
    "print(Blasso.score(test_scaled, test_target))"
   ]
  },
  {
   "cell_type": "code",
   "execution_count": 118,
   "id": "01731120",
   "metadata": {},
   "outputs": [],
   "source": [
    "Btrain_score = []\n",
    "Btest_score = []\n",
    "Balpha_list = [0.001,0.01,0.1,1,10,100] \n",
    "\n",
    "for alpha in Balpha_list:\n",
    "    Blasso= Ridge(alpha=alpha) # 릿지 모델\n",
    "    Blasso.fit(train_scaled, train_target) #릿지 학습\n",
    "    Btrain_score.append(Blasso.score(train_scaled, train_target))\n",
    "    Btest_score.append(Blasso.score(test_scaled, test_target))"
   ]
  },
  {
   "cell_type": "code",
   "execution_count": 119,
   "id": "1eaf8b52",
   "metadata": {},
   "outputs": [
    {
     "data": {
      "image/png": "[encoded data removed]",
      "text/plain": [
       "<Figure size 432x288 with 1 Axes>"
      ]
     },
     "metadata": {
      "needs_background": "dark"
     },
     "output_type": "display_data"
    }
   ],
   "source": [
    "plt.plot(np.log10(Balpha_list), Btrain_score, color='m')\n",
    "plt.plot(np.log10(Balpha_list), Btest_score, color='c')\n",
    "plt.xlabel('alpha')\n",
    "plt.ylabel('결정계수(R2)')\n",
    "plt.title('Blasso')\n",
    "plt.show()"
   ]
  },
  {
   "cell_type": "markdown",
   "id": "615417ac",
   "metadata": {},
   "source": [
    "##### "
   ]
  }
 ],
 "metadata": {
  "hide_input": false,
  "kernelspec": {
   "display_name": "Python 3 (ipykernel)",
   "language": "python",
   "name": "python3"
  },
  "language_info": {
   "codemirror_mode": {
    "name": "ipython",
    "version": 3
   },
   "file_extension": ".py",
   "mimetype": "text/x-python",
   "name": "python",
   "nbconvert_exporter": "python",
   "pygments_lexer": "ipython3",
   "version": "3.9.7"
  },
  "toc": {
   "base_numbering": 1,
   "nav_menu": {},
   "number_sections": true,
   "sideBar": true,
   "skip_h1_title": false,
   "title_cell": "Table of Contents",
   "title_sidebar": "Contents",
   "toc_cell": false,
   "toc_position": {},
   "toc_section_display": true,
   "toc_window_display": false
  }
 },
 "nbformat": 4,
 "nbformat_minor": 5
}
