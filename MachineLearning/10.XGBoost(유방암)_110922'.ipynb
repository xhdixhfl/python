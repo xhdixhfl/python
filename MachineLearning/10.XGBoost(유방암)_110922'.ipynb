{
 "cells": [
  {
   "cell_type": "markdown",
   "id": "96001111",
   "metadata": {},
   "source": [
    "## Boosting이란?\n",
    "- 여러 개의 약한 Decision Tree를 조합해서 사용하는 Ensemble 기법 중 하나이다.\n",
    "- 즉, 약한 예측 모델들의 학습 에러에 가중치를 두고, 순차적으로 다음 학습 모델에 반영하여 강한 예측모델을 만드는 것이다.\n",
    "\n",
    "## GBM(Gradient Boosting Machine)\n",
    "- GBM은 여러 개의 weak learner를 순차적으로 학습, 예측하면서 잘못 예측한 데이터에 가중치 부여를 통해 오류를 개선해 나가면서 학습하는 방식\n",
    "- 가중치의 업데이트 방법은 **경사 하강법(Gradient Descent)**을 사용한다."
   ]
  },
  {
   "cell_type": "code",
   "execution_count": null,
   "id": "a559fb9d",
   "metadata": {},
   "outputs": [],
   "source": []
  },
  {
   "cell_type": "markdown",
   "id": "77b9356b",
   "metadata": {},
   "source": [
    "## XGBoost란?\n",
    "- XGBoost는 Extrme Gradient Booting의 약자이다.\n",
    "- Boosting 기법을 이용하여 구현한 알고리즘은 Gradient Boost가 대표적인데 이 알고리즘을 병렬학습이 지원되도록 구현한 라이브러리가 XGBoost이다.\n",
    "- **Regression, Classifier 문제를 모두 지원**하며, 성능과 자원 효율이 좋아서 인기있는 알고리즘이다.\n",
    "- XGBoost의 장점 \n",
    " 1. GBM대비 빠른 수행시간: 병렬 처리로 학습, 분류 속도가 빠르다.\n",
    " 2. 과적합 규제(Regularization): 표준GBM 경우 과적합 규제기능이 없으나, XGBoost는 자체에 과적합 규제 기능으로 강한 내구성을 지닌다.\n",
    " 3. 분류와 회귀 영역에서 뛰어난 예측 성능을 발휘한다.\n",
    "  - 즉, CART(Classifier and Regrssion Tree)앙상블 모델을 사용한다.\n",
    " 4. Early Stopping(조기 종료)rlsmddl dlTek.\n",
    " 5. 다양한 옵션을 제공하며 Customizing이 용이하다."
   ]
  },
  {
   "cell_type": "markdown",
   "id": "c7a011b0",
   "metadata": {},
   "source": [
    "### 필수 라이브러리"
   ]
  },
  {
   "cell_type": "code",
   "execution_count": 1,
   "id": "46ebbcce",
   "metadata": {},
   "outputs": [],
   "source": [
    "import numpy as np\n",
    "import pandas as pd\n",
    "\n",
    "import matplotlib as mpl\n",
    "import matplotlib.pyplot as plt\n",
    "import seaborn as sns\n",
    "\n",
    "import warnings"
   ]
  },
  {
   "cell_type": "code",
   "execution_count": 2,
   "id": "7c5e3e6f",
   "metadata": {},
   "outputs": [],
   "source": [
    "# 그래프 주피터 노트북에 표시, 폰트 더 선명하게\n",
    "%matplotlib inline \n",
    "%config Inlinebackend.figure_format = 'retina'\n",
    "\n",
    "# 한글 폰트 설정\n",
    "mpl.rc('font', family='batang')\n",
    "\n",
    "# Unicode 음수 부호 설정\n",
    "mpl.rc('axes', unicode_minus = False)\n",
    "\n",
    "# 차트 스타일 지정\n",
    "sns.set(font='batang', rc={'axes.unicode_minus':False}, style ='darkgrid')\n",
    "plt.rc('figure', figsize=(10,8)) # 사이즈 지정\n",
    "\n",
    "# 경고 무시\n",
    "warnings.filterwarnings('ignore')"
   ]
  },
  {
   "cell_type": "markdown",
   "id": "e2475652",
   "metadata": {},
   "source": [
    "## 로지스틱 회귀와 평가지표\n",
    "\n",
    "### 데이터셋_위스콘신 유방암 예측"
   ]
  },
  {
   "cell_type": "code",
   "execution_count": 3,
   "id": "69188b28",
   "metadata": {},
   "outputs": [
    {
     "name": "stdout",
     "output_type": "stream",
     "text": [
      "Collecting xgboost\n",
      "  Downloading xgboost-1.7.1-py3-none-win_amd64.whl (89.1 MB)\n",
      "Requirement already satisfied: numpy in c:\\anaconda3\\lib\\site-packages (from xgboost) (1.20.3)\n",
      "Requirement already satisfied: scipy in c:\\anaconda3\\lib\\site-packages (from xgboost) (1.7.1)\n",
      "Installing collected packages: xgboost\n",
      "Successfully installed xgboost-1.7.1\n"
     ]
    }
   ],
   "source": [
    "!pip install xgboost"
   ]
  },
  {
   "cell_type": "code",
   "execution_count": 5,
   "id": "0af00371",
   "metadata": {},
   "outputs": [
    {
     "data": {
      "text/plain": [
       "dict_keys(['data', 'target', 'frame', 'target_names', 'DESCR', 'feature_names', 'filename'])"
      ]
     },
     "execution_count": 5,
     "metadata": {},
     "output_type": "execute_result"
    }
   ],
   "source": [
    "import xgboost as xgb # xgboost\n",
    "from sklearn.datasets import load_breast_cancer # 데이터 로딩\n",
    "from sklearn.model_selection import train_test_split # 세트 분리\n",
    "\n",
    "# 변수에 데이터 담기\n",
    "cancer = load_breast_cancer()\n",
    "cancer.keys()"
   ]
  },
  {
   "cell_type": "code",
   "execution_count": 7,
   "id": "a3ed71d1",
   "metadata": {},
   "outputs": [
    {
     "data": {
      "text/html": [
       "<div>\n",
       "<style scoped>\n",
       "    .dataframe tbody tr th:only-of-type {\n",
       "        vertical-align: middle;\n",
       "    }\n",
       "\n",
       "    .dataframe tbody tr th {\n",
       "        vertical-align: top;\n",
       "    }\n",
       "\n",
       "    .dataframe thead th {\n",
       "        text-align: right;\n",
       "    }\n",
       "</style>\n",
       "<table border=\"1\" class=\"dataframe\">\n",
       "  <thead>\n",
       "    <tr style=\"text-align: right;\">\n",
       "      <th></th>\n",
       "      <th>mean radius</th>\n",
       "      <th>mean texture</th>\n",
       "      <th>mean perimeter</th>\n",
       "      <th>mean area</th>\n",
       "      <th>mean smoothness</th>\n",
       "      <th>mean compactness</th>\n",
       "      <th>mean concavity</th>\n",
       "      <th>mean concave points</th>\n",
       "      <th>mean symmetry</th>\n",
       "      <th>mean fractal dimension</th>\n",
       "      <th>...</th>\n",
       "      <th>worst texture</th>\n",
       "      <th>worst perimeter</th>\n",
       "      <th>worst area</th>\n",
       "      <th>worst smoothness</th>\n",
       "      <th>worst compactness</th>\n",
       "      <th>worst concavity</th>\n",
       "      <th>worst concave points</th>\n",
       "      <th>worst symmetry</th>\n",
       "      <th>worst fractal dimension</th>\n",
       "      <th>target</th>\n",
       "    </tr>\n",
       "  </thead>\n",
       "  <tbody>\n",
       "    <tr>\n",
       "      <th>0</th>\n",
       "      <td>17.99</td>\n",
       "      <td>10.38</td>\n",
       "      <td>122.80</td>\n",
       "      <td>1001.0</td>\n",
       "      <td>0.11840</td>\n",
       "      <td>0.27760</td>\n",
       "      <td>0.3001</td>\n",
       "      <td>0.14710</td>\n",
       "      <td>0.2419</td>\n",
       "      <td>0.07871</td>\n",
       "      <td>...</td>\n",
       "      <td>17.33</td>\n",
       "      <td>184.60</td>\n",
       "      <td>2019.0</td>\n",
       "      <td>0.1622</td>\n",
       "      <td>0.6656</td>\n",
       "      <td>0.7119</td>\n",
       "      <td>0.2654</td>\n",
       "      <td>0.4601</td>\n",
       "      <td>0.11890</td>\n",
       "      <td>0</td>\n",
       "    </tr>\n",
       "    <tr>\n",
       "      <th>1</th>\n",
       "      <td>20.57</td>\n",
       "      <td>17.77</td>\n",
       "      <td>132.90</td>\n",
       "      <td>1326.0</td>\n",
       "      <td>0.08474</td>\n",
       "      <td>0.07864</td>\n",
       "      <td>0.0869</td>\n",
       "      <td>0.07017</td>\n",
       "      <td>0.1812</td>\n",
       "      <td>0.05667</td>\n",
       "      <td>...</td>\n",
       "      <td>23.41</td>\n",
       "      <td>158.80</td>\n",
       "      <td>1956.0</td>\n",
       "      <td>0.1238</td>\n",
       "      <td>0.1866</td>\n",
       "      <td>0.2416</td>\n",
       "      <td>0.1860</td>\n",
       "      <td>0.2750</td>\n",
       "      <td>0.08902</td>\n",
       "      <td>0</td>\n",
       "    </tr>\n",
       "    <tr>\n",
       "      <th>2</th>\n",
       "      <td>19.69</td>\n",
       "      <td>21.25</td>\n",
       "      <td>130.00</td>\n",
       "      <td>1203.0</td>\n",
       "      <td>0.10960</td>\n",
       "      <td>0.15990</td>\n",
       "      <td>0.1974</td>\n",
       "      <td>0.12790</td>\n",
       "      <td>0.2069</td>\n",
       "      <td>0.05999</td>\n",
       "      <td>...</td>\n",
       "      <td>25.53</td>\n",
       "      <td>152.50</td>\n",
       "      <td>1709.0</td>\n",
       "      <td>0.1444</td>\n",
       "      <td>0.4245</td>\n",
       "      <td>0.4504</td>\n",
       "      <td>0.2430</td>\n",
       "      <td>0.3613</td>\n",
       "      <td>0.08758</td>\n",
       "      <td>0</td>\n",
       "    </tr>\n",
       "    <tr>\n",
       "      <th>3</th>\n",
       "      <td>11.42</td>\n",
       "      <td>20.38</td>\n",
       "      <td>77.58</td>\n",
       "      <td>386.1</td>\n",
       "      <td>0.14250</td>\n",
       "      <td>0.28390</td>\n",
       "      <td>0.2414</td>\n",
       "      <td>0.10520</td>\n",
       "      <td>0.2597</td>\n",
       "      <td>0.09744</td>\n",
       "      <td>...</td>\n",
       "      <td>26.50</td>\n",
       "      <td>98.87</td>\n",
       "      <td>567.7</td>\n",
       "      <td>0.2098</td>\n",
       "      <td>0.8663</td>\n",
       "      <td>0.6869</td>\n",
       "      <td>0.2575</td>\n",
       "      <td>0.6638</td>\n",
       "      <td>0.17300</td>\n",
       "      <td>0</td>\n",
       "    </tr>\n",
       "    <tr>\n",
       "      <th>4</th>\n",
       "      <td>20.29</td>\n",
       "      <td>14.34</td>\n",
       "      <td>135.10</td>\n",
       "      <td>1297.0</td>\n",
       "      <td>0.10030</td>\n",
       "      <td>0.13280</td>\n",
       "      <td>0.1980</td>\n",
       "      <td>0.10430</td>\n",
       "      <td>0.1809</td>\n",
       "      <td>0.05883</td>\n",
       "      <td>...</td>\n",
       "      <td>16.67</td>\n",
       "      <td>152.20</td>\n",
       "      <td>1575.0</td>\n",
       "      <td>0.1374</td>\n",
       "      <td>0.2050</td>\n",
       "      <td>0.4000</td>\n",
       "      <td>0.1625</td>\n",
       "      <td>0.2364</td>\n",
       "      <td>0.07678</td>\n",
       "      <td>0</td>\n",
       "    </tr>\n",
       "  </tbody>\n",
       "</table>\n",
       "<p>5 rows × 31 columns</p>\n",
       "</div>"
      ],
      "text/plain": [
       "   mean radius  mean texture  mean perimeter  mean area  mean smoothness  \\\n",
       "0        17.99         10.38          122.80     1001.0          0.11840   \n",
       "1        20.57         17.77          132.90     1326.0          0.08474   \n",
       "2        19.69         21.25          130.00     1203.0          0.10960   \n",
       "3        11.42         20.38           77.58      386.1          0.14250   \n",
       "4        20.29         14.34          135.10     1297.0          0.10030   \n",
       "\n",
       "   mean compactness  mean concavity  mean concave points  mean symmetry  \\\n",
       "0           0.27760          0.3001              0.14710         0.2419   \n",
       "1           0.07864          0.0869              0.07017         0.1812   \n",
       "2           0.15990          0.1974              0.12790         0.2069   \n",
       "3           0.28390          0.2414              0.10520         0.2597   \n",
       "4           0.13280          0.1980              0.10430         0.1809   \n",
       "\n",
       "   mean fractal dimension  ...  worst texture  worst perimeter  worst area  \\\n",
       "0                 0.07871  ...          17.33           184.60      2019.0   \n",
       "1                 0.05667  ...          23.41           158.80      1956.0   \n",
       "2                 0.05999  ...          25.53           152.50      1709.0   \n",
       "3                 0.09744  ...          26.50            98.87       567.7   \n",
       "4                 0.05883  ...          16.67           152.20      1575.0   \n",
       "\n",
       "   worst smoothness  worst compactness  worst concavity  worst concave points  \\\n",
       "0            0.1622             0.6656           0.7119                0.2654   \n",
       "1            0.1238             0.1866           0.2416                0.1860   \n",
       "2            0.1444             0.4245           0.4504                0.2430   \n",
       "3            0.2098             0.8663           0.6869                0.2575   \n",
       "4            0.1374             0.2050           0.4000                0.1625   \n",
       "\n",
       "   worst symmetry  worst fractal dimension  target  \n",
       "0          0.4601                  0.11890       0  \n",
       "1          0.2750                  0.08902       0  \n",
       "2          0.3613                  0.08758       0  \n",
       "3          0.6638                  0.17300       0  \n",
       "4          0.2364                  0.07678       0  \n",
       "\n",
       "[5 rows x 31 columns]"
      ]
     },
     "execution_count": 7,
     "metadata": {},
     "output_type": "execute_result"
    }
   ],
   "source": [
    "X = cancer.data\n",
    "y = cancer.target\n",
    "\n",
    "cancer_df = pd.DataFrame(data=X, columns=cancer.feature_names)\n",
    "cancer_df['target'] = y\n",
    "cancer_df.head()\n",
    "# 정규화가 필요하겠군,,,"
   ]
  },
  {
   "cell_type": "code",
   "execution_count": 9,
   "id": "52dc843d",
   "metadata": {},
   "outputs": [
    {
     "data": {
      "text/plain": [
       "((569, 30), (569,))"
      ]
     },
     "execution_count": 9,
     "metadata": {},
     "output_type": "execute_result"
    }
   ],
   "source": [
    "# 데이터와 타깃의 크기\n",
    "X.shape, y.shape"
   ]
  },
  {
   "cell_type": "code",
   "execution_count": 10,
   "id": "e0b420ce",
   "metadata": {},
   "outputs": [
    {
     "name": "stdout",
     "output_type": "stream",
     "text": [
      ".. _breast_cancer_dataset:\n",
      "\n",
      "Breast cancer wisconsin (diagnostic) dataset\n",
      "--------------------------------------------\n",
      "\n",
      "**Data Set Characteristics:**\n",
      "\n",
      "    :Number of Instances: 569\n",
      "\n",
      "    :Number of Attributes: 30 numeric, predictive attributes and the class\n",
      "\n",
      "    :Attribute Information:\n",
      "        - radius (mean of distances from center to points on the perimeter)\n",
      "        - texture (standard deviation of gray-scale values)\n",
      "        - perimeter\n",
      "        - area\n",
      "        - smoothness (local variation in radius lengths)\n",
      "        - compactness (perimeter^2 / area - 1.0)\n",
      "        - concavity (severity of concave portions of the contour)\n",
      "        - concave points (number of concave portions of the contour)\n",
      "        - symmetry\n",
      "        - fractal dimension (\"coastline approximation\" - 1)\n",
      "\n",
      "        The mean, standard error, and \"worst\" or largest (mean of the three\n",
      "        worst/largest values) of these features were computed for each image,\n",
      "        resulting in 30 features.  For instance, field 0 is Mean Radius, field\n",
      "        10 is Radius SE, field 20 is Worst Radius.\n",
      "\n",
      "        - class:\n",
      "                - WDBC-Malignant\n",
      "                - WDBC-Benign\n",
      "\n",
      "    :Summary Statistics:\n",
      "\n",
      "    ===================================== ====== ======\n",
      "                                           Min    Max\n",
      "    ===================================== ====== ======\n",
      "    radius (mean):                        6.981  28.11\n",
      "    texture (mean):                       9.71   39.28\n",
      "    perimeter (mean):                     43.79  188.5\n",
      "    area (mean):                          143.5  2501.0\n",
      "    smoothness (mean):                    0.053  0.163\n",
      "    compactness (mean):                   0.019  0.345\n",
      "    concavity (mean):                     0.0    0.427\n",
      "    concave points (mean):                0.0    0.201\n",
      "    symmetry (mean):                      0.106  0.304\n",
      "    fractal dimension (mean):             0.05   0.097\n",
      "    radius (standard error):              0.112  2.873\n",
      "    texture (standard error):             0.36   4.885\n",
      "    perimeter (standard error):           0.757  21.98\n",
      "    area (standard error):                6.802  542.2\n",
      "    smoothness (standard error):          0.002  0.031\n",
      "    compactness (standard error):         0.002  0.135\n",
      "    concavity (standard error):           0.0    0.396\n",
      "    concave points (standard error):      0.0    0.053\n",
      "    symmetry (standard error):            0.008  0.079\n",
      "    fractal dimension (standard error):   0.001  0.03\n",
      "    radius (worst):                       7.93   36.04\n",
      "    texture (worst):                      12.02  49.54\n",
      "    perimeter (worst):                    50.41  251.2\n",
      "    area (worst):                         185.2  4254.0\n",
      "    smoothness (worst):                   0.071  0.223\n",
      "    compactness (worst):                  0.027  1.058\n",
      "    concavity (worst):                    0.0    1.252\n",
      "    concave points (worst):               0.0    0.291\n",
      "    symmetry (worst):                     0.156  0.664\n",
      "    fractal dimension (worst):            0.055  0.208\n",
      "    ===================================== ====== ======\n",
      "\n",
      "    :Missing Attribute Values: None\n",
      "\n",
      "    :Class Distribution: 212 - Malignant, 357 - Benign\n",
      "\n",
      "    :Creator:  Dr. William H. Wolberg, W. Nick Street, Olvi L. Mangasarian\n",
      "\n",
      "    :Donor: Nick Street\n",
      "\n",
      "    :Date: November, 1995\n",
      "\n",
      "This is a copy of UCI ML Breast Cancer Wisconsin (Diagnostic) datasets.\n",
      "https://goo.gl/U2Uwz2\n",
      "\n",
      "Features are computed from a digitized image of a fine needle\n",
      "aspirate (FNA) of a breast mass.  They describe\n",
      "characteristics of the cell nuclei present in the image.\n",
      "\n",
      "Separating plane described above was obtained using\n",
      "Multisurface Method-Tree (MSM-T) [K. P. Bennett, \"Decision Tree\n",
      "Construction Via Linear Programming.\" Proceedings of the 4th\n",
      "Midwest Artificial Intelligence and Cognitive Science Society,\n",
      "pp. 97-101, 1992], a classification method which uses linear\n",
      "programming to construct a decision tree.  Relevant features\n",
      "were selected using an exhaustive search in the space of 1-4\n",
      "features and 1-3 separating planes.\n",
      "\n",
      "The actual linear program used to obtain the separating plane\n",
      "in the 3-dimensional space is that described in:\n",
      "[K. P. Bennett and O. L. Mangasarian: \"Robust Linear\n",
      "Programming Discrimination of Two Linearly Inseparable Sets\",\n",
      "Optimization Methods and Software 1, 1992, 23-34].\n",
      "\n",
      "This database is also available through the UW CS ftp server:\n",
      "\n",
      "ftp ftp.cs.wisc.edu\n",
      "cd math-prog/cpo-dataset/machine-learn/WDBC/\n",
      "\n",
      ".. topic:: References\n",
      "\n",
      "   - W.N. Street, W.H. Wolberg and O.L. Mangasarian. Nuclear feature extraction \n",
      "     for breast tumor diagnosis. IS&T/SPIE 1993 International Symposium on \n",
      "     Electronic Imaging: Science and Technology, volume 1905, pages 861-870,\n",
      "     San Jose, CA, 1993.\n",
      "   - O.L. Mangasarian, W.N. Street and W.H. Wolberg. Breast cancer diagnosis and \n",
      "     prognosis via linear programming. Operations Research, 43(4), pages 570-577, \n",
      "     July-August 1995.\n",
      "   - W.H. Wolberg, W.N. Street, and O.L. Mangasarian. Machine learning techniques\n",
      "     to diagnose breast cancer from fine-needle aspirates. Cancer Letters 77 (1994) \n",
      "     163-171.\n"
     ]
    }
   ],
   "source": [
    "print(cancer.DESCR)"
   ]
  },
  {
   "cell_type": "code",
   "execution_count": 11,
   "id": "a7d06a4d",
   "metadata": {},
   "outputs": [
    {
     "data": {
      "text/plain": [
       "(array([0, 1]), array([212, 357], dtype=int64))"
      ]
     },
     "execution_count": 11,
     "metadata": {},
     "output_type": "execute_result"
    }
   ],
   "source": [
    "# 양성 유방암세트와 음성 유방암세트 개수 파악\n",
    "np.unique(cancer.target, return_counts = True) # 건수랑 해당 값도 보려구"
   ]
  },
  {
   "cell_type": "code",
   "execution_count": 14,
   "id": "177ac502",
   "metadata": {},
   "outputs": [
    {
     "name": "stdout",
     "output_type": "stream",
     "text": [
      "feature1 :  mean radius\n",
      "feature2 :  mean texture\n",
      "feature3 :  mean perimeter\n",
      "feature4 :  mean area\n",
      "feature5 :  mean smoothness\n",
      "feature6 :  mean compactness\n",
      "feature7 :  mean concavity\n",
      "feature8 :  mean concave points\n",
      "feature9 :  mean symmetry\n",
      "feature10 :  mean fractal dimension\n",
      "feature11 :  radius error\n",
      "feature12 :  texture error\n",
      "feature13 :  perimeter error\n",
      "feature14 :  area error\n",
      "feature15 :  smoothness error\n",
      "feature16 :  compactness error\n",
      "feature17 :  concavity error\n",
      "feature18 :  concave points error\n",
      "feature19 :  symmetry error\n",
      "feature20 :  fractal dimension error\n",
      "feature21 :  worst radius\n",
      "feature22 :  worst texture\n",
      "feature23 :  worst perimeter\n",
      "feature24 :  worst area\n",
      "feature25 :  worst smoothness\n",
      "feature26 :  worst compactness\n",
      "feature27 :  worst concavity\n",
      "feature28 :  worst concave points\n",
      "feature29 :  worst symmetry\n",
      "feature30 :  worst fractal dimension\n"
     ]
    }
   ],
   "source": [
    "# 30개의 피쳐가 뭔지 확인\n",
    "## enumerate 값과 인덱스 반환\n",
    "for i, feature in enumerate(cancer.feature_names):\n",
    "    print(f'feature{(i+1)} : ', feature)"
   ]
  },
  {
   "cell_type": "markdown",
   "id": "028c3974",
   "metadata": {},
   "source": [
    "### 표본 스케일링_standarization(표준화)"
   ]
  },
  {
   "cell_type": "code",
   "execution_count": 15,
   "id": "06c15ef7",
   "metadata": {},
   "outputs": [],
   "source": [
    "from sklearn.preprocessing import StandardScaler\n",
    "\n",
    "scaler = StandardScaler()\n",
    "scaled = scaler.fit_transform(cancer_df.drop('target', axis=1)) # 표준화"
   ]
  },
  {
   "cell_type": "markdown",
   "id": "57db2f20",
   "metadata": {},
   "source": [
    "### 훈련세트와 테스트세트 분리"
   ]
  },
  {
   "cell_type": "code",
   "execution_count": 19,
   "id": "9bbbd458",
   "metadata": {},
   "outputs": [],
   "source": [
    "# 세트 분리\n",
    "X_train, X_test, y_train, y_test = train_test_split(\n",
    "scaled, cancer_df['target'], test_size=0.2, random_state=156)"
   ]
  },
  {
   "cell_type": "markdown",
   "id": "b14387a2",
   "metadata": {},
   "source": [
    "#### 로지스틱 회귀 모델 학습"
   ]
  },
  {
   "cell_type": "code",
   "execution_count": 20,
   "id": "8b0dbc1f",
   "metadata": {},
   "outputs": [
    {
     "data": {
      "text/plain": [
       "LogisticRegression()"
      ]
     },
     "execution_count": 20,
     "metadata": {},
     "output_type": "execute_result"
    }
   ],
   "source": [
    "# 로지스틱\n",
    "from sklearn.linear_model import LogisticRegression\n",
    "\n",
    "#instance\n",
    "lrr = LogisticRegression()\n",
    "# fit\n",
    "lrr.fit(X_train, y_train)"
   ]
  },
  {
   "cell_type": "code",
   "execution_count": 21,
   "id": "f7de1cca",
   "metadata": {
    "scrolled": true
   },
   "outputs": [
    {
     "name": "stdout",
     "output_type": "stream",
     "text": [
      "[0 1 1 1 1]\n"
     ]
    }
   ],
   "source": [
    "# 훈련 모델을 이용하여 5개의 샘플 예측\n",
    "print(lrr.predict(X_train[:5]))"
   ]
  },
  {
   "cell_type": "markdown",
   "id": "0e62fc14",
   "metadata": {},
   "source": [
    "- 악성종양(malignant)이 0값으로 1개, 양성종양(benign)이 1값으로 4개 예측"
   ]
  },
  {
   "cell_type": "code",
   "execution_count": 23,
   "id": "e1c14af5",
   "metadata": {},
   "outputs": [
    {
     "name": "stdout",
     "output_type": "stream",
     "text": [
      "[[9.90703488e-01 9.29651217e-03]\n",
      " [3.95649332e-02 9.60435067e-01]\n",
      " [6.71031350e-06 9.99993290e-01]\n",
      " [1.61627147e-04 9.99838373e-01]\n",
      " [8.73555079e-02 9.12644492e-01]]\n"
     ]
    }
   ],
   "source": [
    "# 예측 확률\n",
    "print(lrr.predict_proba(X_train[:5]))"
   ]
  },
  {
   "cell_type": "code",
   "execution_count": 24,
   "id": "f702a83c",
   "metadata": {
    "scrolled": true
   },
   "outputs": [
    {
     "name": "stdout",
     "output_type": "stream",
     "text": [
      "[0 1]\n"
     ]
    }
   ],
   "source": [
    "# classes_속성\n",
    "print(lrr.classes_)"
   ]
  },
  {
   "cell_type": "code",
   "execution_count": 25,
   "id": "eca71c5a",
   "metadata": {},
   "outputs": [
    {
     "name": "stdout",
     "output_type": "stream",
     "text": [
      "[[-0.4721854  -0.38258173 -0.44454406 -0.54316124 -0.14319742  0.72706363\n",
      "  -0.70746211 -0.96418695 -0.07905176  0.27001329 -1.19658305  0.19765208\n",
      "  -0.5890956  -0.95010481 -0.31150744  0.75959144  0.14533365 -0.32546344\n",
      "   0.33243796  0.4394735  -0.86822466 -1.27824666 -0.65146591 -0.90866007\n",
      "  -0.44631307  0.16705142 -0.8564404  -0.83122684 -1.0734741  -0.54801513]] [0.21706473]\n"
     ]
    }
   ],
   "source": [
    "# 로지스틱 회귀가 학습한 계수(기울기와 절편) 추출\n",
    "print(lrr.coef_, lrr.intercept_)"
   ]
  },
  {
   "cell_type": "code",
   "execution_count": 26,
   "id": "600dfc2b",
   "metadata": {},
   "outputs": [
    {
     "name": "stdout",
     "output_type": "stream",
     "text": [
      "[-4.66877599  3.18944318 11.91185818  8.7300568   2.34636033]\n"
     ]
    }
   ],
   "source": [
    "# 예측한 5개의 z 값 출력\n",
    "decisions = lrr.decision_function(X_train[:5])\n",
    "print(decisions)"
   ]
  },
  {
   "cell_type": "code",
   "execution_count": 27,
   "id": "d59ccd88",
   "metadata": {
    "scrolled": true
   },
   "outputs": [
    {
     "name": "stdout",
     "output_type": "stream",
     "text": [
      "[0.00929651 0.96043507 0.99999329 0.99983837 0.91264449]\n"
     ]
    }
   ],
   "source": [
    "# 시그모이드 함수를 통과해서 \n",
    "from scipy.special import expit\n",
    "print(expit(decisions))"
   ]
  },
  {
   "cell_type": "code",
   "execution_count": 29,
   "id": "c5cb3a73",
   "metadata": {},
   "outputs": [],
   "source": [
    "# 전체 예측하기\n",
    "predict = lrr.predict(X_test)"
   ]
  },
  {
   "cell_type": "code",
   "execution_count": 18,
   "id": "0586661c",
   "metadata": {},
   "outputs": [
    {
     "data": {
      "text/plain": [
       "(array([ 2.34866411e-01, -2.46839171e-03, -3.25089250e-02, -1.64858367e-04,\n",
       "        -6.39577460e-02,  5.03711313e+00, -1.13330230e-02, -6.17662144e+00,\n",
       "         4.11318652e-01, -5.09448207e+00, -5.39408205e-01,  2.09055279e-02,\n",
       "         1.30951166e-02,  1.51157528e-03, -2.04809335e+01,  2.90771809e+00,\n",
       "         3.72254332e+00, -1.71255590e+01,  1.30233472e+00,  2.15877319e+00,\n",
       "        -1.99200691e-01, -1.15347947e-02,  1.03878665e-02,  8.29164431e-04,\n",
       "         6.13521807e-01, -7.61878573e-01, -8.52468315e-01,  1.48626243e+00,\n",
       "        -1.05305973e+00, -1.72754163e+00]),\n",
       " 3.00180780664828)"
      ]
     },
     "execution_count": 18,
     "metadata": {},
     "output_type": "execute_result"
    }
   ],
   "source": [
    "lr.coef_, lr.intercept_"
   ]
  },
  {
   "cell_type": "markdown",
   "id": "d0e7edb2",
   "metadata": {},
   "source": [
    "#### 평가지표\n",
    "1. 회귀(regression): MAE, MSE, RMSE, SSE ...\n",
    "2. 분류(classification): 정확도, 정밀도, 재현율(민감도), F1 스코어, ROC 커브\n",
    " - 정밀도와 민감도를 가장 많이 봄, f1은 우리가 만든 모델이 얼마나 정확한지(조화 평균)\n",
    " - 정확도 = 예측결과가 동일한 데이터 건수 / 전체예측 데이터 건수\n",
    "3. 클러스트링(clustreing): DBI, 엘보우 메서드, 실루엣계수"
   ]
  },
  {
   "cell_type": "code",
   "execution_count": 30,
   "id": "74b3e1dd",
   "metadata": {},
   "outputs": [
    {
     "data": {
      "text/plain": [
       "0.9736842105263158"
      ]
     },
     "execution_count": 30,
     "metadata": {},
     "output_type": "execute_result"
    }
   ],
   "source": [
    "# 정확도(Accuracy): 실제 데이터에서 예측 데이터가 얼마나 같은지 판단하는 지표\n",
    "## 이진분류의 경우 데이터에 따라 모델 성능이 왜곡될 수 있다.(데이터 편향시)\n",
    "from sklearn.metrics import accuracy_score\n",
    "accuracy_score(y_test, predict)"
   ]
  },
  {
   "cell_type": "markdown",
   "id": "4174d51e",
   "metadata": {},
   "source": [
    "#### 혼돈 행렬(Confision Matrix, 오차 행렬)"
   ]
  },
  {
   "cell_type": "code",
   "execution_count": 32,
   "id": "8db82cc8",
   "metadata": {},
   "outputs": [
    {
     "data": {
      "image/jpeg": "[encoded data removed]",
      "text/plain": [
       "<IPython.core.display.Image object>"
      ]
     },
     "execution_count": 32,
     "metadata": {
      "image/jpeg": {
       "width": 600
      }
     },
     "output_type": "execute_result"
    }
   ],
   "source": [
    "from IPython.display import Image\n",
    "Image('https://skappal7.files.wordpress.com/2018/08/confusion-matrix.jpg', width=600)"
   ]
  },
  {
   "cell_type": "code",
   "execution_count": 34,
   "id": "bc79aeff",
   "metadata": {},
   "outputs": [
    {
     "data": {
      "text/plain": [
       "array([[35,  2],\n",
       "       [ 1, 76]], dtype=int64)"
      ]
     },
     "execution_count": 34,
     "metadata": {},
     "output_type": "execute_result"
    }
   ],
   "source": [
    "# 혼돈 행렬\n",
    "from sklearn.metrics import confusion_matrix\n",
    "\n",
    "cm = confusion_matrix(y_test, predict) # 행렬\n",
    "cm"
   ]
  },
  {
   "cell_type": "code",
   "execution_count": 36,
   "id": "a6356d49",
   "metadata": {},
   "outputs": [
    {
     "data": {
      "text/plain": [
       "Text(67.875, 0.5, 'Actual')"
      ]
     },
     "execution_count": 36,
     "metadata": {},
     "output_type": "execute_result"
    },
    {
     "data": {
      "image/png": "[encoded data removed]",
      "text/plain": [
       "<Figure size 720x576 with 2 Axes>"
      ]
     },
     "metadata": {},
     "output_type": "display_data"
    }
   ],
   "source": [
    "# 혼돈행렬 시각화\n",
    "sns.heatmap(cm, annot=True, annot_kws={'size':20}, cmap='twilight')\n",
    "plt.xlabel('predicted', fontsize=20)\n",
    "plt.ylabel('Actual', fontsize=20)"
   ]
  },
  {
   "cell_type": "code",
   "execution_count": 37,
   "id": "00876843",
   "metadata": {},
   "outputs": [],
   "source": [
    "# 1차원 배열로 바꾸는 것\n",
    "TN, FP, FN, TP = cm.ravel()"
   ]
  },
  {
   "cell_type": "markdown",
   "id": "4567c855",
   "metadata": {},
   "source": [
    "##### 정밀도(Precision)\n",
    "- Positive로 예측한 전체 건수에서 옳게 예측한 건수의 비율"
   ]
  },
  {
   "cell_type": "code",
   "execution_count": 38,
   "id": "c881a523",
   "metadata": {},
   "outputs": [
    {
     "data": {
      "text/plain": [
       "0.9743589743589743"
      ]
     },
     "execution_count": 38,
     "metadata": {},
     "output_type": "execute_result"
    }
   ],
   "source": [
    "# 정밀도 구하는 공식\n",
    "precision = TP / (FP+TP)\n",
    "precision"
   ]
  },
  {
   "cell_type": "code",
   "execution_count": 39,
   "id": "4b42cf44",
   "metadata": {},
   "outputs": [
    {
     "data": {
      "text/plain": [
       "0.9743589743589743"
      ]
     },
     "execution_count": 39,
     "metadata": {},
     "output_type": "execute_result"
    }
   ],
   "source": [
    "# 이렇게도 구할 수 있다.\n",
    "from sklearn.metrics import precision_score\n",
    "precision_score(y_test, predict)"
   ]
  },
  {
   "cell_type": "markdown",
   "id": "2e505762",
   "metadata": {},
   "source": [
    "##### 재현율(Recall), 민감도\n",
    "- 실제 Positive인 전체 건수에서 옳게 예측한 건수의 비율\n",
    "- TPR(True Positive Rate)"
   ]
  },
  {
   "cell_type": "code",
   "execution_count": 40,
   "id": "a43fb75b",
   "metadata": {},
   "outputs": [
    {
     "data": {
      "text/plain": [
       "0.987012987012987"
      ]
     },
     "execution_count": 40,
     "metadata": {},
     "output_type": "execute_result"
    }
   ],
   "source": [
    "# 재현율 구하는 공식\n",
    "recall = TP / (FN +TP)\n",
    "recall"
   ]
  },
  {
   "cell_type": "code",
   "execution_count": 41,
   "id": "1df702cf",
   "metadata": {},
   "outputs": [
    {
     "data": {
      "text/plain": [
       "0.987012987012987"
      ]
     },
     "execution_count": 41,
     "metadata": {},
     "output_type": "execute_result"
    }
   ],
   "source": [
    "# 사이킷런 함수 이용하여 구하기\n",
    "from sklearn.metrics import recall_score\n",
    "recall_score(y_test, predict)"
   ]
  },
  {
   "cell_type": "markdown",
   "id": "798abe92",
   "metadata": {},
   "source": [
    "##### F1 Score\n",
    "- 재현율과 정밀도의 평균을 나타내는 수치"
   ]
  },
  {
   "cell_type": "code",
   "execution_count": 42,
   "id": "2fb3b761",
   "metadata": {},
   "outputs": [
    {
     "data": {
      "text/plain": [
       "0.9806451612903225"
      ]
     },
     "execution_count": 42,
     "metadata": {},
     "output_type": "execute_result"
    }
   ],
   "source": [
    "# f1 구하는 공식\n",
    "f1 = 2 * (precision * recall) / (precision + recall)\n",
    "f1"
   ]
  },
  {
   "cell_type": "code",
   "execution_count": 43,
   "id": "6df61f04",
   "metadata": {},
   "outputs": [
    {
     "data": {
      "text/plain": [
       "0.9806451612903225"
      ]
     },
     "execution_count": 43,
     "metadata": {},
     "output_type": "execute_result"
    }
   ],
   "source": [
    "# 사이킷런 함수를 이용한 f1\n",
    "from sklearn.metrics import f1_score\n",
    "f1_score(y_test, predict)"
   ]
  },
  {
   "cell_type": "markdown",
   "id": "801effc6",
   "metadata": {},
   "source": [
    "##### ROC곡선과 ACU"
   ]
  },
  {
   "cell_type": "code",
   "execution_count": null,
   "id": "e71d06af",
   "metadata": {},
   "outputs": [],
   "source": []
  },
  {
   "cell_type": "markdown",
   "id": "595d624a",
   "metadata": {},
   "source": [
    "## XGBoost 모델 학습\n",
    "###  위스콘신 유방암 예측"
   ]
  },
  {
   "cell_type": "code",
   "execution_count": 45,
   "id": "d9ad11a6",
   "metadata": {},
   "outputs": [
    {
     "data": {
      "text/html": [
       "<div>\n",
       "<style scoped>\n",
       "    .dataframe tbody tr th:only-of-type {\n",
       "        vertical-align: middle;\n",
       "    }\n",
       "\n",
       "    .dataframe tbody tr th {\n",
       "        vertical-align: top;\n",
       "    }\n",
       "\n",
       "    .dataframe thead th {\n",
       "        text-align: right;\n",
       "    }\n",
       "</style>\n",
       "<table border=\"1\" class=\"dataframe\">\n",
       "  <thead>\n",
       "    <tr style=\"text-align: right;\">\n",
       "      <th></th>\n",
       "      <th>mean radius</th>\n",
       "      <th>mean texture</th>\n",
       "      <th>mean perimeter</th>\n",
       "      <th>mean area</th>\n",
       "      <th>mean smoothness</th>\n",
       "      <th>mean compactness</th>\n",
       "      <th>mean concavity</th>\n",
       "      <th>mean concave points</th>\n",
       "      <th>mean symmetry</th>\n",
       "      <th>mean fractal dimension</th>\n",
       "      <th>...</th>\n",
       "      <th>worst texture</th>\n",
       "      <th>worst perimeter</th>\n",
       "      <th>worst area</th>\n",
       "      <th>worst smoothness</th>\n",
       "      <th>worst compactness</th>\n",
       "      <th>worst concavity</th>\n",
       "      <th>worst concave points</th>\n",
       "      <th>worst symmetry</th>\n",
       "      <th>worst fractal dimension</th>\n",
       "      <th>target</th>\n",
       "    </tr>\n",
       "  </thead>\n",
       "  <tbody>\n",
       "    <tr>\n",
       "      <th>0</th>\n",
       "      <td>17.99</td>\n",
       "      <td>10.38</td>\n",
       "      <td>122.80</td>\n",
       "      <td>1001.0</td>\n",
       "      <td>0.11840</td>\n",
       "      <td>0.27760</td>\n",
       "      <td>0.3001</td>\n",
       "      <td>0.14710</td>\n",
       "      <td>0.2419</td>\n",
       "      <td>0.07871</td>\n",
       "      <td>...</td>\n",
       "      <td>17.33</td>\n",
       "      <td>184.60</td>\n",
       "      <td>2019.0</td>\n",
       "      <td>0.1622</td>\n",
       "      <td>0.6656</td>\n",
       "      <td>0.7119</td>\n",
       "      <td>0.2654</td>\n",
       "      <td>0.4601</td>\n",
       "      <td>0.11890</td>\n",
       "      <td>0</td>\n",
       "    </tr>\n",
       "    <tr>\n",
       "      <th>1</th>\n",
       "      <td>20.57</td>\n",
       "      <td>17.77</td>\n",
       "      <td>132.90</td>\n",
       "      <td>1326.0</td>\n",
       "      <td>0.08474</td>\n",
       "      <td>0.07864</td>\n",
       "      <td>0.0869</td>\n",
       "      <td>0.07017</td>\n",
       "      <td>0.1812</td>\n",
       "      <td>0.05667</td>\n",
       "      <td>...</td>\n",
       "      <td>23.41</td>\n",
       "      <td>158.80</td>\n",
       "      <td>1956.0</td>\n",
       "      <td>0.1238</td>\n",
       "      <td>0.1866</td>\n",
       "      <td>0.2416</td>\n",
       "      <td>0.1860</td>\n",
       "      <td>0.2750</td>\n",
       "      <td>0.08902</td>\n",
       "      <td>0</td>\n",
       "    </tr>\n",
       "    <tr>\n",
       "      <th>2</th>\n",
       "      <td>19.69</td>\n",
       "      <td>21.25</td>\n",
       "      <td>130.00</td>\n",
       "      <td>1203.0</td>\n",
       "      <td>0.10960</td>\n",
       "      <td>0.15990</td>\n",
       "      <td>0.1974</td>\n",
       "      <td>0.12790</td>\n",
       "      <td>0.2069</td>\n",
       "      <td>0.05999</td>\n",
       "      <td>...</td>\n",
       "      <td>25.53</td>\n",
       "      <td>152.50</td>\n",
       "      <td>1709.0</td>\n",
       "      <td>0.1444</td>\n",
       "      <td>0.4245</td>\n",
       "      <td>0.4504</td>\n",
       "      <td>0.2430</td>\n",
       "      <td>0.3613</td>\n",
       "      <td>0.08758</td>\n",
       "      <td>0</td>\n",
       "    </tr>\n",
       "    <tr>\n",
       "      <th>3</th>\n",
       "      <td>11.42</td>\n",
       "      <td>20.38</td>\n",
       "      <td>77.58</td>\n",
       "      <td>386.1</td>\n",
       "      <td>0.14250</td>\n",
       "      <td>0.28390</td>\n",
       "      <td>0.2414</td>\n",
       "      <td>0.10520</td>\n",
       "      <td>0.2597</td>\n",
       "      <td>0.09744</td>\n",
       "      <td>...</td>\n",
       "      <td>26.50</td>\n",
       "      <td>98.87</td>\n",
       "      <td>567.7</td>\n",
       "      <td>0.2098</td>\n",
       "      <td>0.8663</td>\n",
       "      <td>0.6869</td>\n",
       "      <td>0.2575</td>\n",
       "      <td>0.6638</td>\n",
       "      <td>0.17300</td>\n",
       "      <td>0</td>\n",
       "    </tr>\n",
       "    <tr>\n",
       "      <th>4</th>\n",
       "      <td>20.29</td>\n",
       "      <td>14.34</td>\n",
       "      <td>135.10</td>\n",
       "      <td>1297.0</td>\n",
       "      <td>0.10030</td>\n",
       "      <td>0.13280</td>\n",
       "      <td>0.1980</td>\n",
       "      <td>0.10430</td>\n",
       "      <td>0.1809</td>\n",
       "      <td>0.05883</td>\n",
       "      <td>...</td>\n",
       "      <td>16.67</td>\n",
       "      <td>152.20</td>\n",
       "      <td>1575.0</td>\n",
       "      <td>0.1374</td>\n",
       "      <td>0.2050</td>\n",
       "      <td>0.4000</td>\n",
       "      <td>0.1625</td>\n",
       "      <td>0.2364</td>\n",
       "      <td>0.07678</td>\n",
       "      <td>0</td>\n",
       "    </tr>\n",
       "  </tbody>\n",
       "</table>\n",
       "<p>5 rows × 31 columns</p>\n",
       "</div>"
      ],
      "text/plain": [
       "   mean radius  mean texture  mean perimeter  mean area  mean smoothness  \\\n",
       "0        17.99         10.38          122.80     1001.0          0.11840   \n",
       "1        20.57         17.77          132.90     1326.0          0.08474   \n",
       "2        19.69         21.25          130.00     1203.0          0.10960   \n",
       "3        11.42         20.38           77.58      386.1          0.14250   \n",
       "4        20.29         14.34          135.10     1297.0          0.10030   \n",
       "\n",
       "   mean compactness  mean concavity  mean concave points  mean symmetry  \\\n",
       "0           0.27760          0.3001              0.14710         0.2419   \n",
       "1           0.07864          0.0869              0.07017         0.1812   \n",
       "2           0.15990          0.1974              0.12790         0.2069   \n",
       "3           0.28390          0.2414              0.10520         0.2597   \n",
       "4           0.13280          0.1980              0.10430         0.1809   \n",
       "\n",
       "   mean fractal dimension  ...  worst texture  worst perimeter  worst area  \\\n",
       "0                 0.07871  ...          17.33           184.60      2019.0   \n",
       "1                 0.05667  ...          23.41           158.80      1956.0   \n",
       "2                 0.05999  ...          25.53           152.50      1709.0   \n",
       "3                 0.09744  ...          26.50            98.87       567.7   \n",
       "4                 0.05883  ...          16.67           152.20      1575.0   \n",
       "\n",
       "   worst smoothness  worst compactness  worst concavity  worst concave points  \\\n",
       "0            0.1622             0.6656           0.7119                0.2654   \n",
       "1            0.1238             0.1866           0.2416                0.1860   \n",
       "2            0.1444             0.4245           0.4504                0.2430   \n",
       "3            0.2098             0.8663           0.6869                0.2575   \n",
       "4            0.1374             0.2050           0.4000                0.1625   \n",
       "\n",
       "   worst symmetry  worst fractal dimension  target  \n",
       "0          0.4601                  0.11890       0  \n",
       "1          0.2750                  0.08902       0  \n",
       "2          0.3613                  0.08758       0  \n",
       "3          0.6638                  0.17300       0  \n",
       "4          0.2364                  0.07678       0  \n",
       "\n",
       "[5 rows x 31 columns]"
      ]
     },
     "execution_count": 45,
     "metadata": {},
     "output_type": "execute_result"
    }
   ],
   "source": [
    "from xgboost import plot_importance\n",
    "\n",
    "data = load_breast_cancer()\n",
    "features = data.data\n",
    "labels = data.target\n",
    "df = pd.DataFrame(data=features, columns=data.feature_names)\n",
    "df['target'] = labels\n",
    "df.head()"
   ]
  },
  {
   "cell_type": "code",
   "execution_count": 58,
   "id": "432e2770",
   "metadata": {},
   "outputs": [],
   "source": [
    "X_features = df.iloc[:,:-1]\n",
    "y_label = df.iloc[:,-1]\n",
    "\n",
    "xTrain, xTest, yTrain, yTest = train_test_split(\n",
    "X_features, y_label, test_size=0.2, random_state=109)\n",
    "\n",
    "X_tr, X_val, y_tr, y_val = train_test_split(xTrain, yTrain, test_size=0.1, random_state=109)\n"
   ]
  },
  {
   "cell_type": "code",
   "execution_count": 59,
   "id": "81494fbb",
   "metadata": {},
   "outputs": [
    {
     "name": "stdout",
     "output_type": "stream",
     "text": [
      "(455, 30) (114, 30)\n",
      "(409, 30) (46, 30)\n"
     ]
    }
   ],
   "source": [
    "print(xTrain.shape, xTest.shape)\n",
    "print(X_tr.shape, X_val.shape)"
   ]
  },
  {
   "cell_type": "code",
   "execution_count": 60,
   "id": "b885bdc8",
   "metadata": {},
   "outputs": [],
   "source": [
    "dtr = xgb.DMatrix(data=X_tr, label=y_tr)\n",
    "dval = xgb.DMatrix(data=X_val, label=y_val)\n",
    "dtest = xgb.DMatrix(data=xTest, label=yTest)"
   ]
  },
  {
   "cell_type": "code",
   "execution_count": 61,
   "id": "a1a39b50",
   "metadata": {},
   "outputs": [],
   "source": [
    "params ={\n",
    "    'max_depth': 3,\n",
    "    'eta':0.05,\n",
    "    'objective':'binary:logistic',\n",
    "    'eval_metric':'logloss'\n",
    "}\n",
    "num_rounds = 400"
   ]
  },
  {
   "cell_type": "code",
   "execution_count": 63,
   "id": "c58f8767",
   "metadata": {},
   "outputs": [
    {
     "name": "stdout",
     "output_type": "stream",
     "text": [
      "[0]\ttrain-logloss:0.65083\teval-logloss:0.65513\n",
      "[1]\ttrain-logloss:0.61241\teval-logloss:0.61945\n",
      "[2]\ttrain-logloss:0.57727\teval-logloss:0.58993\n",
      "[3]\ttrain-logloss:0.54523\teval-logloss:0.56496\n",
      "[4]\ttrain-logloss:0.51556\teval-logloss:0.53850\n",
      "[5]\ttrain-logloss:0.48826\teval-logloss:0.51420\n",
      "[6]\ttrain-logloss:0.46290\teval-logloss:0.49232\n",
      "[7]\ttrain-logloss:0.43902\teval-logloss:0.47189\n",
      "[8]\ttrain-logloss:0.41629\teval-logloss:0.45266\n",
      "[9]\ttrain-logloss:0.39562\teval-logloss:0.43501\n",
      "[10]\ttrain-logloss:0.37590\teval-logloss:0.41840\n",
      "[11]\ttrain-logloss:0.35755\teval-logloss:0.40302\n",
      "[12]\ttrain-logloss:0.34043\teval-logloss:0.38908\n",
      "[13]\ttrain-logloss:0.32489\teval-logloss:0.37421\n",
      "[14]\ttrain-logloss:0.31090\teval-logloss:0.36248\n",
      "[15]\ttrain-logloss:0.29651\teval-logloss:0.35089\n",
      "[16]\ttrain-logloss:0.28321\teval-logloss:0.34019\n",
      "[17]\ttrain-logloss:0.27076\teval-logloss:0.33024\n",
      "[18]\ttrain-logloss:0.25876\teval-logloss:0.32066\n",
      "[19]\ttrain-logloss:0.24807\teval-logloss:0.31163\n",
      "[20]\ttrain-logloss:0.23769\teval-logloss:0.30343\n",
      "[21]\ttrain-logloss:0.22793\teval-logloss:0.29580\n",
      "[22]\ttrain-logloss:0.21845\teval-logloss:0.28713\n",
      "[23]\ttrain-logloss:0.20976\teval-logloss:0.28015\n",
      "[24]\ttrain-logloss:0.20132\teval-logloss:0.27079\n",
      "[25]\ttrain-logloss:0.19356\teval-logloss:0.26483\n",
      "[26]\ttrain-logloss:0.18605\teval-logloss:0.25635\n",
      "[27]\ttrain-logloss:0.17921\teval-logloss:0.25020\n",
      "[28]\ttrain-logloss:0.17250\teval-logloss:0.24288\n",
      "[29]\ttrain-logloss:0.16573\teval-logloss:0.23668\n",
      "[30]\ttrain-logloss:0.16012\teval-logloss:0.23235\n",
      "[31]\ttrain-logloss:0.15468\teval-logloss:0.22751\n",
      "[32]\ttrain-logloss:0.14926\teval-logloss:0.22184\n",
      "[33]\ttrain-logloss:0.14447\teval-logloss:0.21508\n",
      "[34]\ttrain-logloss:0.13958\teval-logloss:0.20997\n",
      "[35]\ttrain-logloss:0.13512\teval-logloss:0.20549\n",
      "[36]\ttrain-logloss:0.13020\teval-logloss:0.20109\n",
      "[37]\ttrain-logloss:0.12629\teval-logloss:0.19531\n",
      "[38]\ttrain-logloss:0.12206\teval-logloss:0.19042\n",
      "[39]\ttrain-logloss:0.11840\teval-logloss:0.18697\n",
      "[40]\ttrain-logloss:0.11432\teval-logloss:0.18347\n",
      "[41]\ttrain-logloss:0.11067\teval-logloss:0.17918\n",
      "[42]\ttrain-logloss:0.10761\teval-logloss:0.17569\n",
      "[43]\ttrain-logloss:0.10449\teval-logloss:0.17272\n",
      "[44]\ttrain-logloss:0.10117\teval-logloss:0.16975\n",
      "[45]\ttrain-logloss:0.09849\teval-logloss:0.16761\n",
      "[46]\ttrain-logloss:0.09565\teval-logloss:0.16450\n",
      "[47]\ttrain-logloss:0.09323\teval-logloss:0.16048\n",
      "[48]\ttrain-logloss:0.09064\teval-logloss:0.15764\n",
      "[49]\ttrain-logloss:0.08835\teval-logloss:0.15489\n",
      "[50]\ttrain-logloss:0.08605\teval-logloss:0.15191\n",
      "[51]\ttrain-logloss:0.08382\teval-logloss:0.14818\n",
      "[52]\ttrain-logloss:0.08155\teval-logloss:0.14567\n",
      "[53]\ttrain-logloss:0.07927\teval-logloss:0.14275\n",
      "[54]\ttrain-logloss:0.07733\teval-logloss:0.13942\n",
      "[55]\ttrain-logloss:0.07532\teval-logloss:0.13812\n",
      "[56]\ttrain-logloss:0.07329\teval-logloss:0.13642\n",
      "[57]\ttrain-logloss:0.07150\teval-logloss:0.13445\n",
      "[58]\ttrain-logloss:0.06987\teval-logloss:0.13244\n",
      "[59]\ttrain-logloss:0.06818\teval-logloss:0.13151\n",
      "[60]\ttrain-logloss:0.06640\teval-logloss:0.13019\n",
      "[61]\ttrain-logloss:0.06482\teval-logloss:0.12891\n",
      "[62]\ttrain-logloss:0.06342\teval-logloss:0.12616\n",
      "[63]\ttrain-logloss:0.06198\teval-logloss:0.12538\n",
      "[64]\ttrain-logloss:0.06070\teval-logloss:0.12368\n",
      "[65]\ttrain-logloss:0.05930\teval-logloss:0.12240\n",
      "[66]\ttrain-logloss:0.05801\teval-logloss:0.12183\n",
      "[67]\ttrain-logloss:0.05678\teval-logloss:0.12026\n",
      "[68]\ttrain-logloss:0.05563\teval-logloss:0.11943\n",
      "[69]\ttrain-logloss:0.05441\teval-logloss:0.11837\n",
      "[70]\ttrain-logloss:0.05331\teval-logloss:0.11803\n",
      "[71]\ttrain-logloss:0.05225\teval-logloss:0.11669\n",
      "[72]\ttrain-logloss:0.05125\teval-logloss:0.11626\n",
      "[73]\ttrain-logloss:0.05026\teval-logloss:0.11621\n",
      "[74]\ttrain-logloss:0.04923\teval-logloss:0.11535\n",
      "[75]\ttrain-logloss:0.04831\teval-logloss:0.11473\n",
      "[76]\ttrain-logloss:0.04732\teval-logloss:0.11469\n",
      "[77]\ttrain-logloss:0.04639\teval-logloss:0.11394\n",
      "[78]\ttrain-logloss:0.04556\teval-logloss:0.11349\n",
      "[79]\ttrain-logloss:0.04485\teval-logloss:0.11318\n",
      "[80]\ttrain-logloss:0.04403\teval-logloss:0.11223\n",
      "[81]\ttrain-logloss:0.04324\teval-logloss:0.11153\n",
      "[82]\ttrain-logloss:0.04250\teval-logloss:0.11041\n",
      "[83]\ttrain-logloss:0.04167\teval-logloss:0.11048\n",
      "[84]\ttrain-logloss:0.04091\teval-logloss:0.10994\n",
      "[85]\ttrain-logloss:0.04014\teval-logloss:0.10903\n",
      "[86]\ttrain-logloss:0.03948\teval-logloss:0.10928\n",
      "[87]\ttrain-logloss:0.03872\teval-logloss:0.10880\n",
      "[88]\ttrain-logloss:0.03810\teval-logloss:0.10813\n",
      "[89]\ttrain-logloss:0.03748\teval-logloss:0.10849\n",
      "[90]\ttrain-logloss:0.03684\teval-logloss:0.10811\n",
      "[91]\ttrain-logloss:0.03616\teval-logloss:0.10786\n",
      "[92]\ttrain-logloss:0.03552\teval-logloss:0.10748\n",
      "[93]\ttrain-logloss:0.03495\teval-logloss:0.10716\n",
      "[94]\ttrain-logloss:0.03442\teval-logloss:0.10666\n",
      "[95]\ttrain-logloss:0.03388\teval-logloss:0.10712\n",
      "[96]\ttrain-logloss:0.03334\teval-logloss:0.10658\n",
      "[97]\ttrain-logloss:0.03283\teval-logloss:0.10634\n",
      "[98]\ttrain-logloss:0.03236\teval-logloss:0.10595\n",
      "[99]\ttrain-logloss:0.03192\teval-logloss:0.10601\n",
      "[100]\ttrain-logloss:0.03145\teval-logloss:0.10549\n",
      "[101]\ttrain-logloss:0.03102\teval-logloss:0.10553\n",
      "[102]\ttrain-logloss:0.03056\teval-logloss:0.10512\n",
      "[103]\ttrain-logloss:0.03011\teval-logloss:0.10487\n",
      "[104]\ttrain-logloss:0.02972\teval-logloss:0.10460\n",
      "[105]\ttrain-logloss:0.02927\teval-logloss:0.10316\n",
      "[106]\ttrain-logloss:0.02889\teval-logloss:0.10369\n",
      "[107]\ttrain-logloss:0.02846\teval-logloss:0.10451\n",
      "[108]\ttrain-logloss:0.02805\teval-logloss:0.10431\n",
      "[109]\ttrain-logloss:0.02765\teval-logloss:0.10406\n",
      "[110]\ttrain-logloss:0.02721\teval-logloss:0.10261\n",
      "[111]\ttrain-logloss:0.02684\teval-logloss:0.10292\n",
      "[112]\ttrain-logloss:0.02649\teval-logloss:0.10302\n",
      "[113]\ttrain-logloss:0.02608\teval-logloss:0.10165\n",
      "[114]\ttrain-logloss:0.02578\teval-logloss:0.10098\n",
      "[115]\ttrain-logloss:0.02546\teval-logloss:0.10111\n",
      "[116]\ttrain-logloss:0.02512\teval-logloss:0.10144\n",
      "[117]\ttrain-logloss:0.02475\teval-logloss:0.10016\n",
      "[118]\ttrain-logloss:0.02447\teval-logloss:0.09998\n",
      "[119]\ttrain-logloss:0.02416\teval-logloss:0.10032\n",
      "[120]\ttrain-logloss:0.02385\teval-logloss:0.10032\n",
      "[121]\ttrain-logloss:0.02354\teval-logloss:0.09923\n",
      "[122]\ttrain-logloss:0.02330\teval-logloss:0.09907\n",
      "[123]\ttrain-logloss:0.02299\teval-logloss:0.09892\n",
      "[124]\ttrain-logloss:0.02277\teval-logloss:0.09795\n",
      "[125]\ttrain-logloss:0.02247\teval-logloss:0.09737\n",
      "[126]\ttrain-logloss:0.02221\teval-logloss:0.09756\n",
      "[127]\ttrain-logloss:0.02194\teval-logloss:0.09747\n",
      "[128]\ttrain-logloss:0.02173\teval-logloss:0.09720\n",
      "[129]\ttrain-logloss:0.02146\teval-logloss:0.09755\n",
      "[130]\ttrain-logloss:0.02124\teval-logloss:0.09680\n",
      "[131]\ttrain-logloss:0.02104\teval-logloss:0.09609\n",
      "[132]\ttrain-logloss:0.02079\teval-logloss:0.09645\n",
      "[133]\ttrain-logloss:0.02059\teval-logloss:0.09576\n",
      "[134]\ttrain-logloss:0.02042\teval-logloss:0.09485\n",
      "[135]\ttrain-logloss:0.02019\teval-logloss:0.09506\n",
      "[136]\ttrain-logloss:0.02003\teval-logloss:0.09419\n",
      "[137]\ttrain-logloss:0.01980\teval-logloss:0.09477\n",
      "[138]\ttrain-logloss:0.01962\teval-logloss:0.09410\n",
      "[139]\ttrain-logloss:0.01942\teval-logloss:0.09468\n",
      "[140]\ttrain-logloss:0.01919\teval-logloss:0.09506\n",
      "[141]\ttrain-logloss:0.01900\teval-logloss:0.09527\n",
      "[142]\ttrain-logloss:0.01882\teval-logloss:0.09519\n",
      "[143]\ttrain-logloss:0.01861\teval-logloss:0.09557\n",
      "[144]\ttrain-logloss:0.01845\teval-logloss:0.09513\n",
      "[145]\ttrain-logloss:0.01826\teval-logloss:0.09522\n",
      "[146]\ttrain-logloss:0.01812\teval-logloss:0.09441\n",
      "[147]\ttrain-logloss:0.01792\teval-logloss:0.09376\n",
      "[148]\ttrain-logloss:0.01775\teval-logloss:0.09414\n",
      "[149]\ttrain-logloss:0.01759\teval-logloss:0.09407\n",
      "[150]\ttrain-logloss:0.01742\teval-logloss:0.09397\n",
      "[151]\ttrain-logloss:0.01725\teval-logloss:0.09442\n",
      "[152]\ttrain-logloss:0.01713\teval-logloss:0.09370\n",
      "[153]\ttrain-logloss:0.01700\teval-logloss:0.09330\n",
      "[154]\ttrain-logloss:0.01683\teval-logloss:0.09376\n",
      "[155]\ttrain-logloss:0.01674\teval-logloss:0.09311\n",
      "[156]\ttrain-logloss:0.01661\teval-logloss:0.09255\n",
      "[157]\ttrain-logloss:0.01648\teval-logloss:0.09310\n",
      "[158]\ttrain-logloss:0.01634\teval-logloss:0.09347\n",
      "[159]\ttrain-logloss:0.01622\teval-logloss:0.09311\n",
      "[160]\ttrain-logloss:0.01612\teval-logloss:0.09318\n",
      "[161]\ttrain-logloss:0.01594\teval-logloss:0.09339\n",
      "[162]\ttrain-logloss:0.01577\teval-logloss:0.09303\n",
      "[163]\ttrain-logloss:0.01568\teval-logloss:0.09302\n",
      "[164]\ttrain-logloss:0.01559\teval-logloss:0.09309\n",
      "[165]\ttrain-logloss:0.01542\teval-logloss:0.09331\n",
      "[166]\ttrain-logloss:0.01530\teval-logloss:0.09376\n",
      "[167]\ttrain-logloss:0.01514\teval-logloss:0.09342\n",
      "[168]\ttrain-logloss:0.01502\teval-logloss:0.09397\n",
      "[169]\ttrain-logloss:0.01493\teval-logloss:0.09406\n"
     ]
    },
    {
     "name": "stdout",
     "output_type": "stream",
     "text": [
      "[170]\ttrain-logloss:0.01485\teval-logloss:0.09327\n",
      "[171]\ttrain-logloss:0.01478\teval-logloss:0.09284\n",
      "[172]\ttrain-logloss:0.01464\teval-logloss:0.09310\n",
      "[173]\ttrain-logloss:0.01449\teval-logloss:0.09278\n",
      "[174]\ttrain-logloss:0.01443\teval-logloss:0.09200\n",
      "[175]\ttrain-logloss:0.01436\teval-logloss:0.09204\n",
      "[176]\ttrain-logloss:0.01427\teval-logloss:0.09134\n",
      "[177]\ttrain-logloss:0.01420\teval-logloss:0.09130\n",
      "[178]\ttrain-logloss:0.01407\teval-logloss:0.09154\n",
      "[179]\ttrain-logloss:0.01399\teval-logloss:0.09175\n",
      "[180]\ttrain-logloss:0.01393\teval-logloss:0.09101\n",
      "[181]\ttrain-logloss:0.01387\teval-logloss:0.09065\n",
      "[182]\ttrain-logloss:0.01380\teval-logloss:0.09030\n",
      "[183]\ttrain-logloss:0.01371\teval-logloss:0.09014\n",
      "[184]\ttrain-logloss:0.01363\teval-logloss:0.08950\n",
      "[185]\ttrain-logloss:0.01355\teval-logloss:0.08967\n",
      "[186]\ttrain-logloss:0.01349\teval-logloss:0.08978\n",
      "[187]\ttrain-logloss:0.01343\teval-logloss:0.08965\n",
      "[188]\ttrain-logloss:0.01332\teval-logloss:0.08971\n",
      "[189]\ttrain-logloss:0.01325\teval-logloss:0.08991\n",
      "[190]\ttrain-logloss:0.01319\teval-logloss:0.09002\n",
      "[191]\ttrain-logloss:0.01313\teval-logloss:0.08941\n",
      "[192]\ttrain-logloss:0.01307\teval-logloss:0.08929\n",
      "[193]\ttrain-logloss:0.01301\teval-logloss:0.08895\n",
      "[194]\ttrain-logloss:0.01295\teval-logloss:0.08915\n",
      "[195]\ttrain-logloss:0.01284\teval-logloss:0.08952\n",
      "[196]\ttrain-logloss:0.01279\teval-logloss:0.08940\n",
      "[197]\ttrain-logloss:0.01273\teval-logloss:0.08857\n",
      "[198]\ttrain-logloss:0.01267\teval-logloss:0.08825\n",
      "[199]\ttrain-logloss:0.01261\teval-logloss:0.08825\n",
      "[200]\ttrain-logloss:0.01256\teval-logloss:0.08814\n",
      "[201]\ttrain-logloss:0.01248\teval-logloss:0.08802\n",
      "[202]\ttrain-logloss:0.01242\teval-logloss:0.08749\n",
      "[203]\ttrain-logloss:0.01236\teval-logloss:0.08769\n",
      "[204]\ttrain-logloss:0.01226\teval-logloss:0.08783\n",
      "[205]\ttrain-logloss:0.01221\teval-logloss:0.08717\n",
      "[206]\ttrain-logloss:0.01216\teval-logloss:0.08729\n",
      "[207]\ttrain-logloss:0.01211\teval-logloss:0.08731\n",
      "[208]\ttrain-logloss:0.01207\teval-logloss:0.08722\n",
      "[209]\ttrain-logloss:0.01202\teval-logloss:0.08713\n",
      "[210]\ttrain-logloss:0.01196\teval-logloss:0.08690\n",
      "[211]\ttrain-logloss:0.01191\teval-logloss:0.08641\n",
      "[212]\ttrain-logloss:0.01186\teval-logloss:0.08628\n",
      "[213]\ttrain-logloss:0.01181\teval-logloss:0.08647\n",
      "[214]\ttrain-logloss:0.01177\teval-logloss:0.08638\n",
      "[215]\ttrain-logloss:0.01173\teval-logloss:0.08595\n",
      "[216]\ttrain-logloss:0.01168\teval-logloss:0.08582\n",
      "[217]\ttrain-logloss:0.01163\teval-logloss:0.08601\n",
      "[218]\ttrain-logloss:0.01159\teval-logloss:0.08539\n",
      "[219]\ttrain-logloss:0.01153\teval-logloss:0.08509\n",
      "[220]\ttrain-logloss:0.01149\teval-logloss:0.08480\n",
      "[221]\ttrain-logloss:0.01145\teval-logloss:0.08468\n",
      "[222]\ttrain-logloss:0.01138\teval-logloss:0.08429\n",
      "[223]\ttrain-logloss:0.01133\teval-logloss:0.08408\n",
      "[224]\ttrain-logloss:0.01129\teval-logloss:0.08407\n",
      "[225]\ttrain-logloss:0.01125\teval-logloss:0.08368\n",
      "[226]\ttrain-logloss:0.01121\teval-logloss:0.08373\n",
      "[227]\ttrain-logloss:0.01117\teval-logloss:0.08333\n",
      "[228]\ttrain-logloss:0.01113\teval-logloss:0.08302\n",
      "[229]\ttrain-logloss:0.01109\teval-logloss:0.08321\n",
      "[230]\ttrain-logloss:0.01105\teval-logloss:0.08284\n",
      "[231]\ttrain-logloss:0.01100\teval-logloss:0.08263\n",
      "[232]\ttrain-logloss:0.01096\teval-logloss:0.08271\n",
      "[233]\ttrain-logloss:0.01093\teval-logloss:0.08215\n",
      "[234]\ttrain-logloss:0.01089\teval-logloss:0.08185\n",
      "[235]\ttrain-logloss:0.01085\teval-logloss:0.08148\n",
      "[236]\ttrain-logloss:0.01082\teval-logloss:0.08119\n",
      "[237]\ttrain-logloss:0.01079\teval-logloss:0.08119\n",
      "[238]\ttrain-logloss:0.01075\teval-logloss:0.08098\n",
      "[239]\ttrain-logloss:0.01069\teval-logloss:0.08063\n",
      "[240]\ttrain-logloss:0.01065\teval-logloss:0.08038\n",
      "[241]\ttrain-logloss:0.01061\teval-logloss:0.08056\n",
      "[242]\ttrain-logloss:0.01058\teval-logloss:0.08021\n",
      "[243]\ttrain-logloss:0.01054\teval-logloss:0.08037\n",
      "[244]\ttrain-logloss:0.01050\teval-logloss:0.08055\n",
      "[245]\ttrain-logloss:0.01044\teval-logloss:0.08022\n",
      "[246]\ttrain-logloss:0.01040\teval-logloss:0.07995\n",
      "[247]\ttrain-logloss:0.01036\teval-logloss:0.08011\n",
      "[248]\ttrain-logloss:0.01033\teval-logloss:0.08028\n",
      "[249]\ttrain-logloss:0.01029\teval-logloss:0.07994\n",
      "[250]\ttrain-logloss:0.01026\teval-logloss:0.08021\n",
      "[251]\ttrain-logloss:0.01022\teval-logloss:0.08038\n",
      "[252]\ttrain-logloss:0.01019\teval-logloss:0.07986\n",
      "[253]\ttrain-logloss:0.01016\teval-logloss:0.07960\n",
      "[254]\ttrain-logloss:0.01012\teval-logloss:0.07976\n",
      "[255]\ttrain-logloss:0.01010\teval-logloss:0.07942\n",
      "[256]\ttrain-logloss:0.01007\teval-logloss:0.07951\n",
      "[257]\ttrain-logloss:0.01004\teval-logloss:0.07969\n",
      "[258]\ttrain-logloss:0.01000\teval-logloss:0.07943\n",
      "[259]\ttrain-logloss:0.00998\teval-logloss:0.07927\n",
      "[260]\ttrain-logloss:0.00997\teval-logloss:0.07938\n",
      "[261]\ttrain-logloss:0.00994\teval-logloss:0.07947\n",
      "[262]\ttrain-logloss:0.00990\teval-logloss:0.07964\n",
      "[263]\ttrain-logloss:0.00987\teval-logloss:0.07989\n",
      "[264]\ttrain-logloss:0.00986\teval-logloss:0.08000\n",
      "[265]\ttrain-logloss:0.00982\teval-logloss:0.08017\n",
      "[266]\ttrain-logloss:0.00979\teval-logloss:0.07985\n",
      "[267]\ttrain-logloss:0.00977\teval-logloss:0.07992\n",
      "[268]\ttrain-logloss:0.00972\teval-logloss:0.07974\n",
      "[269]\ttrain-logloss:0.00971\teval-logloss:0.07940\n",
      "[270]\ttrain-logloss:0.00968\teval-logloss:0.07950\n",
      "[271]\ttrain-logloss:0.00964\teval-logloss:0.07923\n",
      "[272]\ttrain-logloss:0.00963\teval-logloss:0.07918\n",
      "[273]\ttrain-logloss:0.00961\teval-logloss:0.07929\n",
      "[274]\ttrain-logloss:0.00959\teval-logloss:0.07903\n",
      "[275]\ttrain-logloss:0.00958\teval-logloss:0.07898\n",
      "[276]\ttrain-logloss:0.00955\teval-logloss:0.07872\n",
      "[277]\ttrain-logloss:0.00953\teval-logloss:0.07883\n",
      "[278]\ttrain-logloss:0.00952\teval-logloss:0.07851\n",
      "[279]\ttrain-logloss:0.00949\teval-logloss:0.07875\n",
      "[280]\ttrain-logloss:0.00948\teval-logloss:0.07871\n",
      "[281]\ttrain-logloss:0.00945\teval-logloss:0.07868\n",
      "[282]\ttrain-logloss:0.00943\teval-logloss:0.07839\n",
      "[283]\ttrain-logloss:0.00940\teval-logloss:0.07813\n",
      "[284]\ttrain-logloss:0.00936\teval-logloss:0.07799\n",
      "[285]\ttrain-logloss:0.00934\teval-logloss:0.07810\n",
      "[286]\ttrain-logloss:0.00933\teval-logloss:0.07806\n",
      "[287]\ttrain-logloss:0.00930\teval-logloss:0.07830\n",
      "[288]\ttrain-logloss:0.00927\teval-logloss:0.07850\n",
      "[289]\ttrain-logloss:0.00926\teval-logloss:0.07861\n",
      "[290]\ttrain-logloss:0.00923\teval-logloss:0.07847\n",
      "[291]\ttrain-logloss:0.00922\teval-logloss:0.07816\n",
      "[292]\ttrain-logloss:0.00919\teval-logloss:0.07803\n",
      "[293]\ttrain-logloss:0.00916\teval-logloss:0.07775\n",
      "[294]\ttrain-logloss:0.00914\teval-logloss:0.07795\n",
      "[295]\ttrain-logloss:0.00911\teval-logloss:0.07815\n",
      "[296]\ttrain-logloss:0.00909\teval-logloss:0.07811\n",
      "[297]\ttrain-logloss:0.00907\teval-logloss:0.07797\n",
      "[298]\ttrain-logloss:0.00906\teval-logloss:0.07808\n",
      "[299]\ttrain-logloss:0.00903\teval-logloss:0.07783\n",
      "[300]\ttrain-logloss:0.00900\teval-logloss:0.07772\n",
      "[301]\ttrain-logloss:0.00898\teval-logloss:0.07744\n",
      "[302]\ttrain-logloss:0.00897\teval-logloss:0.07766\n",
      "[303]\ttrain-logloss:0.00894\teval-logloss:0.07766\n",
      "[304]\ttrain-logloss:0.00892\teval-logloss:0.07753\n",
      "[305]\ttrain-logloss:0.00891\teval-logloss:0.07723\n",
      "[306]\ttrain-logloss:0.00889\teval-logloss:0.07700\n",
      "[307]\ttrain-logloss:0.00886\teval-logloss:0.07719\n",
      "[308]\ttrain-logloss:0.00884\teval-logloss:0.07730\n",
      "[309]\ttrain-logloss:0.00882\teval-logloss:0.07730\n",
      "[310]\ttrain-logloss:0.00881\teval-logloss:0.07752\n",
      "[311]\ttrain-logloss:0.00879\teval-logloss:0.07725\n",
      "[312]\ttrain-logloss:0.00877\teval-logloss:0.07712\n",
      "[313]\ttrain-logloss:0.00874\teval-logloss:0.07702\n",
      "[314]\ttrain-logloss:0.00873\teval-logloss:0.07673\n",
      "[315]\ttrain-logloss:0.00871\teval-logloss:0.07642\n",
      "[316]\ttrain-logloss:0.00870\teval-logloss:0.07664\n",
      "[317]\ttrain-logloss:0.00868\teval-logloss:0.07642\n",
      "[318]\ttrain-logloss:0.00867\teval-logloss:0.07653\n",
      "[319]\ttrain-logloss:0.00864\teval-logloss:0.07672\n",
      "[320]\ttrain-logloss:0.00862\teval-logloss:0.07646\n",
      "[321]\ttrain-logloss:0.00860\teval-logloss:0.07624\n",
      "[322]\ttrain-logloss:0.00857\teval-logloss:0.07643\n",
      "[323]\ttrain-logloss:0.00856\teval-logloss:0.07654\n",
      "[324]\ttrain-logloss:0.00854\teval-logloss:0.07617\n",
      "[325]\ttrain-logloss:0.00853\teval-logloss:0.07613\n",
      "[326]\ttrain-logloss:0.00852\teval-logloss:0.07634\n",
      "[327]\ttrain-logloss:0.00851\teval-logloss:0.07606\n",
      "[328]\ttrain-logloss:0.00848\teval-logloss:0.07597\n",
      "[329]\ttrain-logloss:0.00847\teval-logloss:0.07582\n",
      "[330]\ttrain-logloss:0.00845\teval-logloss:0.07557\n",
      "[331]\ttrain-logloss:0.00842\teval-logloss:0.07535\n",
      "[332]\ttrain-logloss:0.00840\teval-logloss:0.07555\n",
      "[333]\ttrain-logloss:0.00839\teval-logloss:0.07565\n",
      "[334]\ttrain-logloss:0.00838\teval-logloss:0.07538\n",
      "[335]\ttrain-logloss:0.00837\teval-logloss:0.07534\n",
      "[336]\ttrain-logloss:0.00835\teval-logloss:0.07530\n",
      "[337]\ttrain-logloss:0.00834\teval-logloss:0.07551\n"
     ]
    },
    {
     "name": "stdout",
     "output_type": "stream",
     "text": [
      "[338]\ttrain-logloss:0.00832\teval-logloss:0.07526\n",
      "[339]\ttrain-logloss:0.00831\teval-logloss:0.07506\n",
      "[340]\ttrain-logloss:0.00830\teval-logloss:0.07519\n",
      "[341]\ttrain-logloss:0.00829\teval-logloss:0.07492\n",
      "[342]\ttrain-logloss:0.00828\teval-logloss:0.07513\n",
      "[343]\ttrain-logloss:0.00827\teval-logloss:0.07492\n",
      "[344]\ttrain-logloss:0.00826\teval-logloss:0.07511\n",
      "[345]\ttrain-logloss:0.00825\teval-logloss:0.07521\n",
      "[346]\ttrain-logloss:0.00824\teval-logloss:0.07495\n",
      "[347]\ttrain-logloss:0.00823\teval-logloss:0.07514\n",
      "[348]\ttrain-logloss:0.00821\teval-logloss:0.07490\n",
      "[349]\ttrain-logloss:0.00820\teval-logloss:0.07499\n",
      "[350]\ttrain-logloss:0.00819\teval-logloss:0.07477\n",
      "[351]\ttrain-logloss:0.00818\teval-logloss:0.07496\n",
      "[352]\ttrain-logloss:0.00817\teval-logloss:0.07472\n",
      "[353]\ttrain-logloss:0.00816\teval-logloss:0.07452\n",
      "[354]\ttrain-logloss:0.00815\teval-logloss:0.07473\n",
      "[355]\ttrain-logloss:0.00814\teval-logloss:0.07478\n",
      "[356]\ttrain-logloss:0.00813\teval-logloss:0.07451\n",
      "[357]\ttrain-logloss:0.00812\teval-logloss:0.07462\n",
      "[358]\ttrain-logloss:0.00811\teval-logloss:0.07480\n",
      "[359]\ttrain-logloss:0.00810\teval-logloss:0.07454\n",
      "[360]\ttrain-logloss:0.00809\teval-logloss:0.07474\n",
      "[361]\ttrain-logloss:0.00807\teval-logloss:0.07451\n",
      "[362]\ttrain-logloss:0.00807\teval-logloss:0.07470\n",
      "[363]\ttrain-logloss:0.00806\teval-logloss:0.07448\n",
      "[364]\ttrain-logloss:0.00805\teval-logloss:0.07435\n",
      "[365]\ttrain-logloss:0.00804\teval-logloss:0.07409\n",
      "[366]\ttrain-logloss:0.00803\teval-logloss:0.07429\n",
      "[367]\ttrain-logloss:0.00802\teval-logloss:0.07403\n",
      "[368]\ttrain-logloss:0.00801\teval-logloss:0.07422\n",
      "[369]\ttrain-logloss:0.00800\teval-logloss:0.07432\n",
      "[370]\ttrain-logloss:0.00799\teval-logloss:0.07429\n",
      "[371]\ttrain-logloss:0.00798\teval-logloss:0.07403\n",
      "[372]\ttrain-logloss:0.00797\teval-logloss:0.07412\n",
      "[373]\ttrain-logloss:0.00797\teval-logloss:0.07392\n",
      "[374]\ttrain-logloss:0.00796\teval-logloss:0.07410\n",
      "[375]\ttrain-logloss:0.00795\teval-logloss:0.07406\n",
      "[376]\ttrain-logloss:0.00794\teval-logloss:0.07385\n",
      "[377]\ttrain-logloss:0.00793\teval-logloss:0.07390\n",
      "[378]\ttrain-logloss:0.00792\teval-logloss:0.07364\n",
      "[379]\ttrain-logloss:0.00791\teval-logloss:0.07384\n",
      "[380]\ttrain-logloss:0.00790\teval-logloss:0.07371\n",
      "[381]\ttrain-logloss:0.00790\teval-logloss:0.07346\n",
      "[382]\ttrain-logloss:0.00789\teval-logloss:0.07343\n",
      "[383]\ttrain-logloss:0.00788\teval-logloss:0.07353\n",
      "[384]\ttrain-logloss:0.00787\teval-logloss:0.07371\n",
      "[385]\ttrain-logloss:0.00786\teval-logloss:0.07346\n",
      "[386]\ttrain-logloss:0.00785\teval-logloss:0.07321\n",
      "[387]\ttrain-logloss:0.00784\teval-logloss:0.07340\n",
      "[388]\ttrain-logloss:0.00784\teval-logloss:0.07358\n",
      "[389]\ttrain-logloss:0.00783\teval-logloss:0.07338\n",
      "[390]\ttrain-logloss:0.00782\teval-logloss:0.07349\n",
      "[391]\ttrain-logloss:0.00781\teval-logloss:0.07366\n",
      "[392]\ttrain-logloss:0.00780\teval-logloss:0.07341\n",
      "[393]\ttrain-logloss:0.00779\teval-logloss:0.07338\n",
      "[394]\ttrain-logloss:0.00779\teval-logloss:0.07317\n",
      "[395]\ttrain-logloss:0.00778\teval-logloss:0.07322\n",
      "[396]\ttrain-logloss:0.00777\teval-logloss:0.07331\n",
      "[397]\ttrain-logloss:0.00776\teval-logloss:0.07306\n",
      "[398]\ttrain-logloss:0.00775\teval-logloss:0.07293\n",
      "[399]\ttrain-logloss:0.00774\teval-logloss:0.07274\n"
     ]
    }
   ],
   "source": [
    "eval_list = [(dtr, 'train'), (dval, 'eval')]\n",
    "\n",
    "xgb_model = xgb.train(params=params, dtrain=dtr, num_boost_round = num_rounds,\n",
    "                     early_stopping_rounds = 100, evals = eval_list)"
   ]
  },
  {
   "cell_type": "markdown",
   "id": "58ae9f93",
   "metadata": {},
   "source": [
    "### XGB 예측"
   ]
  },
  {
   "cell_type": "code",
   "execution_count": 69,
   "id": "72af1d9c",
   "metadata": {},
   "outputs": [
    {
     "name": "stdout",
     "output_type": "stream",
     "text": [
      "predict() 수행 결과 10개\n",
      "[0.99  0.999 0.    0.001 0.975 0.    0.999 0.999 1.    0.   ]\n",
      "예측 분류 10개만 출력\n",
      "[1, 1, 0, 0, 1, 0, 1, 1, 1, 0]\n"
     ]
    }
   ],
   "source": [
    "# 예측 확률\n",
    "pred_probs = xgb_model.predict(dtest)\n",
    "print('predict() 수행 결과 10개')\n",
    "print(np.round(pred_probs[:10],3))\n",
    "\n",
    "# 예측 분류\n",
    "preds = [1 if x > 0.5 else 0 for x in pred_probs]\n",
    "print('예측 분류 10개만 출력')\n",
    "print(f\"{preds[:10]}\")\n"
   ]
  },
  {
   "cell_type": "markdown",
   "id": "a7e73cdd",
   "metadata": {},
   "source": [
    "### XGB 평가"
   ]
  },
  {
   "cell_type": "code",
   "execution_count": 70,
   "id": "94582536",
   "metadata": {},
   "outputs": [],
   "source": [
    "from sklearn.metrics import accuracy_score, precision_score, recall_score\n",
    "from sklearn.metrics import confusion_matrix, f1_score, roc_auc_score\n",
    "\n",
    "# 평가 수행하는 함수 정의\n",
    "def get_clf_eval(yTest, pred=None, pred_proba_po=None):\n",
    "    confusion = confusion_matrix(yTest, pred)\n",
    "    accuracy = accuracy_score(yTest, pred)\n",
    "    precision = precision_score(yTest, pred)\n",
    "    recall = recall_score(yTest, pred)\n",
    "    f1 = f1_score(yTest, pred)\n",
    "    auc = roc_auc_score(yTest, pred_proba_po)\n",
    "    \n",
    "    print('오차행렬 : {}'.format(confusion))\n",
    "    print(f\"정확도: {accuracy:.4f}, 정밀도: {precision:.4f}, 재현율: {recall:.4f}, F1: {f1:.4f}, AUC: {auc:.4f}\")"
   ]
  },
  {
   "cell_type": "code",
   "execution_count": 71,
   "id": "2357bf86",
   "metadata": {},
   "outputs": [
    {
     "name": "stdout",
     "output_type": "stream",
     "text": [
      "오차행렬 : [[38  2]\n",
      " [ 0 74]]\n",
      "정확도: 0.9825, 정밀도: 0.9737, 재현율: 1.0000, F1: 0.9867, AUC: 0.9997\n"
     ]
    }
   ],
   "source": [
    "# 함수 호출\n",
    "get_clf_eval(yTest, pred= preds, pred_proba_po = pred_probs)"
   ]
  },
  {
   "cell_type": "markdown",
   "id": "c3afe463",
   "metadata": {},
   "source": [
    "#### XGB 피처별 중요도"
   ]
  },
  {
   "cell_type": "code",
   "execution_count": 72,
   "id": "dc164789",
   "metadata": {},
   "outputs": [
    {
     "data": {
      "text/plain": [
       "<function matplotlib.pyplot.show(close=None, block=None)>"
      ]
     },
     "execution_count": 72,
     "metadata": {},
     "output_type": "execute_result"
    },
    {
     "data": {
      "image/png": "[encoded data removed]",
      "text/plain": [
       "<Figure size 720x576 with 1 Axes>"
      ]
     },
     "metadata": {},
     "output_type": "display_data"
    }
   ],
   "source": [
    "from xgboost import plot_importance\n",
    "\n",
    "# 피처별 중요도를 그려주는 함수\n",
    "plot_importance(xgb_model)\n",
    "plt.show"
   ]
  },
  {
   "cell_type": "markdown",
   "id": "764dd951",
   "metadata": {},
   "source": [
    "#### XGB 시각화"
   ]
  },
  {
   "cell_type": "code",
   "execution_count": 73,
   "id": "55a79bd0",
   "metadata": {},
   "outputs": [
    {
     "data": {
      "image/svg+xml": [
       "<?xml version=\"1.0\" encoding=\"UTF-8\" standalone=\"no\"?>\n",
       "<!DOCTYPE svg PUBLIC \"-//W3C//DTD SVG 1.1//EN\"\n",
       " \"http://www.w3.org/Graphics/SVG/1.1/DTD/svg11.dtd\">\n",
       "<!-- Generated by graphviz version 6.0.2 (20221011.1828)\n",
       " -->\n",
       "<!-- Pages: 1 -->\n",
       "<svg width=\"1360pt\" height=\"305pt\"\n",
       " viewBox=\"0.00 0.00 1359.94 305.00\" xmlns=\"http://www.w3.org/2000/svg\" xmlns:xlink=\"http://www.w3.org/1999/xlink\">\n",
       "<g id=\"graph0\" class=\"graph\" transform=\"scale(1 1) rotate(0) translate(4 301)\">\n",
       "<polygon fill=\"white\" stroke=\"none\" points=\"-4,4 -4,-301 1355.94,-301 1355.94,4 -4,4\"/>\n",
       "<!-- 0 -->\n",
       "<g id=\"node1\" class=\"node\">\n",
       "<title>0</title>\n",
       "<ellipse fill=\"none\" stroke=\"black\" cx=\"656.39\" cy=\"-279\" rx=\"143.77\" ry=\"18\"/>\n",
       "<text text-anchor=\"middle\" x=\"656.39\" y=\"-275.3\" font-family=\"Times New Roman,serif\" font-size=\"14.00\">mean concave points&lt;0.0557999983</text>\n",
       "</g>\n",
       "<!-- 1 -->\n",
       "<g id=\"node2\" class=\"node\">\n",
       "<title>1</title>\n",
       "<ellipse fill=\"none\" stroke=\"black\" cx=\"544.39\" cy=\"-192\" rx=\"95.58\" ry=\"18\"/>\n",
       "<text text-anchor=\"middle\" x=\"544.39\" y=\"-188.3\" font-family=\"Times New Roman,serif\" font-size=\"14.00\">worst area&lt;874.849976</text>\n",
       "</g>\n",
       "<!-- 0&#45;&gt;1 -->\n",
       "<g id=\"edge1\" class=\"edge\">\n",
       "<title>0&#45;&gt;1</title>\n",
       "<path fill=\"none\" stroke=\"#0000ff\" d=\"M634.27,-261.21C617.16,-248.23 593.3,-230.12 574.47,-215.83\"/>\n",
       "<polygon fill=\"#0000ff\" stroke=\"#0000ff\" points=\"576.56,-213.02 566.47,-209.76 572.32,-218.59 576.56,-213.02\"/>\n",
       "<text text-anchor=\"middle\" x=\"641.89\" y=\"-231.8\" font-family=\"Times New Roman,serif\" font-size=\"14.00\">yes, missing</text>\n",
       "</g>\n",
       "<!-- 2 -->\n",
       "<g id=\"node3\" class=\"node\">\n",
       "<title>2</title>\n",
       "<ellipse fill=\"none\" stroke=\"black\" cx=\"810.39\" cy=\"-192\" rx=\"105.08\" ry=\"18\"/>\n",
       "<text text-anchor=\"middle\" x=\"810.39\" y=\"-188.3\" font-family=\"Times New Roman,serif\" font-size=\"14.00\">worst texture&lt;23.7399998</text>\n",
       "</g>\n",
       "<!-- 0&#45;&gt;2 -->\n",
       "<g id=\"edge2\" class=\"edge\">\n",
       "<title>0&#45;&gt;2</title>\n",
       "<path fill=\"none\" stroke=\"#ff0000\" d=\"M686.82,-261.21C711.2,-247.75 745.57,-228.78 771.88,-214.26\"/>\n",
       "<polygon fill=\"#ff0000\" stroke=\"#ff0000\" points=\"773.75,-217.22 780.82,-209.33 770.37,-211.09 773.75,-217.22\"/>\n",
       "<text text-anchor=\"middle\" x=\"750.89\" y=\"-231.8\" font-family=\"Times New Roman,serif\" font-size=\"14.00\">no</text>\n",
       "</g>\n",
       "<!-- 3 -->\n",
       "<g id=\"node4\" class=\"node\">\n",
       "<title>3</title>\n",
       "<ellipse fill=\"none\" stroke=\"black\" cx=\"248.39\" cy=\"-105\" rx=\"140.28\" ry=\"18\"/>\n",
       "<text text-anchor=\"middle\" x=\"248.39\" y=\"-101.3\" font-family=\"Times New Roman,serif\" font-size=\"14.00\">worst concave points&lt;0.135049999</text>\n",
       "</g>\n",
       "<!-- 1&#45;&gt;3 -->\n",
       "<g id=\"edge3\" class=\"edge\">\n",
       "<title>1&#45;&gt;3</title>\n",
       "<path fill=\"none\" stroke=\"#0000ff\" d=\"M494.18,-176.58C444.18,-162.22 367.23,-140.13 312.77,-124.49\"/>\n",
       "<polygon fill=\"#0000ff\" stroke=\"#0000ff\" points=\"313.45,-121.04 302.87,-121.64 311.52,-127.77 313.45,-121.04\"/>\n",
       "<text text-anchor=\"middle\" x=\"448.89\" y=\"-144.8\" font-family=\"Times New Roman,serif\" font-size=\"14.00\">yes, missing</text>\n",
       "</g>\n",
       "<!-- 4 -->\n",
       "<g id=\"node5\" class=\"node\">\n",
       "<title>4</title>\n",
       "<ellipse fill=\"none\" stroke=\"black\" cx=\"544.39\" cy=\"-105\" rx=\"103.98\" ry=\"18\"/>\n",
       "<text text-anchor=\"middle\" x=\"544.39\" y=\"-101.3\" font-family=\"Times New Roman,serif\" font-size=\"14.00\">mean texture&lt;18.4950008</text>\n",
       "</g>\n",
       "<!-- 1&#45;&gt;4 -->\n",
       "<g id=\"edge4\" class=\"edge\">\n",
       "<title>1&#45;&gt;4</title>\n",
       "<path fill=\"none\" stroke=\"#ff0000\" d=\"M544.39,-173.8C544.39,-162.16 544.39,-146.55 544.39,-133.24\"/>\n",
       "<polygon fill=\"#ff0000\" stroke=\"#ff0000\" points=\"547.89,-133.18 544.39,-123.18 540.89,-133.18 547.89,-133.18\"/>\n",
       "<text text-anchor=\"middle\" x=\"551.89\" y=\"-144.8\" font-family=\"Times New Roman,serif\" font-size=\"14.00\">no</text>\n",
       "</g>\n",
       "<!-- 5 -->\n",
       "<g id=\"node10\" class=\"node\">\n",
       "<title>5</title>\n",
       "<ellipse fill=\"none\" stroke=\"black\" cx=\"810.39\" cy=\"-105\" rx=\"102.88\" ry=\"18\"/>\n",
       "<text text-anchor=\"middle\" x=\"810.39\" y=\"-101.3\" font-family=\"Times New Roman,serif\" font-size=\"14.00\">worst radius&lt;17.5400009</text>\n",
       "</g>\n",
       "<!-- 2&#45;&gt;5 -->\n",
       "<g id=\"edge9\" class=\"edge\">\n",
       "<title>2&#45;&gt;5</title>\n",
       "<path fill=\"none\" stroke=\"#0000ff\" d=\"M810.39,-173.8C810.39,-162.16 810.39,-146.55 810.39,-133.24\"/>\n",
       "<polygon fill=\"#0000ff\" stroke=\"#0000ff\" points=\"813.89,-133.18 810.39,-123.18 806.89,-133.18 813.89,-133.18\"/>\n",
       "<text text-anchor=\"middle\" x=\"844.89\" y=\"-144.8\" font-family=\"Times New Roman,serif\" font-size=\"14.00\">yes, missing</text>\n",
       "</g>\n",
       "<!-- 6 -->\n",
       "<g id=\"node11\" class=\"node\">\n",
       "<title>6</title>\n",
       "<ellipse fill=\"none\" stroke=\"black\" cx=\"1086.39\" cy=\"-105\" rx=\"113.18\" ry=\"18\"/>\n",
       "<text text-anchor=\"middle\" x=\"1086.39\" y=\"-101.3\" font-family=\"Times New Roman,serif\" font-size=\"14.00\">mean perimeter&lt;83.2700043</text>\n",
       "</g>\n",
       "<!-- 2&#45;&gt;6 -->\n",
       "<g id=\"edge10\" class=\"edge\">\n",
       "<title>2&#45;&gt;6</title>\n",
       "<path fill=\"none\" stroke=\"#ff0000\" d=\"M859.1,-176C905.96,-161.57 976.9,-139.72 1027.04,-124.28\"/>\n",
       "<polygon fill=\"#ff0000\" stroke=\"#ff0000\" points=\"1028.25,-127.57 1036.78,-121.28 1026.19,-120.88 1028.25,-127.57\"/>\n",
       "<text text-anchor=\"middle\" x=\"972.89\" y=\"-144.8\" font-family=\"Times New Roman,serif\" font-size=\"14.00\">no</text>\n",
       "</g>\n",
       "<!-- 7 -->\n",
       "<g id=\"node6\" class=\"node\">\n",
       "<title>7</title>\n",
       "<ellipse fill=\"none\" stroke=\"black\" cx=\"75.39\" cy=\"-18\" rx=\"75.29\" ry=\"18\"/>\n",
       "<text text-anchor=\"middle\" x=\"75.39\" y=\"-14.3\" font-family=\"Times New Roman,serif\" font-size=\"14.00\">leaf=0.094957985</text>\n",
       "</g>\n",
       "<!-- 3&#45;&gt;7 -->\n",
       "<g id=\"edge5\" class=\"edge\">\n",
       "<title>3&#45;&gt;7</title>\n",
       "<path fill=\"none\" stroke=\"#0000ff\" d=\"M213.43,-87.38C201.36,-81.61 187.76,-75.06 175.39,-69 155.65,-59.33 133.8,-48.43 115.58,-39.28\"/>\n",
       "<polygon fill=\"#0000ff\" stroke=\"#0000ff\" points=\"116.91,-36.04 106.41,-34.67 113.77,-42.29 116.91,-36.04\"/>\n",
       "<text text-anchor=\"middle\" x=\"209.89\" y=\"-57.8\" font-family=\"Times New Roman,serif\" font-size=\"14.00\">yes, missing</text>\n",
       "</g>\n",
       "<!-- 8 -->\n",
       "<g id=\"node7\" class=\"node\">\n",
       "<title>8</title>\n",
       "<ellipse fill=\"none\" stroke=\"black\" cx=\"248.39\" cy=\"-18\" rx=\"79.09\" ry=\"18\"/>\n",
       "<text text-anchor=\"middle\" x=\"248.39\" y=\"-14.3\" font-family=\"Times New Roman,serif\" font-size=\"14.00\">leaf=0.0263157915</text>\n",
       "</g>\n",
       "<!-- 3&#45;&gt;8 -->\n",
       "<g id=\"edge6\" class=\"edge\">\n",
       "<title>3&#45;&gt;8</title>\n",
       "<path fill=\"none\" stroke=\"#ff0000\" d=\"M248.39,-86.8C248.39,-75.16 248.39,-59.55 248.39,-46.24\"/>\n",
       "<polygon fill=\"#ff0000\" stroke=\"#ff0000\" points=\"251.89,-46.18 248.39,-36.18 244.89,-46.18 251.89,-46.18\"/>\n",
       "<text text-anchor=\"middle\" x=\"255.89\" y=\"-57.8\" font-family=\"Times New Roman,serif\" font-size=\"14.00\">no</text>\n",
       "</g>\n",
       "<!-- 9 -->\n",
       "<g id=\"node8\" class=\"node\">\n",
       "<title>9</title>\n",
       "<ellipse fill=\"none\" stroke=\"black\" cx=\"425.39\" cy=\"-18\" rx=\"79.09\" ry=\"18\"/>\n",
       "<text text-anchor=\"middle\" x=\"425.39\" y=\"-14.3\" font-family=\"Times New Roman,serif\" font-size=\"14.00\">leaf=0.0600000024</text>\n",
       "</g>\n",
       "<!-- 4&#45;&gt;9 -->\n",
       "<g id=\"edge7\" class=\"edge\">\n",
       "<title>4&#45;&gt;9</title>\n",
       "<path fill=\"none\" stroke=\"#0000ff\" d=\"M515.55,-87.71C506.08,-82.06 495.62,-75.51 486.39,-69 474.83,-60.84 462.66,-51.11 452.26,-42.42\"/>\n",
       "<polygon fill=\"#0000ff\" stroke=\"#0000ff\" points=\"454.23,-39.51 444.34,-35.72 449.71,-44.85 454.23,-39.51\"/>\n",
       "<text text-anchor=\"middle\" x=\"520.89\" y=\"-57.8\" font-family=\"Times New Roman,serif\" font-size=\"14.00\">yes, missing</text>\n",
       "</g>\n",
       "<!-- 10 -->\n",
       "<g id=\"node9\" class=\"node\">\n",
       "<title>10</title>\n",
       "<ellipse fill=\"none\" stroke=\"black\" cx=\"578.39\" cy=\"-18\" rx=\"55.79\" ry=\"18\"/>\n",
       "<text text-anchor=\"middle\" x=\"578.39\" y=\"-14.3\" font-family=\"Times New Roman,serif\" font-size=\"14.00\">leaf=&#45;0.0625</text>\n",
       "</g>\n",
       "<!-- 4&#45;&gt;10 -->\n",
       "<g id=\"edge8\" class=\"edge\">\n",
       "<title>4&#45;&gt;10</title>\n",
       "<path fill=\"none\" stroke=\"#ff0000\" d=\"M551.27,-86.8C556.05,-74.85 562.51,-58.72 567.92,-45.18\"/>\n",
       "<polygon fill=\"#ff0000\" stroke=\"#ff0000\" points=\"571.17,-46.47 571.64,-35.89 564.68,-43.87 571.17,-46.47\"/>\n",
       "<text text-anchor=\"middle\" x=\"571.89\" y=\"-57.8\" font-family=\"Times New Roman,serif\" font-size=\"14.00\">no</text>\n",
       "</g>\n",
       "<!-- 11 -->\n",
       "<g id=\"node12\" class=\"node\">\n",
       "<title>11</title>\n",
       "<ellipse fill=\"none\" stroke=\"black\" cx=\"727.39\" cy=\"-18\" rx=\"75.29\" ry=\"18\"/>\n",
       "<text text-anchor=\"middle\" x=\"727.39\" y=\"-14.3\" font-family=\"Times New Roman,serif\" font-size=\"14.00\">leaf=0.075000003</text>\n",
       "</g>\n",
       "<!-- 5&#45;&gt;11 -->\n",
       "<g id=\"edge11\" class=\"edge\">\n",
       "<title>5&#45;&gt;11</title>\n",
       "<path fill=\"none\" stroke=\"#0000ff\" d=\"M794,-87.21C781.72,-74.63 764.75,-57.25 751.01,-43.18\"/>\n",
       "<polygon fill=\"#0000ff\" stroke=\"#0000ff\" points=\"753.25,-40.47 743.76,-35.76 748.24,-45.36 753.25,-40.47\"/>\n",
       "<text text-anchor=\"middle\" x=\"808.89\" y=\"-57.8\" font-family=\"Times New Roman,serif\" font-size=\"14.00\">yes, missing</text>\n",
       "</g>\n",
       "<!-- 12 -->\n",
       "<g id=\"node13\" class=\"node\">\n",
       "<title>12</title>\n",
       "<ellipse fill=\"none\" stroke=\"black\" cx=\"903.39\" cy=\"-18\" rx=\"82.59\" ry=\"18\"/>\n",
       "<text text-anchor=\"middle\" x=\"903.39\" y=\"-14.3\" font-family=\"Times New Roman,serif\" font-size=\"14.00\">leaf=&#45;0.0692307726</text>\n",
       "</g>\n",
       "<!-- 5&#45;&gt;12 -->\n",
       "<g id=\"edge12\" class=\"edge\">\n",
       "<title>5&#45;&gt;12</title>\n",
       "<path fill=\"none\" stroke=\"#ff0000\" d=\"M828.77,-87.21C842.65,-74.52 861.89,-56.93 877.36,-42.79\"/>\n",
       "<polygon fill=\"#ff0000\" stroke=\"#ff0000\" points=\"880.04,-45.09 885.06,-35.76 875.31,-39.92 880.04,-45.09\"/>\n",
       "<text text-anchor=\"middle\" x=\"870.89\" y=\"-57.8\" font-family=\"Times New Roman,serif\" font-size=\"14.00\">no</text>\n",
       "</g>\n",
       "<!-- 13 -->\n",
       "<g id=\"node14\" class=\"node\">\n",
       "<title>13</title>\n",
       "<ellipse fill=\"none\" stroke=\"black\" cx=\"1086.39\" cy=\"-18\" rx=\"82.59\" ry=\"18\"/>\n",
       "<text text-anchor=\"middle\" x=\"1086.39\" y=\"-14.3\" font-family=\"Times New Roman,serif\" font-size=\"14.00\">leaf=&#45;0.0250000004</text>\n",
       "</g>\n",
       "<!-- 6&#45;&gt;13 -->\n",
       "<g id=\"edge13\" class=\"edge\">\n",
       "<title>6&#45;&gt;13</title>\n",
       "<path fill=\"none\" stroke=\"#0000ff\" d=\"M1086.39,-86.8C1086.39,-75.16 1086.39,-59.55 1086.39,-46.24\"/>\n",
       "<polygon fill=\"#0000ff\" stroke=\"#0000ff\" points=\"1089.89,-46.18 1086.39,-36.18 1082.89,-46.18 1089.89,-46.18\"/>\n",
       "<text text-anchor=\"middle\" x=\"1120.89\" y=\"-57.8\" font-family=\"Times New Roman,serif\" font-size=\"14.00\">yes, missing</text>\n",
       "</g>\n",
       "<!-- 14 -->\n",
       "<g id=\"node15\" class=\"node\">\n",
       "<title>14</title>\n",
       "<ellipse fill=\"none\" stroke=\"black\" cx=\"1269.39\" cy=\"-18\" rx=\"82.59\" ry=\"18\"/>\n",
       "<text text-anchor=\"middle\" x=\"1269.39\" y=\"-14.3\" font-family=\"Times New Roman,serif\" font-size=\"14.00\">leaf=&#45;0.0966942161</text>\n",
       "</g>\n",
       "<!-- 6&#45;&gt;14 -->\n",
       "<g id=\"edge14\" class=\"edge\">\n",
       "<title>6&#45;&gt;14</title>\n",
       "<path fill=\"none\" stroke=\"#ff0000\" d=\"M1121.24,-87.81C1151.26,-73.87 1194.68,-53.7 1226.76,-38.8\"/>\n",
       "<polygon fill=\"#ff0000\" stroke=\"#ff0000\" points=\"1228.31,-41.94 1235.91,-34.55 1225.36,-35.59 1228.31,-41.94\"/>\n",
       "<text text-anchor=\"middle\" x=\"1195.89\" y=\"-57.8\" font-family=\"Times New Roman,serif\" font-size=\"14.00\">no</text>\n",
       "</g>\n",
       "</g>\n",
       "</svg>\n"
      ],
      "text/plain": [
       "<graphviz.sources.Source at 0x1fa94508b20>"
      ]
     },
     "execution_count": 73,
     "metadata": {},
     "output_type": "execute_result"
    }
   ],
   "source": [
    "from xgboost import to_graphviz\n",
    "import graphviz\n",
    "\n",
    "to_graphviz(xgb_model)"
   ]
  },
  {
   "cell_type": "markdown",
   "id": "47c44a99",
   "metadata": {},
   "source": [
    "#### XGB 교차검증"
   ]
  },
  {
   "cell_type": "code",
   "execution_count": 75,
   "id": "38b3456f",
   "metadata": {},
   "outputs": [
    {
     "data": {
      "text/html": [
       "<div>\n",
       "<style scoped>\n",
       "    .dataframe tbody tr th:only-of-type {\n",
       "        vertical-align: middle;\n",
       "    }\n",
       "\n",
       "    .dataframe tbody tr th {\n",
       "        vertical-align: top;\n",
       "    }\n",
       "\n",
       "    .dataframe thead th {\n",
       "        text-align: right;\n",
       "    }\n",
       "</style>\n",
       "<table border=\"1\" class=\"dataframe\">\n",
       "  <thead>\n",
       "    <tr style=\"text-align: right;\">\n",
       "      <th></th>\n",
       "      <th>train-logloss-mean</th>\n",
       "      <th>train-logloss-std</th>\n",
       "      <th>test-logloss-mean</th>\n",
       "      <th>test-logloss-std</th>\n",
       "    </tr>\n",
       "  </thead>\n",
       "  <tbody>\n",
       "    <tr>\n",
       "      <th>0</th>\n",
       "      <td>0.651173</td>\n",
       "      <td>0.000365</td>\n",
       "      <td>0.655384</td>\n",
       "      <td>0.001417</td>\n",
       "    </tr>\n",
       "    <tr>\n",
       "      <th>1</th>\n",
       "      <td>0.613050</td>\n",
       "      <td>0.000580</td>\n",
       "      <td>0.620986</td>\n",
       "      <td>0.002287</td>\n",
       "    </tr>\n",
       "    <tr>\n",
       "      <th>2</th>\n",
       "      <td>0.578188</td>\n",
       "      <td>0.000771</td>\n",
       "      <td>0.589308</td>\n",
       "      <td>0.003355</td>\n",
       "    </tr>\n",
       "    <tr>\n",
       "      <th>3</th>\n",
       "      <td>0.546701</td>\n",
       "      <td>0.001172</td>\n",
       "      <td>0.561303</td>\n",
       "      <td>0.004127</td>\n",
       "    </tr>\n",
       "    <tr>\n",
       "      <th>4</th>\n",
       "      <td>0.517178</td>\n",
       "      <td>0.001078</td>\n",
       "      <td>0.534655</td>\n",
       "      <td>0.005264</td>\n",
       "    </tr>\n",
       "    <tr>\n",
       "      <th>5</th>\n",
       "      <td>0.490198</td>\n",
       "      <td>0.001487</td>\n",
       "      <td>0.510885</td>\n",
       "      <td>0.005679</td>\n",
       "    </tr>\n",
       "    <tr>\n",
       "      <th>6</th>\n",
       "      <td>0.465314</td>\n",
       "      <td>0.001994</td>\n",
       "      <td>0.488229</td>\n",
       "      <td>0.006631</td>\n",
       "    </tr>\n",
       "    <tr>\n",
       "      <th>7</th>\n",
       "      <td>0.441641</td>\n",
       "      <td>0.001871</td>\n",
       "      <td>0.467392</td>\n",
       "      <td>0.007538</td>\n",
       "    </tr>\n",
       "    <tr>\n",
       "      <th>8</th>\n",
       "      <td>0.419874</td>\n",
       "      <td>0.001867</td>\n",
       "      <td>0.448267</td>\n",
       "      <td>0.008633</td>\n",
       "    </tr>\n",
       "    <tr>\n",
       "      <th>9</th>\n",
       "      <td>0.399722</td>\n",
       "      <td>0.002315</td>\n",
       "      <td>0.430595</td>\n",
       "      <td>0.009566</td>\n",
       "    </tr>\n",
       "  </tbody>\n",
       "</table>\n",
       "</div>"
      ],
      "text/plain": [
       "   train-logloss-mean  train-logloss-std  test-logloss-mean  test-logloss-std\n",
       "0            0.651173           0.000365           0.655384          0.001417\n",
       "1            0.613050           0.000580           0.620986          0.002287\n",
       "2            0.578188           0.000771           0.589308          0.003355\n",
       "3            0.546701           0.001172           0.561303          0.004127\n",
       "4            0.517178           0.001078           0.534655          0.005264\n",
       "5            0.490198           0.001487           0.510885          0.005679\n",
       "6            0.465314           0.001994           0.488229          0.006631\n",
       "7            0.441641           0.001871           0.467392          0.007538\n",
       "8            0.419874           0.001867           0.448267          0.008633\n",
       "9            0.399722           0.002315           0.430595          0.009566"
      ]
     },
     "execution_count": 75,
     "metadata": {},
     "output_type": "execute_result"
    }
   ],
   "source": [
    "xgb.cv(params=params, dtrain=dtr, num_boost_round=10, nfold=3,\n",
    "      metrics='logloss')"
   ]
  },
  {
   "cell_type": "markdown",
   "id": "014b3c8b",
   "metadata": {},
   "source": [
    "### 예측_위스콘신 유방암"
   ]
  },
  {
   "cell_type": "code",
   "execution_count": 77,
   "id": "58e61265",
   "metadata": {},
   "outputs": [
    {
     "data": {
      "text/html": [
       "<div>\n",
       "<style scoped>\n",
       "    .dataframe tbody tr th:only-of-type {\n",
       "        vertical-align: middle;\n",
       "    }\n",
       "\n",
       "    .dataframe tbody tr th {\n",
       "        vertical-align: top;\n",
       "    }\n",
       "\n",
       "    .dataframe thead th {\n",
       "        text-align: right;\n",
       "    }\n",
       "</style>\n",
       "<table border=\"1\" class=\"dataframe\">\n",
       "  <thead>\n",
       "    <tr style=\"text-align: right;\">\n",
       "      <th></th>\n",
       "      <th>mean radius</th>\n",
       "      <th>mean texture</th>\n",
       "      <th>mean perimeter</th>\n",
       "      <th>mean area</th>\n",
       "      <th>mean smoothness</th>\n",
       "      <th>mean compactness</th>\n",
       "      <th>mean concavity</th>\n",
       "      <th>mean concave points</th>\n",
       "      <th>mean symmetry</th>\n",
       "      <th>mean fractal dimension</th>\n",
       "      <th>...</th>\n",
       "      <th>worst texture</th>\n",
       "      <th>worst perimeter</th>\n",
       "      <th>worst area</th>\n",
       "      <th>worst smoothness</th>\n",
       "      <th>worst compactness</th>\n",
       "      <th>worst concavity</th>\n",
       "      <th>worst concave points</th>\n",
       "      <th>worst symmetry</th>\n",
       "      <th>worst fractal dimension</th>\n",
       "      <th>target</th>\n",
       "    </tr>\n",
       "  </thead>\n",
       "  <tbody>\n",
       "    <tr>\n",
       "      <th>0</th>\n",
       "      <td>17.99</td>\n",
       "      <td>10.38</td>\n",
       "      <td>122.80</td>\n",
       "      <td>1001.0</td>\n",
       "      <td>0.11840</td>\n",
       "      <td>0.27760</td>\n",
       "      <td>0.3001</td>\n",
       "      <td>0.14710</td>\n",
       "      <td>0.2419</td>\n",
       "      <td>0.07871</td>\n",
       "      <td>...</td>\n",
       "      <td>17.33</td>\n",
       "      <td>184.60</td>\n",
       "      <td>2019.0</td>\n",
       "      <td>0.1622</td>\n",
       "      <td>0.6656</td>\n",
       "      <td>0.7119</td>\n",
       "      <td>0.2654</td>\n",
       "      <td>0.4601</td>\n",
       "      <td>0.11890</td>\n",
       "      <td>0</td>\n",
       "    </tr>\n",
       "    <tr>\n",
       "      <th>1</th>\n",
       "      <td>20.57</td>\n",
       "      <td>17.77</td>\n",
       "      <td>132.90</td>\n",
       "      <td>1326.0</td>\n",
       "      <td>0.08474</td>\n",
       "      <td>0.07864</td>\n",
       "      <td>0.0869</td>\n",
       "      <td>0.07017</td>\n",
       "      <td>0.1812</td>\n",
       "      <td>0.05667</td>\n",
       "      <td>...</td>\n",
       "      <td>23.41</td>\n",
       "      <td>158.80</td>\n",
       "      <td>1956.0</td>\n",
       "      <td>0.1238</td>\n",
       "      <td>0.1866</td>\n",
       "      <td>0.2416</td>\n",
       "      <td>0.1860</td>\n",
       "      <td>0.2750</td>\n",
       "      <td>0.08902</td>\n",
       "      <td>0</td>\n",
       "    </tr>\n",
       "    <tr>\n",
       "      <th>2</th>\n",
       "      <td>19.69</td>\n",
       "      <td>21.25</td>\n",
       "      <td>130.00</td>\n",
       "      <td>1203.0</td>\n",
       "      <td>0.10960</td>\n",
       "      <td>0.15990</td>\n",
       "      <td>0.1974</td>\n",
       "      <td>0.12790</td>\n",
       "      <td>0.2069</td>\n",
       "      <td>0.05999</td>\n",
       "      <td>...</td>\n",
       "      <td>25.53</td>\n",
       "      <td>152.50</td>\n",
       "      <td>1709.0</td>\n",
       "      <td>0.1444</td>\n",
       "      <td>0.4245</td>\n",
       "      <td>0.4504</td>\n",
       "      <td>0.2430</td>\n",
       "      <td>0.3613</td>\n",
       "      <td>0.08758</td>\n",
       "      <td>0</td>\n",
       "    </tr>\n",
       "    <tr>\n",
       "      <th>3</th>\n",
       "      <td>11.42</td>\n",
       "      <td>20.38</td>\n",
       "      <td>77.58</td>\n",
       "      <td>386.1</td>\n",
       "      <td>0.14250</td>\n",
       "      <td>0.28390</td>\n",
       "      <td>0.2414</td>\n",
       "      <td>0.10520</td>\n",
       "      <td>0.2597</td>\n",
       "      <td>0.09744</td>\n",
       "      <td>...</td>\n",
       "      <td>26.50</td>\n",
       "      <td>98.87</td>\n",
       "      <td>567.7</td>\n",
       "      <td>0.2098</td>\n",
       "      <td>0.8663</td>\n",
       "      <td>0.6869</td>\n",
       "      <td>0.2575</td>\n",
       "      <td>0.6638</td>\n",
       "      <td>0.17300</td>\n",
       "      <td>0</td>\n",
       "    </tr>\n",
       "    <tr>\n",
       "      <th>4</th>\n",
       "      <td>20.29</td>\n",
       "      <td>14.34</td>\n",
       "      <td>135.10</td>\n",
       "      <td>1297.0</td>\n",
       "      <td>0.10030</td>\n",
       "      <td>0.13280</td>\n",
       "      <td>0.1980</td>\n",
       "      <td>0.10430</td>\n",
       "      <td>0.1809</td>\n",
       "      <td>0.05883</td>\n",
       "      <td>...</td>\n",
       "      <td>16.67</td>\n",
       "      <td>152.20</td>\n",
       "      <td>1575.0</td>\n",
       "      <td>0.1374</td>\n",
       "      <td>0.2050</td>\n",
       "      <td>0.4000</td>\n",
       "      <td>0.1625</td>\n",
       "      <td>0.2364</td>\n",
       "      <td>0.07678</td>\n",
       "      <td>0</td>\n",
       "    </tr>\n",
       "  </tbody>\n",
       "</table>\n",
       "<p>5 rows × 31 columns</p>\n",
       "</div>"
      ],
      "text/plain": [
       "   mean radius  mean texture  mean perimeter  mean area  mean smoothness  \\\n",
       "0        17.99         10.38          122.80     1001.0          0.11840   \n",
       "1        20.57         17.77          132.90     1326.0          0.08474   \n",
       "2        19.69         21.25          130.00     1203.0          0.10960   \n",
       "3        11.42         20.38           77.58      386.1          0.14250   \n",
       "4        20.29         14.34          135.10     1297.0          0.10030   \n",
       "\n",
       "   mean compactness  mean concavity  mean concave points  mean symmetry  \\\n",
       "0           0.27760          0.3001              0.14710         0.2419   \n",
       "1           0.07864          0.0869              0.07017         0.1812   \n",
       "2           0.15990          0.1974              0.12790         0.2069   \n",
       "3           0.28390          0.2414              0.10520         0.2597   \n",
       "4           0.13280          0.1980              0.10430         0.1809   \n",
       "\n",
       "   mean fractal dimension  ...  worst texture  worst perimeter  worst area  \\\n",
       "0                 0.07871  ...          17.33           184.60      2019.0   \n",
       "1                 0.05667  ...          23.41           158.80      1956.0   \n",
       "2                 0.05999  ...          25.53           152.50      1709.0   \n",
       "3                 0.09744  ...          26.50            98.87       567.7   \n",
       "4                 0.05883  ...          16.67           152.20      1575.0   \n",
       "\n",
       "   worst smoothness  worst compactness  worst concavity  worst concave points  \\\n",
       "0            0.1622             0.6656           0.7119                0.2654   \n",
       "1            0.1238             0.1866           0.2416                0.1860   \n",
       "2            0.1444             0.4245           0.4504                0.2430   \n",
       "3            0.2098             0.8663           0.6869                0.2575   \n",
       "4            0.1374             0.2050           0.4000                0.1625   \n",
       "\n",
       "   worst symmetry  worst fractal dimension  target  \n",
       "0          0.4601                  0.11890       0  \n",
       "1          0.2750                  0.08902       0  \n",
       "2          0.3613                  0.08758       0  \n",
       "3          0.6638                  0.17300       0  \n",
       "4          0.2364                  0.07678       0  \n",
       "\n",
       "[5 rows x 31 columns]"
      ]
     },
     "execution_count": 77,
     "metadata": {},
     "output_type": "execute_result"
    }
   ],
   "source": [
    "dataset = load_breast_cancer()\n",
    "X_features = dataset.data\n",
    "y_label = dataset.target\n",
    "\n",
    "df = pd.DataFrame(data=X_features, columns= dataset.feature_names)\n",
    "df['target']= y_label\n",
    "df.head()"
   ]
  },
  {
   "cell_type": "markdown",
   "id": "2b72f696",
   "metadata": {},
   "source": [
    "#### XGB 학습/예측/평가"
   ]
  },
  {
   "cell_type": "code",
   "execution_count": 79,
   "id": "0d7ef177",
   "metadata": {},
   "outputs": [
    {
     "name": "stdout",
     "output_type": "stream",
     "text": [
      "오차행렬 : [[35  2]\n",
      " [ 1 76]]\n",
      "정확도: 0.9737, 정밀도: 0.9744, 재현율: 0.9870, F1: 0.9806, AUC: 0.9951\n"
     ]
    }
   ],
   "source": [
    "from xgboost import XGBClassifier\n",
    "\n",
    "# 파이썬 래퍼와 동일한 하이퍼 파라미터 수치\n",
    "xgb_wrapper = XGBClassifier(n_estimators=400, learning_rate=0.1, max_depth=3)\n",
    "xgb_wrapper.fit(X_train, y_train)\n",
    "\n",
    "w_preds = xgb_wrapper.predict(X_test)\n",
    "w_pred_probs=xgb_wrapper.predict_proba(X_test)[:,1]\n",
    "\n",
    "get_clf_eval(y_test, pred=w_preds, pred_proba_po = w_pred_probs)"
   ]
  },
  {
   "cell_type": "markdown",
   "id": "ed1d5303",
   "metadata": {},
   "source": [
    "#### XGB 조기 중단"
   ]
  },
  {
   "cell_type": "code",
   "execution_count": 82,
   "id": "db31334b",
   "metadata": {},
   "outputs": [
    {
     "name": "stdout",
     "output_type": "stream",
     "text": [
      "[0]\tvalidation_0-logloss:0.61352\n",
      "[1]\tvalidation_0-logloss:0.54784\n",
      "[2]\tvalidation_0-logloss:0.49425\n",
      "[3]\tvalidation_0-logloss:0.44799\n",
      "[4]\tvalidation_0-logloss:0.40911\n",
      "[5]\tvalidation_0-logloss:0.37498\n",
      "[6]\tvalidation_0-logloss:0.34571\n",
      "[7]\tvalidation_0-logloss:0.32053\n",
      "[8]\tvalidation_0-logloss:0.29721\n",
      "[9]\tvalidation_0-logloss:0.27799\n",
      "[10]\tvalidation_0-logloss:0.26030\n",
      "[11]\tvalidation_0-logloss:0.24604\n",
      "[12]\tvalidation_0-logloss:0.23156\n",
      "[13]\tvalidation_0-logloss:0.22005\n",
      "[14]\tvalidation_0-logloss:0.20857\n",
      "[15]\tvalidation_0-logloss:0.19999\n",
      "[16]\tvalidation_0-logloss:0.19012\n",
      "[17]\tvalidation_0-logloss:0.18182\n",
      "[18]\tvalidation_0-logloss:0.17473\n",
      "[19]\tvalidation_0-logloss:0.16766\n",
      "[20]\tvalidation_0-logloss:0.15820\n",
      "[21]\tvalidation_0-logloss:0.15472\n",
      "[22]\tvalidation_0-logloss:0.14895\n",
      "[23]\tvalidation_0-logloss:0.14331\n",
      "[24]\tvalidation_0-logloss:0.13634\n",
      "[25]\tvalidation_0-logloss:0.13278\n",
      "[26]\tvalidation_0-logloss:0.12791\n",
      "[27]\tvalidation_0-logloss:0.12526\n",
      "[28]\tvalidation_0-logloss:0.11998\n",
      "[29]\tvalidation_0-logloss:0.11641\n",
      "[30]\tvalidation_0-logloss:0.11450\n",
      "[31]\tvalidation_0-logloss:0.11257\n",
      "[32]\tvalidation_0-logloss:0.11154\n",
      "[33]\tvalidation_0-logloss:0.10868\n",
      "[34]\tvalidation_0-logloss:0.10668\n",
      "[35]\tvalidation_0-logloss:0.10421\n",
      "[36]\tvalidation_0-logloss:0.10296\n",
      "[37]\tvalidation_0-logloss:0.10058\n",
      "[38]\tvalidation_0-logloss:0.09868\n",
      "[39]\tvalidation_0-logloss:0.09644\n",
      "[40]\tvalidation_0-logloss:0.09587\n",
      "[41]\tvalidation_0-logloss:0.09424\n",
      "[42]\tvalidation_0-logloss:0.09471\n",
      "[43]\tvalidation_0-logloss:0.09427\n",
      "[44]\tvalidation_0-logloss:0.09389\n",
      "[45]\tvalidation_0-logloss:0.09418\n",
      "[46]\tvalidation_0-logloss:0.09402\n",
      "[47]\tvalidation_0-logloss:0.09236\n",
      "[48]\tvalidation_0-logloss:0.09301\n",
      "[49]\tvalidation_0-logloss:0.09127\n",
      "[50]\tvalidation_0-logloss:0.09005\n",
      "[51]\tvalidation_0-logloss:0.08961\n",
      "[52]\tvalidation_0-logloss:0.08958\n",
      "[53]\tvalidation_0-logloss:0.09070\n",
      "[54]\tvalidation_0-logloss:0.08958\n",
      "[55]\tvalidation_0-logloss:0.09036\n",
      "[56]\tvalidation_0-logloss:0.09159\n",
      "[57]\tvalidation_0-logloss:0.09153\n",
      "[58]\tvalidation_0-logloss:0.09199\n",
      "[59]\tvalidation_0-logloss:0.09195\n",
      "[60]\tvalidation_0-logloss:0.09194\n",
      "[61]\tvalidation_0-logloss:0.09146\n",
      "[62]\tvalidation_0-logloss:0.09031\n",
      "[63]\tvalidation_0-logloss:0.08941\n",
      "[64]\tvalidation_0-logloss:0.08972\n",
      "[65]\tvalidation_0-logloss:0.08974\n",
      "[66]\tvalidation_0-logloss:0.08962\n",
      "[67]\tvalidation_0-logloss:0.08873\n",
      "[68]\tvalidation_0-logloss:0.08862\n",
      "[69]\tvalidation_0-logloss:0.08974\n",
      "[70]\tvalidation_0-logloss:0.08998\n",
      "[71]\tvalidation_0-logloss:0.08978\n",
      "[72]\tvalidation_0-logloss:0.08958\n",
      "[73]\tvalidation_0-logloss:0.08953\n",
      "[74]\tvalidation_0-logloss:0.08875\n",
      "[75]\tvalidation_0-logloss:0.08860\n",
      "[76]\tvalidation_0-logloss:0.08812\n",
      "[77]\tvalidation_0-logloss:0.08840\n",
      "[78]\tvalidation_0-logloss:0.08874\n",
      "[79]\tvalidation_0-logloss:0.08815\n",
      "[80]\tvalidation_0-logloss:0.08758\n",
      "[81]\tvalidation_0-logloss:0.08741\n",
      "[82]\tvalidation_0-logloss:0.08849\n",
      "[83]\tvalidation_0-logloss:0.08857\n",
      "[84]\tvalidation_0-logloss:0.08807\n",
      "[85]\tvalidation_0-logloss:0.08764\n",
      "[86]\tvalidation_0-logloss:0.08742\n",
      "[87]\tvalidation_0-logloss:0.08761\n",
      "[88]\tvalidation_0-logloss:0.08707\n",
      "[89]\tvalidation_0-logloss:0.08727\n",
      "[90]\tvalidation_0-logloss:0.08716\n",
      "[91]\tvalidation_0-logloss:0.08696\n",
      "[92]\tvalidation_0-logloss:0.08717\n",
      "[93]\tvalidation_0-logloss:0.08707\n",
      "[94]\tvalidation_0-logloss:0.08659\n",
      "[95]\tvalidation_0-logloss:0.08612\n",
      "[96]\tvalidation_0-logloss:0.08714\n",
      "[97]\tvalidation_0-logloss:0.08677\n",
      "[98]\tvalidation_0-logloss:0.08669\n",
      "[99]\tvalidation_0-logloss:0.08655\n",
      "[100]\tvalidation_0-logloss:0.08650\n",
      "[101]\tvalidation_0-logloss:0.08641\n",
      "[102]\tvalidation_0-logloss:0.08629\n",
      "[103]\tvalidation_0-logloss:0.08626\n",
      "[104]\tvalidation_0-logloss:0.08683\n",
      "[105]\tvalidation_0-logloss:0.08677\n",
      "[106]\tvalidation_0-logloss:0.08732\n",
      "[107]\tvalidation_0-logloss:0.08730\n",
      "[108]\tvalidation_0-logloss:0.08728\n",
      "[109]\tvalidation_0-logloss:0.08730\n",
      "[110]\tvalidation_0-logloss:0.08729\n",
      "[111]\tvalidation_0-logloss:0.08800\n",
      "[112]\tvalidation_0-logloss:0.08794\n",
      "[113]\tvalidation_0-logloss:0.08784\n",
      "[114]\tvalidation_0-logloss:0.08807\n",
      "[115]\tvalidation_0-logloss:0.08765\n",
      "[116]\tvalidation_0-logloss:0.08730\n",
      "[117]\tvalidation_0-logloss:0.08780\n",
      "[118]\tvalidation_0-logloss:0.08775\n",
      "[119]\tvalidation_0-logloss:0.08768\n",
      "[120]\tvalidation_0-logloss:0.08763\n",
      "[121]\tvalidation_0-logloss:0.08757\n",
      "[122]\tvalidation_0-logloss:0.08755\n",
      "[123]\tvalidation_0-logloss:0.08716\n",
      "[124]\tvalidation_0-logloss:0.08767\n",
      "[125]\tvalidation_0-logloss:0.08774\n",
      "[126]\tvalidation_0-logloss:0.08827\n",
      "[127]\tvalidation_0-logloss:0.08831\n",
      "[128]\tvalidation_0-logloss:0.08827\n",
      "[129]\tvalidation_0-logloss:0.08789\n",
      "[130]\tvalidation_0-logloss:0.08886\n",
      "[131]\tvalidation_0-logloss:0.08868\n",
      "[132]\tvalidation_0-logloss:0.08874\n",
      "[133]\tvalidation_0-logloss:0.08922\n",
      "[134]\tvalidation_0-logloss:0.08918\n",
      "[135]\tvalidation_0-logloss:0.08882\n",
      "[136]\tvalidation_0-logloss:0.08851\n",
      "[137]\tvalidation_0-logloss:0.08848\n",
      "[138]\tvalidation_0-logloss:0.08839\n",
      "[139]\tvalidation_0-logloss:0.08915\n",
      "[140]\tvalidation_0-logloss:0.08911\n",
      "[141]\tvalidation_0-logloss:0.08876\n",
      "[142]\tvalidation_0-logloss:0.08868\n",
      "[143]\tvalidation_0-logloss:0.08839\n",
      "[144]\tvalidation_0-logloss:0.08927\n",
      "[145]\tvalidation_0-logloss:0.08924\n",
      "[146]\tvalidation_0-logloss:0.08914\n",
      "[147]\tvalidation_0-logloss:0.08891\n",
      "[148]\tvalidation_0-logloss:0.08942\n",
      "[149]\tvalidation_0-logloss:0.08939\n",
      "[150]\tvalidation_0-logloss:0.08911\n",
      "[151]\tvalidation_0-logloss:0.08873\n",
      "[152]\tvalidation_0-logloss:0.08872\n",
      "[153]\tvalidation_0-logloss:0.08848\n",
      "[154]\tvalidation_0-logloss:0.08847\n",
      "[155]\tvalidation_0-logloss:0.08855\n",
      "[156]\tvalidation_0-logloss:0.08852\n",
      "[157]\tvalidation_0-logloss:0.08855\n",
      "[158]\tvalidation_0-logloss:0.08827\n",
      "[159]\tvalidation_0-logloss:0.08830\n",
      "[160]\tvalidation_0-logloss:0.08828\n",
      "[161]\tvalidation_0-logloss:0.08801\n",
      "[162]\tvalidation_0-logloss:0.08776\n",
      "[163]\tvalidation_0-logloss:0.08778\n",
      "[164]\tvalidation_0-logloss:0.08778\n",
      "[165]\tvalidation_0-logloss:0.08752\n",
      "[166]\tvalidation_0-logloss:0.08754\n",
      "[167]\tvalidation_0-logloss:0.08764\n",
      "[168]\tvalidation_0-logloss:0.08739\n",
      "[169]\tvalidation_0-logloss:0.08738\n",
      "[170]\tvalidation_0-logloss:0.08730\n",
      "[171]\tvalidation_0-logloss:0.08737\n",
      "[172]\tvalidation_0-logloss:0.08740\n",
      "[173]\tvalidation_0-logloss:0.08739\n",
      "[174]\tvalidation_0-logloss:0.08713\n",
      "[175]\tvalidation_0-logloss:0.08716\n",
      "[176]\tvalidation_0-logloss:0.08695\n",
      "[177]\tvalidation_0-logloss:0.08705\n",
      "[178]\tvalidation_0-logloss:0.08697\n",
      "[179]\tvalidation_0-logloss:0.08697\n",
      "[180]\tvalidation_0-logloss:0.08704\n",
      "[181]\tvalidation_0-logloss:0.08680\n",
      "[182]\tvalidation_0-logloss:0.08683\n",
      "[183]\tvalidation_0-logloss:0.08658\n",
      "[184]\tvalidation_0-logloss:0.08659\n",
      "[185]\tvalidation_0-logloss:0.08661\n",
      "[186]\tvalidation_0-logloss:0.08637\n",
      "[187]\tvalidation_0-logloss:0.08637\n",
      "[188]\tvalidation_0-logloss:0.08630\n",
      "[189]\tvalidation_0-logloss:0.08610\n",
      "[190]\tvalidation_0-logloss:0.08602\n",
      "[191]\tvalidation_0-logloss:0.08605\n",
      "[192]\tvalidation_0-logloss:0.08615\n",
      "[193]\tvalidation_0-logloss:0.08592\n",
      "[194]\tvalidation_0-logloss:0.08591\n",
      "[195]\tvalidation_0-logloss:0.08598\n",
      "[196]\tvalidation_0-logloss:0.08601\n",
      "[197]\tvalidation_0-logloss:0.08592\n",
      "[198]\tvalidation_0-logloss:0.08585\n",
      "[199]\tvalidation_0-logloss:0.08587\n",
      "[200]\tvalidation_0-logloss:0.08589\n",
      "[201]\tvalidation_0-logloss:0.08595\n",
      "[202]\tvalidation_0-logloss:0.08573\n",
      "[203]\tvalidation_0-logloss:0.08573\n",
      "[204]\tvalidation_0-logloss:0.08575\n",
      "[205]\tvalidation_0-logloss:0.08582\n",
      "[206]\tvalidation_0-logloss:0.08584\n",
      "[207]\tvalidation_0-logloss:0.08578\n",
      "[208]\tvalidation_0-logloss:0.08569\n",
      "[209]\tvalidation_0-logloss:0.08571\n",
      "[210]\tvalidation_0-logloss:0.08581\n",
      "[211]\tvalidation_0-logloss:0.08559\n",
      "[212]\tvalidation_0-logloss:0.08580\n",
      "[213]\tvalidation_0-logloss:0.08581\n",
      "[214]\tvalidation_0-logloss:0.08574\n",
      "[215]\tvalidation_0-logloss:0.08566\n",
      "[216]\tvalidation_0-logloss:0.08584\n",
      "[217]\tvalidation_0-logloss:0.08563\n",
      "[218]\tvalidation_0-logloss:0.08573\n",
      "[219]\tvalidation_0-logloss:0.08578\n",
      "[220]\tvalidation_0-logloss:0.08579\n",
      "[221]\tvalidation_0-logloss:0.08582\n",
      "[222]\tvalidation_0-logloss:0.08576\n",
      "[223]\tvalidation_0-logloss:0.08567\n",
      "[224]\tvalidation_0-logloss:0.08586\n",
      "[225]\tvalidation_0-logloss:0.08587\n",
      "[226]\tvalidation_0-logloss:0.08593\n",
      "[227]\tvalidation_0-logloss:0.08595\n",
      "[228]\tvalidation_0-logloss:0.08587\n",
      "[229]\tvalidation_0-logloss:0.08606\n",
      "[230]\tvalidation_0-logloss:0.08600\n",
      "[231]\tvalidation_0-logloss:0.08592\n",
      "[232]\tvalidation_0-logloss:0.08610\n",
      "[233]\tvalidation_0-logloss:0.08611\n",
      "[234]\tvalidation_0-logloss:0.08617\n",
      "[235]\tvalidation_0-logloss:0.08626\n",
      "[236]\tvalidation_0-logloss:0.08629\n",
      "[237]\tvalidation_0-logloss:0.08622\n"
     ]
    },
    {
     "name": "stdout",
     "output_type": "stream",
     "text": [
      "[238]\tvalidation_0-logloss:0.08639\n",
      "[239]\tvalidation_0-logloss:0.08634\n",
      "[240]\tvalidation_0-logloss:0.08618\n",
      "[241]\tvalidation_0-logloss:0.08620\n",
      "[242]\tvalidation_0-logloss:0.08625\n",
      "[243]\tvalidation_0-logloss:0.08626\n",
      "[244]\tvalidation_0-logloss:0.08629\n",
      "[245]\tvalidation_0-logloss:0.08622\n",
      "[246]\tvalidation_0-logloss:0.08640\n",
      "[247]\tvalidation_0-logloss:0.08635\n",
      "[248]\tvalidation_0-logloss:0.08628\n",
      "[249]\tvalidation_0-logloss:0.08645\n",
      "[250]\tvalidation_0-logloss:0.08629\n",
      "[251]\tvalidation_0-logloss:0.08631\n",
      "[252]\tvalidation_0-logloss:0.08636\n",
      "[253]\tvalidation_0-logloss:0.08639\n",
      "[254]\tvalidation_0-logloss:0.08649\n",
      "[255]\tvalidation_0-logloss:0.08644\n",
      "[256]\tvalidation_0-logloss:0.08629\n",
      "[257]\tvalidation_0-logloss:0.08646\n",
      "[258]\tvalidation_0-logloss:0.08639\n",
      "[259]\tvalidation_0-logloss:0.08644\n",
      "[260]\tvalidation_0-logloss:0.08646\n",
      "[261]\tvalidation_0-logloss:0.08649\n",
      "[262]\tvalidation_0-logloss:0.08645\n",
      "[263]\tvalidation_0-logloss:0.08647\n",
      "[264]\tvalidation_0-logloss:0.08632\n",
      "[265]\tvalidation_0-logloss:0.08649\n",
      "[266]\tvalidation_0-logloss:0.08654\n",
      "[267]\tvalidation_0-logloss:0.08647\n",
      "[268]\tvalidation_0-logloss:0.08650\n",
      "[269]\tvalidation_0-logloss:0.08652\n",
      "[270]\tvalidation_0-logloss:0.08669\n",
      "[271]\tvalidation_0-logloss:0.08674\n",
      "[272]\tvalidation_0-logloss:0.08683\n",
      "[273]\tvalidation_0-logloss:0.08668\n",
      "[274]\tvalidation_0-logloss:0.08664\n",
      "[275]\tvalidation_0-logloss:0.08650\n",
      "[276]\tvalidation_0-logloss:0.08635\n",
      "[277]\tvalidation_0-logloss:0.08652\n",
      "[278]\tvalidation_0-logloss:0.08657\n",
      "[279]\tvalidation_0-logloss:0.08659\n",
      "[280]\tvalidation_0-logloss:0.08668\n",
      "[281]\tvalidation_0-logloss:0.08664\n",
      "[282]\tvalidation_0-logloss:0.08650\n",
      "[283]\tvalidation_0-logloss:0.08636\n",
      "[284]\tvalidation_0-logloss:0.08640\n",
      "[285]\tvalidation_0-logloss:0.08643\n",
      "[286]\tvalidation_0-logloss:0.08646\n",
      "[287]\tvalidation_0-logloss:0.08650\n",
      "[288]\tvalidation_0-logloss:0.08637\n",
      "[289]\tvalidation_0-logloss:0.08646\n",
      "[290]\tvalidation_0-logloss:0.08645\n",
      "[291]\tvalidation_0-logloss:0.08632\n",
      "[292]\tvalidation_0-logloss:0.08628\n",
      "[293]\tvalidation_0-logloss:0.08615\n",
      "[294]\tvalidation_0-logloss:0.08620\n",
      "[295]\tvalidation_0-logloss:0.08622\n",
      "[296]\tvalidation_0-logloss:0.08631\n",
      "[297]\tvalidation_0-logloss:0.08618\n",
      "[298]\tvalidation_0-logloss:0.08626\n",
      "[299]\tvalidation_0-logloss:0.08613\n",
      "[300]\tvalidation_0-logloss:0.08618\n",
      "[301]\tvalidation_0-logloss:0.08605\n",
      "[302]\tvalidation_0-logloss:0.08602\n",
      "[303]\tvalidation_0-logloss:0.08610\n",
      "[304]\tvalidation_0-logloss:0.08598\n",
      "[305]\tvalidation_0-logloss:0.08606\n",
      "[306]\tvalidation_0-logloss:0.08597\n",
      "[307]\tvalidation_0-logloss:0.08600\n",
      "[308]\tvalidation_0-logloss:0.08600\n",
      "[309]\tvalidation_0-logloss:0.08588\n",
      "[310]\tvalidation_0-logloss:0.08592\n"
     ]
    },
    {
     "data": {
      "text/plain": [
       "XGBClassifier(base_score=0.5, booster='gbtree', callbacks=None,\n",
       "              colsample_bylevel=1, colsample_bynode=1, colsample_bytree=1,\n",
       "              early_stopping_rounds=None, enable_categorical=False,\n",
       "              eval_metric=None, feature_types=None, gamma=0, gpu_id=-1,\n",
       "              grow_policy='depthwise', importance_type=None,\n",
       "              interaction_constraints='', learning_rate=0.1, max_bin=256,\n",
       "              max_cat_threshold=64, max_cat_to_onehot=4, max_delta_step=0,\n",
       "              max_depth=3, max_leaves=0, min_child_weight=1, missing=nan,\n",
       "              monotone_constraints='()', n_estimators=400, n_jobs=0,\n",
       "              num_parallel_tree=1, predictor='auto', random_state=0, ...)"
      ]
     },
     "execution_count": 82,
     "metadata": {},
     "output_type": "execute_result"
    }
   ],
   "source": [
    "from xgboost import XGBClassifier\n",
    "\n",
    "# instance\n",
    "xgb_wrapper = XGBClassifier(n_estimators=400, learning_rate=0.1, max_depth=3)\n",
    "\n",
    "# eval set\n",
    "evals = [(X_test, y_test)]\n",
    "\n",
    "#fitting\n",
    "xgb_wrapper.fit(X_train, y_train,early_stopping_rounds=100,\n",
    "               eval_metric='logloss', eval_set = evals, verbose=True)"
   ]
  },
  {
   "cell_type": "markdown",
   "id": "92f5234e",
   "metadata": {},
   "source": [
    "- XGBRegressor 하이퍼파라미터\n",
    "  1. 일반 파라미터 : 부스팅을 수행할 때 트리를 사용할지, 선형 모델을 사용할지 등을 고려\n",
    "    - booster[기본값 = gbtree] : 어떤 부스터 구조를 쓸지 결정\n",
    "      - 의사결정기반모형(gbtree), 선형모형(gblinear), dart 가 있다.\n",
    "    - n_jobs : XGBoost를 실행하는 데 사용되는 병렬 스레드 수   \n",
    "    <br><br>\n",
    "  2. 부스터 파라미터 : 선택한 부스터에 따라서 적용할 수 있는 파라미터가 다르다\n",
    "    - learning_rate[기본값=0.3] : 높을수록 과적합하기 쉽다.\n",
    "    - n_estimators[기본값 = 100] : 생성할 weak learner의 수, learning_rate가 낮을 때 높여야 과적합이 방지된다.\n",
    "    - max_depth[기본값 = 6] : 트리의 maximun depth값, 적절한 값이 제시되어야 하고 보통 3-10 사이 값이 적용되며, max_depth가 높을수록 모델의 복잡도가 커져 과적합되기 슆다.\n",
    "    - min_child_weight[기본값 = 1] : 관측치에 대한 가충치 합의 최소를 말하며 값이 높을수록 과적합이 방지된다.\n",
    "    - gamma[기본값 = 0] : 리프노트의 추가분할을 결정할 최소손실 감소값, 해당 값보다 손실이 크게 감소할 때 분리한다.   \n",
    "  <br><br>    \n",
    "  3. 학습 과정 파라미터 : 학습 시나리오를 결정한다. "
   ]
  },
  {
   "cell_type": "code",
   "execution_count": 84,
   "id": "98219bca",
   "metadata": {},
   "outputs": [
    {
     "name": "stdout",
     "output_type": "stream",
     "text": [
      "오차행렬 : [[34  3]\n",
      " [ 1 76]]\n",
      "정확도: 0.9649, 정밀도: 0.9620, 재현율: 0.9870, F1: 0.9744, AUC: 0.9954\n"
     ]
    }
   ],
   "source": [
    "ws100_preds = xgb_wrapper.predict(X_test)\n",
    "ws100_pred_probs = xgb_wrapper.predict_proba(X_test)[:,1]\n",
    "\n",
    "get_clf_eval(y_test, pred=ws100_preds, pred_proba_po=ws100_pred_probs)"
   ]
  },
  {
   "cell_type": "markdown",
   "id": "42f897d6",
   "metadata": {},
   "source": [
    "#### XGB 피러별 중요도"
   ]
  },
  {
   "cell_type": "code",
   "execution_count": 85,
   "id": "d67d9aac",
   "metadata": {},
   "outputs": [
    {
     "data": {
      "image/png": "[encoded data removed]",
      "text/plain": [
       "<Figure size 720x576 with 1 Axes>"
      ]
     },
     "metadata": {},
     "output_type": "display_data"
    }
   ],
   "source": [
    "plot_importance(xgb_wrapper)\n",
    "plt.show()"
   ]
  },
  {
   "cell_type": "markdown",
   "id": "3711bef0",
   "metadata": {},
   "source": [
    "- **민감하게 조정해야 하는 것**\n",
    "  - booster 모양\n",
    "  - eval_metric(평가함수) / objective(목적함수)\n",
    "  - eta \n",
    "  - L1 form (L1 레귤러라이제이션 폼이 L2보다 아웃라이어에 민감하다.)\n",
    "  - L2 form\n",
    " <br><br> \n",
    "- **과적합 방지를 위해 조정해야 하는 것**\n",
    "  - learning rate 낮추기 → n_estimators은 높여야함\n",
    "  - max_depth 낮추기\n",
    "  - min_child_weight 높이기\n",
    "  - gamma 높이기\n",
    "  - subsample, colsample_bytree 낮추기"
   ]
  },
  {
   "cell_type": "markdown",
   "id": "6ad5446e",
   "metadata": {},
   "source": [
    "## LightGBM"
   ]
  },
  {
   "cell_type": "markdown",
   "id": "1434ecee",
   "metadata": {},
   "source": [
    "1. LightGBM 장단점\n",
    "  - XGB보다도 학습에 걸리는 시간이 훨씬 적으며 메모리 사용량도 상대적으로 적다.\n",
    "  - 카테고리형 피처를 자동 변환하고, 예측 성능 역시 큰 차이가 없다.\n",
    "  - 데이터의 갯수가 적을 경우 과적합이 발생하기 쉽다.\n",
    "  - 적은 데이터의 갯수에 대한 기준은 애매하지만 LightGBM의 공식 문서에서 10,000건 이하라고 기술하였다.\n",
    "<br><br>\n",
    "2. 트리 기반 알고리즘 특징\n",
    "  - 기존의 대부분 트리 기반 알고리즘은 트리의 깊이를 효과적으로 줄이기 위한 균형 트리 분할(Level Wise) 방식을 사용한다.\n",
    "  - 최대한 균형 잡힌 트리를 유지하면서 분할하기 때문에 깊이가 최소화 되며 오버피팅에 보다 강한 구조를 가진다.\n",
    "  - 하지만 균형을 맞추기 위한 시간이 오래 걸리는 단점이 있다.\n",
    "<br><br>\n",
    "3. LightGBM 특징\n",
    "  - LightGBM은 일반 GBM 계열의 트리 분할 방법과 다르게 리프 중심 트리 분할(Leaf Wise) 방식을 사용한다.\n",
    "  - 트리의 균형을 맞추지 않고 최대 손실 값(max delta loss)을 가지는 리프 노드를 지속적으로 분할하여 깊이가 증가하고 비대칭적인 트리를 생성한다.\n",
    "  - 이렇게 생성된 트리는 학습을 반복할수록 결국은 균형 트리 분할 방식보다 예측 오류 손실을 최소화 할 수 있다는 것이 LightGBM 구현사상이다."
   ]
  },
  {
   "cell_type": "code",
   "execution_count": null,
   "id": "2f3807a5",
   "metadata": {},
   "outputs": [],
   "source": [
    "# lightgbm 설치\n"
   ]
  }
 ],
 "metadata": {
  "hide_input": false,
  "kernelspec": {
   "display_name": "Python 3 (ipykernel)",
   "language": "python",
   "name": "python3"
  },
  "language_info": {
   "codemirror_mode": {
    "name": "ipython",
    "version": 3
   },
   "file_extension": ".py",
   "mimetype": "text/x-python",
   "name": "python",
   "nbconvert_exporter": "python",
   "pygments_lexer": "ipython3",
   "version": "3.9.7"
  },
  "toc": {
   "base_numbering": 1,
   "nav_menu": {},
   "number_sections": true,
   "sideBar": true,
   "skip_h1_title": false,
   "title_cell": "Table of Contents",
   "title_sidebar": "Contents",
   "toc_cell": false,
   "toc_position": {},
   "toc_section_display": true,
   "toc_window_display": true
  }
 },
 "nbformat": 4,
 "nbformat_minor": 5
}
