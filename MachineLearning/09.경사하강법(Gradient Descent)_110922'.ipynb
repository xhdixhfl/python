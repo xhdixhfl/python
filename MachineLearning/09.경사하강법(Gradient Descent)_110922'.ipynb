{
 "cells": [
  {
   "cell_type": "markdown",
   "id": "28e397f7",
   "metadata": {},
   "source": [
    "## 경사 하강법(Gradient Descent)\n",
    "- 정의 : 손실의 줄이는 알고리즘으로 기울기가 최소가 되는 점을 찾아 알맞은 가증치를 찾는 것.\n",
    "- 손실 함수를 최적화하는 방법 중 하나"
   ]
  },
  {
   "cell_type": "markdown",
   "id": "46c50e07",
   "metadata": {},
   "source": [
    "### 점진적인 학습 또는 온라인 학습\n",
    "- 확률적 경사하강법 (대표적)\n",
    "- 훈련데이터가 한 번에 전달되는 것이 아니라 조금씩 전달 됨.\n",
    " - 늘어나는 모든 데이터를 수용하여 교육을 시킬 수 없기 때문에, 훈련데이터를 버릴까 고민했지만, 중요한 값이 있을수 있기 때문에 조금씩 훈련을 시키는 것이 된것."
   ]
  },
  {
   "cell_type": "markdown",
   "id": "e8650336",
   "metadata": {},
   "source": [
    "## 확률적 경사 하강법(SGD)\n",
    "- 훈련세트를 이용하여 손실을 최소화하는 곳으로 이동하는 것을 말하며 신경말알고리즘(딥러닝)에서 주로\n",
    " - 확률적: random으로 무작위\n",
    " - 경사: 기울기\n",
    " - 하강법: 내려가는 방법\n",
    "- 손실을 최소화하는 곳으로 내려가는 방법(경사가 높은 곳을 조금씩천천히 내려오는게 가장 빠른 하강법)\n",
    "- 가장 가파른 곳은 어떻게 찾을까? 확률적으로 찾음.\n",
    "- 샘플을(미니배치) 찾아서 스텝 사이즈(배치 사이즈)\n",
    "- 미니 배치 경사 하강법 : 배치사이즈를 찾아서 조금씩 내려가는 법(한개는 너무하니 여러개를 찾아서 내려오는거)\n",
    "- 에포크, 배치사이즈, 손실함수랑 비용함수(훈련셋 전체의 손실을 나타낸)는 다른 함수임"
   ]
  },
  {
   "cell_type": "markdown",
   "id": "29b57069",
   "metadata": {},
   "source": [
    "## 확률적 경사하강법을 활용한 분류 모델\n",
    "- 오차행렬(혼돈행렬)\n",
    "- 유방암 데이터셋 이용, 로지스틱회귀 후 xg부스트 까지... \n",
    "\n",
    "### 필수 라이브러리 로딩"
   ]
  },
  {
   "cell_type": "code",
   "execution_count": 3,
   "id": "d9012b7f",
   "metadata": {},
   "outputs": [],
   "source": [
    "import numpy as np\n",
    "import pandas as pd\n",
    "\n",
    "import matplotlib as mpl\n",
    "import matplotlib.pyplot as plt\n",
    "import seaborn as sns\n",
    "\n",
    "import warnings"
   ]
  },
  {
   "cell_type": "code",
   "execution_count": 4,
   "id": "44d10a5a",
   "metadata": {},
   "outputs": [],
   "source": [
    "# 그래프 주피터 노트북에 표시, 폰트 더 선명하게\n",
    "%matplotlib inline \n",
    "%config Inlinebackend.figure_format = 'retina'\n",
    "\n",
    "# 한글 폰트 설정\n",
    "mpl.rc('font', family='batang')\n",
    "\n",
    "# Unicode 음수 부호 설정\n",
    "mpl.rc('axes', unicode_minus = False)\n",
    "\n",
    "# 경고 무시\n",
    "warnings.filterwarnings('ignore')"
   ]
  },
  {
   "cell_type": "markdown",
   "id": "d3a43891",
   "metadata": {},
   "source": [
    "### 훈련 데이터 로딩"
   ]
  },
  {
   "cell_type": "code",
   "execution_count": 7,
   "id": "469ab027",
   "metadata": {},
   "outputs": [
    {
     "data": {
      "text/html": [
       "<div>\n",
       "<style scoped>\n",
       "    .dataframe tbody tr th:only-of-type {\n",
       "        vertical-align: middle;\n",
       "    }\n",
       "\n",
       "    .dataframe tbody tr th {\n",
       "        vertical-align: top;\n",
       "    }\n",
       "\n",
       "    .dataframe thead th {\n",
       "        text-align: right;\n",
       "    }\n",
       "</style>\n",
       "<table border=\"1\" class=\"dataframe\">\n",
       "  <thead>\n",
       "    <tr style=\"text-align: right;\">\n",
       "      <th></th>\n",
       "      <th>Species</th>\n",
       "      <th>Weight</th>\n",
       "      <th>Length</th>\n",
       "      <th>Diagonal</th>\n",
       "      <th>Height</th>\n",
       "      <th>Width</th>\n",
       "    </tr>\n",
       "  </thead>\n",
       "  <tbody>\n",
       "    <tr>\n",
       "      <th>0</th>\n",
       "      <td>Bream</td>\n",
       "      <td>242.0</td>\n",
       "      <td>25.4</td>\n",
       "      <td>30.0</td>\n",
       "      <td>11.5200</td>\n",
       "      <td>4.0200</td>\n",
       "    </tr>\n",
       "    <tr>\n",
       "      <th>1</th>\n",
       "      <td>Bream</td>\n",
       "      <td>290.0</td>\n",
       "      <td>26.3</td>\n",
       "      <td>31.2</td>\n",
       "      <td>12.4800</td>\n",
       "      <td>4.3056</td>\n",
       "    </tr>\n",
       "    <tr>\n",
       "      <th>2</th>\n",
       "      <td>Bream</td>\n",
       "      <td>340.0</td>\n",
       "      <td>26.5</td>\n",
       "      <td>31.1</td>\n",
       "      <td>12.3778</td>\n",
       "      <td>4.6961</td>\n",
       "    </tr>\n",
       "    <tr>\n",
       "      <th>3</th>\n",
       "      <td>Bream</td>\n",
       "      <td>363.0</td>\n",
       "      <td>29.0</td>\n",
       "      <td>33.5</td>\n",
       "      <td>12.7300</td>\n",
       "      <td>4.4555</td>\n",
       "    </tr>\n",
       "    <tr>\n",
       "      <th>4</th>\n",
       "      <td>Bream</td>\n",
       "      <td>430.0</td>\n",
       "      <td>29.0</td>\n",
       "      <td>34.0</td>\n",
       "      <td>12.4440</td>\n",
       "      <td>5.1340</td>\n",
       "    </tr>\n",
       "    <tr>\n",
       "      <th>...</th>\n",
       "      <td>...</td>\n",
       "      <td>...</td>\n",
       "      <td>...</td>\n",
       "      <td>...</td>\n",
       "      <td>...</td>\n",
       "      <td>...</td>\n",
       "    </tr>\n",
       "    <tr>\n",
       "      <th>154</th>\n",
       "      <td>Smelt</td>\n",
       "      <td>12.2</td>\n",
       "      <td>12.2</td>\n",
       "      <td>13.4</td>\n",
       "      <td>2.0904</td>\n",
       "      <td>1.3936</td>\n",
       "    </tr>\n",
       "    <tr>\n",
       "      <th>155</th>\n",
       "      <td>Smelt</td>\n",
       "      <td>13.4</td>\n",
       "      <td>12.4</td>\n",
       "      <td>13.5</td>\n",
       "      <td>2.4300</td>\n",
       "      <td>1.2690</td>\n",
       "    </tr>\n",
       "    <tr>\n",
       "      <th>156</th>\n",
       "      <td>Smelt</td>\n",
       "      <td>12.2</td>\n",
       "      <td>13.0</td>\n",
       "      <td>13.8</td>\n",
       "      <td>2.2770</td>\n",
       "      <td>1.2558</td>\n",
       "    </tr>\n",
       "    <tr>\n",
       "      <th>157</th>\n",
       "      <td>Smelt</td>\n",
       "      <td>19.7</td>\n",
       "      <td>14.3</td>\n",
       "      <td>15.2</td>\n",
       "      <td>2.8728</td>\n",
       "      <td>2.0672</td>\n",
       "    </tr>\n",
       "    <tr>\n",
       "      <th>158</th>\n",
       "      <td>Smelt</td>\n",
       "      <td>19.9</td>\n",
       "      <td>15.0</td>\n",
       "      <td>16.2</td>\n",
       "      <td>2.9322</td>\n",
       "      <td>1.8792</td>\n",
       "    </tr>\n",
       "  </tbody>\n",
       "</table>\n",
       "<p>159 rows × 6 columns</p>\n",
       "</div>"
      ],
      "text/plain": [
       "    Species  Weight  Length  Diagonal   Height   Width\n",
       "0     Bream   242.0    25.4      30.0  11.5200  4.0200\n",
       "1     Bream   290.0    26.3      31.2  12.4800  4.3056\n",
       "2     Bream   340.0    26.5      31.1  12.3778  4.6961\n",
       "3     Bream   363.0    29.0      33.5  12.7300  4.4555\n",
       "4     Bream   430.0    29.0      34.0  12.4440  5.1340\n",
       "..      ...     ...     ...       ...      ...     ...\n",
       "154   Smelt    12.2    12.2      13.4   2.0904  1.3936\n",
       "155   Smelt    13.4    12.4      13.5   2.4300  1.2690\n",
       "156   Smelt    12.2    13.0      13.8   2.2770  1.2558\n",
       "157   Smelt    19.7    14.3      15.2   2.8728  2.0672\n",
       "158   Smelt    19.9    15.0      16.2   2.9322  1.8792\n",
       "\n",
       "[159 rows x 6 columns]"
      ]
     },
     "execution_count": 7,
     "metadata": {},
     "output_type": "execute_result"
    }
   ],
   "source": [
    "fish = pd.read_csv('https://bit.ly/fish_csv_data')\n",
    "fish"
   ]
  },
  {
   "cell_type": "code",
   "execution_count": 14,
   "id": "2c47e339",
   "metadata": {},
   "outputs": [
    {
     "data": {
      "text/plain": [
       "array(['Bream', 'Roach', 'Whitefish', 'Parkki', 'Perch', 'Pike', 'Smelt'],\n",
       "      dtype=object)"
      ]
     },
     "execution_count": 14,
     "metadata": {},
     "output_type": "execute_result"
    }
   ],
   "source": [
    "# target 고유값 추출\n",
    "fish['Species'].unique()  # 다중 분류를 해야겠군"
   ]
  },
  {
   "cell_type": "code",
   "execution_count": 9,
   "id": "46190543",
   "metadata": {},
   "outputs": [],
   "source": [
    "# Species(타깃 데이터)를 제외한 나머지 특성은 입력 데이터로 사용.\n",
    "fish_input = fish.drop('Species', axis=1).to_numpy()\n",
    "fish_target = fish['Species'].to_numpy()"
   ]
  },
  {
   "cell_type": "markdown",
   "id": "8b5d97dd",
   "metadata": {},
   "source": [
    "### 특성 전처리와 훈련세트, 테스트 세트 분리\n",
    "- 정규화(값이 0~1의 수로 값이 너무 클때(minmax)) , 표준화(값의 범위가 평균은 0 표준편차가 1). 해야할 떄, \n",
    "- 스케일링은 모델을 학습시키기 전에만 하면 된다.(즉, 셋 분리 전 또는 분리 후 모두 가능)"
   ]
  },
  {
   "cell_type": "code",
   "execution_count": 11,
   "id": "51e47d00",
   "metadata": {},
   "outputs": [],
   "source": [
    "from sklearn.model_selection import train_test_split # 세트 분리\n",
    "from sklearn.preprocessing import StandardScaler # 스케일링\n",
    "\n",
    "# 세트 분리\n",
    "X_train, X_test, y_train, y_test = train_test_split(\n",
    "fish_input, fish_target, random_state=42)\n",
    "\n",
    "# 표준화\n",
    "ss = StandardScaler()\n",
    "ss.fit(X_train) # 비지도 학습\n",
    "train_scaled = ss.transform(X_train)\n",
    "test_scaled = ss.transform(X_test)"
   ]
  },
  {
   "cell_type": "markdown",
   "id": "06b7236c",
   "metadata": {},
   "source": [
    "### 모델 훈련_확률적 경사 하강법"
   ]
  },
  {
   "cell_type": "code",
   "execution_count": 16,
   "id": "ec7425bd",
   "metadata": {},
   "outputs": [
    {
     "name": "stdout",
     "output_type": "stream",
     "text": [
      "0.773109243697479\n",
      "0.775\n"
     ]
    }
   ],
   "source": [
    "# SGDClassifier 클래스 : 확률적 경사 하강법을 제공하는 분류용 클래스\n",
    "from sklearn.linear_model import SGDClassifier\n",
    "## 매개변수가 하이퍼파라미터로 사용 주로 손실함수랑 에포크(전체 훈련데이터 샘플을 사용하는 횟수)\n",
    "\n",
    "# loss function(손실함수) : 손실함수의 종류를 지정하는 매개변수(loss)\n",
    "## 이진분류회귀(이진크로스엔트로피), 다중분류회귀(크로스엔트로피, 소프트맥스)\n",
    "# max_iter : 수행할 에포크 횟수\n",
    "sc =SGDClassifier(loss='log', max_iter=10, random_state=42) # 손실로 로짓함수사용\n",
    "\n",
    "# 학습\n",
    "sc.fit(train_scaled, y_train)\n",
    "\n",
    "# 평가\n",
    "print(sc.score(train_scaled, y_train))\n",
    "print(sc.score(test_scaled, y_test))"
   ]
  },
  {
   "cell_type": "code",
   "execution_count": 17,
   "id": "9bd8ebd2",
   "metadata": {},
   "outputs": [
    {
     "name": "stdout",
     "output_type": "stream",
     "text": [
      "0.8151260504201681\n",
      "0.85\n"
     ]
    }
   ],
   "source": [
    "# 에포크 값이 적어서 정확성이 떨어지나? 그럼 병렬학습을 해보자\n",
    "# 모델을 이어서 훈련할 떄(병렬학습) partial_fit()\n",
    "sc.partial_fit(train_scaled, y_train)\n",
    "\n",
    "print(sc.score(train_scaled, y_train))\n",
    "print(sc.score(test_scaled, y_test))\n",
    "# 그럼 한번더 에포크를 더하면 더 늘어? 과대적합을 유발하진 않을까?\n",
    "# 그렇다면 가장 적절한 에포크의 횟수는 ?"
   ]
  },
  {
   "cell_type": "markdown",
   "id": "ea2d43db",
   "metadata": {},
   "source": [
    "### 가장 적절한 에포크 횟수찾기\n",
    "- 에포크 횟수가 적어 모델이 훈련세트를 덜 학습하게되면 과소적합이 발생.\n",
    "- 너무 많은 에포크 횟수는 과대적합된 모델일 가능성이 높다."
   ]
  },
  {
   "cell_type": "code",
   "execution_count": 19,
   "id": "32921a76",
   "metadata": {},
   "outputs": [],
   "source": [
    "# partial_fit()를 사용하여 적절한 에포크 수 찾기\n",
    "sc = SGDClassifier(loss='log', random_state=42)\n",
    "\n",
    "# 학습 결과를 리스트에 담기\n",
    "train_score = [] # 빈리스트 생성\n",
    "test_score = []\n",
    "\n",
    "## partial_fit()만 사용하려면 훈련 세트의 전체 (타겟)클래스의 레이블을 전달해줘야 한다.\n",
    "classes = np.unique(y_train)\n",
    "\n",
    "## 총 300번의 에포크 동안 훈련을 반복하여 진행\n",
    "for _ in range(0,300):\n",
    "    sc.partial_fit(train_scaled, y_train, classes = classes)\n",
    "    train_score.append(sc.score(train_scaled, y_train))\n",
    "    test_score.append(sc.score(test_scaled, y_test))\n"
   ]
  },
  {
   "cell_type": "markdown",
   "id": "8ed66760",
   "metadata": {},
   "source": [
    "### 에포크 횟수에 따른 점수 시각화 작업\n",
    "- 시각화를 통해 에포크 횟수가 몇일때 가장 좋은지 확인"
   ]
  },
  {
   "cell_type": "code",
   "execution_count": 20,
   "id": "37c9a2bc",
   "metadata": {},
   "outputs": [],
   "source": [
    "# 차트 스타일 지정\n",
    "sns.set(font='batang', rc={'axes.unicode_minus':False}, style ='darkgrid')\n",
    "plt.rc('figure', figsize=(10,8)) # 사이즈 지정"
   ]
  },
  {
   "cell_type": "code",
   "execution_count": 21,
   "id": "2f3509ef",
   "metadata": {},
   "outputs": [
    {
     "data": {
      "image/png": "[encoded data removed]",
      "text/plain": [
       "<Figure size 720x576 with 1 Axes>"
      ]
     },
     "metadata": {},
     "output_type": "display_data"
    }
   ],
   "source": [
    "plt.plot(train_score, color = 'hotpink')\n",
    "plt.plot(test_score, color = 'springgreen')\n",
    "plt.xlabel('epoch')\n",
    "plt.ylabel('accuracy')\n",
    "plt.show()"
   ]
  },
  {
   "cell_type": "code",
   "execution_count": 22,
   "id": "ba57a0d4",
   "metadata": {},
   "outputs": [
    {
     "name": "stdout",
     "output_type": "stream",
     "text": [
      "0.9663865546218487\n",
      "0.925\n"
     ]
    }
   ],
   "source": [
    "# 조기종료 가능 : 일정 에포크동안 성능이 향상되지 않으면 더이상 훈련하지 않고 종료\n",
    "# tol매개변수 : 향상될 최소값을 지정하는 옵션값을 none으로 설정하면 자동으로 멈추지않고 max_iter만큼\n",
    "# 서포트 벡터 머신(SVM) 알고리즘에서 사용되는 손실함수의 기본값은 hinge\n",
    "# 최적의 에포크 횟수는 100\n",
    "bsc = SGDClassifier(loss='log', max_iter=100, tol=None, random_state=42)\n",
    "bsc.fit(train_scaled, y_train)\n",
    "\n",
    "# 평가\n",
    "print(sc.score(train_scaled, y_train))\n",
    "print(sc.score(test_scaled, y_test))"
   ]
  },
  {
   "cell_type": "code",
   "execution_count": null,
   "id": "b027478c",
   "metadata": {},
   "outputs": [],
   "source": [
    "# 그렇다고 에포크 값을 너무 상승시키면 과대적합 발생"
   ]
  }
 ],
 "metadata": {
  "kernelspec": {
   "display_name": "Python 3 (ipykernel)",
   "language": "python",
   "name": "python3"
  },
  "language_info": {
   "codemirror_mode": {
    "name": "ipython",
    "version": 3
   },
   "file_extension": ".py",
   "mimetype": "text/x-python",
   "name": "python",
   "nbconvert_exporter": "python",
   "pygments_lexer": "ipython3",
   "version": "3.9.7"
  },
  "toc": {
   "base_numbering": 1,
   "nav_menu": {},
   "number_sections": true,
   "sideBar": true,
   "skip_h1_title": false,
   "title_cell": "Table of Contents",
   "title_sidebar": "Contents",
   "toc_cell": false,
   "toc_position": {},
   "toc_section_display": true,
   "toc_window_display": false
  }
 },
 "nbformat": 4,
 "nbformat_minor": 5
}
