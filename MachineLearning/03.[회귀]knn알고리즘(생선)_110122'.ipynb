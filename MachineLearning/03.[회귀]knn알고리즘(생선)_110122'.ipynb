{
 "cells": [
  {
   "cell_type": "markdown",
   "id": "f7369921",
   "metadata": {},
   "source": [
    "### K-최근접 이웃 회귀 알고리즘"
   ]
  },
  {
   "cell_type": "markdown",
   "id": "c1b6ae95",
   "metadata": {},
   "source": [
    "#### k-최근접 이웃 회귀\n",
    "- 회귀(regression) : 특정한 입력변수 값을 사용하여 출력변수의 값을 계산하는 것을 예측(prediction)문제라고 한다. 예측문제 중에서 출력변수의 값이 연속값인 문제를 회귀(regression) 또는 회귀분석(regression analysis)라고 부른다.\n",
    "- KNN Regression(K-최근접 이웃 회귀)알고리즘 ㅣ 주변의 가장 가까운 k개의 샘플을 통해 값을 예측하는 방식으로 가장 간단한 방식으로는 K개 샘플의 평균을 이용할 수 있다."
   ]
  },
  {
   "cell_type": "markdown",
   "id": "0a858eb3",
   "metadata": {},
   "source": [
    "#### 생선무게 예측"
   ]
  },
  {
   "cell_type": "code",
   "execution_count": 2,
   "id": "a36aa168",
   "metadata": {},
   "outputs": [],
   "source": [
    "\n",
    "perch_length = np.array([8.4, 13.7, 15.0, 16.2, 17.4, 18.0, 18.7, 19.0, \n",
    "                         19.6, 20.0, 21.0,21.0, 21.0, 21.3, 22.0, 22.0, \n",
    "                         22.0, 22.0, 22.0, 22.5, 22.5, 22.7,23.0, 23.5, \n",
    "                         24.0, 24.0, 24.6, 25.0, 25.6, 26.5, 27.3, 27.5,\n",
    "                         27.5,27.5, 28.0, 28.7, 30.0, 32.8, 34.5, 35.0,\n",
    "                         36.5, 36.0, 37.0, 37.0,39.0, 39.0, 39.0, 40.0, \n",
    "                         40.0, 40.0, 40.0, 42.0, 43.0, 43.0, 43.5,44.0])\n",
    "\n",
    "perch_weight = np.array([5.9, 32.0, 40.0, 51.5, 70.0, 100.0, 78.0, 80.0,\n",
    "                         85.0, 85.0, 110.0, 115.0, 125.0, 130.0, 120.0,\n",
    "                         120.0, 130.0, 135.0, 110.0, 130.0,150.0, 145.0,\n",
    "                         150.0, 170.0, 225.0, 145.0, 188.0, 180.0, 197.0,\n",
    "                         218.0, 300.0, 260.0, 265.0, 250.0, 250.0, 300.0,\n",
    "                         320.0, 514.0,556.0, 840.0, 685.0, 700.0, 700.0, \n",
    "                         690.0, 900.0, 650.0, 820.0,850.0, 900.0, 1015.0,\n",
    "                         820.0, 1100.0, 1000.0, 1100.0, 1000.0,1000.0])"
   ]
  },
  {
   "cell_type": "markdown",
   "id": "232d1a50",
   "metadata": {},
   "source": [
    "##### 분류 및 예측을 위한 모델\n",
    "1. Model_based Learning(모델 기반 학습)\n",
    "- 데이터로 부터 모델을 생성하여 분류/예측을 진행한다.\n",
    "- 선형/비선형 모델(Liner regression, logistic regression)\n",
    "- Neural Network\n",
    "- 의사결정나무(desision tree)\n",
    "- SVM(support vector machine)\n",
    "2. Instance_based Learning(사례 기반 학습)\n",
    "- 별도의 모델 생성없이 데이터 베이스에 있는 자료들을 분류/예측에 사용한다.\n",
    "- 각각의 관측치만을 이용하여 새로운 데이터에 대한 예측을 진행한다.\n",
    "- 대표적인 알고리즘을 knn알고리즘 "
   ]
  },
  {
   "cell_type": "code",
   "execution_count": 1,
   "id": "b7e3ddad",
   "metadata": {},
   "outputs": [],
   "source": [
    "import numpy as np\n",
    "import pandas as pd\n",
    "import matplotlib.pyplot as plt\n"
   ]
  },
  {
   "cell_type": "code",
   "execution_count": 3,
   "id": "6ca49385",
   "metadata": {},
   "outputs": [
    {
     "data": {
      "image/png": "[encoded data removed]",
      "text/plain": [
       "<Figure size 432x288 with 1 Axes>"
      ]
     },
     "metadata": {
      "needs_background": "dark"
     },
     "output_type": "display_data"
    }
   ],
   "source": [
    "# 데이터 특성 파악을 위한 산점도 그래프\n",
    "plt.scatter(perch_length, perch_weight, color = 'y')\n",
    "plt.xlabel('length')\n",
    "plt.ylabel('weight')\n",
    "plt.show()\n",
    "## 선형관계가 있다고 볼수 있고, 길이가 늘어날 때, 무게도 늘어난다. 변수관의 관련성이 有\n",
    "## 회귀 분석을 사용할 수 있다."
   ]
  },
  {
   "cell_type": "code",
   "execution_count": null,
   "id": "6024e4b9",
   "metadata": {},
   "outputs": [],
   "source": [
    "# 피어슨 0.3~0.5 상관관계 있다. 0.5~0.8 아주 강한 상과관계가 있다. "
   ]
  },
  {
   "cell_type": "markdown",
   "id": "989654a4",
   "metadata": {},
   "source": [
    "#### 훈련데이터세트와 테스트데이터세트 분리"
   ]
  },
  {
   "cell_type": "code",
   "execution_count": 5,
   "id": "495832b0",
   "metadata": {},
   "outputs": [],
   "source": [
    "from sklearn.model_selection import train_test_split\n",
    "\n",
    "train_input, test_input, train_target, test_target = train_test_split(\n",
    "perch_length, perch_weight, random_state=42)"
   ]
  },
  {
   "cell_type": "code",
   "execution_count": 7,
   "id": "462d7a52",
   "metadata": {},
   "outputs": [
    {
     "data": {
      "text/plain": [
       "(4,)"
      ]
     },
     "execution_count": 7,
     "metadata": {},
     "output_type": "execute_result"
    }
   ],
   "source": [
    "a = np.array([1,2,3,4])\n",
    "a.shape"
   ]
  },
  {
   "cell_type": "code",
   "execution_count": 6,
   "id": "964b937f",
   "metadata": {},
   "outputs": [
    {
     "data": {
      "text/plain": [
       "(2, 2)"
      ]
     },
     "execution_count": 6,
     "metadata": {},
     "output_type": "execute_result"
    }
   ],
   "source": [
    "a = np.array([1,2,3,4]).reshape(2,2) # 차원이 변경돼도 요소수는 같아야함.\n",
    "a.shape"
   ]
  },
  {
   "cell_type": "code",
   "execution_count": 10,
   "id": "74c855cf",
   "metadata": {},
   "outputs": [
    {
     "data": {
      "text/plain": [
       "(2, 2)"
      ]
     },
     "execution_count": 10,
     "metadata": {},
     "output_type": "execute_result"
    }
   ],
   "source": [
    "a = a.reshape(2,-1) # -1을 넣으면 2차원을 만들겠다는 거, 열 무시\n",
    "a.shape"
   ]
  },
  {
   "cell_type": "code",
   "execution_count": 8,
   "id": "a1b22299",
   "metadata": {},
   "outputs": [],
   "source": [
    "# 머신을 돌리기 위해서는 2차원이 되어야함\n",
    "train_input = train_input.reshape(-1,1) # 행 무시, \n",
    "test_input = test_input.reshape(-1,1)"
   ]
  },
  {
   "cell_type": "code",
   "execution_count": 12,
   "id": "4f5db671",
   "metadata": {},
   "outputs": [
    {
     "data": {
      "text/plain": [
       "((42, 1), (14, 1))"
      ]
     },
     "execution_count": 12,
     "metadata": {},
     "output_type": "execute_result"
    }
   ],
   "source": [
    "train_input.shape, test_input.shape"
   ]
  },
  {
   "cell_type": "code",
   "execution_count": 13,
   "id": "e299f1bf",
   "metadata": {},
   "outputs": [
    {
     "data": {
      "text/plain": [
       "KNeighborsRegressor()"
      ]
     },
     "execution_count": 13,
     "metadata": {},
     "output_type": "execute_result"
    }
   ],
   "source": [
    "# 회귀 모델 돌리기\n",
    "from sklearn.neighbors import KNeighborsRegressor\n",
    "\n",
    "knr = KNeighborsRegressor() # k값 생략\n",
    "knr.fit(train_input, train_target)"
   ]
  },
  {
   "cell_type": "markdown",
   "id": "e60a6029",
   "metadata": {},
   "source": [
    "##### Machine Learning Package Version List"
   ]
  },
  {
   "cell_type": "code",
   "execution_count": 14,
   "id": "1a27a2de",
   "metadata": {},
   "outputs": [
    {
     "name": "stdout",
     "output_type": "stream",
     "text": [
      "파이썬:  3.9.7 (default, Sep 16 2021, 16:59:28) [MSC v.1916 64 bit (AMD64)]\n"
     ]
    }
   ],
   "source": [
    "import sys\n",
    "print('파이썬: ',sys.version)"
   ]
  },
  {
   "cell_type": "code",
   "execution_count": 16,
   "id": "9514e69e",
   "metadata": {},
   "outputs": [
    {
     "name": "stdout",
     "output_type": "stream",
     "text": [
      "판다스: 1.3.4\n"
     ]
    }
   ],
   "source": [
    "print('판다스:', pd.__version__)"
   ]
  },
  {
   "cell_type": "code",
   "execution_count": 17,
   "id": "06ecafb0",
   "metadata": {},
   "outputs": [
    {
     "name": "stdout",
     "output_type": "stream",
     "text": [
      "넘파이: 1.20.3\n"
     ]
    }
   ],
   "source": [
    "print('넘파이:', np.__version__)"
   ]
  },
  {
   "cell_type": "code",
   "execution_count": 20,
   "id": "5f68031a",
   "metadata": {},
   "outputs": [
    {
     "name": "stdout",
     "output_type": "stream",
     "text": [
      "Matplot: 3.4.3\n"
     ]
    }
   ],
   "source": [
    "import matplotlib\n",
    "print('Matplot:', matplotlib.__version__)"
   ]
  },
  {
   "cell_type": "code",
   "execution_count": 21,
   "id": "0a29fcd0",
   "metadata": {},
   "outputs": [
    {
     "data": {
      "text/plain": [
       "'1.7.1'"
      ]
     },
     "execution_count": 21,
     "metadata": {},
     "output_type": "execute_result"
    }
   ],
   "source": [
    "import scipy as sp\n",
    "sp.__version__"
   ]
  },
  {
   "cell_type": "code",
   "execution_count": 23,
   "id": "00429c61",
   "metadata": {},
   "outputs": [
    {
     "data": {
      "text/plain": [
       "'7.29.0'"
      ]
     },
     "execution_count": 23,
     "metadata": {},
     "output_type": "execute_result"
    }
   ],
   "source": [
    "import IPython\n",
    "IPython.__version__"
   ]
  },
  {
   "cell_type": "code",
   "execution_count": 24,
   "id": "83f47c2b",
   "metadata": {},
   "outputs": [
    {
     "data": {
      "text/plain": [
       "'0.24.2'"
      ]
     },
     "execution_count": 24,
     "metadata": {},
     "output_type": "execute_result"
    }
   ],
   "source": [
    "import sklearn\n",
    "sklearn.__version__"
   ]
  },
  {
   "cell_type": "markdown",
   "id": "c33be6d5",
   "metadata": {},
   "source": [
    "#### 분리된 데이터 작업"
   ]
  },
  {
   "cell_type": "code",
   "execution_count": 25,
   "id": "fcf35af5",
   "metadata": {},
   "outputs": [
    {
     "data": {
      "text/plain": [
       "0.992809406101064"
      ]
     },
     "execution_count": 25,
     "metadata": {},
     "output_type": "execute_result"
    }
   ],
   "source": [
    "# 정확도 : 정답을 맞춘 개수의 비율\n",
    "## test데이터의 정확도\n",
    "knr.score(test_input, test_target)"
   ]
  },
  {
   "cell_type": "code",
   "execution_count": 26,
   "id": "5bab1c6b",
   "metadata": {},
   "outputs": [
    {
     "data": {
      "text/plain": [
       "19.157142857142862"
      ]
     },
     "execution_count": 26,
     "metadata": {},
     "output_type": "execute_result"
    }
   ],
   "source": [
    "# 결정계수(R2) = 1-(타깃 - 예측)^2 의 합 / (타깃 - 평균)^2의 합\n",
    "from sklearn.metrics import mean_absolute_error\n",
    "# MAE : 타깃과 예측의 절대값 오차를 평균하여 반환\n",
    "# 테스트 데이터의 예측\n",
    "test_predict = knr.predict(test_input)\n",
    "mae = mean_absolute_error(test_target, test_predict)\n",
    "mae\n",
    "# 생선의 무게가 평균적으로 타깃 값과 19g정도가 차이나는 걸 알수 있따."
   ]
  },
  {
   "cell_type": "code",
   "execution_count": 27,
   "id": "48583e63",
   "metadata": {},
   "outputs": [
    {
     "data": {
      "text/plain": [
       "0.9698823289099254"
      ]
     },
     "execution_count": 27,
     "metadata": {},
     "output_type": "execute_result"
    }
   ],
   "source": [
    "# 훈련데이터 결정계수 측정\n",
    "knr.score(train_input, train_target)"
   ]
  },
  {
   "cell_type": "markdown",
   "id": "63cbd8a8",
   "metadata": {},
   "source": [
    "#### 과대적합 vs 과소적합"
   ]
  },
  {
   "cell_type": "markdown",
   "id": "f93ed646",
   "metadata": {},
   "source": [
    "- 과대적합(overfitting) : 훈련 세트에서 점수가 굉장히 좋았는데 테스트 세트에서는 점수가 나쁠때\n",
    "- 과소적합(underfitting) : 훈련 세트보다 테스트 세트의 점수가 높거나 두 점수가 너무 낮은 경우\n",
    " - 과소 적합을 해결하는 일반적인 방법은 모델을 더 복잡하게 만드는 것이다.\n",
    " - k-최근접 이웃 모델을 복잡하게 만드는 방법은 이웃수 k 값을 낮추는 것이다.\n",
    "\n",
    "- 일반적으로 과대적합과 과소적합이 발생하는 이유중 하나는 데이터 셋의 크기가 매우 작기 때문이다."
   ]
  },
  {
   "cell_type": "code",
   "execution_count": 29,
   "id": "4ccb21c1",
   "metadata": {},
   "outputs": [
    {
     "data": {
      "text/plain": [
       "0.9804899950518966"
      ]
     },
     "execution_count": 29,
     "metadata": {},
     "output_type": "execute_result"
    }
   ],
   "source": [
    "# 테스트의 결정계수가 훈련의 결정계수 보다 점수가 높아서 과소적합을 의심할 수 있다.\n",
    "# 과소 적합이 의심되면 모델을 복잡하게 만들면 된다. (k값을 낮춘다.)\n",
    "knr.n_neighbors =3 # default = 5\n",
    "\n",
    "# 모델 훈련\n",
    "knr.fit(train_input, train_target)\n",
    "knr.score(train_input, train_target)"
   ]
  },
  {
   "cell_type": "code",
   "execution_count": 30,
   "id": "bb9e333e",
   "metadata": {},
   "outputs": [
    {
     "data": {
      "text/plain": [
       "0.9746459963987609"
      ]
     },
     "execution_count": 30,
     "metadata": {},
     "output_type": "execute_result"
    }
   ],
   "source": [
    "knr.score(test_input, test_target)\n",
    "# 두 계수의 차이가 줄었으니,,\n",
    "# 이 모델은 생선무게를 예측하기 좋은 모델이다."
   ]
  },
  {
   "cell_type": "code",
   "execution_count": null,
   "id": "e2ae4f33",
   "metadata": {},
   "outputs": [],
   "source": []
  }
 ],
 "metadata": {
  "kernelspec": {
   "display_name": "Python 3 (ipykernel)",
   "language": "python",
   "name": "python3"
  },
  "language_info": {
   "codemirror_mode": {
    "name": "ipython",
    "version": 3
   },
   "file_extension": ".py",
   "mimetype": "text/x-python",
   "name": "python",
   "nbconvert_exporter": "python",
   "pygments_lexer": "ipython3",
   "version": "3.9.7"
  },
  "toc": {
   "base_numbering": 1,
   "nav_menu": {},
   "number_sections": true,
   "sideBar": true,
   "skip_h1_title": false,
   "title_cell": "Table of Contents",
   "title_sidebar": "Contents",
   "toc_cell": false,
   "toc_position": {},
   "toc_section_display": true,
   "toc_window_display": false
  }
 },
 "nbformat": 4,
 "nbformat_minor": 5
}
