{
 "cells": [
  {
   "cell_type": "markdown",
   "id": "560e6957",
   "metadata": {},
   "source": [
    "## 머신러닝 필수 라이브러리\n",
    "\n",
    "1. Numpy : Numaaerical Python.\n",
    "  - 파이썬 산술계산의 대표적인 라이브러리\n",
    "  - 자료구조, 알고리즘, 산술 데이터를 다루는 대부분의 과학 계산에 필수 라이브러리\n",
    "  - ndarray객체\n",
    "\n",
    "2. Pandas : 구조화된 데이터나 표 형식의 데이터를 ㄹ빠르고 쉽계 표현적으로 다루도록 설계돈 고수준 자료구조\n",
    "  - 데이터과학에서 데이터를 처리하는 대표적인 라이브러리\n",
    "  - 데이터 핸들링의 표준\n",
    "  - Series객체와 DataFrame객세가 대표적인 자료구조\n",
    "\n",
    "3. Matplotlib : 시각화 라이브러리\n",
    "  - 그래프나 2차원 데이터를 시각화하는 파이썬 기반의 라이브러리\n",
    "\n",
    "4. Seaborn : 시본, 다양한 시각화 종류를 제ㅗㅇ하는 라이브러리 \n",
    "  - Matplotlib에 종속된 라이브러리\n",
    "\n",
    "5 Scipy : 사이파이\n",
    "  - 과학 계산 컴퓨팅 영역의 여러 기본 문제를 다루는 패키지 모음\n",
    "  - scipy.stats: 가장 맣이 사용되는 통계도루를 가지고 있는 라이브러리\n",
    "\n",
    "6. Scikit-learn : 머시러닝에 해심 라이브러리\n",
    "  - 분류 : SVM, 최근점이웃, 랜덤 포레스트, 로지스틱 회귀 등\n",
    "  - 회귀 : 라쏘, 릿지 회귀 등\n",
    "  - 클러스터링 : k-평균 등\n",
    "  - 자원축소 : PCA, 특징선택, 행렬인수 등\n",
    "  - 모델선택 : 격자탐색, 교차검증, 행렬\n",
    "  - 전처리 : 특징 추출, 정규화 등\n",
    "\n",
    "7. statsmodels : R 언어용 회ㅟ분석 모델을 구현한 통계분석 패키지\n",
    "  - 회귀모델 : 선형회귀\n",
    "  - 분산모델(ANOVA)\n",
    "  - 시계열 분석 : AR, ARMA, ARIMA 등\n",
    "  - 통계 모델 결과의 시각화 제공"
   ]
  },
  {
   "cell_type": "markdown",
   "id": "1be04a55",
   "metadata": {},
   "source": [
    "## 앙상블 학습"
   ]
  },
  {
   "cell_type": "code",
   "execution_count": 4,
   "id": "4cf53a17",
   "metadata": {},
   "outputs": [],
   "source": [
    "import numpy as np\n",
    "import pandas as pd\n",
    "\n",
    "# 보팅 분류기\n",
    "from sklearn.ensemble import VotingClassifier\n",
    "# 보팅에 사용할 학습알고리즘(로지스틱, )\n",
    "from sklearn.linear_model import LogisticRegression\n",
    "from sklearn.neighbors import KNeighborsClassifier\n",
    "\n",
    "# 셋 분리\n",
    "from sklearn.model_selection import train_test_split\n",
    "# 정확성\n",
    "from sklearn.metrics import accuracy_score\n",
    "\n",
    "# 경고메세지\n",
    "from warnings import filterwarnings\n",
    "filterwarnings('ignore')"
   ]
  },
  {
   "cell_type": "code",
   "execution_count": 69,
   "id": "422b3c76",
   "metadata": {},
   "outputs": [],
   "source": [
    "# 데이터 셋로딩\n",
    "from sklearn.datasets import load_breast_cancer\n",
    "cancer = load_breast_cancer()"
   ]
  },
  {
   "cell_type": "code",
   "execution_count": 70,
   "id": "49e89261",
   "metadata": {
    "scrolled": false
   },
   "outputs": [
    {
     "name": "stdout",
     "output_type": "stream",
     "text": [
      ".. _breast_cancer_dataset:\n",
      "\n",
      "Breast cancer wisconsin (diagnostic) dataset\n",
      "--------------------------------------------\n",
      "\n",
      "**Data Set Characteristics:**\n",
      "\n",
      "    :Number of Instances: 569\n",
      "\n",
      "    :Number of Attributes: 30 numeric, predictive attributes and the class\n",
      "\n",
      "    :Attribute Information:\n",
      "        - radius (mean of distances from center to points on the perimeter)\n",
      "        - texture (standard deviation of gray-scale values)\n",
      "        - perimeter\n",
      "        - area\n",
      "        - smoothness (local variation in radius lengths)\n",
      "        - compactness (perimeter^2 / area - 1.0)\n",
      "        - concavity (severity of concave portions of the contour)\n",
      "        - concave points (number of concave portions of the contour)\n",
      "        - symmetry\n",
      "        - fractal dimension (\"coastline approximation\" - 1)\n",
      "\n",
      "        The mean, standard error, and \"worst\" or largest (mean of the three\n",
      "        worst/largest values) of these features were computed for each image,\n",
      "        resulting in 30 features.  For instance, field 0 is Mean Radius, field\n",
      "        10 is Radius SE, field 20 is Worst Radius.\n",
      "\n",
      "        - class:\n",
      "                - WDBC-Malignant\n",
      "                - WDBC-Benign\n",
      "\n",
      "    :Summary Statistics:\n",
      "\n",
      "    ===================================== ====== ======\n",
      "                                           Min    Max\n",
      "    ===================================== ====== ======\n",
      "    radius (mean):                        6.981  28.11\n",
      "    texture (mean):                       9.71   39.28\n",
      "    perimeter (mean):                     43.79  188.5\n",
      "    area (mean):                          143.5  2501.0\n",
      "    smoothness (mean):                    0.053  0.163\n",
      "    compactness (mean):                   0.019  0.345\n",
      "    concavity (mean):                     0.0    0.427\n",
      "    concave points (mean):                0.0    0.201\n",
      "    symmetry (mean):                      0.106  0.304\n",
      "    fractal dimension (mean):             0.05   0.097\n",
      "    radius (standard error):              0.112  2.873\n",
      "    texture (standard error):             0.36   4.885\n",
      "    perimeter (standard error):           0.757  21.98\n",
      "    area (standard error):                6.802  542.2\n",
      "    smoothness (standard error):          0.002  0.031\n",
      "    compactness (standard error):         0.002  0.135\n",
      "    concavity (standard error):           0.0    0.396\n",
      "    concave points (standard error):      0.0    0.053\n",
      "    symmetry (standard error):            0.008  0.079\n",
      "    fractal dimension (standard error):   0.001  0.03\n",
      "    radius (worst):                       7.93   36.04\n",
      "    texture (worst):                      12.02  49.54\n",
      "    perimeter (worst):                    50.41  251.2\n",
      "    area (worst):                         185.2  4254.0\n",
      "    smoothness (worst):                   0.071  0.223\n",
      "    compactness (worst):                  0.027  1.058\n",
      "    concavity (worst):                    0.0    1.252\n",
      "    concave points (worst):               0.0    0.291\n",
      "    symmetry (worst):                     0.156  0.664\n",
      "    fractal dimension (worst):            0.055  0.208\n",
      "    ===================================== ====== ======\n",
      "\n",
      "    :Missing Attribute Values: None\n",
      "\n",
      "    :Class Distribution: 212 - Malignant, 357 - Benign\n",
      "\n",
      "    :Creator:  Dr. William H. Wolberg, W. Nick Street, Olvi L. Mangasarian\n",
      "\n",
      "    :Donor: Nick Street\n",
      "\n",
      "    :Date: November, 1995\n",
      "\n",
      "This is a copy of UCI ML Breast Cancer Wisconsin (Diagnostic) datasets.\n",
      "https://goo.gl/U2Uwz2\n",
      "\n",
      "Features are computed from a digitized image of a fine needle\n",
      "aspirate (FNA) of a breast mass.  They describe\n",
      "characteristics of the cell nuclei present in the image.\n",
      "\n",
      "Separating plane described above was obtained using\n",
      "Multisurface Method-Tree (MSM-T) [K. P. Bennett, \"Decision Tree\n",
      "Construction Via Linear Programming.\" Proceedings of the 4th\n",
      "Midwest Artificial Intelligence and Cognitive Science Society,\n",
      "pp. 97-101, 1992], a classification method which uses linear\n",
      "programming to construct a decision tree.  Relevant features\n",
      "were selected using an exhaustive search in the space of 1-4\n",
      "features and 1-3 separating planes.\n",
      "\n",
      "The actual linear program used to obtain the separating plane\n",
      "in the 3-dimensional space is that described in:\n",
      "[K. P. Bennett and O. L. Mangasarian: \"Robust Linear\n",
      "Programming Discrimination of Two Linearly Inseparable Sets\",\n",
      "Optimization Methods and Software 1, 1992, 23-34].\n",
      "\n",
      "This database is also available through the UW CS ftp server:\n",
      "\n",
      "ftp ftp.cs.wisc.edu\n",
      "cd math-prog/cpo-dataset/machine-learn/WDBC/\n",
      "\n",
      ".. topic:: References\n",
      "\n",
      "   - W.N. Street, W.H. Wolberg and O.L. Mangasarian. Nuclear feature extraction \n",
      "     for breast tumor diagnosis. IS&T/SPIE 1993 International Symposium on \n",
      "     Electronic Imaging: Science and Technology, volume 1905, pages 861-870,\n",
      "     San Jose, CA, 1993.\n",
      "   - O.L. Mangasarian, W.N. Street and W.H. Wolberg. Breast cancer diagnosis and \n",
      "     prognosis via linear programming. Operations Research, 43(4), pages 570-577, \n",
      "     July-August 1995.\n",
      "   - W.H. Wolberg, W.N. Street, and O.L. Mangasarian. Machine learning techniques\n",
      "     to diagnose breast cancer from fine-needle aspirates. Cancer Letters 77 (1994) \n",
      "     163-171.\n"
     ]
    }
   ],
   "source": [
    "print(cancer['DESCR'])"
   ]
  },
  {
   "cell_type": "code",
   "execution_count": 71,
   "id": "02f2fc36",
   "metadata": {},
   "outputs": [
    {
     "data": {
      "text/plain": [
       "dict_keys(['data', 'target', 'frame', 'target_names', 'DESCR', 'feature_names', 'filename'])"
      ]
     },
     "execution_count": 71,
     "metadata": {},
     "output_type": "execute_result"
    }
   ],
   "source": [
    "cancer.keys()"
   ]
  },
  {
   "cell_type": "code",
   "execution_count": 72,
   "id": "e857a5c7",
   "metadata": {},
   "outputs": [
    {
     "data": {
      "text/html": [
       "<div>\n",
       "<style scoped>\n",
       "    .dataframe tbody tr th:only-of-type {\n",
       "        vertical-align: middle;\n",
       "    }\n",
       "\n",
       "    .dataframe tbody tr th {\n",
       "        vertical-align: top;\n",
       "    }\n",
       "\n",
       "    .dataframe thead th {\n",
       "        text-align: right;\n",
       "    }\n",
       "</style>\n",
       "<table border=\"1\" class=\"dataframe\">\n",
       "  <thead>\n",
       "    <tr style=\"text-align: right;\">\n",
       "      <th></th>\n",
       "      <th>mean radius</th>\n",
       "      <th>mean texture</th>\n",
       "      <th>mean perimeter</th>\n",
       "      <th>mean area</th>\n",
       "      <th>mean smoothness</th>\n",
       "      <th>mean compactness</th>\n",
       "      <th>mean concavity</th>\n",
       "      <th>mean concave points</th>\n",
       "      <th>mean symmetry</th>\n",
       "      <th>mean fractal dimension</th>\n",
       "      <th>...</th>\n",
       "      <th>worst radius</th>\n",
       "      <th>worst texture</th>\n",
       "      <th>worst perimeter</th>\n",
       "      <th>worst area</th>\n",
       "      <th>worst smoothness</th>\n",
       "      <th>worst compactness</th>\n",
       "      <th>worst concavity</th>\n",
       "      <th>worst concave points</th>\n",
       "      <th>worst symmetry</th>\n",
       "      <th>worst fractal dimension</th>\n",
       "    </tr>\n",
       "  </thead>\n",
       "  <tbody>\n",
       "    <tr>\n",
       "      <th>0</th>\n",
       "      <td>17.99</td>\n",
       "      <td>10.38</td>\n",
       "      <td>122.8</td>\n",
       "      <td>1001.0</td>\n",
       "      <td>0.11840</td>\n",
       "      <td>0.27760</td>\n",
       "      <td>0.3001</td>\n",
       "      <td>0.14710</td>\n",
       "      <td>0.2419</td>\n",
       "      <td>0.07871</td>\n",
       "      <td>...</td>\n",
       "      <td>25.38</td>\n",
       "      <td>17.33</td>\n",
       "      <td>184.6</td>\n",
       "      <td>2019.0</td>\n",
       "      <td>0.1622</td>\n",
       "      <td>0.6656</td>\n",
       "      <td>0.7119</td>\n",
       "      <td>0.2654</td>\n",
       "      <td>0.4601</td>\n",
       "      <td>0.11890</td>\n",
       "    </tr>\n",
       "    <tr>\n",
       "      <th>1</th>\n",
       "      <td>20.57</td>\n",
       "      <td>17.77</td>\n",
       "      <td>132.9</td>\n",
       "      <td>1326.0</td>\n",
       "      <td>0.08474</td>\n",
       "      <td>0.07864</td>\n",
       "      <td>0.0869</td>\n",
       "      <td>0.07017</td>\n",
       "      <td>0.1812</td>\n",
       "      <td>0.05667</td>\n",
       "      <td>...</td>\n",
       "      <td>24.99</td>\n",
       "      <td>23.41</td>\n",
       "      <td>158.8</td>\n",
       "      <td>1956.0</td>\n",
       "      <td>0.1238</td>\n",
       "      <td>0.1866</td>\n",
       "      <td>0.2416</td>\n",
       "      <td>0.1860</td>\n",
       "      <td>0.2750</td>\n",
       "      <td>0.08902</td>\n",
       "    </tr>\n",
       "    <tr>\n",
       "      <th>2</th>\n",
       "      <td>19.69</td>\n",
       "      <td>21.25</td>\n",
       "      <td>130.0</td>\n",
       "      <td>1203.0</td>\n",
       "      <td>0.10960</td>\n",
       "      <td>0.15990</td>\n",
       "      <td>0.1974</td>\n",
       "      <td>0.12790</td>\n",
       "      <td>0.2069</td>\n",
       "      <td>0.05999</td>\n",
       "      <td>...</td>\n",
       "      <td>23.57</td>\n",
       "      <td>25.53</td>\n",
       "      <td>152.5</td>\n",
       "      <td>1709.0</td>\n",
       "      <td>0.1444</td>\n",
       "      <td>0.4245</td>\n",
       "      <td>0.4504</td>\n",
       "      <td>0.2430</td>\n",
       "      <td>0.3613</td>\n",
       "      <td>0.08758</td>\n",
       "    </tr>\n",
       "  </tbody>\n",
       "</table>\n",
       "<p>3 rows × 30 columns</p>\n",
       "</div>"
      ],
      "text/plain": [
       "   mean radius  mean texture  mean perimeter  mean area  mean smoothness  \\\n",
       "0        17.99         10.38           122.8     1001.0          0.11840   \n",
       "1        20.57         17.77           132.9     1326.0          0.08474   \n",
       "2        19.69         21.25           130.0     1203.0          0.10960   \n",
       "\n",
       "   mean compactness  mean concavity  mean concave points  mean symmetry  \\\n",
       "0           0.27760          0.3001              0.14710         0.2419   \n",
       "1           0.07864          0.0869              0.07017         0.1812   \n",
       "2           0.15990          0.1974              0.12790         0.2069   \n",
       "\n",
       "   mean fractal dimension  ...  worst radius  worst texture  worst perimeter  \\\n",
       "0                 0.07871  ...         25.38          17.33            184.6   \n",
       "1                 0.05667  ...         24.99          23.41            158.8   \n",
       "2                 0.05999  ...         23.57          25.53            152.5   \n",
       "\n",
       "   worst area  worst smoothness  worst compactness  worst concavity  \\\n",
       "0      2019.0            0.1622             0.6656           0.7119   \n",
       "1      1956.0            0.1238             0.1866           0.2416   \n",
       "2      1709.0            0.1444             0.4245           0.4504   \n",
       "\n",
       "   worst concave points  worst symmetry  worst fractal dimension  \n",
       "0                0.2654          0.4601                  0.11890  \n",
       "1                0.1860          0.2750                  0.08902  \n",
       "2                0.2430          0.3613                  0.08758  \n",
       "\n",
       "[3 rows x 30 columns]"
      ]
     },
     "execution_count": 72,
     "metadata": {},
     "output_type": "execute_result"
    }
   ],
   "source": [
    "df = pd.DataFrame(cancer.data, columns = cancer.feature_names)\n",
    "df.head(3)"
   ]
  },
  {
   "cell_type": "code",
   "execution_count": 73,
   "id": "83221589",
   "metadata": {},
   "outputs": [
    {
     "data": {
      "text/plain": [
       "(569, 30)"
      ]
     },
     "execution_count": 73,
     "metadata": {},
     "output_type": "execute_result"
    }
   ],
   "source": [
    "df.shape"
   ]
  },
  {
   "cell_type": "code",
   "execution_count": 74,
   "id": "74d3db44",
   "metadata": {},
   "outputs": [],
   "source": [
    "# instance 생성\n",
    "logistic_regression = LogisticRegression()\n",
    "knn = KNeighborsClassifier(n_neighbors=5)\n",
    "# model생성\n",
    "voting_model = VotingClassifier(estimators=[('LogisticRegression',logistic_regression),\n",
    "                                            ('KNN',knn)], voting = 'soft')\n",
    "## 적용할 학습알고리즘, dict형이라 튜플로 담아야함"
   ]
  },
  {
   "cell_type": "code",
   "execution_count": 75,
   "id": "78bbf70b",
   "metadata": {},
   "outputs": [],
   "source": [
    "# 데이터 세트 분리(X: 독립변수, ㅛ: 종속변수)\n",
    "X_train, X_test, y_train, y_test = train_test_split(\n",
    "cancer.data, cancer.target, test_size=0.2, random_state=156)"
   ]
  },
  {
   "cell_type": "code",
   "execution_count": 76,
   "id": "ec20c31c",
   "metadata": {},
   "outputs": [],
   "source": [
    "# fitting\n",
    "voting_model.fit(X_train, y_train)\n",
    "# 예측\n",
    "pred = voting_model.predict(X_test)"
   ]
  },
  {
   "cell_type": "code",
   "execution_count": 77,
   "id": "e1418269",
   "metadata": {},
   "outputs": [
    {
     "name": "stdout",
     "output_type": "stream",
     "text": [
      "보팅분류기 정확도: 0.947\n"
     ]
    }
   ],
   "source": [
    "print('보팅분류기 정확도:', round(accuracy_score(y_test, pred),3)) # 순서는 상관없음."
   ]
  },
  {
   "cell_type": "code",
   "execution_count": 78,
   "id": "29274f82",
   "metadata": {},
   "outputs": [
    {
     "name": "stdout",
     "output_type": "stream",
     "text": [
      "LogisticRegression 정확도 : 0.939\n",
      "KNeighborsClassifier 정확도 : 0.904\n"
     ]
    }
   ],
   "source": [
    "# 개별 모델의 학습과 예측, 평가\n",
    "classifier = [logistic_regression, knn] \n",
    "\n",
    "for model in classifier:\n",
    "    model.fit(X_train, y_train)\n",
    "    predic = model.predict(X_test)\n",
    "    model_name = model.__class__.__name__\n",
    "    print('{} 정확도 : {:.3f}'.format(model_name, accuracy_score(y_test, predic)))"
   ]
  },
  {
   "cell_type": "markdown",
   "id": "9c7fbc45",
   "metadata": {},
   "source": [
    "## 랜덤포레스트(RandomForest)\n",
    "- 간결하고 직관적임.\n",
    "- 비교적 빠른 속도, 다양한 분야에서 좋은 성능을 나타내서\n",
    "- 정형화된 데이터에서 가장 많이 사용됨\n",
    "- 단점 : 하이퍼파라미터 튜닝에 시간이 오래걸리고, 데이터양이 방대하다면 고민해봐야함\n",
    "- 교차검증과 유사 (교차검증은 중복을 허용하지 않음)"
   ]
  },
  {
   "cell_type": "code",
   "execution_count": 79,
   "id": "7b102b4f",
   "metadata": {},
   "outputs": [],
   "source": [
    "wine = pd.read_csv('http://raw.githubusercontent.com/rickiepark/hg-mldl/master/wine.csv')"
   ]
  },
  {
   "cell_type": "code",
   "execution_count": 80,
   "id": "6287eafb",
   "metadata": {},
   "outputs": [],
   "source": [
    "data = wine.drop(['class'], axis=1, inplace=False).to_numpy()\n",
    "target = wine['class'].to_numpy()"
   ]
  },
  {
   "cell_type": "code",
   "execution_count": 81,
   "id": "349676b1",
   "metadata": {},
   "outputs": [],
   "source": [
    "train_input, test_input, train_target, test_target = train_test_split(\n",
    "data, target, test_size=0.2, random_state=42)"
   ]
  },
  {
   "cell_type": "code",
   "execution_count": 82,
   "id": "fa331dd0",
   "metadata": {},
   "outputs": [
    {
     "name": "stdout",
     "output_type": "stream",
     "text": [
      "0.9973541965122431 0.8905151032797809\n"
     ]
    }
   ],
   "source": [
    "# 교차검증\n",
    "from sklearn.model_selection import cross_validate\n",
    "from sklearn.ensemble import RandomForestClassifier\n",
    "\n",
    "# instance 생성\n",
    "## n_jobs=-1, cpu가 제공하는 코어를 다써야함(기본 트리가 100개여서)\n",
    "rf = RandomForestClassifier(n_jobs=-1, random_state=42)\n",
    "\n",
    "# 정확도 값의 평균을 사용\n",
    "# 생성된 정확도를 담을변수 생성( 100개여서 정확도도 그정도나옴)\n",
    "## return_train_score = F(기본), T = 테스트세트의 점수도 함꼐 뛰우겠다는 것\n",
    "scores = cross_validate(rf, train_input, train_target, return_train_score=True)\n",
    "\n",
    "print(np.mean(scores['train_score']), np.mean(scores['test_score'])) # F시 test만 뜸"
   ]
  },
  {
   "cell_type": "markdown",
   "id": "a393ce3a",
   "metadata": {},
   "source": [
    "- 과대 적합 양상을 보이니, 트리의 하이퍼 파라미터를 조정하여 낮출 수 있음\n",
    "- 원본 와인데이터를 이용하면 해당 사항을 없앨수 있을까?\n",
    "- 각각 트리의 특성중요도를 취합하여 평균값을 출력해줌.\n",
    " - 랜덤 포레스트는 모든 특성을 골고루 사용하는 편임.\n",
    "- 자기 스스로를 평가하여 점수를 반환하기도 함\n",
    "- 샘플 추출하여 트리의 데이터를 만들때 중복을 허용함(부트스트랩 샘플)\n",
    "- 그럼에도 부트스트랩에서 사용되지 않는 샘플이 있음.(oob, out of bag)-검증세트로 뺴둔 느낌\n",
    " - -> oob를 가지고 트리 평가가 가능함.샘플 추출하여 트리의 데이터를 만들때 중복을 허용함(부트스트랩 샘플)\n",
    " - 그럼에도 부트스트랩에서 사용되지 않는 샘플이 있음.(oob, out of bag)-검증세트로 뺴둔 느낌\n",
    " - -> oob를 가지고 트리 평가가 가능함."
   ]
  },
  {
   "cell_type": "code",
   "execution_count": 83,
   "id": "a8ea0a33",
   "metadata": {},
   "outputs": [
    {
     "name": "stdout",
     "output_type": "stream",
     "text": [
      "특성중요도 : [0.23167441 0.50039841 0.26792718]\n"
     ]
    }
   ],
   "source": [
    "# 특성 중요도\n",
    "rf.fit(train_input, train_target)\n",
    "\n",
    "print('특성중요도 :', rf.feature_importances_)"
   ]
  },
  {
   "cell_type": "code",
   "execution_count": 84,
   "id": "4fa3ba27",
   "metadata": {},
   "outputs": [
    {
     "name": "stdout",
     "output_type": "stream",
     "text": [
      "자기평가 점수 : 0.8934000384837406\n"
     ]
    }
   ],
   "source": [
    "# OOB(Out of Bag)샘플 : 부트스트랩 샘플에 포함되지 않고 남는 샘플(마치 검증세트 처럼)\n",
    "rf = RandomForestClassifier(n_jobs=-1, random_state=42, oob_score=True) # 기본은 F\n",
    "rf.fit(train_input, train_target)\n",
    "\n",
    "print('자기평가 점수 :', rf.oob_score_) "
   ]
  },
  {
   "cell_type": "markdown",
   "id": "0605c4a6",
   "metadata": {},
   "source": [
    "## 실전예제_car\n",
    "- 중고차 가격 예측을 위한 data(해외 중고차 거래 데이터셋)\n",
    "https://media.githubusercontent.com/media/musthave-ML10/data_source/main/car.csv\n",
    "\n",
    "1. 알고리즘 : 랜덤포레스트(Randomforest)\n",
    "2. 데이터 셋 : 해외 중고차 거래 데이터셋\n",
    "3. 데이터 셋 소개 : 종속변수(selling_price), 독립변수()\n",
    " - 중고차 판매이력을 수집한 데이터세트\n",
    "4. 문제유형 : 회귀\n",
    "5. 평가지표 : RMSE\n",
    "6. 사용 모델 : RandomForestRegressor\n",
    "7. 사용 라이브러리 __version__"
   ]
  },
  {
   "cell_type": "code",
   "execution_count": 5,
   "id": "b52eb86a",
   "metadata": {},
   "outputs": [],
   "source": [
    "# car데이터 로딩\n",
    "data = pd.read_csv('https://media.githubusercontent.com/media/musthave-ML10/data_source/main/car.csv')"
   ]
  },
  {
   "cell_type": "code",
   "execution_count": 6,
   "id": "690c5f89",
   "metadata": {},
   "outputs": [
    {
     "data": {
      "text/html": [
       "<div>\n",
       "<style scoped>\n",
       "    .dataframe tbody tr th:only-of-type {\n",
       "        vertical-align: middle;\n",
       "    }\n",
       "\n",
       "    .dataframe tbody tr th {\n",
       "        vertical-align: top;\n",
       "    }\n",
       "\n",
       "    .dataframe thead th {\n",
       "        text-align: right;\n",
       "    }\n",
       "</style>\n",
       "<table border=\"1\" class=\"dataframe\">\n",
       "  <thead>\n",
       "    <tr style=\"text-align: right;\">\n",
       "      <th></th>\n",
       "      <th>name</th>\n",
       "      <th>year</th>\n",
       "      <th>selling_price</th>\n",
       "      <th>km_driven</th>\n",
       "      <th>fuel</th>\n",
       "      <th>seller_type</th>\n",
       "      <th>transmission</th>\n",
       "      <th>owner</th>\n",
       "      <th>mileage</th>\n",
       "      <th>engine</th>\n",
       "      <th>max_power</th>\n",
       "      <th>torque</th>\n",
       "      <th>seats</th>\n",
       "    </tr>\n",
       "  </thead>\n",
       "  <tbody>\n",
       "    <tr>\n",
       "      <th>3442</th>\n",
       "      <td>Chevrolet Sail Hatchback Petrol LS ABS</td>\n",
       "      <td>2013</td>\n",
       "      <td>120000</td>\n",
       "      <td>110000</td>\n",
       "      <td>Petrol</td>\n",
       "      <td>Individual</td>\n",
       "      <td>Manual</td>\n",
       "      <td>Second Owner</td>\n",
       "      <td>18.2 kmpl</td>\n",
       "      <td>1199 CC</td>\n",
       "      <td>84.8 bhp</td>\n",
       "      <td>113Nm@ 5000rpm</td>\n",
       "      <td>5.0</td>\n",
       "    </tr>\n",
       "    <tr>\n",
       "      <th>4952</th>\n",
       "      <td>Audi A6 35 TFSI Matrix</td>\n",
       "      <td>2019</td>\n",
       "      <td>6523000</td>\n",
       "      <td>23600</td>\n",
       "      <td>Petrol</td>\n",
       "      <td>Dealer</td>\n",
       "      <td>Automatic</td>\n",
       "      <td>Test Drive Car</td>\n",
       "      <td>15.26 kmpl</td>\n",
       "      <td>1798 CC</td>\n",
       "      <td>187.74 bhp</td>\n",
       "      <td>320Nm@ 1400-4100rpm</td>\n",
       "      <td>5.0</td>\n",
       "    </tr>\n",
       "    <tr>\n",
       "      <th>5054</th>\n",
       "      <td>Maruti A-Star Vxi</td>\n",
       "      <td>2009</td>\n",
       "      <td>300000</td>\n",
       "      <td>60000</td>\n",
       "      <td>Petrol</td>\n",
       "      <td>Individual</td>\n",
       "      <td>Manual</td>\n",
       "      <td>First Owner</td>\n",
       "      <td>19.0 kmpl</td>\n",
       "      <td>998 CC</td>\n",
       "      <td>66.1 bhp</td>\n",
       "      <td>90Nm@ 3500rpm</td>\n",
       "      <td>5.0</td>\n",
       "    </tr>\n",
       "  </tbody>\n",
       "</table>\n",
       "</div>"
      ],
      "text/plain": [
       "                                        name  year  selling_price  km_driven  \\\n",
       "3442  Chevrolet Sail Hatchback Petrol LS ABS  2013         120000     110000   \n",
       "4952                  Audi A6 35 TFSI Matrix  2019        6523000      23600   \n",
       "5054                       Maruti A-Star Vxi  2009         300000      60000   \n",
       "\n",
       "        fuel seller_type transmission           owner     mileage   engine  \\\n",
       "3442  Petrol  Individual       Manual    Second Owner   18.2 kmpl  1199 CC   \n",
       "4952  Petrol      Dealer    Automatic  Test Drive Car  15.26 kmpl  1798 CC   \n",
       "5054  Petrol  Individual       Manual     First Owner   19.0 kmpl   998 CC   \n",
       "\n",
       "       max_power               torque  seats  \n",
       "3442    84.8 bhp       113Nm@ 5000rpm    5.0  \n",
       "4952  187.74 bhp  320Nm@ 1400-4100rpm    5.0  \n",
       "5054    66.1 bhp        90Nm@ 3500rpm    5.0  "
      ]
     },
     "execution_count": 6,
     "metadata": {},
     "output_type": "execute_result"
    }
   ],
   "source": [
    "data.sample(3)"
   ]
  },
  {
   "cell_type": "markdown",
   "id": "db214f61",
   "metadata": {},
   "source": [
    "### 피쳐 탐색\n",
    "1. name : 차종\n",
    "2. year : 연식\n",
    "3. selling_price = 종속변수(판매가)\n",
    "4. km_driven = 주행거리(km)\n",
    "5. fuel : 연료\n",
    "6. seller_type : 판매자 유형\n",
    "7. transmission : 변속기\n",
    "8. owner : 소유자 이력\n",
    "9. mileage : km당 연비\n",
    "10. engine : 배기량\n",
    "11. max_power : 제동 마력(최대 출력)\n",
    "12. torque : 회전력\n",
    "13. seats : 좌석수(인승)"
   ]
  },
  {
   "cell_type": "code",
   "execution_count": 7,
   "id": "a7a55e84",
   "metadata": {},
   "outputs": [
    {
     "name": "stdout",
     "output_type": "stream",
     "text": [
      "<class 'pandas.core.frame.DataFrame'>\n",
      "RangeIndex: 8128 entries, 0 to 8127\n",
      "Data columns (total 13 columns):\n",
      " #   Column         Non-Null Count  Dtype  \n",
      "---  ------         --------------  -----  \n",
      " 0   name           8128 non-null   object \n",
      " 1   year           8128 non-null   int64  \n",
      " 2   selling_price  8128 non-null   int64  \n",
      " 3   km_driven      8128 non-null   int64  \n",
      " 4   fuel           8128 non-null   object \n",
      " 5   seller_type    8128 non-null   object \n",
      " 6   transmission   8128 non-null   object \n",
      " 7   owner          8128 non-null   object \n",
      " 8   mileage        7907 non-null   object \n",
      " 9   engine         7907 non-null   object \n",
      " 10  max_power      7913 non-null   object \n",
      " 11  torque         7906 non-null   object \n",
      " 12  seats          7907 non-null   float64\n",
      "dtypes: float64(1), int64(3), object(9)\n",
      "memory usage: 825.6+ KB\n"
     ]
    }
   ],
   "source": [
    "data.info()"
   ]
  },
  {
   "cell_type": "markdown",
   "id": "9564b2a3",
   "metadata": {},
   "source": [
    "- dtype  object인 부분을 split하여서 숫자만 남긴후, asdtype('float')\n",
    "- 트리는 정규화나 이상치 처리가 필요 없음"
   ]
  },
  {
   "cell_type": "code",
   "execution_count": 8,
   "id": "0b05374a",
   "metadata": {},
   "outputs": [
    {
     "data": {
      "text/html": [
       "<div>\n",
       "<style scoped>\n",
       "    .dataframe tbody tr th:only-of-type {\n",
       "        vertical-align: middle;\n",
       "    }\n",
       "\n",
       "    .dataframe tbody tr th {\n",
       "        vertical-align: top;\n",
       "    }\n",
       "\n",
       "    .dataframe thead th {\n",
       "        text-align: right;\n",
       "    }\n",
       "</style>\n",
       "<table border=\"1\" class=\"dataframe\">\n",
       "  <thead>\n",
       "    <tr style=\"text-align: right;\">\n",
       "      <th></th>\n",
       "      <th>year</th>\n",
       "      <th>selling_price</th>\n",
       "      <th>km_driven</th>\n",
       "      <th>seats</th>\n",
       "    </tr>\n",
       "  </thead>\n",
       "  <tbody>\n",
       "    <tr>\n",
       "      <th>count</th>\n",
       "      <td>8128.00</td>\n",
       "      <td>8128.00</td>\n",
       "      <td>8128.00</td>\n",
       "      <td>7907.00</td>\n",
       "    </tr>\n",
       "    <tr>\n",
       "      <th>mean</th>\n",
       "      <td>2013.80</td>\n",
       "      <td>638271.81</td>\n",
       "      <td>69819.51</td>\n",
       "      <td>5.42</td>\n",
       "    </tr>\n",
       "    <tr>\n",
       "      <th>std</th>\n",
       "      <td>4.04</td>\n",
       "      <td>806253.40</td>\n",
       "      <td>56550.55</td>\n",
       "      <td>0.96</td>\n",
       "    </tr>\n",
       "    <tr>\n",
       "      <th>min</th>\n",
       "      <td>1983.00</td>\n",
       "      <td>29999.00</td>\n",
       "      <td>1.00</td>\n",
       "      <td>2.00</td>\n",
       "    </tr>\n",
       "    <tr>\n",
       "      <th>25%</th>\n",
       "      <td>2011.00</td>\n",
       "      <td>254999.00</td>\n",
       "      <td>35000.00</td>\n",
       "      <td>5.00</td>\n",
       "    </tr>\n",
       "    <tr>\n",
       "      <th>50%</th>\n",
       "      <td>2015.00</td>\n",
       "      <td>450000.00</td>\n",
       "      <td>60000.00</td>\n",
       "      <td>5.00</td>\n",
       "    </tr>\n",
       "    <tr>\n",
       "      <th>75%</th>\n",
       "      <td>2017.00</td>\n",
       "      <td>675000.00</td>\n",
       "      <td>98000.00</td>\n",
       "      <td>5.00</td>\n",
       "    </tr>\n",
       "    <tr>\n",
       "      <th>max</th>\n",
       "      <td>2020.00</td>\n",
       "      <td>10000000.00</td>\n",
       "      <td>2360457.00</td>\n",
       "      <td>14.00</td>\n",
       "    </tr>\n",
       "  </tbody>\n",
       "</table>\n",
       "</div>"
      ],
      "text/plain": [
       "          year  selling_price   km_driven    seats\n",
       "count  8128.00        8128.00     8128.00  7907.00\n",
       "mean   2013.80      638271.81    69819.51     5.42\n",
       "std       4.04      806253.40    56550.55     0.96\n",
       "min    1983.00       29999.00        1.00     2.00\n",
       "25%    2011.00      254999.00    35000.00     5.00\n",
       "50%    2015.00      450000.00    60000.00     5.00\n",
       "75%    2017.00      675000.00    98000.00     5.00\n",
       "max    2020.00    10000000.00  2360457.00    14.00"
      ]
     },
     "execution_count": 8,
     "metadata": {},
     "output_type": "execute_result"
    }
   ],
   "source": [
    "round(data.describe(),2)"
   ]
  },
  {
   "cell_type": "markdown",
   "id": "1cc42fd8",
   "metadata": {},
   "source": [
    "### 전처리 : 텍스트 데이터 분리작업\n",
    "-  split(): 문자열 분리"
   ]
  },
  {
   "cell_type": "markdown",
   "id": "016ad220",
   "metadata": {},
   "source": [
    "#### engine"
   ]
  },
  {
   "cell_type": "code",
   "execution_count": 9,
   "id": "4eaaba6c",
   "metadata": {},
   "outputs": [],
   "source": [
    "data['engine'].str.split()\n",
    "a = data['engine'].str.split(expand=True) # 공백기준으로 문자 숫자 분리"
   ]
  },
  {
   "cell_type": "code",
   "execution_count": 10,
   "id": "e5c7d26a",
   "metadata": {},
   "outputs": [],
   "source": [
    "data[['engine','engine_unit']] = data['engine'].str.split(expand=True)"
   ]
  },
  {
   "cell_type": "code",
   "execution_count": 11,
   "id": "d9139912",
   "metadata": {},
   "outputs": [
    {
     "data": {
      "text/plain": [
       "0    1248\n",
       "1    1498\n",
       "2    1497\n",
       "3    1396\n",
       "4    1298\n",
       "Name: engine, dtype: object"
      ]
     },
     "execution_count": 11,
     "metadata": {},
     "output_type": "execute_result"
    }
   ],
   "source": [
    "data['engine'].head()"
   ]
  },
  {
   "cell_type": "code",
   "execution_count": 12,
   "id": "6c39616c",
   "metadata": {},
   "outputs": [],
   "source": [
    "data['engine'] = data['engine'].astype(float)"
   ]
  },
  {
   "cell_type": "code",
   "execution_count": 13,
   "id": "bc777751",
   "metadata": {},
   "outputs": [],
   "source": [
    "data['engine_unit'].isnull().sum()\n",
    "# 8000개 중에 200개 정도이니 제거할거임\n",
    "# 변수제거\n",
    "data.drop('engine_unit', axis=1, inplace=True)"
   ]
  },
  {
   "cell_type": "code",
   "execution_count": 14,
   "id": "61ef3e04",
   "metadata": {},
   "outputs": [
    {
     "data": {
      "text/plain": [
       "0       1248\n",
       "1       1498\n",
       "2       1497\n",
       "3       1396\n",
       "4       1298\n",
       "        ... \n",
       "8123    1197\n",
       "8124    1493\n",
       "8125    1248\n",
       "8126    1396\n",
       "8127    1396\n",
       "Name: 0, Length: 8128, dtype: object"
      ]
     },
     "execution_count": 14,
     "metadata": {},
     "output_type": "execute_result"
    }
   ],
   "source": [
    "a[0]"
   ]
  },
  {
   "cell_type": "code",
   "execution_count": 126,
   "id": "64937ecb",
   "metadata": {},
   "outputs": [],
   "source": [
    "###################### 내가 하던 중\n",
    "def data_split(feature):\n",
    "    x = feature.str.split(expand=True)\n",
    "    feature = x[0]"
   ]
  },
  {
   "cell_type": "code",
   "execution_count": 43,
   "id": "7b229bc0",
   "metadata": {
    "collapsed": true
   },
   "outputs": [
    {
     "ename": "AttributeError",
     "evalue": "'DataFrame' object has no attribute 'feature'",
     "output_type": "error",
     "traceback": [
      "\u001b[1;31m---------------------------------------------------------------------------\u001b[0m",
      "\u001b[1;31mAttributeError\u001b[0m                            Traceback (most recent call last)",
      "\u001b[1;32m~\\AppData\\Local\\Temp/ipykernel_18980/4021976864.py\u001b[0m in \u001b[0;36m<module>\u001b[1;34m\u001b[0m\n\u001b[1;32m----> 1\u001b[1;33m \u001b[0mdata_split\u001b[0m\u001b[1;33m(\u001b[0m\u001b[0mdata\u001b[0m\u001b[1;33m.\u001b[0m\u001b[0mmileage\u001b[0m\u001b[1;33m)\u001b[0m\u001b[1;33m\u001b[0m\u001b[1;33m\u001b[0m\u001b[0m\n\u001b[0m",
      "\u001b[1;32m~\\AppData\\Local\\Temp/ipykernel_18980/78949085.py\u001b[0m in \u001b[0;36mdata_split\u001b[1;34m(feature)\u001b[0m\n\u001b[0;32m      1\u001b[0m \u001b[1;32mdef\u001b[0m \u001b[0mdata_split\u001b[0m\u001b[1;33m(\u001b[0m\u001b[0mfeature\u001b[0m\u001b[1;33m)\u001b[0m\u001b[1;33m:\u001b[0m\u001b[1;33m\u001b[0m\u001b[1;33m\u001b[0m\u001b[0m\n\u001b[1;32m----> 2\u001b[1;33m     \u001b[0mx\u001b[0m \u001b[1;33m=\u001b[0m \u001b[0mdata\u001b[0m\u001b[1;33m.\u001b[0m\u001b[0mfeature\u001b[0m\u001b[1;33m.\u001b[0m\u001b[0mstr\u001b[0m\u001b[1;33m.\u001b[0m\u001b[0msplit\u001b[0m\u001b[1;33m(\u001b[0m\u001b[0mexpand\u001b[0m\u001b[1;33m=\u001b[0m\u001b[1;32mTrue\u001b[0m\u001b[1;33m)\u001b[0m\u001b[1;33m\u001b[0m\u001b[1;33m\u001b[0m\u001b[0m\n\u001b[0m\u001b[0;32m      3\u001b[0m     \u001b[0mdata\u001b[0m\u001b[1;33m.\u001b[0m\u001b[0mfeature\u001b[0m \u001b[1;33m=\u001b[0m \u001b[0mx\u001b[0m\u001b[1;33m[\u001b[0m\u001b[1;36m0\u001b[0m\u001b[1;33m]\u001b[0m\u001b[1;33m\u001b[0m\u001b[1;33m\u001b[0m\u001b[0m\n",
      "\u001b[1;32mC:\\Anaconda3\\lib\\site-packages\\pandas\\core\\generic.py\u001b[0m in \u001b[0;36m__getattr__\u001b[1;34m(self, name)\u001b[0m\n\u001b[0;32m   5485\u001b[0m         ):\n\u001b[0;32m   5486\u001b[0m             \u001b[1;32mreturn\u001b[0m \u001b[0mself\u001b[0m\u001b[1;33m[\u001b[0m\u001b[0mname\u001b[0m\u001b[1;33m]\u001b[0m\u001b[1;33m\u001b[0m\u001b[1;33m\u001b[0m\u001b[0m\n\u001b[1;32m-> 5487\u001b[1;33m         \u001b[1;32mreturn\u001b[0m \u001b[0mobject\u001b[0m\u001b[1;33m.\u001b[0m\u001b[0m__getattribute__\u001b[0m\u001b[1;33m(\u001b[0m\u001b[0mself\u001b[0m\u001b[1;33m,\u001b[0m \u001b[0mname\u001b[0m\u001b[1;33m)\u001b[0m\u001b[1;33m\u001b[0m\u001b[1;33m\u001b[0m\u001b[0m\n\u001b[0m\u001b[0;32m   5488\u001b[0m \u001b[1;33m\u001b[0m\u001b[0m\n\u001b[0;32m   5489\u001b[0m     \u001b[1;32mdef\u001b[0m \u001b[0m__setattr__\u001b[0m\u001b[1;33m(\u001b[0m\u001b[0mself\u001b[0m\u001b[1;33m,\u001b[0m \u001b[0mname\u001b[0m\u001b[1;33m:\u001b[0m \u001b[0mstr\u001b[0m\u001b[1;33m,\u001b[0m \u001b[0mvalue\u001b[0m\u001b[1;33m)\u001b[0m \u001b[1;33m->\u001b[0m \u001b[1;32mNone\u001b[0m\u001b[1;33m:\u001b[0m\u001b[1;33m\u001b[0m\u001b[1;33m\u001b[0m\u001b[0m\n",
      "\u001b[1;31mAttributeError\u001b[0m: 'DataFrame' object has no attribute 'feature'"
     ]
    }
   ],
   "source": [
    "data_split(data.mileage)"
   ]
  },
  {
   "cell_type": "code",
   "execution_count": 41,
   "id": "3bf2ef47",
   "metadata": {
    "collapsed": true
   },
   "outputs": [
    {
     "ename": "AttributeError",
     "evalue": "'DataFrame' object has no attribute 'feature'",
     "output_type": "error",
     "traceback": [
      "\u001b[1;31m---------------------------------------------------------------------------\u001b[0m",
      "\u001b[1;31mAttributeError\u001b[0m                            Traceback (most recent call last)",
      "\u001b[1;32m~\\AppData\\Local\\Temp/ipykernel_18980/2799212812.py\u001b[0m in \u001b[0;36m<module>\u001b[1;34m\u001b[0m\n\u001b[0;32m      2\u001b[0m \u001b[1;33m\u001b[0m\u001b[0m\n\u001b[0;32m      3\u001b[0m \u001b[1;32mfor\u001b[0m \u001b[0mi\u001b[0m \u001b[1;32min\u001b[0m \u001b[0mfeatures\u001b[0m\u001b[1;33m:\u001b[0m\u001b[1;33m\u001b[0m\u001b[1;33m\u001b[0m\u001b[0m\n\u001b[1;32m----> 4\u001b[1;33m     \u001b[0mdata_split\u001b[0m\u001b[1;33m(\u001b[0m\u001b[0mi\u001b[0m\u001b[1;33m)\u001b[0m\u001b[1;33m\u001b[0m\u001b[1;33m\u001b[0m\u001b[0m\n\u001b[0m",
      "\u001b[1;32m~\\AppData\\Local\\Temp/ipykernel_18980/78949085.py\u001b[0m in \u001b[0;36mdata_split\u001b[1;34m(feature)\u001b[0m\n\u001b[0;32m      1\u001b[0m \u001b[1;32mdef\u001b[0m \u001b[0mdata_split\u001b[0m\u001b[1;33m(\u001b[0m\u001b[0mfeature\u001b[0m\u001b[1;33m)\u001b[0m\u001b[1;33m:\u001b[0m\u001b[1;33m\u001b[0m\u001b[1;33m\u001b[0m\u001b[0m\n\u001b[1;32m----> 2\u001b[1;33m     \u001b[0mx\u001b[0m \u001b[1;33m=\u001b[0m \u001b[0mdata\u001b[0m\u001b[1;33m.\u001b[0m\u001b[0mfeature\u001b[0m\u001b[1;33m.\u001b[0m\u001b[0mstr\u001b[0m\u001b[1;33m.\u001b[0m\u001b[0msplit\u001b[0m\u001b[1;33m(\u001b[0m\u001b[0mexpand\u001b[0m\u001b[1;33m=\u001b[0m\u001b[1;32mTrue\u001b[0m\u001b[1;33m)\u001b[0m\u001b[1;33m\u001b[0m\u001b[1;33m\u001b[0m\u001b[0m\n\u001b[0m\u001b[0;32m      3\u001b[0m     \u001b[0mdata\u001b[0m\u001b[1;33m.\u001b[0m\u001b[0mfeature\u001b[0m \u001b[1;33m=\u001b[0m \u001b[0mx\u001b[0m\u001b[1;33m[\u001b[0m\u001b[1;36m0\u001b[0m\u001b[1;33m]\u001b[0m\u001b[1;33m\u001b[0m\u001b[1;33m\u001b[0m\u001b[0m\n",
      "\u001b[1;32mC:\\Anaconda3\\lib\\site-packages\\pandas\\core\\generic.py\u001b[0m in \u001b[0;36m__getattr__\u001b[1;34m(self, name)\u001b[0m\n\u001b[0;32m   5485\u001b[0m         ):\n\u001b[0;32m   5486\u001b[0m             \u001b[1;32mreturn\u001b[0m \u001b[0mself\u001b[0m\u001b[1;33m[\u001b[0m\u001b[0mname\u001b[0m\u001b[1;33m]\u001b[0m\u001b[1;33m\u001b[0m\u001b[1;33m\u001b[0m\u001b[0m\n\u001b[1;32m-> 5487\u001b[1;33m         \u001b[1;32mreturn\u001b[0m \u001b[0mobject\u001b[0m\u001b[1;33m.\u001b[0m\u001b[0m__getattribute__\u001b[0m\u001b[1;33m(\u001b[0m\u001b[0mself\u001b[0m\u001b[1;33m,\u001b[0m \u001b[0mname\u001b[0m\u001b[1;33m)\u001b[0m\u001b[1;33m\u001b[0m\u001b[1;33m\u001b[0m\u001b[0m\n\u001b[0m\u001b[0;32m   5488\u001b[0m \u001b[1;33m\u001b[0m\u001b[0m\n\u001b[0;32m   5489\u001b[0m     \u001b[1;32mdef\u001b[0m \u001b[0m__setattr__\u001b[0m\u001b[1;33m(\u001b[0m\u001b[0mself\u001b[0m\u001b[1;33m,\u001b[0m \u001b[0mname\u001b[0m\u001b[1;33m:\u001b[0m \u001b[0mstr\u001b[0m\u001b[1;33m,\u001b[0m \u001b[0mvalue\u001b[0m\u001b[1;33m)\u001b[0m \u001b[1;33m->\u001b[0m \u001b[1;32mNone\u001b[0m\u001b[1;33m:\u001b[0m\u001b[1;33m\u001b[0m\u001b[1;33m\u001b[0m\u001b[0m\n",
      "\u001b[1;31mAttributeError\u001b[0m: 'DataFrame' object has no attribute 'feature'"
     ]
    }
   ],
   "source": [
    "features = ['mileage', 'engine', 'max_power']\n",
    "\n",
    "for i in features:\n",
    "    data_split(i)\n",
    "    \n",
    "############# 여기까지"
   ]
  },
  {
   "cell_type": "markdown",
   "id": "a070c83a",
   "metadata": {},
   "source": [
    "#### mileage"
   ]
  },
  {
   "cell_type": "code",
   "execution_count": 15,
   "id": "8c99abb6",
   "metadata": {},
   "outputs": [],
   "source": [
    "data[['mileage','mileage_unit']] = data['mileage'].str.split(expand=True)"
   ]
  },
  {
   "cell_type": "code",
   "execution_count": 16,
   "id": "2ac48d78",
   "metadata": {},
   "outputs": [],
   "source": [
    "data['mileage'] = data['mileage'].astype(float)"
   ]
  },
  {
   "cell_type": "code",
   "execution_count": 17,
   "id": "b47bc2f1",
   "metadata": {},
   "outputs": [
    {
     "data": {
      "text/plain": [
       "array(['kmpl', 'km/kg', nan], dtype=object)"
      ]
     },
     "execution_count": 17,
     "metadata": {},
     "output_type": "execute_result"
    }
   ],
   "source": [
    "data['mileage_unit'].unique() # 연료에 따라 kmpl, km/kg로 나뉘겠군.."
   ]
  },
  {
   "cell_type": "code",
   "execution_count": 18,
   "id": "547b1cf6",
   "metadata": {},
   "outputs": [
    {
     "data": {
      "text/plain": [
       "array(['Diesel', 'Petrol', 'LPG', 'CNG'], dtype=object)"
      ]
     },
     "execution_count": 18,
     "metadata": {},
     "output_type": "execute_result"
    }
   ],
   "source": [
    "data['fuel'].unique()\n",
    "# 마일리지끼리 값을 비교하기가 힘드니깐 차라리 해당 마일리지에 따른 가격을 구해서 같은 값으로 변환하여..\n",
    "# 다른 연료지만 같은 비교를 위해서 확실하게 통일할 수 있는 방안을 찾아보기."
   ]
  },
  {
   "cell_type": "markdown",
   "id": "bd47cbed",
   "metadata": {},
   "source": [
    "- 연료종류가 4개\n",
    "- 다른종류의 연료로 주행거리를 비교하려면 같은 기준을 세워야한다.\n",
    " -> 연료 가격을 활용하면 어떨까? 1달러당 몇 km 주행할 수 있는지 알아보자\n",
    "  - 2022년 시점의 가격(미국 데이터)\n",
    "   - Disel\n",
    "   - Petrol\n",
    "   - LPG\n",
    "   - CNG\n",
    " -> 연료의 단위를 liter로 바꾸면 어떨까?"
   ]
  },
  {
   "cell_type": "code",
   "execution_count": 19,
   "id": "a25399dc",
   "metadata": {},
   "outputs": [],
   "source": [
    "def mile(x):\n",
    "    if x['fuel'] == 'Petrol':\n",
    "        return x['mileage']/1.048\n",
    "    elif x['fuel'] == 'Disel':\n",
    "        return x['mileage']/1.405\n",
    "    elif x['fuel'] == 'LPG':\n",
    "        return x['mileage']/3.54 \n",
    "    else:\n",
    "        return x['mileage']/2.76"
   ]
  },
  {
   "cell_type": "code",
   "execution_count": 20,
   "id": "ea515bab",
   "metadata": {},
   "outputs": [],
   "source": [
    "data['mileage'] = data.apply(mile, axis=1) # 행또는 열에 함수를 반복하고자 할때"
   ]
  },
  {
   "cell_type": "code",
   "execution_count": 21,
   "id": "991df573",
   "metadata": {},
   "outputs": [],
   "source": [
    "data.drop('mileage_unit', axis=1, inplace=True)"
   ]
  },
  {
   "cell_type": "markdown",
   "id": "26450e7e",
   "metadata": {},
   "source": [
    "####  Torque\n",
    "- 앞부분의 숫자만 추출하여 숫자형\n",
    "- 단위 스케일링(Nm)"
   ]
  },
  {
   "cell_type": "code",
   "execution_count": 22,
   "id": "f1abd66c",
   "metadata": {},
   "outputs": [
    {
     "data": {
      "text/plain": [
       "array(['190Nm@ 2000rpm', '250Nm@ 1500-2500rpm', '12.7@ 2,700(kgm@ rpm)',\n",
       "       '22.4 kgm at 1750-2750rpm', '11.5@ 4,500(kgm@ rpm)',\n",
       "       '113.75nm@ 4000rpm', '7.8@ 4,500(kgm@ rpm)', '59Nm@ 2500rpm',\n",
       "       '170Nm@ 1800-2400rpm', '160Nm@ 2000rpm', '248Nm@ 2250rpm',\n",
       "       '78Nm@ 4500rpm', nan, '84Nm@ 3500rpm', '115Nm@ 3500-3600rpm',\n",
       "       '200Nm@ 1750rpm', '62Nm@ 3000rpm', '219.7Nm@ 1500-2750rpm',\n",
       "       '114Nm@ 3500rpm', '115Nm@ 4000rpm', '69Nm@ 3500rpm',\n",
       "       '172.5Nm@ 1750rpm', '6.1kgm@ 3000rpm', '114.7Nm@ 4000rpm',\n",
       "       '60Nm@ 3500rpm', '90Nm@ 3500rpm', '151Nm@ 4850rpm',\n",
       "       '104Nm@ 4000rpm', '320Nm@ 1700-2700rpm', '250Nm@ 1750-2500rpm',\n",
       "       '145Nm@ 4600rpm', '146Nm@ 4800rpm', '343Nm@ 1400-3400rpm',\n",
       "       '200Nm@ 1400-3400rpm', '200Nm@ 1250-4000rpm',\n",
       "       '400Nm@ 2000-2500rpm', '138Nm@ 4400rpm', '360Nm@ 1200-3400rpm',\n",
       "       '200Nm@ 1200-3600rpm', '380Nm@ 1750-2500rpm', '173Nm@ 4000rpm',\n",
       "       '400Nm@ 1750-3000rpm', '400Nm@ 1400-2800rpm',\n",
       "       '200Nm@ 1750-3000rpm', '111.7Nm@ 4000rpm', '219.6Nm@ 1500-2750rpm',\n",
       "       '112Nm@ 4000rpm', '250Nm@ 1500-3000rpm', '130Nm@ 4000rpm',\n",
       "       '205Nm@ 1750-3250rpm', '280Nm@ 1350-4600rpm', '99.04Nm@ 4500rpm',\n",
       "       '77Nm@ 3500rpm', '110Nm@ 3750rpm', '153Nm@ 3800rpm',\n",
       "       '113.7Nm@ 4000rpm', '114Nm@ 4000rpm', '113Nm@ 4200rpm',\n",
       "       '101Nm@ 3000rpm', '290Nm@ 1800-2800rpm', '120Nm@ 4250rpm',\n",
       "       '250Nm@ 1500~4500rpm', '96 Nm at 3000 rpm', '360Nm@ 1750-2800rpm',\n",
       "       '135Nm@ 2500rpm', '259.8Nm@ 1900-2750rpm', '200Nm@ 1900rpm',\n",
       "       '259.9Nm@ 1900-2750rpm', '91Nm@ 4250rpm', '96.1Nm@ 3000rpm',\n",
       "       '109Nm@ 4500rpm', '400nm@ 1750-3000rpm', '202Nm@ 3600-5200rpm',\n",
       "       '430Nm@ 1750-2500rpm', '347Nm@ 4300rpm', '382nm@ 1750-2250rpm',\n",
       "       '620Nm@ 1600-2400rpm', '400Nm@ 1750-2500rpm', '250@ 1250-5000rpm',\n",
       "       '500Nm@ 1600-1800rpm', '250Nm@ 1600-3600rpm', '400Nm',\n",
       "       '550Nm@ 1750-2750rpm', '490Nm@ 1600rpm', '250 Nm at 2750 rpm',\n",
       "       '177.5Nm@ 4700rpm', '170Nm@ 1750-4000rpm', '300Nm@ 1200-4000rpm',\n",
       "       '300Nm@ 1200-1400rpm', '260Nm@ 1500-2750rpm', '213Nm@ 4500rpm',\n",
       "       '224Nm@ 4000rpm', '640Nm@ 1740rpm', '113Nm@ 4500rpm',\n",
       "       '95Nm@ 3000-4300rpm', '13.1kgm@ 4600rpm', '205Nm@ 1800-2800rpm',\n",
       "       '71Nm@ 3500rpm', '190Nm@ 1750-3000rpm', '146Nm at 4800 rpm',\n",
       "       '14.9 KGM at 3000 RPM', '115Nm@ 3200rpm', '117nm@ 4000rpm',\n",
       "       '320Nm@ 1500-3000rpm', '72Nm@ 4386rpm', '11.4 kgm at 4,000 rpm',\n",
       "       '140Nm@ 1500-4000rpm', '134Nm@ 4000rpm', '150Nm@ 4500rpm',\n",
       "       '340Nm@ 1800-3250rpm', '240Nm@ 1600-2800rpm',\n",
       "       '330Nm@ 1600-2800rpm', '12.5@ 3,500(kgm@ rpm)', '110Nm@ 4800rpm',\n",
       "       '111.8Nm@ 4000rpm', '11.8@ 3,200(kgm@ rpm)', '135.4Nm@ 2500rpm',\n",
       "       '300Nm@ 1750-2500rpm', '190.25nm@ 1750-2250rpm',\n",
       "       '140Nm@ 1800-3000rpm', '20.4@ 1400-3400(kgm@ rpm)',\n",
       "       '247Nm@ 1800-2000rpm', '223Nm@ 1600-2200rpm',\n",
       "       '180 Nm at 1440-1500rpm', '195Nm@ 1400-2200rpm',\n",
       "       '154.9Nm@ 4200rpm', '114.73Nm@ 4000rpm', '160Nm@ 1500-2750rpm',\n",
       "       '108Nm@ 4400rpm', '190.24nm@ 1750-2250rpm', '200Nm@ 2000-3500rpm',\n",
       "       '420Nm@ 1400-2600rpm', '100Nm@ 2700rpm', '51Nm@ 4000rpm',\n",
       "       '250Nm@ 1250-5300rpm', '132Nm@ 3000rpm', '350Nm@ 1500-2750rpm',\n",
       "       '218Nm@ 4200rpm', '14.9@ 3,000(kgm@ rpm)',\n",
       "       '24@ 1,900-2,750(kgm@ rpm)', '13.5@ 2,500(kgm@ rpm)',\n",
       "       '85Nm@ 3000rpm', '74.5Nm@ 4000rpm', '160Nm@ 1750rpm',\n",
       "       '180.4Nm@ 1750-2500rpm', '230Nm@ 1500-2500rpm',\n",
       "       '113.75Nm@ 4000rpm', '219.66nm@ 1500-2750rpm', '245Nm@ 1750rpm',\n",
       "       '360Nm@ 1400-3200rpm', '320Nm@ 2000rpm', '135 Nm at 2500  rpm ',\n",
       "       '24 KGM at 1900-2750 RPM', '190Nm@ 1750-2250rpm',\n",
       "       '204Nm@ 2000-2750rpm', '14.3@ 1,800-3,000(kgm@ rpm)',\n",
       "       '250nm@ 1500-2750rpm', '125Nm@ 2000rpm', '172Nm@ 4300rpm',\n",
       "       '150Nm@ 1750rpm', '102Nm@ 4000rpm', '85Nm@ 2500rpm',\n",
       "       '8.5@ 2,500(kgm@ rpm)', '180Nm@ 1440-1500rpm', '106.5Nm@ 4400rpm',\n",
       "       '108.5Nm@ 5000rpm', '350Nm@ 1750-2500rpm', '144.15nm@ 4500rpm',\n",
       "       '104Nm@ 4400rpm', '99Nm@ 4500rpm', '200Nm@ 2000rpm',\n",
       "       '280Nm@ 1800-2800rpm', '142.5Nm@ 1750rpm', '140Nm@ 4400rpm',\n",
       "       '115@ 2,500(kgm@ rpm)', '196Nm@ 5000rpm',\n",
       "       '260 Nm at 1800-2200 rpm', '9.8@ 3,000(kgm@ rpm)',\n",
       "       '209Nm@ 2000rpm', '135 Nm at 2500 rpm', '140Nm@ 4200rpm',\n",
       "       '220Nm at 1400-2600 rpm', '48Nm@ 3000rpm', '171Nm@ 1800rpm',\n",
       "       '277.5Nm@ 1700-2200rpm', '215Nm@ 3600rpm', '219.6Nm@ 1750-2750rpm',\n",
       "       '195Nm@ 1440-2200rpm', '13@ 2,500(kgm@ rpm)', '180Nm@ 2000rpm',\n",
       "       '200Nm@ 1400-2200rpm', '380Nm(38.7kgm)@ 2500rpm', '110Nm@ 4400rpm',\n",
       "       '72Nm@ 4388rpm', '263.7Nm@ 2500rpm', '320Nm@ 1600-2800rpm',\n",
       "       '25.5@ 1,500-3,000(kgm@ rpm)', '16.3@ 2,000(kgm@ rpm)',\n",
       "       '190 Nm at 1750 rpm ', '94.14Nm@ 3500rpm', '12@ 3,500(kgm@ rpm)',\n",
       "       '113Nm@ 5000rpm', '280Nm@ 2400-2800rpm', '96Nm@ 3500rpm',\n",
       "       '16@ 2,000(kgm@ rpm)', '320Nm@ 1750-3000rpm', '114.73nm@ 4000rpm',\n",
       "       '320Nm@ 1750-2500rpm', '138nm@ 4400rpm', '190Nm@ 1750rpm',\n",
       "       '789Nm@ 2250rpm', '259.87Nm@ 1900-2750rpm', '205Nm@ 1750rpm',\n",
       "       '436.39Nm@ 1800-2500rpm', '182.5Nm@ 1500-1800rpm',\n",
       "       '90.3Nm@ 4200rpm', '12.5@ 2,500(kgm@ rpm)', '215Nm@ 1750-3000rpm',\n",
       "       '215Nm@ 1750-3000', '305Nm@ 2000rpm', '540Nm@ 2000rpm',\n",
       "       '327Nm@ 2600rpm', '300Nm@ 1600-3000rpm', '620Nm@ 2000-2500rpm',\n",
       "       '450Nm@ 1600-2400rpm', '19@ 1,800(kgm@ rpm)',\n",
       "       '9.2@ 4,200(kgm@ rpm)', '145@ 4,100(kgm@ rpm)',\n",
       "       '51Nm@ 4000+/-500rpm', '110Nm@ 3000rpm', '148Nm@ 3500rpm',\n",
       "       '116Nm@ 4750rpm', '48@ 3,000+/-500(NM@ rpm)', '148Nm@ 4000rpm',\n",
       "       '222Nm@ 4300rpm', '135.3Nm@ 5000rpm', '98Nm@ 1600-3000rpm',\n",
       "       '170Nm@ 1400-4500rpm', '343Nm@ 1400-2800rpm',\n",
       "       '402Nm@ 1600-3000rpm', '113Nm@ 3300rpm', '99.07Nm@ 4500rpm',\n",
       "       '210nm@ 1600-2200rpm', '190 Nm at 1750  rpm ', '32.1kgm@ 2000rpm',\n",
       "       '224nm@ 1500-2750rpm', '400nm@ 1750-2500rpm',\n",
       "       '215Nm@ 1750-2500rpm', '25@ 1,800-2,800(kgm@ rpm)',\n",
       "       '197Nm@ 1750rpm', '136.3Nm@ 4200rpm', '470Nm@ 1750-2500rpm',\n",
       "       '11@ 3,000(kgm@ rpm)', '142Nm@ 4000rpm', '145Nm@ 4100rpm',\n",
       "       '320Nm@ 1500-2800rpm', '123Nm@ 1000-2500rpm',\n",
       "       '218Nm@ 1400-2600rpm', '510@ 1600-2400', '220Nm@ 1500-2750rpm',\n",
       "       '380Nm@ 2000rpm', '104Nm@ 3100rpm', '292Nm@ 2000rpm',\n",
       "       '20@ 3,750(kgm@ rpm)', '46.5@ 1,400-2,800(kgm@ rpm)',\n",
       "       '380Nm@ 2500rpm', '15@ 3,800(kgm@ rpm)', '136Nm@ 4250rpm',\n",
       "       '228Nm@ 4400rpm', '149Nm@ 4500rpm', '187Nm@ 2500rpm',\n",
       "       '146Nm@ 3400rpm', '8.6@ 3,500(kgm@ rpm)', '219.7Nm@ 1750-2750rpm',\n",
       "       '190Nm@ 2000-3000', '450Nm@ 2000rpm', '300Nm@ 2000rpm',\n",
       "       '230Nm@ 1800-2000rpm', '42@ 2,000(kgm@ rpm)',\n",
       "       '110Nm@ 3000-4300rpm', '110(11.2)@ 4800', '330Nm@ 1800rpm',\n",
       "       '225Nm@ 1500-2500rpm', '380Nm@ 1750-2750rpm',\n",
       "       '28.3@ 1,700-2,200(kgm@ rpm)', '259.88Nm@ 1900-2750rpm',\n",
       "       '580Nm@ 1400-3250rpm', '400 Nm /2000 rpm', '127Nm@ 3500rpm',\n",
       "       '300Nm@ 1500-2500rpm', '132.3Nm@ 4000rpm', '113nm@ 4400rpm',\n",
       "       '151NM@ 4850rpm', '153Nm@ 3750-3800rpm', '10.7@ 2,500(kgm@ rpm)',\n",
       "       '124.6Nm@ 3500rpm', '78Nm@ 3500rpm', '219.9Nm@ 1750-2750rpm',\n",
       "       '420.7Nm@ 1800-2500rpm', '130Nm@ 3000rpm', '424Nm@ 2000rpm',\n",
       "       '130@ 2500(kgm@ rpm)', '99.8Nm@ 2700rpm', '113Nm@ 4,500rpm',\n",
       "       '11.2@ 4,400(kgm@ rpm)', '240Nm@ 1850rpm', '16.1@ 4,200(kgm@ rpm)',\n",
       "       '320Nm@ 1750-2700rpm', '115Nm@ 4500rpm', '245Nm@ 4000rpm',\n",
       "       '321Nm@ 1600-2400rpm', '619Nm@ 1600-2400rpm',\n",
       "       '380Nm@ 1750-3000rpm', '560Nm@ 1500rpm', '230Nm@ 1500-2250rpm',\n",
       "       '90Nm@ 2650rpm', '260Nm@ 1800-2200rpm', '600Nm@ 2000rpm',\n",
       "       '259.87nm@ 1500-3000rpm', '16.6@ 4,500(kgm@ rpm)',\n",
       "       '219.66NM@ 1500-2750rpm', '12.5@ 3,000(kgm@ rpm)',\n",
       "       '620Nm@ 1500-2500rpm', '250Nm@ 1500-4500rpm',\n",
       "       '14.9@ 3,400(kgm@ rpm)', '25.5@ 1,900(kgm@ rpm)',\n",
       "       '33.7@ 1,800(kgm@ rpm)', '285Nm@ 2400-4000rpm',\n",
       "       '10.7@ 2,600(kgm@ rpm)', '250Nm@ 1000-2000rpm', '240Nm@ 1750rpm',\n",
       "       '226Nm@ 4400rpm', '510Nm@ 1600-2800rpm', '259.87NM@ 1500-3000rpm',\n",
       "       '155 Nm at 1600-2800 rpm', '240Nm@ 2000rpm', '103Nm@ 4500rpm',\n",
       "       '13.5@ 4,800(kgm@ rpm)', '400Nm@ 1750-2750rpm',\n",
       "       '175Nm@ 1500-4100rpm', '72.9Nm@ 2250rpm', '135.4Nm@ 2500',\n",
       "       '245Nm@ 5000rpm', '57Nm@ 2500rpm', '96Nm@ 2500rpm',\n",
       "       '215nm@ 1750-2500rpm', '10.4@ 3,200(kgm@ rpm)', '128Nm@ 3100rpm',\n",
       "       '102Nm@ 2600rpm', '131Nm@ 4400rpm', '11.4@ 4,000(kgm@ rpm)',\n",
       "       '250Nm@ 4250rpm', '343Nm@ 1600-2800rpm', '185Nm@ 1750-2750rpm',\n",
       "       '12@ 2500(kgm@ rpm)', '12.4@ 2,600(kgm@ rpm)', '170Nm@ 4200rpm',\n",
       "       '176Nm@ 1500rpm', '380NM@ 1800-2800rpm', '250Nm@ 1600-2000rpm',\n",
       "       '24.5@ 3,500-4,500(kgm@ rpm)', '22.9@ 1,950-4,700(kgm@ rpm)',\n",
       "       '113Nm@ 4400rpm', '121Nm@ 2800rpm', '210 / 1900',\n",
       "       '250Nm@ 1250-5000rpm', '400Nm@ 175-2750rpm', '350Nm@ 1500-3500rpm',\n",
       "       '175nm@ 1750-4000rpm', '115@ 2500(kgm@ rpm)', '110Nm@ 4500rpm',\n",
       "       '190Nm@ 2000-3000rpm', '106Nm@ 2200rpm',\n",
       "       '21.4@ 1,750-4,600(kgm@ rpm)', '96Nm@ 3000rpm',\n",
       "       '23.6@ 4,250(kgm@ rpm)', '11.3kgm@ 4700rpm', '450Nm@ 1750-2500rpm',\n",
       "       '35.7@ 1,750-3,000(kgm@ rpm)', '6@ 2,500(kgm@ rpm)',\n",
       "       '13.9 kgm at 4200 rpm', '320Nm@ 1400-4100rpm',\n",
       "       '150Nm@ 1700-4500rpm', '113.8Nm@ 4000rpm', '110@ 3,000(kgm@ rpm)',\n",
       "       '151Nm@ 2400rpm', '62Nm@ 2500rpm', '18@ 1,600-2,200(kgm@ rpm)',\n",
       "       '83Nm@ 3000rpm', '124.5Nm@ 3500rpm', '20@ 4,700(kgm@ rpm)',\n",
       "       '300Nm@ 1600-4000rpm', '171.6Nm@ 1500-4000rpm',\n",
       "       '21.4@ 1,900(kgm@ rpm)', '190@ 21,800(kgm@ rpm)',\n",
       "       '5.7@ 2,500(kgm@ rpm)', '88.4Nm@ 4200rpm',\n",
       "       '250 Nm at 1,500-3,000 rpm', '340nm@ 1750-3000rpm',\n",
       "       '36.6@ 1,750-2,500(kgm@ rpm)', '12.5kgm@ 3500rpm',\n",
       "       '6.1@ 3,000(kgm@ rpm)', '110Nm@ 4000rpm', '350nm@ 1800-2600rpm',\n",
       "       '175nm@ 1500-4100rpm', '4.8kgm@ 3000rpm', '355Nm@ 4500rpm',\n",
       "       '51@ 1,750-3,000(kgm@ rpm)', '119Nm@ 4250rpm',\n",
       "       '410Nm@ 1600-2800rpm', '174Nm@ 4300rpm', '99.1Nm@ 4500rpm',\n",
       "       '385Nm@ 1600-2500rpm', '180 Nm at 2000rpm', '190 Nm at 1750 rpm',\n",
       "       '53@ 2,000-2,750(kgm@ rpm)', '360Nm@ 1400-2600rpm',\n",
       "       '420Nm@ 2000rpm', '124Nm@ 3500rpm', '17.5@ 4,300(kgm@ rpm)',\n",
       "       '360Nm@ 2000rpm', '145Nm@ 3750rpm', '85Nm@ 3500rpm',\n",
       "       '190Nm@ 4200rpm', '190 Nm at 2000rpm', '13.5@ 2500(kgm@ rpm)',\n",
       "       '250nm@ 1500-3000rpm', '159.8Nm@ 1500-2750rpm', '500Nm@ 2000rpm',\n",
       "       '333Nm@ 1600-3200rpm', '400nm@ 2800rpm',\n",
       "       '33@ 2,000-2,680(kgm@ rpm)', '10.2@ 2,600(kgm@ rpm)', '480Nm',\n",
       "       '190Nm@ 4300rpm', '320Nm@ 1800-2800rpm', '380Nm@ 1750rpm',\n",
       "       '250.06nm@ 1500-2750rpm', '90nm@ 3500rpm', '190Nm@ 3700rpm',\n",
       "       '436.4Nm@ 1800-2500rpm', '96  Nm at 3000  rpm '], dtype=object)"
      ]
     },
     "execution_count": 22,
     "metadata": {},
     "output_type": "execute_result"
    }
   ],
   "source": [
    "data['torque'].unique()"
   ]
  },
  {
   "cell_type": "code",
   "execution_count": 23,
   "id": "b2a7de9f",
   "metadata": {},
   "outputs": [],
   "source": [
    "#문자를 분할하여 자르기\n",
    "data['torque'] = data['torque'].str.upper()"
   ]
  },
  {
   "cell_type": "code",
   "execution_count": 24,
   "id": "386b4193",
   "metadata": {},
   "outputs": [],
   "source": [
    "def torque_unit(x):\n",
    "    if 'NM' in str(x):\n",
    "        return 'NM'\n",
    "    elif 'KGM' in str(x):\n",
    "        return 'KGM'"
   ]
  },
  {
   "cell_type": "code",
   "execution_count": 25,
   "id": "72160098",
   "metadata": {},
   "outputs": [],
   "source": [
    "# 파생변수\n",
    "data['torque_unit'] = data['torque'].apply(torque_unit) # 앞이 시리즈여서 축을 안씀"
   ]
  },
  {
   "cell_type": "code",
   "execution_count": 26,
   "id": "cbab0f07",
   "metadata": {
    "scrolled": true
   },
   "outputs": [
    {
     "data": {
      "text/plain": [
       "array(['NM', 'KGM', None], dtype=object)"
      ]
     },
     "execution_count": 26,
     "metadata": {},
     "output_type": "execute_result"
    }
   ],
   "source": [
    "# 결측치\n",
    "data['torque_unit'].unique()"
   ]
  },
  {
   "cell_type": "code",
   "execution_count": 27,
   "id": "e35108d3",
   "metadata": {
    "scrolled": false
   },
   "outputs": [
    {
     "data": {
      "text/plain": [
       "(234, 222)"
      ]
     },
     "execution_count": 27,
     "metadata": {},
     "output_type": "execute_result"
    }
   ],
   "source": [
    "data['torque_unit'].isna().sum(), data['torque'].isna().sum()"
   ]
  },
  {
   "cell_type": "code",
   "execution_count": 28,
   "id": "b25dcc47",
   "metadata": {},
   "outputs": [],
   "source": [
    "# 토크듀닛 결측체 대체\n",
    "data['torque_unit'].fillna('NM', inplace=True)"
   ]
  },
  {
   "cell_type": "code",
   "execution_count": 29,
   "id": "2443e70e",
   "metadata": {},
   "outputs": [
    {
     "data": {
      "text/plain": [
       "array([], dtype=object)"
      ]
     },
     "execution_count": 29,
     "metadata": {},
     "output_type": "execute_result"
    }
   ],
   "source": [
    "data[data['torque_unit'].isna()]['torque'].unique()"
   ]
  },
  {
   "cell_type": "code",
   "execution_count": 30,
   "id": "2c1401cc",
   "metadata": {},
   "outputs": [
    {
     "data": {
      "text/plain": [
       "NM     7624\n",
       "KGM     504\n",
       "Name: torque_unit, dtype: int64"
      ]
     },
     "execution_count": 30,
     "metadata": {},
     "output_type": "execute_result"
    }
   ],
   "source": [
    "data['torque_unit'].value_counts() # KM으로 NA 대체"
   ]
  },
  {
   "cell_type": "code",
   "execution_count": 31,
   "id": "a29038d0",
   "metadata": {
    "collapsed": true
   },
   "outputs": [
    {
     "ename": "TypeError",
     "evalue": "drop() got an unexpected keyword argument 'how'",
     "output_type": "error",
     "traceback": [
      "\u001b[1;31m---------------------------------------------------------------------------\u001b[0m",
      "\u001b[1;31mTypeError\u001b[0m                                 Traceback (most recent call last)",
      "\u001b[1;32m~\\AppData\\Local\\Temp/ipykernel_15888/3337236211.py\u001b[0m in \u001b[0;36m<module>\u001b[1;34m\u001b[0m\n\u001b[1;32m----> 1\u001b[1;33m \u001b[0mdata\u001b[0m\u001b[1;33m[\u001b[0m\u001b[1;34m'torque'\u001b[0m\u001b[1;33m]\u001b[0m\u001b[1;33m.\u001b[0m\u001b[0mdrop\u001b[0m\u001b[1;33m(\u001b[0m\u001b[0mhow\u001b[0m\u001b[1;33m=\u001b[0m\u001b[0many\u001b[0m\u001b[1;33m,\u001b[0m \u001b[0minplace\u001b[0m\u001b[1;33m=\u001b[0m\u001b[1;32mTrue\u001b[0m\u001b[1;33m)\u001b[0m\u001b[1;33m\u001b[0m\u001b[1;33m\u001b[0m\u001b[0m\n\u001b[0m",
      "\u001b[1;32mC:\\Anaconda3\\lib\\site-packages\\pandas\\util\\_decorators.py\u001b[0m in \u001b[0;36mwrapper\u001b[1;34m(*args, **kwargs)\u001b[0m\n\u001b[0;32m    309\u001b[0m                     \u001b[0mstacklevel\u001b[0m\u001b[1;33m=\u001b[0m\u001b[0mstacklevel\u001b[0m\u001b[1;33m,\u001b[0m\u001b[1;33m\u001b[0m\u001b[1;33m\u001b[0m\u001b[0m\n\u001b[0;32m    310\u001b[0m                 )\n\u001b[1;32m--> 311\u001b[1;33m             \u001b[1;32mreturn\u001b[0m \u001b[0mfunc\u001b[0m\u001b[1;33m(\u001b[0m\u001b[1;33m*\u001b[0m\u001b[0margs\u001b[0m\u001b[1;33m,\u001b[0m \u001b[1;33m**\u001b[0m\u001b[0mkwargs\u001b[0m\u001b[1;33m)\u001b[0m\u001b[1;33m\u001b[0m\u001b[1;33m\u001b[0m\u001b[0m\n\u001b[0m\u001b[0;32m    312\u001b[0m \u001b[1;33m\u001b[0m\u001b[0m\n\u001b[0;32m    313\u001b[0m         \u001b[1;32mreturn\u001b[0m \u001b[0mwrapper\u001b[0m\u001b[1;33m\u001b[0m\u001b[1;33m\u001b[0m\u001b[0m\n",
      "\u001b[1;31mTypeError\u001b[0m: drop() got an unexpected keyword argument 'how'"
     ]
    }
   ],
   "source": [
    "data['torque'].drop(how=any, inplace=True)"
   ]
  },
  {
   "cell_type": "code",
   "execution_count": 32,
   "id": "f19d8c7c",
   "metadata": {},
   "outputs": [
    {
     "data": {
      "text/plain": [
       "name               0\n",
       "year               0\n",
       "selling_price      0\n",
       "km_driven          0\n",
       "fuel               0\n",
       "seller_type        0\n",
       "transmission       0\n",
       "owner              0\n",
       "mileage          221\n",
       "engine           221\n",
       "max_power        215\n",
       "torque           222\n",
       "seats            221\n",
       "torque_unit        0\n",
       "dtype: int64"
      ]
     },
     "execution_count": 32,
     "metadata": {},
     "output_type": "execute_result"
    }
   ],
   "source": [
    "# 결측치 대체\n",
    "## 결측값에 'NA'처리\n",
    "data.isnull().sum()"
   ]
  },
  {
   "cell_type": "code",
   "execution_count": 33,
   "id": "3bc390dc",
   "metadata": {},
   "outputs": [
    {
     "data": {
      "text/plain": [
       "0              190NM@ 2000RPM\n",
       "1         250NM@ 1500-2500RPM\n",
       "2       12.7@ 2,700(KGM@ RPM)\n",
       "3    22.4 KGM AT 1750-2750RPM\n",
       "4       11.5@ 4,500(KGM@ RPM)\n",
       "Name: torque, dtype: object"
      ]
     },
     "execution_count": 33,
     "metadata": {},
     "output_type": "execute_result"
    }
   ],
   "source": [
    "data['torque'].head()"
   ]
  },
  {
   "cell_type": "code",
   "execution_count": 34,
   "id": "28a96cb4",
   "metadata": {},
   "outputs": [
    {
     "data": {
      "text/html": [
       "<div>\n",
       "<style scoped>\n",
       "    .dataframe tbody tr th:only-of-type {\n",
       "        vertical-align: middle;\n",
       "    }\n",
       "\n",
       "    .dataframe tbody tr th {\n",
       "        vertical-align: top;\n",
       "    }\n",
       "\n",
       "    .dataframe thead th {\n",
       "        text-align: right;\n",
       "    }\n",
       "</style>\n",
       "<table border=\"1\" class=\"dataframe\">\n",
       "  <thead>\n",
       "    <tr style=\"text-align: right;\">\n",
       "      <th></th>\n",
       "      <th>0</th>\n",
       "      <th>1</th>\n",
       "      <th>2</th>\n",
       "      <th>3</th>\n",
       "      <th>4</th>\n",
       "    </tr>\n",
       "  </thead>\n",
       "  <tbody>\n",
       "    <tr>\n",
       "      <th>0</th>\n",
       "      <td>190NM@</td>\n",
       "      <td>2000RPM</td>\n",
       "      <td>None</td>\n",
       "      <td>None</td>\n",
       "      <td>None</td>\n",
       "    </tr>\n",
       "    <tr>\n",
       "      <th>1</th>\n",
       "      <td>250NM@</td>\n",
       "      <td>1500-2500RPM</td>\n",
       "      <td>None</td>\n",
       "      <td>None</td>\n",
       "      <td>None</td>\n",
       "    </tr>\n",
       "    <tr>\n",
       "      <th>2</th>\n",
       "      <td>12.7@</td>\n",
       "      <td>2,700(KGM@</td>\n",
       "      <td>RPM)</td>\n",
       "      <td>None</td>\n",
       "      <td>None</td>\n",
       "    </tr>\n",
       "    <tr>\n",
       "      <th>3</th>\n",
       "      <td>22.4</td>\n",
       "      <td>KGM</td>\n",
       "      <td>AT</td>\n",
       "      <td>1750-2750RPM</td>\n",
       "      <td>None</td>\n",
       "    </tr>\n",
       "    <tr>\n",
       "      <th>4</th>\n",
       "      <td>11.5@</td>\n",
       "      <td>4,500(KGM@</td>\n",
       "      <td>RPM)</td>\n",
       "      <td>None</td>\n",
       "      <td>None</td>\n",
       "    </tr>\n",
       "    <tr>\n",
       "      <th>...</th>\n",
       "      <td>...</td>\n",
       "      <td>...</td>\n",
       "      <td>...</td>\n",
       "      <td>...</td>\n",
       "      <td>...</td>\n",
       "    </tr>\n",
       "    <tr>\n",
       "      <th>8123</th>\n",
       "      <td>113.7NM@</td>\n",
       "      <td>4000RPM</td>\n",
       "      <td>None</td>\n",
       "      <td>None</td>\n",
       "      <td>None</td>\n",
       "    </tr>\n",
       "    <tr>\n",
       "      <th>8124</th>\n",
       "      <td>24@</td>\n",
       "      <td>1,900-2,750(KGM@</td>\n",
       "      <td>RPM)</td>\n",
       "      <td>None</td>\n",
       "      <td>None</td>\n",
       "    </tr>\n",
       "    <tr>\n",
       "      <th>8125</th>\n",
       "      <td>190NM@</td>\n",
       "      <td>2000RPM</td>\n",
       "      <td>None</td>\n",
       "      <td>None</td>\n",
       "      <td>None</td>\n",
       "    </tr>\n",
       "    <tr>\n",
       "      <th>8126</th>\n",
       "      <td>140NM@</td>\n",
       "      <td>1800-3000RPM</td>\n",
       "      <td>None</td>\n",
       "      <td>None</td>\n",
       "      <td>None</td>\n",
       "    </tr>\n",
       "    <tr>\n",
       "      <th>8127</th>\n",
       "      <td>140NM@</td>\n",
       "      <td>1800-3000RPM</td>\n",
       "      <td>None</td>\n",
       "      <td>None</td>\n",
       "      <td>None</td>\n",
       "    </tr>\n",
       "  </tbody>\n",
       "</table>\n",
       "<p>8128 rows × 5 columns</p>\n",
       "</div>"
      ],
      "text/plain": [
       "             0                 1     2             3     4\n",
       "0       190NM@           2000RPM  None          None  None\n",
       "1       250NM@      1500-2500RPM  None          None  None\n",
       "2        12.7@        2,700(KGM@  RPM)          None  None\n",
       "3         22.4               KGM    AT  1750-2750RPM  None\n",
       "4        11.5@        4,500(KGM@  RPM)          None  None\n",
       "...        ...               ...   ...           ...   ...\n",
       "8123  113.7NM@           4000RPM  None          None  None\n",
       "8124       24@  1,900-2,750(KGM@  RPM)          None  None\n",
       "8125    190NM@           2000RPM  None          None  None\n",
       "8126    140NM@      1800-3000RPM  None          None  None\n",
       "8127    140NM@      1800-3000RPM  None          None  None\n",
       "\n",
       "[8128 rows x 5 columns]"
      ]
     },
     "execution_count": 34,
     "metadata": {},
     "output_type": "execute_result"
    }
   ],
   "source": [
    "data['torque'].str.split(expand=True)"
   ]
  },
  {
   "cell_type": "code",
   "execution_count": 35,
   "id": "01e48502",
   "metadata": {},
   "outputs": [],
   "source": [
    "def split_num(x):\n",
    "    x = str(x)\n",
    "    for i, j in enumerate(x):\n",
    "        if j not in '0123456789.':\n",
    "            cut = i\n",
    "            break\n",
    "    return x[:cut]\n"
   ]
  },
  {
   "cell_type": "code",
   "execution_count": 36,
   "id": "6f6e977b",
   "metadata": {},
   "outputs": [],
   "source": [
    "data['torque']=data['torque'].apply(split_num)"
   ]
  },
  {
   "cell_type": "code",
   "execution_count": 37,
   "id": "a624615a",
   "metadata": {},
   "outputs": [],
   "source": [
    "data['torque'] = data['torque'].replace('', np.NaN)"
   ]
  },
  {
   "cell_type": "code",
   "execution_count": 38,
   "id": "8c80bb77",
   "metadata": {},
   "outputs": [],
   "source": [
    "data['torque'] = data['torque'].astype('float')"
   ]
  },
  {
   "cell_type": "code",
   "execution_count": 39,
   "id": "8a93a867",
   "metadata": {
    "scrolled": true
   },
   "outputs": [
    {
     "data": {
      "text/plain": [
       "NM     7624\n",
       "KGM     504\n",
       "Name: torque_unit, dtype: int64"
      ]
     },
     "execution_count": 39,
     "metadata": {},
     "output_type": "execute_result"
    }
   ],
   "source": [
    "data['torque_unit'].value_counts()"
   ]
  },
  {
   "cell_type": "code",
   "execution_count": 40,
   "id": "3148d8e3",
   "metadata": {},
   "outputs": [],
   "source": [
    "# torque안에 2가지의 단위가 있으니깐 해당 부분을 하나로 통일하는 함수\n",
    "def trans_nm(x):\n",
    "    if x['torque_unit'] =='KGM':\n",
    "        return x['torque'] * 9.80665\n",
    "    else:\n",
    "        return x['torque']"
   ]
  },
  {
   "cell_type": "code",
   "execution_count": null,
   "id": "f6c0c933",
   "metadata": {},
   "outputs": [],
   "source": [
    "# data[['torque','torque_unit']] = data['torque'].str.split(expand=True)"
   ]
  },
  {
   "cell_type": "code",
   "execution_count": 41,
   "id": "f539e5d9",
   "metadata": {},
   "outputs": [],
   "source": [
    "# data에 함수 적용\n",
    "data['torque'] = data.apply(trans_nm, axis = 1)"
   ]
  },
  {
   "cell_type": "code",
   "execution_count": 42,
   "id": "1440ce77",
   "metadata": {},
   "outputs": [],
   "source": [
    "# 이제 유닛은 필요없으니깐.\n",
    "data.drop('torque_unit', axis=1, inplace=True)"
   ]
  },
  {
   "cell_type": "code",
   "execution_count": 43,
   "id": "f7187288",
   "metadata": {},
   "outputs": [
    {
     "data": {
      "text/html": [
       "<div>\n",
       "<style scoped>\n",
       "    .dataframe tbody tr th:only-of-type {\n",
       "        vertical-align: middle;\n",
       "    }\n",
       "\n",
       "    .dataframe tbody tr th {\n",
       "        vertical-align: top;\n",
       "    }\n",
       "\n",
       "    .dataframe thead th {\n",
       "        text-align: right;\n",
       "    }\n",
       "</style>\n",
       "<table border=\"1\" class=\"dataframe\">\n",
       "  <thead>\n",
       "    <tr style=\"text-align: right;\">\n",
       "      <th></th>\n",
       "      <th>name</th>\n",
       "      <th>year</th>\n",
       "      <th>selling_price</th>\n",
       "      <th>km_driven</th>\n",
       "      <th>fuel</th>\n",
       "      <th>seller_type</th>\n",
       "      <th>transmission</th>\n",
       "      <th>owner</th>\n",
       "      <th>mileage</th>\n",
       "      <th>engine</th>\n",
       "      <th>max_power</th>\n",
       "      <th>torque</th>\n",
       "      <th>seats</th>\n",
       "    </tr>\n",
       "  </thead>\n",
       "  <tbody>\n",
       "    <tr>\n",
       "      <th>0</th>\n",
       "      <td>Maruti Swift Dzire VDI</td>\n",
       "      <td>2014</td>\n",
       "      <td>450000</td>\n",
       "      <td>145500</td>\n",
       "      <td>Diesel</td>\n",
       "      <td>Individual</td>\n",
       "      <td>Manual</td>\n",
       "      <td>First Owner</td>\n",
       "      <td>8.478261</td>\n",
       "      <td>1248.0</td>\n",
       "      <td>74 bhp</td>\n",
       "      <td>190.000000</td>\n",
       "      <td>5.0</td>\n",
       "    </tr>\n",
       "    <tr>\n",
       "      <th>1</th>\n",
       "      <td>Skoda Rapid 1.5 TDI Ambition</td>\n",
       "      <td>2014</td>\n",
       "      <td>370000</td>\n",
       "      <td>120000</td>\n",
       "      <td>Diesel</td>\n",
       "      <td>Individual</td>\n",
       "      <td>Manual</td>\n",
       "      <td>Second Owner</td>\n",
       "      <td>7.659420</td>\n",
       "      <td>1498.0</td>\n",
       "      <td>103.52 bhp</td>\n",
       "      <td>250.000000</td>\n",
       "      <td>5.0</td>\n",
       "    </tr>\n",
       "    <tr>\n",
       "      <th>2</th>\n",
       "      <td>Honda City 2017-2020 EXi</td>\n",
       "      <td>2006</td>\n",
       "      <td>158000</td>\n",
       "      <td>140000</td>\n",
       "      <td>Petrol</td>\n",
       "      <td>Individual</td>\n",
       "      <td>Manual</td>\n",
       "      <td>Third Owner</td>\n",
       "      <td>16.889313</td>\n",
       "      <td>1497.0</td>\n",
       "      <td>78 bhp</td>\n",
       "      <td>124.544455</td>\n",
       "      <td>5.0</td>\n",
       "    </tr>\n",
       "    <tr>\n",
       "      <th>3</th>\n",
       "      <td>Hyundai i20 Sportz Diesel</td>\n",
       "      <td>2010</td>\n",
       "      <td>225000</td>\n",
       "      <td>127000</td>\n",
       "      <td>Diesel</td>\n",
       "      <td>Individual</td>\n",
       "      <td>Manual</td>\n",
       "      <td>First Owner</td>\n",
       "      <td>8.333333</td>\n",
       "      <td>1396.0</td>\n",
       "      <td>90 bhp</td>\n",
       "      <td>219.668960</td>\n",
       "      <td>5.0</td>\n",
       "    </tr>\n",
       "    <tr>\n",
       "      <th>4</th>\n",
       "      <td>Maruti Swift VXI BSIII</td>\n",
       "      <td>2007</td>\n",
       "      <td>130000</td>\n",
       "      <td>120000</td>\n",
       "      <td>Petrol</td>\n",
       "      <td>Individual</td>\n",
       "      <td>Manual</td>\n",
       "      <td>First Owner</td>\n",
       "      <td>15.362595</td>\n",
       "      <td>1298.0</td>\n",
       "      <td>88.2 bhp</td>\n",
       "      <td>112.776475</td>\n",
       "      <td>5.0</td>\n",
       "    </tr>\n",
       "  </tbody>\n",
       "</table>\n",
       "</div>"
      ],
      "text/plain": [
       "                           name  year  selling_price  km_driven    fuel  \\\n",
       "0        Maruti Swift Dzire VDI  2014         450000     145500  Diesel   \n",
       "1  Skoda Rapid 1.5 TDI Ambition  2014         370000     120000  Diesel   \n",
       "2      Honda City 2017-2020 EXi  2006         158000     140000  Petrol   \n",
       "3     Hyundai i20 Sportz Diesel  2010         225000     127000  Diesel   \n",
       "4        Maruti Swift VXI BSIII  2007         130000     120000  Petrol   \n",
       "\n",
       "  seller_type transmission         owner    mileage  engine   max_power  \\\n",
       "0  Individual       Manual   First Owner   8.478261  1248.0      74 bhp   \n",
       "1  Individual       Manual  Second Owner   7.659420  1498.0  103.52 bhp   \n",
       "2  Individual       Manual   Third Owner  16.889313  1497.0      78 bhp   \n",
       "3  Individual       Manual   First Owner   8.333333  1396.0      90 bhp   \n",
       "4  Individual       Manual   First Owner  15.362595  1298.0    88.2 bhp   \n",
       "\n",
       "       torque  seats  \n",
       "0  190.000000    5.0  \n",
       "1  250.000000    5.0  \n",
       "2  124.544455    5.0  \n",
       "3  219.668960    5.0  \n",
       "4  112.776475    5.0  "
      ]
     },
     "execution_count": 43,
     "metadata": {},
     "output_type": "execute_result"
    }
   ],
   "source": [
    "data.head()  # 잘 바꼈는지 확인"
   ]
  },
  {
   "cell_type": "markdown",
   "id": "608ede6c",
   "metadata": {},
   "source": [
    "#### max_power"
   ]
  },
  {
   "cell_type": "code",
   "execution_count": 44,
   "id": "8382e3cf",
   "metadata": {},
   "outputs": [],
   "source": [
    "data[['max_power', 'max_unit']] = data['max_power'].str.split(expand=True)"
   ]
  },
  {
   "cell_type": "code",
   "execution_count": 45,
   "id": "368ffbdc",
   "metadata": {},
   "outputs": [
    {
     "data": {
      "text/plain": [
       "array(['bhp', nan, None], dtype=object)"
      ]
     },
     "execution_count": 45,
     "metadata": {},
     "output_type": "execute_result"
    }
   ],
   "source": [
    "data['max_unit'].unique()"
   ]
  },
  {
   "cell_type": "code",
   "execution_count": 46,
   "id": "86ba7c47",
   "metadata": {},
   "outputs": [
    {
     "data": {
      "text/html": [
       "<div>\n",
       "<style scoped>\n",
       "    .dataframe tbody tr th:only-of-type {\n",
       "        vertical-align: middle;\n",
       "    }\n",
       "\n",
       "    .dataframe tbody tr th {\n",
       "        vertical-align: top;\n",
       "    }\n",
       "\n",
       "    .dataframe thead th {\n",
       "        text-align: right;\n",
       "    }\n",
       "</style>\n",
       "<table border=\"1\" class=\"dataframe\">\n",
       "  <thead>\n",
       "    <tr style=\"text-align: right;\">\n",
       "      <th></th>\n",
       "      <th>name</th>\n",
       "      <th>year</th>\n",
       "      <th>selling_price</th>\n",
       "      <th>km_driven</th>\n",
       "      <th>fuel</th>\n",
       "      <th>seller_type</th>\n",
       "      <th>transmission</th>\n",
       "      <th>owner</th>\n",
       "      <th>mileage</th>\n",
       "      <th>engine</th>\n",
       "      <th>max_power</th>\n",
       "      <th>torque</th>\n",
       "      <th>seats</th>\n",
       "      <th>max_unit</th>\n",
       "    </tr>\n",
       "  </thead>\n",
       "  <tbody>\n",
       "    <tr>\n",
       "      <th>4933</th>\n",
       "      <td>Maruti Omni CNG</td>\n",
       "      <td>2000</td>\n",
       "      <td>80000</td>\n",
       "      <td>100000</td>\n",
       "      <td>CNG</td>\n",
       "      <td>Individual</td>\n",
       "      <td>Manual</td>\n",
       "      <td>Second Owner</td>\n",
       "      <td>3.949275</td>\n",
       "      <td>796.0</td>\n",
       "      <td>bhp</td>\n",
       "      <td>NaN</td>\n",
       "      <td>8.0</td>\n",
       "      <td>None</td>\n",
       "    </tr>\n",
       "  </tbody>\n",
       "</table>\n",
       "</div>"
      ],
      "text/plain": [
       "                 name  year  selling_price  km_driven fuel seller_type  \\\n",
       "4933  Maruti Omni CNG  2000          80000     100000  CNG  Individual   \n",
       "\n",
       "     transmission         owner   mileage  engine max_power  torque  seats  \\\n",
       "4933       Manual  Second Owner  3.949275   796.0       bhp     NaN    8.0   \n",
       "\n",
       "     max_unit  \n",
       "4933     None  "
      ]
     },
     "execution_count": 46,
     "metadata": {},
     "output_type": "execute_result"
    }
   ],
   "source": [
    "data[data['max_power']=='bhp']\n",
    "# 예외 상황 존재"
   ]
  },
  {
   "cell_type": "code",
   "execution_count": 47,
   "id": "8a477995",
   "metadata": {},
   "outputs": [],
   "source": [
    "# 캐스팅에서 예외상항이 발생함.\n",
    "## 문제 없으면 실수처리하고 있다면 겨륵처리하기 / casting\n",
    "def isFloat(x):\n",
    "    try:\n",
    "        num = float(x)\n",
    "        return num\n",
    "    except ValueError:\n",
    "        return np. NaN"
   ]
  },
  {
   "cell_type": "code",
   "execution_count": 48,
   "id": "8cd08ff2",
   "metadata": {},
   "outputs": [],
   "source": [
    "# 함수 적용\n",
    "data['max_power'] = data['max_power'].apply(isFloat)"
   ]
  },
  {
   "cell_type": "code",
   "execution_count": 49,
   "id": "37b4066a",
   "metadata": {},
   "outputs": [],
   "source": [
    "data.drop('max_unit', axis=1, inplace=True)"
   ]
  },
  {
   "cell_type": "markdown",
   "id": "7c36dd44",
   "metadata": {},
   "source": [
    "#### name"
   ]
  },
  {
   "cell_type": "code",
   "execution_count": 51,
   "id": "e56c45d7",
   "metadata": {},
   "outputs": [],
   "source": [
    "data['name'] = data['name'].str.split(expand=True)[0]"
   ]
  },
  {
   "cell_type": "code",
   "execution_count": 52,
   "id": "c7d604b6",
   "metadata": {},
   "outputs": [
    {
     "data": {
      "text/plain": [
       "array(['Maruti', 'Skoda', 'Honda', 'Hyundai', 'Toyota', 'Ford', 'Renault',\n",
       "       'Mahindra', 'Tata', 'Chevrolet', 'Fiat', 'Datsun', 'Jeep',\n",
       "       'Mercedes-Benz', 'Mitsubishi', 'Audi', 'Volkswagen', 'BMW',\n",
       "       'Nissan', 'Lexus', 'Jaguar', 'Land', 'MG', 'Volvo', 'Daewoo',\n",
       "       'Kia', 'Force', 'Ambassador', 'Ashok', 'Isuzu', 'Opel', 'Peugeot'],\n",
       "      dtype=object)"
      ]
     },
     "execution_count": 52,
     "metadata": {},
     "output_type": "execute_result"
    }
   ],
   "source": [
    "data['name'].unique()"
   ]
  },
  {
   "cell_type": "markdown",
   "id": "a37ceeaf",
   "metadata": {},
   "source": [
    "### 전처리 : 결측치와 더미 변수 변환\n",
    "- 더미변수: 정형화 시킨다는ㄱ"
   ]
  },
  {
   "cell_type": "code",
   "execution_count": 53,
   "id": "71636154",
   "metadata": {},
   "outputs": [
    {
     "data": {
      "text/plain": [
       "name               0\n",
       "year               0\n",
       "selling_price      0\n",
       "km_driven          0\n",
       "fuel               0\n",
       "seller_type        0\n",
       "transmission       0\n",
       "owner              0\n",
       "mileage          221\n",
       "engine           221\n",
       "max_power        216\n",
       "torque           222\n",
       "seats            221\n",
       "dtype: int64"
      ]
     },
     "execution_count": 53,
     "metadata": {},
     "output_type": "execute_result"
    }
   ],
   "source": [
    "data.isna().sum()"
   ]
  },
  {
   "cell_type": "code",
   "execution_count": 54,
   "id": "89f05d5b",
   "metadata": {},
   "outputs": [],
   "source": [
    "# na 처리\n",
    "data.dropna(inplace=True)"
   ]
  },
  {
   "cell_type": "code",
   "execution_count": 55,
   "id": "9b910b51",
   "metadata": {},
   "outputs": [
    {
     "data": {
      "text/plain": [
       "(7906, 13)"
      ]
     },
     "execution_count": 55,
     "metadata": {},
     "output_type": "execute_result"
    }
   ],
   "source": [
    "data.shape # 얼마나 지워졌는지 확인"
   ]
  },
  {
   "cell_type": "code",
   "execution_count": 56,
   "id": "82a39c34",
   "metadata": {},
   "outputs": [
    {
     "name": "stdout",
     "output_type": "stream",
     "text": [
      "<class 'pandas.core.frame.DataFrame'>\n",
      "Int64Index: 7906 entries, 0 to 8127\n",
      "Data columns (total 13 columns):\n",
      " #   Column         Non-Null Count  Dtype  \n",
      "---  ------         --------------  -----  \n",
      " 0   name           7906 non-null   object \n",
      " 1   year           7906 non-null   int64  \n",
      " 2   selling_price  7906 non-null   int64  \n",
      " 3   km_driven      7906 non-null   int64  \n",
      " 4   fuel           7906 non-null   object \n",
      " 5   seller_type    7906 non-null   object \n",
      " 6   transmission   7906 non-null   object \n",
      " 7   owner          7906 non-null   object \n",
      " 8   mileage        7906 non-null   float64\n",
      " 9   engine         7906 non-null   float64\n",
      " 10  max_power      7906 non-null   float64\n",
      " 11  torque         7906 non-null   float64\n",
      " 12  seats          7906 non-null   float64\n",
      "dtypes: float64(5), int64(3), object(5)\n",
      "memory usage: 864.7+ KB\n"
     ]
    }
   ],
   "source": [
    "data.info()"
   ]
  },
  {
   "cell_type": "markdown",
   "id": "42391601",
   "metadata": {},
   "source": [
    "##### get_dummy 설명"
   ]
  },
  {
   "cell_type": "code",
   "execution_count": 57,
   "id": "87bda539",
   "metadata": {},
   "outputs": [
    {
     "data": {
      "text/html": [
       "<div>\n",
       "<style scoped>\n",
       "    .dataframe tbody tr th:only-of-type {\n",
       "        vertical-align: middle;\n",
       "    }\n",
       "\n",
       "    .dataframe tbody tr th {\n",
       "        vertical-align: top;\n",
       "    }\n",
       "\n",
       "    .dataframe thead th {\n",
       "        text-align: right;\n",
       "    }\n",
       "</style>\n",
       "<table border=\"1\" class=\"dataframe\">\n",
       "  <thead>\n",
       "    <tr style=\"text-align: right;\">\n",
       "      <th></th>\n",
       "      <th>season</th>\n",
       "    </tr>\n",
       "  </thead>\n",
       "  <tbody>\n",
       "    <tr>\n",
       "      <th>0</th>\n",
       "      <td>spring</td>\n",
       "    </tr>\n",
       "    <tr>\n",
       "      <th>1</th>\n",
       "      <td>summer</td>\n",
       "    </tr>\n",
       "    <tr>\n",
       "      <th>2</th>\n",
       "      <td>fall</td>\n",
       "    </tr>\n",
       "    <tr>\n",
       "      <th>3</th>\n",
       "      <td>winter</td>\n",
       "    </tr>\n",
       "    <tr>\n",
       "      <th>4</th>\n",
       "      <td>NaN</td>\n",
       "    </tr>\n",
       "  </tbody>\n",
       "</table>\n",
       "</div>"
      ],
      "text/plain": [
       "   season\n",
       "0  spring\n",
       "1  summer\n",
       "2    fall\n",
       "3  winter\n",
       "4     NaN"
      ]
     },
     "execution_count": 57,
     "metadata": {},
     "output_type": "execute_result"
    }
   ],
   "source": [
    "# 판다스의 get_dummy : 문자를 0과1로 정형화 시켜줌\n",
    "season = pd.DataFrame({'season':['spring', 'summer',\n",
    "                                 'fall','winter', np.nan]})\n",
    "season"
   ]
  },
  {
   "cell_type": "code",
   "execution_count": 58,
   "id": "2489b4cd",
   "metadata": {},
   "outputs": [
    {
     "data": {
      "text/html": [
       "<div>\n",
       "<style scoped>\n",
       "    .dataframe tbody tr th:only-of-type {\n",
       "        vertical-align: middle;\n",
       "    }\n",
       "\n",
       "    .dataframe tbody tr th {\n",
       "        vertical-align: top;\n",
       "    }\n",
       "\n",
       "    .dataframe thead th {\n",
       "        text-align: right;\n",
       "    }\n",
       "</style>\n",
       "<table border=\"1\" class=\"dataframe\">\n",
       "  <thead>\n",
       "    <tr style=\"text-align: right;\">\n",
       "      <th></th>\n",
       "      <th>fall</th>\n",
       "      <th>spring</th>\n",
       "      <th>summer</th>\n",
       "      <th>winter</th>\n",
       "    </tr>\n",
       "  </thead>\n",
       "  <tbody>\n",
       "    <tr>\n",
       "      <th>0</th>\n",
       "      <td>0</td>\n",
       "      <td>1</td>\n",
       "      <td>0</td>\n",
       "      <td>0</td>\n",
       "    </tr>\n",
       "    <tr>\n",
       "      <th>1</th>\n",
       "      <td>0</td>\n",
       "      <td>0</td>\n",
       "      <td>1</td>\n",
       "      <td>0</td>\n",
       "    </tr>\n",
       "    <tr>\n",
       "      <th>2</th>\n",
       "      <td>1</td>\n",
       "      <td>0</td>\n",
       "      <td>0</td>\n",
       "      <td>0</td>\n",
       "    </tr>\n",
       "    <tr>\n",
       "      <th>3</th>\n",
       "      <td>0</td>\n",
       "      <td>0</td>\n",
       "      <td>0</td>\n",
       "      <td>1</td>\n",
       "    </tr>\n",
       "    <tr>\n",
       "      <th>4</th>\n",
       "      <td>0</td>\n",
       "      <td>0</td>\n",
       "      <td>0</td>\n",
       "      <td>0</td>\n",
       "    </tr>\n",
       "  </tbody>\n",
       "</table>\n",
       "</div>"
      ],
      "text/plain": [
       "   fall  spring  summer  winter\n",
       "0     0       1       0       0\n",
       "1     0       0       1       0\n",
       "2     1       0       0       0\n",
       "3     0       0       0       1\n",
       "4     0       0       0       0"
      ]
     },
     "execution_count": 58,
     "metadata": {},
     "output_type": "execute_result"
    }
   ],
   "source": [
    "pd.get_dummies(season['season']) # 문자로 되어있건 값이 0과 1로 바ㅟㅁ"
   ]
  },
  {
   "cell_type": "code",
   "execution_count": 59,
   "id": "b5e89cf9",
   "metadata": {},
   "outputs": [
    {
     "data": {
      "text/html": [
       "<div>\n",
       "<style scoped>\n",
       "    .dataframe tbody tr th:only-of-type {\n",
       "        vertical-align: middle;\n",
       "    }\n",
       "\n",
       "    .dataframe tbody tr th {\n",
       "        vertical-align: top;\n",
       "    }\n",
       "\n",
       "    .dataframe thead th {\n",
       "        text-align: right;\n",
       "    }\n",
       "</style>\n",
       "<table border=\"1\" class=\"dataframe\">\n",
       "  <thead>\n",
       "    <tr style=\"text-align: right;\">\n",
       "      <th></th>\n",
       "      <th>fall</th>\n",
       "      <th>spring</th>\n",
       "      <th>summer</th>\n",
       "      <th>winter</th>\n",
       "      <th>NaN</th>\n",
       "    </tr>\n",
       "  </thead>\n",
       "  <tbody>\n",
       "    <tr>\n",
       "      <th>0</th>\n",
       "      <td>0</td>\n",
       "      <td>1</td>\n",
       "      <td>0</td>\n",
       "      <td>0</td>\n",
       "      <td>0</td>\n",
       "    </tr>\n",
       "    <tr>\n",
       "      <th>1</th>\n",
       "      <td>0</td>\n",
       "      <td>0</td>\n",
       "      <td>1</td>\n",
       "      <td>0</td>\n",
       "      <td>0</td>\n",
       "    </tr>\n",
       "    <tr>\n",
       "      <th>2</th>\n",
       "      <td>1</td>\n",
       "      <td>0</td>\n",
       "      <td>0</td>\n",
       "      <td>0</td>\n",
       "      <td>0</td>\n",
       "    </tr>\n",
       "    <tr>\n",
       "      <th>3</th>\n",
       "      <td>0</td>\n",
       "      <td>0</td>\n",
       "      <td>0</td>\n",
       "      <td>1</td>\n",
       "      <td>0</td>\n",
       "    </tr>\n",
       "    <tr>\n",
       "      <th>4</th>\n",
       "      <td>0</td>\n",
       "      <td>0</td>\n",
       "      <td>0</td>\n",
       "      <td>0</td>\n",
       "      <td>1</td>\n",
       "    </tr>\n",
       "  </tbody>\n",
       "</table>\n",
       "</div>"
      ],
      "text/plain": [
       "   fall  spring  summer  winter  NaN\n",
       "0     0       1       0       0    0\n",
       "1     0       0       1       0    0\n",
       "2     1       0       0       0    0\n",
       "3     0       0       0       1    0\n",
       "4     0       0       0       0    1"
      ]
     },
     "execution_count": 59,
     "metadata": {},
     "output_type": "execute_result"
    }
   ],
   "source": [
    "# 결측값도 나타내고 싶을떄\n",
    "pd.get_dummies(season['season'], dummy_na=True)"
   ]
  },
  {
   "cell_type": "markdown",
   "id": "23d38b16",
   "metadata": {},
   "source": [
    "#### get_dummy\n",
    "- 사이킷런의 One-hot encoding : 범주형 데이터의 각 범주를 1아니면 0으로 채우는 인코딩 기법\n",
    "- pd.get_dummies(): 함수의 drop_first : 첫번쨰 카테고리 값은 사용하지 않음"
   ]
  },
  {
   "cell_type": "code",
   "execution_count": 61,
   "id": "9e258cc1",
   "metadata": {},
   "outputs": [],
   "source": [
    "data=pd.get_dummies(data, columns=['name','fuel','seller_type',\n",
    "                                  'transmission','owner'])"
   ]
  },
  {
   "cell_type": "code",
   "execution_count": 62,
   "id": "6281f9b4",
   "metadata": {},
   "outputs": [
    {
     "data": {
      "text/html": [
       "<div>\n",
       "<style scoped>\n",
       "    .dataframe tbody tr th:only-of-type {\n",
       "        vertical-align: middle;\n",
       "    }\n",
       "\n",
       "    .dataframe tbody tr th {\n",
       "        vertical-align: top;\n",
       "    }\n",
       "\n",
       "    .dataframe thead th {\n",
       "        text-align: right;\n",
       "    }\n",
       "</style>\n",
       "<table border=\"1\" class=\"dataframe\">\n",
       "  <thead>\n",
       "    <tr style=\"text-align: right;\">\n",
       "      <th></th>\n",
       "      <th>year</th>\n",
       "      <th>selling_price</th>\n",
       "      <th>km_driven</th>\n",
       "      <th>mileage</th>\n",
       "      <th>engine</th>\n",
       "      <th>max_power</th>\n",
       "      <th>torque</th>\n",
       "      <th>seats</th>\n",
       "      <th>name_Ambassador</th>\n",
       "      <th>name_Ashok</th>\n",
       "      <th>...</th>\n",
       "      <th>seller_type_Dealer</th>\n",
       "      <th>seller_type_Individual</th>\n",
       "      <th>seller_type_Trustmark Dealer</th>\n",
       "      <th>transmission_Automatic</th>\n",
       "      <th>transmission_Manual</th>\n",
       "      <th>owner_First Owner</th>\n",
       "      <th>owner_Fourth &amp; Above Owner</th>\n",
       "      <th>owner_Second Owner</th>\n",
       "      <th>owner_Test Drive Car</th>\n",
       "      <th>owner_Third Owner</th>\n",
       "    </tr>\n",
       "  </thead>\n",
       "  <tbody>\n",
       "    <tr>\n",
       "      <th>0</th>\n",
       "      <td>2014</td>\n",
       "      <td>450000</td>\n",
       "      <td>145500</td>\n",
       "      <td>8.478261</td>\n",
       "      <td>1248.0</td>\n",
       "      <td>74.00</td>\n",
       "      <td>190.000000</td>\n",
       "      <td>5.0</td>\n",
       "      <td>0</td>\n",
       "      <td>0</td>\n",
       "      <td>...</td>\n",
       "      <td>0</td>\n",
       "      <td>1</td>\n",
       "      <td>0</td>\n",
       "      <td>0</td>\n",
       "      <td>1</td>\n",
       "      <td>1</td>\n",
       "      <td>0</td>\n",
       "      <td>0</td>\n",
       "      <td>0</td>\n",
       "      <td>0</td>\n",
       "    </tr>\n",
       "    <tr>\n",
       "      <th>1</th>\n",
       "      <td>2014</td>\n",
       "      <td>370000</td>\n",
       "      <td>120000</td>\n",
       "      <td>7.659420</td>\n",
       "      <td>1498.0</td>\n",
       "      <td>103.52</td>\n",
       "      <td>250.000000</td>\n",
       "      <td>5.0</td>\n",
       "      <td>0</td>\n",
       "      <td>0</td>\n",
       "      <td>...</td>\n",
       "      <td>0</td>\n",
       "      <td>1</td>\n",
       "      <td>0</td>\n",
       "      <td>0</td>\n",
       "      <td>1</td>\n",
       "      <td>0</td>\n",
       "      <td>0</td>\n",
       "      <td>1</td>\n",
       "      <td>0</td>\n",
       "      <td>0</td>\n",
       "    </tr>\n",
       "    <tr>\n",
       "      <th>2</th>\n",
       "      <td>2006</td>\n",
       "      <td>158000</td>\n",
       "      <td>140000</td>\n",
       "      <td>16.889313</td>\n",
       "      <td>1497.0</td>\n",
       "      <td>78.00</td>\n",
       "      <td>124.544455</td>\n",
       "      <td>5.0</td>\n",
       "      <td>0</td>\n",
       "      <td>0</td>\n",
       "      <td>...</td>\n",
       "      <td>0</td>\n",
       "      <td>1</td>\n",
       "      <td>0</td>\n",
       "      <td>0</td>\n",
       "      <td>1</td>\n",
       "      <td>0</td>\n",
       "      <td>0</td>\n",
       "      <td>0</td>\n",
       "      <td>0</td>\n",
       "      <td>1</td>\n",
       "    </tr>\n",
       "    <tr>\n",
       "      <th>3</th>\n",
       "      <td>2010</td>\n",
       "      <td>225000</td>\n",
       "      <td>127000</td>\n",
       "      <td>8.333333</td>\n",
       "      <td>1396.0</td>\n",
       "      <td>90.00</td>\n",
       "      <td>219.668960</td>\n",
       "      <td>5.0</td>\n",
       "      <td>0</td>\n",
       "      <td>0</td>\n",
       "      <td>...</td>\n",
       "      <td>0</td>\n",
       "      <td>1</td>\n",
       "      <td>0</td>\n",
       "      <td>0</td>\n",
       "      <td>1</td>\n",
       "      <td>1</td>\n",
       "      <td>0</td>\n",
       "      <td>0</td>\n",
       "      <td>0</td>\n",
       "      <td>0</td>\n",
       "    </tr>\n",
       "    <tr>\n",
       "      <th>4</th>\n",
       "      <td>2007</td>\n",
       "      <td>130000</td>\n",
       "      <td>120000</td>\n",
       "      <td>15.362595</td>\n",
       "      <td>1298.0</td>\n",
       "      <td>88.20</td>\n",
       "      <td>112.776475</td>\n",
       "      <td>5.0</td>\n",
       "      <td>0</td>\n",
       "      <td>0</td>\n",
       "      <td>...</td>\n",
       "      <td>0</td>\n",
       "      <td>1</td>\n",
       "      <td>0</td>\n",
       "      <td>0</td>\n",
       "      <td>1</td>\n",
       "      <td>1</td>\n",
       "      <td>0</td>\n",
       "      <td>0</td>\n",
       "      <td>0</td>\n",
       "      <td>0</td>\n",
       "    </tr>\n",
       "  </tbody>\n",
       "</table>\n",
       "<p>5 rows × 53 columns</p>\n",
       "</div>"
      ],
      "text/plain": [
       "   year  selling_price  km_driven    mileage  engine  max_power      torque  \\\n",
       "0  2014         450000     145500   8.478261  1248.0      74.00  190.000000   \n",
       "1  2014         370000     120000   7.659420  1498.0     103.52  250.000000   \n",
       "2  2006         158000     140000  16.889313  1497.0      78.00  124.544455   \n",
       "3  2010         225000     127000   8.333333  1396.0      90.00  219.668960   \n",
       "4  2007         130000     120000  15.362595  1298.0      88.20  112.776475   \n",
       "\n",
       "   seats  name_Ambassador  name_Ashok  ...  seller_type_Dealer  \\\n",
       "0    5.0                0           0  ...                   0   \n",
       "1    5.0                0           0  ...                   0   \n",
       "2    5.0                0           0  ...                   0   \n",
       "3    5.0                0           0  ...                   0   \n",
       "4    5.0                0           0  ...                   0   \n",
       "\n",
       "   seller_type_Individual  seller_type_Trustmark Dealer  \\\n",
       "0                       1                             0   \n",
       "1                       1                             0   \n",
       "2                       1                             0   \n",
       "3                       1                             0   \n",
       "4                       1                             0   \n",
       "\n",
       "   transmission_Automatic  transmission_Manual  owner_First Owner  \\\n",
       "0                       0                    1                  1   \n",
       "1                       0                    1                  0   \n",
       "2                       0                    1                  0   \n",
       "3                       0                    1                  1   \n",
       "4                       0                    1                  1   \n",
       "\n",
       "   owner_Fourth & Above Owner  owner_Second Owner  owner_Test Drive Car  \\\n",
       "0                           0                   0                     0   \n",
       "1                           0                   1                     0   \n",
       "2                           0                   0                     0   \n",
       "3                           0                   0                     0   \n",
       "4                           0                   0                     0   \n",
       "\n",
       "   owner_Third Owner  \n",
       "0                  0  \n",
       "1                  0  \n",
       "2                  1  \n",
       "3                  0  \n",
       "4                  0  \n",
       "\n",
       "[5 rows x 53 columns]"
      ]
     },
     "execution_count": 62,
     "metadata": {},
     "output_type": "execute_result"
    }
   ],
   "source": [
    "data.head()"
   ]
  }
 ],
 "metadata": {
  "hide_input": false,
  "kernelspec": {
   "display_name": "Python 3 (ipykernel)",
   "language": "python",
   "name": "python3"
  },
  "language_info": {
   "codemirror_mode": {
    "name": "ipython",
    "version": 3
   },
   "file_extension": ".py",
   "mimetype": "text/x-python",
   "name": "python",
   "nbconvert_exporter": "python",
   "pygments_lexer": "ipython3",
   "version": "3.9.7"
  },
  "toc": {
   "base_numbering": 1,
   "nav_menu": {},
   "number_sections": true,
   "sideBar": true,
   "skip_h1_title": false,
   "title_cell": "Table of Contents",
   "title_sidebar": "Contents",
   "toc_cell": false,
   "toc_position": {
    "height": "calc(100% - 180px)",
    "left": "10px",
    "top": "150px",
    "width": "384px"
   },
   "toc_section_display": true,
   "toc_window_display": false
  }
 },
 "nbformat": 4,
 "nbformat_minor": 5
}
