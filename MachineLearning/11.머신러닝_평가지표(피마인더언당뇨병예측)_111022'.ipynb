{
 "cells": [
  {
   "cell_type": "markdown",
   "id": "c8f0004f",
   "metadata": {},
   "source": [
    "## 필수 라이브러리"
   ]
  },
  {
   "cell_type": "code",
   "execution_count": 2,
   "id": "d05bd168",
   "metadata": {},
   "outputs": [],
   "source": [
    "import numpy as np\n",
    "import pandas as pd\n",
    "\n",
    "import matplotlib as mpl\n",
    "import matplotlib.pyplot as plt\n",
    "import seaborn as sns\n",
    "\n",
    "import warnings\n",
    "from IPython.display import Image # 이미지 주소로 불러오는 "
   ]
  },
  {
   "cell_type": "code",
   "execution_count": 34,
   "id": "3a3c96df",
   "metadata": {},
   "outputs": [],
   "source": [
    "# 매직 명령어\n",
    "%matplotlib inline\n",
    "%config InlinedBackend.figure_format = 'retina'\n",
    "\n",
    "mpl.rc('font', family='batang')\n",
    "mpl.rc('axes', unicode_minus=False)\n",
    "\n",
    "sns.set_style('dark') # 노트\n",
    "sns.set(color_codes=True)\n",
    "plt.rc('figure', figsize=(10,8))\n",
    "\n",
    "warnings.filterwarnings('ignore')"
   ]
  },
  {
   "cell_type": "markdown",
   "id": "c5d57597",
   "metadata": {},
   "source": [
    "## 데이터 로딩과 데이터 탐색"
   ]
  },
  {
   "cell_type": "code",
   "execution_count": 10,
   "id": "1edf91a4",
   "metadata": {},
   "outputs": [],
   "source": [
    "from sklearn.model_selection import train_test_split\n",
    "from sklearn.metrics import accuracy_score, precision_score, recall_score, roc_auc_score\n",
    "from sklearn.metrics import f1_score, confusion_matrix, precision_recall_curve, roc_curve\n",
    "\n",
    "from sklearn.preprocessing import StandardScaler\n",
    "from sklearn.linear_model import LogisticRegression"
   ]
  },
  {
   "cell_type": "code",
   "execution_count": 11,
   "id": "3a321d01",
   "metadata": {},
   "outputs": [
    {
     "data": {
      "text/html": [
       "<div>\n",
       "<style scoped>\n",
       "    .dataframe tbody tr th:only-of-type {\n",
       "        vertical-align: middle;\n",
       "    }\n",
       "\n",
       "    .dataframe tbody tr th {\n",
       "        vertical-align: top;\n",
       "    }\n",
       "\n",
       "    .dataframe thead th {\n",
       "        text-align: right;\n",
       "    }\n",
       "</style>\n",
       "<table border=\"1\" class=\"dataframe\">\n",
       "  <thead>\n",
       "    <tr style=\"text-align: right;\">\n",
       "      <th></th>\n",
       "      <th>Pregnancies</th>\n",
       "      <th>Glucose</th>\n",
       "      <th>BloodPressure</th>\n",
       "      <th>SkinThickness</th>\n",
       "      <th>Insulin</th>\n",
       "      <th>BMI</th>\n",
       "      <th>DiabetesPedigreeFunction</th>\n",
       "      <th>Age</th>\n",
       "      <th>Outcome</th>\n",
       "    </tr>\n",
       "  </thead>\n",
       "  <tbody>\n",
       "    <tr>\n",
       "      <th>0</th>\n",
       "      <td>6</td>\n",
       "      <td>148</td>\n",
       "      <td>72</td>\n",
       "      <td>35</td>\n",
       "      <td>0</td>\n",
       "      <td>33.6</td>\n",
       "      <td>0.627</td>\n",
       "      <td>50</td>\n",
       "      <td>1</td>\n",
       "    </tr>\n",
       "    <tr>\n",
       "      <th>1</th>\n",
       "      <td>1</td>\n",
       "      <td>85</td>\n",
       "      <td>66</td>\n",
       "      <td>29</td>\n",
       "      <td>0</td>\n",
       "      <td>26.6</td>\n",
       "      <td>0.351</td>\n",
       "      <td>31</td>\n",
       "      <td>0</td>\n",
       "    </tr>\n",
       "    <tr>\n",
       "      <th>2</th>\n",
       "      <td>8</td>\n",
       "      <td>183</td>\n",
       "      <td>64</td>\n",
       "      <td>0</td>\n",
       "      <td>0</td>\n",
       "      <td>23.3</td>\n",
       "      <td>0.672</td>\n",
       "      <td>32</td>\n",
       "      <td>1</td>\n",
       "    </tr>\n",
       "    <tr>\n",
       "      <th>3</th>\n",
       "      <td>1</td>\n",
       "      <td>89</td>\n",
       "      <td>66</td>\n",
       "      <td>23</td>\n",
       "      <td>94</td>\n",
       "      <td>28.1</td>\n",
       "      <td>0.167</td>\n",
       "      <td>21</td>\n",
       "      <td>0</td>\n",
       "    </tr>\n",
       "    <tr>\n",
       "      <th>4</th>\n",
       "      <td>0</td>\n",
       "      <td>137</td>\n",
       "      <td>40</td>\n",
       "      <td>35</td>\n",
       "      <td>168</td>\n",
       "      <td>43.1</td>\n",
       "      <td>2.288</td>\n",
       "      <td>33</td>\n",
       "      <td>1</td>\n",
       "    </tr>\n",
       "  </tbody>\n",
       "</table>\n",
       "</div>"
      ],
      "text/plain": [
       "   Pregnancies  Glucose  BloodPressure  SkinThickness  Insulin   BMI  \\\n",
       "0            6      148             72             35        0  33.6   \n",
       "1            1       85             66             29        0  26.6   \n",
       "2            8      183             64              0        0  23.3   \n",
       "3            1       89             66             23       94  28.1   \n",
       "4            0      137             40             35      168  43.1   \n",
       "\n",
       "   DiabetesPedigreeFunction  Age  Outcome  \n",
       "0                     0.627   50        1  \n",
       "1                     0.351   31        0  \n",
       "2                     0.672   32        1  \n",
       "3                     0.167   21        0  \n",
       "4                     2.288   33        1  "
      ]
     },
     "execution_count": 11,
     "metadata": {},
     "output_type": "execute_result"
    }
   ],
   "source": [
    "diabetes = pd.read_csv('C:/k_digital/Sourcce/data/diabetes.csv')\n",
    "diabetes.head()"
   ]
  },
  {
   "cell_type": "code",
   "execution_count": 12,
   "id": "2fa90d3b",
   "metadata": {},
   "outputs": [
    {
     "data": {
      "text/plain": [
       "0    500\n",
       "1    268\n",
       "Name: Outcome, dtype: int64"
      ]
     },
     "execution_count": 12,
     "metadata": {},
     "output_type": "execute_result"
    }
   ],
   "source": [
    "# 최종적으로 예측해날 결과값은?\n",
    "diabetes['Outcome'].value_counts()"
   ]
  },
  {
   "cell_type": "code",
   "execution_count": 13,
   "id": "b335b252",
   "metadata": {},
   "outputs": [
    {
     "name": "stdout",
     "output_type": "stream",
     "text": [
      "<class 'pandas.core.frame.DataFrame'>\n",
      "RangeIndex: 768 entries, 0 to 767\n",
      "Data columns (total 9 columns):\n",
      " #   Column                    Non-Null Count  Dtype  \n",
      "---  ------                    --------------  -----  \n",
      " 0   Pregnancies               768 non-null    int64  \n",
      " 1   Glucose                   768 non-null    int64  \n",
      " 2   BloodPressure             768 non-null    int64  \n",
      " 3   SkinThickness             768 non-null    int64  \n",
      " 4   Insulin                   768 non-null    int64  \n",
      " 5   BMI                       768 non-null    float64\n",
      " 6   DiabetesPedigreeFunction  768 non-null    float64\n",
      " 7   Age                       768 non-null    int64  \n",
      " 8   Outcome                   768 non-null    int64  \n",
      "dtypes: float64(2), int64(7)\n",
      "memory usage: 54.1 KB\n"
     ]
    }
   ],
   "source": [
    "diabetes.info()"
   ]
  },
  {
   "cell_type": "markdown",
   "id": "9f259e86",
   "metadata": {},
   "source": [
    "- 결측값이 없고, 모두 숫자형으로 되어있다."
   ]
  },
  {
   "cell_type": "code",
   "execution_count": 16,
   "id": "3d524967",
   "metadata": {},
   "outputs": [
    {
     "data": {
      "text/html": [
       "<div>\n",
       "<style scoped>\n",
       "    .dataframe tbody tr th:only-of-type {\n",
       "        vertical-align: middle;\n",
       "    }\n",
       "\n",
       "    .dataframe tbody tr th {\n",
       "        vertical-align: top;\n",
       "    }\n",
       "\n",
       "    .dataframe thead th {\n",
       "        text-align: right;\n",
       "    }\n",
       "</style>\n",
       "<table border=\"1\" class=\"dataframe\">\n",
       "  <thead>\n",
       "    <tr style=\"text-align: right;\">\n",
       "      <th></th>\n",
       "      <th>Pregnancies</th>\n",
       "      <th>Glucose</th>\n",
       "      <th>BloodPressure</th>\n",
       "      <th>SkinThickness</th>\n",
       "      <th>Insulin</th>\n",
       "      <th>BMI</th>\n",
       "      <th>DiabetesPedigreeFunction</th>\n",
       "      <th>Age</th>\n",
       "      <th>Outcome</th>\n",
       "    </tr>\n",
       "  </thead>\n",
       "  <tbody>\n",
       "    <tr>\n",
       "      <th>count</th>\n",
       "      <td>768.000000</td>\n",
       "      <td>768.000000</td>\n",
       "      <td>768.000000</td>\n",
       "      <td>768.000000</td>\n",
       "      <td>768.000000</td>\n",
       "      <td>768.000000</td>\n",
       "      <td>768.000000</td>\n",
       "      <td>768.000000</td>\n",
       "      <td>768.000000</td>\n",
       "    </tr>\n",
       "    <tr>\n",
       "      <th>mean</th>\n",
       "      <td>3.845052</td>\n",
       "      <td>120.894531</td>\n",
       "      <td>69.105469</td>\n",
       "      <td>20.536458</td>\n",
       "      <td>79.799479</td>\n",
       "      <td>31.992578</td>\n",
       "      <td>0.471876</td>\n",
       "      <td>33.240885</td>\n",
       "      <td>0.348958</td>\n",
       "    </tr>\n",
       "    <tr>\n",
       "      <th>std</th>\n",
       "      <td>3.369578</td>\n",
       "      <td>31.972618</td>\n",
       "      <td>19.355807</td>\n",
       "      <td>15.952218</td>\n",
       "      <td>115.244002</td>\n",
       "      <td>7.884160</td>\n",
       "      <td>0.331329</td>\n",
       "      <td>11.760232</td>\n",
       "      <td>0.476951</td>\n",
       "    </tr>\n",
       "    <tr>\n",
       "      <th>min</th>\n",
       "      <td>0.000000</td>\n",
       "      <td>0.000000</td>\n",
       "      <td>0.000000</td>\n",
       "      <td>0.000000</td>\n",
       "      <td>0.000000</td>\n",
       "      <td>0.000000</td>\n",
       "      <td>0.078000</td>\n",
       "      <td>21.000000</td>\n",
       "      <td>0.000000</td>\n",
       "    </tr>\n",
       "    <tr>\n",
       "      <th>25%</th>\n",
       "      <td>1.000000</td>\n",
       "      <td>99.000000</td>\n",
       "      <td>62.000000</td>\n",
       "      <td>0.000000</td>\n",
       "      <td>0.000000</td>\n",
       "      <td>27.300000</td>\n",
       "      <td>0.243750</td>\n",
       "      <td>24.000000</td>\n",
       "      <td>0.000000</td>\n",
       "    </tr>\n",
       "    <tr>\n",
       "      <th>50%</th>\n",
       "      <td>3.000000</td>\n",
       "      <td>117.000000</td>\n",
       "      <td>72.000000</td>\n",
       "      <td>23.000000</td>\n",
       "      <td>30.500000</td>\n",
       "      <td>32.000000</td>\n",
       "      <td>0.372500</td>\n",
       "      <td>29.000000</td>\n",
       "      <td>0.000000</td>\n",
       "    </tr>\n",
       "    <tr>\n",
       "      <th>75%</th>\n",
       "      <td>6.000000</td>\n",
       "      <td>140.250000</td>\n",
       "      <td>80.000000</td>\n",
       "      <td>32.000000</td>\n",
       "      <td>127.250000</td>\n",
       "      <td>36.600000</td>\n",
       "      <td>0.626250</td>\n",
       "      <td>41.000000</td>\n",
       "      <td>1.000000</td>\n",
       "    </tr>\n",
       "    <tr>\n",
       "      <th>max</th>\n",
       "      <td>17.000000</td>\n",
       "      <td>199.000000</td>\n",
       "      <td>122.000000</td>\n",
       "      <td>99.000000</td>\n",
       "      <td>846.000000</td>\n",
       "      <td>67.100000</td>\n",
       "      <td>2.420000</td>\n",
       "      <td>81.000000</td>\n",
       "      <td>1.000000</td>\n",
       "    </tr>\n",
       "  </tbody>\n",
       "</table>\n",
       "</div>"
      ],
      "text/plain": [
       "       Pregnancies     Glucose  BloodPressure  SkinThickness     Insulin  \\\n",
       "count   768.000000  768.000000     768.000000     768.000000  768.000000   \n",
       "mean      3.845052  120.894531      69.105469      20.536458   79.799479   \n",
       "std       3.369578   31.972618      19.355807      15.952218  115.244002   \n",
       "min       0.000000    0.000000       0.000000       0.000000    0.000000   \n",
       "25%       1.000000   99.000000      62.000000       0.000000    0.000000   \n",
       "50%       3.000000  117.000000      72.000000      23.000000   30.500000   \n",
       "75%       6.000000  140.250000      80.000000      32.000000  127.250000   \n",
       "max      17.000000  199.000000     122.000000      99.000000  846.000000   \n",
       "\n",
       "              BMI  DiabetesPedigreeFunction         Age     Outcome  \n",
       "count  768.000000                768.000000  768.000000  768.000000  \n",
       "mean    31.992578                  0.471876   33.240885    0.348958  \n",
       "std      7.884160                  0.331329   11.760232    0.476951  \n",
       "min      0.000000                  0.078000   21.000000    0.000000  \n",
       "25%     27.300000                  0.243750   24.000000    0.000000  \n",
       "50%     32.000000                  0.372500   29.000000    0.000000  \n",
       "75%     36.600000                  0.626250   41.000000    1.000000  \n",
       "max     67.100000                  2.420000   81.000000    1.000000  "
      ]
     },
     "execution_count": 16,
     "metadata": {},
     "output_type": "execute_result"
    }
   ],
   "source": [
    "# 수치들의 분포 확인\n",
    "diabetes.describe()"
   ]
  },
  {
   "cell_type": "markdown",
   "id": "91caee7f",
   "metadata": {},
   "source": [
    "- 최소값에 0이 많은데, 특히 포도당부하 수치의 경우 0값이 나올 수 없으니 분포를 살펴보다."
   ]
  },
  {
   "cell_type": "code",
   "execution_count": 17,
   "id": "013e43cc",
   "metadata": {},
   "outputs": [
    {
     "data": {
      "image/png": "[encoded data removed]",
      "text/plain": [
       "<Figure size 720x576 with 1 Axes>"
      ]
     },
     "metadata": {},
     "output_type": "display_data"
    }
   ],
   "source": [
    "sns.histplot(data=diabetes, x='Glucose', kde=False, color='c')\n",
    "plt.show()"
   ]
  },
  {
   "cell_type": "code",
   "execution_count": 23,
   "id": "d6007a6c",
   "metadata": {},
   "outputs": [
    {
     "data": {
      "text/plain": [
       "5"
      ]
     },
     "execution_count": 23,
     "metadata": {},
     "output_type": "execute_result"
    }
   ],
   "source": [
    "# 0값인 글루코스의 수 카운트\n",
    "diabetes['Glucose'].value_counts()[0]"
   ]
  },
  {
   "cell_type": "code",
   "execution_count": 25,
   "id": "bac40891",
   "metadata": {},
   "outputs": [
    {
     "name": "stdout",
     "output_type": "stream",
     "text": [
      "Glucose의 0 건수: 5, 퍼센트: 0.65%\n",
      "BloodPressure의 0 건수: 35, 퍼센트: 4.56%\n",
      "SkinThickness의 0 건수: 227, 퍼센트: 29.56%\n",
      "Insulin의 0 건수: 374, 퍼센트: 48.70%\n",
      "BMI의 0 건수: 11, 퍼센트: 1.43%\n"
     ]
    }
   ],
   "source": [
    "# 0값을 가진 다른 변수들은?\n",
    "# 검사가 필요한 컬럼명 리스트\n",
    "zero_features=['Glucose','BloodPressure','SkinThickness','Insulin','BMI']\n",
    "## 전에 청경채 자료 부르고 싶었을떄 이렇게 리스트화 하면 되겠넹\n",
    "\n",
    "# 전체 데이터 건수\n",
    "total_count = diabetes.count()[0] # 한가지 값만 가져오려구\n",
    "\n",
    "# 각 feature별 0값이 차지하는 비율분석\n",
    "for feature in zero_features:\n",
    "    zero_count = diabetes[feature].value_counts()[0]\n",
    "    zero_rate = zero_count / total_count * 100\n",
    "    print(f\"{feature}의 0 건수: {zero_count}, 퍼센트: {zero_rate:.2f}%\")"
   ]
  },
  {
   "cell_type": "markdown",
   "id": "0ba547b4",
   "metadata": {},
   "source": [
    "- 무시할 수 없는 비율의 0값을 가진 컬럼도 있음.\n",
    "- 피처 특성상 0값은 아닐것 같은데 결측값을 0으로 대체한건 아닐까?\n",
    "- 그럼 0값을 평균값으로 대체함"
   ]
  },
  {
   "cell_type": "code",
   "execution_count": 26,
   "id": "912b52db",
   "metadata": {},
   "outputs": [],
   "source": [
    "# 0 값을 평균값으로 대체\n",
    "## 0값이 있는 컬럼의 평균\n",
    "mean_zero_features = diabetes[zero_features].mean()\n",
    "## 0값을 각 컬럼의 평균값으로 대체\n",
    "diabetes[zero_features] = diabetes[zero_features].replace(0, mean_zero_features)"
   ]
  },
  {
   "cell_type": "code",
   "execution_count": 59,
   "id": "00bab813",
   "metadata": {},
   "outputs": [],
   "source": [
    "# 한글 지원\n",
    "mpl.rcParams['font.family'] = 'batang'"
   ]
  },
  {
   "cell_type": "code",
   "execution_count": 60,
   "id": "a19f2707",
   "metadata": {},
   "outputs": [
    {
     "data": {
      "image/png": "[encoded data removed]",
      "text/plain": [
       "<Figure size 720x576 with 1 Axes>"
      ]
     },
     "metadata": {},
     "output_type": "display_data"
    }
   ],
   "source": [
    "frequency = diabetes['Outcome'].value_counts()\n",
    "label=[f\"0: {frequency[0]}개\", f\"1: {frequency[1]}개\"]\n",
    "\n",
    "plt.pie(frequency,\n",
    "       startangle=180, counterclock =False, explode=[0.03]*2, autopct = '%1.1f%%',\n",
    "       labels=label, colors=sns.color_palette('winter',2), wedgeprops=dict(width=0.7))\n",
    "\n",
    "plt.axis('equal')\n",
    "plt.show()\n",
    "#  nagative의 개수가 5백개이니깐, 정확도보다는 재현율?"
   ]
  },
  {
   "cell_type": "markdown",
   "id": "0cf7fa0c",
   "metadata": {},
   "source": [
    "## 로지스틱 회귀 모델 구현"
   ]
  },
  {
   "cell_type": "code",
   "execution_count": 36,
   "id": "713e0497",
   "metadata": {},
   "outputs": [],
   "source": [
    "X =diabetes.iloc[:,:-1] # 모든 행을 가져오는데 마지막 열만 빼고\n",
    "y =diabetes.Outcome\n",
    "\n",
    "# 표준화\n",
    "scaler = StandardScaler() # instance\n",
    "scaler.fit(X) \n",
    "X_scaled = scaler.transform(X)"
   ]
  },
  {
   "cell_type": "code",
   "execution_count": 39,
   "id": "cb03d6cf",
   "metadata": {},
   "outputs": [],
   "source": [
    "from sklearn.preprocessing import MinMaxScaler\n",
    "\n",
    "# 정규화\n",
    "min_max = MinMaxScaler()\n",
    "min_max.fit(X)\n",
    "X_mm = min_max.transform(X)\n",
    "## 두개 차이를 보려구"
   ]
  },
  {
   "cell_type": "markdown",
   "id": "913e2043",
   "metadata": {},
   "source": [
    "### 학습/검증 데이터 분리_StandardScaler\n",
    "- 클래스별 비율에 맞게 분리, stratify옵션"
   ]
  },
  {
   "cell_type": "code",
   "execution_count": 40,
   "id": "95f65f83",
   "metadata": {},
   "outputs": [],
   "source": [
    "# 세트 분리\n",
    "X_train, X_test, y_train, y_test = train_test_split(\n",
    "    X_scaled, y , random_state=156, test_size=0.2, stratify = y) "
   ]
  },
  {
   "cell_type": "markdown",
   "id": "8e8ca319",
   "metadata": {},
   "source": [
    "### Logistic Regression"
   ]
  },
  {
   "cell_type": "code",
   "execution_count": 43,
   "id": "ae729b26",
   "metadata": {},
   "outputs": [],
   "source": [
    "# 평가 수행하는 함수 정의\n",
    "def get_clf_eval(yTest, pred=None, pred_proba_po=None):\n",
    "    confusion = confusion_matrix(yTest, pred)\n",
    "    accuracy = accuracy_score(yTest, pred)\n",
    "    precision = precision_score(yTest, pred)\n",
    "    recall = recall_score(yTest, pred)\n",
    "    f1 = f1_score(yTest, pred)\n",
    "    auc = roc_auc_score(yTest, pred_proba_po)\n",
    "    \n",
    "    print('오차행렬 : {}'.format(confusion))\n",
    "    print(f\"정확도: {accuracy:.4f}, 정밀도: {precision:.4f}, 재현율: {recall:.4f}, F1: {f1:.4f}, AUC: {auc:.4f}\")"
   ]
  },
  {
   "cell_type": "code",
   "execution_count": 42,
   "id": "4085f6f3",
   "metadata": {},
   "outputs": [
    {
     "data": {
      "text/plain": [
       "array([[90, 10],\n",
       "       [21, 33]], dtype=int64)"
      ]
     },
     "execution_count": 42,
     "metadata": {},
     "output_type": "execute_result"
    }
   ],
   "source": [
    "# modelling\n",
    "lr = LogisticRegression()\n",
    "#fitting\n",
    "lr.fit(X_train, y_train) # 정규화\n",
    "# predicting\n",
    "pred= lr.predict(X_test)\n",
    "pred_proba_po = lr.predict_proba(X_test)[:,1].reshape(-1,1) \n",
    "# 확률값으로 1에해당하는 값만 가져와서 차원을 다시 잡음\n",
    "\n",
    "cm =confusion_matrix(y_test, pred)\n",
    "cm # 혼돈행렬"
   ]
  },
  {
   "cell_type": "code",
   "execution_count": 44,
   "id": "946fca20",
   "metadata": {},
   "outputs": [
    {
     "name": "stdout",
     "output_type": "stream",
     "text": [
      "오차행렬 : [[90 10]\n",
      " [21 33]]\n",
      "정확도: 0.7987, 정밀도: 0.7674, 재현율: 0.6111, F1: 0.6804, AUC: 0.8433\n"
     ]
    }
   ],
   "source": [
    "get_clf_eval(y_test, pred, pred_proba_po)"
   ]
  },
  {
   "cell_type": "markdown",
   "id": "ae60e06c",
   "metadata": {},
   "source": [
    "#### MinMaxScaler 이용시"
   ]
  },
  {
   "cell_type": "code",
   "execution_count": 41,
   "id": "f02f00ec",
   "metadata": {},
   "outputs": [],
   "source": [
    "# 정규화 꺼\n",
    "train_input, test_input, train_target, test_target = train_test_split(\n",
    " X_scaled, y , random_state=156, test_size=0.2, stratify = y)"
   ]
  },
  {
   "cell_type": "code",
   "execution_count": 46,
   "id": "623f776e",
   "metadata": {
    "scrolled": true
   },
   "outputs": [
    {
     "name": "stdout",
     "output_type": "stream",
     "text": [
      "오차행렬 : [[90 10]\n",
      " [21 33]]\n",
      "정확도: 0.7987, 정밀도: 0.7674, 재현율: 0.6111, F1: 0.6804, AUC: 0.8433\n"
     ]
    }
   ],
   "source": [
    " # 표준화의 모델링~예측\n",
    "lrs =LogisticRegression()\n",
    "lrs.fit(train_input, train_target)\n",
    "preds= lrs.predict(test_input)\n",
    "preds_proba_po = lrs.predict_proba(test_input)[:,1].reshape(-1,1)\n",
    "\n",
    "cms = confusion_matrix(test_target, preds)\n",
    "get_clf_eval(test_target, preds, preds_proba_po)"
   ]
  },
  {
   "cell_type": "markdown",
   "id": "199d0c27",
   "metadata": {},
   "source": [
    "- 재현율이 61퍼라는 건 네거티브가 출력될 확률이 높다는 거니깐 임계값(경계선)을 조절하여 네거티브 출력확률을 낮춰야겠군 \n",
    "- 재현율이 높지 않으니 각각이 어떻게 분포 되어있는지 확인하고 조정하는 방안을 모색해보자"
   ]
  },
  {
   "cell_type": "markdown",
   "id": "f82f167d",
   "metadata": {},
   "source": [
    "#### 혼돈행렬(Confision Matrix, 오차행렬)\n",
    "- TN: True_Negative, negative값 0으로 예측했고, 실제값도 negative0의 경우의수\n",
    "- FP: False_Positive, positive1로 예측, 실제값은 negative 0으로 나온 경우의 수\n",
    "- FN: False_Negative, negative값을 0으로 예측했고, 실제는 positive 1로 나온 경우의수\n",
    "- TP: True_Positive, positive 1로 예측했고, 실제값도 positive값 1로 나온 경우의 수\n",
    "<br><br>\n",
    "1. 정확도 : 전체 데이터개수 대비 정답을 맞춘 데이터수\n",
    " > <span style= 'color:cyan' >Accuracy = (TN + TP) / (TN + FP +FN + TP)</span>\n",
    "<br>\n",
    "2. 정밀도와 민감도(재현율) : 비슷하지만 조금 다른 지표로, <span style= 'color:cyan' >**불균이한 데이터셋**</span>을 다룰 때 유용한 지표\n",
    " - 불균일한 데이터셋이란 데이터의 1과 0의 비율이 7:3 또는 3:7이상 차이가 나는 상태\n",
    " - 정밀도(precision) : 모델이 1이라고 예측했을 떄 얼마나 잘 맞는 지의 비율\n",
    " > <span style= 'color:cyan' >TP / (FP + TP)</span>\n",
    " - 민감도(recall) : 실제 1인 값을 모델이 얼마나 1로 잘 예측했는지에 대한 비율\n",
    " > <span style= 'color:cyan' >TP / (FN + TP)</span>\n",
    "3. F1 score : 정밀도와 민감도를 통합한 지표로 정밀도와 민감도의 조화평균 값\n",
    " - 만든 모델이 얼마나 성능이 좋은지를 확인할 때 사용하는 지표\n",
    " - 한 개의 지표를 정리할 필요가 있을 떄 적합한 지표(정밀도와 재현율중 하나를 정리하여야할 때)\n",
    " > <span style= 'color:cyan' >2 * (precision * recall) / (precision + recall)</span>\n",
    "<br><br>\n",
    "- 이진분류 문제 중 암에 걸렸는지를 찾는 문제에서 진단이 암일 경우(1), 아닐 경우(0)을 의미\n",
    "- 생존 여부를 판단하는 문제에서 생존인 경우(1), 아닐경우(0)\n",
    "> 즉, 우리가 알아내고자 하는 값을 1로"
   ]
  },
  {
   "cell_type": "markdown",
   "id": "589effe9",
   "metadata": {},
   "source": [
    "### 정밀도/재현율 시각화"
   ]
  },
  {
   "cell_type": "code",
   "execution_count": 53,
   "id": "ab872d2b",
   "metadata": {},
   "outputs": [],
   "source": [
    "def precision_recall_curve_plot(y_test, pred_proba_c1):\n",
    "    precisions, recalls, thresholds = precision_recall_curve(y_test, pred_proba_c1)\n",
    "    \n",
    "    plt.figure(figsize = (8, 6))\n",
    "    threshold_boundary = thresholds.shape[0]\n",
    "    plt.plot(thresholds, precisions[0:threshold_boundary], linestyle = '--',\n",
    "             label = 'precision', color='dodgerblue')\n",
    "    plt.plot(thresholds, recalls[0:threshold_boundary], label = 'recall',\n",
    "            color='hotpink')\n",
    "    \n",
    "    start, end = plt.xlim()\n",
    "    plt.xticks(np.round(np.arange(start, end, 0.1), 2))\n",
    "    \n",
    "    plt.xlabel('Threshold value'); plt.ylabel('Precision and Recall value')\n",
    "    plt.legend(); plt.grid()\n",
    "    plt.show()"
   ]
  },
  {
   "cell_type": "code",
   "execution_count": 48,
   "id": "b837a73a",
   "metadata": {},
   "outputs": [
    {
     "data": {
      "text/plain": [
       "(array([0.43548387, 0.43089431, 0.43442623, 0.43801653, 0.44166667,\n",
       "        0.44537815, 0.44915254, 0.45299145, 0.45689655, 0.46086957,\n",
       "        0.46491228, 0.46902655, 0.47321429, 0.47747748, 0.48181818,\n",
       "        0.48623853, 0.49074074, 0.48598131, 0.48113208, 0.48571429,\n",
       "        0.49038462, 0.49514563, 0.49019608, 0.4950495 , 0.5       ,\n",
       "        0.50505051, 0.51020408, 0.51546392, 0.52083333, 0.52631579,\n",
       "        0.53191489, 0.53763441, 0.5326087 , 0.53846154, 0.53333333,\n",
       "        0.52808989, 0.52272727, 0.52873563, 0.53488372, 0.52941176,\n",
       "        0.53571429, 0.54216867, 0.53658537, 0.54320988, 0.55      ,\n",
       "        0.55696203, 0.55128205, 0.55844156, 0.56578947, 0.57333333,\n",
       "        0.58108108, 0.5890411 , 0.59722222, 0.6056338 , 0.6       ,\n",
       "        0.60869565, 0.60294118, 0.59701493, 0.60606061, 0.6       ,\n",
       "        0.609375  , 0.61904762, 0.61290323, 0.62295082, 0.63333333,\n",
       "        0.6440678 , 0.63793103, 0.64912281, 0.66071429, 0.67272727,\n",
       "        0.66666667, 0.67924528, 0.69230769, 0.70588235, 0.7       ,\n",
       "        0.71428571, 0.72916667, 0.74468085, 0.73913043, 0.73333333,\n",
       "        0.75      , 0.76744186, 0.78571429, 0.7804878 , 0.775     ,\n",
       "        0.76923077, 0.76315789, 0.75675676, 0.77777778, 0.77142857,\n",
       "        0.79411765, 0.81818182, 0.84375   , 0.83870968, 0.86666667,\n",
       "        0.86206897, 0.85714286, 0.85185185, 0.84615385, 0.84      ,\n",
       "        0.83333333, 0.82608696, 0.81818182, 0.80952381, 0.8       ,\n",
       "        0.78947368, 0.83333333, 0.82352941, 0.875     , 0.86666667,\n",
       "        0.85714286, 0.84615385, 0.91666667, 0.90909091, 0.9       ,\n",
       "        0.88888889, 0.875     , 0.85714286, 0.83333333, 0.8       ,\n",
       "        0.75      , 0.66666667, 0.5       , 0.        , 1.        ]),\n",
       " array([1.        , 0.98148148, 0.98148148, 0.98148148, 0.98148148,\n",
       "        0.98148148, 0.98148148, 0.98148148, 0.98148148, 0.98148148,\n",
       "        0.98148148, 0.98148148, 0.98148148, 0.98148148, 0.98148148,\n",
       "        0.98148148, 0.98148148, 0.96296296, 0.94444444, 0.94444444,\n",
       "        0.94444444, 0.94444444, 0.92592593, 0.92592593, 0.92592593,\n",
       "        0.92592593, 0.92592593, 0.92592593, 0.92592593, 0.92592593,\n",
       "        0.92592593, 0.92592593, 0.90740741, 0.90740741, 0.88888889,\n",
       "        0.87037037, 0.85185185, 0.85185185, 0.85185185, 0.83333333,\n",
       "        0.83333333, 0.83333333, 0.81481481, 0.81481481, 0.81481481,\n",
       "        0.81481481, 0.7962963 , 0.7962963 , 0.7962963 , 0.7962963 ,\n",
       "        0.7962963 , 0.7962963 , 0.7962963 , 0.7962963 , 0.77777778,\n",
       "        0.77777778, 0.75925926, 0.74074074, 0.74074074, 0.72222222,\n",
       "        0.72222222, 0.72222222, 0.7037037 , 0.7037037 , 0.7037037 ,\n",
       "        0.7037037 , 0.68518519, 0.68518519, 0.68518519, 0.68518519,\n",
       "        0.66666667, 0.66666667, 0.66666667, 0.66666667, 0.64814815,\n",
       "        0.64814815, 0.64814815, 0.64814815, 0.62962963, 0.61111111,\n",
       "        0.61111111, 0.61111111, 0.61111111, 0.59259259, 0.57407407,\n",
       "        0.55555556, 0.53703704, 0.51851852, 0.51851852, 0.5       ,\n",
       "        0.5       , 0.5       , 0.5       , 0.48148148, 0.48148148,\n",
       "        0.46296296, 0.44444444, 0.42592593, 0.40740741, 0.38888889,\n",
       "        0.37037037, 0.35185185, 0.33333333, 0.31481481, 0.2962963 ,\n",
       "        0.27777778, 0.27777778, 0.25925926, 0.25925926, 0.24074074,\n",
       "        0.22222222, 0.2037037 , 0.2037037 , 0.18518519, 0.16666667,\n",
       "        0.14814815, 0.12962963, 0.11111111, 0.09259259, 0.07407407,\n",
       "        0.05555556, 0.03703704, 0.01851852, 0.        , 0.        ]),\n",
       " array([0.10512114, 0.10592964, 0.10662769, 0.10891161, 0.10936894,\n",
       "        0.11137635, 0.11190966, 0.11499869, 0.11731773, 0.11915249,\n",
       "        0.12504385, 0.12539603, 0.12704617, 0.12921675, 0.13494224,\n",
       "        0.14220334, 0.1460878 , 0.14816469, 0.15064834, 0.15169081,\n",
       "        0.157666  , 0.16497236, 0.17258479, 0.17355557, 0.17921496,\n",
       "        0.19288548, 0.1969997 , 0.1981819 , 0.20068404, 0.20662792,\n",
       "        0.20781286, 0.21885467, 0.22076285, 0.22105925, 0.22884491,\n",
       "        0.23468783, 0.23486812, 0.23579979, 0.24070467, 0.24320039,\n",
       "        0.24991155, 0.2512496 , 0.26363069, 0.2687651 , 0.28920138,\n",
       "        0.29003876, 0.29788187, 0.29876399, 0.30271654, 0.30333217,\n",
       "        0.30974516, 0.31740729, 0.32870983, 0.32985071, 0.33329831,\n",
       "        0.33520332, 0.33781965, 0.34381359, 0.34562863, 0.34759055,\n",
       "        0.35335639, 0.36287975, 0.37937307, 0.38418851, 0.39070237,\n",
       "        0.39350926, 0.39434784, 0.40820146, 0.4099781 , 0.41439664,\n",
       "        0.41467495, 0.41610897, 0.42885602, 0.45117086, 0.4568789 ,\n",
       "        0.46205589, 0.46453351, 0.4828744 , 0.48667542, 0.48686254,\n",
       "        0.49221606, 0.52853229, 0.53608857, 0.53700465, 0.56657604,\n",
       "        0.5844643 , 0.59150881, 0.61983917, 0.62375678, 0.62908874,\n",
       "        0.65552729, 0.6633152 , 0.66807128, 0.69004602, 0.7026767 ,\n",
       "        0.71217656, 0.71832409, 0.72704012, 0.74205389, 0.74917785,\n",
       "        0.75124022, 0.75446829, 0.76256863, 0.76740586, 0.76973934,\n",
       "        0.77527936, 0.78478586, 0.79016757, 0.79317522, 0.8036486 ,\n",
       "        0.81370149, 0.81627089, 0.82885978, 0.83696821, 0.83917261,\n",
       "        0.85291458, 0.86796676, 0.87477402, 0.87968717, 0.88834749,\n",
       "        0.89718877, 0.91792546, 0.92102879, 0.97634517]))"
      ]
     },
     "execution_count": 48,
     "metadata": {},
     "output_type": "execute_result"
    }
   ],
   "source": [
    "# 임계값(threshold)별로 정밀도, 재현율 출력\n",
    "precisions, recalls, thresholds = precision_recall_curve(y_test, pred_proba_po)"
   ]
  },
  {
   "cell_type": "code",
   "execution_count": 54,
   "id": "d2280492",
   "metadata": {},
   "outputs": [
    {
     "data": {
      "image/png": "[encoded data removed]",
      "text/plain": [
       "<Figure size 576x432 with 1 Axes>"
      ]
     },
     "metadata": {},
     "output_type": "display_data"
    }
   ],
   "source": [
    "precision_recall_curve_plot(y_test, pred_proba_po)"
   ]
  },
  {
   "cell_type": "markdown",
   "id": "ffc63b66",
   "metadata": {},
   "source": [
    "- 정밀도와 재현율의 균형이 맞아야하는데, 겹쳐있을때 균형이 맞다고 볼 수 있다.\n",
    "- 여기서 균형이 맞는 부분이 0.44정도인데 그렇다치면 재현율이 0.6정도로 값이 높지않다.\n",
    "- 즉, 두 지표 모두 그렇게 값이 높지않다 판단됨. <u>트레이오프이니 정밀도를 버리고 재현율을 올리자</u>\n",
    "\n",
    "- 1을(양성) 더 많이 찾아 내는것이 중요한데 현재 데이터에 0이(500)1이(200대)정도로 편차가 보임\n",
    "- 그래서 정밀도와 재현율의 임계값을 보는 시각화 그래프를 통해 확인해본거"
   ]
  },
  {
   "cell_type": "code",
   "execution_count": 61,
   "id": "79294f8b",
   "metadata": {},
   "outputs": [],
   "source": [
    "from sklearn.preprocessing import Binarizer\n",
    "def get_clf_eval_thres(y_test, pred_po, threshold, f1_show=False, auc_show=False):\n",
    "    eval_df = pd.DataFrame()\n",
    "    \n",
    "    for thres in threshold:\n",
    "        # threshold에 따른 예측 분류 값\n",
    "        binarizer = Binarizer(threshold = thres)\n",
    "        binarizer.fit(pred_po)\n",
    "        thres_pred = binarizer.transform(pred_po)\n",
    "        \n",
    "        # 평가지표  \n",
    "        accuracy = accuracy_score(y_test, thres_pred)\n",
    "        precision = precision_score(y_test, thres_pred)\n",
    "        recall = recall_score(y_test, thres_pred)\n",
    "        f1 = f1_score(y_test, thres_pred)\n",
    "        auc = roc_auc_score(y_test, pred_po)\n",
    "        \n",
    "        # 데이터 프레임 형태\n",
    "        eval_lst = np.array([accuracy, precision, recall, f1, auc]).reshape(-1,1)\n",
    "        temp = pd.DataFrame(eval_lst, columns=[thres], \n",
    "                            index = [\"정확도\", \"정밀도\", \"재현율\", \"F1스코어\", \"AUC\"])\n",
    "        eval_df = pd.concat([eval_df,temp], axis=1)\n",
    "        \n",
    "    eval_df.columns.names = [\"임계값\"]\n",
    "    \n",
    "    if f1_show == False:\n",
    "        eval_df.drop(\"F1스코어\", axis=0, inplace=True)\n",
    "        \n",
    "    if auc_show == False:\n",
    "        eval_df.drop(\"AUC\", axis=0, inplace=True)\n",
    "        \n",
    "    return round(eval_df, 4)"
   ]
  },
  {
   "cell_type": "code",
   "execution_count": 62,
   "id": "ae9638eb",
   "metadata": {
    "scrolled": true
   },
   "outputs": [
    {
     "data": {
      "text/html": [
       "<div>\n",
       "<style scoped>\n",
       "    .dataframe tbody tr th:only-of-type {\n",
       "        vertical-align: middle;\n",
       "    }\n",
       "\n",
       "    .dataframe tbody tr th {\n",
       "        vertical-align: top;\n",
       "    }\n",
       "\n",
       "    .dataframe thead th {\n",
       "        text-align: right;\n",
       "    }\n",
       "</style>\n",
       "<table border=\"1\" class=\"dataframe\">\n",
       "  <thead>\n",
       "    <tr style=\"text-align: right;\">\n",
       "      <th>임계값</th>\n",
       "      <th>0.30</th>\n",
       "      <th>0.33</th>\n",
       "      <th>0.39</th>\n",
       "      <th>0.42</th>\n",
       "      <th>0.45</th>\n",
       "      <th>0.48</th>\n",
       "      <th>0.50</th>\n",
       "    </tr>\n",
       "  </thead>\n",
       "  <tbody>\n",
       "    <tr>\n",
       "      <th>정확도</th>\n",
       "      <td>0.7143</td>\n",
       "      <td>0.7403</td>\n",
       "      <td>0.7532</td>\n",
       "      <td>0.7792</td>\n",
       "      <td>0.7857</td>\n",
       "      <td>0.7987</td>\n",
       "      <td>0.7987</td>\n",
       "    </tr>\n",
       "    <tr>\n",
       "      <th>정밀도</th>\n",
       "      <td>0.5658</td>\n",
       "      <td>0.6000</td>\n",
       "      <td>0.6333</td>\n",
       "      <td>0.6923</td>\n",
       "      <td>0.7059</td>\n",
       "      <td>0.7447</td>\n",
       "      <td>0.7674</td>\n",
       "    </tr>\n",
       "    <tr>\n",
       "      <th>재현율</th>\n",
       "      <td>0.7963</td>\n",
       "      <td>0.7778</td>\n",
       "      <td>0.7037</td>\n",
       "      <td>0.6667</td>\n",
       "      <td>0.6667</td>\n",
       "      <td>0.6481</td>\n",
       "      <td>0.6111</td>\n",
       "    </tr>\n",
       "    <tr>\n",
       "      <th>F1스코어</th>\n",
       "      <td>0.6615</td>\n",
       "      <td>0.6774</td>\n",
       "      <td>0.6667</td>\n",
       "      <td>0.6792</td>\n",
       "      <td>0.6857</td>\n",
       "      <td>0.6931</td>\n",
       "      <td>0.6804</td>\n",
       "    </tr>\n",
       "    <tr>\n",
       "      <th>AUC</th>\n",
       "      <td>0.8433</td>\n",
       "      <td>0.8433</td>\n",
       "      <td>0.8433</td>\n",
       "      <td>0.8433</td>\n",
       "      <td>0.8433</td>\n",
       "      <td>0.8433</td>\n",
       "      <td>0.8433</td>\n",
       "    </tr>\n",
       "  </tbody>\n",
       "</table>\n",
       "</div>"
      ],
      "text/plain": [
       "임계값      0.30    0.33    0.39    0.42    0.45    0.48    0.50\n",
       "정확도    0.7143  0.7403  0.7532  0.7792  0.7857  0.7987  0.7987\n",
       "정밀도    0.5658  0.6000  0.6333  0.6923  0.7059  0.7447  0.7674\n",
       "재현율    0.7963  0.7778  0.7037  0.6667  0.6667  0.6481  0.6111\n",
       "F1스코어  0.6615  0.6774  0.6667  0.6792  0.6857  0.6931  0.6804\n",
       "AUC    0.8433  0.8433  0.8433  0.8433  0.8433  0.8433  0.8433"
      ]
     },
     "execution_count": 62,
     "metadata": {},
     "output_type": "execute_result"
    }
   ],
   "source": [
    "# threshold 리스트\n",
    "thres_list = [0.3,0.33,0.39,0.42,0.45,0.48,0.5]\n",
    "get_clf_eval_thres(y_test, pred_proba_po, thres_list, f1_show=True, auc_show=True)"
   ]
  },
  {
   "cell_type": "markdown",
   "id": "6748619e",
   "metadata": {},
   "source": [
    "- 처음 예측값, 정확도: 0.7987, 정밀도: 0.7674, 재현율: 0.6111, F1: 0.6804, AUC: 0.8433\n",
    "- 재현율에 초점을 둔다면 0.30이 좋지만 정밀도가 너무 떨어져서 <u>여러가지를 고려하여 0.48 값</u>"
   ]
  },
  {
   "cell_type": "code",
   "execution_count": 63,
   "id": "b9c54684",
   "metadata": {},
   "outputs": [
    {
     "name": "stdout",
     "output_type": "stream",
     "text": [
      "오차행렬 : [[88 12]\n",
      " [19 35]]\n",
      "정확도: 0.7987, 정밀도: 0.7447, 재현율: 0.6481, F1: 0.6931, AUC: 0.8433\n"
     ]
    }
   ],
   "source": [
    "binarizer = Binarizer(threshold=0.48)\n",
    "pred048 = binarizer.fit_transform(pred_proba_po)\n",
    "\n",
    "get_clf_eval(y_test, pred048, pred_proba_po)"
   ]
  }
 ],
 "metadata": {
  "kernelspec": {
   "display_name": "Python 3 (ipykernel)",
   "language": "python",
   "name": "python3"
  },
  "language_info": {
   "codemirror_mode": {
    "name": "ipython",
    "version": 3
   },
   "file_extension": ".py",
   "mimetype": "text/x-python",
   "name": "python",
   "nbconvert_exporter": "python",
   "pygments_lexer": "ipython3",
   "version": "3.9.7"
  },
  "toc": {
   "base_numbering": 1,
   "nav_menu": {},
   "number_sections": true,
   "sideBar": true,
   "skip_h1_title": false,
   "title_cell": "Table of Contents",
   "title_sidebar": "Contents",
   "toc_cell": false,
   "toc_position": {},
   "toc_section_display": true,
   "toc_window_display": false
  }
 },
 "nbformat": 4,
 "nbformat_minor": 5
}
