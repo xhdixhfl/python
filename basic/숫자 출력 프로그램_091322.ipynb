{
 "cells": [
  {
   "cell_type": "markdown",
   "id": "d7a6b70a",
   "metadata": {},
   "source": [
    "### 수를 이용한 프로그램 구현\n",
    " - up & down\n",
    " - 구구단 프로그램\n",
    " - 계산기프로그램\n",
    " - 계산기 응용\n",
    " "
   ]
  },
  {
   "cell_type": "markdown",
   "id": "d46863e7",
   "metadata": {},
   "source": [
    "#### up & down 프로그램 구현\n",
    " - 반복문을 이용해서 시스템이 설정한 랜덤 숫자를 맞추기\n",
    " - 난수 생성은 random 이용하기"
   ]
  },
  {
   "cell_type": "code",
   "execution_count": 1,
   "id": "e749ee0d",
   "metadata": {
    "ExecuteTime": {
     "end_time": "2023-02-10T03:12:23.223589Z",
     "start_time": "2023-02-10T03:11:30.802884Z"
    }
   },
   "outputs": [
    {
     "name": "stdout",
     "output_type": "stream",
     "text": [
      "1부터 100사이의 수를 입력해주세요 : 5\n",
      "해당 숫자보다 큰 수 입니다.\n",
      "1부터 100사이의 수를 입력해주세요 : 200\n",
      "해당 숫자보다 작은 수 입니다.\n",
      "1부터 100사이의 수를 입력해주세요 : 80\n",
      "해당 숫자보다 작은 수 입니다.\n",
      "1부터 100사이의 수를 입력해주세요 : 15\n",
      "해당 숫자보다 큰 수 입니다.\n",
      "1부터 100사이의 수를 입력해주세요 : 40\n",
      "해당 숫자보다 큰 수 입니다.\n",
      "1부터 100사이의 수를 입력해주세요 : 70\n",
      "해당 숫자보다 작은 수 입니다.\n",
      "1부터 100사이의 수를 입력해주세요 : 55\n",
      "해당 숫자보다 큰 수 입니다.\n",
      "1부터 100사이의 수를 입력해주세요 : 60\n",
      "해당 숫자보다 큰 수 입니다.\n",
      "1부터 100사이의 수를 입력해주세요 : 68\n",
      "해당 숫자보다 작은 수 입니다.\n",
      "1부터 100사이의 수를 입력해주세요 : 64\n",
      "해당 숫자보다 큰 수 입니다.\n",
      "1부터 100사이의 수를 입력해주세요 : 66\n",
      "해당 숫자보다 작은 수 입니다.\n",
      "1부터 100사이의 수를 입력해주세요 : 65\n",
      "생성된 숫자는 65가 맞습니다.\n"
     ]
    }
   ],
   "source": [
    "# 난수 생성하기\n",
    "import random\n",
    "\n",
    "r = random.randint(1,100) # 난수\n",
    "\n",
    "# 반복문 만들기\n",
    "while True:\n",
    "    num = int(input(\"1부터 100사이의 수를 입력해주세요 : \"))\n",
    "    if r == num:\n",
    "        print(\"생성된 숫자는 {}가 맞습니다.\".format(num))\n",
    "        break\n",
    "    if r > num:\n",
    "        print(\"해당 숫자보다 큰 수 입니다.\")\n",
    "    else:\n",
    "        print(\"해당 숫자보다 작은 수 입니다.\")"
   ]
  },
  {
   "cell_type": "code",
   "execution_count": 2,
   "id": "bed08927",
   "metadata": {
    "ExecuteTime": {
     "end_time": "2023-02-10T03:12:44.765426Z",
     "start_time": "2023-02-10T03:12:29.140256Z"
    }
   },
   "outputs": [
    {
     "name": "stdout",
     "output_type": "stream",
     "text": [
      "choose number: 6\n",
      " more big number\n",
      "choose number: 8\n",
      " more big number\n",
      "choose number: 42\n",
      " more small number\n",
      "choose number: 30\n",
      " more small number\n",
      "choose number: 20\n",
      " more small number\n",
      "\n",
      " oh... random number is 16\n"
     ]
    }
   ],
   "source": [
    "# 제한된 횟수 안에 숫자 맞추기\n",
    "\n",
    "import random\n",
    "rnum = random.randint(1,50) # 1 부터 50 안의 숫자를 랜덤으로 생성\n",
    "while 1:\n",
    "    \n",
    "    for i in range(5):\n",
    "        num = int(input(\"choose number: \"))\n",
    "        if num == rnum:\n",
    "            print(\"thah's right the number is %d !\" % num)\n",
    "            break\n",
    "        elif num > rnum:\n",
    "            print(\" more small number\")\n",
    "        else:\n",
    "            print(\" more big number\")\n",
    "    else:\n",
    "        print(\"\\n oh... random number is %d\" %rnum)\n",
    "        break"
   ]
  },
  {
   "cell_type": "markdown",
   "id": "07615633",
   "metadata": {},
   "source": [
    "#### 구구단 프로그램 \n",
    " - 입력받은 단수만 출력\n",
    " - 전체 단수 출력"
   ]
  },
  {
   "cell_type": "code",
   "execution_count": 4,
   "id": "d0fe1964",
   "metadata": {
    "ExecuteTime": {
     "end_time": "2023-02-10T03:13:17.540971Z",
     "start_time": "2023-02-10T03:13:11.895059Z"
    }
   },
   "outputs": [
    {
     "name": "stdout",
     "output_type": "stream",
     "text": [
      "단수를 입력하세요(프로그램 종료를 원할시 0을 입력하세요): 6\n",
      "\n",
      "=== 6단 ===\n",
      "6 X 1 = 6\n",
      "6 X 2 = 12\n",
      "6 X 3 = 18\n",
      "6 X 4 = 24\n",
      "6 X 5 = 30\n",
      "6 X 6 = 36\n",
      "6 X 7 = 42\n",
      "6 X 8 = 48\n",
      "6 X 9 = 54\n",
      "단수를 입력하세요(프로그램 종료를 원할시 0을 입력하세요): 0\n",
      "\t 프로그램이 종료됩니다.\n"
     ]
    }
   ],
   "source": [
    "# 안돼서 한 번 보고\n",
    "while True:\n",
    "    n = int(input(\"단수를 입력하세요(프로그램 종료를 원할시 0을 입력하세요): \"))\n",
    "    if n == 0:\n",
    "        print(\"\\t 프로그램이 종료됩니다.\")\n",
    "        break\n",
    "    print(\"\\n=== %d단 ===\" %n)\n",
    "    for i in range(1,10):  \n",
    "        print(\"{0} X {1} = {2}\".format(n, i, n * i))"
   ]
  },
  {
   "cell_type": "code",
   "execution_count": 5,
   "id": "ded53ffc",
   "metadata": {
    "ExecuteTime": {
     "end_time": "2023-02-10T03:13:20.546980Z",
     "start_time": "2023-02-10T03:13:20.518986Z"
    }
   },
   "outputs": [
    {
     "name": "stdout",
     "output_type": "stream",
     "text": [
      "\n",
      "=== 1단 ===\n",
      "1X1=1\n",
      "1X2=2\n",
      "1X3=3\n",
      "1X4=4\n",
      "1X5=5\n",
      "1X6=6\n",
      "1X7=7\n",
      "1X8=8\n",
      "1X9=9\n",
      "\n",
      "=== 2단 ===\n",
      "2X1=2\n",
      "2X2=4\n",
      "2X3=6\n",
      "2X4=8\n",
      "2X5=10\n",
      "2X6=12\n",
      "2X7=14\n",
      "2X8=16\n",
      "2X9=18\n",
      "\n",
      "=== 3단 ===\n",
      "3X1=3\n",
      "3X2=6\n",
      "3X3=9\n",
      "3X4=12\n",
      "3X5=15\n",
      "3X6=18\n",
      "3X7=21\n",
      "3X8=24\n",
      "3X9=27\n",
      "\n",
      "=== 4단 ===\n",
      "4X1=4\n",
      "4X2=8\n",
      "4X3=12\n",
      "4X4=16\n",
      "4X5=20\n",
      "4X6=24\n",
      "4X7=28\n",
      "4X8=32\n",
      "4X9=36\n",
      "\n",
      "=== 5단 ===\n",
      "5X1=5\n",
      "5X2=10\n",
      "5X3=15\n",
      "5X4=20\n",
      "5X5=25\n",
      "5X6=30\n",
      "5X7=35\n",
      "5X8=40\n",
      "5X9=45\n",
      "\n",
      "=== 6단 ===\n",
      "6X1=6\n",
      "6X2=12\n",
      "6X3=18\n",
      "6X4=24\n",
      "6X5=30\n",
      "6X6=36\n",
      "6X7=42\n",
      "6X8=48\n",
      "6X9=54\n",
      "\n",
      "=== 7단 ===\n",
      "7X1=7\n",
      "7X2=14\n",
      "7X3=21\n",
      "7X4=28\n",
      "7X5=35\n",
      "7X6=42\n",
      "7X7=49\n",
      "7X8=56\n",
      "7X9=63\n",
      "\n",
      "=== 8단 ===\n",
      "8X1=8\n",
      "8X2=16\n",
      "8X3=24\n",
      "8X4=32\n",
      "8X5=40\n",
      "8X6=48\n",
      "8X7=56\n",
      "8X8=64\n",
      "8X9=72\n",
      "\n",
      "=== 9단 ===\n",
      "9X1=9\n",
      "9X2=18\n",
      "9X3=27\n",
      "9X4=36\n",
      "9X5=45\n",
      "9X6=54\n",
      "9X7=63\n",
      "9X8=72\n",
      "9X9=81\n"
     ]
    }
   ],
   "source": [
    "# 전체 단수 출력\n",
    "for i in range(1,10):\n",
    "    print(\"\\n=== %d단 ===\" %i)\n",
    "    for j in range(1,10):\n",
    "        print(\"{}X{}={}\".format(i, j, i*j))"
   ]
  },
  {
   "cell_type": "markdown",
   "id": "7d5beb8a",
   "metadata": {},
   "source": [
    "#### 계산기 프로그램\n",
    "- 사칙연산을 구현하는 프로그램을 작성하시오."
   ]
  },
  {
   "cell_type": "code",
   "execution_count": 6,
   "id": "ab3463ba",
   "metadata": {
    "ExecuteTime": {
     "end_time": "2023-02-10T03:13:27.477348Z",
     "start_time": "2023-02-10T03:13:27.468346Z"
    }
   },
   "outputs": [],
   "source": [
    "# # 숫자 두개를 입력받는 함수\n",
    "# def getn1():\n",
    "#     n1 = int(input(\"연산하고자 하는 첫번째 수를 입력하시오 : \"))\n",
    "#     return n1\n",
    "#  #n2 = int(input(\"연산하고자 하는 두번째 수를 입력하시오 : \"))\n",
    "    \n",
    "# 더하기 프로그램\n",
    "def dhg():\n",
    "    print(\"\\t{} + {} = {}\".format(n1, n2, n1 + n2))\n",
    "    print(\"더하기가 완료되었습니다.\")\n",
    "\n",
    "# 빼기 프로그램\n",
    "def ppg():\n",
    "    print(\"\\t{} - {} = {}\".format(n1, n2, n1 - n2))\n",
    "    print(\"빼기가 완료되었습니다.\")\n",
    "    \n",
    "# 곱하기 프로그램\n",
    "def ghg():\n",
    "    print(\"\\t{} X {} = {}\".format(n1, n2, n1 * n2))\n",
    "    print(\"곱하기가 완료되었습니다.\")\n",
    "    \n",
    "def nng():\n",
    "    print(\"\\t{} / {} = {}\".format(n1, n2, n1 / n2))\n",
    "    print(\"나누기가 완료되었습니다.\")\n",
    "    \n",
    "#메뉴프로그램\n",
    "def showMenu():\n",
    "    print(\"\\n=== 사칙연산 프로그램 ===\")\n",
    "    print(\"1. 더하기 연산\")\n",
    "    print(\"2. 빼기 연산\")\n",
    "    print(\"3. 곱하기 연산\")\n",
    "    print(\"4. 나누기 연산\")\n",
    "    print(\"5. 프로그램 종료\")\n",
    "    print(\"=\"*20)\n",
    "    "
   ]
  },
  {
   "cell_type": "code",
   "execution_count": 7,
   "id": "4ea50f91",
   "metadata": {
    "ExecuteTime": {
     "end_time": "2023-02-10T03:14:04.740871Z",
     "start_time": "2023-02-10T03:13:32.123276Z"
    }
   },
   "outputs": [
    {
     "name": "stdout",
     "output_type": "stream",
     "text": [
      "\n",
      "=== 사칙연산 프로그램 ===\n",
      "1. 더하기 연산\n",
      "2. 빼기 연산\n",
      "3. 곱하기 연산\n",
      "4. 나누기 연산\n",
      "5. 프로그램 종료\n",
      "====================\n",
      "메뉴를 선택하시오 :2\n",
      "연산하고자 하는 첫번째 수를 입력하시오 : 30\n",
      "연산하고자 하는 두번째 수를 입력하시오 : 21\n",
      "\t30 - 21 = 9\n",
      "빼기가 완료되었습니다.\n",
      "\n",
      "=== 사칙연산 프로그램 ===\n",
      "1. 더하기 연산\n",
      "2. 빼기 연산\n",
      "3. 곱하기 연산\n",
      "4. 나누기 연산\n",
      "5. 프로그램 종료\n",
      "====================\n",
      "메뉴를 선택하시오 :1\n",
      "연산하고자 하는 첫번째 수를 입력하시오 : 1\n",
      "연산하고자 하는 두번째 수를 입력하시오 : 3\n",
      "\t1 + 3 = 4\n",
      "더하기가 완료되었습니다.\n",
      "\n",
      "=== 사칙연산 프로그램 ===\n",
      "1. 더하기 연산\n",
      "2. 빼기 연산\n",
      "3. 곱하기 연산\n",
      "4. 나누기 연산\n",
      "5. 프로그램 종료\n",
      "====================\n",
      "메뉴를 선택하시오 :3\n",
      "연산하고자 하는 첫번째 수를 입력하시오 : 21\n",
      "연산하고자 하는 두번째 수를 입력하시오 : 14\n",
      "\t21 X 14 = 294\n",
      "곱하기가 완료되었습니다.\n",
      "\n",
      "=== 사칙연산 프로그램 ===\n",
      "1. 더하기 연산\n",
      "2. 빼기 연산\n",
      "3. 곱하기 연산\n",
      "4. 나누기 연산\n",
      "5. 프로그램 종료\n",
      "====================\n",
      "메뉴를 선택하시오 :4\n",
      "연산하고자 하는 첫번째 수를 입력하시오 : 42\n",
      "연산하고자 하는 두번째 수를 입력하시오 : 6\n",
      "\t42 / 6 = 7.0\n",
      "나누기가 완료되었습니다.\n",
      "\n",
      "=== 사칙연산 프로그램 ===\n",
      "1. 더하기 연산\n",
      "2. 빼기 연산\n",
      "3. 곱하기 연산\n",
      "4. 나누기 연산\n",
      "5. 프로그램 종료\n",
      "====================\n",
      "메뉴를 선택하시오 :5\n",
      "\t프로그램이 종료됩니다.\n"
     ]
    }
   ],
   "source": [
    "# 최종 프로그램 제작\n",
    "def calProgram():\n",
    "    while 1:\n",
    "        showMenu()\n",
    "        menu = input(\"메뉴를 선택하시오 :\")\n",
    "        M = \"1\",\"2\",\"3\",\"4\"\n",
    "        \n",
    "        if menu in M:\n",
    "            global n1\n",
    "            global n2\n",
    "            n1 = int(input(\"연산하고자 하는 첫번째 수를 입력하시오 : \"))\n",
    "            n2 = int(input(\"연산하고자 하는 두번째 수를 입력하시오 : \"))\n",
    "            \n",
    "            if menu == \"1\":\n",
    "                dhg()\n",
    "            elif menu == \"2\":\n",
    "                ppg()\n",
    "            elif menu == \"3\":\n",
    "                ghg()\n",
    "            elif menu == \"4\":\n",
    "                nng()\n",
    "        if menu not in M:\n",
    "            if menu == \"5\":\n",
    "                print(\"\\t프로그램이 종료됩니다.\")\n",
    "                break\n",
    "            else:\n",
    "                print(\"잘못된 메뉴입니다. 다시 선택해주세요.\")\n",
    "                return calProgram()\n",
    "\n",
    "calProgram()          "
   ]
  },
  {
   "cell_type": "markdown",
   "id": "260b2245",
   "metadata": {},
   "source": [
    "#### 계산기 응용버전(멀티 프로그램)\n",
    " - 최댓값, 사칙연산, 수와 열 작업을 구현하는 프로그램을 생성하시오."
   ]
  },
  {
   "cell_type": "code",
   "execution_count": 8,
   "id": "e7a89fc9",
   "metadata": {
    "ExecuteTime": {
     "end_time": "2023-02-10T03:14:08.612292Z",
     "start_time": "2023-02-10T03:14:08.592040Z"
    }
   },
   "outputs": [],
   "source": [
    "# 최댓값구하기\n",
    "def maxN():\n",
    "    n1 = int(input(\" write first number :\"))\n",
    "    n2 = int(input(\" write second number :\"))\n",
    "    if n1 > n2:\n",
    "        print(\" the bigger one is %d \" % n1)\n",
    "    elif n1 == n2:\n",
    "        print(\" they are same number\")\n",
    "    else:\n",
    "        print(\" the bigger one is %d \" % n2)\n",
    "        \n",
    "# 사칙연산\n",
    "def cal():\n",
    "    s1 = int(input(\" write first number :\"))\n",
    "    mark = input(\"chooser one(+, -, *, /) : \")\n",
    "    s2 = int(input(\" write second number :\"))\n",
    "    if mark == \"+\":\n",
    "        print(\"{0} + {1} = {2}\".format(s1, s2, s1 + s2))\n",
    "    elif mark == \"-\":\n",
    "        print(\"{0} - {1} = {2}\".format(s1, s2, s1 - s2))\n",
    "    elif mark == \"*\":\n",
    "        print(\"{0} × {1} = {2}\".format(s1, s2, s1 * s2))\n",
    "    elif mark == \"/\":\n",
    "        print(\"{0} ÷ {1} = {2}\".format(s1, s2, s1 / s2))\n",
    "    else:\n",
    "        print(\"\\n that's wrong choice, try again\")\n",
    "        return cal()\n",
    "    \n",
    "# 수나열\n",
    "suList = list()\n",
    "def su():\n",
    "    x1 = int(input(\" write first number :\"))\n",
    "    x2 = int(input(\" write second number :\"))\n",
    "    x3 = int(input(\" write third number :\"))\n",
    "    \n",
    "    suList.append(x1)\n",
    "    suList.append(x2)\n",
    "    suList.append(x3)\n",
    "    suList.sort(reverse = True)  # 바보 sort는 오름차순이라 큰순으로 하려면 리버스...\n",
    "    print(suList)\n",
    "\n",
    "# 메뉴 프로그램\n",
    "def sMenu():\n",
    "    print(\"=== Multi Program ===\")\n",
    "    print(\"1. What's big number?\")\n",
    "    print(\"2. Calculator program\")\n",
    "    print(\"3. Sort numbers\")\n",
    "    print(\"4. End the program\")\n",
    "    print(\"=\"*20)\n",
    "    \n",
    "def mProgram():\n",
    "    sMenu()\n",
    "    while 1:\n",
    "     #   global mn\n",
    "        mn = input(\"\\t choice the menu : \")\n",
    "        if mn == \"1\":\n",
    "            print(\"\\n <what's big number?>\")\n",
    "            maxN()\n",
    "        elif mn == \"2\":\n",
    "            print(\"\\n <calculator program>\")\n",
    "            cal()\n",
    "        elif mn == \"3\":\n",
    "            print(\"\\n <sort numbers>\")\n",
    "            su()\n",
    "        elif mn == \"4\":\n",
    "            print(\"\\t *Program Over*\")\n",
    "            break\n",
    "        else:\n",
    "            print(\"\\n that's wong menu, please one more check\")\n",
    "            return mProgram()"
   ]
  },
  {
   "cell_type": "code",
   "execution_count": 9,
   "id": "836c91e9",
   "metadata": {
    "ExecuteTime": {
     "end_time": "2023-02-10T03:14:49.501667Z",
     "start_time": "2023-02-10T03:14:12.629063Z"
    }
   },
   "outputs": [
    {
     "name": "stdout",
     "output_type": "stream",
     "text": [
      "=== Multi Program ===\n",
      "1. What's big number?\n",
      "2. Calculator program\n",
      "3. Sort numbers\n",
      "4. End the program\n",
      "====================\n",
      "\t choice the menu : 1\n",
      "\n",
      " <what's big number?>\n",
      " write first number :31\n",
      " write second number :145\n",
      " the bigger one is 145 \n",
      "\t choice the menu : 2\n",
      "\n",
      " <calculator program>\n",
      " write first number :5\n",
      "chooser one(+, -, *, /) : +\n",
      " write second number :812\n",
      "5 + 812 = 817\n",
      "\t choice the menu : 3\n",
      "\n",
      " <sort numbers>\n",
      " write first number :5156\n",
      " write second number :8462\n",
      " write third number :55\n",
      "[8462, 5156, 55]\n",
      "\t choice the menu : 4\n",
      "\t *Program Over*\n"
     ]
    }
   ],
   "source": [
    "mProgram()\n"
   ]
  },
  {
   "cell_type": "code",
   "execution_count": null,
   "id": "c3abc6ce",
   "metadata": {},
   "outputs": [],
   "source": []
  }
 ],
 "metadata": {
  "hide_input": false,
  "kernelspec": {
   "display_name": "Python 3 (ipykernel)",
   "language": "python",
   "name": "python3"
  },
  "language_info": {
   "codemirror_mode": {
    "name": "ipython",
    "version": 3
   },
   "file_extension": ".py",
   "mimetype": "text/x-python",
   "name": "python",
   "nbconvert_exporter": "python",
   "pygments_lexer": "ipython3",
   "version": "3.9.7"
  },
  "toc": {
   "base_numbering": 1,
   "nav_menu": {},
   "number_sections": true,
   "sideBar": true,
   "skip_h1_title": false,
   "title_cell": "Table of Contents",
   "title_sidebar": "Contents",
   "toc_cell": false,
   "toc_position": {},
   "toc_section_display": true,
   "toc_window_display": true
  }
 },
 "nbformat": 4,
 "nbformat_minor": 5
}
