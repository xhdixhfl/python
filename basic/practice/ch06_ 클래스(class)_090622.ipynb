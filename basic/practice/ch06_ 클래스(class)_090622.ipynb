{
 "cells": [
  {
   "cell_type": "markdown",
   "id": "8001abd2",
   "metadata": {},
   "source": [
    "### 객체 지향 프로그래밍(OOP, Object Oriented Programming)\n",
    "- 객체(Object)를 중심으로 프로그램을 구현하거나 생각하는 것\n",
    "- 클래스(Class)기반의 객체 지향 프로그래밍 언어는 클래스를 기반으로 객체를 만드로, 그 객체를 중심으로 프로그램을 구현한다."
   ]
  },
  {
   "cell_type": "markdown",
   "id": "e28fd565",
   "metadata": {},
   "source": [
    "##### 1단계 : 학생정보를 받아 총점과 평균을 계산하여 출력하는 프로그램"
   ]
  },
  {
   "cell_type": "code",
   "execution_count": null,
   "id": "a57e1ac3",
   "metadata": {},
   "outputs": [],
   "source": [
    "# 학생정보를 담고 있는 리스트\n",
    "# 리스트의 요소를 사전으로 담을것\n",
    "students = [ \n",
    "    {'name':'Hong gildong', 'kor': 87, 'eng':88, 'math':98, 'sci':95},\n",
    "    {'name': 'Jang bogo','kor': 92, 'eng':98, 'math':96, 'sci':90},\n",
    "    {'name':'U goanseun', 'kor':99, 'eng':92, 'math':99, 'sci':89},\n",
    "    {'name':'Kim usin','kor': 95, 'eng':89, 'math':88, 'sci':90},\n",
    "    {'name':'Lee soonsin', 'kor': 99, 'eng':80, 'math':92, 'sci':99}\n",
    "]\n",
    "\n",
    "# 구조체 => 클래스\n",
    "\n",
    "# 학생정보를 한명씩 반복해서 출력하는 로직\n",
    "print(\"이름     \",\"총점\",\"평균\", sep=\"\\t\")   # sep = 구분자, end = \"\\n\"\n",
    "# for 개별변수 in 집합변수\n",
    "for student in students:\n",
    "     # student의 자료형은 사전이니깐 키를 이용하여 값을 불러와야 한다.\n",
    "    score_sum = student['kor']+student['eng']+student['math']+student['sci']\n",
    "    score_avg = score_sum / 4\n",
    "    \n",
    "    # 계산된 학생 한명의 정보를 출력\n",
    "    print(student['name'], score_sum, score_avg, sep='\\t')"
   ]
  },
  {
   "cell_type": "markdown",
   "id": "fb63966b",
   "metadata": {},
   "source": [
    "##### 2단계 : 함수(Function)으로 구현\n",
    " - 함수 : 여러 명령이나 기능을 하나로 묵어서 관리하는 것. 명령어 집합(덩어리)"
   ]
  },
  {
   "cell_type": "code",
   "execution_count": null,
   "id": "17496dfb",
   "metadata": {},
   "outputs": [],
   "source": [
    "## 프로그램을 구조화 하면 유지보수하기가 쉬워짐\n",
    "\n",
    "# 학생 한명에 대한 정보를 만드는 함수를 구현하시요.\n",
    "# 학생정보를 입력받아 사전으로 변환하여 되돌려주는 역활을 수행하는 함수를 선언\n",
    "\n",
    "def create_student(name, kor, eng, math, sci):   #매개변수로 입력되는 값을 사전으로 반환하는것\n",
    "    return {\n",
    "        'name': name,\n",
    "        'kor': kor,\n",
    "        'eng': eng,\n",
    "        'math': math,\n",
    "        'sci': sci\n",
    "    }\n",
    "\n",
    "# 학생정보를 담은 리스트를 구현\n",
    "students = [\n",
    "    create_student('Hong gildong',87,88,98,95),\n",
    "    create_student('Jang bogo',92,98,96,90),\n",
    "    create_student('U goanseun',99,92,99,89),\n",
    "    create_student('Kim usin',95,89,88,90),\n",
    "    create_student('Lee soonsin',99,80,92,99)\n",
    "]\n",
    "\n",
    "# 학생정보를 한명씩 반복해서 출력하는 로직\n",
    "print(\"이름     \",\"총점\",\"평균\", sep=\"\\t\")   # sep = 구분자, end = \"\\n\"\n",
    "# for 개별변수 in 집합변수\n",
    "for student in students:\n",
    "     # 총점과 평균을 계산하는 로직\n",
    "    score_sum = student['kor']+student['eng']+student['math']+student['sci']\n",
    "    score_avg = score_sum / 4\n",
    "    \n",
    "    # 계산된 학생 한명의 정보를 출력\n",
    "    print(student['name'], score_sum, score_avg, sep='\\t')"
   ]
  },
  {
   "cell_type": "markdown",
   "id": "02cff37e",
   "metadata": {},
   "source": [
    "##### 3단계 : 프로그램의 확장과 유지보수를 위해 기능별 함수 구현"
   ]
  },
  {
   "cell_type": "code",
   "execution_count": null,
   "id": "a7391b38",
   "metadata": {},
   "outputs": [],
   "source": [
    "### 로직을 기능별로 묶어 정리한 방식 (지금은 데이터가 작아서 모르지만 양이 많아지면 묶는게 유지보수가 간편)\n",
    "\n",
    "# 사전으로 변환하여 리턴하는 함수 : 학생정보를 입력받아 사전으로 변환\n",
    "def create_student(name, kor, eng, math, sci):\n",
    "    return {\n",
    "        'name': name,\n",
    "        'kor': kor,\n",
    "        'eng': eng,\n",
    "        'math': math,\n",
    "        'sci': sci\n",
    "    }\n",
    "\n",
    "# 학생정보를 담은 리스트를 구현\n",
    "students = [\n",
    "    create_student('Hong gildong',87,88,98,95),\n",
    "    create_student('Jang bogo',92,98,96,90),\n",
    "    create_student('U goanseun',99,92,99,89),\n",
    "    create_student('Kim usin',95,89,88,90),\n",
    "    create_student('Lee soonsin',99,80,92,99)\n",
    "]\n",
    "\n",
    "# 총점과 평균을 처리하는 로직\n",
    "def student_getSum(student):\n",
    "    return student['kor']+student['eng']+student['math']+student['sci']   # 총점을 반환\n",
    "\n",
    "def student_getAvg(student):\n",
    "    return student_getSum(student) / 4     #평균을 반환\n",
    " #  return (student['kor']+student['eng']+student['math']+student['sci']) / 4\n",
    "\n",
    "# 정보를 받아 출력하는 함수\n",
    "def student_getString(student):\n",
    "    return \"{}\\t{}\\t{}\".format(\n",
    "        student['name'],\n",
    "        student_getSum(student),\n",
    "        student_getAvg(student))\n",
    "\n",
    "# 학생정보 처리\n",
    "print(\"이름     \",\"총점\",\"평균\", sep=\"\\t\")\n",
    "for student in students:\n",
    "    print(student_getString(student))"
   ]
  },
  {
   "cell_type": "code",
   "execution_count": null,
   "id": "e2d8624e",
   "metadata": {},
   "outputs": [],
   "source": [
    "# 클래스 선언\n",
    "class Student:           # 붕어빵 틀(object 객체)\n",
    "    pass\n",
    "\n",
    "# instance 객체\n",
    "student = Student()\n",
    "\n",
    "\n",
    "# 학생정보를 담고 있는 리스트 선언\n",
    "students = [\n",
    "    Student(),\n",
    "    Student(),\n",
    "    Student(),\n",
    "    Student(),\n",
    "    Student(),\n",
    "    Student()  \n",
    "]\n"
   ]
  },
  {
   "cell_type": "markdown",
   "id": "b730cb22",
   "metadata": {},
   "source": [
    "### 클래스(class) 기본"
   ]
  },
  {
   "cell_type": "code",
   "execution_count": null,
   "id": "a078dd20",
   "metadata": {},
   "outputs": [],
   "source": [
    "# 객체를 프로그램에 표현하는 구조 - 클래스\n",
    "# 객체 : Object(붕어빵 틀) vs Instance (붕어빵)\n",
    "# 오브젝트 객체는 인스턴스 객체들의 공통된 속성과 행위를 이용하여 구현한다.\n",
    "\n",
    "#클래스 선언\n",
    "class Car:\n",
    "    ## Member field : 프로퍼티스 = 변수 (특성, 속성)\n",
    "    \n",
    "    ## Member Method : 함수 (행위, 동작)\n",
    "    pass\n"
   ]
  },
  {
   "cell_type": "code",
   "execution_count": null,
   "id": "fc753316",
   "metadata": {},
   "outputs": [],
   "source": [
    "# 함수 선언\n",
    "def car(): "
   ]
  },
  {
   "cell_type": "code",
   "execution_count": null,
   "id": "4231c321",
   "metadata": {},
   "outputs": [],
   "source": [
    "# '사람'객체를 구현하는 클래스 선언\n",
    "class Person:\n",
    "    #멤버필드\n",
    "    \n",
    "    #멤버메서드\n",
    "    def walk(self):    ## self = this, 자기 자신을 가르키는 키워드(객체를 가르키는 주소)\n",
    "        print(\"사람이 걸어갑니다.\")\n",
    "        \n",
    "    def run(self): \n",
    "        print(\"사람이 달려갑니다.\")"
   ]
  },
  {
   "cell_type": "code",
   "execution_count": null,
   "id": "15b67936",
   "metadata": {},
   "outputs": [],
   "source": [
    "# '사람' 클래스 인스턴스 객체 생성\n",
    "p1 = Person()\n",
    "\n",
    "# 인스턴스 객체를 이용해서 클래스의 멤버에 접근한다.\n",
    "## direct 연산자 : 객체명.멤버필드 or 객체명. 멤버메서드\n",
    "p1.walk()"
   ]
  },
  {
   "cell_type": "code",
   "execution_count": null,
   "id": "b887aa57",
   "metadata": {},
   "outputs": [],
   "source": [
    "p1.run()"
   ]
  },
  {
   "cell_type": "code",
   "execution_count": null,
   "id": "73cdd9f6",
   "metadata": {},
   "outputs": [],
   "source": [
    "# '사람'객체를 구현하는 클래스 선언\n",
    "class Person:\n",
    "    #멤버필드\n",
    "   # name = \"\"\n",
    "    \n",
    "    #멤버메서드\n",
    "    def walk(self):    ## self = this, 자기 자신을 가르키는 키워드(객체를 가르키는 주소)\n",
    "        print(self.name + \"이/가 걸어갑니다.\")   # 이렇게 self.name이있으면 멤버필드 중 name을 굳이 생성하지 않아도 구현 가능\n",
    "        \n",
    "    def run(self): \n",
    "        print(self.name + \"이/가 달려갑니다.\")"
   ]
  },
  {
   "cell_type": "code",
   "execution_count": null,
   "id": "49a7bcf4",
   "metadata": {},
   "outputs": [],
   "source": [
    "p1 = Person()\n",
    "\n",
    "\n",
    "#인스턴스객체를 이용하여 멤버필드를 초기화하는 작업이 필요하다.\n",
    "p1.name = \"홍길동\"\n",
    "p1.walk()\n",
    "p1.run()"
   ]
  },
  {
   "cell_type": "code",
   "execution_count": null,
   "id": "c0b48ef2",
   "metadata": {},
   "outputs": [],
   "source": [
    "p2 = Person()\n",
    "\n",
    "p2.name = \"유경민\"\n",
    "p2.walk()\n",
    "p2.run()"
   ]
  },
  {
   "cell_type": "code",
   "execution_count": null,
   "id": "f2666c0b",
   "metadata": {},
   "outputs": [],
   "source": [
    "p3 = Person()\n",
    "\n",
    "p3.name = \"안정은\"\n",
    "p3.walk()\n",
    "p3.run()"
   ]
  },
  {
   "cell_type": "code",
   "execution_count": null,
   "id": "80a0a4d3",
   "metadata": {},
   "outputs": [],
   "source": [
    "# '사람'객체를 구현하는 클래스 선언\n",
    "class Person:\n",
    "    #멤버필드\n",
    "   # name = \"\"\n",
    "    \n",
    "    #멤버메서드\n",
    "    def walk(self, speed):    ## self = this, 자기 자신을 가르키는 키워드(객체를 가르키는 주소)\n",
    "        print(self.name + \"이/가 \" + str(speed) + \"km/s의 속도로 걸어갑니다.\")   \n",
    "        # 이렇게 self.name이있으면 멤버필드 중 name을 굳이 생성하지 않아도 구현 가능\n",
    "        \n",
    "    def run(self, speed): \n",
    "        print(self.name + \"이/가 \" + str(speed) + \"km/s의 속도로 달려갑니다.\") "
   ]
  },
  {
   "cell_type": "code",
   "execution_count": null,
   "id": "7d675bd1",
   "metadata": {},
   "outputs": [],
   "source": [
    "p = Person()\n",
    "\n",
    "# 멤버필드 초기화\n",
    "p.name = \"장보고\"\n",
    "\n",
    "# 멤버 메서드 호출\n",
    "p.walk(10)\n",
    "p.run(25)"
   ]
  },
  {
   "cell_type": "code",
   "execution_count": null,
   "id": "eeea0020",
   "metadata": {},
   "outputs": [],
   "source": [
    "p1 = Person()\n",
    "\n",
    "p1.name = \"임꺽정\"\n",
    "p1.walk(5)\n",
    "p1.run(15)"
   ]
  },
  {
   "cell_type": "code",
   "execution_count": null,
   "id": "eb91d7e2",
   "metadata": {},
   "outputs": [],
   "source": [
    "# '사람'객체를 구현하는 클래스 선언\n",
    "class Person:\n",
    "    #멤버필드\n",
    "   # name = \"\"\n",
    "    \n",
    "    # 생성자 메서드 : 객체 생성시 멤버필드를 초기화할 목적으로 구현하는 메서드\n",
    "    def __init__(self, name):    # 이렇게 함수명이 지정되어 있음 (__init__)\n",
    "        self.name = name    # 이름을 클래스안에 담으려고  // 자바는 this.name = name\n",
    "    \n",
    "    #멤버메서드\n",
    "    def walk(self, speed):    ## self = this, 자기 자신을 가르키는 키워드(객체를 가르키는 주소)\n",
    "        print(self.name + \"이/가 \" + str(speed) + \"km/s의 속도로 걸어갑니다.\")   \n",
    "        # 이렇게 self.name이있으면 멤버필드 중 name을 굳이 생성하지 않아도 구현 가능\n",
    "        \n",
    "    def run(self, speed): \n",
    "        print(self.name + \"이/가 \" + str(speed) + \"km/s의 속도로 달려갑니다.\") "
   ]
  },
  {
   "cell_type": "code",
   "execution_count": null,
   "id": "61827093",
   "metadata": {},
   "outputs": [],
   "source": [
    "# 인스턴스 객체 생성시 생성자 메서드가 자동으로 호출된다.\n",
    "p1 = Person(\"이순신\")\n",
    "\n",
    "p1.walk(10)\n",
    "p1.run(25)"
   ]
  },
  {
   "cell_type": "code",
   "execution_count": null,
   "id": "1fe2f8a3",
   "metadata": {},
   "outputs": [],
   "source": [
    "p2 = Person()\n",
    "\n",
    "p2.walk(5)\n",
    "p2.run(10)"
   ]
  },
  {
   "cell_type": "code",
   "execution_count": null,
   "id": "cdee63be",
   "metadata": {},
   "outputs": [],
   "source": [
    "# 생성자 메서드를 기술하지 않을 때 defult 생성자가 호출되는 것으로 간주한다.\n",
    "# defult 생성자는 매개변수를 가지고 있지 않은 생성자를 뜻한다. Person()"
   ]
  },
  {
   "cell_type": "code",
   "execution_count": null,
   "id": "1ff3d1e4",
   "metadata": {},
   "outputs": [],
   "source": [
    "class Person:\n",
    "    # member field \n",
    "    # 생성자 메서드 : 객체 생성시 자동으로 호출되는 메서드 (가능은 하나 대부분 생략안함)\n",
    "    # 멤버 메서드\n",
    "    def disp(self):\n",
    "        print(\"이름: \"+self.name)\n",
    "        print(\"나이: \"+str(self.age))\n",
    "        print(\"신장: \"+str(self.height))\n",
    "    # 소멸자 메서드 : 객체 소멸시 자동으로 호출되는 메서드, 생략해서 사용"
   ]
  },
  {
   "cell_type": "code",
   "execution_count": null,
   "id": "9be331d3",
   "metadata": {},
   "outputs": [],
   "source": [
    "# Person 클래스의 인스턴스 객체 생성\n",
    "p1 = Person()  # defult 생성자 : 생성자가 없을 경우 생략된 것으로 간주한다.\n",
    "\n",
    "# 멤버필드를 초기화하는 작업을 수행한다.\n",
    "p1.name = \"길동\"\n",
    "p1.age = 33\n",
    "p1.height = 175\n",
    "p1.disp()"
   ]
  },
  {
   "cell_type": "code",
   "execution_count": null,
   "id": "b950af99",
   "metadata": {},
   "outputs": [],
   "source": [
    "p2 = Person()\n",
    "p2.name = \"보고\"\n",
    "p2.age = 26\n",
    "p2.height = 186\n",
    "p2.disp()"
   ]
  },
  {
   "cell_type": "code",
   "execution_count": null,
   "id": "7e6c5e2f",
   "metadata": {},
   "outputs": [],
   "source": [
    "class Person:\n",
    "    # member field \n",
    "    \n",
    "    # 생성자 메서드 : 객체 생성시 자동으로 호출되는 메서드 (가능은 하나 대부분 생략안함)\n",
    "    def __init__(self, name, age, height):\n",
    "        self.name = name\n",
    "        self.age = age\n",
    "        self.height = height\n",
    "        \n",
    "    # 멤버 메서드\n",
    "    def disp(self):\n",
    "        print(\"이름: \"+self.name)\n",
    "        print(\"나이: \"+str(self.age))\n",
    "        print(\"신장: \"+str(self.height))\n",
    "        \n",
    "    # 소멸자 메서드 : 객체 소멸시 자동으로 호출되는 메서드, 생략해서 사용"
   ]
  },
  {
   "cell_type": "code",
   "execution_count": null,
   "id": "e05bd93c",
   "metadata": {},
   "outputs": [],
   "source": [
    "# 생성자 메서드의 형태에 맞게 객체를 생성해야 한다.\n",
    "p3 = Person(\"이순신\", 40, 180.5)\n",
    "\n",
    "p3.disp()"
   ]
  },
  {
   "cell_type": "code",
   "execution_count": null,
   "id": "310abefa",
   "metadata": {},
   "outputs": [],
   "source": [
    "class Person:\n",
    "    # 멤버 필드 = 프로퍼티스(클래스 변수, 공유목적의 변수)\n",
    "    name = \"강감찬\"\n",
    "    age = 20\n",
    "    height = 180.5\n",
    "    \n",
    "    # 멤버 메서드(함수)\n",
    "    def show(self):\n",
    "        ## self.변수 : 인스턴스 변수(개별적인 값을 의미)\n",
    "        print(\"이름 : \"+ self.name, end=\" \")\n",
    "        print(\"나이 : \"+ str(self.age),end=\" \")\n",
    "        print(\"신장 : \"+ str(self.height))\n",
    "        \n",
    "        ## 클래스명.변수명 : 클래스 변수 (공통적인 값)\n",
    "        print(\"이름 : \"+ Person.name, end=\" \")\n",
    "        print(\"나이 : \"+ str(Person.age), end=\" \")      # 클래스 변수가 주어져있으니깐 밑에서 인스턴스 변수 출력후 클래스변수 출력\n",
    "        print(\"신장 : \"+ str(Person.height))"
   ]
  },
  {
   "cell_type": "code",
   "execution_count": null,
   "id": "0fb09262",
   "metadata": {},
   "outputs": [],
   "source": [
    "p4 = Person()\n",
    "\n",
    "p4.name = \"김철수\"    # 인스턴스 변수\n",
    "p4.age = 21\n",
    "p4.height = 177.7\n",
    "\n",
    "p4.show()"
   ]
  },
  {
   "cell_type": "code",
   "execution_count": null,
   "id": "c941d538",
   "metadata": {},
   "outputs": [],
   "source": [
    "p5 = Person()\n",
    "p5.show()"
   ]
  },
  {
   "cell_type": "code",
   "execution_count": null,
   "id": "7f821d85",
   "metadata": {},
   "outputs": [],
   "source": [
    "# default prarmeter : 매개변수의 초기화\n",
    "def aaa(x,y = 20,z=30):\n",
    "    print(x,y,z)\n",
    "    \n",
    "aaa(1,2,3)"
   ]
  },
  {
   "cell_type": "code",
   "execution_count": null,
   "id": "da5e6398",
   "metadata": {},
   "outputs": [],
   "source": [
    "aaa(1,2)"
   ]
  },
  {
   "cell_type": "code",
   "execution_count": null,
   "id": "feace908",
   "metadata": {},
   "outputs": [],
   "source": [
    "aaa(1)"
   ]
  },
  {
   "cell_type": "code",
   "execution_count": null,
   "id": "a405ff2e",
   "metadata": {},
   "outputs": [],
   "source": [
    "# 회원 객체 클래스 선언\n",
    "class Member:\n",
    "    def info(self):\n",
    "        print(\"아이디 :\" + self.userid, end =\" \")\n",
    "        print(\"비밀번호 :\" + self.pwd, end =\" \")\n",
    "        print(\"이름 :\" + self.name, end =\" \")\n",
    "        print(\"나이 :\" + str(self.age), end =\" \")"
   ]
  },
  {
   "cell_type": "code",
   "execution_count": null,
   "id": "0bcd0aa5",
   "metadata": {},
   "outputs": [],
   "source": [
    "# 회원 인스턴스 객체 생성\n",
    "m1 = Member()   # 객체 생성시 defult 생성자가 호출된다.\n",
    "\n",
    "# 인스턴스 변수에 멤버필드값을 초기화 하지 않으면 에러가 발생한다.\n",
    "m1. info()"
   ]
  },
  {
   "cell_type": "code",
   "execution_count": null,
   "id": "68136628",
   "metadata": {},
   "outputs": [],
   "source": [
    "m2 = Member()\n",
    "\n",
    "m2.userid = 'kim'\n",
    "m2.pwd = '1234'\n",
    "m2.name = \"김길동\"\n",
    "m2.age = 20\n",
    "\n",
    "m2.info()"
   ]
  },
  {
   "cell_type": "code",
   "execution_count": null,
   "id": "28dd7fc2",
   "metadata": {},
   "outputs": [],
   "source": [
    "# 회원 객체 클래스 선언\n",
    "class Member:\n",
    "    # 생성자 메서드 (객체 생성시 멤버필드를 초기화 할 목적으로 구현되는 메서드)\n",
    "    def __init__(self,userid, pwd, name, age):\n",
    "        self.userid = userid\n",
    "        self.pwd = pwd\n",
    "        self.name = name\n",
    "        self.age = age\n",
    "        \n",
    "    def info(self):\n",
    "        print(\"아이디 :\" + self.userid, end =\" \")\n",
    "        print(\"비밀번호 :\" + self.pwd, end =\" \")\n",
    "        print(\"이름 :\" + self.name, end =\" \")\n",
    "        print(\"나이 :\" + str(self.age), end =\" \")"
   ]
  },
  {
   "cell_type": "code",
   "execution_count": null,
   "id": "7dcce413",
   "metadata": {},
   "outputs": [],
   "source": [
    "# 생성자가 없을 경우 디폴트 생성자가 생략된것으로 간주한다.\n",
    "# 만약 생성자 메서드를 기술했다면 해당 생성자 메서드를 이용하여 객체를 생성해야한다.\n",
    "m3 =Member(\"ㅁㅁㅁ\", \"1234\", \"kate\", 24)\n",
    "\n",
    "m3.info()"
   ]
  },
  {
   "cell_type": "code",
   "execution_count": null,
   "id": "de799b1e",
   "metadata": {},
   "outputs": [],
   "source": [
    "# 회원 객체 클래스 선언\n",
    "class Member:\n",
    "    # 생성자 메서드 (객체 생성시 멤버필드를 초기화 할 목적으로 구현되는 메서드)\n",
    "    def __init__(self,userid =\"\", pwd= \"\", name = \"\", age = 0):\n",
    "        self.userid = userid\n",
    "        self.pwd = pwd\n",
    "        self.name = name\n",
    "        self.age = age\n",
    "        \n",
    "    def info(self):\n",
    "        print(\"아이디 :\" + self.userid, end =\" \")\n",
    "        print(\"비밀번호 :\" + self.pwd, end =\" \")\n",
    "        print(\"이름 :\" + self.name, end =\" \")\n",
    "        print(\"나이 :\" + str(self.age), end =\" \")"
   ]
  },
  {
   "cell_type": "code",
   "execution_count": null,
   "id": "16ba6971",
   "metadata": {},
   "outputs": [],
   "source": [
    "m5 = Member(\"kim\", \"1234\")\n",
    "\n",
    "m5.info()"
   ]
  },
  {
   "cell_type": "code",
   "execution_count": null,
   "id": "3ffd606f",
   "metadata": {},
   "outputs": [],
   "source": [
    "m6 = Member(\"bbb\",\"1234\",\"puppy\", 3)\n",
    "\n",
    "m6.info()"
   ]
  },
  {
   "cell_type": "code",
   "execution_count": null,
   "id": "9d8e0d55",
   "metadata": {},
   "outputs": [],
   "source": [
    "m7 = Member('ccc', '3456', \"house\")\n",
    "m7.info()"
   ]
  },
  {
   "cell_type": "code",
   "execution_count": null,
   "id": "495b5216",
   "metadata": {},
   "outputs": [],
   "source": [
    "m8 = Member('ddd')\n",
    "m8.info()"
   ]
  },
  {
   "cell_type": "code",
   "execution_count": null,
   "id": "ab29d984",
   "metadata": {},
   "outputs": [],
   "source": [
    "m10 =Member(\"kkk\", \"4562\", \"\", 5)\n",
    "\n",
    "m10.info()"
   ]
  },
  {
   "cell_type": "markdown",
   "id": "dedf3aa7",
   "metadata": {},
   "source": [
    "##### 4단계 - 학생 성적관리 객체"
   ]
  },
  {
   "cell_type": "code",
   "execution_count": null,
   "id": "3c9abda9",
   "metadata": {},
   "outputs": [],
   "source": [
    "# 클래스 선언\n",
    "class Student:\n",
    "    # 멤버필드\n",
    "    \n",
    "    # 생성자 메서드\n",
    "    def __init__(self, name, kor, eng, math, sci):\n",
    "        self.name = name\n",
    "        self.kor = kor\n",
    "        self.eng = eng\n",
    "        self.math = math\n",
    "        self.sci =sci\n",
    "        \n",
    "    # 멤버 메서드\n",
    "    ## 총점을 계산하여 반환하는 함수\n",
    "    def get_sum(self):\n",
    "        return self.kor +self.eng + self.math +self.sci\n",
    "    ## 평균을 계산하여 반환하는 함수\n",
    "    def get_avg(self):\n",
    "        return self.get_sum() / 4\n",
    "    ## 출력하는 함수\n",
    "    def to_str(self):\n",
    "        return \"{}\\t{}\\t{}\".format(self.name, self.get_sum(), self.get_avg())\n",
    "    # 소멸자 메서드\n",
    "    "
   ]
  },
  {
   "cell_type": "code",
   "execution_count": null,
   "id": "5889b127",
   "metadata": {},
   "outputs": [],
   "source": [
    "# 인스턴스 객체 생성\n",
    "#### 생성자 메서드 생성 전에 작성한 구문이라 지금은 에러\n",
    "s1 = Student()\n",
    "s1.name = \"길동이\"\n",
    "s1.kor = 88\n",
    "s1.eng = 92\n",
    "s1.math = 90\n",
    "s1.sci = 99\n",
    "\n",
    ",print(s1.to_str())"
   ]
  },
  {
   "cell_type": "code",
   "execution_count": null,
   "id": "e908574a",
   "metadata": {},
   "outputs": [],
   "source": [
    "s2 = Student(\"장보고\", 87,88,89,99 )\n",
    "\n",
    "print(s2.to_str())"
   ]
  },
  {
   "cell_type": "code",
   "execution_count": null,
   "id": "8f2148d8",
   "metadata": {},
   "outputs": [],
   "source": [
    "s1 = Student(\"aaa\", 88,97,76,99)\n",
    "s2 = Student(\"bbb\", 94,85,76,99)\n",
    "s3 = Student(\"ccc\", 89,92,94,76)\n",
    "s4 = Student(\"ddd\", 88,91,82,99)\n",
    "s5 = Student(\"eee\", 80,97,86,99)\n",
    "\n",
    "\n",
    "print(s1.to_str())\n",
    "print(s2.to_str())\n",
    "print(s3.to_str())\n",
    "print(s4.to_str())\n",
    "print(s5.to_str())\n"
   ]
  },
  {
   "cell_type": "code",
   "execution_count": null,
   "id": "db973582",
   "metadata": {},
   "outputs": [],
   "source": [
    "students = [\n",
    "    Student(\"aaa\", 88,97,76,99),\n",
    "    Student(\"bbb\", 94,85,76,99),\n",
    "    Student(\"ccc\", 89,92,94,76),\n",
    "    Student(\"ddd\", 88,91,82,99),\n",
    "    Student(\"eee\", 80,97,86,99)\n",
    "]\n",
    "\n",
    "print(students[0].to_str())\n",
    "print(students[1].to_str())\n",
    "print(students[2].to_str())\n",
    "print(students[3].to_str())\n",
    "print(students[4].to_str())"
   ]
  },
  {
   "cell_type": "code",
   "execution_count": null,
   "id": "54937133",
   "metadata": {},
   "outputs": [],
   "source": [
    "# 학생정보를 가지고 있는 리스트 생성\n",
    "students = [\n",
    "    Student(\"길동\", 88,97,76,99),\n",
    "    Student(\"보고\", 94,85,76,99),\n",
    "    Student(\"감찬\", 89,92,94,76),\n",
    "    Student(\"순신\", 88,91,82,99),\n",
    "    Student(\"유신\", 80,97,86,99)\n",
    "]\n",
    "print(\"이름\",\"총점\",\"평균\", sep =\"\\t\")\n",
    "for student in students:\n",
    "    print(student.to_str())"
   ]
  },
  {
   "cell_type": "code",
   "execution_count": null,
   "id": "36efe4db",
   "metadata": {},
   "outputs": [],
   "source": [
    "students.append(Student(\"꺽정\", 80,79,99,84))\n",
    "\n",
    "print(\"이름\",\"총점\",\"평균\", sep =\"\\t\")\n",
    "for student in students:\n",
    "    print(student.to_str())"
   ]
  },
  {
   "cell_type": "markdown",
   "id": "d31ffff4",
   "metadata": {},
   "source": [
    "#####  클래스를 사용하는 이유"
   ]
  },
  {
   "cell_type": "code",
   "execution_count": null,
   "id": "17bf2868",
   "metadata": {},
   "outputs": [],
   "source": [
    "# 데이터\n",
    "names = ['Messi','Ramos','Ronaldo','Park','Buffon']\n",
    "positions = ['MF', 'DF','CF','WF','CK']\n",
    "numbers = [10,4,7,13,1]\n",
    "\n",
    "# 비효율적 :print(positions[0],numbers[0])\n",
    "\n",
    "# 이차원 리스트  // 요것도 약간 비효율이라 클래스 ㄱ\n",
    "players = [[name, position, number] for name, position, number in zip(names, positions, numbers)]\n",
    "\n",
    "print(players)"
   ]
  },
  {
   "cell_type": "code",
   "execution_count": null,
   "id": "4b46a5c2",
   "metadata": {},
   "outputs": [],
   "source": [
    "print(players[0])"
   ]
  },
  {
   "cell_type": "code",
   "execution_count": null,
   "id": "c903fbc1",
   "metadata": {},
   "outputs": [],
   "source": [
    "# 클래스\n",
    "class SCplayer:\n",
    "    \n",
    "    # 생성자 메서드\n",
    "    def __init__(self,name,position,number):\n",
    "        self.name = name\n",
    "        self.position = position\n",
    "        self.number =number\n",
    "    \n",
    "    def disp(self):\n",
    "        print(\"이름: \", self.name)\n",
    "        print(\"포지션: \", self.position)\n",
    "        print(\"백넘버: \", self.number)\n",
    "    "
   ]
  },
  {
   "cell_type": "code",
   "execution_count": null,
   "id": "e0085ed3",
   "metadata": {},
   "outputs": [],
   "source": [
    "p1 = SCplayer()\n",
    "p1.name = \"박지성\"\n",
    "p1.position = \"MF\"\n",
    "p1.number = 13\n",
    "\n",
    "p1.disp()"
   ]
  },
  {
   "cell_type": "code",
   "execution_count": null,
   "id": "a45cf043",
   "metadata": {},
   "outputs": [],
   "source": [
    "p1 = SCplayer(\"지성\",\"MF\",13)\n",
    "\n",
    "p1.disp()"
   ]
  },
  {
   "cell_type": "markdown",
   "id": "fdb6079f",
   "metadata": {},
   "source": [
    "### 자동차 관리 프로그램\n",
    "1. 요구사항 명세서\n",
    " - 자동차는 식별할 이름과 속도, 연료량을 관리함.\n",
    " - 자동차의 속도는 최대 200을 너밎못하게 구현한다.\n",
    " - 자동차가 가속시 연료에 10을 소모하도록 구현한다.\n",
    " - 자동차의 연료가 없으면 가속이 불가능하도록 구현\n",
    " - 현재 자동차의 상태를 확일할 수 있돌고 구현\n",
    " - 기능별 함수로 구현하여 처리;\n",
    " "
   ]
  },
  {
   "cell_type": "code",
   "execution_count": null,
   "id": "63e5ac67",
   "metadata": {},
   "outputs": [],
   "source": [
    "class Car:\n",
    "    # 멤버필드\n",
    "#     name = \"\"\n",
    "#     speed = 0\n",
    "#     gas = 0\n",
    "    \n",
    "    # 생성자 메서드 - 멤버 필드를 초기화 시켜주는 역할을 하는 메서드\n",
    "    def __init__(self, name, speed, gas):\n",
    "        self.name = name\n",
    "        self.speed = speed\n",
    "        self.gas =gas\n",
    "    \n",
    "    #멤버메서드\n",
    "    def carAccel(self):   # 가속 패달을 한 번 밟았을 때의 행위를 기술한다.\n",
    "        # 연료가 없으면 가속불가, 가속 패달을 밟을 때 마다 연료는 10씩 감소(가속도는 10씩 증가)\n",
    "        # 이때, 최고속도인 200을 넘길 수 없다.\n",
    "        if self.gas >= 10:  # 연료 있니..?\n",
    "            \n",
    "            if self.speed + 10 > 200:\n",
    "                self.speed = 200  # 최대속도 200을 넘길 수 없어서 200으로 설정해뒀다는데.. 음.>>??\n",
    "            else:\n",
    "                self.speed = self.speed + 10\n",
    "                self.gas = self.gas - 10\n",
    "                \n",
    "        else:\n",
    "            print(\"연료를 충전해 주세요.\")\n",
    "            return  # 제어권만 호출된 곳으로 돌려줌(생략 가능하나 불가한 상황도 있음)\n",
    "            \n",
    "    \n",
    "    def carBreak(self):\n",
    "        # 연료 소모는 없고, 속도를 10씩 감소시킴\n",
    "        # 자동차의 속도가 음수를 띌수 없으니 주의\n",
    "        if self.speed < 10:\n",
    "            self.speed = 0  # 속도가 음수를 띌수 없으니 0으로 설정\n",
    "        else:\n",
    "            self.speed = self.speed -10\n",
    "    \n",
    "    def carState(self):\n",
    "        print(\"차종:\", self.name)\n",
    "        print(\"속도:\", self.speed)\n",
    "        print(\"연료량:\", self.gas)"
   ]
  },
  {
   "cell_type": "code",
   "execution_count": null,
   "id": "5de07133",
   "metadata": {},
   "outputs": [],
   "source": [
    "# 멤버필드를 설정했었을때\n",
    "c1 = Car()\n",
    "\n",
    "c1.carState()"
   ]
  },
  {
   "cell_type": "code",
   "execution_count": null,
   "id": "77350780",
   "metadata": {},
   "outputs": [],
   "source": [
    "# 생성자 메서드 만들기 전에\n",
    "c2 = Car()\n",
    "c2.name = \"sonata\"\n",
    "c2.speed = 0\n",
    "c2.gas = 90\n",
    "\n",
    "c2.carState()"
   ]
  },
  {
   "cell_type": "code",
   "execution_count": null,
   "id": "e3eaeb79",
   "metadata": {},
   "outputs": [],
   "source": [
    "c3 = Car(\"Morning\", 40,80)\n",
    "c3.carState()"
   ]
  },
  {
   "cell_type": "code",
   "execution_count": null,
   "id": "d9e89cef",
   "metadata": {},
   "outputs": [],
   "source": [
    "# 자동차 객체의 인스턴스 생성\n",
    "tico = Car(\"tico\",0,70)\n",
    "\n",
    "# 자동차의 현재 상태 출력\n",
    "tico.carState()"
   ]
  },
  {
   "cell_type": "code",
   "execution_count": null,
   "id": "fa7f067a",
   "metadata": {},
   "outputs": [],
   "source": [
    "# 가속패달을 밟는 행위\n",
    "tico.carAccel()   # 속도 = +10, 연료 = -10\n",
    "tico.carState()"
   ]
  },
  {
   "cell_type": "code",
   "execution_count": null,
   "id": "f886cad6",
   "metadata": {},
   "outputs": [],
   "source": [
    "# 브레이크 패달을 밟는 행위\n",
    "tico.carBreak()\n",
    "tico.carState()"
   ]
  },
  {
   "cell_type": "code",
   "execution_count": null,
   "id": "f69d733e",
   "metadata": {},
   "outputs": [],
   "source": []
  },
  {
   "cell_type": "markdown",
   "id": "6b42fa05",
   "metadata": {},
   "source": [
    "### 노트북 프로그램\n",
    " - 노트(note)를 정리하는 프로그램.\n",
    " - 사용자는 노트에 컨텐츠를 적을 수 있도록 할 것.\n",
    " - 노트는 노트북(notebook)에 삽입된다. \n",
    " - 노트북은 타이틀(title)을 갖는다.\n",
    " - 노트북은 노트가 삽입될 때 페이지를 생성하며, 최대 300페이지까지 저장할 수 있다.\n",
    " - 300페이지를 넘기면 더이상 페이지를 저장하지 못한다."
   ]
  },
  {
   "cell_type": "code",
   "execution_count": 18,
   "id": "82758004",
   "metadata": {},
   "outputs": [],
   "source": [
    "# 노트의 페이지가 멤버필드\n",
    "# 인스턴스가 노트 /// 이렇게 필요한 요소들을 생각하며 정리한뒤 프로그램 작성하는 것이 좋음, 기능 역할별 분류 해서 작성하는게 보수 좋음\n",
    "\n",
    "# NoteBook class \n",
    "## 멤버 필드: title, page_number, notes\n",
    "## 멤버 메서드 : add_mote, remove_note, get_pageNum\n",
    "\n",
    "# Note class \n",
    "## 멤버 필드 : contents(conts)\n",
    "## 멤버 메서드 : write_contents, remove_all(remove_a)"
   ]
  },
  {
   "cell_type": "code",
   "execution_count": 19,
   "id": "fe076215",
   "metadata": {},
   "outputs": [],
   "source": [
    "class Note(object):\n",
    "    \n",
    "    def __init__(self, conts = None):\n",
    "        self.conts = conts\n",
    "        \n",
    "    def remove_a(self):\n",
    "        self.conts = \"\"\n",
    "        \n",
    "    def get_conts(self):\n",
    "        return self.conts\n",
    "    \n",
    "    def Write_c(self, conts):\n",
    "        self.conts = conts\n",
    "        \n",
    "    "
   ]
  },
  {
   "cell_type": "code",
   "execution_count": 20,
   "id": "151ceded",
   "metadata": {},
   "outputs": [],
   "source": [
    "class NoteBook(object):\n",
    "    \n",
    "    def __init__(self, title):\n",
    "        self.title = title   # 타이틀 (제목)\n",
    "        self.page_n = 1      # 페이지수 : 현재 노트북에 몇장의 노트가 있는지\n",
    "        self.notes = {} # 아직은 집합으로 보이지만 사전으로 쓸겨(아이템), 노트를 저장할 공간\n",
    "    \n",
    "    # 새로운 노트를 삽입하는 행위 기술 메서드\n",
    "    def add_note(self, note, page = 0):\n",
    "        if self.page_n < 300:      # 페이지 수가 300 이하시 새로운 노트 추가\n",
    "            if page == 0:\n",
    "                self.notes[self.page_n] = note\n",
    "                self.page_n += 1\n",
    "              #  print(\"새로운 노트가 생성되었습니다.\")\n",
    "            else:\n",
    "                self.notes = {page:note}\n",
    "                self.page_n += 1\n",
    "        else:\n",
    "            print(\"페이지가 모두 채워졌습니다. 새로운 노트를 이용해주세요.\")\n",
    "                \n",
    "    def remove_n(self, page_n):\n",
    "        if page_n in self.notes.keys():\n",
    "            return self.notes.pop(page_n)\n",
    "        else:\n",
    "            print(\"해당 페이지는 존재하지 않습니다.\")\n",
    "            \n",
    "    def get_pageNum(self):\n",
    "        return len(self.notes.keys())"
   ]
  },
  {
   "cell_type": "code",
   "execution_count": null,
   "id": "2b8f492f",
   "metadata": {},
   "outputs": [],
   "source": []
  },
  {
   "cell_type": "code",
   "execution_count": null,
   "id": "3bfc3847",
   "metadata": {},
   "outputs": [],
   "source": []
  },
  {
   "cell_type": "code",
   "execution_count": null,
   "id": "c6a5e4f9",
   "metadata": {},
   "outputs": [],
   "source": []
  },
  {
   "cell_type": "markdown",
   "id": "49b87a2f",
   "metadata": {},
   "source": [
    "####  클래스 실습예제"
   ]
  },
  {
   "cell_type": "markdown",
   "id": "1c46e1a9",
   "metadata": {},
   "source": [
    "##### 원을 객체로 갖는 클래스 구현"
   ]
  },
  {
   "cell_type": "code",
   "execution_count": null,
   "id": "44107d63",
   "metadata": {},
   "outputs": [],
   "source": [
    "# 원을 객체로 갖는 클래스 구현\n",
    "class Circle:\n",
    "    #멤버 필드\n",
    "  #  r = 0 \n",
    "    \n",
    "    #생성자 메서드 : 객체가 생성될 때 자동으로 호출되는 함수\n",
    "    ## 멤버 필드를 초기화하는 역할, 클래스 사용시 가장먼저 입력되는>????\n",
    "#     def __init__(self, r):    # Circle(r)과 같은 의미\n",
    "#         self.r =r\n",
    "        \n",
    "    def __init__(self):  # Circle()에 매칭\n",
    "        self.r = int(input(\"반지름 =\"))\n",
    "    ## 객체 생성시 가장 처음 수행할 작업을 기술할 떄\n",
    "    \n",
    "    #멤버 메서드 : set~(세팅한다), get~(되돌려줌)\n",
    "    ## 반지름을 출력하는 메서드\n",
    "    def getRadius(self):\n",
    "        # print(\"r = \", self.r) 이것 도 가능\n",
    "        return self.r\n",
    "    \n",
    "    ## 사용자가 입력한 반지름을 받아서 멤버필드에 대입하는 (값을 담는 목적)\n",
    "    def setRadius(self, r):\n",
    "        self.r =r\n",
    "        \n",
    "    ## 원의 면적을 계산하여 반환하는 메서드\n",
    "    def getArea(self):\n",
    "        return self.r * self.r * 3.14\n",
    "    #소멸자1"
   ]
  },
  {
   "cell_type": "code",
   "execution_count": null,
   "id": "1fab1cfb",
   "metadata": {},
   "outputs": [],
   "source": [
    "## 생성자 메서드 만들기 전\n",
    "# 원 객체에 접근하는 인스턴스 객체를 생성\n",
    "donut = Circle()\n",
    "\n",
    "# 멤버 필드를 초기화하는 작업\n",
    "#donut.r = 5\n",
    "donut.setRadius(5)\n",
    "\n",
    "# 반지름 출력하는 메서드 호출\n",
    "print(\"반지름 = \", donut.getRadius())"
   ]
  },
  {
   "cell_type": "code",
   "execution_count": null,
   "id": "38d0fa5e",
   "metadata": {},
   "outputs": [],
   "source": [
    "# 인스턴스 객체는 생성자를 이용하여 생성한다.\n",
    "# 생성자가 존재하지 않을 경우 default 생성자가 생략된 것으로 간주한다.\n",
    "# default 생성자 : 매개변수를 가지고 있지 않은 생성자 Circle()\n",
    "a = Circle(1)\n",
    "print(\"반지름 = \",a.getRadius())"
   ]
  },
  {
   "cell_type": "code",
   "execution_count": null,
   "id": "24c305d9",
   "metadata": {},
   "outputs": [],
   "source": [
    "# 사용자로부터 반지름을 입력받아 객체를 생성할 수 있다.\n",
    "radius = int(input(\"반지름 =\")) # ----> 이거를 생성자에 담을 수 있대\n",
    "\n",
    "b = Circle(radius)\n",
    "print(\"반지름 = \",b.getRadius())"
   ]
  },
  {
   "cell_type": "code",
   "execution_count": null,
   "id": "82e004d1",
   "metadata": {},
   "outputs": [],
   "source": [
    "ap = Circle() \n",
    "\n",
    "print(\"면적 =\", ap.getArea())"
   ]
  },
  {
   "cell_type": "code",
   "execution_count": null,
   "id": "67f92bfb",
   "metadata": {},
   "outputs": [],
   "source": [
    "# 평면위의 한 점을 객체로 갖고 있는 클레스 선언\n",
    "class Point:\n",
    "    # 멤버필드\n",
    "    xpos = 0\n",
    "    ypos = 0\n",
    "    \n",
    "    # 생성자 메서드\n",
    "    \n",
    "    # 멤버 메서드\n",
    "    def disp(self):\n",
    "        print(\"점(x,y) = ({0},{1})\".format(self.xpos,self.ypos))\n",
    "    \n",
    "    ## 좌표값을 변경하는 메서드\n",
    "    def setX(self, x):\n",
    "        self.xpos = x\n",
    "        \n",
    "    def setY(self, y):\n",
    "        self.ypos = y\n",
    "    \n",
    "    # 소멸자 메서드"
   ]
  },
  {
   "cell_type": "code",
   "execution_count": null,
   "id": "113482d2",
   "metadata": {},
   "outputs": [],
   "source": [
    "ap = Point()  # 디폴트 생성자에 의해 객체 생성\n",
    "ap.disp()"
   ]
  },
  {
   "cell_type": "code",
   "execution_count": null,
   "id": "36696968",
   "metadata": {},
   "outputs": [],
   "source": [
    "# 멤버 필드에 새로운 값을 대입\n",
    "ap.xpos = 10\n",
    "ap.ypos = 20\n",
    "\n",
    "ap.disp()"
   ]
  },
  {
   "cell_type": "code",
   "execution_count": null,
   "id": "9cf30ba2",
   "metadata": {},
   "outputs": [],
   "source": [
    "# 함수를 이용하여 멤버필드 초기화\n",
    "ap = Point()\n",
    "\n",
    "ap.setX(5)\n",
    "ap.setY(10)\n",
    "ap.disp()"
   ]
  },
  {
   "cell_type": "markdown",
   "id": "35e9ccaf",
   "metadata": {},
   "source": [
    "##### 사각형을 객체로 하는 클래스 선언"
   ]
  },
  {
   "cell_type": "code",
   "execution_count": null,
   "id": "2a0e8e5d",
   "metadata": {},
   "outputs": [],
   "source": [
    "class Rect:\n",
    "    # 멤버필드\n",
    "    garo = 0\n",
    "    sero = 0\n",
    "    \n",
    "    # 생성자 메서드\n",
    "    \n",
    "    # 멤버 메서드\n",
    "    def disp(self):\n",
    "        print(\"가로 = {0}, 세로 = {1}\".format(self.garo, self.sero))\n",
    "        \n",
    "    def getArea(self):\n",
    "        return self.garo *self.sero\n",
    "    \n",
    "    ## 정사각형인지 판별하는 함수\n",
    "    def check(self):\n",
    "        if self.garo == self.sero:\n",
    "            return True\n",
    "        else:\n",
    "            return False\n",
    "    \n",
    "    # 소멸자 메서드"
   ]
  },
  {
   "cell_type": "code",
   "execution_count": null,
   "id": "31367cdb",
   "metadata": {},
   "outputs": [],
   "source": [
    "# 디폴트 생성자를 통해 만들어진 객체\n",
    "a = Rect()  # 가로 = 0, 세로 = 0\n",
    "a.disp()"
   ]
  },
  {
   "cell_type": "code",
   "execution_count": null,
   "id": "6de035dc",
   "metadata": {},
   "outputs": [],
   "source": [
    "a.garo = 3\n",
    "a.sero = 5\n",
    "a.disp()"
   ]
  },
  {
   "cell_type": "code",
   "execution_count": null,
   "id": "0f107f38",
   "metadata": {},
   "outputs": [],
   "source": [
    "b = Rect()\n",
    "\n",
    "b.garo = 7\n",
    "b.sero = 9\n",
    "\n",
    "if b.check():\n",
    "    print(\"정사각형입니다.\")\n",
    "else:\n",
    "    print(\"not 정사각형\")"
   ]
  },
  {
   "cell_type": "markdown",
   "id": "38d38e85",
   "metadata": {},
   "source": [
    "#####  도형 생성 프로그램"
   ]
  },
  {
   "cell_type": "code",
   "execution_count": null,
   "id": "f0b80397",
   "metadata": {},
   "outputs": [],
   "source": [
    "# 사용자로 부터 원하는 도형을 입력받도록 구현한다.\n",
    "# 사용자가 선택한 도형에 맞는 값을 할당하고 출력한다.\n",
    "# 언제든 프로그램은 종료될 수 있도록 구현한다.\n",
    "\n",
    "while True:\n",
    "    # 화면에 출력되는 메뉴\n",
    "    #print(\"[1]점 [2]원 [3]사각형 [4]종료 = \", end = ' ')   - 밑에 input사용하려구~~ 요롷게도 가능\n",
    "    menu = int(input(\"[1]점 [2]원 [3]사각형 [4]종료 = \"))\n",
    "    \n",
    "    if menu == 1:\n",
    "        a = Point()\n",
    "        a.disp()\n",
    "        \n",
    "    elif menu == 2:\n",
    "        b = Circle()\n",
    "        b.disp()\n",
    "        \n",
    "    elif menu == 3:\n",
    "        c = Rect()\n",
    "        c.disp()\n",
    "    elif menu == 4:\n",
    "        print(\"프로그램을 종료합니다.\")\n",
    "        break\n",
    "    else:\n",
    "        print(\"선택이 바르지 않습니다.\")\n",
    "    \n",
    "    \n",
    "    "
   ]
  },
  {
   "cell_type": "code",
   "execution_count": null,
   "id": "7ec8ad4e",
   "metadata": {},
   "outputs": [],
   "source": [
    "class Point:\n",
    "    \n",
    "    def __init__(self):          # Point()\n",
    "        self.x = int(input(\"x =\"))\n",
    "        self.y = int(input(\"y =\"))\n",
    "        \n",
    "    def disp(self):\n",
    "        print(\"점(x,y) = ({0}, {1})\".format(self.x, self.y))"
   ]
  },
  {
   "cell_type": "code",
   "execution_count": null,
   "id": "ee64ce85",
   "metadata": {},
   "outputs": [],
   "source": [
    "class Circle:\n",
    "    \n",
    "    def __init__(self):          # Circle()\n",
    "        self.x = int(input(\"x =\"))\n",
    "        self.y = int(input(\"y =\"))\n",
    "        self.r = int(input(\"r =\"))\n",
    "        \n",
    "    \n",
    "    def disp(self):\n",
    "        print(\"점(x,y) = ({0}, {1})\".format(self.x, self.y))\n",
    "        print(\"반지름(r) =  \", self.r)"
   ]
  },
  {
   "cell_type": "code",
   "execution_count": null,
   "id": "332fbfe6",
   "metadata": {},
   "outputs": [],
   "source": [
    "class Rect:\n",
    "    \n",
    "    def __init__(self):               # Rect()\n",
    "        self.x = int(input(\"x =\"))\n",
    "        self.y = int(input(\"y =\"))\n",
    "        self.h = int(input(\"h =\"))\n",
    "        self.w = int(input(\"w =\"))\n",
    "        \n",
    "    def disp(self):\n",
    "        print(\"점(x,y) = ({0}, {1})\".format(self.x, self.y))\n",
    "        print(\"높이(h) = {0}, 너비(w) = {1}\".format(self.h, self.w))"
   ]
  },
  {
   "cell_type": "markdown",
   "id": "c5a3ecea",
   "metadata": {},
   "source": [
    "### 상속 (Inheritance)"
   ]
  },
  {
   "cell_type": "markdown",
   "id": "a7a2bc20",
   "metadata": {},
   "source": [
    "##### 상속 예시"
   ]
  },
  {
   "cell_type": "code",
   "execution_count": null,
   "id": "3b1bff38",
   "metadata": {},
   "outputs": [],
   "source": [
    "# 상속 : 클래스로부터 멤버를 물려받아 다시 기술하지 않고 재사용하는 것\n",
    "# 부모클래스 = 상위클래스 또는 조상클래스(기반클래스)\n",
    "# 자녀클래스 = 하위클래스 또는 파생클래스\n",
    "# 기본형 class 클래스명: \n",
    "# 상속 class 자녀클래스(부모클래스):\n",
    "\n",
    "# Person : 이름, 나이, 키\n",
    "# PersonInfo : 이름, 나이, 키, 체중, 시력"
   ]
  },
  {
   "cell_type": "code",
   "execution_count": null,
   "id": "295bb262",
   "metadata": {},
   "outputs": [],
   "source": [
    "# 상위클래스\n",
    "class Person:\n",
    "    \n",
    "    def __init__(self, name, age, heig):\n",
    "        self.name = name\n",
    "        self.age = age\n",
    "        self.heig = heig\n",
    "        \n",
    "    def disp(self):\n",
    "        print(\"이름 : \" + self.name, end=' ')\n",
    "        print(\"나이 : \" + str(self.age), end=' ')\n",
    "        print(\"신장 : \" + str(self.heig), end=' ')"
   ]
  },
  {
   "cell_type": "code",
   "execution_count": null,
   "id": "6e6f3ecf",
   "metadata": {},
   "outputs": [],
   "source": [
    "# 하위클래스\n",
    "class PersonInfo(Person):\n",
    "    def disp(self):    # 오버라이딩 (재정의) 부모랑 똑같은 이름의 메서드가 있다는 건 재정의 해서 사용한다는 말\n",
    "        print(\"체중 : \" + str(self.weight), end=' ')\n",
    "        print(\"시력(좌) : \" + str(self.left_eye), end=' ')\n",
    "        print(\"시력(우) : \" + str(self.right_eye), end=' ')"
   ]
  },
  {
   "cell_type": "code",
   "execution_count": null,
   "id": "1ed3c3be",
   "metadata": {},
   "outputs": [],
   "source": [
    "# 자녀클래스는 반드시 상속받은 부모 클래스의 멤버를 초기화해야 한다. \n",
    "p1 = PersonInfo(\"홍길동\", 20, 185.2)\n",
    "p1.weight = 71.5\n",
    "p1.left_eye = 1.5\n",
    "p1.right_eye = 1.0\n",
    "\n",
    "p1.disp()"
   ]
  },
  {
   "cell_type": "code",
   "execution_count": null,
   "id": "8d0184a3",
   "metadata": {},
   "outputs": [],
   "source": [
    "# 하위클래스(의 생성자 메서드는 부모꺼 부터 써줘야함)\n",
    "class PersonInfo(Person):\n",
    "    \n",
    "    def __init__(self, name, age, heig, weight, left_eye, right_eye):\n",
    "        # 부모멤버의 생성자 호출\n",
    "        Person.__init__(self, name, age, heig)\n",
    "        self.weight = weight\n",
    "        self.left_eye = left_eye\n",
    "        self.right_eye = right_eye\n",
    "    \n",
    "    \n",
    "    def disp(self):    # 오버라이딩 (재정의) 부모랑 똑같은 이름의 메서드가 있다는 건 재정의 해서 사용한다는 말\n",
    "        # 부모클래스의 멤버 메서드 호출\n",
    "        Person.disp(self)\n",
    "        print(\"체중 : \" + str(self.weight), end=' ')\n",
    "        print(\"시력(좌) : \" + str(self.left_eye), end=' ')\n",
    "        print(\"시력(우) : \" + str(self.right_eye), end=' ')"
   ]
  },
  {
   "cell_type": "code",
   "execution_count": null,
   "id": "92e471f1",
   "metadata": {},
   "outputs": [],
   "source": [
    "p1 = PersonInfo(\"홍길이\", 33, 180.2, 70, 1.0,1.0)\n",
    "\n",
    "p1.disp()"
   ]
  },
  {
   "cell_type": "markdown",
   "id": "388f0028",
   "metadata": {},
   "source": [
    "### 친구관리 프로그램"
   ]
  },
  {
   "cell_type": "code",
   "execution_count": null,
   "id": "2bbd30a1",
   "metadata": {},
   "outputs": [],
   "source": [
    "# 중학교 : 이름, 연락처\n",
    "# 고등학교 : 이름, 연락처, 주소\n",
    "# 대학교 : 이름, 연락처, 전공\n",
    "# 사회인 : 이름, 연락처, 회사명, 직책\n"
   ]
  },
  {
   "cell_type": "code",
   "execution_count": 1,
   "id": "4ecc8d3c",
   "metadata": {},
   "outputs": [],
   "source": [
    "class Mid:\n",
    "    # 멤버필드\n",
    "    name = ''\n",
    "    phone = ''\n",
    "    \n",
    "    #생성자메서드\n",
    "    def __init__(self, name, phone):\n",
    "        self.name = name\n",
    "        self.phone = phone\n",
    "        \n",
    "    # 멤버메서드\n",
    "    def disp(self):\n",
    "        print(\"name = \", self.name)\n",
    "        print(\"phone = \", self.phone)"
   ]
  },
  {
   "cell_type": "code",
   "execution_count": 2,
   "id": "3ba222d2",
   "metadata": {},
   "outputs": [
    {
     "name": "stdout",
     "output_type": "stream",
     "text": [
      "name =  aaa\n",
      "phone =  010-1111-2222\n",
      "name =  bbb\n",
      "phone =  010-2222-3333\n",
      "name =  ccc\n",
      "phone =  010-3333-4444\n"
     ]
    }
   ],
   "source": [
    "\n",
    "m1 = Mid('aaa', '010-1111-2222')\n",
    "m2 = Mid('bbb', '010-2222-3333')\n",
    "m3 = Mid('ccc', '010-3333-4444')\n",
    "\n",
    "m1.disp()\n",
    "m2.disp()\n",
    "m3.disp()\n"
   ]
  },
  {
   "cell_type": "code",
   "execution_count": 3,
   "id": "56fd572f",
   "metadata": {},
   "outputs": [
    {
     "name": "stdout",
     "output_type": "stream",
     "text": [
      "name =  aaa\n",
      "phone =  010-1111-2222\n",
      "name =  bbb\n",
      "phone =  010-2222-3333\n",
      "name =  ccc\n",
      "phone =  010-3333-4444\n"
     ]
    }
   ],
   "source": [
    "# 리스트로 묶는 방식\n",
    "friends = [Mid('aaa', '010-1111-2222'),Mid('bbb', '010-2222-3333'),Mid('ccc', '010-3333-4444')]\n",
    "# friends.append(m1)    // 리스트[]으로 나두면 요런식으로 채우기\n",
    "# friends.append(m2)\n",
    "# friends.append(m3)\n",
    "\n",
    "# friends[0].disp()\n",
    "# friends[1].disp()\n",
    "# friends[2].disp()\n",
    "\n",
    "for friend in friends:\n",
    "    friend.disp()"
   ]
  },
  {
   "cell_type": "code",
   "execution_count": 4,
   "id": "92dd6c71",
   "metadata": {},
   "outputs": [],
   "source": [
    "class High(Mid):\n",
    "    \n",
    "    #필드\n",
    "#     name = ''\n",
    "#     phone = ''\n",
    "#     addr = ''\n",
    "    \n",
    "    #생성자메서드\n",
    "    def __init__(self,name, phone,addr):\n",
    "#         self.name = name\n",
    "#         self.phone = phone\n",
    "        Mid.__init__(self,name,phone)\n",
    "        self.addr = addr\n",
    "        \n",
    "    # 멤버메서드\n",
    "    def disp(self):\n",
    "        Mid.disp(self)\n",
    "        print(\"주소 = \", self.addr)\n",
    "        "
   ]
  },
  {
   "cell_type": "code",
   "execution_count": 5,
   "id": "ec059f63",
   "metadata": {},
   "outputs": [
    {
     "name": "stdout",
     "output_type": "stream",
     "text": [
      "name =  kim\n",
      "phone =  010-4444-5555\n",
      "주소 =  Busan\n"
     ]
    }
   ],
   "source": [
    "h1 = High(\"kim\", \"010-4444-5555\", \"Busan\")\n",
    "h2 = High(\"Park\", \"010-5555-6666\", \"Daejeon\")\n",
    "\n",
    "h1.disp()"
   ]
  },
  {
   "cell_type": "code",
   "execution_count": 6,
   "id": "86e7e6d9",
   "metadata": {},
   "outputs": [],
   "source": [
    "class Univ:\n",
    "    #멤버필드 (mid랑 같은건 생략)\n",
    "    major = ''\n",
    "    pass"
   ]
  },
  {
   "cell_type": "code",
   "execution_count": 7,
   "id": "fc5a7c67",
   "metadata": {},
   "outputs": [],
   "source": [
    "class Soc:\n",
    "    pass"
   ]
  },
  {
   "cell_type": "markdown",
   "id": "e0c9f072",
   "metadata": {},
   "source": [
    "### 급여관리 프로그램 구현\n",
    "\n",
    "- A회사가 창업하면서 채용한 모든 직원을 정규직으로 관리하는 프로그램을 구현하려한다.\n",
    "- 직원에 대한 정보는 이름, 급여를 기반으로 관리한다.\n",
    "- 새로운 직원을 등록할 수 있고, 매달 지급되는 직원의 급여를 출력할 수 있으며, 모든 직원의 정보를 출력"
   ]
  },
  {
   "cell_type": "code",
   "execution_count": 8,
   "id": "9cc837cc",
   "metadata": {},
   "outputs": [],
   "source": [
    "# 최상위 부모 클래스 객체\n",
    "class Employee:\n",
    "    #멤버필드\n",
    "    name = \"\"\n",
    "    salary = 0\n",
    "    \n",
    "    #생성자메서드\n",
    "    def __init__(self, name, salary = 0):\n",
    "        self.name = name\n",
    "    \n",
    "        \n",
    "    #멤버메서드\n",
    "    def getPay(self):\n",
    "        return self.salary\n",
    "    \n",
    "    def disp(self):\n",
    "        print(\"이름: \", self.name, end=\" \")\n",
    "        \n",
    "    \n",
    "    #소멸자 메서드"
   ]
  },
  {
   "cell_type": "code",
   "execution_count": 9,
   "id": "e961e1c8",
   "metadata": {},
   "outputs": [],
   "source": [
    "# 정규직 직원을 관리하는 객체\n",
    "class Permanent(Employee):\n",
    "    #멤버필드\n",
    "#     name = \"\"\n",
    "    salary = 0\n",
    "    \n",
    "    # 생성자메서드\n",
    "    ## 상속받은 자녀객체는 반드시 부모객체의 멤버를 초기화시켜줄 의무가있다.\n",
    "    def __init__(self, name, salary):\n",
    "        Employee.__init__(self, name, salary)  # 부모생성자를 호출한 거\n",
    "        self.salary = salary\n",
    "\n",
    "    \n",
    "    # 멤버메서드\n",
    "    def addEmployee(self, salary):  # 새로운 직원등록 // 생성자 메서드를 활용하는 것이 훨씬 효율적\n",
    "        self.name = name\n",
    "        self.salary =salary\n",
    "        \n",
    "    def getPay(self):   # 한 명의 직원 급여만 반환하는 함수\n",
    "        return self.salary\n",
    "    \n",
    "    def disp(self):\n",
    "        Employee.disp(self)  # 부모메서드 호출\n",
    "#         print(\"이름: \", self.name, end=\" \")\n",
    "        print(\"급여: \", self.getPay())\n",
    "       # print(\"급여: \", self.salary, end=\" \")"
   ]
  },
  {
   "cell_type": "code",
   "execution_count": 17,
   "id": "71659a09",
   "metadata": {},
   "outputs": [],
   "source": [
    "# 영업직 직원을 관리하는 객체 선언\n",
    "class Sales(Permanent):\n",
    "    #멤버필드\n",
    "#     name = \"\"\n",
    "#     salary = 0\n",
    "#    bonus = 0\n",
    "#    rate = 0\n",
    "    \n",
    "    #생성자 메서드\n",
    "    def __init__(self, name, salary, bonus, rate):\n",
    "        Permanent.__init__(self, name, salary)\n",
    "        self.bonus = bonus\n",
    "        self.rate = rate\n",
    "        \n",
    "    def getPay(self):\n",
    "        return Permanent.getPay(self) + (self.bonus * self.rate)\n",
    "    \n",
    "    def disp(self):\n",
    "        Permanent.disp(self)\n",
    "        print(\"판매실적: \", str(self.bonus))\n",
    "        print(\"보너스율: \", str(self.rate))\n",
    "        "
   ]
  },
  {
   "cell_type": "code",
   "execution_count": 12,
   "id": "fd4d2208",
   "metadata": {},
   "outputs": [],
   "source": [
    "# 직원정보를 담고 있는 자료구조(list) 생성\n",
    "employees = []\n",
    "\n",
    "# 새로운 직원을 등록하는 작업\n",
    "e1 = Permanent(\"aaa\", 1000)\n",
    "# e1.addEmployee(\"aaa\", 1000)\n",
    "employees.append(e1)\n",
    "\n"
   ]
  },
  {
   "cell_type": "code",
   "execution_count": 13,
   "id": "ef72060d",
   "metadata": {},
   "outputs": [
    {
     "name": "stdout",
     "output_type": "stream",
     "text": [
      "이름:  aaa 급여:  1000\n",
      "None\n"
     ]
    }
   ],
   "source": [
    "print(employees[0].disp())"
   ]
  },
  {
   "cell_type": "code",
   "execution_count": 16,
   "id": "ead2db30",
   "metadata": {},
   "outputs": [
    {
     "name": "stdout",
     "output_type": "stream",
     "text": [
      "== 직원관리 프로그램 ==\n",
      "1. 직원등록\n",
      "2. 직원정보 출력\n",
      "3. 총 급여액 출력\n",
      "4. 프로그램 종료\n",
      "menu = 1\n",
      "[1]정규직 [2]영업직 = 1\n",
      "이름 = a\n",
      "기본급 = 10000\n",
      "직원이 정상적으로 등록되었습니다.\n",
      "== 직원관리 프로그램 ==\n",
      "1. 직원등록\n",
      "2. 직원정보 출력\n",
      "3. 총 급여액 출력\n",
      "4. 프로그램 종료\n",
      "menu = 1\n",
      "[1]정규직 [2]영업직 = 2\n",
      "이름 = s\n",
      "기본급 = 10000\n",
      "판매실적 = 50\n",
      "보너스율 = 2\n",
      "직원이 정상적으로 등록되었습니다.\n",
      "== 직원관리 프로그램 ==\n",
      "1. 직원등록\n",
      "2. 직원정보 출력\n",
      "3. 총 급여액 출력\n",
      "4. 프로그램 종료\n",
      "menu = 2\n",
      "\n",
      " == 전체 직원정보 출력 ==\n",
      "이름:  a 급여:  10000\n",
      "이름:  s "
     ]
    },
    {
     "ename": "TypeError",
     "evalue": "can only concatenate str (not \"int\") to str",
     "output_type": "error",
     "traceback": [
      "\u001b[1;31m---------------------------------------------------------------------------\u001b[0m",
      "\u001b[1;31mTypeError\u001b[0m                                 Traceback (most recent call last)",
      "Input \u001b[1;32mIn [16]\u001b[0m, in \u001b[0;36m<cell line: 5>\u001b[1;34m()\u001b[0m\n\u001b[0;32m     29\u001b[0m     \u001b[38;5;28mprint\u001b[39m(\u001b[38;5;124m\"\u001b[39m\u001b[38;5;130;01m\\n\u001b[39;00m\u001b[38;5;124m == 전체 직원정보 출력 ==\u001b[39m\u001b[38;5;124m\"\u001b[39m)\n\u001b[0;32m     30\u001b[0m     \u001b[38;5;28;01mfor\u001b[39;00m emp \u001b[38;5;129;01min\u001b[39;00m empList:\n\u001b[1;32m---> 31\u001b[0m         \u001b[43memp\u001b[49m\u001b[38;5;241;43m.\u001b[39;49m\u001b[43mdisp\u001b[49m\u001b[43m(\u001b[49m\u001b[43m)\u001b[49m\n\u001b[0;32m     33\u001b[0m     \u001b[38;5;28mprint\u001b[39m(\u001b[38;5;124m\"\u001b[39m\u001b[38;5;124m직원정보가 출력되었습니다.\u001b[39m\u001b[38;5;124m\"\u001b[39m)\n\u001b[0;32m     34\u001b[0m \u001b[38;5;28;01melif\u001b[39;00m menu \u001b[38;5;241m==\u001b[39m \u001b[38;5;241m3\u001b[39m:\n",
      "Input \u001b[1;32mIn [15]\u001b[0m, in \u001b[0;36mSales.disp\u001b[1;34m(self)\u001b[0m\n\u001b[0;32m     18\u001b[0m \u001b[38;5;28;01mdef\u001b[39;00m \u001b[38;5;21mdisp\u001b[39m(\u001b[38;5;28mself\u001b[39m):\n\u001b[1;32m---> 19\u001b[0m     \u001b[43mPermanent\u001b[49m\u001b[38;5;241;43m.\u001b[39;49m\u001b[43mdisp\u001b[49m\u001b[43m(\u001b[49m\u001b[38;5;28;43mself\u001b[39;49m\u001b[43m)\u001b[49m\n\u001b[0;32m     20\u001b[0m     \u001b[38;5;28mprint\u001b[39m(\u001b[38;5;124m\"\u001b[39m\u001b[38;5;124m판매실적: \u001b[39m\u001b[38;5;124m\"\u001b[39m, \u001b[38;5;28mstr\u001b[39m(\u001b[38;5;28mself\u001b[39m\u001b[38;5;241m.\u001b[39mbonus))\n\u001b[0;32m     21\u001b[0m     \u001b[38;5;28mprint\u001b[39m(\u001b[38;5;124m\"\u001b[39m\u001b[38;5;124m보너스율: \u001b[39m\u001b[38;5;124m\"\u001b[39m, \u001b[38;5;28mstr\u001b[39m(\u001b[38;5;28mself\u001b[39m\u001b[38;5;241m.\u001b[39mrate))\n",
      "Input \u001b[1;32mIn [9]\u001b[0m, in \u001b[0;36mPermanent.disp\u001b[1;34m(self)\u001b[0m\n\u001b[0;32m     23\u001b[0m         Employee\u001b[38;5;241m.\u001b[39mdisp(\u001b[38;5;28mself\u001b[39m)  \u001b[38;5;66;03m# 부모메서드 호출\u001b[39;00m\n\u001b[0;32m     24\u001b[0m \u001b[38;5;66;03m#         print(\"이름: \", self.name, end=\" \")\u001b[39;00m\n\u001b[1;32m---> 25\u001b[0m         \u001b[38;5;28mprint\u001b[39m(\u001b[38;5;124m\"\u001b[39m\u001b[38;5;124m급여: \u001b[39m\u001b[38;5;124m\"\u001b[39m, \u001b[38;5;28;43mself\u001b[39;49m\u001b[38;5;241;43m.\u001b[39;49m\u001b[43mgetPay\u001b[49m\u001b[43m(\u001b[49m\u001b[43m)\u001b[49m)\n",
      "Input \u001b[1;32mIn [15]\u001b[0m, in \u001b[0;36mSales.getPay\u001b[1;34m(self)\u001b[0m\n\u001b[0;32m     15\u001b[0m \u001b[38;5;28;01mdef\u001b[39;00m \u001b[38;5;21mgetPay\u001b[39m(\u001b[38;5;28mself\u001b[39m):\n\u001b[1;32m---> 16\u001b[0m     \u001b[38;5;28;01mreturn\u001b[39;00m \u001b[43mPermanent\u001b[49m\u001b[38;5;241;43m.\u001b[39;49m\u001b[43mgetPay\u001b[49m\u001b[43m(\u001b[49m\u001b[38;5;28;43mself\u001b[39;49m\u001b[43m)\u001b[49m\u001b[43m \u001b[49m\u001b[38;5;241;43m+\u001b[39;49m\u001b[43m \u001b[49m\u001b[43m(\u001b[49m\u001b[38;5;28;43mself\u001b[39;49m\u001b[38;5;241;43m.\u001b[39;49m\u001b[43mbonus\u001b[49m\u001b[43m \u001b[49m\u001b[38;5;241;43m*\u001b[39;49m\u001b[43m \u001b[49m\u001b[38;5;28;43mself\u001b[39;49m\u001b[38;5;241;43m.\u001b[39;49m\u001b[43mrate\u001b[49m\u001b[43m)\u001b[49m\n",
      "\u001b[1;31mTypeError\u001b[0m: can only concatenate str (not \"int\") to str"
     ]
    }
   ],
   "source": [
    "# 직원전체 정보를 저장할 객체\n",
    "empList = []\n",
    "\n",
    "while True:\n",
    "    print(\"== 직원관리 프로그램 ==\")\n",
    "    print(\"1. 직원등록\")\n",
    "    print(\"2. 직원정보 출력\")\n",
    "    print(\"3. 총 급여액 출력\")\n",
    "    print(\"4. 프로그램 종료\")\n",
    "    \n",
    "    menu = int(input(\"menu = \"))\n",
    "    \n",
    "    if menu == 1:\n",
    "        ch = int(input(\"[1]정규직 [2]영업직 = \"))\n",
    "        if ch == 1:\n",
    "            name = input(\"이름 = \")\n",
    "            pay = input(\"기본급 = \")\n",
    "            emp = Permanent(name, pay)\n",
    "        elif ch == 2:\n",
    "            name = input(\"이름 = \")\n",
    "            pay = input(\"기본급 = \")\n",
    "            bonus = int(input(\"판매실적 = \"))\n",
    "            rate = int(input(\"보너스율 = \"))\n",
    "            emp = Sales(name, pay, bonus, rate)\n",
    "        \n",
    "        empList.append(emp)\n",
    "        print(\"직원이 정상적으로 등록되었습니다.\")\n",
    "    elif menu ==2:\n",
    "        print(\"\\n == 전체 직원정보 출력 ==\")\n",
    "        for emp in empList:\n",
    "            emp.disp()\n",
    "            \n",
    "        print(\"직원정보가 출력되었습니다.\")\n",
    "    elif menu == 3:\n",
    "        print(\"\\n == 지급되는 직원급여의 총합 ==\")\n",
    "        tot = 0\n",
    "        for emp in empList:\n",
    "            tot += emp.getPay()\n",
    "            print(\"총급여액 : \", tot)\n",
    "    elif menu == 4:\n",
    "        print(\"프로그램을 종료합니다.\")\n",
    "        break\n",
    "    else:\n",
    "        print(\"메뉴선택이 오라르지 않습니다.\")"
   ]
  },
  {
   "cell_type": "code",
   "execution_count": null,
   "id": "b4902f3c",
   "metadata": {},
   "outputs": [],
   "source": []
  },
  {
   "cell_type": "markdown",
   "id": "285262fb",
   "metadata": {},
   "source": [
    "    직원(Employee) : 이름\n",
    "\n",
    "    정규직(Manager, Permanent) : 이름, 기본급 / 급여 = 기본급\n",
    "    영업직(SalesMan): 이름, 기본금, 매출액, 보너스율 / 급여 = 기본급 + 판매수당(매출액*보너스율)\n",
    "    임시직(Temporary) : 이름, 시간당 급여, 근무시간 / 급여 = 시간당급여 * 근무시간\n",
    "\n",
    "    -> 공통된 특성을 묶어서 부모 클래스를 만들것. "
   ]
  }
 ],
 "metadata": {
  "kernelspec": {
   "display_name": "Python 3 (ipykernel)",
   "language": "python",
   "name": "python3"
  },
  "language_info": {
   "codemirror_mode": {
    "name": "ipython",
    "version": 3
   },
   "file_extension": ".py",
   "mimetype": "text/x-python",
   "name": "python",
   "nbconvert_exporter": "python",
   "pygments_lexer": "ipython3",
   "version": "3.9.12"
  },
  "toc": {
   "base_numbering": 1,
   "nav_menu": {},
   "number_sections": true,
   "sideBar": true,
   "skip_h1_title": false,
   "title_cell": "Table of Contents",
   "title_sidebar": "Contents",
   "toc_cell": false,
   "toc_position": {},
   "toc_section_display": true,
   "toc_window_display": true
  }
 },
 "nbformat": 4,
 "nbformat_minor": 5
}
