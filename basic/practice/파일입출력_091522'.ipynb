{
 "cells": [
  {
   "cell_type": "code",
   "execution_count": 1,
   "id": "cac2e925",
   "metadata": {},
   "outputs": [],
   "source": [
    "# 현재 작업중인 디렉토리에 파일이 생성된다.\n",
    "# open(\"name\", \"mode\")\n",
    "# mode ; w(wirte only), r(read only), a(append)\n",
    "# f = open(\"binary_file\", \"rb\")\n",
    "\n",
    "## step1,2(개체생성및 파일오픈)\n",
    "f = open(\"file1.txt\", \"w\")  # 없는 파일인데 w모드이면 생성시켜서 열어줌\n",
    "\n",
    "## step3 실제 처리할 작업\n",
    "\n",
    "## step4. 파일 닫기\n",
    "f.close()"
   ]
  },
  {
   "cell_type": "code",
   "execution_count": 4,
   "id": "ff829782",
   "metadata": {},
   "outputs": [],
   "source": [
    "# 디렉토리를 지정하여 파일 생성\n",
    "f = open(\"C:/k_digital/Sourcce/python_sources/class_self/game/file2.txt\", \"w\") # \\로 들어가서 /로 바꿔줘\n",
    "f.close()"
   ]
  },
  {
   "cell_type": "code",
   "execution_count": 6,
   "id": "b1661eab",
   "metadata": {},
   "outputs": [],
   "source": [
    "# 파일 출력\n",
    "f = open(\"C:/k_digital/Sourcce/python_sources/class_self/game/file3.txt\", \"w\")\n",
    "# 작업기술\n",
    "for i in range(1,11):\n",
    "    data = \"{0}번쨰 줄입니다.\\n\".format(i)\n",
    "    f.write(data)\n",
    "    \n",
    "# 파일 종료\n",
    "f.close()"
   ]
  },
  {
   "cell_type": "code",
   "execution_count": 8,
   "id": "ed8e3ded",
   "metadata": {},
   "outputs": [
    {
     "name": "stdout",
     "output_type": "stream",
     "text": [
      "1번쨰 줄입니다.\n",
      "2번쨰 줄입니다.\n",
      "3번쨰 줄입니다.\n",
      "4번쨰 줄입니다.\n",
      "5번쨰 줄입니다.\n",
      "6번쨰 줄입니다.\n",
      "7번쨰 줄입니다.\n",
      "8번쨰 줄입니다.\n",
      "9번쨰 줄입니다.\n",
      "10번쨰 줄입니다.\n"
     ]
    }
   ],
   "source": [
    "# 스텝 1\n",
    "f = open(\"C:/k_digital/Sourcce/python_sources/class_self/game/file3.txt\", \"r\")\n",
    "# 2\n",
    "while 1:\n",
    "    line = f.readline()\n",
    "    #EOF = End Of File, 파일의 끝 // 다른 언어에서\n",
    "    if not line: break\n",
    "    print(line, end=\"\")\n",
    "    \n",
    "#3\n",
    "f.close()"
   ]
  },
  {
   "cell_type": "code",
   "execution_count": 12,
   "id": "20d259b1",
   "metadata": {},
   "outputs": [
    {
     "name": "stdout",
     "output_type": "stream",
     "text": [
      "append success\n"
     ]
    }
   ],
   "source": [
    "nums = [0,1,2,3,4,5,6,7,8,9]\n",
    "\n",
    "count = len(nums)\n",
    "\n",
    "outfile = \"C:/k_digital/Sourcce/python_sources/class_self/game/result.csv\"\n",
    "    \n",
    "#1 \n",
    "f = open(\"C:/k_digital/Sourcce/python_sources/class_self/game/result.csv\", \"a\")\n",
    "#2\n",
    "for idx in range(count):\n",
    "    if idx < (count - 1):\n",
    "        f.write(str(nums[idx]) + ',')\n",
    "    else:\n",
    "        f.write(str(nums[idx]) + '\\n')\n",
    "        \n",
    "#3\n",
    "f.close()\n",
    "print(\"append success\")"
   ]
  },
  {
   "cell_type": "code",
   "execution_count": 15,
   "id": "2b4bc2f4",
   "metadata": {},
   "outputs": [
    {
     "name": "stdout",
     "output_type": "stream",
     "text": [
      "['0,1,2,3,4,5,6,7,8,9\\n', '0,1,2,3,4,5,6,7,8,9\\n', '0,1,2,3,4,5,6,7,8,9\\n', '0,1,2,3,4,5,6,7,8,9\\n']\n",
      "0,1,2,3,4,5,6,7,8,9\n",
      "0,1,2,3,4,5,6,7,8,9\n",
      "0,1,2,3,4,5,6,7,8,9\n",
      "0,1,2,3,4,5,6,7,8,9\n"
     ]
    }
   ],
   "source": [
    "# 1\n",
    "f = open(\"C:/k_digital/Sourcce/python_sources/class_self/game/result.csv\", \"r\")\n",
    "#2\n",
    "lines = f.readlines()  # 모든 줄을 읽어서 리스트에 저장하는 함수\n",
    "\n",
    "print(lines)\n",
    "for line in lines:  #라인즈가 가진 줄수 만큼 읽기 위해서\n",
    "    print(line, end=\"\")\n",
    "    \n",
    "#3\n",
    "f.close()"
   ]
  },
  {
   "cell_type": "code",
   "execution_count": 16,
   "id": "2974c955",
   "metadata": {},
   "outputs": [
    {
     "name": "stdout",
     "output_type": "stream",
     "text": [
      "0,1,2,3,4,5,6,7,8,9\n",
      "0,1,2,3,4,5,6,7,8,9\n",
      "0,1,2,3,4,5,6,7,8,9\n",
      "0,1,2,3,4,5,6,7,8,9\n",
      "\n"
     ]
    }
   ],
   "source": [
    "# 1\n",
    "f = open(\"C:/k_digital/Sourcce/python_sources/class_self/game/result.csv\", \"r\")\n",
    "#2\n",
    "data = f.read()  # 파일 안에 모든내용을 한꺼번에 읽어오는 함수\n",
    "print(data)\n",
    "#3\n",
    "f.close()"
   ]
  },
  {
   "cell_type": "code",
   "execution_count": 17,
   "id": "115f6225",
   "metadata": {},
   "outputs": [
    {
     "name": "stdout",
     "output_type": "stream",
     "text": [
      "0,1,2,3,4,5,6,7,8,9\n",
      "0,1,2,3,4,5,6,7,8,9\n",
      "0,1,2,3,4,5,6,7,8,9\n",
      "0,1,2,3,4,5,6,7,8,9\n"
     ]
    }
   ],
   "source": [
    "f = open(\"C:/k_digital/Sourcce/python_sources/class_self/game/result.csv\", \"r\")\n",
    "\n",
    "for line in f:\n",
    "    print(line, end=\"\")\n",
    "f.close()\n",
    "    "
   ]
  },
  {
   "cell_type": "code",
   "execution_count": 18,
   "id": "cab90ea0",
   "metadata": {},
   "outputs": [],
   "source": [
    "# with 구문을 활용하여 close() 함수 자동 호출\n",
    "with open(\"C:/k_digital/Sourcce/python_sources/class_self/game/file4.txt\", \"w\") as f: \n",
    "    f.write(\"Hello Python\")"
   ]
  },
  {
   "cell_type": "code",
   "execution_count": 22,
   "id": "f81d7304",
   "metadata": {},
   "outputs": [
    {
     "name": "stdout",
     "output_type": "stream",
     "text": [
      "1번쨰 줄입니다.\n",
      "2번쨰 줄입니다.\n",
      "3번쨰 줄입니다.\n",
      "4번쨰 줄입니다.\n",
      "5번쨰 줄입니다.\n",
      "6번쨰 줄입니다.\n",
      "7번쨰 줄입니다.\n",
      "8번쨰 줄입니다.\n",
      "9번쨰 줄입니다.\n",
      "10번쨰 줄입니다.\n",
      "171\n",
      "1번쨰 줄입니다.\n",
      "\n"
     ]
    }
   ],
   "source": [
    "with open(\"C:/k_digital/Sourcce/python_sources/class_self/game/file3.txt\", \"r\") as f: \n",
    "    for line in f:\n",
    "        print(line, end=\"\")\n",
    "        \n",
    "        \n",
    "    print(f.tell())  # 파일 포인터의 위치를 출력\n",
    "    \n",
    "    # 파일의 시작위치로 포인트 이동\n",
    "    f.seek(0)  # seek(offset, from)\n",
    "    # offser : 상대적인 위치, 양수(현재포인터의 뒤), 음수(현재포인터의 앞)\n",
    "    # from : 기준위치, 0(시작), 1(현재 위치), 2(끝)\n",
    "    line = f.readline()\n",
    "    print(line)"
   ]
  },
  {
   "cell_type": "code",
   "execution_count": 29,
   "id": "13806dca",
   "metadata": {},
   "outputs": [
    {
     "name": "stdout",
     "output_type": "stream",
     "text": [
      "1번쨰 줄입니다.\n",
      "2번쨰 줄입니다.\n",
      "3번쨰 줄입니다.\n",
      "4번쨰 줄입니다.\n",
      "5번쨰 줄입니다.\n",
      "6번쨰 줄입니다.\n",
      "7번쨰 줄입니다.\n",
      "8번쨰 줄입니다.\n",
      "9번쨰 줄입니다.\n",
      "10번쨰 줄입니다.\n",
      "171\n",
      "1번쨰 줄입니다.\n",
      "\n"
     ]
    }
   ],
   "source": [
    "with open(\"C:/k_digital/Sourcce/python_sources/class_self/game/file3.txt\", \"r\") as f: \n",
    "    for line in f:\n",
    "        print(line, end=\"\")\n",
    "        \n",
    "        \n",
    "    print(f.tell())\n",
    "    \n",
    "    #시작위치로 포인터 이동\n",
    "    f.seek(0)\n",
    "    \n",
    "    line = f.readline()\n",
    "    print(line)"
   ]
  },
  {
   "cell_type": "code",
   "execution_count": null,
   "id": "2daa8bfe",
   "metadata": {},
   "outputs": [],
   "source": []
  }
 ],
 "metadata": {
  "kernelspec": {
   "display_name": "Python 3 (ipykernel)",
   "language": "python",
   "name": "python3"
  },
  "language_info": {
   "codemirror_mode": {
    "name": "ipython",
    "version": 3
   },
   "file_extension": ".py",
   "mimetype": "text/x-python",
   "name": "python",
   "nbconvert_exporter": "python",
   "pygments_lexer": "ipython3",
   "version": "3.9.12"
  },
  "toc": {
   "base_numbering": 1,
   "nav_menu": {},
   "number_sections": true,
   "sideBar": true,
   "skip_h1_title": false,
   "title_cell": "Table of Contents",
   "title_sidebar": "Contents",
   "toc_cell": false,
   "toc_position": {},
   "toc_section_display": true,
   "toc_window_display": false
  }
 },
 "nbformat": 4,
 "nbformat_minor": 5
}
