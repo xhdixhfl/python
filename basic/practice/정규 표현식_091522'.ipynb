{
 "cells": [
  {
   "cell_type": "code",
   "execution_count": 10,
   "id": "f67b50b1",
   "metadata": {},
   "outputs": [
    {
     "name": "stdout",
     "output_type": "stream",
     "text": [
      "[]\n",
      "[]\n",
      "['i', 'i']\n",
      "['y', 'i', 'd', 'n', 'u', 'm', 'b', 'e', 'r', 'i', 's']\n",
      "['i', 'i']\n",
      "['M', 'N', 'E', 'N', 'E']\n",
      "['M', 'NENE']\n"
     ]
    }
   ],
   "source": [
    "# 정규 표현식(Regular Expression)\n",
    "import re \n",
    "\n",
    "string = 'My id number is NENE1230'\n",
    "\n",
    "# findall(\"패턴\", 문자열)\n",
    "a = re.findall('a', string)\n",
    "print(a)\n",
    "\n",
    "b = re.findall('nene', string)\n",
    "print(b)\n",
    "\n",
    "c = re.findall('i', string)\n",
    "print(c)\n",
    "\n",
    "# 소문자를 찾아서 리스트로 리턴\n",
    "d = re.findall('[a-z]', string)\n",
    "print(d)\n",
    "\n",
    "e = re.findall('[a-z]+', string) # 단어별로\n",
    "print(c)\n",
    "\n",
    "f = re.findall('[A-Z]', string) # 대문자로\n",
    "print(f)\n",
    "\n",
    "g = re.findall('[A-Z]+', string) # 대문자 단어별로\n",
    "print(g)"
   ]
  },
  {
   "cell_type": "markdown",
   "id": "33a1f900",
   "metadata": {},
   "source": [
    "### 주민등록번호 뒷자리를 '*'문자로 변경하는 작업"
   ]
  },
  {
   "cell_type": "code",
   "execution_count": 11,
   "id": "b19d0f23",
   "metadata": {},
   "outputs": [],
   "source": [
    "data = \"\"\"\n",
    "park 800905-1049110\n",
    "kim 700405-1059118\n",
    "lee 900725-2012345\n",
    "\"\"\""
   ]
  },
  {
   "cell_type": "code",
   "execution_count": 12,
   "id": "5e701473",
   "metadata": {},
   "outputs": [],
   "source": [
    "# 전체 텍스트를 공백문자로 나눈다. => split\n",
    "# 나눈 단어가 주민등록번호 형식인지 조사한다. // 전체길이가 14자리인지, 하이픈인지\n",
    "# 주민등록번호 형식에 맞다면 뒷자리를 *로 변환한다.\n",
    "# 나눈 단어를 합치기"
   ]
  },
  {
   "cell_type": "code",
   "execution_count": 17,
   "id": "153a6fd0",
   "metadata": {},
   "outputs": [
    {
     "name": "stdout",
     "output_type": "stream",
     "text": [
      "\n",
      "park 800905-*******\n",
      "kim 700405-*******\n",
      "lee 900725-*******\n",
      "\n"
     ]
    }
   ],
   "source": [
    "result = []\n",
    "\n",
    "for line in data.split(\"\\n\"):\n",
    "    word_result = []\n",
    "    for word in line.split(\" \"):\n",
    "        if len(word) == 14 and word[:6].isdigit()and word[7:].isdigit():\n",
    "            word = word[:6] + \"-\" +(\"*\"*7)\n",
    "        word_result.append(word)\n",
    "    result.append(\" \".join(word_result))\n",
    "    \n",
    "print(\"\\n\" .join(result))"
   ]
  },
  {
   "cell_type": "code",
   "execution_count": 16,
   "id": "6bd0f97f",
   "metadata": {},
   "outputs": [
    {
     "name": "stdout",
     "output_type": "stream",
     "text": [
      "\n",
      "park 800905-*******\n",
      "kim 700405-*******\n",
      "lee 900725-*******\n",
      "\n"
     ]
    }
   ],
   "source": [
    "### 정규표현식\n",
    "import re\n",
    "\n",
    "data = '''\n",
    "park 800905-1049110\n",
    "kim 700405-1059118\n",
    "lee 900725-2012345\n",
    "'''\n",
    "\n",
    "pattern = re.compile(\"(\\d{6})[-]\\d{7}\")\n",
    "print(pattern.sub(\"\\g<1>-*******\", data))  # \\g : 데이터 내에서 패턴과 모두 일치하는"
   ]
  },
  {
   "cell_type": "code",
   "execution_count": 18,
   "id": "661d654f",
   "metadata": {},
   "outputs": [
    {
     "data": {
      "text/plain": [
       "<re.Match object; span=(0, 5), match='Hello'>"
      ]
     },
     "execution_count": 18,
     "metadata": {},
     "output_type": "execute_result"
    }
   ],
   "source": [
    "# match(\"패턴\", 문자열)\n",
    "re.match(\"Hello\", \"Hello World!!\")"
   ]
  },
  {
   "cell_type": "code",
   "execution_count": 19,
   "id": "c1b61a11",
   "metadata": {},
   "outputs": [],
   "source": [
    "re.match(\"hi\", \"Hello World!!\")"
   ]
  },
  {
   "cell_type": "code",
   "execution_count": 21,
   "id": "03d50f61",
   "metadata": {},
   "outputs": [
    {
     "name": "stdout",
     "output_type": "stream",
     "text": [
      "['M', 'y', 'i', 'd', 'i', 's', 'H', 'o', 'n', 'g', 'G', 'i', 'l', 'D', 'o', 'n', 'g', '0', '5', '0', '2']\n",
      "['My', 'id', 'is', 'HongGilDong', '0502']\n",
      "[' ', ' ', ' ', '_', '$%']\n"
     ]
    }
   ],
   "source": [
    "stg = \"My id is HongGilDong_0502$%\"\n",
    "\n",
    "# 영문자와 숫자만 추출\n",
    "a = re.findall(\"[A-Za-z0-9]\", stg)\n",
    "print(a)\n",
    "\n",
    "# 영문자와 숫자를 추출하되 단어 단위로 추출\n",
    "b = re.findall(\"[A-Za-z0-9]+\", stg)\n",
    "print(b)\n",
    "\n",
    "# 영문자와 숫자를 제외한 글자를 추출\n",
    "c = re.findall(\"[^A-Za-z0-9]+\", stg)\n",
    "print(c)\n"
   ]
  },
  {
   "cell_type": "code",
   "execution_count": 22,
   "id": "74df86f9",
   "metadata": {},
   "outputs": [
    {
     "name": "stdout",
     "output_type": "stream",
     "text": [
      "['My', 'id', 'is', 'HongGilDong_0502']\n"
     ]
    }
   ],
   "source": [
    "# \\w : 영문자, 숫자, _\n",
    "d = re.findall(\"[\\w]+\", stg)\n",
    "print(d)\n"
   ]
  },
  {
   "cell_type": "code",
   "execution_count": 23,
   "id": "b81b558e",
   "metadata": {},
   "outputs": [
    {
     "name": "stdout",
     "output_type": "stream",
     "text": [
      "[' ', ' ', ' ', '$', '%']\n"
     ]
    }
   ],
   "source": [
    "# \\W : \\w의 반대\n",
    "e = re.findall(\"[\\W]\",stg)\n",
    "print(e)"
   ]
  },
  {
   "cell_type": "code",
   "execution_count": 29,
   "id": "7badd069",
   "metadata": {},
   "outputs": [],
   "source": [
    "def pwd_check(pwd):\n",
    "    \n",
    "    # 문자의 길이 체크\n",
    "    if len(pwd) < 6 or len(pwd) >12:\n",
    "        print(pwd, \": 길이가 조건에 부합하지 않습니다.\")\n",
    "        return False\n",
    "    \n",
    "    # 숫자와 영문자로만 구성돼야함\n",
    "    if re.findall(\"[a-zA-z-0-9]+\", pwd)[0] != pwd:\n",
    "        print(pwd, \": 숫자와 영문자로만 구성되어야 합니다.\")\n",
    "        return False\n",
    "    \n",
    "    # 적어도 하나 이상의 대소문자를 포함 시켜야 함\n",
    "    if len(re.findall('[a-z]',pwd)) == 0 or len(re.findall('[A-Z]',pwd)) == 0:\n",
    "        print(pwd, \": 적어도 한개 이상의 대소문자로 조합해주세요.\")\n",
    "        return False\n",
    "    \n",
    "    print(pwd, \": 사용가능한 비밀번호 입니다.\")\n",
    "    return True\n",
    "\n"
   ]
  },
  {
   "cell_type": "code",
   "execution_count": null,
   "id": "38706efa",
   "metadata": {},
   "outputs": [],
   "source": [
    "# so내가 작성\n",
    "    if re.findall('[a-z]',pwd)[0] and re.findall('[A-Z]',pwd)[0] != pwd:\n",
    "        print(pwd, \"적어도 한개이상의 대소문자로 조합해주세요.\")\n",
    "        return False"
   ]
  },
  {
   "cell_type": "code",
   "execution_count": 30,
   "id": "0daad76a",
   "metadata": {},
   "outputs": [
    {
     "name": "stdout",
     "output_type": "stream",
     "text": [
      "12abc : 길이가 조건에 부합하지 않습니다.\n",
      "123abc : 적어도 한개 이상의 대소문자로 조합해주세요.\n",
      "123abcd% : 숫자와 영문자로만 구성되어야 합니다.\n",
      "123Abc : 사용가능한 비밀번호 입니다.\n"
     ]
    },
    {
     "data": {
      "text/plain": [
       "True"
      ]
     },
     "execution_count": 30,
     "metadata": {},
     "output_type": "execute_result"
    }
   ],
   "source": [
    "# 유효성검사를 수행하는 함수를 구현하시오.\n",
    "# 비밀번호를 체크하는 작업을 수행한다.\n",
    "## 글자수 6~12사이, 숫자와 영문자로만 구성되어야한다.\n",
    "## 이때, 영문자는 대소문자가 포함되어야한다.\n",
    "\n",
    "pwd_check('12abc') # false, 길이 오류, 대문자가 없음\n",
    "pwd_check('123abc') # false, 대문자 없음\n",
    "pwd_check('123abcd%') # false, 대문자 없고, 특수문자 포함\n",
    "pwd_check('123Abc') # True\n"
   ]
  },
  {
   "cell_type": "code",
   "execution_count": 24,
   "id": "5dc4a38d",
   "metadata": {},
   "outputs": [
    {
     "data": {
      "text/plain": [
       "['12abc']"
      ]
     },
     "execution_count": 24,
     "metadata": {},
     "output_type": "execute_result"
    }
   ],
   "source": [
    "re.findall(\"[a-zA-z-0-9]+\", '12abc')"
   ]
  },
  {
   "cell_type": "markdown",
   "id": "549f6f57",
   "metadata": {},
   "source": [
    "### Q. 이메일 형식 체크\n",
    "- id@회사명.종류\n",
    "- id나 회사명이나 종류 등은 두글자 이상이여야 한다.\n",
    "- 이메일 형식에 맞는지 맞지 않는지를 체크하는 함수 em_check()를 구현하시오."
   ]
  },
  {
   "cell_type": "code",
   "execution_count": null,
   "id": "9789ae1b",
   "metadata": {},
   "outputs": [],
   "source": [
    "# \n",
    "def em_check(em):\n",
    "    \n",
    "    # id 와 회사명 사이엔 '@', 회사명과 종류 사이엔 '.'\n",
    "    if em not in \"@\", \".\":\n",
    "        print(em, \": @ 또는 . 을 포함하고 있지 않습니다.\")\n",
    "        return False\n",
    "    \n",
    "    # id, 회사명, 종류 등은 두글자 이상이어야 한다.\n",
    "    if len(em.index(\"@\")) < 2 or len(em.index(\".\"))"
   ]
  },
  {
   "cell_type": "code",
   "execution_count": 31,
   "id": "b6c719e5",
   "metadata": {},
   "outputs": [],
   "source": [
    "def em_check(em):\n",
    "    #^[] : 시작, [^] : not, []$ : 끝\n",
    "    #{2,} : 두글자 이상\n",
    "    \n",
    "    pat = re.findall(\"^[a-z0-9]{2,}@[a-z0-9]{2,}\\.[a-z]{2,}$\", em)\n",
    "    \n",
    "    if len(pat) == 0:\n",
    "        print(em, \": 올바르지 않은 이메일 형식입니다.\")\n",
    "        return\n",
    "    print(em, \": 올바른 이메일 형식입니다.\")\n",
    "    return"
   ]
  },
  {
   "cell_type": "code",
   "execution_count": 32,
   "id": "c62ea01b",
   "metadata": {},
   "outputs": [
    {
     "name": "stdout",
     "output_type": "stream",
     "text": [
      "lee@gmail : 올바르지 않은 이메일 형식입니다.\n",
      "leegmail.com : 올바르지 않은 이메일 형식입니다.\n",
      "lee : 올바르지 않은 이메일 형식입니다.\n",
      "lee@gmail.com : 올바른 이메일 형식입니다.\n"
     ]
    }
   ],
   "source": [
    "em_check(\"lee@gmail\")\n",
    "em_check(\"leegmail.com\")\n",
    "em_check(\"lee\")\n",
    "em_check(\"lee@gmail.com\")\n"
   ]
  },
  {
   "cell_type": "code",
   "execution_count": null,
   "id": "f3a46896",
   "metadata": {},
   "outputs": [],
   "source": []
  }
 ],
 "metadata": {
  "kernelspec": {
   "display_name": "Python 3 (ipykernel)",
   "language": "python",
   "name": "python3"
  },
  "language_info": {
   "codemirror_mode": {
    "name": "ipython",
    "version": 3
   },
   "file_extension": ".py",
   "mimetype": "text/x-python",
   "name": "python",
   "nbconvert_exporter": "python",
   "pygments_lexer": "ipython3",
   "version": "3.9.12"
  },
  "toc": {
   "base_numbering": 1,
   "nav_menu": {},
   "number_sections": true,
   "sideBar": true,
   "skip_h1_title": false,
   "title_cell": "Table of Contents",
   "title_sidebar": "Contents",
   "toc_cell": false,
   "toc_position": {},
   "toc_section_display": true,
   "toc_window_display": false
  }
 },
 "nbformat": 4,
 "nbformat_minor": 5
}
