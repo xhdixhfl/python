{
 "cells": [
  {
   "cell_type": "markdown",
   "id": "29953aad",
   "metadata": {},
   "source": [
    "### 날짜와 시간 출력하기"
   ]
  },
  {
   "cell_type": "markdown",
   "id": "c7cc114e",
   "metadata": {},
   "source": [
    "#### 날짜 출력하기\n",
    "\n",
    " - import()를 이용하여 데이트 관련 함수 불러오기\n",
    " - strftime()를 이용하여 원하는 형식으로 출력하기\n",
    " - format이용하여 형식 지정하여 출력하기\n",
    " - 오늘을 기준으로 그 전이나 후의 날짜 출력하기\n"
   ]
  },
  {
   "cell_type": "code",
   "execution_count": 11,
   "id": "8fa3e6c5",
   "metadata": {},
   "outputs": [],
   "source": [
    "import datetime as datetime\n",
    "from datetime import date, time, datetime, timedelta"
   ]
  },
  {
   "cell_type": "code",
   "execution_count": 16,
   "id": "47a10408",
   "metadata": {},
   "outputs": [
    {
     "data": {
      "text/plain": [
       "datetime.datetime(2022, 9, 7, 23, 22, 12, 761181)"
      ]
     },
     "execution_count": 16,
     "metadata": {},
     "output_type": "execute_result"
    }
   ],
   "source": [
    "x = datetime.datetime.now()\n",
    "x"
   ]
  },
  {
   "cell_type": "code",
   "execution_count": 23,
   "id": "03a9e40e",
   "metadata": {},
   "outputs": [
    {
     "data": {
      "text/plain": [
       "'Wednesday 07 . September 2022'"
      ]
     },
     "execution_count": 23,
     "metadata": {},
     "output_type": "execute_result"
    }
   ],
   "source": [
    "x.strftime(\"%A %d . %B %Y\")"
   ]
  },
  {
   "cell_type": "code",
   "execution_count": 27,
   "id": "f55f3bbd",
   "metadata": {},
   "outputs": [
    {
     "name": "stdout",
     "output_type": "stream",
     "text": [
      "현재시간은 23시 22분 12초 입니다.\n"
     ]
    }
   ],
   "source": [
    "print(\"현재시간은\",x.strftime(\"%H시 %M분 %S초\"), \"입니다.\")"
   ]
  },
  {
   "cell_type": "code",
   "execution_count": 37,
   "id": "16301140",
   "metadata": {},
   "outputs": [
    {
     "data": {
      "text/plain": [
       "datetime.datetime(1997, 8, 11, 0, 0)"
      ]
     },
     "execution_count": 37,
     "metadata": {},
     "output_type": "execute_result"
    }
   ],
   "source": [
    "datetime.datetime.strptime(\"1997 - 8 - 11\", \"%Y - %m - %d\")"
   ]
  },
  {
   "cell_type": "code",
   "execution_count": 18,
   "id": "78e3cadf",
   "metadata": {},
   "outputs": [
    {
     "name": "stdout",
     "output_type": "stream",
     "text": [
      "2022-09-13 12:43:05.597306\n"
     ]
    }
   ],
   "source": [
    "# 현재 날짜와 시간을 한번에 나타내기\n",
    "x =  datetime.today()\n",
    "print(x)"
   ]
  },
  {
   "cell_type": "markdown",
   "id": "7425bc11",
   "metadata": {},
   "source": [
    "##### strftime()를 이용하여 생일 나타내기  (날짜 자료형을 문자열로 변환)"
   ]
  },
  {
   "cell_type": "code",
   "execution_count": 34,
   "id": "79454afc",
   "metadata": {},
   "outputs": [
    {
     "name": "stdout",
     "output_type": "stream",
     "text": [
      "나의 출생일은 1997년 08월 11일 입니다.\n"
     ]
    }
   ],
   "source": [
    "y = datetime.date(1997, 8, 11)\n",
    "\n",
    "print(\"나의 출생일은\", y.strftime(\"%Y년 %m월 %d일\"), \"입니다.\")"
   ]
  },
  {
   "cell_type": "markdown",
   "id": "5f244189",
   "metadata": {},
   "source": [
    "##### format형식으로 날짜 나타내기"
   ]
  },
  {
   "cell_type": "code",
   "execution_count": 9,
   "id": "b1b0d90f",
   "metadata": {},
   "outputs": [
    {
     "name": "stdout",
     "output_type": "stream",
     "text": [
      "년도 = 2022\n",
      "월 = 9\n",
      "일 = 13\n"
     ]
    }
   ],
   "source": [
    "today = date.today()\n",
    "print(\"년도 = {}\".format(today.year))\n",
    "print(\"월 = {}\".format(today.month))\n",
    "print(\"일 = {}\".format(today.day))"
   ]
  },
  {
   "cell_type": "markdown",
   "id": "326cdd02",
   "metadata": {},
   "source": [
    "##### 원하는 시기의 날짜 불러오기\n",
    " - 변수에 구하고자하는 날짜의 데이터를 지정한후에 today를 기준으로 프린트"
   ]
  },
  {
   "cell_type": "code",
   "execution_count": 15,
   "id": "f46aeb98",
   "metadata": {},
   "outputs": [
    {
     "name": "stdout",
     "output_type": "stream",
     "text": [
      "2022-09-12\n"
     ]
    }
   ],
   "source": [
    "# 어제 날짜 \n",
    "y = timedelta(days = -1)\n",
    "print(today + y)"
   ]
  },
  {
   "cell_type": "code",
   "execution_count": 16,
   "id": "eece679e",
   "metadata": {},
   "outputs": [
    {
     "name": "stdout",
     "output_type": "stream",
     "text": [
      "2022-10-13\n"
     ]
    }
   ],
   "source": [
    "# 30일 후 날짜\n",
    "m = timedelta(days = 30)\n",
    "print(today + m)"
   ]
  },
  {
   "cell_type": "code",
   "execution_count": 21,
   "id": "ea904e1b",
   "metadata": {},
   "outputs": [
    {
     "name": "stdout",
     "output_type": "stream",
     "text": [
      "100일 후의 날짜는 2022년 12월 22일 입니다.\n"
     ]
    }
   ],
   "source": [
    "# 형식을 지정하여 100일 후의 날짜출력\n",
    "h_day = timedelta(days = 100)\n",
    "dday = today + h_day\n",
    "\n",
    "print(\"100일 후의 날짜는\",dday.strftime(\"%Y년 %m월 %d일\"), \"입니다.\")"
   ]
  },
  {
   "cell_type": "code",
   "execution_count": 24,
   "id": "c9ac0916",
   "metadata": {},
   "outputs": [
    {
     "name": "stdout",
     "output_type": "stream",
     "text": [
      "2022-09-13 00:50:39.303424\n"
     ]
    }
   ],
   "source": [
    "#  12시간 전 date정보 출력하기\n",
    "todays = datetime.today() # 형식화된 날짜 시간 출력을 위해\n",
    "\n",
    "z = timedelta(hours = -12)\n",
    "print(todays + z)"
   ]
  },
  {
   "cell_type": "code",
   "execution_count": 29,
   "id": "87cd864c",
   "metadata": {},
   "outputs": [
    {
     "name": "stdout",
     "output_type": "stream",
     "text": [
      "2022년 9월 6일, 1시 50분 39초\n"
     ]
    }
   ],
   "source": [
    "# 형식을 지정하여  7일하고도 11시간 전 date정보 출력하기.\n",
    "dd = timedelta(days = -7)\n",
    "hh = timedelta(hours = -11)\n",
    "pday = todays + dd + hh\n",
    "\n",
    "print(\"{0}년 {1}월 {2}일, {3}시 {4}분 {5}초\".format(pday.year, pday.month, pday.day, pday.hour, pday.minute, pday.second))"
   ]
  },
  {
   "cell_type": "markdown",
   "id": "0f3366da",
   "metadata": {},
   "source": [
    "#### 시간 출력하기"
   ]
  },
  {
   "cell_type": "code",
   "execution_count": 39,
   "id": "b174358d",
   "metadata": {},
   "outputs": [
    {
     "name": "stdout",
     "output_type": "stream",
     "text": [
      "출력하고자 하는 초를 입력하세요: 123456\n",
      "입력하신 초는 123456초 이고, 이것은 1일 10시 17분 36초 입니다.\n"
     ]
    }
   ],
   "source": [
    "# 초를 입력받아 시간, 분, 초로 나누어 표기하는 시스템을 구현하시오.\n",
    "\n",
    "cho = int(input(\"출력하고자 하는 초를 입력하세요: \")) # 초 입력\n",
    "\n",
    "#일, 시, 분, 초 \n",
    "dd = cho // (3600 * 24)\n",
    "rd = cho % (3600 * 24)  # 초에 일을 나눈 나머지가 아이들이 시분초를 이룰테니\n",
    "hh = rd // 3600\n",
    "rh = rd % 3600  # % 시분초를 이룰 것에 시간을 나눈 나머지가 분초를 이룰테니\n",
    "mm = rh // 60\n",
    "ss = rh % 60\n",
    "\n",
    "print(\"입력하신 초는 %d초 이고, 이것은 %d일 %d시 %d분 %d초 입니다.\" % (cho, dd, hh, mm, ss))"
   ]
  },
  {
   "cell_type": "markdown",
   "id": "24c824ed",
   "metadata": {},
   "source": [
    "#### 응용하기"
   ]
  },
  {
   "cell_type": "markdown",
   "id": "9249567e",
   "metadata": {},
   "source": [
    "##### 출생년도를 이용한 문제"
   ]
  },
  {
   "cell_type": "code",
   "execution_count": 61,
   "id": "7dabfc58",
   "metadata": {},
   "outputs": [
    {
     "name": "stdout",
     "output_type": "stream",
     "text": [
      "출생년도 = 1997\n",
      "해당 주민번호를 가진 사람은 남자입니다.\n"
     ]
    }
   ],
   "source": [
    "jumin = \"971213-123456\"\n",
    "# 해당 주민번호의 년도만 출력하기(인덱스 할때 뒷자리 -1만큼 불러옴)\n",
    "print(\"출생년도 = 19\"+ jm[:2])  # ,로 구분하면 한칸 띄어져서 +로 문자열 연결하기\n",
    "\n",
    "# 해당 주민번호로 성별 판단하기\n",
    "if int(jumin[7]) % 2 != 0:\n",
    "    print(\"해당 주민번호를 가진 사람은 남자입니다.\")\n",
    "else:\n",
    "    print(\"해당 주민번호를 가진 사람은 여자입니다.\")"
   ]
  },
  {
   "cell_type": "code",
   "execution_count": 65,
   "id": "b365c833",
   "metadata": {},
   "outputs": [
    {
     "name": "stdout",
     "output_type": "stream",
     "text": [
      "주민번호를(-를 포함하여)입력해주세요 : 970811-123456\n",
      "해당 주민의 출생년도는 1997년이고, 남자입니다.\n"
     ]
    }
   ],
   "source": [
    "# 주민번호를 입력받아 출생년도를 출력하고 성별 판단하기.\n",
    "\n",
    "jm = input(\"주민번호를(-를 포함하여)입력해주세요 : \")\n",
    "if int(jm[7]) % 2 != 0:\n",
    "    print(\"해당 주민의 출생년도는 19\"+jm[:2]+\"년이고, 남자입니다.\")\n",
    "else:\n",
    "    print(\"해당 주민의 출생년도는 19\"+jm[:2]+\"년이고, 여자입니다.\")\n",
    "    \n",
    "    "
   ]
  },
  {
   "cell_type": "markdown",
   "id": "91b4f28b",
   "metadata": {},
   "source": [
    "##### 평년, 윤년 판단하기\n",
    " - 윤년은 4년마다 돌아오고 400으로 나누어 떨어지나, 평년은 100으로 나누어 떨어진다."
   ]
  },
  {
   "cell_type": "code",
   "execution_count": 1,
   "id": "0b37b310",
   "metadata": {},
   "outputs": [
    {
     "name": "stdout",
     "output_type": "stream",
     "text": [
      "판단하고자 하는 년도를 입력하세요(종료를 원할 시 0을 입력하시오.) : 1234\n",
      "입력하신 1234년도는 평달입니다.\n",
      "판단하고자 하는 년도를 입력하세요(종료를 원할 시 0을 입력하시오.) : 1997\n",
      "입력하신 1997년도는 평달입니다.\n",
      "판단하고자 하는 년도를 입력하세요(종료를 원할 시 0을 입력하시오.) : 1995\n",
      "입력하신 1995년도는 평달입니다.\n",
      "판단하고자 하는 년도를 입력하세요(종료를 원할 시 0을 입력하시오.) : 2000\n",
      "입력하신 2000년도는 윤달입니다.\n",
      "판단하고자 하는 년도를 입력하세요(종료를 원할 시 0을 입력하시오.) : 0\n",
      "프로그램을 종료합니다.\n"
     ]
    }
   ],
   "source": [
    "\n",
    "while True:\n",
    "    yy = int(input(\"판단하고자 하는 년도를 입력하세요(종료를 원할 시 0을 입력하시오.) : \")) \n",
    "    #이건 지역변수로 잡아야하나봐 밖에 두니깐 무한뤂..\n",
    "    if yy == 0:\n",
    "        print(\"프로그램을 종료합니다.\")\n",
    "        break\n",
    "    if yy % 4 == 0 and yy % 100 != 0 or yy % 400 == 0:\n",
    "        print(\"입력하신 %d년도는 윤달입니다.\" % yy)\n",
    "    else:\n",
    "        print(\"입력하신 %d년도는 평달입니다.\" % yy)"
   ]
  },
  {
   "cell_type": "code",
   "execution_count": null,
   "id": "6cad956a",
   "metadata": {},
   "outputs": [],
   "source": []
  }
 ],
 "metadata": {
  "kernelspec": {
   "display_name": "Python 3 (ipykernel)",
   "language": "python",
   "name": "python3"
  },
  "language_info": {
   "codemirror_mode": {
    "name": "ipython",
    "version": 3
   },
   "file_extension": ".py",
   "mimetype": "text/x-python",
   "name": "python",
   "nbconvert_exporter": "python",
   "pygments_lexer": "ipython3",
   "version": "3.9.12"
  },
  "toc": {
   "base_numbering": 1,
   "nav_menu": {},
   "number_sections": true,
   "sideBar": true,
   "skip_h1_title": false,
   "title_cell": "Table of Contents",
   "title_sidebar": "Contents",
   "toc_cell": false,
   "toc_position": {},
   "toc_section_display": true,
   "toc_window_display": false
  }
 },
 "nbformat": 4,
 "nbformat_minor": 5
}
