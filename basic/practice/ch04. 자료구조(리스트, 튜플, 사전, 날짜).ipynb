{
 "cells": [
  {
   "cell_type": "code",
   "execution_count": 2,
   "id": "90e4c887",
   "metadata": {},
   "outputs": [
    {
     "name": "stdout",
     "output_type": "stream",
     "text": [
      "[1, 2, 3, 4, 5]\n",
      "<class 'list'>\n",
      "1\n",
      "2\n",
      "5\n",
      "5\n",
      "a = [10, 2, 3, 4, 5]\n",
      "10\n",
      "2\n",
      "3\n",
      "4\n",
      "5\n",
      "10\n",
      "2\n",
      "3\n",
      "4\n",
      "5\n",
      "-------------------------------\n",
      "--------------------\n"
     ]
    }
   ],
   "source": [
    "# 리스트 생성\n",
    "a = [1, 2, 3, 4,5]\n",
    "print(a)\n",
    "# 자료형 확인\n",
    "print(type(a)) \n",
    "# 개별요소 참조 - 인덱스(요소는 데이터)\n",
    "print(a[0])\n",
    "print(a[1])\n",
    "# 마지막 요소\n",
    "print(a[-1])\n",
    "print(a[4])\n",
    "# 리스트 변경 가능\n",
    "a[0] = 10\n",
    "print(\"a =\", a)\n",
    "# 개별요소를 줄단위로 출력\n",
    "print(a[0])\n",
    "print(a[1])\n",
    "print(a[2])\n",
    "print(a[3])\n",
    "print(a[4])\n",
    "# for 개별변수 in 집합변수\n",
    "for i in a:\n",
    "    print(i)\n",
    "    \n",
    "print(\"-------------------------------\")\n",
    "print(\"-\" * 20)\n",
    "\n",
    "    \n",
    "# for i in a:\n",
    "#     print(a[i])        ===== 파이썬에선 a[a[0]]로 인식하기에 오류가 발생함\\\n",
    "# C나 Java에서는 가능함     "
   ]
  },
  {
   "cell_type": "code",
   "execution_count": 3,
   "id": "5fd27e14",
   "metadata": {},
   "outputs": [
    {
     "name": "stdout",
     "output_type": "stream",
     "text": [
      "[1, 2, 3, ['a', 'b', 'c']]\n",
      "['a', 'b', 'c']\n",
      "a\n"
     ]
    }
   ],
   "source": [
    "# 중첩 리스트 = 이차원 리스트, 이차원 배열\n",
    "a =[1,2,3,['a','b','c']]\n",
    "print(a)\n",
    "print(a[3])\n",
    "print(a[3][0])   # 리스트[행][열]"
   ]
  },
  {
   "cell_type": "code",
   "execution_count": 4,
   "id": "8c076ebe",
   "metadata": {},
   "outputs": [
    {
     "name": "stdout",
     "output_type": "stream",
     "text": [
      "x = [10, 2, 3, 4, 5]\n",
      "y = [10, 2, 3, 4, 5]\n"
     ]
    }
   ],
   "source": [
    "# 리스트를 저장할 때 값 자체가 아니라 값이 위치한 메모리의 주소를 저장한다.\n",
    "x = [1,2,3,4,5]\n",
    "# 개체(객체)복사\n",
    "y = x\n",
    "y[0]=10\n",
    "print(\"x =\", x)\n",
    "print('y =', y)"
   ]
  },
  {
   "cell_type": "code",
   "execution_count": 5,
   "id": "23744c72",
   "metadata": {},
   "outputs": [
    {
     "name": "stdout",
     "output_type": "stream",
     "text": [
      "x = [1, 2, 3, 4, 5]\n",
      "y = [10, 2, 3, 4, 5]\n"
     ]
    }
   ],
   "source": [
    "x = [1,2,3,4,5]\n",
    "y = x[:]   # slicing[start:stop]\n",
    "y[0]=10\n",
    "print(\"x =\", x)\n",
    "print('y =', y)"
   ]
  },
  {
   "cell_type": "code",
   "execution_count": 6,
   "id": "6f72dde3",
   "metadata": {},
   "outputs": [
    {
     "name": "stdout",
     "output_type": "stream",
     "text": [
      "[1, 2]\n"
     ]
    }
   ],
   "source": [
    "x = [1,2,3,4,5]\n",
    "print(x[0:2])   #0, 1"
   ]
  },
  {
   "cell_type": "code",
   "execution_count": 8,
   "id": "518671c6",
   "metadata": {},
   "outputs": [
    {
     "name": "stdout",
     "output_type": "stream",
     "text": [
      "[1, 2, 3, 4, 5]\n",
      "[1, 2, 3]\n",
      "[2, 3, 4, 5]\n"
     ]
    }
   ],
   "source": [
    "print(x[:])\n",
    "print(x[:3])   \n",
    "print(x[1:])"
   ]
  },
  {
   "cell_type": "code",
   "execution_count": 19,
   "id": "ee2aa795",
   "metadata": {},
   "outputs": [
    {
     "name": "stdout",
     "output_type": "stream",
     "text": [
      "c= [1, 2, 3, 5, 6, 7]\n",
      "a= [1, 2, 3, 5, 6, 7]\n"
     ]
    }
   ],
   "source": [
    "# 리스트의 연산 : 더하기(+) 연산, 리스트의 크기가 확장된다\n",
    "a = [1,2,3]\n",
    "b = [5,6,7]\n",
    "c = a + b   # extend(확장)의 의미, 리스트가 가로로 연결됨\n",
    "a.extend(b)\n",
    "print(\"c=\",c)\n",
    "print(\"a=\", a)"
   ]
  },
  {
   "cell_type": "code",
   "execution_count": 20,
   "id": "deec1559",
   "metadata": {},
   "outputs": [
    {
     "data": {
      "text/plain": [
       "[1, 2, 3, 5, 6, 7]"
      ]
     },
     "execution_count": 20,
     "metadata": {},
     "output_type": "execute_result"
    }
   ],
   "source": [
    "# a.extend(b) : a = a + b -> 다른 변수에 못담김\n",
    "a"
   ]
  },
  {
   "cell_type": "code",
   "execution_count": 22,
   "id": "0675d4b0",
   "metadata": {},
   "outputs": [
    {
     "data": {
      "text/plain": [
       "'Hello python'"
      ]
     },
     "execution_count": 22,
     "metadata": {},
     "output_type": "execute_result"
    }
   ],
   "source": [
    "# 문자열도 시퀀스 자료형\n",
    "# 문자열 + 문자열 (연결연산자)\n",
    "\"Hello \" + \"python\""
   ]
  },
  {
   "cell_type": "code",
   "execution_count": 23,
   "id": "a9c632ec",
   "metadata": {},
   "outputs": [
    {
     "name": "stdout",
     "output_type": "stream",
     "text": [
      "[1, 2, 3, 1, 2, 3, 1, 2, 3]\n"
     ]
    }
   ],
   "source": [
    "# 리스트 연산 : 곱셈(*), 반복, list * 반복횟수(정수형 데이터)\n",
    "a=[1,2,3]\n",
    "b=a*3\n",
    "print(b)"
   ]
  },
  {
   "cell_type": "code",
   "execution_count": 24,
   "id": "92686a62",
   "metadata": {},
   "outputs": [
    {
     "data": {
      "text/plain": [
       "'안뇽안뇽안뇽'"
      ]
     },
     "execution_count": 24,
     "metadata": {},
     "output_type": "execute_result"
    }
   ],
   "source": [
    "\"안뇽\" * 3"
   ]
  },
  {
   "cell_type": "code",
   "execution_count": 25,
   "id": "ca548a86",
   "metadata": {},
   "outputs": [
    {
     "data": {
      "text/plain": [
       "[1, 2, 3]"
      ]
     },
     "execution_count": 25,
     "metadata": {},
     "output_type": "execute_result"
    }
   ],
   "source": [
    "a"
   ]
  },
  {
   "cell_type": "code",
   "execution_count": 26,
   "id": "5baf3ecf",
   "metadata": {},
   "outputs": [
    {
     "data": {
      "text/plain": [
       "[1, 'a', 'b', 'c', 3]"
      ]
     },
     "execution_count": 26,
     "metadata": {},
     "output_type": "execute_result"
    }
   ],
   "source": [
    "a[1:2] = ['a','b','c']\n",
    "a"
   ]
  },
  {
   "cell_type": "code",
   "execution_count": 27,
   "id": "504a9501",
   "metadata": {},
   "outputs": [
    {
     "data": {
      "text/plain": [
       "[1]"
      ]
     },
     "execution_count": 27,
     "metadata": {},
     "output_type": "execute_result"
    }
   ],
   "source": [
    "a =[1,2,3]\n",
    "a[1:3] = []   # 인덱스 1과 2번째 값을 삭제\n",
    "a"
   ]
  },
  {
   "cell_type": "code",
   "execution_count": 29,
   "id": "b130fea6",
   "metadata": {},
   "outputs": [
    {
     "data": {
      "text/plain": [
       "[1, 3]"
      ]
     },
     "execution_count": 29,
     "metadata": {},
     "output_type": "execute_result"
    }
   ],
   "source": [
    "a = [1,2,3]\n",
    "del a[1]\n",
    "a"
   ]
  },
  {
   "cell_type": "code",
   "execution_count": 30,
   "id": "fde819e3",
   "metadata": {},
   "outputs": [
    {
     "name": "stdout",
     "output_type": "stream",
     "text": [
      "[1, 2, 3, 4]\n"
     ]
    }
   ],
   "source": [
    "a=[1,4,2,3]\n",
    "a.sort() #오름차순\n",
    "print(a)"
   ]
  },
  {
   "cell_type": "code",
   "execution_count": 31,
   "id": "7ec7598f",
   "metadata": {},
   "outputs": [
    {
     "data": {
      "text/plain": [
       "[3, 2, 4, 1]"
      ]
     },
     "execution_count": 31,
     "metadata": {},
     "output_type": "execute_result"
    }
   ],
   "source": [
    "a=[1,4,2,3]\n",
    "a.reverse() # 뒤집기만\n",
    "a"
   ]
  },
  {
   "cell_type": "code",
   "execution_count": 32,
   "id": "821d70e5",
   "metadata": {},
   "outputs": [
    {
     "data": {
      "text/plain": [
       "[4, 3, 2, 1]"
      ]
     },
     "execution_count": 32,
     "metadata": {},
     "output_type": "execute_result"
    }
   ],
   "source": [
    "a=[1,4,2,3]\n",
    "a.sort()\n",
    "a.reverse() \n",
    "a"
   ]
  },
  {
   "cell_type": "code",
   "execution_count": 34,
   "id": "07d9ac0b",
   "metadata": {},
   "outputs": [
    {
     "data": {
      "text/plain": [
       "[4, 3, 2, 1]"
      ]
     },
     "execution_count": 34,
     "metadata": {},
     "output_type": "execute_result"
    }
   ],
   "source": [
    "a=[1,4,2,3]\n",
    "a.sort(reverse=True)\n",
    "a"
   ]
  },
  {
   "cell_type": "code",
   "execution_count": 35,
   "id": "7562a487",
   "metadata": {},
   "outputs": [
    {
     "data": {
      "text/plain": [
       "['a', 'b', 'c', 'd']"
      ]
     },
     "execution_count": 35,
     "metadata": {},
     "output_type": "execute_result"
    }
   ],
   "source": [
    "a=['a','b','d','c']   # 사전순으로 정렬\n",
    "a.sort()\n",
    "a"
   ]
  },
  {
   "cell_type": "code",
   "execution_count": 36,
   "id": "6be10599",
   "metadata": {},
   "outputs": [
    {
     "name": "stdout",
     "output_type": "stream",
     "text": [
      "2\n"
     ]
    }
   ],
   "source": [
    "a = [1,2,3,4,5]\n",
    "print(a.index(3)) # 3이라는 값이 몇번째 위치에 있는지"
   ]
  },
  {
   "cell_type": "code",
   "execution_count": 38,
   "id": "1448a219",
   "metadata": {},
   "outputs": [
    {
     "ename": "ValueError",
     "evalue": "'h' is not in list",
     "output_type": "error",
     "traceback": [
      "\u001b[1;31m---------------------------------------------------------------------------\u001b[0m",
      "\u001b[1;31mValueError\u001b[0m                                Traceback (most recent call last)",
      "Input \u001b[1;32mIn [38]\u001b[0m, in \u001b[0;36m<cell line: 2>\u001b[1;34m()\u001b[0m\n\u001b[0;32m      1\u001b[0m b \u001b[38;5;241m=\u001b[39m [\u001b[38;5;124m'\u001b[39m\u001b[38;5;124ma\u001b[39m\u001b[38;5;124m'\u001b[39m, \u001b[38;5;124m'\u001b[39m\u001b[38;5;124mb\u001b[39m\u001b[38;5;124m'\u001b[39m,\u001b[38;5;124m'\u001b[39m\u001b[38;5;124mc\u001b[39m\u001b[38;5;124m'\u001b[39m]\n\u001b[1;32m----> 2\u001b[0m \u001b[38;5;28mprint\u001b[39m(\u001b[43mb\u001b[49m\u001b[38;5;241;43m.\u001b[39;49m\u001b[43mindex\u001b[49m\u001b[43m(\u001b[49m\u001b[38;5;124;43m'\u001b[39;49m\u001b[38;5;124;43mh\u001b[39;49m\u001b[38;5;124;43m'\u001b[39;49m\u001b[43m)\u001b[49m)\n",
      "\u001b[1;31mValueError\u001b[0m: 'h' is not in list"
     ]
    }
   ],
   "source": [
    "b = ['a', 'b','c']\n",
    "print(b.index('h'))   #없는 데이터의 위치를 물으면 에러발생\n"
   ]
  },
  {
   "cell_type": "code",
   "execution_count": 39,
   "id": "5b4168b5",
   "metadata": {},
   "outputs": [
    {
     "name": "stdout",
     "output_type": "stream",
     "text": [
      "[4, 1, 2, 3]\n"
     ]
    }
   ],
   "source": [
    "a = [1,2,3]\n",
    "a.insert(0,4)   # 0번째 위치에 4를 입력\n",
    "print(a)"
   ]
  },
  {
   "cell_type": "code",
   "execution_count": 40,
   "id": "671e1bab",
   "metadata": {},
   "outputs": [
    {
     "data": {
      "text/plain": [
       "[1, 2, 1, 2, 3]"
      ]
     },
     "execution_count": 40,
     "metadata": {},
     "output_type": "execute_result"
    }
   ],
   "source": [
    "# 값을 삭제하는 remove\n",
    "a = [1,2,3,1,2,3]\n",
    "# 3인 데이터를 삭제(1개만)\n",
    "a.remove(3)\n",
    "a"
   ]
  },
  {
   "cell_type": "code",
   "execution_count": 41,
   "id": "f592215c",
   "metadata": {},
   "outputs": [
    {
     "data": {
      "text/plain": [
       "[2, 1, 2, 3]"
      ]
     },
     "execution_count": 41,
     "metadata": {},
     "output_type": "execute_result"
    }
   ],
   "source": [
    "# 인덱스로 삭제(위치로)\n",
    "del a[0]\n",
    "a"
   ]
  },
  {
   "cell_type": "code",
   "execution_count": 42,
   "id": "ae4dc099",
   "metadata": {},
   "outputs": [
    {
     "name": "stdout",
     "output_type": "stream",
     "text": [
      "[1, 2]\n",
      "3\n"
     ]
    }
   ],
   "source": [
    "a = [1,2,3]\n",
    "b = a.pop() # 리스트의 마지막 요소를 추출 \n",
    "print(a)\n",
    "print(b)"
   ]
  },
  {
   "cell_type": "code",
   "execution_count": 44,
   "id": "6e96bc65",
   "metadata": {},
   "outputs": [
    {
     "name": "stdout",
     "output_type": "stream",
     "text": [
      "3\n"
     ]
    }
   ],
   "source": [
    "# 요소의 건수(개수)\n",
    "a=[1,2,3,1,2,1]\n",
    "b = a.count(1)   # 값이 1인 요소가 몇개인지 계산하는 함수\n",
    "print(b)"
   ]
  },
  {
   "cell_type": "code",
   "execution_count": 45,
   "id": "7a06396f",
   "metadata": {},
   "outputs": [
    {
     "data": {
      "text/plain": [
       "[1, 2, 3, 4, 5]"
      ]
     },
     "execution_count": 45,
     "metadata": {},
     "output_type": "execute_result"
    }
   ],
   "source": [
    "# 리스트의 확장\n",
    "a = [1,2,3]\n",
    "# 리스트1.extend(리스트2)  --> 리스트1이 확장됨\n",
    "a.extend([4,5])\n",
    "a"
   ]
  },
  {
   "cell_type": "code",
   "execution_count": 46,
   "id": "5b7317e5",
   "metadata": {},
   "outputs": [
    {
     "ename": "TypeError",
     "evalue": "'int' object is not iterable",
     "output_type": "error",
     "traceback": [
      "\u001b[1;31m---------------------------------------------------------------------------\u001b[0m",
      "\u001b[1;31mTypeError\u001b[0m                                 Traceback (most recent call last)",
      "Input \u001b[1;32mIn [46]\u001b[0m, in \u001b[0;36m<cell line: 1>\u001b[1;34m()\u001b[0m\n\u001b[1;32m----> 1\u001b[0m \u001b[43ma\u001b[49m\u001b[38;5;241;43m.\u001b[39;49m\u001b[43mextend\u001b[49m\u001b[43m(\u001b[49m\u001b[38;5;241;43m6\u001b[39;49m\u001b[43m)\u001b[49m\n\u001b[0;32m      2\u001b[0m a\n",
      "\u001b[1;31mTypeError\u001b[0m: 'int' object is not iterable"
     ]
    }
   ],
   "source": [
    "a.extend(6)    # 반드시 리스트를 담아야한다.\n",
    "a"
   ]
  },
  {
   "cell_type": "code",
   "execution_count": 47,
   "id": "98abc530",
   "metadata": {},
   "outputs": [
    {
     "name": "stdout",
     "output_type": "stream",
     "text": [
      "[1, 2, 3, 4, 5, 7, 8]\n"
     ]
    }
   ],
   "source": [
    "b=[7,8]\n",
    "print(a+b)"
   ]
  },
  {
   "cell_type": "code",
   "execution_count": 48,
   "id": "8bbeb108",
   "metadata": {},
   "outputs": [
    {
     "name": "stdout",
     "output_type": "stream",
     "text": [
      "True\n",
      "False\n"
     ]
    }
   ],
   "source": [
    "# 값 in 리스트 (포함되었는지), 값 not in 리스트 --> 결과는 True or False\n",
    "a = [1,2,3,4,5]\n",
    "result = 2 in a\n",
    "print(result)\n",
    "\n",
    "result = 2 not in a   # 없으면 True, 있으면 False\n",
    "print(result)"
   ]
  },
  {
   "cell_type": "markdown",
   "id": "e5df95e0",
   "metadata": {},
   "source": [
    "# 튜플(Tuple)"
   ]
  },
  {
   "cell_type": "code",
   "execution_count": 49,
   "id": "742a65b8",
   "metadata": {},
   "outputs": [
    {
     "name": "stdout",
     "output_type": "stream",
     "text": [
      "(1, 2, 'a', 'b')\n",
      "<class 'tuple'>\n",
      "1\n",
      "b\n"
     ]
    },
    {
     "ename": "TypeError",
     "evalue": "'tuple' object does not support item assignment",
     "output_type": "error",
     "traceback": [
      "\u001b[1;31m---------------------------------------------------------------------------\u001b[0m",
      "\u001b[1;31mTypeError\u001b[0m                                 Traceback (most recent call last)",
      "Input \u001b[1;32mIn [49]\u001b[0m, in \u001b[0;36m<cell line: 6>\u001b[1;34m()\u001b[0m\n\u001b[0;32m      4\u001b[0m \u001b[38;5;28mprint\u001b[39m(t1[\u001b[38;5;241m0\u001b[39m])   \u001b[38;5;66;03m# 인덱스를 가져올땐 튜플이라도[]사용\u001b[39;00m\n\u001b[0;32m      5\u001b[0m \u001b[38;5;28mprint\u001b[39m(t1[\u001b[38;5;241m-\u001b[39m\u001b[38;5;241m1\u001b[39m])\n\u001b[1;32m----> 6\u001b[0m t1[\u001b[38;5;241m0\u001b[39m]\u001b[38;5;241m=\u001b[39m\u001b[38;5;124m'\u001b[39m\u001b[38;5;124mc\u001b[39m\u001b[38;5;124m'\u001b[39m\n",
      "\u001b[1;31mTypeError\u001b[0m: 'tuple' object does not support item assignment"
     ]
    }
   ],
   "source": [
    "t1 = (1,2,'a','b')\n",
    "print(t1)\n",
    "print(type(t1))\n",
    "print(t1[0])   # 인덱스를 가져올땐 튜플이라도[]사용\n",
    "print(t1[-1])\n",
    "t1[0]='c'  #튜플은 변경 불가라 에러발생"
   ]
  },
  {
   "cell_type": "code",
   "execution_count": 50,
   "id": "84808550",
   "metadata": {},
   "outputs": [
    {
     "ename": "TypeError",
     "evalue": "'tuple' object doesn't support item deletion",
     "output_type": "error",
     "traceback": [
      "\u001b[1;31m---------------------------------------------------------------------------\u001b[0m",
      "\u001b[1;31mTypeError\u001b[0m                                 Traceback (most recent call last)",
      "Input \u001b[1;32mIn [50]\u001b[0m, in \u001b[0;36m<cell line: 1>\u001b[1;34m()\u001b[0m\n\u001b[1;32m----> 1\u001b[0m \u001b[38;5;28;01mdel\u001b[39;00m t1[\u001b[38;5;241m0\u001b[39m]\n",
      "\u001b[1;31mTypeError\u001b[0m: 'tuple' object doesn't support item deletion"
     ]
    }
   ],
   "source": [
    "del t1[0]   # 삽입, 수정, 삭제 등 모두 불가"
   ]
  },
  {
   "cell_type": "code",
   "execution_count": 51,
   "id": "f6c99b86",
   "metadata": {},
   "outputs": [
    {
     "name": "stdout",
     "output_type": "stream",
     "text": [
      "(2, 'a', 'b')\n",
      "(1, 2, 'a', 'b', 3, 4)\n",
      "t1 = (1, 2, 'a', 'b', 3, 4)\n",
      "(1, 2, 'a', 'b', 3, 4, 1, 2, 'a', 'b', 3, 4, 1, 2, 'a', 'b', 3, 4)\n"
     ]
    }
   ],
   "source": [
    "t1 = (1,2,'a','b')\n",
    "print(t1[1:])\n",
    "t2 = (3,4)\n",
    "print(t1 + t2)    #something 확장같은거\n",
    "t1 = t1 + t2 # 새로운 t1이 생성된다고 생각 해야함. (변경이 아님)\n",
    "print(\"t1 =\", t1)\n",
    "print(t1*3)"
   ]
  },
  {
   "cell_type": "code",
   "execution_count": 52,
   "id": "9f924bc6",
   "metadata": {},
   "outputs": [
    {
     "name": "stdout",
     "output_type": "stream",
     "text": [
      "a=  10 b=  20\n"
     ]
    }
   ],
   "source": [
    "# 파이썬의 기본 자료형, 튜플\n",
    "a = 10\n",
    "b = 20\n",
    "print(\"a= \", a, \"b= \", b)"
   ]
  },
  {
   "cell_type": "code",
   "execution_count": 53,
   "id": "571abf51",
   "metadata": {},
   "outputs": [
    {
     "name": "stdout",
     "output_type": "stream",
     "text": [
      "a=  20 b=  10\n"
     ]
    }
   ],
   "source": [
    "c = a\n",
    "a = b\n",
    "b = c\n",
    "print(\"a= \", a, \"b= \", b)"
   ]
  },
  {
   "cell_type": "code",
   "execution_count": 54,
   "id": "fba1440a",
   "metadata": {},
   "outputs": [
    {
     "name": "stdout",
     "output_type": "stream",
     "text": [
      "a=  20 b=  10\n"
     ]
    }
   ],
   "source": [
    "a = 10\n",
    "b = 20\n",
    "a, b = b, a\n",
    "print(\"a= \", a, \"b= \", b)"
   ]
  },
  {
   "cell_type": "code",
   "execution_count": null,
   "id": "8eaace34",
   "metadata": {},
   "outputs": [],
   "source": [
    "a = 10\n",
    "b = 20\n",
    "a, b = (b, a)      # 기본적으로 여러 자료들이 튜플로 묶여 있음 ---> unpacking느낌\n",
    "print(\"a= \", a, \"b= \", b)"
   ]
  },
  {
   "cell_type": "code",
   "execution_count": 98,
   "id": "7b4eaee4",
   "metadata": {},
   "outputs": [
    {
     "name": "stdout",
     "output_type": "stream",
     "text": [
      "1 2 3\n",
      "2 1\n"
     ]
    }
   ],
   "source": [
    "# packing(패킹) : 여러 개의 값을 하나의 변수에 저장하는 것\n",
    "t1 = (1,2,3)\n",
    "# unpacking : 하나의 변수에 담은 값을 각각의 변수에 할당하는 것.\n",
    "# 이때, 데이터 개수와 변수의 개수는 반드시 일치해야한다.\n",
    "n1, n2, n3 = t1\n",
    "# 출력형식이 포함된 문자열.format(값1, 값2, 값3)\n",
    "print(\"{0} {1} {2}\".format(n1, n2, n3))\n",
    "\n",
    "# 변수의 값을 교환\n",
    "n1, n2 = n2, n1 \n",
    "print(\"{0} {1}\".format(n1, n2))"
   ]
  },
  {
   "cell_type": "code",
   "execution_count": 56,
   "id": "aa5e053b",
   "metadata": {},
   "outputs": [
    {
     "name": "stdout",
     "output_type": "stream",
     "text": [
      "[1, 2, 3]\n",
      "('x', 'y', 'z')\n"
     ]
    }
   ],
   "source": [
    "# 형변환 : int(), float(), str()\n",
    "# 자료구조의 형변환 : list(), tuple()    --- 함수, 사전은 향변환이 안됨(인덱스가 없고 키가 있어서) \n",
    "#//키만추출해서 튜플화 또는 value만 뽑아서 튜플화 정도는 가능\n",
    "\n",
    "my_list = [1,2,3]\n",
    "my_tuple = ('x','y','z')\n",
    "print(my_list)\n",
    "print(my_tuple)"
   ]
  },
  {
   "cell_type": "code",
   "execution_count": 57,
   "id": "2bd982bf",
   "metadata": {},
   "outputs": [
    {
     "name": "stdout",
     "output_type": "stream",
     "text": [
      "(1, 2, 3)\n",
      "['x', 'y', 'z']\n"
     ]
    }
   ],
   "source": [
    "print(tuple(my_list))\n",
    "print(list(my_tuple))"
   ]
  },
  {
   "cell_type": "code",
   "execution_count": null,
   "id": "f6ba4d1a",
   "metadata": {},
   "outputs": [],
   "source": [
    "### list로 연습했던걸 tuple로도 해보기"
   ]
  },
  {
   "cell_type": "markdown",
   "id": "5d521bd0",
   "metadata": {},
   "source": [
    "# 딕셔너리"
   ]
  },
  {
   "cell_type": "code",
   "execution_count": 58,
   "id": "a95ca651",
   "metadata": {},
   "outputs": [
    {
     "name": "stdout",
     "output_type": "stream",
     "text": [
      "{1: 'a'}\n",
      "<class 'dict'>\n"
     ]
    }
   ],
   "source": [
    "# 딕셔너리{key:value, key:value, key:value}  -키와 value를 쌍(item)으로 저장\n",
    "# key는 숫자인덱스 보다 문자인덱스를 선호(권장)\n",
    "# key는 중복 불가능\n",
    "a = {1:'a'}\n",
    "print(a)\n",
    "print(type(a))"
   ]
  },
  {
   "cell_type": "code",
   "execution_count": 59,
   "id": "19f9c6bd",
   "metadata": {},
   "outputs": [
    {
     "data": {
      "text/plain": [
       "{1: 'a', 2: 'b'}"
      ]
     },
     "execution_count": 59,
     "metadata": {},
     "output_type": "execute_result"
    }
   ],
   "source": [
    "# 사전에 아이템(item) 추가\n",
    "a[2] = 'b' # t숫자로 넣으면 인덱스로 오해 할 수도\n",
    "a"
   ]
  },
  {
   "cell_type": "code",
   "execution_count": 65,
   "id": "8e54ed25",
   "metadata": {},
   "outputs": [
    {
     "name": "stdout",
     "output_type": "stream",
     "text": [
      "{'name': '홍길동', 'phone': '010-1234-5678', 'age': 23}\n"
     ]
    }
   ],
   "source": [
    "stu = {'name':'홍길동', 'phone':'010-1234-5678','age':23}\n",
    "print(stu)"
   ]
  },
  {
   "cell_type": "code",
   "execution_count": 66,
   "id": "8051d4c0",
   "metadata": {},
   "outputs": [
    {
     "name": "stdout",
     "output_type": "stream",
     "text": [
      "홍길동\n",
      "홍길동\n",
      "23\n",
      "23\n"
     ]
    }
   ],
   "source": [
    "# 키를 이용해서 값을 조회\n",
    "print(stu['name'])       #value를 구할 때, dic[key]\n",
    "print(stu.get('name'))                  #  dic.get(key)\n",
    "\n",
    "print(stu['age'])    \n",
    "print(stu.get('age'))"
   ]
  },
  {
   "cell_type": "code",
   "execution_count": 67,
   "id": "58dde845",
   "metadata": {},
   "outputs": [
    {
     "data": {
      "text/plain": [
       "dict_keys(['name', 'phone', 'age'])"
      ]
     },
     "execution_count": 67,
     "metadata": {},
     "output_type": "execute_result"
    }
   ],
   "source": [
    "# keys 조회, list타입으로 출력\n",
    "stu.keys()"
   ]
  },
  {
   "cell_type": "code",
   "execution_count": 68,
   "id": "43a7e8e8",
   "metadata": {},
   "outputs": [
    {
     "data": {
      "text/plain": [
       "dict_values(['홍길동', '010-1234-5678', 23])"
      ]
     },
     "execution_count": 68,
     "metadata": {},
     "output_type": "execute_result"
    }
   ],
   "source": [
    "# values 조회, list 타입\n",
    "stu.values()"
   ]
  },
  {
   "cell_type": "code",
   "execution_count": 73,
   "id": "36477955",
   "metadata": {},
   "outputs": [
    {
     "data": {
      "text/plain": [
       "dict_items([('name', '홍길동'), ('phone', '010-1234-5678'), ('age', 23)])"
      ]
     },
     "execution_count": 73,
     "metadata": {},
     "output_type": "execute_result"
    }
   ],
   "source": [
    "# items 조회, 튜플 타입으로 출력\n",
    "stu.items()"
   ]
  },
  {
   "cell_type": "code",
   "execution_count": 75,
   "id": "59a9d6a3",
   "metadata": {},
   "outputs": [
    {
     "name": "stdout",
     "output_type": "stream",
     "text": [
      "name ==> 홍길동\n",
      "phone ==> 010-1234-5678\n",
      "age ==> 23\n"
     ]
    }
   ],
   "source": [
    "# 개별 조회 시, for 개별변수 in 집합변수(집합변수를 key값으로)\n",
    "for k in stu.keys():    # for k in ['name', 'phone', 'age']\n",
    "    print(k,\"==>\", stu[k])"
   ]
  },
  {
   "cell_type": "code",
   "execution_count": 77,
   "id": "1528cc83",
   "metadata": {},
   "outputs": [
    {
     "data": {
      "text/plain": [
       "['name', 'phone', 'age']"
      ]
     },
     "execution_count": 77,
     "metadata": {},
     "output_type": "execute_result"
    }
   ],
   "source": [
    "b = list(stu.keys())\n",
    "b"
   ]
  },
  {
   "cell_type": "code",
   "execution_count": 78,
   "id": "4cb0c6f6",
   "metadata": {},
   "outputs": [
    {
     "data": {
      "text/plain": [
       "['홍길동', '010-1234-5678', 23]"
      ]
     },
     "execution_count": 78,
     "metadata": {},
     "output_type": "execute_result"
    }
   ],
   "source": [
    "c = list(stu.values())\n",
    "c"
   ]
  },
  {
   "cell_type": "code",
   "execution_count": 79,
   "id": "0f133adc",
   "metadata": {},
   "outputs": [
    {
     "name": "stdout",
     "output_type": "stream",
     "text": [
      "[('name', '홍길동'), ('phone', '010-1234-5678'), ('age', 23)]\n"
     ]
    }
   ],
   "source": [
    "d = list(stu.items())\n",
    "print(d)"
   ]
  },
  {
   "cell_type": "code",
   "execution_count": 80,
   "id": "b6d759a2",
   "metadata": {},
   "outputs": [
    {
     "name": "stdout",
     "output_type": "stream",
     "text": [
      "<class 'list'>\n"
     ]
    }
   ],
   "source": [
    "print(type(d))"
   ]
  },
  {
   "cell_type": "code",
   "execution_count": 81,
   "id": "15b8af5c",
   "metadata": {},
   "outputs": [
    {
     "name": "stdout",
     "output_type": "stream",
     "text": [
      "('name', '홍길동')\n"
     ]
    }
   ],
   "source": [
    "print(d[0])"
   ]
  },
  {
   "cell_type": "code",
   "execution_count": 82,
   "id": "711479cb",
   "metadata": {},
   "outputs": [
    {
     "name": "stdout",
     "output_type": "stream",
     "text": [
      "name ==> 홍길동\n",
      "phone ==> 010-1234-5678\n",
      "age ==> 23\n"
     ]
    }
   ],
   "source": [
    "for k, v in d: # 집합변수 d가 튜플인데 리스트로 묶였어서리스트의 1값이 k, 2값이 v\n",
    "    print(k,\"==>\",v)"
   ]
  },
  {
   "cell_type": "code",
   "execution_count": 83,
   "id": "ac1985f8",
   "metadata": {},
   "outputs": [
    {
     "name": "stdout",
     "output_type": "stream",
     "text": [
      "{'name': '홍길동', 'phone': '010-1234-5678', 'age': 23, 'weight': 67.4}\n"
     ]
    }
   ],
   "source": [
    "# 새로운 item추가\n",
    "stu['weight'] = 67.4\n",
    "print(stu)"
   ]
  },
  {
   "cell_type": "code",
   "execution_count": 84,
   "id": "c1b4e746",
   "metadata": {},
   "outputs": [
    {
     "data": {
      "text/plain": [
       "True"
      ]
     },
     "execution_count": 84,
     "metadata": {},
     "output_type": "execute_result"
    }
   ],
   "source": [
    "'weight' in stu"
   ]
  },
  {
   "cell_type": "markdown",
   "id": "17b9060e",
   "metadata": {},
   "source": [
    "# 집합(set)"
   ]
  },
  {
   "cell_type": "code",
   "execution_count": 85,
   "id": "5512fce2",
   "metadata": {},
   "outputs": [
    {
     "data": {
      "text/plain": [
       "{1, 2, 3, 4, 5}"
      ]
     },
     "execution_count": 85,
     "metadata": {},
     "output_type": "execute_result"
    }
   ],
   "source": [
    "# 집합 자료형 : 중복값은 허용하지 않으며, 순서대로 저장되지 않는다.\n",
    "s1 = set([5,4,3,2,1,1,2,3,4,5])   # 튜플도 가능\n",
    "s1     # 값이 {}로 나오는데 사전은 아이템으로 이루어진 차이가 있음"
   ]
  },
  {
   "cell_type": "code",
   "execution_count": 86,
   "id": "10f79714",
   "metadata": {},
   "outputs": [
    {
     "name": "stdout",
     "output_type": "stream",
     "text": [
      "교집합:  {4, 5, 6}\n",
      "합집합:  {1, 2, 3, 4, 5, 6, 7, 8, 9}\n",
      "차집합:  {1, 2, 3}\n"
     ]
    }
   ],
   "source": [
    "s1 = set([1,2,3,4,5,6])\n",
    "s2 = set([4,5,6,7,8,9])\n",
    "\n",
    "# 교집합, &    // 다른 언어에서는 비트연산자로 이용\n",
    "a = s1 & s2\n",
    "print(\"교집합: \", a)\n",
    "\n",
    "# 합집합, |\n",
    "b = s1 | s2\n",
    "print(\"합집합: \", b)\n",
    "\n",
    "# 차집합, -\n",
    "c = s1 - s2\n",
    "print(\"차집합: \", c)"
   ]
  },
  {
   "cell_type": "code",
   "execution_count": 88,
   "id": "c1ec8ca2",
   "metadata": {},
   "outputs": [
    {
     "name": "stdout",
     "output_type": "stream",
     "text": [
      "교집합 =  {4, 5, 6}\n",
      "합집합 =  {1, 2, 3, 4, 5, 6, 7, 8, 9}\n",
      "차집합 =  {1, 2, 3}\n"
     ]
    }
   ],
   "source": [
    "print(\"교집합 = \", s1.intersection(s2))\n",
    "print(\"합집합 = \", s1.union(s2))\n",
    "print(\"차집합 = \", s1.difference(s2))"
   ]
  },
  {
   "cell_type": "code",
   "execution_count": 89,
   "id": "6fe1cdc5",
   "metadata": {},
   "outputs": [
    {
     "name": "stdout",
     "output_type": "stream",
     "text": [
      "{1, 2, 3, 4}\n"
     ]
    },
    {
     "ename": "TypeError",
     "evalue": "set.add() takes exactly one argument (2 given)",
     "output_type": "error",
     "traceback": [
      "\u001b[1;31m---------------------------------------------------------------------------\u001b[0m",
      "\u001b[1;31mTypeError\u001b[0m                                 Traceback (most recent call last)",
      "Input \u001b[1;32mIn [89]\u001b[0m, in \u001b[0;36m<cell line: 5>\u001b[1;34m()\u001b[0m\n\u001b[0;32m      3\u001b[0m s1\u001b[38;5;241m.\u001b[39madd(\u001b[38;5;241m4\u001b[39m)\n\u001b[0;32m      4\u001b[0m \u001b[38;5;28mprint\u001b[39m(s1)\n\u001b[1;32m----> 5\u001b[0m \u001b[43ms1\u001b[49m\u001b[38;5;241;43m.\u001b[39;49m\u001b[43madd\u001b[49m\u001b[43m(\u001b[49m\u001b[38;5;241;43m4\u001b[39;49m\u001b[43m,\u001b[49m\u001b[38;5;241;43m5\u001b[39;49m\u001b[43m)\u001b[49m   \u001b[38;5;66;03m# 중복허용하지 않아서 5만 추가, 에러발생\u001b[39;00m\n\u001b[0;32m      6\u001b[0m \u001b[38;5;28mprint\u001b[39m(s1)\n",
      "\u001b[1;31mTypeError\u001b[0m: set.add() takes exactly one argument (2 given)"
     ]
    }
   ],
   "source": [
    "s1 = set([1,2,3])\n",
    "# 요소 추가\n",
    "s1.add(4)\n",
    "print(s1)\n",
    "s1.add(4,5)   # 한번에 여러개의 요소를 추가하지 못함, 에러발생\n",
    "print(s1)"
   ]
  },
  {
   "cell_type": "code",
   "execution_count": 90,
   "id": "21b66ce3",
   "metadata": {},
   "outputs": [
    {
     "name": "stdout",
     "output_type": "stream",
     "text": [
      "{1, 2, 3, 4}\n"
     ]
    }
   ],
   "source": [
    "s1.add(4)   # 중복 허용하지 않아서 다시 실행해도 수는 변하지 않음\n",
    "print(s1)"
   ]
  },
  {
   "cell_type": "code",
   "execution_count": 91,
   "id": "7c38fd5a",
   "metadata": {},
   "outputs": [
    {
     "name": "stdout",
     "output_type": "stream",
     "text": [
      "{1, 2, 3, 4, 5}\n"
     ]
    }
   ],
   "source": [
    "s1.add(5)\n",
    "print(s1)"
   ]
  },
  {
   "cell_type": "code",
   "execution_count": 92,
   "id": "1e2c429a",
   "metadata": {},
   "outputs": [
    {
     "name": "stdout",
     "output_type": "stream",
     "text": [
      "{1, 2, 3, 4, 5, 6}\n"
     ]
    }
   ],
   "source": [
    "s1 = set([1,2,3])\n",
    "s1.update([4,5,6])\n",
    "print(s1)"
   ]
  },
  {
   "cell_type": "code",
   "execution_count": 93,
   "id": "7ca889f9",
   "metadata": {},
   "outputs": [
    {
     "ename": "TypeError",
     "evalue": "'int' object is not iterable",
     "output_type": "error",
     "traceback": [
      "\u001b[1;31m---------------------------------------------------------------------------\u001b[0m",
      "\u001b[1;31mTypeError\u001b[0m                                 Traceback (most recent call last)",
      "Input \u001b[1;32mIn [93]\u001b[0m, in \u001b[0;36m<cell line: 2>\u001b[1;34m()\u001b[0m\n\u001b[0;32m      1\u001b[0m \u001b[38;5;66;03m# 업데이트는 리스트만 담을수 있음\u001b[39;00m\n\u001b[1;32m----> 2\u001b[0m \u001b[43ms1\u001b[49m\u001b[38;5;241;43m.\u001b[39;49m\u001b[43mupdate\u001b[49m\u001b[43m(\u001b[49m\u001b[38;5;241;43m7\u001b[39;49m\u001b[43m)\u001b[49m\n\u001b[0;32m      3\u001b[0m \u001b[38;5;28mprint\u001b[39m(s1)\n",
      "\u001b[1;31mTypeError\u001b[0m: 'int' object is not iterable"
     ]
    }
   ],
   "source": [
    "# 업데이트는 리스트만 담을수 있음\n",
    "s1.update(7)\n",
    "print(s1)"
   ]
  },
  {
   "cell_type": "code",
   "execution_count": 94,
   "id": "3529b4e5",
   "metadata": {},
   "outputs": [
    {
     "name": "stdout",
     "output_type": "stream",
     "text": [
      "{1, 2, 3, 4, 5, 6, 7}\n"
     ]
    }
   ],
   "source": [
    "s1.update([7])\n",
    "print(s1)"
   ]
  },
  {
   "cell_type": "code",
   "execution_count": 95,
   "id": "f8ed4447",
   "metadata": {},
   "outputs": [
    {
     "name": "stdout",
     "output_type": "stream",
     "text": [
      "{1, 3, 4, 5, 6, 7}\n"
     ]
    }
   ],
   "source": [
    "# 값 제거\n",
    "# 집합은 인덱스 사용못함. 순서가 정해져 있지 않기 때문에\n",
    "s1.remove(2)\n",
    "print(s1)"
   ]
  },
  {
   "cell_type": "code",
   "execution_count": 99,
   "id": "93cdd0b1",
   "metadata": {},
   "outputs": [
    {
     "name": "stdout",
     "output_type": "stream",
     "text": [
      "{'a': 10}\n",
      "{10}\n"
     ]
    }
   ],
   "source": [
    "dic = {'a':10}\n",
    "sse = {10}\n",
    "print(dic)\n",
    "print(sse)"
   ]
  },
  {
   "cell_type": "code",
   "execution_count": 100,
   "id": "4977be6b",
   "metadata": {},
   "outputs": [
    {
     "name": "stdout",
     "output_type": "stream",
     "text": [
      "x주소:  1936149106624\n",
      "y주소:  1936149106624\n"
     ]
    }
   ],
   "source": [
    "x = [1,2,3,4,5]\n",
    "y = x\n",
    "print(\"x주소: \", id(x))\n",
    "print(\"y주소: \", id(y))\n"
   ]
  },
  {
   "cell_type": "code",
   "execution_count": 101,
   "id": "ede0693e",
   "metadata": {},
   "outputs": [
    {
     "name": "stdout",
     "output_type": "stream",
     "text": [
      "x주소:  1936033999440\n",
      "y주소:  1936033999760\n",
      "x주소:  1936033999760\n",
      "y주소:  1936033999440\n"
     ]
    }
   ],
   "source": [
    "x = 10\n",
    "y = 20\n",
    "print(\"x주소: \", id(x))\n",
    "print(\"y주소: \", id(y))\n",
    "x, y = y, x\n",
    "print(\"x주소: \", id(x))\n",
    "print(\"y주소: \", id(y))"
   ]
  },
  {
   "cell_type": "markdown",
   "id": "2c0b2ee4",
   "metadata": {},
   "source": [
    "# 날짜 자료형"
   ]
  },
  {
   "cell_type": "code",
   "execution_count": 104,
   "id": "f789ba38",
   "metadata": {},
   "outputs": [],
   "source": [
    "# 날짜 관련 함수를 가지고 있는 모듈을 포함하는 수식\n",
    "# import date time 해당 모듈 전체를 가져옴\n",
    "from datetime import date, time, datetime, timedelta   # 부분\n",
    "\n",
    "# 라이브러리 로딩"
   ]
  },
  {
   "cell_type": "code",
   "execution_count": 105,
   "id": "e0b2a9ff",
   "metadata": {},
   "outputs": [
    {
     "name": "stdout",
     "output_type": "stream",
     "text": [
      "today : 2022-09-01\n"
     ]
    }
   ],
   "source": [
    "# date 변수, today()  - 오늘 날짜를 구하는 함수\n",
    "today = date.today()  # date꺼today 함수\n",
    "print(\"today : {}\".format(today))"
   ]
  },
  {
   "cell_type": "code",
   "execution_count": 109,
   "id": "fbaa95b9",
   "metadata": {},
   "outputs": [
    {
     "name": "stdout",
     "output_type": "stream",
     "text": [
      "연도 : 2022 년\n",
      "월 : 9 월\n",
      "일 : 1 일\n"
     ]
    }
   ],
   "source": [
    "print(\"연도 : {}\".format(today.year), \"년\")\n",
    "print(\"월 : {}\".format(today.month),\"월\")\n",
    "print(\"일 : {}\".format(today.day),\"일\")"
   ]
  },
  {
   "cell_type": "code",
   "execution_count": 111,
   "id": "4062f72b",
   "metadata": {},
   "outputs": [
    {
     "name": "stdout",
     "output_type": "stream",
     "text": [
      "현재날짜와 시간: 2022-09-01 12:50:28.873489\n"
     ]
    }
   ],
   "source": [
    "# 날짜와 시간을 한 번에\n",
    "current_datetime = datetime.today()\n",
    "print(\"현재날짜와 시간: {}\".format(current_datetime))"
   ]
  },
  {
   "cell_type": "code",
   "execution_count": 112,
   "id": "630e9b2e",
   "metadata": {},
   "outputs": [
    {
     "name": "stdout",
     "output_type": "stream",
     "text": [
      "2022-09-01 14:24:26.573305\n",
      "<class 'datetime.datetime'>\n"
     ]
    }
   ],
   "source": [
    "# 형식화된 날짜 출력 : 서식(%)\n",
    "today = datetime.today()\n",
    "print(today)\n",
    "print(type(today))"
   ]
  },
  {
   "cell_type": "code",
   "execution_count": 116,
   "id": "f82ca2d0",
   "metadata": {},
   "outputs": [
    {
     "name": "stdout",
     "output_type": "stream",
     "text": [
      "2022-09-01 14:24:26\n",
      "<class 'str'>\n"
     ]
    }
   ],
   "source": [
    "# 날짜 자료형을 문자열로 형변환\n",
    "# %y : 연도(%Y : 4자리 연도), %m : 월, %M : 분, %H : 시간\n",
    "d = today.strftime(\"%Y-%m-%d %H:%M:%S\")\n",
    "print(d)\n",
    "print(type(d))"
   ]
  },
  {
   "cell_type": "code",
   "execution_count": 124,
   "id": "616a8406",
   "metadata": {},
   "outputs": [
    {
     "name": "stdout",
     "output_type": "stream",
     "text": [
      "2022-08-31 14:24:26.573305\n",
      "2022-08-25 14:24:26.573305\n",
      "2022-10-01 14:24:26.573305\n",
      "2022-09-01 06:24:26.573305\n"
     ]
    }
   ],
   "source": [
    "dayss = timedelta(days=-1)# 여기 days는 옵션이라서 못 바꾸고 dayss는 변수라 가능\n",
    "# 어제 날짜\n",
    "print(today + dayss)\n",
    "# 일주일 전\n",
    "days = timedelta(days = -7)\n",
    "print(today + days)\n",
    "# 30일 후\n",
    "days = timedelta(days=30)\n",
    "print(today + days)\n",
    "\n",
    "# 8시간 전\n",
    "hours = timedelta(hours=-8)\n",
    "print(today + hours)"
   ]
  },
  {
   "cell_type": "markdown",
   "id": "ff279650",
   "metadata": {},
   "source": [
    "# 리스트 내포(List Comprehension)\n",
    "리스트 안에 표현식을 포함한다."
   ]
  },
  {
   "cell_type": "code",
   "execution_count": 125,
   "id": "156e7fb1",
   "metadata": {},
   "outputs": [
    {
     "name": "stdout",
     "output_type": "stream",
     "text": [
      "[2, 4, 6, 8, 10]\n"
     ]
    }
   ],
   "source": [
    "# 비어있는 리스트 변수 생성\n",
    "a = []      # a = list()\n",
    "\n",
    "# for 개별변수 in 집합변수\n",
    "for i in range(1, 6):    # [1,2,3,4,5]  == range(1, 6)\n",
    "    a.append(i * 2)\n",
    "    \n",
    "print(a)"
   ]
  },
  {
   "cell_type": "code",
   "execution_count": 126,
   "id": "133505f2",
   "metadata": {},
   "outputs": [
    {
     "name": "stdout",
     "output_type": "stream",
     "text": [
      "[2, 4, 6, 8, 10]\n"
     ]
    }
   ],
   "source": [
    "# 출력값  -- 실제 리스트에 담겨질 값\n",
    "a = [i * 2 for i in range(1,6)]\n",
    "print(a)\n"
   ]
  },
  {
   "cell_type": "code",
   "execution_count": 127,
   "id": "b0a81ad6",
   "metadata": {},
   "outputs": [
    {
     "name": "stdout",
     "output_type": "stream",
     "text": [
      "['사과', '자두', '바나나', '체리']\n"
     ]
    }
   ],
   "source": [
    "array = ['사과', '자두', '초콜릿', '바나나', '체리']\n",
    "output = []\n",
    "\n",
    "for i in array:\n",
    "    if i != '초콜릿':\n",
    "        output.append(i)\n",
    "        \n",
    "print(output)"
   ]
  },
  {
   "cell_type": "code",
   "execution_count": 128,
   "id": "c6f9844d",
   "metadata": {},
   "outputs": [
    {
     "name": "stdout",
     "output_type": "stream",
     "text": [
      "['사과', '자두', '바나나', '체리']\n"
     ]
    }
   ],
   "source": [
    "# 인라인 함수 inline\n",
    "array = ['사과', '자두', '초콜릿', '바나나', '체리']\n",
    "output = [i for i in array if i != '초콜릿']   # 내포 안에는 : 을 사용하면 X\n",
    "\n",
    "print(output)"
   ]
  },
  {
   "cell_type": "code",
   "execution_count": null,
   "id": "5fd14748",
   "metadata": {},
   "outputs": [],
   "source": []
  },
  {
   "cell_type": "code",
   "execution_count": null,
   "id": "c808717e",
   "metadata": {},
   "outputs": [],
   "source": []
  },
  {
   "cell_type": "code",
   "execution_count": null,
   "id": "2a294818",
   "metadata": {},
   "outputs": [],
   "source": []
  },
  {
   "cell_type": "code",
   "execution_count": null,
   "id": "42ebdc9e",
   "metadata": {},
   "outputs": [],
   "source": []
  },
  {
   "cell_type": "code",
   "execution_count": null,
   "id": "3f30ab6e",
   "metadata": {},
   "outputs": [],
   "source": []
  },
  {
   "cell_type": "code",
   "execution_count": null,
   "id": "ceda84bb",
   "metadata": {},
   "outputs": [],
   "source": []
  },
  {
   "cell_type": "code",
   "execution_count": null,
   "id": "1e6fcb11",
   "metadata": {},
   "outputs": [],
   "source": []
  }
 ],
 "metadata": {
  "kernelspec": {
   "display_name": "Python 3 (ipykernel)",
   "language": "python",
   "name": "python3"
  },
  "language_info": {
   "codemirror_mode": {
    "name": "ipython",
    "version": 3
   },
   "file_extension": ".py",
   "mimetype": "text/x-python",
   "name": "python",
   "nbconvert_exporter": "python",
   "pygments_lexer": "ipython3",
   "version": "3.9.12"
  },
  "toc": {
   "base_numbering": 1,
   "nav_menu": {},
   "number_sections": true,
   "sideBar": true,
   "skip_h1_title": false,
   "title_cell": "Table of Contents",
   "title_sidebar": "Contents",
   "toc_cell": false,
   "toc_position": {
    "height": "calc(100% - 180px)",
    "left": "10px",
    "top": "150px",
    "width": "256px"
   },
   "toc_section_display": true,
   "toc_window_display": true
  }
 },
 "nbformat": 4,
 "nbformat_minor": 5
}
