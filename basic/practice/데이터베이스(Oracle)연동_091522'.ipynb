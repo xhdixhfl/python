{
 "cells": [
  {
   "cell_type": "code",
   "execution_count": 1,
   "id": "cbaa27c9",
   "metadata": {},
   "outputs": [
    {
     "name": "stdout",
     "output_type": "stream",
     "text": [
      "Requirement already satisfied: cx_Oracle in c:\\anaconda3\\lib\\site-packages (8.3.0)\n"
     ]
    }
   ],
   "source": [
    "!pip install cx_Oracle"
   ]
  },
  {
   "cell_type": "code",
   "execution_count": 2,
   "id": "d577d36c",
   "metadata": {},
   "outputs": [],
   "source": [
    "import cx_Oracle"
   ]
  },
  {
   "cell_type": "code",
   "execution_count": 3,
   "id": "b728e1db",
   "metadata": {},
   "outputs": [
    {
     "name": "stdout",
     "output_type": "stream",
     "text": [
      "(1, '레몬', 1500, '맛있는 레몬', 'lemon.jpg')\n",
      "(2, '오렌지', 1500, '맛있는 오렌지', 'orange.jpg')\n",
      "(3, '키위', 1500, '맛있는 키위', 'kiwi.jpg')\n",
      "(4, '포도', 1500, '맛있는 포도', 'grape.jpg')\n",
      "(5, '딸기', 1500, '맛있는 딸기', 'strawberry.jpg')\n"
     ]
    }
   ],
   "source": [
    "# 데이터베이스(Oracle)와 연동 작업 ; 연결하는 통로를 만든거\n",
    "conn = cx_Oracle.connect(\"scott/tiger@localhost:1521/xe\")\n",
    "\n",
    "# cursor(커서) : 레코드 셋을 탐색하기 위해 사용하는 객체\n",
    "cursor = conn.cursor()   # 작업하는 위치\n",
    "\n",
    "# query(질의문)\n",
    "sql = \"select * from product\"\n",
    "\n",
    "# query 실행\n",
    "cursor.execute(sql)\n",
    "\n",
    "for row in cursor:  # 커서가 가르키는 1개의 레코드를 row에 저장\n",
    "    print(row)\n",
    "#     description = row[3].read()   // 대형 데이터(clob)에 필요한 구문\n",
    "#     print(description)"
   ]
  },
  {
   "cell_type": "code",
   "execution_count": 4,
   "id": "30488870",
   "metadata": {},
   "outputs": [],
   "source": [
    "# 전체 레코드 삭제\n",
    "sql = \"delete from product\"\n",
    "\n",
    "cursor.execute(sql)\n",
    "conn.commit()   # 데이터 외부에서 작업중이여서 이걸 해야지 적용이 가능"
   ]
  },
  {
   "cell_type": "code",
   "execution_count": 5,
   "id": "bccb6c29",
   "metadata": {},
   "outputs": [],
   "source": [
    "# 파이썬 내부에서 레코드 추가 #######\n",
    "items = [(1, '레몬', 1500, '맛있는 레몬', 'lemon.jpg'),\n",
    "         (2, '오렌지', 1500, '맛있는 오렌지', 'orange.jpg'),\n",
    "         (3, '키위', 1500, '맛있는 키위', 'kiwi.jpg'),\n",
    "         (4, '포도', 1500, '맛있는 포도', 'grape.jpg'),\n",
    "         (5, '딸기', 1500, '맛있는 딸기', 'strawberry.jpg')]\n",
    "\n",
    "for row in items:\n",
    "    # :필드의 인덱스 (데이터베이스는 0부터가 아니라 1부터.. 컴퓨터 언어는 0부터)\n",
    "    sql = \"insert into product values(:1, :2, :3, :4, :5)\"\n",
    "    cursor.execute(sql, row)  # 아이템즈를 하나씩 가져오도록 row\n",
    "    \n",
    "# DB에 영구 저장시키는 명령\n",
    "conn.commit()"
   ]
  },
  {
   "cell_type": "code",
   "execution_count": 6,
   "id": "82739288",
   "metadata": {},
   "outputs": [
    {
     "name": "stdout",
     "output_type": "stream",
     "text": [
      "상품개수 :  5\n"
     ]
    }
   ],
   "source": [
    "# 테이블에 등록된 레코드의 수를 확인하는 작업   // 이거 이용해서 평균 구하면 될듯이요\n",
    "sql = \"select count(*) from product\"\n",
    "cursor.execute(sql)\n",
    "count = cursor.fetchone()   # 쿼리의 결과값이 1개인 경우\n",
    "print(\"상품개수 : \", count[0]) # 커서개체로 가져온것은 다 배열값을가져서[0]"
   ]
  },
  {
   "cell_type": "code",
   "execution_count": 7,
   "id": "f38ef965",
   "metadata": {},
   "outputs": [
    {
     "ename": "IntegrityError",
     "evalue": "ORA-00001: unique constraint (SCOTT.SYS_C007051) violated",
     "output_type": "error",
     "traceback": [
      "\u001b[1;31m---------------------------------------------------------------------------\u001b[0m",
      "\u001b[1;31mIntegrityError\u001b[0m                            Traceback (most recent call last)",
      "Input \u001b[1;32mIn [7]\u001b[0m, in \u001b[0;36m<cell line: 4>\u001b[1;34m()\u001b[0m\n\u001b[0;32m      2\u001b[0m sql \u001b[38;5;241m=\u001b[39m \u001b[38;5;124m\"\u001b[39m\u001b[38;5;124minsert into product values(:1, :2, :3, :4, :5)\u001b[39m\u001b[38;5;124m\"\u001b[39m\n\u001b[0;32m      3\u001b[0m cursor\u001b[38;5;241m.\u001b[39mbindarraysize \u001b[38;5;241m=\u001b[39m \u001b[38;5;28mlen\u001b[39m(items)\n\u001b[1;32m----> 4\u001b[0m \u001b[43mcursor\u001b[49m\u001b[38;5;241;43m.\u001b[39;49m\u001b[43mexecutemany\u001b[49m\u001b[43m(\u001b[49m\u001b[43msql\u001b[49m\u001b[43m,\u001b[49m\u001b[43m \u001b[49m\u001b[43mitems\u001b[49m\u001b[43m)\u001b[49m\n\u001b[0;32m      5\u001b[0m conn\u001b[38;5;241m.\u001b[39mcommit()\n",
      "\u001b[1;31mIntegrityError\u001b[0m: ORA-00001: unique constraint (SCOTT.SYS_C007051) violated"
     ]
    }
   ],
   "source": [
    "# 레코드를  일괄적으로 추가하는 작업 ######\n",
    "sql = \"insert into product values(:1, :2, :3, :4, :5)\"\n",
    "cursor.bindarraysize = len(items)\n",
    "cursor.executemany(sql, items)\n",
    "conn.commit()"
   ]
  },
  {
   "cell_type": "code",
   "execution_count": 8,
   "id": "03f14593",
   "metadata": {},
   "outputs": [
    {
     "name": "stdout",
     "output_type": "stream",
     "text": [
      "<class 'list'>\n",
      "[(1, '레몬', 1500, '맛있는 레몬', 'lemon.jpg'), (2, '오렌지', 1500, '맛있는 오렌지', 'orange.jpg'), (3, '키위', 1500, '맛있는 키위', 'kiwi.jpg'), (4, '포도', 1500, '맛있는 포도', 'grape.jpg'), (5, '딸기', 1500, '맛있는 딸기', 'strawberry.jpg')]\n"
     ]
    }
   ],
   "source": [
    "sql = 'select * from product'\n",
    "cursor.execute(sql)\n",
    "\n",
    "# 모든 레코드를 저장하는 작업  #####\n",
    "rs = cursor.fetchall()\n",
    "print(type(rs))\n",
    "print(rs)"
   ]
  },
  {
   "cell_type": "code",
   "execution_count": 9,
   "id": "bb4e981d",
   "metadata": {},
   "outputs": [
    {
     "name": "stdout",
     "output_type": "stream",
     "text": [
      "(1, '레몬', 1500, '맛있는 레몬', 'lemon.jpg')\n",
      "(2, '오렌지', 1500, '맛있는 오렌지', 'orange.jpg')\n",
      "(3, '키위', 1500, '맛있는 키위', 'kiwi.jpg')\n",
      "(4, '포도', 1500, '맛있는 포도', 'grape.jpg')\n",
      "(5, '딸기', 1500, '맛있는 딸기', 'strawberry.jpg')\n"
     ]
    }
   ],
   "source": [
    "for row in rs:\n",
    "    print(row)"
   ]
  },
  {
   "cell_type": "code",
   "execution_count": 10,
   "id": "7a5e55ba",
   "metadata": {},
   "outputs": [],
   "source": [
    "# 커서 닫기\n",
    "cursor.close()\n",
    "\n",
    "# DB접속 종료\n",
    "conn.close()"
   ]
  },
  {
   "cell_type": "code",
   "execution_count": null,
   "id": "329b1064",
   "metadata": {},
   "outputs": [],
   "source": []
  }
 ],
 "metadata": {
  "kernelspec": {
   "display_name": "Python 3 (ipykernel)",
   "language": "python",
   "name": "python3"
  },
  "language_info": {
   "codemirror_mode": {
    "name": "ipython",
    "version": 3
   },
   "file_extension": ".py",
   "mimetype": "text/x-python",
   "name": "python",
   "nbconvert_exporter": "python",
   "pygments_lexer": "ipython3",
   "version": "3.9.12"
  },
  "toc": {
   "base_numbering": 1,
   "nav_menu": {},
   "number_sections": true,
   "sideBar": true,
   "skip_h1_title": false,
   "title_cell": "Table of Contents",
   "title_sidebar": "Contents",
   "toc_cell": false,
   "toc_position": {},
   "toc_section_display": true,
   "toc_window_display": false
  }
 },
 "nbformat": 4,
 "nbformat_minor": 5
}
