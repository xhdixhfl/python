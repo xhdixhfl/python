{
 "cells": [
  {
   "cell_type": "markdown",
   "id": "ffce5e56",
   "metadata": {},
   "source": [
    "### OOP\n",
    "- 객체(Object) : 현실세계 혹은 실생활에 존재하는 실제적인 물건 또는 개념\n",
    "- 클래스(Class) : 객체를 프로그램으로 표현하는 기본 단위, 사용자 정의 자료형\n",
    "  - 클래스의 구성요소(포함멤버) \n",
    "  1. 속성(attribute, feature, field) - variable(변수)\n",
    "  2. 행위나 동작(Method, Function,  Action) - 함수\n",
    "- 자료형(Date type) : 기본 자료형(; 변수가 값을 가지고 있음) , 참조형 자료형(변수에 값을 갖고있는 주소를 저장) 사용자 정의 자료형\n"
   ]
  },
  {
   "cell_type": "code",
   "execution_count": 3,
   "id": "9ac47fcf",
   "metadata": {},
   "outputs": [],
   "source": [
    "# 클래스 선언\n",
    "class Person:\n",
    "    # 멤버 필드 = 프로퍼티  (모든 인스턴스객체가 공통으로 사용할)\n",
    "#     name = \"\" # 문자열 넣을거임\n",
    "#     age = 0 # 정수를 넣을거임\n",
    "#     height = 0.0 # 실수 넣을거임\n",
    "    \n",
    "    # 생성자 메서드(Constructor) : 객체가 생성될 때 자동으로 호출된다.\n",
    "    \n",
    "    # 멤버 메서드 : Method = Function \n",
    "    def put(self):  # 입력매개변수가 없더라도 클래스 소속인걸 보여주기위해 self를 반드시 써야함.\n",
    "        print(\"이름 : \", self.name)\n",
    "        print(\"나이 : \", self.age)\n",
    "        print(\"키 : \", self.height)    # 멤버필드가 생략되었다면 메서드 안의 self들을 멤버필드로 간주\n",
    "        \n",
    "    # 소멸자 메서드: 객체가 소멸될 때 자동으로 호출된다.\n",
    "    "
   ]
  },
  {
   "cell_type": "code",
   "execution_count": 6,
   "id": "32a9c36d",
   "metadata": {},
   "outputs": [
    {
     "name": "stdout",
     "output_type": "stream",
     "text": [
      "이름 :  김철수\n",
      "나이 :  20\n",
      "키 :  180.5\n"
     ]
    }
   ],
   "source": [
    "# Person 클래스의 인스턴스 객체를 생성, 이때 생성되는 인스턴스 객체 = 참조변수(데이터의 주소를 갖고있는 변수)\n",
    "p1 = Person()  # 생성자메서드를 따로 만들지 않으면 default생성자가 따로 생성되서 사용가능.\n",
    "\n",
    "# 멤버필드 초기화 작업\n",
    "p1.name = \"김철수\"\n",
    "p1.age = 20\n",
    "p1.height = 180.5\n",
    "\n",
    "# 인스턴스 객체를 이용 하여 멤버에 접근 : 객체명.멤버필드 or 객체명.멤버메서드\n",
    "p1.put()"
   ]
  },
  {
   "cell_type": "code",
   "execution_count": 8,
   "id": "d56642d1",
   "metadata": {},
   "outputs": [
    {
     "name": "stdout",
     "output_type": "stream",
     "text": [
      "이름 :  이철수\n",
      "나이 :  30\n",
      "키 :  175.8\n"
     ]
    }
   ],
   "source": [
    "p2 = Person()\n",
    "# 멤버필드 초기화\n",
    "p2.name = \"이철수\"\n",
    "p2.age = 30\n",
    "p2.height = 175.8\n",
    "\n",
    "p2.put()"
   ]
  },
  {
   "cell_type": "code",
   "execution_count": 11,
   "id": "c186fcb9",
   "metadata": {},
   "outputs": [],
   "source": [
    "# 클래스 선언\n",
    "class Person:\n",
    "    \n",
    "    # 생성자 메서드(Constructor) : 멤버 필드 초기화 역할 담당\n",
    "    def __init__(self, name, age, height):  # __ 이미 파이썬에 등록되어있는거\n",
    "        self.name = name\n",
    "        self.age = age\n",
    "        self.height = height\n",
    "        \n",
    "    # 멤버 메서드\n",
    "    def disp(self):\n",
    "        print(\"이름 : \" + self.name)\n",
    "        print(\"나이 : \" + str(self.age))\n",
    "        print(\"신장 : \" + str(self.height))\n"
   ]
  },
  {
   "cell_type": "code",
   "execution_count": 12,
   "id": "986bbef7",
   "metadata": {},
   "outputs": [
    {
     "name": "stdout",
     "output_type": "stream",
     "text": [
      "이름 : kim\n",
      "나이 : 25\n",
      "신장 : 177.9\n"
     ]
    }
   ],
   "source": [
    "p3 = Person(\"kim\", 25, 177.9)\n",
    "\n",
    "p3.disp()"
   ]
  },
  {
   "cell_type": "code",
   "execution_count": 14,
   "id": "9b65bb21",
   "metadata": {},
   "outputs": [],
   "source": [
    "class Person:\n",
    "    # 프로퍼티스 : 클래스 변수, 공유할 목적의 변수(어떤 인스턴트든 상관 없이)\n",
    "    name = \"Lee\"\n",
    "    age = 20\n",
    "    height = 180.5\n",
    "    \n",
    "    # 멤버 메서드\n",
    "    def disp(self):\n",
    "        # self.변수 =  인스턴스 변수(인스턴스 마다) - 개별값\n",
    "        print(\"이름 : \" + self.name, end =\" \")\n",
    "        print(\"나이 : \" + str(self.age), end =\" \")\n",
    "        print(\"신장 : \" + str(self.height), end =\" \")  \n",
    "        # 클래스명.변수 = 클래스 변수(어떤 인스턴스든 상관 없이 클래스 안이면 ok), static 변수 - 공통적인 값\n",
    "        print(\"이름 : \" + Person.name, end =\" \")\n",
    "        print(\"나이 : \" + str(Person.age), end =\" \")\n",
    "        print(\"신장 : \" + str(Person.height))           \n",
    "    \n",
    "    "
   ]
  },
  {
   "cell_type": "code",
   "execution_count": 16,
   "id": "096f6a7f",
   "metadata": {
    "scrolled": true
   },
   "outputs": [
    {
     "name": "stdout",
     "output_type": "stream",
     "text": [
      "이름 : 김철수 나이 : 21 신장 : 177.3 이름 : Lee 나이 : 20 신장 : 180.5\n",
      "이름 : 홍길동 나이 : 33 신장 : 166.2 이름 : Lee 나이 : 20 신장 : 180.5\n",
      "이름 : Lee 나이 : 20 신장 : 180.5 이름 : Lee 나이 : 20 신장 : 180.5\n"
     ]
    }
   ],
   "source": [
    "p4 = Person()\n",
    "\n",
    "p4.name = \"김철수\"\n",
    "p4.age = 21\n",
    "p4.height = 177.3\n",
    "\n",
    "p5 = Person()\n",
    "\n",
    "p5.name = \"홍길동\"\n",
    "p5.age = 33\n",
    "p5.height = 166.2\n",
    "\n",
    "p6 = Person() # 개별값을 주지 않으면 공통값이 들어감\n",
    "\n",
    "p4.disp()\n",
    "p5.disp()\n",
    "p6.disp()"
   ]
  },
  {
   "cell_type": "markdown",
   "id": "3f35e163",
   "metadata": {},
   "source": [
    "#### 은행 프로그램"
   ]
  },
  {
   "cell_type": "code",
   "execution_count": 22,
   "id": "14a22a0f",
   "metadata": {},
   "outputs": [],
   "source": [
    "class JBank:\n",
    "    # 멤버필드\n",
    "    rate = 0.7\n",
    "    \n",
    "    # 생성자메서드\n",
    "    def __init__(self, name, money, iyul):\n",
    "        self.name = name\n",
    "        self.balance = money\n",
    "        self.rate = iyul\n",
    "    \n",
    "    # 멤버 메서드\n",
    "    def disp(self):\n",
    "        print(\"고객이름 : \", self.name, end=\" \")\n",
    "        print(\"예금금액 : \", self.balance, end=\" \")\n",
    "        print(\"예금이율 : \", JBank.rate)"
   ]
  },
  {
   "cell_type": "code",
   "execution_count": 23,
   "id": "627b024d",
   "metadata": {},
   "outputs": [
    {
     "name": "stdout",
     "output_type": "stream",
     "text": [
      "고객이름 :  aaa 예금금액 :  10000 예금이율 :  0.7\n"
     ]
    }
   ],
   "source": [
    "# 초기 고객\n",
    "a = JBank(\"aaa\", 10000, 0.7)\n",
    "a.disp()"
   ]
  },
  {
   "cell_type": "code",
   "execution_count": 24,
   "id": "2bf30274",
   "metadata": {},
   "outputs": [
    {
     "name": "stdout",
     "output_type": "stream",
     "text": [
      "고객이름 :  aaa 예금금액 :  10000 예금이율 :  0.7\n",
      "고객이름 :  bbb 예금금액 :  10000 예금이율 :  0.7\n"
     ]
    }
   ],
   "source": [
    "# 중기 고객\n",
    "b = JBank(\"bbb\", 10000, 0.3)\n",
    "a.disp()\n",
    "b.disp()"
   ]
  },
  {
   "cell_type": "code",
   "execution_count": 25,
   "id": "e24ddebb",
   "metadata": {},
   "outputs": [
    {
     "name": "stdout",
     "output_type": "stream",
     "text": [
      "고객이름 :  aaa 예금금액 :  10000 예금이율 :  0.7\n",
      "고객이름 :  bbb 예금금액 :  10000 예금이율 :  0.7\n",
      "고객이름 :  ccc 예금금액 :  10000 예금이율 :  0.7\n"
     ]
    }
   ],
   "source": [
    "# 후기 고객\n",
    "c = JBank(\"ccc\", 10000, 0.5)\n",
    "a.disp()\n",
    "b.disp()\n",
    "c.disp()"
   ]
  },
  {
   "cell_type": "code",
   "execution_count": 33,
   "id": "edc06690",
   "metadata": {},
   "outputs": [],
   "source": [
    "class Member:\n",
    "    userid = \"king@kong.com\"\n",
    "    \n",
    "    def __init__(self, userid = \"aa@a.com\", userpw = \"1234\", name = \"aaa\"):\n",
    "        self.userid = userid\n",
    "        self.userpw = userpw\n",
    "        self.name = name\n",
    "        \n",
    "    def disp(self):  # 생성자 우선(self라고 하면, 클래스의 값으로 하고싶으면 클래스명을 적으면됨)\n",
    "        print(Member.userid, self.userpw, self.name)\n",
    "        "
   ]
  },
  {
   "cell_type": "code",
   "execution_count": 34,
   "id": "ada3c60f",
   "metadata": {},
   "outputs": [
    {
     "name": "stdout",
     "output_type": "stream",
     "text": [
      "king@kong.com 1234 aaa\n"
     ]
    }
   ],
   "source": [
    "m1 = Member()\n",
    "m1.disp()"
   ]
  },
  {
   "cell_type": "code",
   "execution_count": 29,
   "id": "9e195a2a",
   "metadata": {},
   "outputs": [
    {
     "name": "stdout",
     "output_type": "stream",
     "text": [
      "bb@b.com 3456 bbb\n"
     ]
    }
   ],
   "source": [
    "m2 = Member(\"bb@b.com\", \"3456\", \"bbb\")\n",
    "m2.disp()"
   ]
  },
  {
   "cell_type": "code",
   "execution_count": 30,
   "id": "f7d2087a",
   "metadata": {},
   "outputs": [
    {
     "name": "stdout",
     "output_type": "stream",
     "text": [
      "cc#c.com 1234 aaa\n"
     ]
    }
   ],
   "source": [
    "m3 = Member(\"cc#c.com\")\n",
    "m3.disp()"
   ]
  },
  {
   "cell_type": "markdown",
   "id": "904dda69",
   "metadata": {},
   "source": [
    "### 상속(Inheritance)"
   ]
  },
  {
   "cell_type": "code",
   "execution_count": 48,
   "id": "31c6216a",
   "metadata": {},
   "outputs": [],
   "source": [
    "class A:  # Object\n",
    "    \n",
    "    def disp(self):\n",
    "        print(\"A class\")"
   ]
  },
  {
   "cell_type": "code",
   "execution_count": 39,
   "id": "386a6c9b",
   "metadata": {},
   "outputs": [],
   "source": [
    "class B:#(object):  # b라는 클래스가 오브젝트를 상속받음\n",
    "    \n",
    "    def bbb(self):\n",
    "        print(\"B class\")"
   ]
  },
  {
   "cell_type": "code",
   "execution_count": 54,
   "id": "6347b4e4",
   "metadata": {},
   "outputs": [],
   "source": [
    "class C(A):\n",
    "    \n",
    "    def disp(self):   # 오버라이딩(재정의)\n",
    "        A.disp(self) # 제정의 (부모랑 같은 명의 메서드는 내꺼만 실행되니깐 부모꺼도 함께 담기위해, 필요없음 안써도 무방)\n",
    "        print(\"C class\")"
   ]
  },
  {
   "cell_type": "code",
   "execution_count": 42,
   "id": "733624d1",
   "metadata": {},
   "outputs": [
    {
     "name": "stdout",
     "output_type": "stream",
     "text": [
      "A class\n"
     ]
    }
   ],
   "source": [
    "# 일반적인 클래스의 멤버는 인스턴스 객체를 통해서 접근함\n",
    "ap = A()   # 함수 호출하려면 객체를 불러야 가능\n",
    "ap.aaa()"
   ]
  },
  {
   "cell_type": "code",
   "execution_count": 44,
   "id": "45dcbd20",
   "metadata": {},
   "outputs": [
    {
     "name": "stdout",
     "output_type": "stream",
     "text": [
      "B class\n"
     ]
    }
   ],
   "source": [
    "bp =B()\n",
    "bp.bbb()"
   ]
  },
  {
   "cell_type": "code",
   "execution_count": 51,
   "id": "9a18c82b",
   "metadata": {},
   "outputs": [
    {
     "ename": "AttributeError",
     "evalue": "'C' object has no attribute 'ccc'",
     "output_type": "error",
     "traceback": [
      "\u001b[1;31m---------------------------------------------------------------------------\u001b[0m",
      "\u001b[1;31mAttributeError\u001b[0m                            Traceback (most recent call last)",
      "Input \u001b[1;32mIn [51]\u001b[0m, in \u001b[0;36m<cell line: 2>\u001b[1;34m()\u001b[0m\n\u001b[0;32m      1\u001b[0m cp \u001b[38;5;241m=\u001b[39mC()\n\u001b[1;32m----> 2\u001b[0m \u001b[43mcp\u001b[49m\u001b[38;5;241;43m.\u001b[39;49m\u001b[43mccc\u001b[49m()\n\u001b[0;32m      3\u001b[0m cp\u001b[38;5;241m.\u001b[39maaa()\n",
      "\u001b[1;31mAttributeError\u001b[0m: 'C' object has no attribute 'ccc'"
     ]
    }
   ],
   "source": [
    "cp =C()\n",
    "cp.ccc()\n",
    "cp.aaa()  # 인스턴스 객체 없이 부모클래스에 접근 가능"
   ]
  },
  {
   "cell_type": "code",
   "execution_count": 55,
   "id": "3b22fd73",
   "metadata": {},
   "outputs": [],
   "source": [
    "cp = C()"
   ]
  },
  {
   "cell_type": "code",
   "execution_count": 56,
   "id": "a8acca10",
   "metadata": {},
   "outputs": [
    {
     "name": "stdout",
     "output_type": "stream",
     "text": [
      "A class\n",
      "C class\n"
     ]
    }
   ],
   "source": [
    "cp.disp()"
   ]
  },
  {
   "cell_type": "code",
   "execution_count": 57,
   "id": "2345bb7d",
   "metadata": {},
   "outputs": [],
   "source": [
    "class Person: # 상위클래스(부모클래스)\n",
    "    def __init__(self, name, age, height):\n",
    "        self.name = name\n",
    "        self.age = age\n",
    "        self.height = height\n",
    "        \n",
    "    def disp(self):\n",
    "        print(\"이름 : \" + self.name, end=\" \")\n",
    "        print(\"나이: \" + str(self.age), end =\" \")\n",
    "        print(\"신장: \" + str(self.height), end =\" \")"
   ]
  },
  {
   "cell_type": "code",
   "execution_count": 59,
   "id": "977c4978",
   "metadata": {},
   "outputs": [],
   "source": [
    "class PInfo(Person):  # 하위클래스(파생)\n",
    "    \n",
    "    def disp(self):\n",
    "        print(\"체중 : \" + str(self.weig), end=\" \")\n",
    "        print(\"시력(좌): \" + str(self.leye), end =\" \")\n",
    "        print(\"시력(우): \" + str(self.reye))\n",
    "    "
   ]
  },
  {
   "cell_type": "code",
   "execution_count": 61,
   "id": "182d7c9d",
   "metadata": {},
   "outputs": [
    {
     "name": "stdout",
     "output_type": "stream",
     "text": [
      "체중 : 70 시력(좌): 1.0 시력(우): 1.5\n"
     ]
    }
   ],
   "source": [
    "p1 =PInfo(\"김\", 21, 178.3)\n",
    "\n",
    "p1.weig = 70\n",
    "p1.leye = 1.0\n",
    "p1.reye = 1.5\n",
    "\n",
    "p1.disp()"
   ]
  },
  {
   "cell_type": "code",
   "execution_count": 64,
   "id": "117dda1a",
   "metadata": {},
   "outputs": [],
   "source": [
    "class PInfo(Person):  # 하위클래스(파생)\n",
    "    \n",
    "    def __init__(self,name, age, height, weig,leye,reye):\n",
    "        Person.__init__(self, name, age, height)\n",
    "        self.weig = weig\n",
    "        self.leye = leye\n",
    "        self.reye = reye\n",
    "    \n",
    "    def disp(self):\n",
    "        Person.disp(self)\n",
    "        print(\"체중 : \" + str(self.weig), end=\" \")\n",
    "        print(\"시력(좌): \" + str(self.leye), end =\" \")\n",
    "        print(\"시력(우): \" + str(self.reye))"
   ]
  },
  {
   "cell_type": "code",
   "execution_count": 65,
   "id": "edc46ca1",
   "metadata": {},
   "outputs": [
    {
     "name": "stdout",
     "output_type": "stream",
     "text": [
      "이름 : 길동 나이: 33 신장: 170.9 체중 : 90 시력(좌): 1.2 시력(우): 1.3\n"
     ]
    }
   ],
   "source": [
    "p1 = PInfo(\"길동\", 33, 170.9, 90, 1.2, 1.3)\n",
    "p1.disp()"
   ]
  },
  {
   "cell_type": "code",
   "execution_count": 68,
   "id": "dae1b885",
   "metadata": {},
   "outputs": [],
   "source": [
    "class A:\n",
    "    # 멤버 필드 = 프로퍼티 = 클래스 변수(공통적으로 사용할 값)\n",
    "    name = \"김철수\"\n",
    "    age = 20\n",
    "    \n",
    "    # 멤버 메서드\n",
    "    def disp(self):\n",
    "        self.mesg = \"안녕하세요\"\n",
    "        print(self.mesg)\n",
    "        "
   ]
  },
  {
   "cell_type": "code",
   "execution_count": 69,
   "id": "e45eb877",
   "metadata": {},
   "outputs": [
    {
     "name": "stdout",
     "output_type": "stream",
     "text": [
      "안녕하세요\n"
     ]
    }
   ],
   "source": [
    "ap = A()\n",
    "\n",
    "ap.disp()"
   ]
  },
  {
   "cell_type": "code",
   "execution_count": 71,
   "id": "158d44ba",
   "metadata": {},
   "outputs": [
    {
     "name": "stdout",
     "output_type": "stream",
     "text": [
      "김철수\n",
      "20\n"
     ]
    }
   ],
   "source": [
    "print(ap.name)\n",
    "print(ap.age)"
   ]
  },
  {
   "cell_type": "code",
   "execution_count": 73,
   "id": "25ff804c",
   "metadata": {},
   "outputs": [
    {
     "name": "stdout",
     "output_type": "stream",
     "text": [
      "김철수\n"
     ]
    }
   ],
   "source": [
    "print(A.name)   # 인스턴스 객체를 만들지 않고 클래스명으로 접근 가능"
   ]
  },
  {
   "cell_type": "code",
   "execution_count": 75,
   "id": "101fe925",
   "metadata": {},
   "outputs": [
    {
     "name": "stdout",
     "output_type": "stream",
     "text": [
      "20\n"
     ]
    }
   ],
   "source": [
    "print(A.age)"
   ]
  },
  {
   "cell_type": "code",
   "execution_count": 82,
   "id": "c927fe77",
   "metadata": {},
   "outputs": [
    {
     "ename": "AttributeError",
     "evalue": "type object 'A' has no attribute 'mesg'",
     "output_type": "error",
     "traceback": [
      "\u001b[1;31m---------------------------------------------------------------------------\u001b[0m",
      "\u001b[1;31mAttributeError\u001b[0m                            Traceback (most recent call last)",
      "Input \u001b[1;32mIn [82]\u001b[0m, in \u001b[0;36m<cell line: 1>\u001b[1;34m()\u001b[0m\n\u001b[1;32m----> 1\u001b[0m \u001b[38;5;28mprint\u001b[39m(\u001b[43mA\u001b[49m\u001b[38;5;241;43m.\u001b[39;49m\u001b[43mmesg\u001b[49m)\n",
      "\u001b[1;31mAttributeError\u001b[0m: type object 'A' has no attribute 'mesg'"
     ]
    }
   ],
   "source": [
    "print(A.mesg)   # init에 만든거면 가능하겠지만 메서드 안에 있는 변수라  인스턴스 객체로 접근해야함"
   ]
  },
  {
   "cell_type": "code",
   "execution_count": 78,
   "id": "44f4cda0",
   "metadata": {},
   "outputs": [
    {
     "name": "stdout",
     "output_type": "stream",
     "text": [
      "안녕하세요\n"
     ]
    }
   ],
   "source": [
    "print(ap.mesg)"
   ]
  },
  {
   "cell_type": "code",
   "execution_count": 79,
   "id": "26f2df3e",
   "metadata": {},
   "outputs": [],
   "source": [
    "#초기값 주는거\n",
    "class Person:\n",
    "    nattion = \"korea\"\n",
    "    name = str()\n",
    "    age = int()\n",
    "    height = float()\n",
    "    weight = float()"
   ]
  },
  {
   "cell_type": "code",
   "execution_count": 80,
   "id": "52a15a91",
   "metadata": {},
   "outputs": [
    {
     "name": "stdout",
     "output_type": "stream",
     "text": [
      "['__class__', '__delattr__', '__dict__', '__dir__', '__doc__', '__eq__', '__format__', '__ge__', '__getattribute__', '__gt__', '__hash__', '__init__', '__init_subclass__', '__le__', '__lt__', '__module__', '__ne__', '__new__', '__reduce__', '__reduce_ex__', '__repr__', '__setattr__', '__sizeof__', '__str__', '__subclasshook__', '__weakref__', 'age', 'height', 'name', 'nattion', 'weight']\n"
     ]
    }
   ],
   "source": [
    "# 객채들의 목록을 보여주는 함수 dir()\n",
    "print(dir(Person))"
   ]
  },
  {
   "cell_type": "markdown",
   "id": "bba9c6e2",
   "metadata": {},
   "source": [
    "#### 은행 계좌 관리 프로그램\n",
    "\n",
    "1. 고객의 정보는 이름, 계좌번호, 예금금액만 관리할 것\n",
    "2. 계좌번호는 정수값을 가지되, 중복값을 허용하지 않는다.\n",
    "3. 둘 이상의 고객에 대한 정보를 저장할 수 있도록 구현하시오. (딕셔너리 만ㄷ\n",
    "4. 계좌개설, 입금처리, 출금처리, 전체고객에 대한 계좌잔액 출력에 관한 로직을 구현할 것.\n",
    "5. 입금처리는 계좌번호를 입력받아 해당계좌의 존재유무에 따라 처리가 되도록 구현하되, 입력한 계좌번호가 존재하지 않을경우 \"계좌번호가 존재하지 않습니다.\" 라는 메세지가 출력되도록 구현하시오.\n",
    "6. 출금 처리는 계좌번호를 입력받아 해당계좌의 존재유무에 따라 처리하는것. 로직은 입금처리와 동일하며 출금처리시 계좌의 잔액 유무에 따른 메세지가 출력되돌고 구현할 것. (즉, 출금금액보다 예금잔액이 부족할 경우\"잔액이 부족합니다.\"라는 메세지 출려)\n",
    "7. 기타처리기능은 일반적으로 통용되는 기능을 이용할 것.\n",
    "8. 아래 출력형식에 맞게 프로그램을 구현할 것.\n",
    "\n",
    " <출력형식>\n",
    " ==계좌관리 프로그램 ==         == 계좌개설 ==               == 입금처리 ==    == 입금처리 ==         == 출금처리 ==\n",
    " 1. 계좌개설                    계좌번호                     계좌번호          계좌번호               계좌번호\n",
    " 2. 입금처리                    고객이름                     --------------    입금금액               출금금액\n",
    " 3. 출금처리                    예금금액                    존재하지 않습니다. --------------         --------------\n",
    " 4. 전체고객 잔액조회           ---------------                                입금이 완료되었습니다. 잔액이 부족합니다.\n",
    " 5. 프로그램 종료               계좌계설이 완료되었습니다.\n",
    " ======================\n",
    " 메뉴 ="
   ]
  },
  {
   "cell_type": "code",
   "execution_count": 4,
   "id": "1a372a48",
   "metadata": {},
   "outputs": [
    {
     "ename": "SyntaxError",
     "evalue": "invalid syntax (3096832161.py, line 38)",
     "output_type": "error",
     "traceback": [
      "\u001b[1;36m  Input \u001b[1;32mIn [4]\u001b[1;36m\u001b[0m\n\u001b[1;33m    if Acc.acnum = gogak:\u001b[0m\n\u001b[1;37m                 ^\u001b[0m\n\u001b[1;31mSyntaxError\u001b[0m\u001b[1;31m:\u001b[0m invalid syntax\n"
     ]
    }
   ],
   "source": [
    "# 고객 dict 설정\n",
    "gogak = {}   # dict()\n",
    "\n",
    "# 상위 클래스 설정(계좌정보)\n",
    "class Acc:\n",
    "    # 멤버필드-> 메서드\n",
    "    def __init__(self, acnum, name, cost):\n",
    "        self.acnum  = acnum\n",
    "        self.name = name\n",
    "        self.cost = cost\n",
    "\n",
    "\n",
    "\n",
    "\n",
    "# 하위 프로그램 별 1번(계좌개설)\n",
    "class Acc_op:\n",
    "    def __init__(self, acnum, name, cost):\n",
    "        Acc.__init__(self, acnum)\n",
    "        self.name = name\n",
    "        self.tcost = cost     # int변형?\n",
    "        \n",
    "    #멤버 메서드 : 새로운 계좌 계설, 값이 입력되면 알려줘야지\n",
    "    def new_acc(self):\n",
    "        if Acc.acnum != gogak:\n",
    "            print(\"계좌개설이 완료되었습니다.\")\n",
    "        else:\n",
    "            print(\"이미 있는 계좌번호입니다.\")\n",
    "        \n",
    "    \n",
    "# 2번 입금처리\n",
    "class Acc_p:\n",
    "    def __init__(self, acnum, xcost):\n",
    "        Acc.__init__(self, acnum)\n",
    "        self.xcost = xcost\n",
    "        \n",
    "    # 멤버메서드 : 금액 추가 \n",
    "    def plus_acc(Acc):\n",
    "        if Acc.acnum = gogak:\n",
    "            if \n",
    "# 3번 출금처리\n",
    "class Acc_m:\n",
    "    def __init__(self, acnum, ycost):\n",
    "        Acc.__init__(self, acnum)\n",
    "        self.ycost = ycost\n",
    "        \n",
    "# 4번 전체고객 잔액 조회\n",
    "class Acc_a:\n",
    "    def __init__(self,acnum, name, rcost):\n",
    "        Acc.__init__(self, acnum, name)\n",
    "        self.rcost = #계좌별 예금잔액\n",
    "        #토탈 잔액과 고객수가 나오게 구현하긴 할건데 일단 틀만 잡음\n",
    "    \n",
    "    \n"
   ]
  },
  {
   "cell_type": "code",
   "execution_count": 6,
   "id": "7c3b3677",
   "metadata": {},
   "outputs": [
    {
     "name": "stdout",
     "output_type": "stream",
     "text": [
      "== 계좌관리 프로그램 ==\n",
      "1. 계좌개설\n",
      "2. 입금처리\n",
      "3. 출금처리\n",
      "4. 전체고객 잔액 조회\n",
      "5. 프로그램 종료\n",
      "=======================\n",
      "메뉴 = \n",
      "메뉴의 선택이 올바르지 않습니다.\n",
      "== 계좌관리 프로그램 ==\n",
      "1. 계좌개설\n",
      "2. 입금처리\n",
      "3. 출금처리\n",
      "4. 전체고객 잔액 조회\n",
      "5. 프로그램 종료\n",
      "=======================\n",
      "메뉴 = 1\n",
      "사용할 계좌번호를 입력하시오: 12345\n"
     ]
    },
    {
     "ename": "AttributeError",
     "evalue": "'dict' object has no attribute 'acnum'",
     "output_type": "error",
     "traceback": [
      "\u001b[1;31m---------------------------------------------------------------------------\u001b[0m",
      "\u001b[1;31mAttributeError\u001b[0m                            Traceback (most recent call last)",
      "Input \u001b[1;32mIn [6]\u001b[0m, in \u001b[0;36m<cell line: 6>\u001b[1;34m()\u001b[0m\n\u001b[0;32m     17\u001b[0m \u001b[38;5;28;01mif\u001b[39;00m menu \u001b[38;5;241m==\u001b[39m \u001b[38;5;124m\"\u001b[39m\u001b[38;5;124m1\u001b[39m\u001b[38;5;124m\"\u001b[39m:\n\u001b[0;32m     18\u001b[0m     new  \u001b[38;5;241m=\u001b[39m \u001b[38;5;28mint\u001b[39m(\u001b[38;5;28minput\u001b[39m(\u001b[38;5;124m\"\u001b[39m\u001b[38;5;124m사용할 계좌번호를 입력하시오: \u001b[39m\u001b[38;5;124m\"\u001b[39m))\n\u001b[1;32m---> 19\u001b[0m     \u001b[38;5;28;01mif\u001b[39;00m new \u001b[38;5;241m!=\u001b[39m \u001b[43mgogak\u001b[49m\u001b[38;5;241;43m.\u001b[39;49m\u001b[43macnum\u001b[49m:\n\u001b[0;32m     20\u001b[0m         name \u001b[38;5;241m=\u001b[39m \u001b[38;5;28minput\u001b[39m(\u001b[38;5;124m\"\u001b[39m\u001b[38;5;124m성명: \u001b[39m\u001b[38;5;124m\"\u001b[39m)\n\u001b[0;32m     21\u001b[0m         cost \u001b[38;5;241m=\u001b[39m \u001b[38;5;28minput\u001b[39m(\u001b[38;5;124m\"\u001b[39m\u001b[38;5;124m예금금액:\u001b[39m\u001b[38;5;124m\"\u001b[39m)\n",
      "\u001b[1;31mAttributeError\u001b[0m: 'dict' object has no attribute 'acnum'"
     ]
    }
   ],
   "source": [
    "# 프로그램 툴 : 메뉴바가 보이는 화면을만들고, 각각 계산을 하는 함수식을 만들것, \n",
    "# 전체 고객 저장객체\n",
    "gogak = {}\n",
    "\n",
    "while True:\n",
    "    print(\"== 계좌관리 프로그램 ==\")\n",
    "    print(\"1. 계좌개설\")\n",
    "    print(\"2. 입금처리\")\n",
    "    print(\"3. 출금처리\")\n",
    "    print(\"4. 전체고객 잔액 조회\")\n",
    "    print(\"5. 프로그램 종료\")\n",
    "    print(\"=======================\")\n",
    "    \n",
    "    menu = input(\"메뉴 = \")\n",
    "    \n",
    "    # 1번 프로그램 실행\n",
    "    if menu == \"1\":\n",
    "        new  = int(input(\"사용할 계좌번호를 입력하시오: \"))\n",
    "        if new != gogak.acnum:\n",
    "            name = input(\"성명: \")\n",
    "            cost = input(\"예금금액:\")\n",
    "            cus = Acc_op(acnum, name, cost)\n",
    "        else:\n",
    "            print(\"사용할 수 없는 계좌번호입니다.\")\n",
    "            \n",
    "        gogak.append(cus)\n",
    "        print(\"계좌등록이 완료 되었습니다.\")\n",
    "        \n",
    "    # 2번 프로그램 실행\n",
    "    elif menu == \"2\":\n",
    "        print(\"== 입금관리 ==\")\n",
    "        acc = int(input(\"계좌번호: \"))\n",
    "        if acc == gogak.acnum:\n",
    "            xcost = input(\"입금할 금액: \")\n",
    "            rcost = cost + xcost\n",
    "            cus = Acc_p(acnum, rcost)\n",
    "        else:\n",
    "            print(\"조회되지 않는 계좌번호 입니다.\")\n",
    "            \n",
    "        gogak.append(cus)\n",
    "        print(\"계좌 입금이 완료되었습니다.\")\n",
    "        \n",
    "    # 3번 프로그램 실행\n",
    "    elif menu == \"3\":\n",
    "        print(\"== 출금관리 ==\")\n",
    "        acc = int(input(\"계좌번호: \"))\n",
    "        if acc == gogak.acnum:\n",
    "            ycost = input(\"출금할 금액: \")\n",
    "            if ycost <= cost:\n",
    "                rcost = cost - ycost\n",
    "                print(\"계좌출금이 완료되었습니다.\")\n",
    "            else:\n",
    "                print(\"잔액이 부족합니다.\")\n",
    "            cus = Acc_p(acnum, rcost)\n",
    "        \n",
    "    # 4번 프로그램 실행\n",
    "    elif menu == \"4\":\n",
    "        print(\"\\n== 전체 고객 잔액정보 조회 ==\")\n",
    "        for cus in gogak:\n",
    "            # 고객정보 출력하는 함수\n",
    "            pass\n",
    "        print(\"전체 고객정보 출력이 완료되었습니다.\")\n",
    "        \n",
    "    # 5번 프로그램\n",
    "    elif menu == 4:\n",
    "        print(\"프로그램을 종료합니다.\")\n",
    "        break\n",
    "    else:\n",
    "        print(\"메뉴의 선택이 올바르지 않습니다.\")"
   ]
  },
  {
   "cell_type": "code",
   "execution_count": null,
   "id": "54a44c69",
   "metadata": {},
   "outputs": [],
   "source": []
  }
 ],
 "metadata": {
  "kernelspec": {
   "display_name": "Python 3 (ipykernel)",
   "language": "python",
   "name": "python3"
  },
  "language_info": {
   "codemirror_mode": {
    "name": "ipython",
    "version": 3
   },
   "file_extension": ".py",
   "mimetype": "text/x-python",
   "name": "python",
   "nbconvert_exporter": "python",
   "pygments_lexer": "ipython3",
   "version": "3.9.12"
  },
  "toc": {
   "base_numbering": 1,
   "nav_menu": {},
   "number_sections": true,
   "sideBar": true,
   "skip_h1_title": false,
   "title_cell": "Table of Contents",
   "title_sidebar": "Contents",
   "toc_cell": false,
   "toc_position": {},
   "toc_section_display": true,
   "toc_window_display": false
  }
 },
 "nbformat": 4,
 "nbformat_minor": 5
}
