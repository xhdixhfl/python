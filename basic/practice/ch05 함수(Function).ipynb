{
 "cells": [
  {
   "cell_type": "code",
   "execution_count": 1,
   "id": "53b93d18",
   "metadata": {},
   "outputs": [
    {
     "name": "stdout",
     "output_type": "stream",
     "text": [
      "Hello Python\n"
     ]
    }
   ],
   "source": [
    "print(\"Hello Python\")   # 내장 함수"
   ]
  },
  {
   "cell_type": "code",
   "execution_count": 2,
   "id": "fac295ae",
   "metadata": {},
   "outputs": [
    {
     "name": "stdout",
     "output_type": "stream",
     "text": [
      "30\n"
     ]
    }
   ],
   "source": [
    "a = 10    # 10, 20 고정된 값\n",
    "b = 20\n",
    "print(a + b)"
   ]
  },
  {
   "cell_type": "code",
   "execution_count": 4,
   "id": "774f8ad8",
   "metadata": {},
   "outputs": [
    {
     "name": "stdout",
     "output_type": "stream",
     "text": [
      "su = 10\n",
      "su = 5\n",
      "15\n"
     ]
    }
   ],
   "source": [
    "a = int(input(\"su = \"))   # 입력값에 따라 바뀜\n",
    "b = int(input(\"su = \"))\n",
    "print(a + b)"
   ]
  },
  {
   "cell_type": "code",
   "execution_count": 5,
   "id": "2a941eaa",
   "metadata": {},
   "outputs": [],
   "source": [
    "def adder(x, y):   # x,y는 입력받을 값\n",
    "    return x+y      # c나 c++ 은 리턴 뒤에 하나의 값만 올 수 있음"
   ]
  },
  {
   "cell_type": "code",
   "execution_count": 6,
   "id": "254b93bf",
   "metadata": {},
   "outputs": [
    {
     "data": {
      "text/plain": [
       "15"
      ]
     },
     "execution_count": 6,
     "metadata": {},
     "output_type": "execute_result"
    }
   ],
   "source": [
    "# 함수 호출 : call by name, call by value(매게변수를 가지고 호출)\n",
    "adder(10,5)"
   ]
  },
  {
   "cell_type": "code",
   "execution_count": 7,
   "id": "aed154ce",
   "metadata": {},
   "outputs": [],
   "source": [
    "def process(a,b,c):\n",
    "    pass     # 아직 내용이 정해져 있지 않을 때"
   ]
  },
  {
   "cell_type": "code",
   "execution_count": 8,
   "id": "27a16469",
   "metadata": {},
   "outputs": [],
   "source": [
    "def test():\n",
    "    return 1,2,3,4,5     #(1,2,3,4,5)"
   ]
  },
  {
   "cell_type": "code",
   "execution_count": 9,
   "id": "d2fe1477",
   "metadata": {},
   "outputs": [
    {
     "data": {
      "text/plain": [
       "(1, 2, 3, 4, 5)"
      ]
     },
     "execution_count": 9,
     "metadata": {},
     "output_type": "execute_result"
    }
   ],
   "source": [
    "test()"
   ]
  },
  {
   "cell_type": "markdown",
   "id": "3ebfb73b",
   "metadata": {},
   "source": [
    "### 내장 함수\n",
    "- 정의가 되어 있는 함수, print, input..."
   ]
  },
  {
   "cell_type": "code",
   "execution_count": 10,
   "id": "497f9acf",
   "metadata": {},
   "outputs": [
    {
     "name": "stdout",
     "output_type": "stream",
     "text": [
      "3\n",
      "3\n"
     ]
    }
   ],
   "source": [
    "# 절대값\n",
    "print(abs(-3))\n",
    "print(abs(3))"
   ]
  },
  {
   "cell_type": "code",
   "execution_count": 12,
   "id": "808799d3",
   "metadata": {},
   "outputs": [
    {
     "name": "stdout",
     "output_type": "stream",
     "text": [
      "True\n",
      "False\n"
     ]
    }
   ],
   "source": [
    "# all() : 모든 값이 True인지 검사하는 함수, 논리연산자의 and느낌\n",
    "# 0과 1,  0을 제외한 값들은 참으로 본다\n",
    "print(all([1,2,3]))\n",
    "print(all([1,2,3,0]))\n"
   ]
  },
  {
   "cell_type": "code",
   "execution_count": 13,
   "id": "d5051802",
   "metadata": {},
   "outputs": [
    {
     "name": "stdout",
     "output_type": "stream",
     "text": [
      "True\n",
      "True\n",
      "False\n"
     ]
    }
   ],
   "source": [
    "# any( ) : 한 개라도 true면 True,  논리연산자의 or느낌\n",
    "print(any([1,2,3]))\n",
    "print(any([1,2,3,0]))\n",
    "print(any([0,0,0,0]))"
   ]
  },
  {
   "cell_type": "code",
   "execution_count": 14,
   "id": "efc7b126",
   "metadata": {},
   "outputs": [
    {
     "name": "stdout",
     "output_type": "stream",
     "text": [
      "True\n"
     ]
    }
   ],
   "source": [
    "# 문자열의 경우 빈 값이면 False, 값이 있으면 True\n",
    "a = \"hello\"\n",
    "\n",
    "if a:\n",
    "    print(\"True\")\n",
    "else:\n",
    "    print(\"False\")"
   ]
  },
  {
   "cell_type": "code",
   "execution_count": 15,
   "id": "03c38276",
   "metadata": {},
   "outputs": [
    {
     "name": "stdout",
     "output_type": "stream",
     "text": [
      "False\n"
     ]
    }
   ],
   "source": [
    "a = \"\"\n",
    "\n",
    "if a:\n",
    "    print(\"True\")\n",
    "else:\n",
    "    print(\"False\")"
   ]
  },
  {
   "cell_type": "code",
   "execution_count": 16,
   "id": "156b99d1",
   "metadata": {},
   "outputs": [
    {
     "name": "stdout",
     "output_type": "stream",
     "text": [
      "['__add__', '__class__', '__class_getitem__', '__contains__', '__delattr__', '__delitem__', '__dir__', '__doc__', '__eq__', '__format__', '__ge__', '__getattribute__', '__getitem__', '__gt__', '__hash__', '__iadd__', '__imul__', '__init__', '__init_subclass__', '__iter__', '__le__', '__len__', '__lt__', '__mul__', '__ne__', '__new__', '__reduce__', '__reduce_ex__', '__repr__', '__reversed__', '__rmul__', '__setattr__', '__setitem__', '__sizeof__', '__str__', '__subclasshook__', 'append', 'clear', 'copy', 'count', 'extend', 'index', 'insert', 'pop', 'remove', 'reverse', 'sort']\n"
     ]
    }
   ],
   "source": [
    "print(dir([1,2,3]))  # 객체의 멤버 목록(변수나 함수)"
   ]
  },
  {
   "cell_type": "code",
   "execution_count": 17,
   "id": "6acb3e12",
   "metadata": {},
   "outputs": [
    {
     "name": "stdout",
     "output_type": "stream",
     "text": [
      "['__class__', '__class_getitem__', '__contains__', '__delattr__', '__delitem__', '__dir__', '__doc__', '__eq__', '__format__', '__ge__', '__getattribute__', '__getitem__', '__gt__', '__hash__', '__init__', '__init_subclass__', '__ior__', '__iter__', '__le__', '__len__', '__lt__', '__ne__', '__new__', '__or__', '__reduce__', '__reduce_ex__', '__repr__', '__reversed__', '__ror__', '__setattr__', '__setitem__', '__sizeof__', '__str__', '__subclasshook__', 'clear', 'copy', 'fromkeys', 'get', 'items', 'keys', 'pop', 'popitem', 'setdefault', 'update', 'values']\n"
     ]
    }
   ],
   "source": [
    "print(dir({'name':'hong'}))"
   ]
  },
  {
   "cell_type": "code",
   "execution_count": 18,
   "id": "27a9ef5b",
   "metadata": {},
   "outputs": [
    {
     "name": "stdout",
     "output_type": "stream",
     "text": [
      "몫 : 2, 나머지 : 1\n"
     ]
    }
   ],
   "source": [
    "a = 7\n",
    "b = 3\n",
    "c = a // b   # 정수 몫\n",
    "d = a % b    # 나머지\n",
    "print(\"몫 : {}, 나머지 : {}\".format(c, d))"
   ]
  },
  {
   "cell_type": "code",
   "execution_count": 19,
   "id": "9229ba89",
   "metadata": {},
   "outputs": [
    {
     "name": "stdout",
     "output_type": "stream",
     "text": [
      "(2, 1)\n",
      "(6.0, 0.09999999999999998)\n"
     ]
    }
   ],
   "source": [
    "print(divmod(7,3))   # 몫과 나머지가 튜플 형식으로 리턴된다.\n",
    "print(divmod(1.3, 0.2))"
   ]
  },
  {
   "cell_type": "code",
   "execution_count": 21,
   "id": "1c82f59f",
   "metadata": {},
   "outputs": [
    {
     "name": "stdout",
     "output_type": "stream",
     "text": [
      "몫 : 2, 나머지 : 1\n"
     ]
    }
   ],
   "source": [
    "n1, n2 = divmod(7,3)\n",
    "print(\"몫 : {}, 나머지 : {}\".format( n1, n2))"
   ]
  },
  {
   "cell_type": "code",
   "execution_count": 22,
   "id": "bdec0c99",
   "metadata": {},
   "outputs": [
    {
     "name": "stdout",
     "output_type": "stream",
     "text": [
      "<enumerate object at 0x000002452446FFC0>\n"
     ]
    }
   ],
   "source": [
    "# 인덱스와 값을 리턴하는 함수 :enumerate()\n",
    "print(enumerate([10,20,30,40,50]))    #주소가 출력"
   ]
  },
  {
   "cell_type": "code",
   "execution_count": 23,
   "id": "4c0c880f",
   "metadata": {},
   "outputs": [
    {
     "name": "stdout",
     "output_type": "stream",
     "text": [
      "[(0, 10), (1, 20), (2, 30), (3, 40), (4, 50)]\n"
     ]
    }
   ],
   "source": [
    "print(list(enumerate([10,20,30,40,50])))   # list로 인덱스와 값을 같이"
   ]
  },
  {
   "cell_type": "code",
   "execution_count": 25,
   "id": "be7db0f5",
   "metadata": {},
   "outputs": [
    {
     "name": "stdout",
     "output_type": "stream",
     "text": [
      "0 10\n",
      "1 20\n",
      "2 30\n",
      "3 40\n",
      "4 50\n"
     ]
    }
   ],
   "source": [
    "for index, value in enumerate([10,20,30,40,50]):\n",
    "    print(index, value)"
   ]
  },
  {
   "cell_type": "code",
   "execution_count": 26,
   "id": "1b5bd470",
   "metadata": {},
   "outputs": [
    {
     "name": "stdout",
     "output_type": "stream",
     "text": [
      "number =7\n",
      "14\n"
     ]
    }
   ],
   "source": [
    "# eval() : 문자열의 따옴표를 제거하고 실행하는 함수\n",
    "num = eval(input(\"number =\"))\n",
    "\n",
    "print(num + 7)"
   ]
  },
  {
   "cell_type": "code",
   "execution_count": 28,
   "id": "b2c5fcb2",
   "metadata": {},
   "outputs": [
    {
     "ename": "ValueError",
     "evalue": "invalid literal for int() with base 10: 'divmod(7,3)'",
     "output_type": "error",
     "traceback": [
      "\u001b[1;31m---------------------------------------------------------------------------\u001b[0m",
      "\u001b[1;31mValueError\u001b[0m                                Traceback (most recent call last)",
      "Input \u001b[1;32mIn [28]\u001b[0m, in \u001b[0;36m<cell line: 3>\u001b[1;34m()\u001b[0m\n\u001b[0;32m      1\u001b[0m \u001b[38;5;28mstr\u001b[39m \u001b[38;5;241m=\u001b[39m \u001b[38;5;124m\"\u001b[39m\u001b[38;5;124mdivmod(7,3)\u001b[39m\u001b[38;5;124m\"\u001b[39m\n\u001b[1;32m----> 3\u001b[0m \u001b[38;5;28mprint\u001b[39m(\u001b[38;5;28;43mint\u001b[39;49m\u001b[43m(\u001b[49m\u001b[38;5;28;43mstr\u001b[39;49m\u001b[43m)\u001b[49m)\n",
      "\u001b[1;31mValueError\u001b[0m: invalid literal for int() with base 10: 'divmod(7,3)'"
     ]
    }
   ],
   "source": [
    "str = \"divmod(7,3)\"\n",
    "\n",
    "print(int(str))"
   ]
  },
  {
   "cell_type": "code",
   "execution_count": 29,
   "id": "7fb0f994",
   "metadata": {},
   "outputs": [
    {
     "name": "stdout",
     "output_type": "stream",
     "text": [
      "(2, 1)\n"
     ]
    }
   ],
   "source": [
    "str = \"divmod(7,3)\"\n",
    "\n",
    "print(eval(str))"
   ]
  },
  {
   "cell_type": "code",
   "execution_count": 30,
   "id": "d7590529",
   "metadata": {},
   "outputs": [
    {
     "name": "stdout",
     "output_type": "stream",
     "text": [
      "0xea\n"
     ]
    }
   ],
   "source": [
    "print(hex(234))  # 앞에 접두어로 0x가 붙어있으면 16진수"
   ]
  },
  {
   "cell_type": "code",
   "execution_count": 31,
   "id": "e954cae7",
   "metadata": {},
   "outputs": [
    {
     "name": "stdout",
     "output_type": "stream",
     "text": [
      "0x3\n"
     ]
    }
   ],
   "source": [
    "print(hex(3))    # 접두어로 0이면 8진수"
   ]
  },
  {
   "cell_type": "code",
   "execution_count": 33,
   "id": "338e0783",
   "metadata": {},
   "outputs": [
    {
     "name": "stdout",
     "output_type": "stream",
     "text": [
      "2495870757232 2495870757232\n",
      "2495870757232\n"
     ]
    }
   ],
   "source": [
    "# id(객체)  - 객체의 주소를 리턴하는 함수\n",
    "a = 3\n",
    "print(id(a), id(3))\n",
    "\n",
    "b=a\n",
    "print(id(b))"
   ]
  },
  {
   "cell_type": "code",
   "execution_count": 34,
   "id": "39fc7de4",
   "metadata": {},
   "outputs": [
    {
     "name": "stdout",
     "output_type": "stream",
     "text": [
      "t\n",
      "t\n"
     ]
    }
   ],
   "source": [
    "a = input()\n",
    "print(a)"
   ]
  },
  {
   "cell_type": "code",
   "execution_count": 35,
   "id": "6472300d",
   "metadata": {},
   "outputs": [
    {
     "name": "stdout",
     "output_type": "stream",
     "text": [
      "입력 = 5\n",
      "5\n"
     ]
    }
   ],
   "source": [
    "b = input(\"입력 = \")\n",
    "print(b)"
   ]
  },
  {
   "cell_type": "code",
   "execution_count": 39,
   "id": "4b0568c6",
   "metadata": {},
   "outputs": [
    {
     "name": "stdout",
     "output_type": "stream",
     "text": [
      "3\n",
      "<class 'int'>\n",
      "3\n",
      "15\n",
      "255\n"
     ]
    }
   ],
   "source": [
    "a = int(\"3\")     # 문자열을 정수형으로 변환하는 함수\n",
    "print(a)\n",
    "print(type(a))\n",
    "\n",
    "b = int(3.4)   # 실수형을 정수형으로 변환\n",
    "print(b)\n",
    "\n",
    "c = int(\"1111\", 2)  # 문자열을 2진수로 변환\n",
    "print(c)\n",
    "\n",
    "d = int(\"FF\", 16)\n",
    "print(d)"
   ]
  },
  {
   "cell_type": "code",
   "execution_count": 40,
   "id": "68cab3af",
   "metadata": {},
   "outputs": [
    {
     "name": "stdout",
     "output_type": "stream",
     "text": [
      "['사과', '배', '수박', '바나나', '포도']\n"
     ]
    }
   ],
   "source": [
    "a = ['사과', '배', '수박', '바나나','포도']\n",
    "print(a)"
   ]
  },
  {
   "cell_type": "code",
   "execution_count": 43,
   "id": "6b33e282",
   "metadata": {},
   "outputs": [
    {
     "name": "stdout",
     "output_type": "stream",
     "text": [
      "사과,배,수박,바나나,포도,\n"
     ]
    }
   ],
   "source": [
    "result = \"\"     # 마지막 값에도 ,가 들어가게 출력됨\n",
    "for i in a:\n",
    "    result += i+\",\"    # result = result + ( i + ,)\n",
    "print(result)"
   ]
  },
  {
   "cell_type": "code",
   "execution_count": 44,
   "id": "3b421d05",
   "metadata": {},
   "outputs": [
    {
     "name": "stdout",
     "output_type": "stream",
     "text": [
      "사과,배,수박,바나나,포도\n",
      "사과/배/수박/바나나/포도\n",
      "사과-배-수박-바나나-포도\n",
      "사과\n",
      "배\n",
      "수박\n",
      "바나나\n",
      "포도\n"
     ]
    }
   ],
   "source": [
    "# 조인 함수를 이용하여 구분자 첨가하기\n",
    "a = ['사과', '배', '수박', '바나나','포도']\n",
    "print(\",\".join(a))\n",
    "print(\"/\".join(a))\n",
    "print(\"-\".join(a))\n",
    "print(\"\\n\".join(a))\n"
   ]
  },
  {
   "cell_type": "code",
   "execution_count": 45,
   "id": "f1c405c3",
   "metadata": {},
   "outputs": [
    {
     "name": "stdout",
     "output_type": "stream",
     "text": [
      "6\n"
     ]
    }
   ],
   "source": [
    "# len() 요소의 개수\n",
    "a = len(\"python\")\n",
    "print(a)"
   ]
  },
  {
   "cell_type": "code",
   "execution_count": 47,
   "id": "d31b315e",
   "metadata": {},
   "outputs": [
    {
     "name": "stdout",
     "output_type": "stream",
     "text": [
      "3\n"
     ]
    }
   ],
   "source": [
    "b = len([1,2,3])\n",
    "print(b)"
   ]
  },
  {
   "cell_type": "code",
   "execution_count": 48,
   "id": "9442d4fa",
   "metadata": {},
   "outputs": [
    {
     "name": "stdout",
     "output_type": "stream",
     "text": [
      "2\n"
     ]
    }
   ],
   "source": [
    "c = len((1,'a'))\n",
    "print(c)"
   ]
  },
  {
   "cell_type": "code",
   "execution_count": 49,
   "id": "50957cca",
   "metadata": {},
   "outputs": [
    {
     "name": "stdout",
     "output_type": "stream",
     "text": [
      "['p', 'y', 't', 'h', 'o', 'n']\n",
      "[1, 2, 3]\n"
     ]
    }
   ],
   "source": [
    "# list(), Tuple()\n",
    "a = list(\"python\")   # 문자열을 리스트로 변환\n",
    "print(a)\n",
    "b = list((1,2,3))   # 튜플을 리스트로 변환\n",
    "print(b)"
   ]
  },
  {
   "cell_type": "markdown",
   "id": "11afe6be",
   "metadata": {},
   "source": [
    "### 사용자 정의 함수"
   ]
  },
  {
   "cell_type": "code",
   "execution_count": 53,
   "id": "62f012a1",
   "metadata": {},
   "outputs": [],
   "source": [
    "def calc(x):\n",
    " #   print(\"x = \", x)\n",
    "    return x * 2"
   ]
  },
  {
   "cell_type": "code",
   "execution_count": 54,
   "id": "e35d7eaf",
   "metadata": {},
   "outputs": [
    {
     "name": "stdout",
     "output_type": "stream",
     "text": [
      "x =  1\n",
      "x =  2\n",
      "x =  3\n",
      "x =  4\n",
      "[2, 4, 6, 8]\n"
     ]
    }
   ],
   "source": [
    "a = [calc(1), calc(2), calc(3),calc(4)]\n",
    "print(a)"
   ]
  },
  {
   "cell_type": "code",
   "execution_count": 55,
   "id": "b2428b69",
   "metadata": {},
   "outputs": [
    {
     "name": "stdout",
     "output_type": "stream",
     "text": [
      "x =  1\n",
      "x =  2\n",
      "x =  3\n",
      "x =  4\n",
      "[2, 4, 6, 8]\n"
     ]
    }
   ],
   "source": [
    "a = []   # 비어있는 리스트 객체 생성\n",
    "\n",
    "for i in [1,2,3,4]:\n",
    "    a.append(calc(i))\n",
    "print(a)"
   ]
  },
  {
   "cell_type": "code",
   "execution_count": 56,
   "id": "7b3f042c",
   "metadata": {},
   "outputs": [
    {
     "name": "stdout",
     "output_type": "stream",
     "text": [
      "x =  1\n",
      "x =  2\n",
      "x =  3\n",
      "x =  4\n",
      "[2, 4, 6, 8]\n"
     ]
    }
   ],
   "source": [
    "# map(함수이름, 입력값리스트)\n",
    "a = list(map(calc, [1,2,3,4]))\n",
    "print(a)"
   ]
  },
  {
   "cell_type": "code",
   "execution_count": 1,
   "id": "3ddcef97",
   "metadata": {},
   "outputs": [
    {
     "name": "stdout",
     "output_type": "stream",
     "text": [
      "이\n",
      "51060\n"
     ]
    }
   ],
   "source": [
    "c = \"이\"\n",
    "print(c)\n",
    "print(ord(c))   # ord(문자) : 문자코드"
   ]
  },
  {
   "cell_type": "code",
   "execution_count": 2,
   "id": "e45fc550",
   "metadata": {},
   "outputs": [
    {
     "name": "stdout",
     "output_type": "stream",
     "text": [
      "P => 80\n",
      "y => 121\n",
      "t => 116\n",
      "h => 104\n",
      "o => 111\n",
      "n => 110\n"
     ]
    }
   ],
   "source": [
    "a = 'Python'\n",
    "for i in a:\n",
    "    print(\"{0} => {1}\".format(i,ord(i)))"
   ]
  },
  {
   "cell_type": "code",
   "execution_count": 3,
   "id": "9dfe11cc",
   "metadata": {
    "scrolled": true
   },
   "outputs": [
    {
     "name": "stdout",
     "output_type": "stream",
     "text": [
      "3\n",
      "y\n",
      "h\n"
     ]
    }
   ],
   "source": [
    "a = max([1,2,3])\n",
    "print(a)\n",
    "\n",
    "b = max(\"python\")  # 알파벳순으로 끝에 위치한\n",
    "print(b) \n",
    "\n",
    "b = min(\"python\")   # 알파벳순으로 처음에 위치한\n",
    "print(b)"
   ]
  },
  {
   "cell_type": "code",
   "execution_count": 4,
   "id": "f6f27ff5",
   "metadata": {},
   "outputs": [
    {
     "name": "stdout",
     "output_type": "stream",
     "text": [
      "16\n",
      "16\n"
     ]
    }
   ],
   "source": [
    "# pow(거듭제곱)\n",
    "\n",
    "a = pow(2,4)\n",
    "print(a)\n",
    "print(2**4)"
   ]
  },
  {
   "cell_type": "code",
   "execution_count": 5,
   "id": "736aadf9",
   "metadata": {},
   "outputs": [],
   "source": [
    "# 호출방법 : call by name(이름에 의한 호출), call by value(값에 의한 호출)\n",
    "#            call by reference(주소에 의한 호출)\n",
    "\n",
    "## 함수선언\n",
    "def say():\n",
    "    a = \"Hello\"\n",
    "    return a\n",
    "# Hello라는 문자열을 되돌려주는게 return, 함수는 호출해야 사용이 가능한것"
   ]
  },
  {
   "cell_type": "code",
   "execution_count": 6,
   "id": "b38ffa22",
   "metadata": {},
   "outputs": [
    {
     "data": {
      "text/plain": [
       "'Hello'"
      ]
     },
     "execution_count": 6,
     "metadata": {},
     "output_type": "execute_result"
    }
   ],
   "source": [
    "say()  # 함수를 선언해야 호출이가능"
   ]
  },
  {
   "cell_type": "code",
   "execution_count": 7,
   "id": "848aea6a",
   "metadata": {},
   "outputs": [],
   "source": [
    "a = say()"
   ]
  },
  {
   "cell_type": "code",
   "execution_count": 8,
   "id": "6f8316bb",
   "metadata": {},
   "outputs": [
    {
     "name": "stdout",
     "output_type": "stream",
     "text": [
      "Hello\n"
     ]
    }
   ],
   "source": [
    "print(a)"
   ]
  },
  {
   "cell_type": "code",
   "execution_count": 9,
   "id": "f3ba60bd",
   "metadata": {},
   "outputs": [],
   "source": [
    "# 함수 선언\n",
    "def hello(name): #매개변수 1개 존재 \n",
    "    string = \"hello, {}\".format(name)\n",
    "    print(string)"
   ]
  },
  {
   "cell_type": "code",
   "execution_count": 10,
   "id": "1ecb9607",
   "metadata": {},
   "outputs": [
    {
     "name": "stdout",
     "output_type": "stream",
     "text": [
      "hello, 홍길동\n"
     ]
    }
   ],
   "source": [
    "# 호출   - call by value\n",
    "hello(\"홍길동\")"
   ]
  },
  {
   "cell_type": "code",
   "execution_count": null,
   "id": "dbb1335b",
   "metadata": {},
   "outputs": [],
   "source": [
    "def hello(name): #매개변수 1개 존재 \n",
    "    string = \"hello, {}\".format(name)\n",
    "    print(string)\n",
    "    return string"
   ]
  }
 ],
 "metadata": {
  "kernelspec": {
   "display_name": "Python 3 (ipykernel)",
   "language": "python",
   "name": "python3"
  },
  "language_info": {
   "codemirror_mode": {
    "name": "ipython",
    "version": 3
   },
   "file_extension": ".py",
   "mimetype": "text/x-python",
   "name": "python",
   "nbconvert_exporter": "python",
   "pygments_lexer": "ipython3",
   "version": "3.9.12"
  },
  "toc": {
   "base_numbering": 1,
   "nav_menu": {},
   "number_sections": true,
   "sideBar": true,
   "skip_h1_title": false,
   "title_cell": "Table of Contents",
   "title_sidebar": "Contents",
   "toc_cell": false,
   "toc_position": {},
   "toc_section_display": true,
   "toc_window_display": false
  }
 },
 "nbformat": 4,
 "nbformat_minor": 5
}
